{
 "cells": [
  {
   "cell_type": "markdown",
   "metadata": {},
   "source": [
    "# Final Project"
   ]
  },
  {
   "cell_type": "markdown",
   "metadata": {},
   "source": [
    "**==========================================================================================================**"
   ]
  },
  {
   "cell_type": "markdown",
   "metadata": {},
   "source": [
    "## Project Description / Business Task"
   ]
  },
  {
   "cell_type": "markdown",
   "metadata": {},
   "source": [
    "○\tAnswer all the questions in this document\n",
    "\n",
    "○\tWhen complete, download this as a PDF document for submission in the peer review assignment. \n"
   ]
  },
  {
   "cell_type": "markdown",
   "metadata": {},
   "source": [
    "You are being provided with data about sales at a store. You can access this data by clicking here [ADD LINK] and clicking on Use Template in the upper right corner. \n",
    "\n",
    "This data has issues that need to be fixed before it can be used for your data analysis project. some issues may include:\n",
    "\n",
    "●\tDuplicate records\n",
    "\n",
    "●\tMissing values\n",
    "\n",
    "●\tObviously wrong values\n"
   ]
  },
  {
   "cell_type": "markdown",
   "metadata": {},
   "source": [
    "**==========================================================================================================**"
   ]
  },
  {
   "cell_type": "markdown",
   "metadata": {},
   "source": [
    "## Import Libraries"
   ]
  },
  {
   "cell_type": "code",
   "execution_count": 1,
   "metadata": {},
   "outputs": [
    {
     "data": {
      "application/javascript": [
       "IPython.notebook.set_autosave_interval(60000)"
      ]
     },
     "metadata": {},
     "output_type": "display_data"
    },
    {
     "name": "stdout",
     "output_type": "stream",
     "text": [
      "Autosaving every 60 seconds\n"
     ]
    }
   ],
   "source": [
    "import numpy as np\n",
    "#from numpy import count_nonzero, median, mean\n",
    "import pandas as pd\n",
    "from pandas.plotting import scatter_matrix\n",
    "import matplotlib.pyplot as plt\n",
    "import seaborn as sns\n",
    "import random\n",
    "#import squarify\n",
    "\n",
    "import sqlite3\n",
    "\n",
    "\n",
    "import datetime\n",
    "from datetime import datetime, timedelta, date\n",
    "\n",
    "import scipy\n",
    "from scipy import stats\n",
    "from scipy.stats.mstats import normaltest # D'Agostino K^2 Test\n",
    "from scipy.stats import boxcox\n",
    "from collections import Counter\n",
    "\n",
    "# Use Feature-Engine library\n",
    "import feature_engine\n",
    "\n",
    "from feature_engine.imputation import AddMissingIndicator, CategoricalImputer, DropMissingData, MeanMedianImputer\n",
    "from feature_engine.imputation import ArbitraryNumberImputer, RandomSampleImputer\n",
    "\n",
    "%matplotlib inline\n",
    "#sets the default autosave frequency in seconds\n",
    "%autosave 60 \n",
    "sns.set_style('dark')\n",
    "sns.set(font_scale=1.2)\n",
    "#sns.set(rc={'figure.figsize':(14,10)})\n",
    "\n",
    "plt.rc('axes', titlesize=9)\n",
    "plt.rc('axes', labelsize=14)\n",
    "plt.rc('xtick', labelsize=12)\n",
    "plt.rc('ytick', labelsize=12)\n",
    "\n",
    "import warnings\n",
    "warnings.filterwarnings('ignore')\n",
    "\n",
    "pd.set_option('display.max_columns',None)\n",
    "#pd.set_option('display.max_rows',None)\n",
    "pd.set_option('display.width', 1000)\n",
    "pd.set_option('display.float_format','{:.2f}'.format)\n",
    "\n",
    "random.seed(0)\n",
    "np.random.seed(0)\n",
    "np.set_printoptions(suppress=True)"
   ]
  },
  {
   "cell_type": "markdown",
   "metadata": {},
   "source": [
    "**==========================================================================================================**"
   ]
  },
  {
   "cell_type": "markdown",
   "metadata": {},
   "source": [
    "## Import Data"
   ]
  },
  {
   "cell_type": "code",
   "execution_count": 2,
   "metadata": {},
   "outputs": [],
   "source": [
    "df = pd.read_csv(\"transactions-pet_store-small.csv\", parse_dates=[\"Date\"])"
   ]
  },
  {
   "cell_type": "markdown",
   "metadata": {},
   "source": [
    "**==========================================================================================================**"
   ]
  },
  {
   "cell_type": "markdown",
   "metadata": {},
   "source": [
    "## Data Quick Glance"
   ]
  },
  {
   "cell_type": "code",
   "execution_count": 3,
   "metadata": {},
   "outputs": [
    {
     "data": {
      "text/html": [
       "<div>\n",
       "<style scoped>\n",
       "    .dataframe tbody tr th:only-of-type {\n",
       "        vertical-align: middle;\n",
       "    }\n",
       "\n",
       "    .dataframe tbody tr th {\n",
       "        vertical-align: top;\n",
       "    }\n",
       "\n",
       "    .dataframe thead th {\n",
       "        text-align: right;\n",
       "    }\n",
       "</style>\n",
       "<table border=\"1\" class=\"dataframe\">\n",
       "  <thead>\n",
       "    <tr style=\"text-align: right;\">\n",
       "      <th></th>\n",
       "      <th>Date</th>\n",
       "      <th>Order_Number</th>\n",
       "      <th>Customer_ID</th>\n",
       "      <th>Product_Name</th>\n",
       "      <th>SKU</th>\n",
       "      <th>Price</th>\n",
       "      <th>Size</th>\n",
       "      <th>Quantity</th>\n",
       "      <th>Product_Category</th>\n",
       "      <th>Product_Line</th>\n",
       "    </tr>\n",
       "  </thead>\n",
       "  <tbody>\n",
       "    <tr>\n",
       "      <th>0</th>\n",
       "      <td>2019-03-31</td>\n",
       "      <td>5ZR-4930-9569-1000</td>\n",
       "      <td>e2b695c8-bf79-46d5-9455-f53f68562af2</td>\n",
       "      <td>NaN</td>\n",
       "      <td>RKAPY3I1TP</td>\n",
       "      <td>39.55</td>\n",
       "      <td>NaN</td>\n",
       "      <td>2</td>\n",
       "      <td>NaN</td>\n",
       "      <td>NaN</td>\n",
       "    </tr>\n",
       "    <tr>\n",
       "      <th>1</th>\n",
       "      <td>2020-03-08</td>\n",
       "      <td>TAI-6046-9953-7908</td>\n",
       "      <td>NaN</td>\n",
       "      <td>NaN</td>\n",
       "      <td>O5FYJLBE0H</td>\n",
       "      <td>24.53</td>\n",
       "      <td>NaN</td>\n",
       "      <td>2</td>\n",
       "      <td>NaN</td>\n",
       "      <td>NaN</td>\n",
       "    </tr>\n",
       "    <tr>\n",
       "      <th>2</th>\n",
       "      <td>2021-03-13</td>\n",
       "      <td>KZM-2608-1918-3044</td>\n",
       "      <td>4c3aa8dc-fc7b-4796-9c70-b0aa9a4f1977</td>\n",
       "      <td>NaN</td>\n",
       "      <td>I2GQUNYDXW</td>\n",
       "      <td>36.30</td>\n",
       "      <td>medium</td>\n",
       "      <td>2</td>\n",
       "      <td>NaN</td>\n",
       "      <td>dog</td>\n",
       "    </tr>\n",
       "    <tr>\n",
       "      <th>3</th>\n",
       "      <td>2019-06-30</td>\n",
       "      <td>VXJ-7724-4518-8390</td>\n",
       "      <td>6cb2df70-b4e9-41c6-8b90-a375376c55dd</td>\n",
       "      <td>NaN</td>\n",
       "      <td>W86BRJ9SSG</td>\n",
       "      <td>39.32</td>\n",
       "      <td>NaN</td>\n",
       "      <td>3</td>\n",
       "      <td>NaN</td>\n",
       "      <td>cat</td>\n",
       "    </tr>\n",
       "    <tr>\n",
       "      <th>4</th>\n",
       "      <td>2019-05-21</td>\n",
       "      <td>5GV-6876-7635-4506</td>\n",
       "      <td>9d92f453-84ec-4beb-acc1-2b9d1cce8910</td>\n",
       "      <td>NaN</td>\n",
       "      <td>CG3531YP08</td>\n",
       "      <td>38.17</td>\n",
       "      <td>NaN</td>\n",
       "      <td>2</td>\n",
       "      <td>NaN</td>\n",
       "      <td>dog</td>\n",
       "    </tr>\n",
       "  </tbody>\n",
       "</table>\n",
       "</div>"
      ],
      "text/plain": [
       "        Date        Order_Number                           Customer_ID Product_Name         SKU  Price    Size  Quantity Product_Category Product_Line\n",
       "0 2019-03-31  5ZR-4930-9569-1000  e2b695c8-bf79-46d5-9455-f53f68562af2          NaN  RKAPY3I1TP  39.55     NaN         2              NaN          NaN\n",
       "1 2020-03-08  TAI-6046-9953-7908                                   NaN          NaN  O5FYJLBE0H  24.53     NaN         2              NaN          NaN\n",
       "2 2021-03-13  KZM-2608-1918-3044  4c3aa8dc-fc7b-4796-9c70-b0aa9a4f1977          NaN  I2GQUNYDXW  36.30  medium         2              NaN          dog\n",
       "3 2019-06-30  VXJ-7724-4518-8390  6cb2df70-b4e9-41c6-8b90-a375376c55dd          NaN  W86BRJ9SSG  39.32     NaN         3              NaN          cat\n",
       "4 2019-05-21  5GV-6876-7635-4506  9d92f453-84ec-4beb-acc1-2b9d1cce8910          NaN  CG3531YP08  38.17     NaN         2              NaN          dog"
      ]
     },
     "execution_count": 3,
     "metadata": {},
     "output_type": "execute_result"
    }
   ],
   "source": [
    "df.head()"
   ]
  },
  {
   "cell_type": "code",
   "execution_count": 4,
   "metadata": {},
   "outputs": [
    {
     "name": "stdout",
     "output_type": "stream",
     "text": [
      "<class 'pandas.core.frame.DataFrame'>\n",
      "RangeIndex: 300 entries, 0 to 299\n",
      "Data columns (total 10 columns):\n",
      " #   Column            Non-Null Count  Dtype         \n",
      "---  ------            --------------  -----         \n",
      " 0   Date              300 non-null    datetime64[ns]\n",
      " 1   Order_Number      300 non-null    object        \n",
      " 2   Customer_ID       288 non-null    object        \n",
      " 3   Product_Name      271 non-null    object        \n",
      " 4   SKU               300 non-null    object        \n",
      " 5   Price             300 non-null    float64       \n",
      " 6   Size              71 non-null     object        \n",
      " 7   Quantity          300 non-null    int64         \n",
      " 8   Product_Category  155 non-null    object        \n",
      " 9   Product_Line      298 non-null    object        \n",
      "dtypes: datetime64[ns](1), float64(1), int64(1), object(7)\n",
      "memory usage: 23.6+ KB\n"
     ]
    }
   ],
   "source": [
    "df.info()"
   ]
  },
  {
   "cell_type": "code",
   "execution_count": 5,
   "metadata": {},
   "outputs": [
    {
     "data": {
      "text/plain": [
       "object            7\n",
       "datetime64[ns]    1\n",
       "float64           1\n",
       "int64             1\n",
       "dtype: int64"
      ]
     },
     "execution_count": 5,
     "metadata": {},
     "output_type": "execute_result"
    }
   ],
   "source": [
    "df.dtypes.value_counts()"
   ]
  },
  {
   "cell_type": "code",
   "execution_count": 6,
   "metadata": {},
   "outputs": [
    {
     "data": {
      "text/html": [
       "<div>\n",
       "<style scoped>\n",
       "    .dataframe tbody tr th:only-of-type {\n",
       "        vertical-align: middle;\n",
       "    }\n",
       "\n",
       "    .dataframe tbody tr th {\n",
       "        vertical-align: top;\n",
       "    }\n",
       "\n",
       "    .dataframe thead th {\n",
       "        text-align: right;\n",
       "    }\n",
       "</style>\n",
       "<table border=\"1\" class=\"dataframe\">\n",
       "  <thead>\n",
       "    <tr style=\"text-align: right;\">\n",
       "      <th></th>\n",
       "      <th>Date</th>\n",
       "      <th>Order_Number</th>\n",
       "      <th>Customer_ID</th>\n",
       "      <th>Product_Name</th>\n",
       "      <th>SKU</th>\n",
       "      <th>Price</th>\n",
       "      <th>Size</th>\n",
       "      <th>Quantity</th>\n",
       "      <th>Product_Category</th>\n",
       "      <th>Product_Line</th>\n",
       "    </tr>\n",
       "  </thead>\n",
       "  <tbody>\n",
       "    <tr>\n",
       "      <th>count</th>\n",
       "      <td>300</td>\n",
       "      <td>300</td>\n",
       "      <td>288</td>\n",
       "      <td>271</td>\n",
       "      <td>300</td>\n",
       "      <td>300.00</td>\n",
       "      <td>71</td>\n",
       "      <td>300.00</td>\n",
       "      <td>155</td>\n",
       "      <td>298</td>\n",
       "    </tr>\n",
       "    <tr>\n",
       "      <th>unique</th>\n",
       "      <td>224</td>\n",
       "      <td>267</td>\n",
       "      <td>223</td>\n",
       "      <td>21</td>\n",
       "      <td>23</td>\n",
       "      <td>NaN</td>\n",
       "      <td>3</td>\n",
       "      <td>NaN</td>\n",
       "      <td>4</td>\n",
       "      <td>2</td>\n",
       "    </tr>\n",
       "    <tr>\n",
       "      <th>top</th>\n",
       "      <td>2019-10-18 00:00:00</td>\n",
       "      <td>TP9-3575-6701-1829</td>\n",
       "      <td>543a9164-7b05-4195-af5d-b5741f0efe91</td>\n",
       "      <td>Reddy Beddy</td>\n",
       "      <td>28LQOI0LSK</td>\n",
       "      <td>NaN</td>\n",
       "      <td>small</td>\n",
       "      <td>NaN</td>\n",
       "      <td>treat</td>\n",
       "      <td>cat</td>\n",
       "    </tr>\n",
       "    <tr>\n",
       "      <th>freq</th>\n",
       "      <td>3</td>\n",
       "      <td>3</td>\n",
       "      <td>5</td>\n",
       "      <td>33</td>\n",
       "      <td>19</td>\n",
       "      <td>NaN</td>\n",
       "      <td>30</td>\n",
       "      <td>NaN</td>\n",
       "      <td>47</td>\n",
       "      <td>163</td>\n",
       "    </tr>\n",
       "    <tr>\n",
       "      <th>first</th>\n",
       "      <td>2019-03-17 00:00:00</td>\n",
       "      <td>NaN</td>\n",
       "      <td>NaN</td>\n",
       "      <td>NaN</td>\n",
       "      <td>NaN</td>\n",
       "      <td>NaN</td>\n",
       "      <td>NaN</td>\n",
       "      <td>NaN</td>\n",
       "      <td>NaN</td>\n",
       "      <td>NaN</td>\n",
       "    </tr>\n",
       "    <tr>\n",
       "      <th>last</th>\n",
       "      <td>2021-08-31 00:00:00</td>\n",
       "      <td>NaN</td>\n",
       "      <td>NaN</td>\n",
       "      <td>NaN</td>\n",
       "      <td>NaN</td>\n",
       "      <td>NaN</td>\n",
       "      <td>NaN</td>\n",
       "      <td>NaN</td>\n",
       "      <td>NaN</td>\n",
       "      <td>NaN</td>\n",
       "    </tr>\n",
       "    <tr>\n",
       "      <th>mean</th>\n",
       "      <td>NaN</td>\n",
       "      <td>NaN</td>\n",
       "      <td>NaN</td>\n",
       "      <td>NaN</td>\n",
       "      <td>NaN</td>\n",
       "      <td>26.03</td>\n",
       "      <td>NaN</td>\n",
       "      <td>2.10</td>\n",
       "      <td>NaN</td>\n",
       "      <td>NaN</td>\n",
       "    </tr>\n",
       "    <tr>\n",
       "      <th>std</th>\n",
       "      <td>NaN</td>\n",
       "      <td>NaN</td>\n",
       "      <td>NaN</td>\n",
       "      <td>NaN</td>\n",
       "      <td>NaN</td>\n",
       "      <td>8.94</td>\n",
       "      <td>NaN</td>\n",
       "      <td>0.79</td>\n",
       "      <td>NaN</td>\n",
       "      <td>NaN</td>\n",
       "    </tr>\n",
       "    <tr>\n",
       "      <th>min</th>\n",
       "      <td>NaN</td>\n",
       "      <td>NaN</td>\n",
       "      <td>NaN</td>\n",
       "      <td>NaN</td>\n",
       "      <td>NaN</td>\n",
       "      <td>10.80</td>\n",
       "      <td>NaN</td>\n",
       "      <td>1.00</td>\n",
       "      <td>NaN</td>\n",
       "      <td>NaN</td>\n",
       "    </tr>\n",
       "    <tr>\n",
       "      <th>25%</th>\n",
       "      <td>NaN</td>\n",
       "      <td>NaN</td>\n",
       "      <td>NaN</td>\n",
       "      <td>NaN</td>\n",
       "      <td>NaN</td>\n",
       "      <td>18.53</td>\n",
       "      <td>NaN</td>\n",
       "      <td>1.00</td>\n",
       "      <td>NaN</td>\n",
       "      <td>NaN</td>\n",
       "    </tr>\n",
       "    <tr>\n",
       "      <th>50%</th>\n",
       "      <td>NaN</td>\n",
       "      <td>NaN</td>\n",
       "      <td>NaN</td>\n",
       "      <td>NaN</td>\n",
       "      <td>NaN</td>\n",
       "      <td>25.48</td>\n",
       "      <td>NaN</td>\n",
       "      <td>2.00</td>\n",
       "      <td>NaN</td>\n",
       "      <td>NaN</td>\n",
       "    </tr>\n",
       "    <tr>\n",
       "      <th>75%</th>\n",
       "      <td>NaN</td>\n",
       "      <td>NaN</td>\n",
       "      <td>NaN</td>\n",
       "      <td>NaN</td>\n",
       "      <td>NaN</td>\n",
       "      <td>34.38</td>\n",
       "      <td>NaN</td>\n",
       "      <td>3.00</td>\n",
       "      <td>NaN</td>\n",
       "      <td>NaN</td>\n",
       "    </tr>\n",
       "    <tr>\n",
       "      <th>max</th>\n",
       "      <td>NaN</td>\n",
       "      <td>NaN</td>\n",
       "      <td>NaN</td>\n",
       "      <td>NaN</td>\n",
       "      <td>NaN</td>\n",
       "      <td>39.55</td>\n",
       "      <td>NaN</td>\n",
       "      <td>3.00</td>\n",
       "      <td>NaN</td>\n",
       "      <td>NaN</td>\n",
       "    </tr>\n",
       "  </tbody>\n",
       "</table>\n",
       "</div>"
      ],
      "text/plain": [
       "                       Date        Order_Number                           Customer_ID Product_Name         SKU  Price   Size  Quantity Product_Category Product_Line\n",
       "count                   300                 300                                   288          271         300 300.00     71    300.00              155          298\n",
       "unique                  224                 267                                   223           21          23    NaN      3       NaN                4            2\n",
       "top     2019-10-18 00:00:00  TP9-3575-6701-1829  543a9164-7b05-4195-af5d-b5741f0efe91  Reddy Beddy  28LQOI0LSK    NaN  small       NaN            treat          cat\n",
       "freq                      3                   3                                     5           33          19    NaN     30       NaN               47          163\n",
       "first   2019-03-17 00:00:00                 NaN                                   NaN          NaN         NaN    NaN    NaN       NaN              NaN          NaN\n",
       "last    2021-08-31 00:00:00                 NaN                                   NaN          NaN         NaN    NaN    NaN       NaN              NaN          NaN\n",
       "mean                    NaN                 NaN                                   NaN          NaN         NaN  26.03    NaN      2.10              NaN          NaN\n",
       "std                     NaN                 NaN                                   NaN          NaN         NaN   8.94    NaN      0.79              NaN          NaN\n",
       "min                     NaN                 NaN                                   NaN          NaN         NaN  10.80    NaN      1.00              NaN          NaN\n",
       "25%                     NaN                 NaN                                   NaN          NaN         NaN  18.53    NaN      1.00              NaN          NaN\n",
       "50%                     NaN                 NaN                                   NaN          NaN         NaN  25.48    NaN      2.00              NaN          NaN\n",
       "75%                     NaN                 NaN                                   NaN          NaN         NaN  34.38    NaN      3.00              NaN          NaN\n",
       "max                     NaN                 NaN                                   NaN          NaN         NaN  39.55    NaN      3.00              NaN          NaN"
      ]
     },
     "execution_count": 6,
     "metadata": {},
     "output_type": "execute_result"
    }
   ],
   "source": [
    "# Descriptive Statistical Analysis\n",
    "df.describe(include=\"all\")"
   ]
  },
  {
   "cell_type": "code",
   "execution_count": 7,
   "metadata": {},
   "outputs": [
    {
     "data": {
      "text/plain": [
       "Date                  0\n",
       "Order_Number          0\n",
       "Customer_ID          12\n",
       "Product_Name         29\n",
       "SKU                   0\n",
       "Price                 0\n",
       "Size                229\n",
       "Quantity              0\n",
       "Product_Category    145\n",
       "Product_Line          2\n",
       "dtype: int64"
      ]
     },
     "execution_count": 7,
     "metadata": {},
     "output_type": "execute_result"
    }
   ],
   "source": [
    "df.isnull().sum()"
   ]
  },
  {
   "cell_type": "code",
   "execution_count": 8,
   "metadata": {},
   "outputs": [
    {
     "data": {
      "text/plain": [
       "0"
      ]
     },
     "execution_count": 8,
     "metadata": {},
     "output_type": "execute_result"
    }
   ],
   "source": [
    "df.duplicated().sum()"
   ]
  },
  {
   "cell_type": "markdown",
   "metadata": {},
   "source": [
    "## Split into categorical and numeric dataframes"
   ]
  },
  {
   "cell_type": "code",
   "execution_count": 9,
   "metadata": {},
   "outputs": [
    {
     "name": "stdout",
     "output_type": "stream",
     "text": [
      "<class 'pandas.core.frame.DataFrame'>\n",
      "RangeIndex: 300 entries, 0 to 299\n",
      "Data columns (total 10 columns):\n",
      " #   Column            Non-Null Count  Dtype         \n",
      "---  ------            --------------  -----         \n",
      " 0   Date              300 non-null    datetime64[ns]\n",
      " 1   Order_Number      300 non-null    object        \n",
      " 2   Customer_ID       288 non-null    object        \n",
      " 3   Product_Name      271 non-null    object        \n",
      " 4   SKU               300 non-null    object        \n",
      " 5   Price             300 non-null    float64       \n",
      " 6   Size              71 non-null     object        \n",
      " 7   Quantity          300 non-null    int64         \n",
      " 8   Product_Category  155 non-null    object        \n",
      " 9   Product_Line      298 non-null    object        \n",
      "dtypes: datetime64[ns](1), float64(1), int64(1), object(7)\n",
      "memory usage: 23.6+ KB\n"
     ]
    }
   ],
   "source": [
    "df.info()"
   ]
  },
  {
   "cell_type": "code",
   "execution_count": 10,
   "metadata": {},
   "outputs": [
    {
     "data": {
      "text/html": [
       "<div>\n",
       "<style scoped>\n",
       "    .dataframe tbody tr th:only-of-type {\n",
       "        vertical-align: middle;\n",
       "    }\n",
       "\n",
       "    .dataframe tbody tr th {\n",
       "        vertical-align: top;\n",
       "    }\n",
       "\n",
       "    .dataframe thead th {\n",
       "        text-align: right;\n",
       "    }\n",
       "</style>\n",
       "<table border=\"1\" class=\"dataframe\">\n",
       "  <thead>\n",
       "    <tr style=\"text-align: right;\">\n",
       "      <th></th>\n",
       "      <th>Date</th>\n",
       "      <th>Order_Number</th>\n",
       "      <th>Customer_ID</th>\n",
       "      <th>Product_Name</th>\n",
       "      <th>SKU</th>\n",
       "      <th>Price</th>\n",
       "      <th>Size</th>\n",
       "      <th>Quantity</th>\n",
       "      <th>Product_Category</th>\n",
       "      <th>Product_Line</th>\n",
       "    </tr>\n",
       "  </thead>\n",
       "  <tbody>\n",
       "    <tr>\n",
       "      <th>0</th>\n",
       "      <td>2019-03-31</td>\n",
       "      <td>5ZR-4930-9569-1000</td>\n",
       "      <td>e2b695c8-bf79-46d5-9455-f53f68562af2</td>\n",
       "      <td>NaN</td>\n",
       "      <td>RKAPY3I1TP</td>\n",
       "      <td>39.55</td>\n",
       "      <td>NaN</td>\n",
       "      <td>2</td>\n",
       "      <td>NaN</td>\n",
       "      <td>NaN</td>\n",
       "    </tr>\n",
       "    <tr>\n",
       "      <th>1</th>\n",
       "      <td>2020-03-08</td>\n",
       "      <td>TAI-6046-9953-7908</td>\n",
       "      <td>NaN</td>\n",
       "      <td>NaN</td>\n",
       "      <td>O5FYJLBE0H</td>\n",
       "      <td>24.53</td>\n",
       "      <td>NaN</td>\n",
       "      <td>2</td>\n",
       "      <td>NaN</td>\n",
       "      <td>NaN</td>\n",
       "    </tr>\n",
       "    <tr>\n",
       "      <th>2</th>\n",
       "      <td>2021-03-13</td>\n",
       "      <td>KZM-2608-1918-3044</td>\n",
       "      <td>4c3aa8dc-fc7b-4796-9c70-b0aa9a4f1977</td>\n",
       "      <td>NaN</td>\n",
       "      <td>I2GQUNYDXW</td>\n",
       "      <td>36.30</td>\n",
       "      <td>medium</td>\n",
       "      <td>2</td>\n",
       "      <td>NaN</td>\n",
       "      <td>dog</td>\n",
       "    </tr>\n",
       "    <tr>\n",
       "      <th>3</th>\n",
       "      <td>2019-06-30</td>\n",
       "      <td>VXJ-7724-4518-8390</td>\n",
       "      <td>6cb2df70-b4e9-41c6-8b90-a375376c55dd</td>\n",
       "      <td>NaN</td>\n",
       "      <td>W86BRJ9SSG</td>\n",
       "      <td>39.32</td>\n",
       "      <td>NaN</td>\n",
       "      <td>3</td>\n",
       "      <td>NaN</td>\n",
       "      <td>cat</td>\n",
       "    </tr>\n",
       "    <tr>\n",
       "      <th>4</th>\n",
       "      <td>2019-05-21</td>\n",
       "      <td>5GV-6876-7635-4506</td>\n",
       "      <td>9d92f453-84ec-4beb-acc1-2b9d1cce8910</td>\n",
       "      <td>NaN</td>\n",
       "      <td>CG3531YP08</td>\n",
       "      <td>38.17</td>\n",
       "      <td>NaN</td>\n",
       "      <td>2</td>\n",
       "      <td>NaN</td>\n",
       "      <td>dog</td>\n",
       "    </tr>\n",
       "  </tbody>\n",
       "</table>\n",
       "</div>"
      ],
      "text/plain": [
       "        Date        Order_Number                           Customer_ID Product_Name         SKU  Price    Size  Quantity Product_Category Product_Line\n",
       "0 2019-03-31  5ZR-4930-9569-1000  e2b695c8-bf79-46d5-9455-f53f68562af2          NaN  RKAPY3I1TP  39.55     NaN         2              NaN          NaN\n",
       "1 2020-03-08  TAI-6046-9953-7908                                   NaN          NaN  O5FYJLBE0H  24.53     NaN         2              NaN          NaN\n",
       "2 2021-03-13  KZM-2608-1918-3044  4c3aa8dc-fc7b-4796-9c70-b0aa9a4f1977          NaN  I2GQUNYDXW  36.30  medium         2              NaN          dog\n",
       "3 2019-06-30  VXJ-7724-4518-8390  6cb2df70-b4e9-41c6-8b90-a375376c55dd          NaN  W86BRJ9SSG  39.32     NaN         3              NaN          cat\n",
       "4 2019-05-21  5GV-6876-7635-4506  9d92f453-84ec-4beb-acc1-2b9d1cce8910          NaN  CG3531YP08  38.17     NaN         2              NaN          dog"
      ]
     },
     "execution_count": 10,
     "metadata": {},
     "output_type": "execute_result"
    }
   ],
   "source": [
    "df.head()"
   ]
  },
  {
   "cell_type": "code",
   "execution_count": 11,
   "metadata": {},
   "outputs": [
    {
     "data": {
      "text/plain": [
       "Index(['Date', 'Order_Number', 'Customer_ID', 'Product_Name', 'SKU', 'Price', 'Size', 'Quantity', 'Product_Category', 'Product_Line'], dtype='object')"
      ]
     },
     "execution_count": 11,
     "metadata": {},
     "output_type": "execute_result"
    }
   ],
   "source": [
    "df.columns"
   ]
  },
  {
   "cell_type": "code",
   "execution_count": 12,
   "metadata": {},
   "outputs": [],
   "source": [
    "df_num = df[['Price', 'Quantity']]"
   ]
  },
  {
   "cell_type": "code",
   "execution_count": 13,
   "metadata": {},
   "outputs": [
    {
     "data": {
      "text/html": [
       "<div>\n",
       "<style scoped>\n",
       "    .dataframe tbody tr th:only-of-type {\n",
       "        vertical-align: middle;\n",
       "    }\n",
       "\n",
       "    .dataframe tbody tr th {\n",
       "        vertical-align: top;\n",
       "    }\n",
       "\n",
       "    .dataframe thead th {\n",
       "        text-align: right;\n",
       "    }\n",
       "</style>\n",
       "<table border=\"1\" class=\"dataframe\">\n",
       "  <thead>\n",
       "    <tr style=\"text-align: right;\">\n",
       "      <th></th>\n",
       "      <th>Price</th>\n",
       "      <th>Quantity</th>\n",
       "    </tr>\n",
       "  </thead>\n",
       "  <tbody>\n",
       "    <tr>\n",
       "      <th>0</th>\n",
       "      <td>39.55</td>\n",
       "      <td>2</td>\n",
       "    </tr>\n",
       "    <tr>\n",
       "      <th>1</th>\n",
       "      <td>24.53</td>\n",
       "      <td>2</td>\n",
       "    </tr>\n",
       "    <tr>\n",
       "      <th>2</th>\n",
       "      <td>36.30</td>\n",
       "      <td>2</td>\n",
       "    </tr>\n",
       "    <tr>\n",
       "      <th>3</th>\n",
       "      <td>39.32</td>\n",
       "      <td>3</td>\n",
       "    </tr>\n",
       "    <tr>\n",
       "      <th>4</th>\n",
       "      <td>38.17</td>\n",
       "      <td>2</td>\n",
       "    </tr>\n",
       "    <tr>\n",
       "      <th>...</th>\n",
       "      <td>...</td>\n",
       "      <td>...</td>\n",
       "    </tr>\n",
       "    <tr>\n",
       "      <th>295</th>\n",
       "      <td>34.38</td>\n",
       "      <td>1</td>\n",
       "    </tr>\n",
       "    <tr>\n",
       "      <th>296</th>\n",
       "      <td>14.53</td>\n",
       "      <td>2</td>\n",
       "    </tr>\n",
       "    <tr>\n",
       "      <th>297</th>\n",
       "      <td>26.95</td>\n",
       "      <td>2</td>\n",
       "    </tr>\n",
       "    <tr>\n",
       "      <th>298</th>\n",
       "      <td>24.53</td>\n",
       "      <td>1</td>\n",
       "    </tr>\n",
       "    <tr>\n",
       "      <th>299</th>\n",
       "      <td>10.80</td>\n",
       "      <td>3</td>\n",
       "    </tr>\n",
       "  </tbody>\n",
       "</table>\n",
       "<p>300 rows × 2 columns</p>\n",
       "</div>"
      ],
      "text/plain": [
       "     Price  Quantity\n",
       "0    39.55         2\n",
       "1    24.53         2\n",
       "2    36.30         2\n",
       "3    39.32         3\n",
       "4    38.17         2\n",
       "..     ...       ...\n",
       "295  34.38         1\n",
       "296  14.53         2\n",
       "297  26.95         2\n",
       "298  24.53         1\n",
       "299  10.80         3\n",
       "\n",
       "[300 rows x 2 columns]"
      ]
     },
     "execution_count": 13,
     "metadata": {},
     "output_type": "execute_result"
    }
   ],
   "source": [
    "df_num"
   ]
  },
  {
   "cell_type": "code",
   "execution_count": 14,
   "metadata": {},
   "outputs": [
    {
     "data": {
      "text/html": [
       "<div>\n",
       "<style scoped>\n",
       "    .dataframe tbody tr th:only-of-type {\n",
       "        vertical-align: middle;\n",
       "    }\n",
       "\n",
       "    .dataframe tbody tr th {\n",
       "        vertical-align: top;\n",
       "    }\n",
       "\n",
       "    .dataframe thead tr th {\n",
       "        text-align: left;\n",
       "    }\n",
       "\n",
       "    .dataframe thead tr:last-of-type th {\n",
       "        text-align: right;\n",
       "    }\n",
       "</style>\n",
       "<table border=\"1\" class=\"dataframe\">\n",
       "  <thead>\n",
       "    <tr>\n",
       "      <th></th>\n",
       "      <th>mean</th>\n",
       "      <th>median</th>\n",
       "      <th>std</th>\n",
       "    </tr>\n",
       "    <tr>\n",
       "      <th></th>\n",
       "      <th>Price</th>\n",
       "      <th>Price</th>\n",
       "      <th>Price</th>\n",
       "    </tr>\n",
       "    <tr>\n",
       "      <th>Quantity</th>\n",
       "      <th></th>\n",
       "      <th></th>\n",
       "      <th></th>\n",
       "    </tr>\n",
       "  </thead>\n",
       "  <tbody>\n",
       "    <tr>\n",
       "      <th>1</th>\n",
       "      <td>25.75</td>\n",
       "      <td>26.21</td>\n",
       "      <td>8.35</td>\n",
       "    </tr>\n",
       "    <tr>\n",
       "      <th>2</th>\n",
       "      <td>26.63</td>\n",
       "      <td>25.48</td>\n",
       "      <td>9.23</td>\n",
       "    </tr>\n",
       "    <tr>\n",
       "      <th>3</th>\n",
       "      <td>25.65</td>\n",
       "      <td>24.53</td>\n",
       "      <td>9.11</td>\n",
       "    </tr>\n",
       "  </tbody>\n",
       "</table>\n",
       "</div>"
      ],
      "text/plain": [
       "          mean median   std\n",
       "         Price  Price Price\n",
       "Quantity                   \n",
       "1        25.75  26.21  8.35\n",
       "2        26.63  25.48  9.23\n",
       "3        25.65  24.53  9.11"
      ]
     },
     "execution_count": 14,
     "metadata": {},
     "output_type": "execute_result"
    }
   ],
   "source": [
    "pd.pivot_table(data=df, index=\"Quantity\", values = \"Price\" , aggfunc=[\"mean\",\"median\",\"std\"])"
   ]
  },
  {
   "cell_type": "code",
   "execution_count": 15,
   "metadata": {},
   "outputs": [],
   "source": [
    "df_cat = df[['Date', 'Order_Number', 'Customer_ID', 'Product_Name', 'SKU', 'Size', 'Product_Category', 'Product_Line']]"
   ]
  },
  {
   "cell_type": "code",
   "execution_count": 16,
   "metadata": {},
   "outputs": [
    {
     "data": {
      "text/html": [
       "<div>\n",
       "<style scoped>\n",
       "    .dataframe tbody tr th:only-of-type {\n",
       "        vertical-align: middle;\n",
       "    }\n",
       "\n",
       "    .dataframe tbody tr th {\n",
       "        vertical-align: top;\n",
       "    }\n",
       "\n",
       "    .dataframe thead th {\n",
       "        text-align: right;\n",
       "    }\n",
       "</style>\n",
       "<table border=\"1\" class=\"dataframe\">\n",
       "  <thead>\n",
       "    <tr style=\"text-align: right;\">\n",
       "      <th></th>\n",
       "      <th>Date</th>\n",
       "      <th>Order_Number</th>\n",
       "      <th>Customer_ID</th>\n",
       "      <th>Product_Name</th>\n",
       "      <th>SKU</th>\n",
       "      <th>Size</th>\n",
       "      <th>Product_Category</th>\n",
       "      <th>Product_Line</th>\n",
       "    </tr>\n",
       "  </thead>\n",
       "  <tbody>\n",
       "    <tr>\n",
       "      <th>0</th>\n",
       "      <td>2019-03-31</td>\n",
       "      <td>5ZR-4930-9569-1000</td>\n",
       "      <td>e2b695c8-bf79-46d5-9455-f53f68562af2</td>\n",
       "      <td>NaN</td>\n",
       "      <td>RKAPY3I1TP</td>\n",
       "      <td>NaN</td>\n",
       "      <td>NaN</td>\n",
       "      <td>NaN</td>\n",
       "    </tr>\n",
       "    <tr>\n",
       "      <th>1</th>\n",
       "      <td>2020-03-08</td>\n",
       "      <td>TAI-6046-9953-7908</td>\n",
       "      <td>NaN</td>\n",
       "      <td>NaN</td>\n",
       "      <td>O5FYJLBE0H</td>\n",
       "      <td>NaN</td>\n",
       "      <td>NaN</td>\n",
       "      <td>NaN</td>\n",
       "    </tr>\n",
       "    <tr>\n",
       "      <th>2</th>\n",
       "      <td>2021-03-13</td>\n",
       "      <td>KZM-2608-1918-3044</td>\n",
       "      <td>4c3aa8dc-fc7b-4796-9c70-b0aa9a4f1977</td>\n",
       "      <td>NaN</td>\n",
       "      <td>I2GQUNYDXW</td>\n",
       "      <td>medium</td>\n",
       "      <td>NaN</td>\n",
       "      <td>dog</td>\n",
       "    </tr>\n",
       "    <tr>\n",
       "      <th>3</th>\n",
       "      <td>2019-06-30</td>\n",
       "      <td>VXJ-7724-4518-8390</td>\n",
       "      <td>6cb2df70-b4e9-41c6-8b90-a375376c55dd</td>\n",
       "      <td>NaN</td>\n",
       "      <td>W86BRJ9SSG</td>\n",
       "      <td>NaN</td>\n",
       "      <td>NaN</td>\n",
       "      <td>cat</td>\n",
       "    </tr>\n",
       "    <tr>\n",
       "      <th>4</th>\n",
       "      <td>2019-05-21</td>\n",
       "      <td>5GV-6876-7635-4506</td>\n",
       "      <td>9d92f453-84ec-4beb-acc1-2b9d1cce8910</td>\n",
       "      <td>NaN</td>\n",
       "      <td>CG3531YP08</td>\n",
       "      <td>NaN</td>\n",
       "      <td>NaN</td>\n",
       "      <td>dog</td>\n",
       "    </tr>\n",
       "    <tr>\n",
       "      <th>...</th>\n",
       "      <td>...</td>\n",
       "      <td>...</td>\n",
       "      <td>...</td>\n",
       "      <td>...</td>\n",
       "      <td>...</td>\n",
       "      <td>...</td>\n",
       "      <td>...</td>\n",
       "      <td>...</td>\n",
       "    </tr>\n",
       "    <tr>\n",
       "      <th>295</th>\n",
       "      <td>2019-12-10</td>\n",
       "      <td>NBO-9145-6890-2675</td>\n",
       "      <td>77b13a1f-3598-44db-a49f-0453e3a8f1ce</td>\n",
       "      <td>Snoozer Hammock</td>\n",
       "      <td>V4B4RNS3ZP</td>\n",
       "      <td>NaN</td>\n",
       "      <td>bedding</td>\n",
       "      <td>cat</td>\n",
       "    </tr>\n",
       "    <tr>\n",
       "      <th>296</th>\n",
       "      <td>2020-04-02</td>\n",
       "      <td>D3D-2667-7601-4187</td>\n",
       "      <td>e4bc9971-54a9-4fdb-97e5-6c5ad9d87994</td>\n",
       "      <td>Tuna Tasties</td>\n",
       "      <td>A8SU9C4GLF</td>\n",
       "      <td>NaN</td>\n",
       "      <td>treat</td>\n",
       "      <td>cat</td>\n",
       "    </tr>\n",
       "    <tr>\n",
       "      <th>297</th>\n",
       "      <td>2019-07-22</td>\n",
       "      <td>MFB-1481-9396-0747</td>\n",
       "      <td>9cf29d34-6977-4b8f-a90c-ab917e848e53</td>\n",
       "      <td>Scratchy Post</td>\n",
       "      <td>MPH6SCD7UT</td>\n",
       "      <td>NaN</td>\n",
       "      <td>toy</td>\n",
       "      <td>cat</td>\n",
       "    </tr>\n",
       "    <tr>\n",
       "      <th>298</th>\n",
       "      <td>2019-05-11</td>\n",
       "      <td>6V6-5054-5972-6803</td>\n",
       "      <td>149fe459-28f2-41e3-84a9-efc695cfcef9</td>\n",
       "      <td>Purr Mix</td>\n",
       "      <td>O5FYJLBE0H</td>\n",
       "      <td>NaN</td>\n",
       "      <td>food</td>\n",
       "      <td>cat</td>\n",
       "    </tr>\n",
       "    <tr>\n",
       "      <th>299</th>\n",
       "      <td>2021-01-23</td>\n",
       "      <td>5MG-5791-6021-3110</td>\n",
       "      <td>048beabf-0879-43ef-b635-52eedc163a01</td>\n",
       "      <td>Foozy Mouse</td>\n",
       "      <td>8PYSMLYINS</td>\n",
       "      <td>NaN</td>\n",
       "      <td>toy</td>\n",
       "      <td>cat</td>\n",
       "    </tr>\n",
       "  </tbody>\n",
       "</table>\n",
       "<p>300 rows × 8 columns</p>\n",
       "</div>"
      ],
      "text/plain": [
       "          Date        Order_Number                           Customer_ID     Product_Name         SKU    Size Product_Category Product_Line\n",
       "0   2019-03-31  5ZR-4930-9569-1000  e2b695c8-bf79-46d5-9455-f53f68562af2              NaN  RKAPY3I1TP     NaN              NaN          NaN\n",
       "1   2020-03-08  TAI-6046-9953-7908                                   NaN              NaN  O5FYJLBE0H     NaN              NaN          NaN\n",
       "2   2021-03-13  KZM-2608-1918-3044  4c3aa8dc-fc7b-4796-9c70-b0aa9a4f1977              NaN  I2GQUNYDXW  medium              NaN          dog\n",
       "3   2019-06-30  VXJ-7724-4518-8390  6cb2df70-b4e9-41c6-8b90-a375376c55dd              NaN  W86BRJ9SSG     NaN              NaN          cat\n",
       "4   2019-05-21  5GV-6876-7635-4506  9d92f453-84ec-4beb-acc1-2b9d1cce8910              NaN  CG3531YP08     NaN              NaN          dog\n",
       "..         ...                 ...                                   ...              ...         ...     ...              ...          ...\n",
       "295 2019-12-10  NBO-9145-6890-2675  77b13a1f-3598-44db-a49f-0453e3a8f1ce  Snoozer Hammock  V4B4RNS3ZP     NaN          bedding          cat\n",
       "296 2020-04-02  D3D-2667-7601-4187  e4bc9971-54a9-4fdb-97e5-6c5ad9d87994     Tuna Tasties  A8SU9C4GLF     NaN            treat          cat\n",
       "297 2019-07-22  MFB-1481-9396-0747  9cf29d34-6977-4b8f-a90c-ab917e848e53    Scratchy Post  MPH6SCD7UT     NaN              toy          cat\n",
       "298 2019-05-11  6V6-5054-5972-6803  149fe459-28f2-41e3-84a9-efc695cfcef9         Purr Mix  O5FYJLBE0H     NaN             food          cat\n",
       "299 2021-01-23  5MG-5791-6021-3110  048beabf-0879-43ef-b635-52eedc163a01      Foozy Mouse  8PYSMLYINS     NaN              toy          cat\n",
       "\n",
       "[300 rows x 8 columns]"
      ]
     },
     "execution_count": 16,
     "metadata": {},
     "output_type": "execute_result"
    }
   ],
   "source": [
    "df_cat"
   ]
  },
  {
   "cell_type": "code",
   "execution_count": 17,
   "metadata": {},
   "outputs": [
    {
     "data": {
      "text/plain": [
       "array(['2019-03-31T00:00:00.000000000', '2020-03-08T00:00:00.000000000',\n",
       "       '2021-03-13T00:00:00.000000000', '2019-06-30T00:00:00.000000000',\n",
       "       '2019-05-21T00:00:00.000000000', '2020-05-13T00:00:00.000000000',\n",
       "       '2021-07-28T00:00:00.000000000', '2020-07-24T00:00:00.000000000',\n",
       "       '2021-07-14T00:00:00.000000000', '2020-01-17T00:00:00.000000000',\n",
       "       '2020-07-03T00:00:00.000000000', '2019-10-13T00:00:00.000000000',\n",
       "       '2021-04-09T00:00:00.000000000', '2019-03-21T00:00:00.000000000',\n",
       "       '2021-01-20T00:00:00.000000000', '2020-01-30T00:00:00.000000000',\n",
       "       '2020-09-04T00:00:00.000000000', '2019-12-16T00:00:00.000000000',\n",
       "       '2020-06-04T00:00:00.000000000', '2019-03-26T00:00:00.000000000',\n",
       "       '2021-06-08T00:00:00.000000000', '2019-12-20T00:00:00.000000000',\n",
       "       '2020-07-21T00:00:00.000000000', '2021-04-29T00:00:00.000000000',\n",
       "       '2021-03-29T00:00:00.000000000', '2020-04-10T00:00:00.000000000',\n",
       "       '2020-10-14T00:00:00.000000000', '2019-04-24T00:00:00.000000000',\n",
       "       '2020-07-19T00:00:00.000000000', '2020-05-23T00:00:00.000000000',\n",
       "       '2021-04-25T00:00:00.000000000', '2019-03-17T00:00:00.000000000',\n",
       "       '2019-03-29T00:00:00.000000000', '2019-11-16T00:00:00.000000000',\n",
       "       '2019-06-20T00:00:00.000000000', '2020-06-27T00:00:00.000000000',\n",
       "       '2021-08-31T00:00:00.000000000', '2021-08-24T00:00:00.000000000',\n",
       "       '2020-08-27T00:00:00.000000000', '2021-07-13T00:00:00.000000000',\n",
       "       '2020-01-06T00:00:00.000000000', '2019-11-23T00:00:00.000000000',\n",
       "       '2020-04-22T00:00:00.000000000', '2021-03-06T00:00:00.000000000',\n",
       "       '2020-05-15T00:00:00.000000000', '2020-12-27T00:00:00.000000000',\n",
       "       '2019-04-18T00:00:00.000000000', '2021-01-05T00:00:00.000000000',\n",
       "       '2020-04-18T00:00:00.000000000', '2019-06-06T00:00:00.000000000',\n",
       "       '2021-07-26T00:00:00.000000000', '2020-09-08T00:00:00.000000000',\n",
       "       '2021-03-20T00:00:00.000000000', '2021-04-20T00:00:00.000000000',\n",
       "       '2020-07-17T00:00:00.000000000', '2020-02-01T00:00:00.000000000',\n",
       "       '2021-06-24T00:00:00.000000000', '2020-04-24T00:00:00.000000000',\n",
       "       '2019-10-10T00:00:00.000000000', '2020-11-18T00:00:00.000000000',\n",
       "       '2020-11-10T00:00:00.000000000', '2019-10-18T00:00:00.000000000',\n",
       "       '2019-07-27T00:00:00.000000000', '2021-03-09T00:00:00.000000000',\n",
       "       '2020-02-02T00:00:00.000000000', '2021-04-21T00:00:00.000000000',\n",
       "       '2021-06-30T00:00:00.000000000', '2019-08-29T00:00:00.000000000',\n",
       "       '2020-01-04T00:00:00.000000000', '2019-08-08T00:00:00.000000000',\n",
       "       '2020-06-25T00:00:00.000000000', '2020-06-03T00:00:00.000000000',\n",
       "       '2020-07-22T00:00:00.000000000', '2020-07-08T00:00:00.000000000',\n",
       "       '2019-10-05T00:00:00.000000000', '2020-02-23T00:00:00.000000000',\n",
       "       '2021-03-08T00:00:00.000000000', '2021-04-02T00:00:00.000000000',\n",
       "       '2020-10-20T00:00:00.000000000', '2019-09-10T00:00:00.000000000',\n",
       "       '2019-05-24T00:00:00.000000000', '2020-02-20T00:00:00.000000000',\n",
       "       '2019-11-07T00:00:00.000000000', '2019-12-28T00:00:00.000000000',\n",
       "       '2020-07-12T00:00:00.000000000', '2020-07-13T00:00:00.000000000',\n",
       "       '2019-05-18T00:00:00.000000000', '2020-08-22T00:00:00.000000000',\n",
       "       '2020-04-03T00:00:00.000000000', '2020-01-29T00:00:00.000000000',\n",
       "       '2019-11-01T00:00:00.000000000', '2020-09-07T00:00:00.000000000',\n",
       "       '2019-12-06T00:00:00.000000000', '2019-08-09T00:00:00.000000000',\n",
       "       '2020-09-29T00:00:00.000000000', '2020-03-31T00:00:00.000000000',\n",
       "       '2019-11-09T00:00:00.000000000', '2020-03-10T00:00:00.000000000',\n",
       "       '2020-11-08T00:00:00.000000000', '2021-02-17T00:00:00.000000000',\n",
       "       '2020-12-28T00:00:00.000000000', '2020-06-21T00:00:00.000000000',\n",
       "       '2021-01-16T00:00:00.000000000', '2021-07-25T00:00:00.000000000',\n",
       "       '2020-08-18T00:00:00.000000000', '2021-05-27T00:00:00.000000000',\n",
       "       '2020-09-14T00:00:00.000000000', '2019-07-08T00:00:00.000000000',\n",
       "       '2020-07-09T00:00:00.000000000', '2020-01-07T00:00:00.000000000',\n",
       "       '2021-01-11T00:00:00.000000000', '2020-03-18T00:00:00.000000000',\n",
       "       '2020-03-12T00:00:00.000000000', '2020-12-23T00:00:00.000000000',\n",
       "       '2021-06-21T00:00:00.000000000', '2019-12-29T00:00:00.000000000',\n",
       "       '2021-02-07T00:00:00.000000000', '2021-08-05T00:00:00.000000000',\n",
       "       '2019-05-27T00:00:00.000000000', '2020-12-26T00:00:00.000000000',\n",
       "       '2019-06-25T00:00:00.000000000', '2020-11-05T00:00:00.000000000',\n",
       "       '2020-11-15T00:00:00.000000000', '2021-01-02T00:00:00.000000000',\n",
       "       '2020-10-09T00:00:00.000000000', '2020-02-07T00:00:00.000000000',\n",
       "       '2019-03-18T00:00:00.000000000', '2021-05-26T00:00:00.000000000',\n",
       "       '2019-12-10T00:00:00.000000000', '2019-08-05T00:00:00.000000000',\n",
       "       '2019-04-14T00:00:00.000000000', '2021-07-19T00:00:00.000000000',\n",
       "       '2019-12-17T00:00:00.000000000', '2021-04-15T00:00:00.000000000',\n",
       "       '2020-12-15T00:00:00.000000000', '2021-02-27T00:00:00.000000000',\n",
       "       '2019-09-21T00:00:00.000000000', '2021-08-10T00:00:00.000000000',\n",
       "       '2019-08-30T00:00:00.000000000', '2019-05-10T00:00:00.000000000',\n",
       "       '2020-07-07T00:00:00.000000000', '2020-04-15T00:00:00.000000000',\n",
       "       '2020-03-30T00:00:00.000000000', '2019-10-04T00:00:00.000000000',\n",
       "       '2020-09-13T00:00:00.000000000', '2021-01-09T00:00:00.000000000',\n",
       "       '2021-07-05T00:00:00.000000000', '2021-07-23T00:00:00.000000000',\n",
       "       '2020-12-12T00:00:00.000000000', '2020-01-24T00:00:00.000000000',\n",
       "       '2020-12-18T00:00:00.000000000', '2020-03-27T00:00:00.000000000',\n",
       "       '2019-10-07T00:00:00.000000000', '2020-08-31T00:00:00.000000000',\n",
       "       '2019-06-03T00:00:00.000000000', '2020-02-18T00:00:00.000000000',\n",
       "       '2019-04-01T00:00:00.000000000', '2019-04-07T00:00:00.000000000',\n",
       "       '2020-08-01T00:00:00.000000000', '2019-11-27T00:00:00.000000000',\n",
       "       '2020-05-10T00:00:00.000000000', '2021-06-06T00:00:00.000000000',\n",
       "       '2019-06-21T00:00:00.000000000', '2019-07-15T00:00:00.000000000',\n",
       "       '2020-02-16T00:00:00.000000000', '2020-02-08T00:00:00.000000000',\n",
       "       '2020-03-23T00:00:00.000000000', '2020-06-10T00:00:00.000000000',\n",
       "       '2021-07-30T00:00:00.000000000', '2020-05-24T00:00:00.000000000',\n",
       "       '2021-03-18T00:00:00.000000000', '2020-08-05T00:00:00.000000000',\n",
       "       '2020-08-14T00:00:00.000000000', '2021-03-10T00:00:00.000000000',\n",
       "       '2020-07-26T00:00:00.000000000', '2020-04-13T00:00:00.000000000',\n",
       "       '2021-06-15T00:00:00.000000000', '2020-03-02T00:00:00.000000000',\n",
       "       '2019-05-06T00:00:00.000000000', '2019-08-11T00:00:00.000000000',\n",
       "       '2019-11-02T00:00:00.000000000', '2019-07-21T00:00:00.000000000',\n",
       "       '2021-03-02T00:00:00.000000000', '2020-06-28T00:00:00.000000000',\n",
       "       '2019-04-16T00:00:00.000000000', '2020-05-01T00:00:00.000000000',\n",
       "       '2019-11-20T00:00:00.000000000', '2020-01-27T00:00:00.000000000',\n",
       "       '2020-08-24T00:00:00.000000000', '2020-11-12T00:00:00.000000000',\n",
       "       '2019-08-18T00:00:00.000000000', '2020-12-05T00:00:00.000000000',\n",
       "       '2021-05-14T00:00:00.000000000', '2020-04-06T00:00:00.000000000',\n",
       "       '2020-07-16T00:00:00.000000000', '2020-06-12T00:00:00.000000000',\n",
       "       '2020-09-15T00:00:00.000000000', '2019-07-14T00:00:00.000000000',\n",
       "       '2021-01-17T00:00:00.000000000', '2020-05-16T00:00:00.000000000',\n",
       "       '2021-01-23T00:00:00.000000000', '2020-04-05T00:00:00.000000000',\n",
       "       '2020-04-29T00:00:00.000000000', '2020-08-11T00:00:00.000000000',\n",
       "       '2019-07-20T00:00:00.000000000', '2019-08-26T00:00:00.000000000',\n",
       "       '2019-07-06T00:00:00.000000000', '2020-03-13T00:00:00.000000000',\n",
       "       '2019-09-08T00:00:00.000000000', '2019-11-04T00:00:00.000000000',\n",
       "       '2019-05-31T00:00:00.000000000', '2020-06-26T00:00:00.000000000',\n",
       "       '2019-08-31T00:00:00.000000000', '2021-01-04T00:00:00.000000000',\n",
       "       '2019-07-22T00:00:00.000000000', '2021-05-02T00:00:00.000000000',\n",
       "       '2020-09-27T00:00:00.000000000', '2019-06-09T00:00:00.000000000',\n",
       "       '2020-10-11T00:00:00.000000000', '2020-04-09T00:00:00.000000000',\n",
       "       '2020-01-22T00:00:00.000000000', '2020-05-18T00:00:00.000000000',\n",
       "       '2020-04-02T00:00:00.000000000', '2019-05-11T00:00:00.000000000'],\n",
       "      dtype='datetime64[ns]')"
      ]
     },
     "execution_count": 17,
     "metadata": {},
     "output_type": "execute_result"
    }
   ],
   "source": [
    "df_cat[\"Date\"].unique()"
   ]
  },
  {
   "cell_type": "code",
   "execution_count": 18,
   "metadata": {},
   "outputs": [
    {
     "data": {
      "text/plain": [
       "array(['5ZR-4930-9569-1000', 'TAI-6046-9953-7908', 'KZM-2608-1918-3044',\n",
       "       'VXJ-7724-4518-8390', '5GV-6876-7635-4506', 'VKU-1242-8480-2800',\n",
       "       'HSM-0112-0527-6783', 'DJR-9604-1142-1668', '3RH-2068-8836-6576',\n",
       "       'WO7-0758-9583-2546', 'TP9-3575-6701-1829', 'EKY-4300-1138-1935',\n",
       "       'WKI-0657-9471-4056', 'HJ7-2172-3544-8150', 'T8D-8382-7701-8222',\n",
       "       'I0B-5452-3895-8362', '17W-0107-3788-4067', 'W23-9550-1483-6671',\n",
       "       'OQV-1293-3226-9700', 'UE4-0371-6880-7040', 'QHK-9694-8868-8331',\n",
       "       'VYT-4356-8978-3583', 'CHL-9582-5246-4650', 'YB9-8467-3853-4810',\n",
       "       'JMQ-7190-2802-6576', 'FEH-4504-4762-6886', 'QXJ-3013-1038-0974',\n",
       "       '55Z-0643-3452-0578', '2OI-1191-6735-8296', 'IN7-4576-5737-8793',\n",
       "       'ITM-3893-3973-9209', 'TF3-7284-4263-6585', 'BLC-6715-6652-8279',\n",
       "       'MAS-0296-0725-6519', '1NH-9182-3837-7124', 'E91-6654-6616-1870',\n",
       "       '540-0891-1265-0117', 'HMP-2151-3946-4248', 'NYT-3306-3083-9776',\n",
       "       '2VI-3304-1801-5314', '79G-0648-0529-7541', '6DS-7943-8490-8211',\n",
       "       'D3I-6237-1649-0772', 'TQ8-0743-1242-2049', 'KOP-4215-6464-9977',\n",
       "       'VWZ-7707-5242-9683', 'O3X-7590-8873-7538', 'LDV-9304-2273-1933',\n",
       "       '8NO-5647-2568-1754', '269-9595-0109-8368', 'W65-9827-2136-6680',\n",
       "       'LOO-8351-9627-4943', 'B6K-6063-8031-2328', 'VCR-4691-5668-2239',\n",
       "       '4UX-7023-7393-5016', '5RI-8633-6387-1078', '9N3-4658-8795-0796',\n",
       "       'YJW-4996-4299-7644', 'LAQ-1426-7637-9037', 'NB5-2633-0522-8379',\n",
       "       '6A6-5766-5718-8132', 'MGM-2601-7889-4088', '6GK-1195-1412-0400',\n",
       "       '0R0-5522-3689-6676', 'C8X-4375-5193-1966', '0NH-1764-6245-7955',\n",
       "       'KGA-9818-3253-4157', 'AOR-8548-3628-4086', 'KEC-4821-3488-4229',\n",
       "       'J7B-4853-0118-2580', 'U5B-1864-6118-8216', 'UIR-2760-1217-0744',\n",
       "       '54X-1539-9735-4390', 'DMG-5002-5306-6598', 'RU5-3005-3729-1797',\n",
       "       'XD9-1197-7351-9457', '1MK-5419-1276-8899', 'SH3-2537-1644-2893',\n",
       "       'A11-3046-8915-0037', 'B27-8900-9544-9171', 'TLN-8911-4517-9526',\n",
       "       '6DN-3960-0433-0473', 'SM2-3854-6886-7834', 'YD0-8178-8226-2346',\n",
       "       'SYR-9786-3468-3576', '7K8-7630-3319-4712', 'LQB-9024-5037-4113',\n",
       "       'R7K-7198-1269-7049', 'JN5-3731-7674-6354', 'BF1-9870-9833-3180',\n",
       "       'DK3-4243-1571-9998', 'TZ0-9472-4859-1531', '17G-5632-1455-7199',\n",
       "       'F8W-6050-3371-5101', 'TEM-6615-3245-7573', 'MEF-4084-2259-8308',\n",
       "       'QNM-0889-0214-3985', 'LXL-2026-1169-6850', 'PLU-4936-1877-1180',\n",
       "       'XKU-4082-2204-4935', 'FH2-8581-0943-5114', 'DX3-8635-2543-0688',\n",
       "       '57A-1484-1983-9590', '7XZ-6398-3589-3099', 'FO6-6370-4917-7393',\n",
       "       'P90-1728-0337-9900', 'H9J-0970-2399-0841', 'VR5-5075-0261-9624',\n",
       "       'KCL-9476-3345-2011', 'A7Q-8664-0516-3933', 'STC-6536-1946-1455',\n",
       "       'Y0K-9474-0826-4310', '3I8-9070-6938-2899', '52K-9641-5618-0755',\n",
       "       'QXS-3817-6803-3259', 'CH6-5719-2716-5439', '6HK-4885-0227-3746',\n",
       "       'BAI-7567-9743-3633', 'AY0-1789-8103-7174', '1YR-3971-6042-1854',\n",
       "       'F6H-5585-9705-3044', 'W3P-0661-6436-1039', 'TOR-8115-0710-3040',\n",
       "       'Y54-5700-3781-5242', 'IRK-0593-9624-5203', 'KIK-7764-0319-4228',\n",
       "       'GT8-5592-3564-7201', '6W2-3863-8999-5706', 'FNZ-3413-2216-2437',\n",
       "       'N1K-9012-2562-7220', 'TJN-4389-2879-8756', 'GZV-8109-5423-1170',\n",
       "       '15T-3023-4253-7686', 'DA3-5179-9676-9385', 'TI9-8009-3658-7140',\n",
       "       'QNL-3993-3443-8724', 'ZW8-2479-0698-0389', 'H09-0053-7882-8197',\n",
       "       'K7R-0164-9843-3809', 'JIM-5710-5160-8495', 'GHY-8575-0972-0943',\n",
       "       'RBJ-7695-2148-6334', 'VM9-0976-1842-7144', 'YMH-4955-4710-6242',\n",
       "       '6KB-1479-8899-8346', 'SBT-7370-4009-6368', 'G2X-4887-6331-0837',\n",
       "       'IQI-2120-2151-7690', '6IC-6289-3142-4615', 'NK5-2439-4703-4385',\n",
       "       'KKT-2239-0492-1293', 'YUS-3737-0554-8330', 'E3W-1000-2722-6137',\n",
       "       'LHH-6976-4060-7912', 'UIX-8608-7364-5616', '3OM-4563-8524-8748',\n",
       "       '6VM-9779-3475-9530', 'AI0-8190-3397-4341', 'PN9-4944-9369-2465',\n",
       "       'U3U-7055-2633-4972', 'ACF-4131-7852-4927', '1FA-9299-1314-8439',\n",
       "       'UHP-7002-5716-7862', '5ZC-6246-5501-1697', '2SW-2401-9346-4603',\n",
       "       '5QW-4856-6214-7044', 'SPR-4411-9829-7006', 'JET-0967-2500-3073',\n",
       "       '7Y9-4434-6079-9159', 'WNW-9541-4974-5615', '5JP-6492-2648-2186',\n",
       "       'OVD-5029-2336-9730', 'T8I-9166-8376-7876', 'AR3-8002-1603-9598',\n",
       "       '0NV-9141-7747-8049', 'N69-9541-4017-5070', 'UTC-6006-9137-1473',\n",
       "       'O6B-7737-4420-0248', '5TV-3916-4350-8099', '9C8-7330-3384-7907',\n",
       "       'A8U-7924-3246-7240', 'ZH4-4216-7880-2793', '0HI-4183-3360-8151',\n",
       "       '4NO-4457-3432-9108', 'L46-8025-2625-8407', '3N3-3660-1039-1510',\n",
       "       '7EP-5239-1645-7690', 'YFI-2037-6230-1724', 'DG7-5410-5845-1340',\n",
       "       '58M-9760-8722-9405', 'X3F-4844-4400-5732', 'GNR-1926-8317-5312',\n",
       "       '1D7-1383-8416-8120', '69B-8579-7900-1555', 'S1I-5756-9839-5993',\n",
       "       'VNE-3176-7360-2440', 'NBF-5016-9159-5887', 'G0A-0723-1285-3109',\n",
       "       '2XV-9995-9633-3135', '51K-8766-4785-9818', 'AB6-6058-3069-7500',\n",
       "       'DUB-1443-3450-4058', 'DAQ-6048-4270-9016', 'M2M-0157-4918-3764',\n",
       "       'QTO-9794-5018-7244', '1L9-7976-4352-2432', 'O5E-2134-7417-5130',\n",
       "       'JTD-3726-2246-0599', 'OTK-3779-3483-4958', 'TO1-1332-6735-9219',\n",
       "       'JQQ-6840-1731-0923', '148-7275-8810-6218', 'PON-0395-5741-4360',\n",
       "       'ASH-9689-1458-2687', 'W7D-8546-4966-0373', 'VXO-8072-6757-0780',\n",
       "       'C2S-7281-7217-2407', 'F6V-7804-7779-7020', '2Q2-2816-3649-6165',\n",
       "       '86K-5397-7438-7975', '3FW-2274-2877-9421', '4PN-9464-4192-7762',\n",
       "       '9WI-5161-3299-3568', 'FL5-9092-8858-2068', 'T40-2709-4868-3871',\n",
       "       'HAO-7903-2667-8356', '376-9941-7935-3941', 'TKV-4118-0915-3235',\n",
       "       'D87-0742-1440-3917', 'NLV-4596-9310-6619', '74O-7939-4422-4135',\n",
       "       'ZG3-6658-7666-0843', '1LD-8684-7766-7200', 'ZS1-4310-6042-1214',\n",
       "       '4FI-1889-5776-4744', 'DH0-5008-7799-0110', 'BGF-5341-9113-6516',\n",
       "       'X5D-2338-5958-0974', 'SJB-9324-2700-5542', 'MEK-5743-3554-4680',\n",
       "       'GX9-0927-4423-6831', 'KXG-2905-7776-8704', '9T8-4268-8212-2203',\n",
       "       'UVY-9948-3855-2041', 'Y20-5374-6540-0806', '92H-9003-9827-6860',\n",
       "       'A31-3774-3291-3985', 'YMF-5336-1248-7988', 'LVX-4993-7361-0743',\n",
       "       'HNJ-8059-5731-5442', 'UZG-9079-9123-9454', 'J0L-1164-8497-2871',\n",
       "       'MFB-1481-9396-0747', 'OFR-9426-7032-8748', '5ZW-2658-6163-6339',\n",
       "       '3Y9-9273-2620-9510', 'PB1-1020-9677-9041', '01D-9110-4462-5421',\n",
       "       'HUB-8716-8220-4224', '3LT-5477-1536-3700', 'IRJ-6080-4841-5500',\n",
       "       '2CT-5208-4608-4140', 'U7Q-9541-3921-0927', 'NBO-9145-6890-2675',\n",
       "       'D3D-2667-7601-4187', '6V6-5054-5972-6803', '5MG-5791-6021-3110'],\n",
       "      dtype=object)"
      ]
     },
     "execution_count": 18,
     "metadata": {},
     "output_type": "execute_result"
    }
   ],
   "source": [
    "df_cat[\"Order_Number\"].unique()"
   ]
  },
  {
   "cell_type": "code",
   "execution_count": 19,
   "metadata": {},
   "outputs": [
    {
     "data": {
      "text/plain": [
       "array(['e2b695c8-bf79-46d5-9455-f53f68562af2', nan,\n",
       "       '4c3aa8dc-fc7b-4796-9c70-b0aa9a4f1977',\n",
       "       '6cb2df70-b4e9-41c6-8b90-a375376c55dd',\n",
       "       '9d92f453-84ec-4beb-acc1-2b9d1cce8910',\n",
       "       '041686b3-ef2e-4ae9-a349-985bd6dafed3',\n",
       "       '0de82c77-495f-4840-8ef9-3e37fa30a284',\n",
       "       '3a21abc5-362e-47f4-8951-362a9e322c98',\n",
       "       '6909526c-22bc-4feb-9bac-d381236876ff',\n",
       "       '39c18313-0232-4ab7-8d31-c9a812d43228',\n",
       "       'e1528ae4-7f0d-4e72-9bb0-5656b7c3d9c5',\n",
       "       '50c82438-fe35-4d35-ad7f-fa8316d1ed40',\n",
       "       '2ea7342e-d217-4b12-ada2-4aff013f0d1a',\n",
       "       'f6c07eac-fcae-4b09-97c9-6a01ae38825b',\n",
       "       'ae1366f5-96ec-4487-a135-31e85fe63195',\n",
       "       'd63ce3da-22dd-46b6-b3e2-5281cdf6c0f2',\n",
       "       'c89289f5-c3cc-409c-ac21-a8f6ad8b1ae2',\n",
       "       '886b676e-6a20-4bef-9f32-98d811b20131',\n",
       "       '78acee25-f12f-40b5-b0eb-d4833897c751',\n",
       "       '720d27de-956f-4571-bf06-f4bed6e1732b',\n",
       "       'd1f9a3f9-c229-4fa0-a17c-4ddfbf56548e',\n",
       "       '9cf29d34-6977-4b8f-a90c-ab917e848e53',\n",
       "       'f7e07e9a-2cdb-4538-872f-e83689494598',\n",
       "       '7eced652-c5ea-4ab9-bf01-f985e39509a6',\n",
       "       '52775086-62ac-41bf-b14f-4df08f6d87a8',\n",
       "       '27d9ecd5-975f-4dd5-a899-95f01ff0b8e5',\n",
       "       'aacbf226-43d2-4b06-987b-5c4224c11b9d',\n",
       "       '8978863e-2679-40d3-8635-5b3ef4f36bf8',\n",
       "       '98395aed-edab-450a-a45b-df382ffbaecb',\n",
       "       'c1cde6b4-9787-48a4-9197-e5e5d905f2ed',\n",
       "       'ff7778c2-1a1d-49fe-b9f0-c43f7f5ec38e',\n",
       "       '3f444056-2da3-4ded-9481-c0dd4d6a3029',\n",
       "       '5612c22f-a081-4d03-822d-449ab1e7ae6f',\n",
       "       'ae46598d-ceab-4f3b-bc6a-e3a30014bd94',\n",
       "       '49d51a2d-83d1-43eb-a856-37ba73cff852',\n",
       "       '3f817a4e-6a3e-471c-b749-4294fbeb69f2',\n",
       "       'e68f0093-1145-4be7-b2c2-9de5d1a1a100',\n",
       "       'a43c8d41-60f0-4efb-b66f-cce239566506',\n",
       "       '3ed0e459-028c-4e92-a093-12ebe56378d0',\n",
       "       'b3c6c8a8-6db2-4920-8b5c-0c889c60b1eb',\n",
       "       '3ad0be32-a421-494e-a800-5300e9e3ef82',\n",
       "       '01377bb1-c64c-40e8-903a-797c7b521e23',\n",
       "       '63e730a0-ff05-495e-a420-34063b66cfd0',\n",
       "       '2ead2e45-5596-4c83-a9c7-a231b8e72c31',\n",
       "       '8f7f6476-f7a3-4d1b-ac3b-2868cc7f9b1f',\n",
       "       'b269404c-5903-4795-9153-d3d6c719ba28',\n",
       "       '1688f317-0214-4182-9860-a5f861ffee8a',\n",
       "       'abbb12d6-c95b-45dc-816c-eceaa39603e8',\n",
       "       'bddb4991-fd48-4fa6-afff-ebd0c3c8cf5f',\n",
       "       '217dbe79-71a4-45b4-9eec-5261b300eb54',\n",
       "       '98bbcd05-efaa-429f-8f97-40357e48f679',\n",
       "       '76c5bd5d-8097-4cee-8ab6-6779b590a824',\n",
       "       'b914e216-fca4-4ede-822f-fda5cdc686f5',\n",
       "       '828d1954-462a-47f7-9bf9-6ed1c511a921',\n",
       "       'e15a4d39-2388-4a5b-a5ba-a29a7743cdc5',\n",
       "       'b20d6c81-2021-4eb2-bbdd-2263721d652f',\n",
       "       'd57360ad-7c79-4f82-aff4-e03aadc1f16e',\n",
       "       '6fea07a4-405d-4849-b2ca-25826838f0d9',\n",
       "       'bc664ccb-a551-4d5f-a9f9-5572c464cb30',\n",
       "       'd67eda57-51c6-4f4d-b075-d2540c842787',\n",
       "       'e18b862b-ceba-4438-985f-74b97b90c9f7',\n",
       "       'a9db601a-ff58-48e0-94d5-6888d5890f87',\n",
       "       'f9dad445-8150-41f6-b377-7e718f4b850d',\n",
       "       '74d5328e-2b1c-47c0-a139-05caba5a2d49',\n",
       "       '9661b347-470c-4a8b-8924-fda98c4e935c',\n",
       "       '8e4a38b5-d4e2-4fc5-955a-63b6a1fe80d4',\n",
       "       'e60f7036-9258-4047-bf62-3d295f602b4e',\n",
       "       'ee6d3390-4969-43f2-8adf-3601877a2c9d',\n",
       "       '6e6fc582-8c43-47a7-b513-f1959a811080',\n",
       "       '543a9164-7b05-4195-af5d-b5741f0efe91',\n",
       "       '19f7c3ca-be7c-465d-ac66-87b8c9f4bb05',\n",
       "       '29539345-fc83-4882-96b3-d485a97e762d',\n",
       "       '4b7833ae-f6b8-4aaa-9957-299aba52e481',\n",
       "       'e98770e6-0376-4424-9299-f58b36c0ebd9',\n",
       "       'c0b263c4-6c60-42c4-9d72-522982ca55f3',\n",
       "       '1d16d87c-cfaa-4cf6-90f1-c758081dbed6',\n",
       "       'd90c4757-32ce-41d8-8b94-dee62171e5c3',\n",
       "       '78e8918d-8898-474a-b089-3c66d61651fe',\n",
       "       '500e6e76-12e9-425c-aaee-3a5f16153a55',\n",
       "       'dfb86128-c62a-4234-b628-4312d2d17219',\n",
       "       '12ce947b-e8d7-46a3-bedd-771b1b46d594',\n",
       "       '9066fe77-1a81-4bda-801c-a2c85727cb4b',\n",
       "       '04b417ea-4db6-4069-aad1-6d88725e8524',\n",
       "       '37dbbf1c-40a9-4a9f-8318-51d1d29319bc',\n",
       "       'a06a1b4a-aca1-4e6d-8b49-10d279198d25',\n",
       "       'e05c1dcd-5de8-4443-849b-798bae2aa27a',\n",
       "       '95e86916-7de0-4c24-8c7b-d4184a276313',\n",
       "       '795068c8-dd77-459e-9417-def849599aa3',\n",
       "       '1e52167f-daca-43dd-ab5a-c9564c9e28ae',\n",
       "       '4e9f67f6-968d-44e3-9544-0ed61742ccca',\n",
       "       '16321e75-928c-4a88-9aab-6d11735ff341',\n",
       "       '6e369b1c-0a64-4267-ad7d-51819e7e44ee',\n",
       "       '54d7c0a3-d47c-48f3-90f3-e1ad32dc206b',\n",
       "       'fc9ac49f-f8b6-4708-8b7a-1b3f616d9136',\n",
       "       'e943bc14-1378-4ab8-874c-8870a69df325',\n",
       "       '67ea4fff-dd62-4b29-bc87-19671d584651',\n",
       "       'a57b0ac6-4c02-4162-b46d-192e8e29dcc3',\n",
       "       '3f4bc376-a838-431b-b0e5-2dc114bbdf59',\n",
       "       '124625b3-75b2-40dd-9abe-6ca6bbf49fee',\n",
       "       '95619813-79b4-4654-bace-297f08179814',\n",
       "       'a4583669-3ee9-4b2b-8363-0218493e75fb',\n",
       "       'f9056699-c3b1-4bea-900d-525571d8dc0e',\n",
       "       '4cb08e07-9702-4a28-93ed-723f3d141079',\n",
       "       'a69cca03-92ee-462e-bf58-b6fee9ec2cf2',\n",
       "       '9d983de4-cd8f-4d91-b1f9-419b044cb2c0',\n",
       "       '7ae8c57f-f0e1-4519-8139-9a091e524290',\n",
       "       '3abcd825-4ae2-4469-9200-1482a1b1143c',\n",
       "       '26446e53-6612-48cb-a75b-ddf59bf8b099',\n",
       "       '00f188cc-588e-452b-97a9-f844ff168423',\n",
       "       'dacffbd7-f9c1-4030-a9c4-772e61cfb511',\n",
       "       '1c5237c3-4cc8-4419-8e4b-4921480711e2',\n",
       "       '6b63708c-8ac3-4d13-b3b2-bc0526879479',\n",
       "       '208e1a37-e7e9-46fe-8d38-4eab52084968',\n",
       "       '87d7c49b-74fc-4106-9a66-c2cfcd171a35',\n",
       "       '82733c9c-06ae-4e92-96e2-7b312c4fa2aa',\n",
       "       '368ad229-08a5-42fe-97e8-c2d4fdfdc3ca',\n",
       "       '4825bcac-8271-463d-a098-4d3705f72de7',\n",
       "       'c49dced9-6247-480d-bd32-bd0c22a12dd3',\n",
       "       'a524bba6-c632-4e67-85a8-75c6f7150dfa',\n",
       "       'ea6b1d83-ba3a-409b-82ca-6d592ec9451a',\n",
       "       'f8f88261-aec1-42fa-9b20-687a37a10187',\n",
       "       '0e350b95-4e93-4e03-a065-e9fc95aefbd1',\n",
       "       'a14b1b75-f1c7-4160-b9c9-71525aec0105',\n",
       "       'b6caeecb-c92b-4944-b026-921c1008e407',\n",
       "       'f117cb4a-44c6-45bb-b152-e9fa13f3151a',\n",
       "       '16ad49c3-3d00-4c50-9f28-fa6e1394ce0d',\n",
       "       '09eccaae-a1a5-4bb9-a122-edb5fc86eea1',\n",
       "       '9bc3935f-62db-410d-a7ce-1859e3843f88',\n",
       "       '7f5111f6-53c9-4316-b134-dd8c3b6b29f7',\n",
       "       'e0bcde09-670f-4a72-b09a-71160f543e9a',\n",
       "       '68801edc-2bb9-4a97-b8db-a61380c59e52',\n",
       "       '3b703df7-ce8a-4e98-88bf-e229d9940045',\n",
       "       'a4596e54-ab68-4ce5-ac70-6c4c7fde7a29',\n",
       "       '573e169d-d39a-4d6d-a4f9-05d48be63898',\n",
       "       '9a14f33e-7caf-44bf-9a82-d36687e08ae8',\n",
       "       '32ed4ca3-b083-4f8d-b044-b2915221f4bd',\n",
       "       '51987b1c-4eac-405d-a120-f44bb028696c',\n",
       "       'e00209e2-c6c0-4a72-8af3-3b2ae6eaa89e',\n",
       "       '13511d3b-1bf3-4193-be5f-e58e063cce6c',\n",
       "       '40bce234-fb5d-44f2-a0c4-fc58c39986de',\n",
       "       'e4aad31c-e475-4085-8812-f73e8e044ad4',\n",
       "       'b806af60-186e-431d-882e-2ed49097e1d9',\n",
       "       '9d3ab31c-320e-40b8-8b99-5519e7ffd668',\n",
       "       '364471a6-9643-422c-8581-f2f3c61dbf34',\n",
       "       '0ef1118e-5f2c-4d70-9a74-2cb5e806cae9',\n",
       "       'a26221ab-fcbf-4315-a4ee-c8f310a02a40',\n",
       "       '48bfe160-46fb-4750-867d-8aca40b9274e',\n",
       "       'b2021c96-ca3d-4d16-9689-6949706e8729',\n",
       "       'f2a090b3-ec77-4018-939e-1a18d2b4f4ef',\n",
       "       '896a4c13-b51a-4be7-8632-cedb552d75c0',\n",
       "       '00c30446-d919-4705-8348-72c830daecc1',\n",
       "       'bac5ec3b-d506-4cd3-b2c1-6a500da0ae15',\n",
       "       '9516050d-5b94-4c62-b137-4619512537d2',\n",
       "       '29cec00b-b9ef-45de-af94-f5231986ea36',\n",
       "       'cdc28194-1af1-4059-9b25-19928d2f636a',\n",
       "       '4dd660fb-9365-4744-a629-56dbd1deb091',\n",
       "       'd66afc38-8750-4860-9f78-13fa90af20f3',\n",
       "       '334ca5b8-9a22-4264-a721-e302c2b9b25f',\n",
       "       '46b11caa-cb92-4af6-b0fe-79a8cf02bebe',\n",
       "       '581028d5-ed3a-4955-bacc-d97c787e89f6',\n",
       "       'ea312d55-2d53-4d0b-99f4-f7b7b1080d53',\n",
       "       '914538e1-e135-4976-aa0e-7fe363165ea9',\n",
       "       'b22c9c90-99f0-4bd1-9e44-4c006f75e827',\n",
       "       '7685ca08-371c-466e-876d-84bed780b299',\n",
       "       'dca8341b-73d8-42cb-b390-3418dc3aafb8',\n",
       "       '5929a0e9-95a7-4dbf-896e-c11d1988615e',\n",
       "       '47f4ea70-2ebc-4090-94af-2a974c1c2f6f',\n",
       "       '8ecbad18-b446-4131-beaa-13459c42b2aa',\n",
       "       'c62dbd98-4e48-44a5-8c38-057de6ca1fef',\n",
       "       'fadb0cb8-4b0d-4349-a77c-d12e5bc016e9',\n",
       "       '52a529c2-3084-40c1-8437-c02666dea0b2',\n",
       "       '9e42397d-946f-4da4-a78b-e45a669438b1',\n",
       "       'b50f855b-9b52-4507-8e5f-2c55368e1135',\n",
       "       '2a13668d-96bc-4350-a903-2c702f78d15e',\n",
       "       'f4185e9a-29f3-4112-835d-c487cbcb9dca',\n",
       "       '82c1cdc0-280e-4d9c-b81c-858928bfeaf6',\n",
       "       'f9633e23-e8a7-4f73-bfc2-21b24ef0c824',\n",
       "       '3ceaa820-ef71-45aa-8e44-c2943375c667',\n",
       "       '1d7afcbb-48f8-4863-b74d-fecd317356fc',\n",
       "       'bd103657-0a2d-42c1-a9a5-1f56300fad03',\n",
       "       'ecc07269-99b1-4b5a-b3d1-f32c94a26cda',\n",
       "       '6aae6c58-681d-41a7-9123-302a68ab9061',\n",
       "       '58bcde8c-2038-4cb6-bcb0-0df4bbc99759',\n",
       "       'aef74a79-4c4d-436d-9bba-eef01c3939e7',\n",
       "       '77b13a1f-3598-44db-a49f-0453e3a8f1ce',\n",
       "       'd3007de5-e5c1-42b6-bae6-7f66b445144c',\n",
       "       '6caeb6f0-cf5e-40c4-8122-cece673f248a',\n",
       "       '4ed15c17-7316-4dd3-bf81-082a9d513a98',\n",
       "       '934bd721-4fab-4d1e-8e7c-c67752c7ac6b',\n",
       "       'f3c97e19-9a88-47b0-a04c-168722c80117',\n",
       "       'f39ac4cb-6b6b-4ca2-b028-10410f522aa7',\n",
       "       'a94d3696-512d-451b-b2f1-7d76e61f17bc',\n",
       "       'ab84d135-5cb0-459a-805a-b985889c8cb8',\n",
       "       'b7162349-42e8-43c5-b737-a8c3a8d605dc',\n",
       "       'd9502bd5-aeb4-4c1f-8463-e25b91c94e52',\n",
       "       '2636a973-0a46-4233-87d6-ce5a19bf0058',\n",
       "       '74fd387e-04b2-4c9c-8ca1-6d05c94f12b7',\n",
       "       '4d9d5f2c-a50b-4bb0-af40-806b119a28e8',\n",
       "       'f91c3c08-9237-4934-a1b5-b82c1618c844',\n",
       "       '31b96602-742c-4b10-b50b-06bce42f8f53',\n",
       "       'e881497a-9232-4c23-89a0-7f2cfe20ce1b',\n",
       "       '887eaf4a-f4f2-40c7-aba2-14ff4585178e',\n",
       "       '984ee8c4-6548-4f58-8592-083e7b0f9db7',\n",
       "       'edf0c7f5-09a6-452b-aaec-bc0c8cfda4d6',\n",
       "       'cfd02289-035d-49f1-a63a-4164f80eed26',\n",
       "       '6a0166ac-a584-4e7c-b98d-cc57b637718b',\n",
       "       '0dfc57d3-a1f0-466f-a89c-36b4b932a3f0',\n",
       "       'e5f02def-8064-4995-a01b-9b30b097794e',\n",
       "       '0686c6c0-92ea-477b-9b78-9a466ba4d256',\n",
       "       '32887346-1f28-41e6-abc1-d1557c247882',\n",
       "       '0736e7af-7328-4d83-83fe-41c14b876a94',\n",
       "       'fdf8e8d7-b8b7-4f42-a207-3fa10ecdbad7',\n",
       "       '68e17ffc-bc2f-4e62-938e-37061222b9c1',\n",
       "       '9c12a0e7-e936-4480-8851-bd74714a0ba9',\n",
       "       'fac4fb89-a566-4bf4-86cf-6a30db0ce796',\n",
       "       '6dcd089d-24a1-4806-9885-bed9ff98b1e9',\n",
       "       '69df792c-3fef-4b81-8cb8-0077655cc524',\n",
       "       '525e2268-c032-4dd2-8811-7061d7f2c0e0',\n",
       "       '0cf58e59-487f-498b-b240-329fdc881af9',\n",
       "       '1c46cb8b-577c-48c7-90e2-4223ec9b25eb',\n",
       "       '50602cca-d159-4002-84aa-44bf970badf3',\n",
       "       'e4bc9971-54a9-4fdb-97e5-6c5ad9d87994',\n",
       "       '149fe459-28f2-41e3-84a9-efc695cfcef9',\n",
       "       '048beabf-0879-43ef-b635-52eedc163a01'], dtype=object)"
      ]
     },
     "execution_count": 19,
     "metadata": {},
     "output_type": "execute_result"
    }
   ],
   "source": [
    "df_cat[\"Customer_ID\"].unique()"
   ]
  },
  {
   "cell_type": "code",
   "execution_count": 20,
   "metadata": {},
   "outputs": [
    {
     "data": {
      "text/plain": [
       "array([nan, 'Snack-em Fish', 'Cat Cave', 'All Veggie Yummies',\n",
       "       'Chewie Dental', 'Scratchy Post', 'Reddy Beddy', 'Tuna Tasties',\n",
       "       'Whole Chemistry Recipe', 'Foozy Mouse', 'Purrfect Puree',\n",
       "       'Chomp-a Plush', 'New Dish', 'Tug-a-Back', 'Ball and String',\n",
       "       'Snoozer Hammock', 'Purr Mix', 'Fetch Blaster',\n",
       "       'Snoozer Essentails', 'Kitty Climber', 'Feline Fix Mix',\n",
       "       'Yum Fish-Dish'], dtype=object)"
      ]
     },
     "execution_count": 20,
     "metadata": {},
     "output_type": "execute_result"
    }
   ],
   "source": [
    "df_cat[\"Product_Name\"].unique()"
   ]
  },
  {
   "cell_type": "code",
   "execution_count": 21,
   "metadata": {},
   "outputs": [
    {
     "data": {
      "text/plain": [
       "array(['RKAPY3I1TP', 'O5FYJLBE0H', 'I2GQUNYDXW', 'W86BRJ9SSG',\n",
       "       'CG3531YP08', '058G0P7V60', 'IZBHF5KR79', 'GZCJZ3ET04',\n",
       "       'ORGRBTIKZR', 'NYW2F6CPBY', 'MPH6SCD7UT', '28LQOI0LSK',\n",
       "       'KDTMPSBZKZ', 'M291KHJ4LW', '8PYSMLYINS', 'V4B4RNS3ZP',\n",
       "       'OWFPW3WZHG', 'A8SU9C4GLF', '6K4AUUS730', '3HDX5H4WTM',\n",
       "       '1W0N5O3XOD', 'DJWE1V9LZK', 'GABWVMEL2R'], dtype=object)"
      ]
     },
     "execution_count": 21,
     "metadata": {},
     "output_type": "execute_result"
    }
   ],
   "source": [
    "df_cat[\"SKU\"].unique()"
   ]
  },
  {
   "cell_type": "code",
   "execution_count": 22,
   "metadata": {},
   "outputs": [
    {
     "data": {
      "text/plain": [
       "array([nan, 'medium', 'large', 'small'], dtype=object)"
      ]
     },
     "execution_count": 22,
     "metadata": {},
     "output_type": "execute_result"
    }
   ],
   "source": [
    "df_cat[\"Size\"].unique()"
   ]
  },
  {
   "cell_type": "code",
   "execution_count": 23,
   "metadata": {},
   "outputs": [
    {
     "data": {
      "text/plain": [
       "array([nan, 'food', 'treat', 'toy', 'bedding'], dtype=object)"
      ]
     },
     "execution_count": 23,
     "metadata": {},
     "output_type": "execute_result"
    }
   ],
   "source": [
    "df_cat[\"Product_Category\"].unique()"
   ]
  },
  {
   "cell_type": "code",
   "execution_count": 24,
   "metadata": {},
   "outputs": [
    {
     "data": {
      "text/plain": [
       "array([nan, 'dog', 'cat'], dtype=object)"
      ]
     },
     "execution_count": 24,
     "metadata": {},
     "output_type": "execute_result"
    }
   ],
   "source": [
    "df_cat[\"Product_Line\"].unique()"
   ]
  },
  {
   "cell_type": "markdown",
   "metadata": {},
   "source": [
    "# Scrubbing Data "
   ]
  },
  {
   "cell_type": "code",
   "execution_count": 25,
   "metadata": {},
   "outputs": [
    {
     "data": {
      "text/plain": [
       "['Price', 'Quantity']"
      ]
     },
     "execution_count": 25,
     "metadata": {},
     "output_type": "execute_result"
    }
   ],
   "source": [
    "list(df.select_dtypes([\"int\", \"float\"]))"
   ]
  },
  {
   "cell_type": "code",
   "execution_count": 26,
   "metadata": {},
   "outputs": [
    {
     "data": {
      "text/plain": [
       "['Order_Number',\n",
       " 'Customer_ID',\n",
       " 'Product_Name',\n",
       " 'SKU',\n",
       " 'Size',\n",
       " 'Product_Category',\n",
       " 'Product_Line']"
      ]
     },
     "execution_count": 26,
     "metadata": {},
     "output_type": "execute_result"
    }
   ],
   "source": [
    "list(df.select_dtypes([\"bool\",\"object\"]))"
   ]
  },
  {
   "cell_type": "code",
   "execution_count": 27,
   "metadata": {},
   "outputs": [
    {
     "data": {
      "text/plain": [
       "Index(['Date', 'Order_Number', 'Customer_ID', 'Product_Name', 'SKU', 'Price', 'Size', 'Quantity', 'Product_Category', 'Product_Line'], dtype='object')"
      ]
     },
     "execution_count": 27,
     "metadata": {},
     "output_type": "execute_result"
    }
   ],
   "source": [
    "df.columns"
   ]
  },
  {
   "cell_type": "code",
   "execution_count": 28,
   "metadata": {},
   "outputs": [],
   "source": [
    "# we call the imputer from feature engine.\n",
    "# By default it performs imputation with a string missing.\n",
    "\n",
    "imputer = CategoricalImputer(imputation_method='missing', variables=['Customer_ID'])"
   ]
  },
  {
   "cell_type": "code",
   "execution_count": 29,
   "metadata": {},
   "outputs": [
    {
     "data": {
      "text/html": [
       "<style>#sk-container-id-1 {color: black;background-color: white;}#sk-container-id-1 pre{padding: 0;}#sk-container-id-1 div.sk-toggleable {background-color: white;}#sk-container-id-1 label.sk-toggleable__label {cursor: pointer;display: block;width: 100%;margin-bottom: 0;padding: 0.3em;box-sizing: border-box;text-align: center;}#sk-container-id-1 label.sk-toggleable__label-arrow:before {content: \"▸\";float: left;margin-right: 0.25em;color: #696969;}#sk-container-id-1 label.sk-toggleable__label-arrow:hover:before {color: black;}#sk-container-id-1 div.sk-estimator:hover label.sk-toggleable__label-arrow:before {color: black;}#sk-container-id-1 div.sk-toggleable__content {max-height: 0;max-width: 0;overflow: hidden;text-align: left;background-color: #f0f8ff;}#sk-container-id-1 div.sk-toggleable__content pre {margin: 0.2em;color: black;border-radius: 0.25em;background-color: #f0f8ff;}#sk-container-id-1 input.sk-toggleable__control:checked~div.sk-toggleable__content {max-height: 200px;max-width: 100%;overflow: auto;}#sk-container-id-1 input.sk-toggleable__control:checked~label.sk-toggleable__label-arrow:before {content: \"▾\";}#sk-container-id-1 div.sk-estimator input.sk-toggleable__control:checked~label.sk-toggleable__label {background-color: #d4ebff;}#sk-container-id-1 div.sk-label input.sk-toggleable__control:checked~label.sk-toggleable__label {background-color: #d4ebff;}#sk-container-id-1 input.sk-hidden--visually {border: 0;clip: rect(1px 1px 1px 1px);clip: rect(1px, 1px, 1px, 1px);height: 1px;margin: -1px;overflow: hidden;padding: 0;position: absolute;width: 1px;}#sk-container-id-1 div.sk-estimator {font-family: monospace;background-color: #f0f8ff;border: 1px dotted black;border-radius: 0.25em;box-sizing: border-box;margin-bottom: 0.5em;}#sk-container-id-1 div.sk-estimator:hover {background-color: #d4ebff;}#sk-container-id-1 div.sk-parallel-item::after {content: \"\";width: 100%;border-bottom: 1px solid gray;flex-grow: 1;}#sk-container-id-1 div.sk-label:hover label.sk-toggleable__label {background-color: #d4ebff;}#sk-container-id-1 div.sk-serial::before {content: \"\";position: absolute;border-left: 1px solid gray;box-sizing: border-box;top: 0;bottom: 0;left: 50%;z-index: 0;}#sk-container-id-1 div.sk-serial {display: flex;flex-direction: column;align-items: center;background-color: white;padding-right: 0.2em;padding-left: 0.2em;position: relative;}#sk-container-id-1 div.sk-item {position: relative;z-index: 1;}#sk-container-id-1 div.sk-parallel {display: flex;align-items: stretch;justify-content: center;background-color: white;position: relative;}#sk-container-id-1 div.sk-item::before, #sk-container-id-1 div.sk-parallel-item::before {content: \"\";position: absolute;border-left: 1px solid gray;box-sizing: border-box;top: 0;bottom: 0;left: 50%;z-index: -1;}#sk-container-id-1 div.sk-parallel-item {display: flex;flex-direction: column;z-index: 1;position: relative;background-color: white;}#sk-container-id-1 div.sk-parallel-item:first-child::after {align-self: flex-end;width: 50%;}#sk-container-id-1 div.sk-parallel-item:last-child::after {align-self: flex-start;width: 50%;}#sk-container-id-1 div.sk-parallel-item:only-child::after {width: 0;}#sk-container-id-1 div.sk-dashed-wrapped {border: 1px dashed gray;margin: 0 0.4em 0.5em 0.4em;box-sizing: border-box;padding-bottom: 0.4em;background-color: white;}#sk-container-id-1 div.sk-label label {font-family: monospace;font-weight: bold;display: inline-block;line-height: 1.2em;}#sk-container-id-1 div.sk-label-container {text-align: center;}#sk-container-id-1 div.sk-container {/* jupyter's `normalize.less` sets `[hidden] { display: none; }` but bootstrap.min.css set `[hidden] { display: none !important; }` so we also need the `!important` here to be able to override the default hidden behavior on the sphinx rendered scikit-learn.org. See: https://github.com/scikit-learn/scikit-learn/issues/21755 */display: inline-block !important;position: relative;}#sk-container-id-1 div.sk-text-repr-fallback {display: none;}</style><div id=\"sk-container-id-1\" class=\"sk-top-container\"><div class=\"sk-text-repr-fallback\"><pre>CategoricalImputer(variables=[&#x27;Customer_ID&#x27;])</pre><b>In a Jupyter environment, please rerun this cell to show the HTML representation or trust the notebook. <br />On GitHub, the HTML representation is unable to render, please try loading this page with nbviewer.org.</b></div><div class=\"sk-container\" hidden><div class=\"sk-item\"><div class=\"sk-estimator sk-toggleable\"><input class=\"sk-toggleable__control sk-hidden--visually\" id=\"sk-estimator-id-1\" type=\"checkbox\" checked><label for=\"sk-estimator-id-1\" class=\"sk-toggleable__label sk-toggleable__label-arrow\">CategoricalImputer</label><div class=\"sk-toggleable__content\"><pre>CategoricalImputer(variables=[&#x27;Customer_ID&#x27;])</pre></div></div></div></div></div>"
      ],
      "text/plain": [
       "CategoricalImputer(variables=['Customer_ID'])"
      ]
     },
     "execution_count": 29,
     "metadata": {},
     "output_type": "execute_result"
    }
   ],
   "source": [
    "# we fit the imputer\n",
    "\n",
    "imputer.fit(df)"
   ]
  },
  {
   "cell_type": "code",
   "execution_count": 30,
   "metadata": {},
   "outputs": [
    {
     "data": {
      "text/plain": [
       "['Customer_ID']"
      ]
     },
     "execution_count": 30,
     "metadata": {},
     "output_type": "execute_result"
    }
   ],
   "source": [
    "# we see that the imputer found the categorical variables\n",
    "\n",
    "imputer.variables_"
   ]
  },
  {
   "cell_type": "code",
   "execution_count": 31,
   "metadata": {},
   "outputs": [],
   "source": [
    "# feature-engine returns a dataframe\n",
    "\n",
    "df2 = imputer.transform(df)"
   ]
  },
  {
   "cell_type": "code",
   "execution_count": 32,
   "metadata": {},
   "outputs": [
    {
     "data": {
      "text/plain": [
       "Date                  0\n",
       "Order_Number          0\n",
       "Customer_ID           0\n",
       "Product_Name         29\n",
       "SKU                   0\n",
       "Price                 0\n",
       "Size                229\n",
       "Quantity              0\n",
       "Product_Category    145\n",
       "Product_Line          2\n",
       "dtype: int64"
      ]
     },
     "execution_count": 32,
     "metadata": {},
     "output_type": "execute_result"
    }
   ],
   "source": [
    "df2.isnull().sum()"
   ]
  },
  {
   "cell_type": "code",
   "execution_count": 33,
   "metadata": {},
   "outputs": [
    {
     "data": {
      "text/plain": [
       "Reddy Beddy               33\n",
       "Snack-em Fish             18\n",
       "Whole Chemistry Recipe    18\n",
       "Purrfect Puree            18\n",
       "Feline Fix Mix            15\n",
       "Purr Mix                  14\n",
       "New Dish                  14\n",
       "Snoozer Hammock           14\n",
       "Kitty Climber             13\n",
       "Scratchy Post             12\n",
       "Cat Cave                  12\n",
       "Snoozer Essentails        12\n",
       "Fetch Blaster             11\n",
       "All Veggie Yummies        10\n",
       "Foozy Mouse               10\n",
       "Chomp-a Plush              9\n",
       "Ball and String            8\n",
       "Tug-a-Back                 8\n",
       "Tuna Tasties               8\n",
       "Yum Fish-Dish              8\n",
       "Chewie Dental              6\n",
       "Name: Product_Name, dtype: int64"
      ]
     },
     "execution_count": 33,
     "metadata": {},
     "output_type": "execute_result"
    }
   ],
   "source": [
    "df2[\"Product_Name\"].value_counts()"
   ]
  },
  {
   "cell_type": "code",
   "execution_count": 34,
   "metadata": {},
   "outputs": [
    {
     "data": {
      "text/plain": [
       "small     30\n",
       "large     22\n",
       "medium    19\n",
       "Name: Size, dtype: int64"
      ]
     },
     "execution_count": 34,
     "metadata": {},
     "output_type": "execute_result"
    }
   ],
   "source": [
    "df2[\"Size\"].value_counts()"
   ]
  },
  {
   "cell_type": "code",
   "execution_count": 35,
   "metadata": {},
   "outputs": [
    {
     "data": {
      "text/plain": [
       "treat      47\n",
       "bedding    41\n",
       "toy        38\n",
       "food       29\n",
       "Name: Product_Category, dtype: int64"
      ]
     },
     "execution_count": 35,
     "metadata": {},
     "output_type": "execute_result"
    }
   ],
   "source": [
    "df2[\"Product_Category\"].value_counts()"
   ]
  },
  {
   "cell_type": "code",
   "execution_count": 36,
   "metadata": {},
   "outputs": [
    {
     "data": {
      "text/plain": [
       "cat    163\n",
       "dog    135\n",
       "Name: Product_Line, dtype: int64"
      ]
     },
     "execution_count": 36,
     "metadata": {},
     "output_type": "execute_result"
    }
   ],
   "source": [
    "df2[\"Product_Line\"].value_counts()"
   ]
  },
  {
   "cell_type": "code",
   "execution_count": 37,
   "metadata": {},
   "outputs": [],
   "source": [
    "# We specify how we want to impute\n",
    "# the categorical variables.\n",
    "\n",
    "imputer = CategoricalImputer(imputation_method=\"frequent\", variables=[\"Product_Name\",\"Size\",\"Product_Category\",\n",
    "                                                                     \"Product_Line\"])"
   ]
  },
  {
   "cell_type": "code",
   "execution_count": 38,
   "metadata": {},
   "outputs": [
    {
     "data": {
      "text/html": [
       "<style>#sk-container-id-2 {color: black;background-color: white;}#sk-container-id-2 pre{padding: 0;}#sk-container-id-2 div.sk-toggleable {background-color: white;}#sk-container-id-2 label.sk-toggleable__label {cursor: pointer;display: block;width: 100%;margin-bottom: 0;padding: 0.3em;box-sizing: border-box;text-align: center;}#sk-container-id-2 label.sk-toggleable__label-arrow:before {content: \"▸\";float: left;margin-right: 0.25em;color: #696969;}#sk-container-id-2 label.sk-toggleable__label-arrow:hover:before {color: black;}#sk-container-id-2 div.sk-estimator:hover label.sk-toggleable__label-arrow:before {color: black;}#sk-container-id-2 div.sk-toggleable__content {max-height: 0;max-width: 0;overflow: hidden;text-align: left;background-color: #f0f8ff;}#sk-container-id-2 div.sk-toggleable__content pre {margin: 0.2em;color: black;border-radius: 0.25em;background-color: #f0f8ff;}#sk-container-id-2 input.sk-toggleable__control:checked~div.sk-toggleable__content {max-height: 200px;max-width: 100%;overflow: auto;}#sk-container-id-2 input.sk-toggleable__control:checked~label.sk-toggleable__label-arrow:before {content: \"▾\";}#sk-container-id-2 div.sk-estimator input.sk-toggleable__control:checked~label.sk-toggleable__label {background-color: #d4ebff;}#sk-container-id-2 div.sk-label input.sk-toggleable__control:checked~label.sk-toggleable__label {background-color: #d4ebff;}#sk-container-id-2 input.sk-hidden--visually {border: 0;clip: rect(1px 1px 1px 1px);clip: rect(1px, 1px, 1px, 1px);height: 1px;margin: -1px;overflow: hidden;padding: 0;position: absolute;width: 1px;}#sk-container-id-2 div.sk-estimator {font-family: monospace;background-color: #f0f8ff;border: 1px dotted black;border-radius: 0.25em;box-sizing: border-box;margin-bottom: 0.5em;}#sk-container-id-2 div.sk-estimator:hover {background-color: #d4ebff;}#sk-container-id-2 div.sk-parallel-item::after {content: \"\";width: 100%;border-bottom: 1px solid gray;flex-grow: 1;}#sk-container-id-2 div.sk-label:hover label.sk-toggleable__label {background-color: #d4ebff;}#sk-container-id-2 div.sk-serial::before {content: \"\";position: absolute;border-left: 1px solid gray;box-sizing: border-box;top: 0;bottom: 0;left: 50%;z-index: 0;}#sk-container-id-2 div.sk-serial {display: flex;flex-direction: column;align-items: center;background-color: white;padding-right: 0.2em;padding-left: 0.2em;position: relative;}#sk-container-id-2 div.sk-item {position: relative;z-index: 1;}#sk-container-id-2 div.sk-parallel {display: flex;align-items: stretch;justify-content: center;background-color: white;position: relative;}#sk-container-id-2 div.sk-item::before, #sk-container-id-2 div.sk-parallel-item::before {content: \"\";position: absolute;border-left: 1px solid gray;box-sizing: border-box;top: 0;bottom: 0;left: 50%;z-index: -1;}#sk-container-id-2 div.sk-parallel-item {display: flex;flex-direction: column;z-index: 1;position: relative;background-color: white;}#sk-container-id-2 div.sk-parallel-item:first-child::after {align-self: flex-end;width: 50%;}#sk-container-id-2 div.sk-parallel-item:last-child::after {align-self: flex-start;width: 50%;}#sk-container-id-2 div.sk-parallel-item:only-child::after {width: 0;}#sk-container-id-2 div.sk-dashed-wrapped {border: 1px dashed gray;margin: 0 0.4em 0.5em 0.4em;box-sizing: border-box;padding-bottom: 0.4em;background-color: white;}#sk-container-id-2 div.sk-label label {font-family: monospace;font-weight: bold;display: inline-block;line-height: 1.2em;}#sk-container-id-2 div.sk-label-container {text-align: center;}#sk-container-id-2 div.sk-container {/* jupyter's `normalize.less` sets `[hidden] { display: none; }` but bootstrap.min.css set `[hidden] { display: none !important; }` so we also need the `!important` here to be able to override the default hidden behavior on the sphinx rendered scikit-learn.org. See: https://github.com/scikit-learn/scikit-learn/issues/21755 */display: inline-block !important;position: relative;}#sk-container-id-2 div.sk-text-repr-fallback {display: none;}</style><div id=\"sk-container-id-2\" class=\"sk-top-container\"><div class=\"sk-text-repr-fallback\"><pre>CategoricalImputer(imputation_method=&#x27;frequent&#x27;,\n",
       "                   variables=[&#x27;Product_Name&#x27;, &#x27;Size&#x27;, &#x27;Product_Category&#x27;,\n",
       "                              &#x27;Product_Line&#x27;])</pre><b>In a Jupyter environment, please rerun this cell to show the HTML representation or trust the notebook. <br />On GitHub, the HTML representation is unable to render, please try loading this page with nbviewer.org.</b></div><div class=\"sk-container\" hidden><div class=\"sk-item\"><div class=\"sk-estimator sk-toggleable\"><input class=\"sk-toggleable__control sk-hidden--visually\" id=\"sk-estimator-id-2\" type=\"checkbox\" checked><label for=\"sk-estimator-id-2\" class=\"sk-toggleable__label sk-toggleable__label-arrow\">CategoricalImputer</label><div class=\"sk-toggleable__content\"><pre>CategoricalImputer(imputation_method=&#x27;frequent&#x27;,\n",
       "                   variables=[&#x27;Product_Name&#x27;, &#x27;Size&#x27;, &#x27;Product_Category&#x27;,\n",
       "                              &#x27;Product_Line&#x27;])</pre></div></div></div></div></div>"
      ],
      "text/plain": [
       "CategoricalImputer(imputation_method='frequent',\n",
       "                   variables=['Product_Name', 'Size', 'Product_Category',\n",
       "                              'Product_Line'])"
      ]
     },
     "execution_count": 38,
     "metadata": {},
     "output_type": "execute_result"
    }
   ],
   "source": [
    "# we fit the imputer\n",
    "\n",
    "imputer.fit(df2)"
   ]
  },
  {
   "cell_type": "code",
   "execution_count": 39,
   "metadata": {},
   "outputs": [
    {
     "data": {
      "text/plain": [
       "['Product_Name', 'Size', 'Product_Category', 'Product_Line']"
      ]
     },
     "execution_count": 39,
     "metadata": {},
     "output_type": "execute_result"
    }
   ],
   "source": [
    "imputer.variables_"
   ]
  },
  {
   "cell_type": "code",
   "execution_count": 40,
   "metadata": {},
   "outputs": [],
   "source": [
    "df3 = imputer.transform(df2)"
   ]
  },
  {
   "cell_type": "code",
   "execution_count": 41,
   "metadata": {},
   "outputs": [
    {
     "data": {
      "text/plain": [
       "Date                0\n",
       "Order_Number        0\n",
       "Customer_ID         0\n",
       "Product_Name        0\n",
       "SKU                 0\n",
       "Price               0\n",
       "Size                0\n",
       "Quantity            0\n",
       "Product_Category    0\n",
       "Product_Line        0\n",
       "dtype: int64"
      ]
     },
     "execution_count": 41,
     "metadata": {},
     "output_type": "execute_result"
    }
   ],
   "source": [
    "df3.isnull().sum()"
   ]
  },
  {
   "cell_type": "code",
   "execution_count": 42,
   "metadata": {},
   "outputs": [
    {
     "data": {
      "text/html": [
       "<div>\n",
       "<style scoped>\n",
       "    .dataframe tbody tr th:only-of-type {\n",
       "        vertical-align: middle;\n",
       "    }\n",
       "\n",
       "    .dataframe tbody tr th {\n",
       "        vertical-align: top;\n",
       "    }\n",
       "\n",
       "    .dataframe thead th {\n",
       "        text-align: right;\n",
       "    }\n",
       "</style>\n",
       "<table border=\"1\" class=\"dataframe\">\n",
       "  <thead>\n",
       "    <tr style=\"text-align: right;\">\n",
       "      <th></th>\n",
       "      <th>Date</th>\n",
       "      <th>Order_Number</th>\n",
       "      <th>Customer_ID</th>\n",
       "      <th>Product_Name</th>\n",
       "      <th>SKU</th>\n",
       "      <th>Price</th>\n",
       "      <th>Size</th>\n",
       "      <th>Quantity</th>\n",
       "      <th>Product_Category</th>\n",
       "      <th>Product_Line</th>\n",
       "    </tr>\n",
       "  </thead>\n",
       "  <tbody>\n",
       "    <tr>\n",
       "      <th>0</th>\n",
       "      <td>2019-03-31</td>\n",
       "      <td>5ZR-4930-9569-1000</td>\n",
       "      <td>e2b695c8-bf79-46d5-9455-f53f68562af2</td>\n",
       "      <td>Reddy Beddy</td>\n",
       "      <td>RKAPY3I1TP</td>\n",
       "      <td>39.55</td>\n",
       "      <td>small</td>\n",
       "      <td>2</td>\n",
       "      <td>treat</td>\n",
       "      <td>cat</td>\n",
       "    </tr>\n",
       "    <tr>\n",
       "      <th>1</th>\n",
       "      <td>2020-03-08</td>\n",
       "      <td>TAI-6046-9953-7908</td>\n",
       "      <td>Missing</td>\n",
       "      <td>Reddy Beddy</td>\n",
       "      <td>O5FYJLBE0H</td>\n",
       "      <td>24.53</td>\n",
       "      <td>small</td>\n",
       "      <td>2</td>\n",
       "      <td>treat</td>\n",
       "      <td>cat</td>\n",
       "    </tr>\n",
       "    <tr>\n",
       "      <th>2</th>\n",
       "      <td>2021-03-13</td>\n",
       "      <td>KZM-2608-1918-3044</td>\n",
       "      <td>4c3aa8dc-fc7b-4796-9c70-b0aa9a4f1977</td>\n",
       "      <td>Reddy Beddy</td>\n",
       "      <td>I2GQUNYDXW</td>\n",
       "      <td>36.30</td>\n",
       "      <td>medium</td>\n",
       "      <td>2</td>\n",
       "      <td>treat</td>\n",
       "      <td>dog</td>\n",
       "    </tr>\n",
       "    <tr>\n",
       "      <th>3</th>\n",
       "      <td>2019-06-30</td>\n",
       "      <td>VXJ-7724-4518-8390</td>\n",
       "      <td>6cb2df70-b4e9-41c6-8b90-a375376c55dd</td>\n",
       "      <td>Reddy Beddy</td>\n",
       "      <td>W86BRJ9SSG</td>\n",
       "      <td>39.32</td>\n",
       "      <td>small</td>\n",
       "      <td>3</td>\n",
       "      <td>treat</td>\n",
       "      <td>cat</td>\n",
       "    </tr>\n",
       "    <tr>\n",
       "      <th>4</th>\n",
       "      <td>2019-05-21</td>\n",
       "      <td>5GV-6876-7635-4506</td>\n",
       "      <td>9d92f453-84ec-4beb-acc1-2b9d1cce8910</td>\n",
       "      <td>Reddy Beddy</td>\n",
       "      <td>CG3531YP08</td>\n",
       "      <td>38.17</td>\n",
       "      <td>small</td>\n",
       "      <td>2</td>\n",
       "      <td>treat</td>\n",
       "      <td>dog</td>\n",
       "    </tr>\n",
       "  </tbody>\n",
       "</table>\n",
       "</div>"
      ],
      "text/plain": [
       "        Date        Order_Number                           Customer_ID Product_Name         SKU  Price    Size  Quantity Product_Category Product_Line\n",
       "0 2019-03-31  5ZR-4930-9569-1000  e2b695c8-bf79-46d5-9455-f53f68562af2  Reddy Beddy  RKAPY3I1TP  39.55   small         2            treat          cat\n",
       "1 2020-03-08  TAI-6046-9953-7908                               Missing  Reddy Beddy  O5FYJLBE0H  24.53   small         2            treat          cat\n",
       "2 2021-03-13  KZM-2608-1918-3044  4c3aa8dc-fc7b-4796-9c70-b0aa9a4f1977  Reddy Beddy  I2GQUNYDXW  36.30  medium         2            treat          dog\n",
       "3 2019-06-30  VXJ-7724-4518-8390  6cb2df70-b4e9-41c6-8b90-a375376c55dd  Reddy Beddy  W86BRJ9SSG  39.32   small         3            treat          cat\n",
       "4 2019-05-21  5GV-6876-7635-4506  9d92f453-84ec-4beb-acc1-2b9d1cce8910  Reddy Beddy  CG3531YP08  38.17   small         2            treat          dog"
      ]
     },
     "execution_count": 42,
     "metadata": {},
     "output_type": "execute_result"
    }
   ],
   "source": [
    "df3.head()"
   ]
  },
  {
   "cell_type": "code",
   "execution_count": 43,
   "metadata": {},
   "outputs": [],
   "source": [
    "#df3.to_csv(\"petstore.csv\", index=False)"
   ]
  },
  {
   "cell_type": "markdown",
   "metadata": {},
   "source": [
    "**==========================================================================================================**"
   ]
  },
  {
   "cell_type": "markdown",
   "metadata": {},
   "source": [
    "# Explore"
   ]
  },
  {
   "cell_type": "markdown",
   "metadata": {},
   "source": [
    "**==========================================================================================================**"
   ]
  },
  {
   "cell_type": "code",
   "execution_count": 44,
   "metadata": {},
   "outputs": [],
   "source": [
    "df = pd.read_csv(\"petstore.csv\", parse_dates=[\"Date\"])"
   ]
  },
  {
   "cell_type": "code",
   "execution_count": 45,
   "metadata": {},
   "outputs": [
    {
     "data": {
      "text/html": [
       "<div>\n",
       "<style scoped>\n",
       "    .dataframe tbody tr th:only-of-type {\n",
       "        vertical-align: middle;\n",
       "    }\n",
       "\n",
       "    .dataframe tbody tr th {\n",
       "        vertical-align: top;\n",
       "    }\n",
       "\n",
       "    .dataframe thead th {\n",
       "        text-align: right;\n",
       "    }\n",
       "</style>\n",
       "<table border=\"1\" class=\"dataframe\">\n",
       "  <thead>\n",
       "    <tr style=\"text-align: right;\">\n",
       "      <th></th>\n",
       "      <th>Date</th>\n",
       "      <th>Order_Number</th>\n",
       "      <th>Customer_ID</th>\n",
       "      <th>Product_Name</th>\n",
       "      <th>SKU</th>\n",
       "      <th>Price</th>\n",
       "      <th>Size</th>\n",
       "      <th>Quantity</th>\n",
       "      <th>Product_Category</th>\n",
       "      <th>Product_Line</th>\n",
       "    </tr>\n",
       "  </thead>\n",
       "  <tbody>\n",
       "    <tr>\n",
       "      <th>0</th>\n",
       "      <td>2019-03-31</td>\n",
       "      <td>5ZR-4930-9569-1000</td>\n",
       "      <td>e2b695c8-bf79-46d5-9455-f53f68562af2</td>\n",
       "      <td>Reddy Beddy</td>\n",
       "      <td>RKAPY3I1TP</td>\n",
       "      <td>39.55</td>\n",
       "      <td>small</td>\n",
       "      <td>2</td>\n",
       "      <td>treat</td>\n",
       "      <td>cat</td>\n",
       "    </tr>\n",
       "    <tr>\n",
       "      <th>1</th>\n",
       "      <td>2020-03-08</td>\n",
       "      <td>TAI-6046-9953-7908</td>\n",
       "      <td>Missing</td>\n",
       "      <td>Reddy Beddy</td>\n",
       "      <td>O5FYJLBE0H</td>\n",
       "      <td>24.53</td>\n",
       "      <td>small</td>\n",
       "      <td>2</td>\n",
       "      <td>treat</td>\n",
       "      <td>cat</td>\n",
       "    </tr>\n",
       "    <tr>\n",
       "      <th>2</th>\n",
       "      <td>2021-03-13</td>\n",
       "      <td>KZM-2608-1918-3044</td>\n",
       "      <td>4c3aa8dc-fc7b-4796-9c70-b0aa9a4f1977</td>\n",
       "      <td>Reddy Beddy</td>\n",
       "      <td>I2GQUNYDXW</td>\n",
       "      <td>36.30</td>\n",
       "      <td>medium</td>\n",
       "      <td>2</td>\n",
       "      <td>treat</td>\n",
       "      <td>dog</td>\n",
       "    </tr>\n",
       "    <tr>\n",
       "      <th>3</th>\n",
       "      <td>2019-06-30</td>\n",
       "      <td>VXJ-7724-4518-8390</td>\n",
       "      <td>6cb2df70-b4e9-41c6-8b90-a375376c55dd</td>\n",
       "      <td>Reddy Beddy</td>\n",
       "      <td>W86BRJ9SSG</td>\n",
       "      <td>39.32</td>\n",
       "      <td>small</td>\n",
       "      <td>3</td>\n",
       "      <td>treat</td>\n",
       "      <td>cat</td>\n",
       "    </tr>\n",
       "    <tr>\n",
       "      <th>4</th>\n",
       "      <td>2019-05-21</td>\n",
       "      <td>5GV-6876-7635-4506</td>\n",
       "      <td>9d92f453-84ec-4beb-acc1-2b9d1cce8910</td>\n",
       "      <td>Reddy Beddy</td>\n",
       "      <td>CG3531YP08</td>\n",
       "      <td>38.17</td>\n",
       "      <td>small</td>\n",
       "      <td>2</td>\n",
       "      <td>treat</td>\n",
       "      <td>dog</td>\n",
       "    </tr>\n",
       "    <tr>\n",
       "      <th>...</th>\n",
       "      <td>...</td>\n",
       "      <td>...</td>\n",
       "      <td>...</td>\n",
       "      <td>...</td>\n",
       "      <td>...</td>\n",
       "      <td>...</td>\n",
       "      <td>...</td>\n",
       "      <td>...</td>\n",
       "      <td>...</td>\n",
       "      <td>...</td>\n",
       "    </tr>\n",
       "    <tr>\n",
       "      <th>295</th>\n",
       "      <td>2019-12-10</td>\n",
       "      <td>NBO-9145-6890-2675</td>\n",
       "      <td>77b13a1f-3598-44db-a49f-0453e3a8f1ce</td>\n",
       "      <td>Snoozer Hammock</td>\n",
       "      <td>V4B4RNS3ZP</td>\n",
       "      <td>34.38</td>\n",
       "      <td>small</td>\n",
       "      <td>1</td>\n",
       "      <td>bedding</td>\n",
       "      <td>cat</td>\n",
       "    </tr>\n",
       "    <tr>\n",
       "      <th>296</th>\n",
       "      <td>2020-04-02</td>\n",
       "      <td>D3D-2667-7601-4187</td>\n",
       "      <td>e4bc9971-54a9-4fdb-97e5-6c5ad9d87994</td>\n",
       "      <td>Tuna Tasties</td>\n",
       "      <td>A8SU9C4GLF</td>\n",
       "      <td>14.53</td>\n",
       "      <td>small</td>\n",
       "      <td>2</td>\n",
       "      <td>treat</td>\n",
       "      <td>cat</td>\n",
       "    </tr>\n",
       "    <tr>\n",
       "      <th>297</th>\n",
       "      <td>2019-07-22</td>\n",
       "      <td>MFB-1481-9396-0747</td>\n",
       "      <td>9cf29d34-6977-4b8f-a90c-ab917e848e53</td>\n",
       "      <td>Scratchy Post</td>\n",
       "      <td>MPH6SCD7UT</td>\n",
       "      <td>26.95</td>\n",
       "      <td>small</td>\n",
       "      <td>2</td>\n",
       "      <td>toy</td>\n",
       "      <td>cat</td>\n",
       "    </tr>\n",
       "    <tr>\n",
       "      <th>298</th>\n",
       "      <td>2019-05-11</td>\n",
       "      <td>6V6-5054-5972-6803</td>\n",
       "      <td>149fe459-28f2-41e3-84a9-efc695cfcef9</td>\n",
       "      <td>Purr Mix</td>\n",
       "      <td>O5FYJLBE0H</td>\n",
       "      <td>24.53</td>\n",
       "      <td>small</td>\n",
       "      <td>1</td>\n",
       "      <td>food</td>\n",
       "      <td>cat</td>\n",
       "    </tr>\n",
       "    <tr>\n",
       "      <th>299</th>\n",
       "      <td>2021-01-23</td>\n",
       "      <td>5MG-5791-6021-3110</td>\n",
       "      <td>048beabf-0879-43ef-b635-52eedc163a01</td>\n",
       "      <td>Foozy Mouse</td>\n",
       "      <td>8PYSMLYINS</td>\n",
       "      <td>10.80</td>\n",
       "      <td>small</td>\n",
       "      <td>3</td>\n",
       "      <td>toy</td>\n",
       "      <td>cat</td>\n",
       "    </tr>\n",
       "  </tbody>\n",
       "</table>\n",
       "<p>300 rows × 10 columns</p>\n",
       "</div>"
      ],
      "text/plain": [
       "          Date        Order_Number                           Customer_ID     Product_Name         SKU  Price    Size  Quantity Product_Category Product_Line\n",
       "0   2019-03-31  5ZR-4930-9569-1000  e2b695c8-bf79-46d5-9455-f53f68562af2      Reddy Beddy  RKAPY3I1TP  39.55   small         2            treat          cat\n",
       "1   2020-03-08  TAI-6046-9953-7908                               Missing      Reddy Beddy  O5FYJLBE0H  24.53   small         2            treat          cat\n",
       "2   2021-03-13  KZM-2608-1918-3044  4c3aa8dc-fc7b-4796-9c70-b0aa9a4f1977      Reddy Beddy  I2GQUNYDXW  36.30  medium         2            treat          dog\n",
       "3   2019-06-30  VXJ-7724-4518-8390  6cb2df70-b4e9-41c6-8b90-a375376c55dd      Reddy Beddy  W86BRJ9SSG  39.32   small         3            treat          cat\n",
       "4   2019-05-21  5GV-6876-7635-4506  9d92f453-84ec-4beb-acc1-2b9d1cce8910      Reddy Beddy  CG3531YP08  38.17   small         2            treat          dog\n",
       "..         ...                 ...                                   ...              ...         ...    ...     ...       ...              ...          ...\n",
       "295 2019-12-10  NBO-9145-6890-2675  77b13a1f-3598-44db-a49f-0453e3a8f1ce  Snoozer Hammock  V4B4RNS3ZP  34.38   small         1          bedding          cat\n",
       "296 2020-04-02  D3D-2667-7601-4187  e4bc9971-54a9-4fdb-97e5-6c5ad9d87994     Tuna Tasties  A8SU9C4GLF  14.53   small         2            treat          cat\n",
       "297 2019-07-22  MFB-1481-9396-0747  9cf29d34-6977-4b8f-a90c-ab917e848e53    Scratchy Post  MPH6SCD7UT  26.95   small         2              toy          cat\n",
       "298 2019-05-11  6V6-5054-5972-6803  149fe459-28f2-41e3-84a9-efc695cfcef9         Purr Mix  O5FYJLBE0H  24.53   small         1             food          cat\n",
       "299 2021-01-23  5MG-5791-6021-3110  048beabf-0879-43ef-b635-52eedc163a01      Foozy Mouse  8PYSMLYINS  10.80   small         3              toy          cat\n",
       "\n",
       "[300 rows x 10 columns]"
      ]
     },
     "execution_count": 45,
     "metadata": {},
     "output_type": "execute_result"
    }
   ],
   "source": [
    "df"
   ]
  },
  {
   "cell_type": "code",
   "execution_count": 46,
   "metadata": {},
   "outputs": [
    {
     "data": {
      "text/plain": [
       "Index(['Date', 'Order_Number', 'Customer_ID', 'Product_Name', 'SKU', 'Price', 'Size', 'Quantity', 'Product_Category', 'Product_Line'], dtype='object')"
      ]
     },
     "execution_count": 46,
     "metadata": {},
     "output_type": "execute_result"
    }
   ],
   "source": [
    "df.columns"
   ]
  },
  {
   "cell_type": "code",
   "execution_count": 47,
   "metadata": {},
   "outputs": [
    {
     "data": {
      "text/html": [
       "<div>\n",
       "<style scoped>\n",
       "    .dataframe tbody tr th:only-of-type {\n",
       "        vertical-align: middle;\n",
       "    }\n",
       "\n",
       "    .dataframe tbody tr th {\n",
       "        vertical-align: top;\n",
       "    }\n",
       "\n",
       "    .dataframe thead th {\n",
       "        text-align: right;\n",
       "    }\n",
       "</style>\n",
       "<table border=\"1\" class=\"dataframe\">\n",
       "  <thead>\n",
       "    <tr style=\"text-align: right;\">\n",
       "      <th></th>\n",
       "      <th>Price</th>\n",
       "      <th>Quantity</th>\n",
       "    </tr>\n",
       "  </thead>\n",
       "  <tbody>\n",
       "    <tr>\n",
       "      <th>count</th>\n",
       "      <td>300.00</td>\n",
       "      <td>300.00</td>\n",
       "    </tr>\n",
       "    <tr>\n",
       "      <th>mean</th>\n",
       "      <td>26.03</td>\n",
       "      <td>2.10</td>\n",
       "    </tr>\n",
       "    <tr>\n",
       "      <th>std</th>\n",
       "      <td>8.94</td>\n",
       "      <td>0.79</td>\n",
       "    </tr>\n",
       "    <tr>\n",
       "      <th>min</th>\n",
       "      <td>10.80</td>\n",
       "      <td>1.00</td>\n",
       "    </tr>\n",
       "    <tr>\n",
       "      <th>25%</th>\n",
       "      <td>18.53</td>\n",
       "      <td>1.00</td>\n",
       "    </tr>\n",
       "    <tr>\n",
       "      <th>50%</th>\n",
       "      <td>25.48</td>\n",
       "      <td>2.00</td>\n",
       "    </tr>\n",
       "    <tr>\n",
       "      <th>75%</th>\n",
       "      <td>34.38</td>\n",
       "      <td>3.00</td>\n",
       "    </tr>\n",
       "    <tr>\n",
       "      <th>max</th>\n",
       "      <td>39.55</td>\n",
       "      <td>3.00</td>\n",
       "    </tr>\n",
       "  </tbody>\n",
       "</table>\n",
       "</div>"
      ],
      "text/plain": [
       "       Price  Quantity\n",
       "count 300.00    300.00\n",
       "mean   26.03      2.10\n",
       "std     8.94      0.79\n",
       "min    10.80      1.00\n",
       "25%    18.53      1.00\n",
       "50%    25.48      2.00\n",
       "75%    34.38      3.00\n",
       "max    39.55      3.00"
      ]
     },
     "execution_count": 47,
     "metadata": {},
     "output_type": "execute_result"
    }
   ],
   "source": [
    "df.describe()"
   ]
  },
  {
   "cell_type": "code",
   "execution_count": 48,
   "metadata": {},
   "outputs": [
    {
     "data": {
      "text/html": [
       "<div>\n",
       "<style scoped>\n",
       "    .dataframe tbody tr th:only-of-type {\n",
       "        vertical-align: middle;\n",
       "    }\n",
       "\n",
       "    .dataframe tbody tr th {\n",
       "        vertical-align: top;\n",
       "    }\n",
       "\n",
       "    .dataframe thead th {\n",
       "        text-align: right;\n",
       "    }\n",
       "</style>\n",
       "<table border=\"1\" class=\"dataframe\">\n",
       "  <thead>\n",
       "    <tr style=\"text-align: right;\">\n",
       "      <th></th>\n",
       "      <th>Date</th>\n",
       "      <th>Price</th>\n",
       "      <th>Quantity</th>\n",
       "    </tr>\n",
       "  </thead>\n",
       "  <tbody>\n",
       "    <tr>\n",
       "      <th>0</th>\n",
       "      <td>2019-03-17</td>\n",
       "      <td>25.48</td>\n",
       "      <td>2.00</td>\n",
       "    </tr>\n",
       "    <tr>\n",
       "      <th>1</th>\n",
       "      <td>2019-03-18</td>\n",
       "      <td>39.24</td>\n",
       "      <td>3.00</td>\n",
       "    </tr>\n",
       "    <tr>\n",
       "      <th>2</th>\n",
       "      <td>2019-03-21</td>\n",
       "      <td>27.09</td>\n",
       "      <td>2.00</td>\n",
       "    </tr>\n",
       "    <tr>\n",
       "      <th>3</th>\n",
       "      <td>2019-03-26</td>\n",
       "      <td>26.95</td>\n",
       "      <td>2.00</td>\n",
       "    </tr>\n",
       "    <tr>\n",
       "      <th>4</th>\n",
       "      <td>2019-03-29</td>\n",
       "      <td>26.01</td>\n",
       "      <td>1.50</td>\n",
       "    </tr>\n",
       "    <tr>\n",
       "      <th>...</th>\n",
       "      <td>...</td>\n",
       "      <td>...</td>\n",
       "      <td>...</td>\n",
       "    </tr>\n",
       "    <tr>\n",
       "      <th>219</th>\n",
       "      <td>2021-07-30</td>\n",
       "      <td>16.71</td>\n",
       "      <td>3.00</td>\n",
       "    </tr>\n",
       "    <tr>\n",
       "      <th>220</th>\n",
       "      <td>2021-08-05</td>\n",
       "      <td>21.82</td>\n",
       "      <td>1.00</td>\n",
       "    </tr>\n",
       "    <tr>\n",
       "      <th>221</th>\n",
       "      <td>2021-08-10</td>\n",
       "      <td>17.16</td>\n",
       "      <td>2.00</td>\n",
       "    </tr>\n",
       "    <tr>\n",
       "      <th>222</th>\n",
       "      <td>2021-08-24</td>\n",
       "      <td>10.80</td>\n",
       "      <td>2.00</td>\n",
       "    </tr>\n",
       "    <tr>\n",
       "      <th>223</th>\n",
       "      <td>2021-08-31</td>\n",
       "      <td>29.04</td>\n",
       "      <td>1.50</td>\n",
       "    </tr>\n",
       "  </tbody>\n",
       "</table>\n",
       "<p>224 rows × 3 columns</p>\n",
       "</div>"
      ],
      "text/plain": [
       "          Date  Price  Quantity\n",
       "0   2019-03-17  25.48      2.00\n",
       "1   2019-03-18  39.24      3.00\n",
       "2   2019-03-21  27.09      2.00\n",
       "3   2019-03-26  26.95      2.00\n",
       "4   2019-03-29  26.01      1.50\n",
       "..         ...    ...       ...\n",
       "219 2021-07-30  16.71      3.00\n",
       "220 2021-08-05  21.82      1.00\n",
       "221 2021-08-10  17.16      2.00\n",
       "222 2021-08-24  10.80      2.00\n",
       "223 2021-08-31  29.04      1.50\n",
       "\n",
       "[224 rows x 3 columns]"
      ]
     },
     "execution_count": 48,
     "metadata": {},
     "output_type": "execute_result"
    }
   ],
   "source": [
    "df.groupby([\"Date\"], as_index=False).mean()"
   ]
  },
  {
   "cell_type": "code",
   "execution_count": 49,
   "metadata": {},
   "outputs": [
    {
     "data": {
      "text/html": [
       "<div>\n",
       "<style scoped>\n",
       "    .dataframe tbody tr th:only-of-type {\n",
       "        vertical-align: middle;\n",
       "    }\n",
       "\n",
       "    .dataframe tbody tr th {\n",
       "        vertical-align: top;\n",
       "    }\n",
       "\n",
       "    .dataframe thead th {\n",
       "        text-align: right;\n",
       "    }\n",
       "</style>\n",
       "<table border=\"1\" class=\"dataframe\">\n",
       "  <thead>\n",
       "    <tr style=\"text-align: right;\">\n",
       "      <th></th>\n",
       "      <th>Product_Name</th>\n",
       "      <th>Quantity</th>\n",
       "    </tr>\n",
       "  </thead>\n",
       "  <tbody>\n",
       "    <tr>\n",
       "      <th>0</th>\n",
       "      <td>All Veggie Yummies</td>\n",
       "      <td>2.00</td>\n",
       "    </tr>\n",
       "    <tr>\n",
       "      <th>1</th>\n",
       "      <td>Ball and String</td>\n",
       "      <td>3.00</td>\n",
       "    </tr>\n",
       "    <tr>\n",
       "      <th>2</th>\n",
       "      <td>Cat Cave</td>\n",
       "      <td>2.00</td>\n",
       "    </tr>\n",
       "    <tr>\n",
       "      <th>3</th>\n",
       "      <td>Chewie Dental</td>\n",
       "      <td>2.00</td>\n",
       "    </tr>\n",
       "    <tr>\n",
       "      <th>4</th>\n",
       "      <td>Chomp-a Plush</td>\n",
       "      <td>2.00</td>\n",
       "    </tr>\n",
       "    <tr>\n",
       "      <th>5</th>\n",
       "      <td>Feline Fix Mix</td>\n",
       "      <td>2.00</td>\n",
       "    </tr>\n",
       "    <tr>\n",
       "      <th>6</th>\n",
       "      <td>Fetch Blaster</td>\n",
       "      <td>2.00</td>\n",
       "    </tr>\n",
       "    <tr>\n",
       "      <th>7</th>\n",
       "      <td>Foozy Mouse</td>\n",
       "      <td>2.00</td>\n",
       "    </tr>\n",
       "    <tr>\n",
       "      <th>8</th>\n",
       "      <td>Kitty Climber</td>\n",
       "      <td>2.00</td>\n",
       "    </tr>\n",
       "    <tr>\n",
       "      <th>9</th>\n",
       "      <td>New Dish</td>\n",
       "      <td>2.50</td>\n",
       "    </tr>\n",
       "    <tr>\n",
       "      <th>10</th>\n",
       "      <td>Purr Mix</td>\n",
       "      <td>2.00</td>\n",
       "    </tr>\n",
       "    <tr>\n",
       "      <th>11</th>\n",
       "      <td>Purrfect Puree</td>\n",
       "      <td>2.00</td>\n",
       "    </tr>\n",
       "    <tr>\n",
       "      <th>12</th>\n",
       "      <td>Reddy Beddy</td>\n",
       "      <td>2.00</td>\n",
       "    </tr>\n",
       "    <tr>\n",
       "      <th>13</th>\n",
       "      <td>Scratchy Post</td>\n",
       "      <td>2.00</td>\n",
       "    </tr>\n",
       "    <tr>\n",
       "      <th>14</th>\n",
       "      <td>Snack-em Fish</td>\n",
       "      <td>2.00</td>\n",
       "    </tr>\n",
       "    <tr>\n",
       "      <th>15</th>\n",
       "      <td>Snoozer Essentails</td>\n",
       "      <td>2.00</td>\n",
       "    </tr>\n",
       "    <tr>\n",
       "      <th>16</th>\n",
       "      <td>Snoozer Hammock</td>\n",
       "      <td>2.00</td>\n",
       "    </tr>\n",
       "    <tr>\n",
       "      <th>17</th>\n",
       "      <td>Tug-a-Back</td>\n",
       "      <td>1.50</td>\n",
       "    </tr>\n",
       "    <tr>\n",
       "      <th>18</th>\n",
       "      <td>Tuna Tasties</td>\n",
       "      <td>2.00</td>\n",
       "    </tr>\n",
       "    <tr>\n",
       "      <th>19</th>\n",
       "      <td>Whole Chemistry Recipe</td>\n",
       "      <td>3.00</td>\n",
       "    </tr>\n",
       "    <tr>\n",
       "      <th>20</th>\n",
       "      <td>Yum Fish-Dish</td>\n",
       "      <td>2.00</td>\n",
       "    </tr>\n",
       "  </tbody>\n",
       "</table>\n",
       "</div>"
      ],
      "text/plain": [
       "              Product_Name  Quantity\n",
       "0       All Veggie Yummies      2.00\n",
       "1          Ball and String      3.00\n",
       "2                 Cat Cave      2.00\n",
       "3            Chewie Dental      2.00\n",
       "4            Chomp-a Plush      2.00\n",
       "5           Feline Fix Mix      2.00\n",
       "6            Fetch Blaster      2.00\n",
       "7              Foozy Mouse      2.00\n",
       "8            Kitty Climber      2.00\n",
       "9                 New Dish      2.50\n",
       "10                Purr Mix      2.00\n",
       "11          Purrfect Puree      2.00\n",
       "12             Reddy Beddy      2.00\n",
       "13           Scratchy Post      2.00\n",
       "14           Snack-em Fish      2.00\n",
       "15      Snoozer Essentails      2.00\n",
       "16         Snoozer Hammock      2.00\n",
       "17              Tug-a-Back      1.50\n",
       "18            Tuna Tasties      2.00\n",
       "19  Whole Chemistry Recipe      3.00\n",
       "20           Yum Fish-Dish      2.00"
      ]
     },
     "execution_count": 49,
     "metadata": {},
     "output_type": "execute_result"
    }
   ],
   "source": [
    "df.groupby(['Product_Name'], as_index=False)[\"Quantity\"].median()"
   ]
  },
  {
   "cell_type": "code",
   "execution_count": 50,
   "metadata": {},
   "outputs": [
    {
     "data": {
      "text/html": [
       "<div>\n",
       "<style scoped>\n",
       "    .dataframe tbody tr th:only-of-type {\n",
       "        vertical-align: middle;\n",
       "    }\n",
       "\n",
       "    .dataframe tbody tr th {\n",
       "        vertical-align: top;\n",
       "    }\n",
       "\n",
       "    .dataframe thead th {\n",
       "        text-align: right;\n",
       "    }\n",
       "</style>\n",
       "<table border=\"1\" class=\"dataframe\">\n",
       "  <thead>\n",
       "    <tr style=\"text-align: right;\">\n",
       "      <th></th>\n",
       "      <th>Product_Name</th>\n",
       "      <th>Price</th>\n",
       "    </tr>\n",
       "  </thead>\n",
       "  <tbody>\n",
       "    <tr>\n",
       "      <th>0</th>\n",
       "      <td>All Veggie Yummies</td>\n",
       "      <td>25.48</td>\n",
       "    </tr>\n",
       "    <tr>\n",
       "      <th>1</th>\n",
       "      <td>Ball and String</td>\n",
       "      <td>16.71</td>\n",
       "    </tr>\n",
       "    <tr>\n",
       "      <th>2</th>\n",
       "      <td>Cat Cave</td>\n",
       "      <td>29.66</td>\n",
       "    </tr>\n",
       "    <tr>\n",
       "      <th>3</th>\n",
       "      <td>Chewie Dental</td>\n",
       "      <td>38.17</td>\n",
       "    </tr>\n",
       "    <tr>\n",
       "      <th>4</th>\n",
       "      <td>Chomp-a Plush</td>\n",
       "      <td>39.24</td>\n",
       "    </tr>\n",
       "    <tr>\n",
       "      <th>5</th>\n",
       "      <td>Feline Fix Mix</td>\n",
       "      <td>39.55</td>\n",
       "    </tr>\n",
       "    <tr>\n",
       "      <th>6</th>\n",
       "      <td>Fetch Blaster</td>\n",
       "      <td>29.47</td>\n",
       "    </tr>\n",
       "    <tr>\n",
       "      <th>7</th>\n",
       "      <td>Foozy Mouse</td>\n",
       "      <td>10.80</td>\n",
       "    </tr>\n",
       "    <tr>\n",
       "      <th>8</th>\n",
       "      <td>Kitty Climber</td>\n",
       "      <td>39.32</td>\n",
       "    </tr>\n",
       "    <tr>\n",
       "      <th>9</th>\n",
       "      <td>New Dish</td>\n",
       "      <td>17.16</td>\n",
       "    </tr>\n",
       "    <tr>\n",
       "      <th>10</th>\n",
       "      <td>Purr Mix</td>\n",
       "      <td>24.53</td>\n",
       "    </tr>\n",
       "    <tr>\n",
       "      <th>11</th>\n",
       "      <td>Purrfect Puree</td>\n",
       "      <td>19.96</td>\n",
       "    </tr>\n",
       "    <tr>\n",
       "      <th>12</th>\n",
       "      <td>Reddy Beddy</td>\n",
       "      <td>27.69</td>\n",
       "    </tr>\n",
       "    <tr>\n",
       "      <th>13</th>\n",
       "      <td>Scratchy Post</td>\n",
       "      <td>26.95</td>\n",
       "    </tr>\n",
       "    <tr>\n",
       "      <th>14</th>\n",
       "      <td>Snack-em Fish</td>\n",
       "      <td>15.34</td>\n",
       "    </tr>\n",
       "    <tr>\n",
       "      <th>15</th>\n",
       "      <td>Snoozer Essentails</td>\n",
       "      <td>28.04</td>\n",
       "    </tr>\n",
       "    <tr>\n",
       "      <th>16</th>\n",
       "      <td>Snoozer Hammock</td>\n",
       "      <td>34.38</td>\n",
       "    </tr>\n",
       "    <tr>\n",
       "      <th>17</th>\n",
       "      <td>Tug-a-Back</td>\n",
       "      <td>21.82</td>\n",
       "    </tr>\n",
       "    <tr>\n",
       "      <th>18</th>\n",
       "      <td>Tuna Tasties</td>\n",
       "      <td>14.53</td>\n",
       "    </tr>\n",
       "    <tr>\n",
       "      <th>19</th>\n",
       "      <td>Whole Chemistry Recipe</td>\n",
       "      <td>18.53</td>\n",
       "    </tr>\n",
       "    <tr>\n",
       "      <th>20</th>\n",
       "      <td>Yum Fish-Dish</td>\n",
       "      <td>30.63</td>\n",
       "    </tr>\n",
       "  </tbody>\n",
       "</table>\n",
       "</div>"
      ],
      "text/plain": [
       "              Product_Name  Price\n",
       "0       All Veggie Yummies  25.48\n",
       "1          Ball and String  16.71\n",
       "2                 Cat Cave  29.66\n",
       "3            Chewie Dental  38.17\n",
       "4            Chomp-a Plush  39.24\n",
       "5           Feline Fix Mix  39.55\n",
       "6            Fetch Blaster  29.47\n",
       "7              Foozy Mouse  10.80\n",
       "8            Kitty Climber  39.32\n",
       "9                 New Dish  17.16\n",
       "10                Purr Mix  24.53\n",
       "11          Purrfect Puree  19.96\n",
       "12             Reddy Beddy  27.69\n",
       "13           Scratchy Post  26.95\n",
       "14           Snack-em Fish  15.34\n",
       "15      Snoozer Essentails  28.04\n",
       "16         Snoozer Hammock  34.38\n",
       "17              Tug-a-Back  21.82\n",
       "18            Tuna Tasties  14.53\n",
       "19  Whole Chemistry Recipe  18.53\n",
       "20           Yum Fish-Dish  30.63"
      ]
     },
     "execution_count": 50,
     "metadata": {},
     "output_type": "execute_result"
    }
   ],
   "source": [
    "df.groupby(['Product_Name'], as_index=False)[\"Price\"].mean()"
   ]
  },
  {
   "cell_type": "code",
   "execution_count": 51,
   "metadata": {},
   "outputs": [
    {
     "data": {
      "text/html": [
       "<div>\n",
       "<style scoped>\n",
       "    .dataframe tbody tr th:only-of-type {\n",
       "        vertical-align: middle;\n",
       "    }\n",
       "\n",
       "    .dataframe tbody tr th {\n",
       "        vertical-align: top;\n",
       "    }\n",
       "\n",
       "    .dataframe thead th {\n",
       "        text-align: right;\n",
       "    }\n",
       "</style>\n",
       "<table border=\"1\" class=\"dataframe\">\n",
       "  <thead>\n",
       "    <tr style=\"text-align: right;\">\n",
       "      <th></th>\n",
       "      <th>Size</th>\n",
       "      <th>Price</th>\n",
       "    </tr>\n",
       "  </thead>\n",
       "  <tbody>\n",
       "    <tr>\n",
       "      <th>0</th>\n",
       "      <td>large</td>\n",
       "      <td>19.04</td>\n",
       "    </tr>\n",
       "    <tr>\n",
       "      <th>1</th>\n",
       "      <td>medium</td>\n",
       "      <td>36.30</td>\n",
       "    </tr>\n",
       "    <tr>\n",
       "      <th>2</th>\n",
       "      <td>small</td>\n",
       "      <td>25.87</td>\n",
       "    </tr>\n",
       "  </tbody>\n",
       "</table>\n",
       "</div>"
      ],
      "text/plain": [
       "     Size  Price\n",
       "0   large  19.04\n",
       "1  medium  36.30\n",
       "2   small  25.87"
      ]
     },
     "execution_count": 51,
     "metadata": {},
     "output_type": "execute_result"
    }
   ],
   "source": [
    "df.groupby(['Size'], as_index=False)[\"Price\"].mean()"
   ]
  },
  {
   "cell_type": "code",
   "execution_count": 52,
   "metadata": {},
   "outputs": [
    {
     "data": {
      "text/html": [
       "<div>\n",
       "<style scoped>\n",
       "    .dataframe tbody tr th:only-of-type {\n",
       "        vertical-align: middle;\n",
       "    }\n",
       "\n",
       "    .dataframe tbody tr th {\n",
       "        vertical-align: top;\n",
       "    }\n",
       "\n",
       "    .dataframe thead th {\n",
       "        text-align: right;\n",
       "    }\n",
       "</style>\n",
       "<table border=\"1\" class=\"dataframe\">\n",
       "  <thead>\n",
       "    <tr style=\"text-align: right;\">\n",
       "      <th></th>\n",
       "      <th>Price</th>\n",
       "      <th>Quantity</th>\n",
       "    </tr>\n",
       "    <tr>\n",
       "      <th>Product_Category</th>\n",
       "      <th></th>\n",
       "      <th></th>\n",
       "    </tr>\n",
       "  </thead>\n",
       "  <tbody>\n",
       "    <tr>\n",
       "      <th>bedding</th>\n",
       "      <td>27.98</td>\n",
       "      <td>2.00</td>\n",
       "    </tr>\n",
       "    <tr>\n",
       "      <th>food</th>\n",
       "      <td>22.73</td>\n",
       "      <td>2.21</td>\n",
       "    </tr>\n",
       "    <tr>\n",
       "      <th>toy</th>\n",
       "      <td>27.77</td>\n",
       "      <td>2.00</td>\n",
       "    </tr>\n",
       "    <tr>\n",
       "      <th>treat</th>\n",
       "      <td>25.77</td>\n",
       "      <td>2.13</td>\n",
       "    </tr>\n",
       "  </tbody>\n",
       "</table>\n",
       "</div>"
      ],
      "text/plain": [
       "                  Price  Quantity\n",
       "Product_Category                 \n",
       "bedding           27.98      2.00\n",
       "food              22.73      2.21\n",
       "toy               27.77      2.00\n",
       "treat             25.77      2.13"
      ]
     },
     "execution_count": 52,
     "metadata": {},
     "output_type": "execute_result"
    }
   ],
   "source": [
    "df.groupby([\"Product_Category\"])[\"Price\", \"Quantity\"].mean()"
   ]
  },
  {
   "cell_type": "code",
   "execution_count": 53,
   "metadata": {},
   "outputs": [
    {
     "data": {
      "text/html": [
       "<div>\n",
       "<style scoped>\n",
       "    .dataframe tbody tr th:only-of-type {\n",
       "        vertical-align: middle;\n",
       "    }\n",
       "\n",
       "    .dataframe tbody tr th {\n",
       "        vertical-align: top;\n",
       "    }\n",
       "\n",
       "    .dataframe thead th {\n",
       "        text-align: right;\n",
       "    }\n",
       "</style>\n",
       "<table border=\"1\" class=\"dataframe\">\n",
       "  <thead>\n",
       "    <tr style=\"text-align: right;\">\n",
       "      <th></th>\n",
       "      <th>Price</th>\n",
       "      <th>Quantity</th>\n",
       "    </tr>\n",
       "    <tr>\n",
       "      <th>Product_Line</th>\n",
       "      <th></th>\n",
       "      <th></th>\n",
       "    </tr>\n",
       "  </thead>\n",
       "  <tbody>\n",
       "    <tr>\n",
       "      <th>cat</th>\n",
       "      <td>25.95</td>\n",
       "      <td>2.12</td>\n",
       "    </tr>\n",
       "    <tr>\n",
       "      <th>dog</th>\n",
       "      <td>26.13</td>\n",
       "      <td>2.09</td>\n",
       "    </tr>\n",
       "  </tbody>\n",
       "</table>\n",
       "</div>"
      ],
      "text/plain": [
       "              Price  Quantity\n",
       "Product_Line                 \n",
       "cat           25.95      2.12\n",
       "dog           26.13      2.09"
      ]
     },
     "execution_count": 53,
     "metadata": {},
     "output_type": "execute_result"
    }
   ],
   "source": [
    "df.groupby([\"Product_Line\"])[\"Price\", \"Quantity\"].mean()"
   ]
  },
  {
   "cell_type": "code",
   "execution_count": 54,
   "metadata": {},
   "outputs": [
    {
     "data": {
      "text/html": [
       "<div>\n",
       "<style scoped>\n",
       "    .dataframe tbody tr th:only-of-type {\n",
       "        vertical-align: middle;\n",
       "    }\n",
       "\n",
       "    .dataframe tbody tr th {\n",
       "        vertical-align: top;\n",
       "    }\n",
       "\n",
       "    .dataframe thead th {\n",
       "        text-align: right;\n",
       "    }\n",
       "</style>\n",
       "<table border=\"1\" class=\"dataframe\">\n",
       "  <thead>\n",
       "    <tr style=\"text-align: right;\">\n",
       "      <th></th>\n",
       "      <th>Price</th>\n",
       "      <th>Quantity</th>\n",
       "    </tr>\n",
       "  </thead>\n",
       "  <tbody>\n",
       "    <tr>\n",
       "      <th>Price</th>\n",
       "      <td>1.00</td>\n",
       "      <td>-0.01</td>\n",
       "    </tr>\n",
       "    <tr>\n",
       "      <th>Quantity</th>\n",
       "      <td>-0.01</td>\n",
       "      <td>1.00</td>\n",
       "    </tr>\n",
       "  </tbody>\n",
       "</table>\n",
       "</div>"
      ],
      "text/plain": [
       "          Price  Quantity\n",
       "Price      1.00     -0.01\n",
       "Quantity  -0.01      1.00"
      ]
     },
     "execution_count": 54,
     "metadata": {},
     "output_type": "execute_result"
    }
   ],
   "source": [
    "df[[\"Price\", \"Quantity\"]].corr()"
   ]
  },
  {
   "cell_type": "markdown",
   "metadata": {},
   "source": [
    "### SQL Commands"
   ]
  },
  {
   "cell_type": "code",
   "execution_count": 55,
   "metadata": {},
   "outputs": [],
   "source": [
    "db = sqlite3.connect(\"petstore.csv\") #Create connection"
   ]
  },
  {
   "cell_type": "code",
   "execution_count": 56,
   "metadata": {},
   "outputs": [
    {
     "data": {
      "text/plain": [
       "<sqlite3.Connection at 0x1a2bc5bec60>"
      ]
     },
     "execution_count": 56,
     "metadata": {},
     "output_type": "execute_result"
    }
   ],
   "source": [
    "db"
   ]
  },
  {
   "cell_type": "code",
   "execution_count": 57,
   "metadata": {},
   "outputs": [],
   "source": [
    "cursor = db.cursor()"
   ]
  },
  {
   "cell_type": "code",
   "execution_count": 58,
   "metadata": {},
   "outputs": [
    {
     "data": {
      "text/plain": [
       "<sqlite3.Cursor at 0x1a2bc7c88f0>"
      ]
     },
     "execution_count": 58,
     "metadata": {},
     "output_type": "execute_result"
    }
   ],
   "source": [
    "cursor"
   ]
  },
  {
   "cell_type": "code",
   "execution_count": 59,
   "metadata": {},
   "outputs": [],
   "source": [
    "#pd.read_sql_query(\"SELECT Price from petstore\", db)"
   ]
  },
  {
   "cell_type": "code",
   "execution_count": 60,
   "metadata": {},
   "outputs": [],
   "source": [
    "# pd.read_sql_query(\"SELECT Product_Line \\\n",
    "#                    FROM petstore \\\n",
    "#                    WHERE Price > 30  \\\n",
    "#                    LIMIT 10;\", db)"
   ]
  },
  {
   "cell_type": "code",
   "execution_count": 61,
   "metadata": {},
   "outputs": [],
   "source": [
    "# pd.read_sql_query(\"SELECT Size \\\n",
    "#                     FROM petstore \\\n",
    "#                     WHERE Price < 15  \\\n",
    "#                     LIMIT 10;\", db)"
   ]
  },
  {
   "cell_type": "code",
   "execution_count": 62,
   "metadata": {},
   "outputs": [],
   "source": [
    "# pd.read_sql_query(\"SELECT Product_Name \\\n",
    "#                      FROM petstore \\\n",
    "#                      ORDER BY AVG(Price);\", db)"
   ]
  },
  {
   "cell_type": "markdown",
   "metadata": {},
   "source": [
    "**==========================================================================================================**"
   ]
  },
  {
   "cell_type": "markdown",
   "metadata": {},
   "source": [
    "# Visualize"
   ]
  },
  {
   "cell_type": "code",
   "execution_count": 63,
   "metadata": {},
   "outputs": [
    {
     "data": {
      "text/html": [
       "<div>\n",
       "<style scoped>\n",
       "    .dataframe tbody tr th:only-of-type {\n",
       "        vertical-align: middle;\n",
       "    }\n",
       "\n",
       "    .dataframe tbody tr th {\n",
       "        vertical-align: top;\n",
       "    }\n",
       "\n",
       "    .dataframe thead th {\n",
       "        text-align: right;\n",
       "    }\n",
       "</style>\n",
       "<table border=\"1\" class=\"dataframe\">\n",
       "  <thead>\n",
       "    <tr style=\"text-align: right;\">\n",
       "      <th></th>\n",
       "      <th>Product_Name</th>\n",
       "      <th>Price</th>\n",
       "    </tr>\n",
       "  </thead>\n",
       "  <tbody>\n",
       "    <tr>\n",
       "      <th>0</th>\n",
       "      <td>All Veggie Yummies</td>\n",
       "      <td>25.48</td>\n",
       "    </tr>\n",
       "    <tr>\n",
       "      <th>1</th>\n",
       "      <td>Ball and String</td>\n",
       "      <td>16.71</td>\n",
       "    </tr>\n",
       "    <tr>\n",
       "      <th>2</th>\n",
       "      <td>Cat Cave</td>\n",
       "      <td>29.66</td>\n",
       "    </tr>\n",
       "    <tr>\n",
       "      <th>3</th>\n",
       "      <td>Chewie Dental</td>\n",
       "      <td>38.17</td>\n",
       "    </tr>\n",
       "    <tr>\n",
       "      <th>4</th>\n",
       "      <td>Chomp-a Plush</td>\n",
       "      <td>39.24</td>\n",
       "    </tr>\n",
       "    <tr>\n",
       "      <th>5</th>\n",
       "      <td>Feline Fix Mix</td>\n",
       "      <td>39.55</td>\n",
       "    </tr>\n",
       "    <tr>\n",
       "      <th>6</th>\n",
       "      <td>Fetch Blaster</td>\n",
       "      <td>29.47</td>\n",
       "    </tr>\n",
       "    <tr>\n",
       "      <th>7</th>\n",
       "      <td>Foozy Mouse</td>\n",
       "      <td>10.80</td>\n",
       "    </tr>\n",
       "    <tr>\n",
       "      <th>8</th>\n",
       "      <td>Kitty Climber</td>\n",
       "      <td>39.32</td>\n",
       "    </tr>\n",
       "    <tr>\n",
       "      <th>9</th>\n",
       "      <td>New Dish</td>\n",
       "      <td>17.16</td>\n",
       "    </tr>\n",
       "    <tr>\n",
       "      <th>10</th>\n",
       "      <td>Purr Mix</td>\n",
       "      <td>24.53</td>\n",
       "    </tr>\n",
       "    <tr>\n",
       "      <th>11</th>\n",
       "      <td>Purrfect Puree</td>\n",
       "      <td>19.96</td>\n",
       "    </tr>\n",
       "    <tr>\n",
       "      <th>12</th>\n",
       "      <td>Reddy Beddy</td>\n",
       "      <td>27.69</td>\n",
       "    </tr>\n",
       "    <tr>\n",
       "      <th>13</th>\n",
       "      <td>Scratchy Post</td>\n",
       "      <td>26.95</td>\n",
       "    </tr>\n",
       "    <tr>\n",
       "      <th>14</th>\n",
       "      <td>Snack-em Fish</td>\n",
       "      <td>15.34</td>\n",
       "    </tr>\n",
       "    <tr>\n",
       "      <th>15</th>\n",
       "      <td>Snoozer Essentails</td>\n",
       "      <td>28.04</td>\n",
       "    </tr>\n",
       "    <tr>\n",
       "      <th>16</th>\n",
       "      <td>Snoozer Hammock</td>\n",
       "      <td>34.38</td>\n",
       "    </tr>\n",
       "    <tr>\n",
       "      <th>17</th>\n",
       "      <td>Tug-a-Back</td>\n",
       "      <td>21.82</td>\n",
       "    </tr>\n",
       "    <tr>\n",
       "      <th>18</th>\n",
       "      <td>Tuna Tasties</td>\n",
       "      <td>14.53</td>\n",
       "    </tr>\n",
       "    <tr>\n",
       "      <th>19</th>\n",
       "      <td>Whole Chemistry Recipe</td>\n",
       "      <td>18.53</td>\n",
       "    </tr>\n",
       "    <tr>\n",
       "      <th>20</th>\n",
       "      <td>Yum Fish-Dish</td>\n",
       "      <td>30.63</td>\n",
       "    </tr>\n",
       "  </tbody>\n",
       "</table>\n",
       "</div>"
      ],
      "text/plain": [
       "              Product_Name  Price\n",
       "0       All Veggie Yummies  25.48\n",
       "1          Ball and String  16.71\n",
       "2                 Cat Cave  29.66\n",
       "3            Chewie Dental  38.17\n",
       "4            Chomp-a Plush  39.24\n",
       "5           Feline Fix Mix  39.55\n",
       "6            Fetch Blaster  29.47\n",
       "7              Foozy Mouse  10.80\n",
       "8            Kitty Climber  39.32\n",
       "9                 New Dish  17.16\n",
       "10                Purr Mix  24.53\n",
       "11          Purrfect Puree  19.96\n",
       "12             Reddy Beddy  27.69\n",
       "13           Scratchy Post  26.95\n",
       "14           Snack-em Fish  15.34\n",
       "15      Snoozer Essentails  28.04\n",
       "16         Snoozer Hammock  34.38\n",
       "17              Tug-a-Back  21.82\n",
       "18            Tuna Tasties  14.53\n",
       "19  Whole Chemistry Recipe  18.53\n",
       "20           Yum Fish-Dish  30.63"
      ]
     },
     "execution_count": 63,
     "metadata": {},
     "output_type": "execute_result"
    }
   ],
   "source": [
    "df2 = df.groupby(['Product_Name'], as_index=False)[\"Price\"].mean()\n",
    "df2"
   ]
  },
  {
   "cell_type": "code",
   "execution_count": 64,
   "metadata": {},
   "outputs": [
    {
     "data": {
      "text/html": [
       "<div>\n",
       "<style scoped>\n",
       "    .dataframe tbody tr th:only-of-type {\n",
       "        vertical-align: middle;\n",
       "    }\n",
       "\n",
       "    .dataframe tbody tr th {\n",
       "        vertical-align: top;\n",
       "    }\n",
       "\n",
       "    .dataframe thead th {\n",
       "        text-align: right;\n",
       "    }\n",
       "</style>\n",
       "<table border=\"1\" class=\"dataframe\">\n",
       "  <thead>\n",
       "    <tr style=\"text-align: right;\">\n",
       "      <th></th>\n",
       "      <th>Product_Name</th>\n",
       "      <th>Price</th>\n",
       "    </tr>\n",
       "  </thead>\n",
       "  <tbody>\n",
       "    <tr>\n",
       "      <th>5</th>\n",
       "      <td>Feline Fix Mix</td>\n",
       "      <td>39.55</td>\n",
       "    </tr>\n",
       "    <tr>\n",
       "      <th>8</th>\n",
       "      <td>Kitty Climber</td>\n",
       "      <td>39.32</td>\n",
       "    </tr>\n",
       "    <tr>\n",
       "      <th>4</th>\n",
       "      <td>Chomp-a Plush</td>\n",
       "      <td>39.24</td>\n",
       "    </tr>\n",
       "    <tr>\n",
       "      <th>3</th>\n",
       "      <td>Chewie Dental</td>\n",
       "      <td>38.17</td>\n",
       "    </tr>\n",
       "    <tr>\n",
       "      <th>16</th>\n",
       "      <td>Snoozer Hammock</td>\n",
       "      <td>34.38</td>\n",
       "    </tr>\n",
       "  </tbody>\n",
       "</table>\n",
       "</div>"
      ],
      "text/plain": [
       "       Product_Name  Price\n",
       "5    Feline Fix Mix  39.55\n",
       "8     Kitty Climber  39.32\n",
       "4     Chomp-a Plush  39.24\n",
       "3     Chewie Dental  38.17\n",
       "16  Snoozer Hammock  34.38"
      ]
     },
     "execution_count": 64,
     "metadata": {},
     "output_type": "execute_result"
    }
   ],
   "source": [
    "df2 = df2.sort_values(by=\"Price\", ascending=False).head()\n",
    "df2"
   ]
  },
  {
   "cell_type": "code",
   "execution_count": 65,
   "metadata": {},
   "outputs": [
    {
     "data": {
      "image/png": "[encoded data removed]",
      "text/plain": [
       "<Figure size 864x432 with 1 Axes>"
      ]
     },
     "metadata": {},
     "output_type": "display_data"
    }
   ],
   "source": [
    "sns.catplot(x=\"Product_Name\", y=\"Price\", kind='bar', data=df2, aspect=2, height=6)\n",
    "plt.title(\"Top 5 products by Average Prices\", size=20)\n",
    "plt.show()"
   ]
  },
  {
   "cell_type": "markdown",
   "metadata": {},
   "source": [
    "**==========================================================================================================**"
   ]
  },
  {
   "cell_type": "markdown",
   "metadata": {},
   "source": [
    "## Histogram"
   ]
  },
  {
   "cell_type": "markdown",
   "metadata": {},
   "source": [
    "### Pandas Version"
   ]
  },
  {
   "cell_type": "code",
   "execution_count": 66,
   "metadata": {
    "scrolled": false
   },
   "outputs": [
    {
     "data": {
      "image/png": "[encoded data removed]",
      "text/plain": [
       "<Figure size 1440x5760 with 20 Axes>"
      ]
     },
     "metadata": {},
     "output_type": "display_data"
    }
   ],
   "source": [
    "df.hist(bins=50, figsize=(20,80), layout=(len(df.columns),2), grid=False)\n",
    "plt.suptitle('Histogram Feature Distribution', x=0.5, y=1.02, ha='center', fontsize=20)\n",
    "\n",
    "plt.tight_layout()\n",
    "plt.show()"
   ]
  },
  {
   "cell_type": "markdown",
   "metadata": {},
   "source": [
    "**==========================================================================================================**"
   ]
  },
  {
   "cell_type": "code",
   "execution_count": 67,
   "metadata": {},
   "outputs": [
    {
     "data": {
      "image/png": "[encoded data removed]",
      "text/plain": [
       "<Figure size 2160x720 with 1 Axes>"
      ]
     },
     "metadata": {},
     "output_type": "display_data"
    }
   ],
   "source": [
    "fig = plt.figure(figsize=(30,10))\n",
    "sns.lineplot(x=df.Date, y=df.Price, data=df, estimator='mean')\n",
    "plt.title(\"Average Prices by Date\", fontsize=20)\n",
    "plt.xlabel(\"Dates\", fontsize=20)\n",
    "plt.ylabel(\"Prices\", fontsize=20)\n",
    "plt.legend([\"Prices\"])\n",
    "plt.show()"
   ]
  },
  {
   "cell_type": "code",
   "execution_count": 68,
   "metadata": {
    "scrolled": false
   },
   "outputs": [
    {
     "data": {
      "image/png": "[encoded data removed]",
      "text/plain": [
       "<Figure size 432x288 with 1 Axes>"
      ]
     },
     "metadata": {},
     "output_type": "display_data"
    }
   ],
   "source": [
    "sns.scatterplot(x=\"Price\", y=\"Quantity\", data=df, color='darkblue', s=20)\n",
    "plt.title(\"Scatterplot\", size = 20)\n",
    "\n",
    "plt.tight_layout()\n",
    "plt.show()"
   ]
  },
  {
   "cell_type": "markdown",
   "metadata": {},
   "source": [
    "**==========================================================================================================**"
   ]
  },
  {
   "cell_type": "markdown",
   "metadata": {},
   "source": [
    "### Seaborn Version"
   ]
  },
  {
   "cell_type": "code",
   "execution_count": 69,
   "metadata": {},
   "outputs": [
    {
     "data": {
      "image/png": "[encoded data removed]",
      "text/plain": [
       "<Figure size 1152x648 with 2 Axes>"
      ]
     },
     "metadata": {},
     "output_type": "display_data"
    }
   ],
   "source": [
    "plt.figure(figsize=(16,9))\n",
    "sns.heatmap(data=df.corr(), cmap=\"coolwarm\", annot=True, fmt='.2f', linewidths=2)\n",
    "plt.title(\"Correlation Heatmap\", fontsize=20)\n",
    "plt.show()"
   ]
  },
  {
   "cell_type": "markdown",
   "metadata": {},
   "source": [
    "**==========================================================================================================**"
   ]
  },
  {
   "cell_type": "code",
   "execution_count": 70,
   "metadata": {},
   "outputs": [
    {
     "data": {
      "image/png": "[encoded data removed]",
      "text/plain": [
       "<Figure size 1152x360 with 1 Axes>"
      ]
     },
     "metadata": {},
     "output_type": "display_data"
    }
   ],
   "source": [
    "# Plot 1 rows and 2 columns (can be expanded)\n",
    "line_color = {'color': 'red'}\n",
    "fig, ax = plt.subplots(1,1, sharex=False, figsize=(16,5))\n",
    "fig.suptitle('Regression Plots')\n",
    "\n",
    "sns.regplot(x=df.Price, y=df.Quantity, data=df, ci=None, line_kws=line_color)\n",
    "plt.title('title')\n",
    "plt.xlabel(\"x\")\n",
    "plt.ylabel(\"y\")\n",
    "\n",
    "plt.ticklabel_format(style='plain', axis='y')\n",
    "plt.tight_layout()\n",
    "plt.show()"
   ]
  },
  {
   "cell_type": "markdown",
   "metadata": {},
   "source": [
    "**==========================================================================================================**"
   ]
  },
  {
   "cell_type": "markdown",
   "metadata": {},
   "source": [
    "**==========================================================================================================**"
   ]
  },
  {
   "cell_type": "markdown",
   "metadata": {},
   "source": [
    "#### Python code done by Dennis Lam"
   ]
  }
 ],
 "metadata": {
  "kernelspec": {
   "display_name": "Python 3 (ipykernel)",
   "language": "python",
   "name": "python3"
  },
  "language_info": {
   "codemirror_mode": {
    "name": "ipython",
    "version": 3
   },
   "file_extension": ".py",
   "mimetype": "text/x-python",
   "name": "python",
   "nbconvert_exporter": "python",
   "pygments_lexer": "ipython3",
   "version": "3.9.12"
  }
 },
 "nbformat": 4,
 "nbformat_minor": 4
}
