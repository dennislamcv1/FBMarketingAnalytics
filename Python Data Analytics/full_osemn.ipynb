{
 "cells": [
  {
   "cell_type": "markdown",
   "metadata": {
    "deletable": false,
    "editable": false,
    "nbgrader": {
     "cell_type": "markdown",
     "checksum": "91fb33fb46047093cd6974ea30f59aa1",
     "grade": false,
     "grade_id": "cell-ac72732fdac94bab",
     "locked": true,
     "schema_version": 3,
     "solution": false,
     "task": false
    }
   },
   "source": [
    "# Activity: Full OSEMN"
   ]
  },
  {
   "cell_type": "markdown",
   "metadata": {
    "deletable": false,
    "editable": false,
    "nbgrader": {
     "cell_type": "markdown",
     "checksum": "50b1f8b7d034537f52a51ecf1ffd7778",
     "grade": false,
     "grade_id": "cell-f614555be6054ba0",
     "locked": true,
     "schema_version": 3,
     "solution": false,
     "task": false
    }
   },
   "source": [
    "## Introduction\n",
    "\n",
    "In this assignment, you will work on a data analysis project. This project will\n",
    "let you practice the skills you have learned in this course and write real code\n",
    "in Python.\n",
    "\n",
    "You will perform the following steps of the OSEMN framework:  \n",
    "- [Scrub](#scrub)\n",
    "- [Explore](#explore)\n",
    "- [Interpret](#interpret)"
   ]
  },
  {
   "cell_type": "code",
   "execution_count": 1,
   "metadata": {
    "deletable": false,
    "editable": false,
    "nbgrader": {
     "cell_type": "code",
     "checksum": "3d3c80186661b62d8a234eb846a358cc",
     "grade": false,
     "grade_id": "cell-bd14edeea3feaba2",
     "locked": true,
     "schema_version": 3,
     "solution": false,
     "task": false
    }
   },
   "outputs": [],
   "source": [
    "# We'll import the libraries you'll likely use for this activity\n",
    "import pandas as pd\n",
    "import matplotlib.pyplot as plt\n",
    "import seaborn as sns\n",
    "\n",
    "# Data\n",
    "df = pd.read_csv('transactions-pet_store.csv')\n",
    "df_orig = df.copy()"
   ]
  },
  {
   "cell_type": "markdown",
   "metadata": {
    "deletable": false,
    "editable": false,
    "nbgrader": {
     "cell_type": "markdown",
     "checksum": "9a19e60e054d1b0ad657dd35d4a23e32",
     "grade": false,
     "grade_id": "cell-893bcb027e7df881",
     "locked": true,
     "schema_version": 3,
     "solution": false,
     "task": false
    }
   },
   "source": [
    "## Scrub\n",
    "\n",
    "You will scrub the data. It's important that you follow the directions as\n",
    "stated. Doing more or less than what is asked might lead to not getting full\n",
    "points for the question.\n",
    "\n",
    "------\n",
    "\n",
    "If while you're working on the scrubbing phase you need to reset the DataFrame,\n",
    "you can restart the kernel (in the toolbar: \"Kernel\" > \"Restart\")."
   ]
  },
  {
   "cell_type": "markdown",
   "metadata": {
    "deletable": false,
    "editable": false,
    "nbgrader": {
     "cell_type": "markdown",
     "checksum": "ba697b44ea1e9ac2126ea66463d45554",
     "grade": false,
     "grade_id": "cell-ab225e15831263ca",
     "locked": true,
     "schema_version": 3,
     "solution": false,
     "task": false
    }
   },
   "source": [
    "#### Question 1\n",
    "\n",
    "Remove all rows that have are missing either the `Product_Name` or the\n",
    "`Product_Category`. Assign the cleaned DataFrame to the variable `df`\n",
    "(overwriting the original DataFrame.)."
   ]
  },
  {
   "cell_type": "code",
   "execution_count": 2,
   "metadata": {
    "deletable": false,
    "nbgrader": {
     "cell_type": "code",
     "checksum": "9712ff927b9a33817f81c3587a633fdd",
     "grade": false,
     "grade_id": "cell-b55c7e3f112f8727",
     "locked": false,
     "schema_version": 3,
     "solution": true,
     "task": false
    }
   },
   "outputs": [
    {
     "data": {
      "text/html": [
       "<div>\n",
       "<style scoped>\n",
       "    .dataframe tbody tr th:only-of-type {\n",
       "        vertical-align: middle;\n",
       "    }\n",
       "\n",
       "    .dataframe tbody tr th {\n",
       "        vertical-align: top;\n",
       "    }\n",
       "\n",
       "    .dataframe thead th {\n",
       "        text-align: right;\n",
       "    }\n",
       "</style>\n",
       "<table border=\"1\" class=\"dataframe\">\n",
       "  <thead>\n",
       "    <tr style=\"text-align: right;\">\n",
       "      <th></th>\n",
       "      <th>Date</th>\n",
       "      <th>Order_Number</th>\n",
       "      <th>Customer_ID</th>\n",
       "      <th>Product_Name</th>\n",
       "      <th>SKU</th>\n",
       "      <th>Price</th>\n",
       "      <th>Size</th>\n",
       "      <th>Quantity</th>\n",
       "      <th>Product_Category</th>\n",
       "      <th>Product_Line</th>\n",
       "    </tr>\n",
       "  </thead>\n",
       "  <tbody>\n",
       "    <tr>\n",
       "      <th>0</th>\n",
       "      <td>5/22/2021</td>\n",
       "      <td>SXF-7309-1727-1334</td>\n",
       "      <td>476582ea-1bba-4289-8775-3fcd8074821c</td>\n",
       "      <td>Feline Fix Mix</td>\n",
       "      <td>RKAPY3I1TP</td>\n",
       "      <td>39.55</td>\n",
       "      <td>NaN</td>\n",
       "      <td>1</td>\n",
       "      <td>treat</td>\n",
       "      <td>cat</td>\n",
       "    </tr>\n",
       "    <tr>\n",
       "      <th>1</th>\n",
       "      <td>5/22/2021</td>\n",
       "      <td>SXF-7309-1727-1334</td>\n",
       "      <td>476582ea-1bba-4289-8775-3fcd8074821c</td>\n",
       "      <td>Scratchy Post</td>\n",
       "      <td>MPH6SCD7UT</td>\n",
       "      <td>26.95</td>\n",
       "      <td>NaN</td>\n",
       "      <td>3</td>\n",
       "      <td>toy</td>\n",
       "      <td>cat</td>\n",
       "    </tr>\n",
       "    <tr>\n",
       "      <th>2</th>\n",
       "      <td>5/22/2021</td>\n",
       "      <td>SXF-7309-1727-1334</td>\n",
       "      <td>476582ea-1bba-4289-8775-3fcd8074821c</td>\n",
       "      <td>Reddy Beddy</td>\n",
       "      <td>DJWE1V9LZK</td>\n",
       "      <td>23.07</td>\n",
       "      <td>large</td>\n",
       "      <td>3</td>\n",
       "      <td>bedding</td>\n",
       "      <td>dog</td>\n",
       "    </tr>\n",
       "    <tr>\n",
       "      <th>3</th>\n",
       "      <td>3/23/2020</td>\n",
       "      <td>DG7-5410-5845-1340</td>\n",
       "      <td>5929a0e9-95a7-4dbf-896e-c11d1988615e</td>\n",
       "      <td>Snoozer Essentails</td>\n",
       "      <td>GABWVMEL2R</td>\n",
       "      <td>28.04</td>\n",
       "      <td>NaN</td>\n",
       "      <td>3</td>\n",
       "      <td>bedding</td>\n",
       "      <td>dog</td>\n",
       "    </tr>\n",
       "    <tr>\n",
       "      <th>4</th>\n",
       "      <td>3/23/2020</td>\n",
       "      <td>DG7-5410-5845-1340</td>\n",
       "      <td>5929a0e9-95a7-4dbf-896e-c11d1988615e</td>\n",
       "      <td>Reddy Beddy</td>\n",
       "      <td>KDTMPSBZKZ</td>\n",
       "      <td>13.84</td>\n",
       "      <td>small</td>\n",
       "      <td>1</td>\n",
       "      <td>bedding</td>\n",
       "      <td>dog</td>\n",
       "    </tr>\n",
       "  </tbody>\n",
       "</table>\n",
       "</div>"
      ],
      "text/plain": [
       "        Date        Order_Number                           Customer_ID  \\\n",
       "0  5/22/2021  SXF-7309-1727-1334  476582ea-1bba-4289-8775-3fcd8074821c   \n",
       "1  5/22/2021  SXF-7309-1727-1334  476582ea-1bba-4289-8775-3fcd8074821c   \n",
       "2  5/22/2021  SXF-7309-1727-1334  476582ea-1bba-4289-8775-3fcd8074821c   \n",
       "3  3/23/2020  DG7-5410-5845-1340  5929a0e9-95a7-4dbf-896e-c11d1988615e   \n",
       "4  3/23/2020  DG7-5410-5845-1340  5929a0e9-95a7-4dbf-896e-c11d1988615e   \n",
       "\n",
       "         Product_Name         SKU  Price   Size  Quantity Product_Category  \\\n",
       "0      Feline Fix Mix  RKAPY3I1TP  39.55    NaN         1            treat   \n",
       "1       Scratchy Post  MPH6SCD7UT  26.95    NaN         3              toy   \n",
       "2         Reddy Beddy  DJWE1V9LZK  23.07  large         3          bedding   \n",
       "3  Snoozer Essentails  GABWVMEL2R  28.04    NaN         3          bedding   \n",
       "4         Reddy Beddy  KDTMPSBZKZ  13.84  small         1          bedding   \n",
       "\n",
       "  Product_Line  \n",
       "0          cat  \n",
       "1          cat  \n",
       "2          dog  \n",
       "3          dog  \n",
       "4          dog  "
      ]
     },
     "execution_count": 2,
     "metadata": {},
     "output_type": "execute_result"
    }
   ],
   "source": [
    "# Your code here\n",
    "\n",
    "df.head()"
   ]
  },
  {
   "cell_type": "code",
   "execution_count": 3,
   "metadata": {},
   "outputs": [
    {
     "name": "stdout",
     "output_type": "stream",
     "text": [
      "<class 'pandas.core.frame.DataFrame'>\n",
      "RangeIndex: 2903 entries, 0 to 2902\n",
      "Data columns (total 10 columns):\n",
      " #   Column            Non-Null Count  Dtype  \n",
      "---  ------            --------------  -----  \n",
      " 0   Date              2903 non-null   object \n",
      " 1   Order_Number      2903 non-null   object \n",
      " 2   Customer_ID       2853 non-null   object \n",
      " 3   Product_Name      2874 non-null   object \n",
      " 4   SKU               2903 non-null   object \n",
      " 5   Price             2903 non-null   float64\n",
      " 6   Size              658 non-null    object \n",
      " 7   Quantity          2903 non-null   int64  \n",
      " 8   Product_Category  2758 non-null   object \n",
      " 9   Product_Line      2901 non-null   object \n",
      "dtypes: float64(1), int64(1), object(8)\n",
      "memory usage: 226.9+ KB\n"
     ]
    }
   ],
   "source": [
    "df.info()"
   ]
  },
  {
   "cell_type": "code",
   "execution_count": 4,
   "metadata": {},
   "outputs": [
    {
     "data": {
      "text/plain": [
       "(2903, 10)"
      ]
     },
     "execution_count": 4,
     "metadata": {},
     "output_type": "execute_result"
    }
   ],
   "source": [
    "df.shape"
   ]
  },
  {
   "cell_type": "code",
   "execution_count": 5,
   "metadata": {},
   "outputs": [
    {
     "data": {
      "text/plain": [
       "Date                   0\n",
       "Order_Number           0\n",
       "Customer_ID           50\n",
       "Product_Name          29\n",
       "SKU                    0\n",
       "Price                  0\n",
       "Size                2245\n",
       "Quantity               0\n",
       "Product_Category     145\n",
       "Product_Line           2\n",
       "dtype: int64"
      ]
     },
     "execution_count": 5,
     "metadata": {},
     "output_type": "execute_result"
    }
   ],
   "source": [
    "df.isnull().sum()"
   ]
  },
  {
   "cell_type": "code",
   "execution_count": 6,
   "metadata": {},
   "outputs": [],
   "source": [
    "# Drop rows with missing values in the \"column_name\" column\n",
    "df.dropna(subset=['Product_Name','Product_Category'], inplace=True)"
   ]
  },
  {
   "cell_type": "code",
   "execution_count": 7,
   "metadata": {},
   "outputs": [
    {
     "data": {
      "text/plain": [
       "Date                   0\n",
       "Order_Number           0\n",
       "Customer_ID           42\n",
       "Product_Name           0\n",
       "SKU                    0\n",
       "Price                  0\n",
       "Size                2132\n",
       "Quantity               0\n",
       "Product_Category       0\n",
       "Product_Line           0\n",
       "dtype: int64"
      ]
     },
     "execution_count": 7,
     "metadata": {},
     "output_type": "execute_result"
    }
   ],
   "source": [
    "df.isnull().sum()"
   ]
  },
  {
   "cell_type": "code",
   "execution_count": 8,
   "metadata": {},
   "outputs": [
    {
     "data": {
      "text/plain": [
       "(2758, 10)"
      ]
     },
     "execution_count": 8,
     "metadata": {},
     "output_type": "execute_result"
    }
   ],
   "source": [
    "df.shape"
   ]
  },
  {
   "cell_type": "code",
   "execution_count": 9,
   "metadata": {},
   "outputs": [
    {
     "data": {
      "text/html": [
       "<div>\n",
       "<style scoped>\n",
       "    .dataframe tbody tr th:only-of-type {\n",
       "        vertical-align: middle;\n",
       "    }\n",
       "\n",
       "    .dataframe tbody tr th {\n",
       "        vertical-align: top;\n",
       "    }\n",
       "\n",
       "    .dataframe thead th {\n",
       "        text-align: right;\n",
       "    }\n",
       "</style>\n",
       "<table border=\"1\" class=\"dataframe\">\n",
       "  <thead>\n",
       "    <tr style=\"text-align: right;\">\n",
       "      <th></th>\n",
       "      <th>Date</th>\n",
       "      <th>Order_Number</th>\n",
       "      <th>Customer_ID</th>\n",
       "      <th>Product_Name</th>\n",
       "      <th>SKU</th>\n",
       "      <th>Price</th>\n",
       "      <th>Size</th>\n",
       "      <th>Quantity</th>\n",
       "      <th>Product_Category</th>\n",
       "      <th>Product_Line</th>\n",
       "    </tr>\n",
       "  </thead>\n",
       "  <tbody>\n",
       "    <tr>\n",
       "      <th>0</th>\n",
       "      <td>5/22/2021</td>\n",
       "      <td>SXF-7309-1727-1334</td>\n",
       "      <td>476582ea-1bba-4289-8775-3fcd8074821c</td>\n",
       "      <td>Feline Fix Mix</td>\n",
       "      <td>RKAPY3I1TP</td>\n",
       "      <td>39.55</td>\n",
       "      <td>NaN</td>\n",
       "      <td>1</td>\n",
       "      <td>treat</td>\n",
       "      <td>cat</td>\n",
       "    </tr>\n",
       "    <tr>\n",
       "      <th>1</th>\n",
       "      <td>5/22/2021</td>\n",
       "      <td>SXF-7309-1727-1334</td>\n",
       "      <td>476582ea-1bba-4289-8775-3fcd8074821c</td>\n",
       "      <td>Scratchy Post</td>\n",
       "      <td>MPH6SCD7UT</td>\n",
       "      <td>26.95</td>\n",
       "      <td>NaN</td>\n",
       "      <td>3</td>\n",
       "      <td>toy</td>\n",
       "      <td>cat</td>\n",
       "    </tr>\n",
       "    <tr>\n",
       "      <th>2</th>\n",
       "      <td>5/22/2021</td>\n",
       "      <td>SXF-7309-1727-1334</td>\n",
       "      <td>476582ea-1bba-4289-8775-3fcd8074821c</td>\n",
       "      <td>Reddy Beddy</td>\n",
       "      <td>DJWE1V9LZK</td>\n",
       "      <td>23.07</td>\n",
       "      <td>large</td>\n",
       "      <td>3</td>\n",
       "      <td>bedding</td>\n",
       "      <td>dog</td>\n",
       "    </tr>\n",
       "    <tr>\n",
       "      <th>3</th>\n",
       "      <td>3/23/2020</td>\n",
       "      <td>DG7-5410-5845-1340</td>\n",
       "      <td>5929a0e9-95a7-4dbf-896e-c11d1988615e</td>\n",
       "      <td>Snoozer Essentails</td>\n",
       "      <td>GABWVMEL2R</td>\n",
       "      <td>28.04</td>\n",
       "      <td>NaN</td>\n",
       "      <td>3</td>\n",
       "      <td>bedding</td>\n",
       "      <td>dog</td>\n",
       "    </tr>\n",
       "    <tr>\n",
       "      <th>4</th>\n",
       "      <td>3/23/2020</td>\n",
       "      <td>DG7-5410-5845-1340</td>\n",
       "      <td>5929a0e9-95a7-4dbf-896e-c11d1988615e</td>\n",
       "      <td>Reddy Beddy</td>\n",
       "      <td>KDTMPSBZKZ</td>\n",
       "      <td>13.84</td>\n",
       "      <td>small</td>\n",
       "      <td>1</td>\n",
       "      <td>bedding</td>\n",
       "      <td>dog</td>\n",
       "    </tr>\n",
       "  </tbody>\n",
       "</table>\n",
       "</div>"
      ],
      "text/plain": [
       "        Date        Order_Number                           Customer_ID  \\\n",
       "0  5/22/2021  SXF-7309-1727-1334  476582ea-1bba-4289-8775-3fcd8074821c   \n",
       "1  5/22/2021  SXF-7309-1727-1334  476582ea-1bba-4289-8775-3fcd8074821c   \n",
       "2  5/22/2021  SXF-7309-1727-1334  476582ea-1bba-4289-8775-3fcd8074821c   \n",
       "3  3/23/2020  DG7-5410-5845-1340  5929a0e9-95a7-4dbf-896e-c11d1988615e   \n",
       "4  3/23/2020  DG7-5410-5845-1340  5929a0e9-95a7-4dbf-896e-c11d1988615e   \n",
       "\n",
       "         Product_Name         SKU  Price   Size  Quantity Product_Category  \\\n",
       "0      Feline Fix Mix  RKAPY3I1TP  39.55    NaN         1            treat   \n",
       "1       Scratchy Post  MPH6SCD7UT  26.95    NaN         3              toy   \n",
       "2         Reddy Beddy  DJWE1V9LZK  23.07  large         3          bedding   \n",
       "3  Snoozer Essentails  GABWVMEL2R  28.04    NaN         3          bedding   \n",
       "4         Reddy Beddy  KDTMPSBZKZ  13.84  small         1          bedding   \n",
       "\n",
       "  Product_Line  \n",
       "0          cat  \n",
       "1          cat  \n",
       "2          dog  \n",
       "3          dog  \n",
       "4          dog  "
      ]
     },
     "execution_count": 9,
     "metadata": {},
     "output_type": "execute_result"
    }
   ],
   "source": [
    "df.head()"
   ]
  },
  {
   "cell_type": "code",
   "execution_count": 10,
   "metadata": {
    "deletable": false,
    "editable": false,
    "nbgrader": {
     "cell_type": "code",
     "checksum": "55e7980a508777f7f008a05f16ae379c",
     "grade": true,
     "grade_id": "cell-a83107c46252a13a",
     "locked": true,
     "points": 1,
     "schema_version": 3,
     "solution": false,
     "task": false
    }
   },
   "outputs": [],
   "source": [
    "# Question 1 Grading Checks\n",
    "\n",
    "assert df.shape[0] <= 2874, 'Did you remove all the rows with missing values for the columns Product_Name & Product_Category?'\n",
    "assert df.shape[0] >= 2700, 'Did you remove too many the rows with missing values?'\n",
    "assert len(df.columns) == 10, 'Make sure you do not drop any columns.'"
   ]
  },
  {
   "cell_type": "markdown",
   "metadata": {
    "deletable": false,
    "editable": false,
    "nbgrader": {
     "cell_type": "markdown",
     "checksum": "27e2aa91c89ae04a54b68d015dce383e",
     "grade": false,
     "grade_id": "cell-82e0c13b1f2ce4ec",
     "locked": true,
     "schema_version": 3,
     "solution": false,
     "task": false
    }
   },
   "source": [
    "#### Question 2\n",
    "\n",
    "Find any clearly \"incorrect\" values in the `Price` column and \"clean\" the\n",
    "DataFrame to address those values.\n",
    "\n",
    "Ensure you make the changes to the DataFrame assigned to the variable `df`."
   ]
  },
  {
   "cell_type": "code",
   "execution_count": 11,
   "metadata": {
    "deletable": false,
    "nbgrader": {
     "cell_type": "code",
     "checksum": "65221a52e693b17b08938bead7dd426e",
     "grade": false,
     "grade_id": "cell-0027a2a53652e8ab",
     "locked": false,
     "schema_version": 3,
     "solution": true,
     "task": false
    }
   },
   "outputs": [
    {
     "data": {
      "text/plain": [
       "array([ 3.9550e+01,  2.6950e+01,  2.3070e+01,  2.8040e+01,  1.3840e+01,\n",
       "        1.8530e+01,  2.9660e+01,  3.8170e+01,  2.1820e+01,  3.9240e+01,\n",
       "        1.5340e+01,  3.6300e+01,  1.0800e+01,  3.4380e+01,  2.9470e+01,\n",
       "        3.0630e+01,  1.9960e+01,  1.7160e+01,  2.4530e+01,  1.4530e+01,\n",
       "        2.5480e+01,  1.6710e+01,  1.9873e+04,  3.9320e+01, -1.9873e+04])"
      ]
     },
     "execution_count": 11,
     "metadata": {},
     "output_type": "execute_result"
    }
   ],
   "source": [
    "# Your code here\n",
    "\n",
    "df.Price.unique()"
   ]
  },
  {
   "cell_type": "code",
   "execution_count": 12,
   "metadata": {},
   "outputs": [
    {
     "data": {
      "text/plain": [
       "19873.0"
      ]
     },
     "execution_count": 12,
     "metadata": {},
     "output_type": "execute_result"
    }
   ],
   "source": [
    "df.Price.max()"
   ]
  },
  {
   "cell_type": "code",
   "execution_count": 13,
   "metadata": {},
   "outputs": [
    {
     "data": {
      "text/plain": [
       "-19873.0"
      ]
     },
     "execution_count": 13,
     "metadata": {},
     "output_type": "execute_result"
    }
   ],
   "source": [
    "df.Price.min()"
   ]
  },
  {
   "cell_type": "code",
   "execution_count": 14,
   "metadata": {},
   "outputs": [
    {
     "data": {
      "text/plain": [
       "count     2758.000000\n",
       "mean        25.621632\n",
       "std        535.327290\n",
       "min     -19873.000000\n",
       "25%         17.160000\n",
       "50%         25.480000\n",
       "75%         34.380000\n",
       "max      19873.000000\n",
       "Name: Price, dtype: float64"
      ]
     },
     "execution_count": 14,
     "metadata": {},
     "output_type": "execute_result"
    }
   ],
   "source": [
    "df.Price.describe()"
   ]
  },
  {
   "cell_type": "code",
   "execution_count": 15,
   "metadata": {},
   "outputs": [
    {
     "data": {
      "text/plain": [
       "-14391.03634"
      ]
     },
     "execution_count": 15,
     "metadata": {},
     "output_type": "execute_result"
    }
   ],
   "source": [
    "df.Price.quantile(0.0001)"
   ]
  },
  {
   "cell_type": "code",
   "execution_count": 16,
   "metadata": {},
   "outputs": [
    {
     "data": {
      "text/plain": [
       "-14391.03634"
      ]
     },
     "execution_count": 16,
     "metadata": {},
     "output_type": "execute_result"
    }
   ],
   "source": [
    "df.Price.quantile(0.0001).sum()"
   ]
  },
  {
   "cell_type": "code",
   "execution_count": 17,
   "metadata": {},
   "outputs": [
    {
     "data": {
      "text/plain": [
       "1"
      ]
     },
     "execution_count": 17,
     "metadata": {},
     "output_type": "execute_result"
    }
   ],
   "source": [
    "(df.Price < df.Price.quantile(0.0001).sum()).sum()"
   ]
  },
  {
   "cell_type": "code",
   "execution_count": 18,
   "metadata": {},
   "outputs": [
    {
     "data": {
      "text/plain": [
       "1"
      ]
     },
     "execution_count": 18,
     "metadata": {},
     "output_type": "execute_result"
    }
   ],
   "source": [
    "(df.Price > df.Price.quantile(0.999).sum()).sum()"
   ]
  },
  {
   "cell_type": "code",
   "execution_count": 19,
   "metadata": {},
   "outputs": [],
   "source": [
    "df[\"Price\"].replace(to_replace=-19873.00, value=-1000.00, inplace=True)"
   ]
  },
  {
   "cell_type": "code",
   "execution_count": 20,
   "metadata": {},
   "outputs": [],
   "source": [
    "df[\"Price\"].replace(to_replace=-1000.00, value=0.00, inplace=True)"
   ]
  },
  {
   "cell_type": "code",
   "execution_count": 21,
   "metadata": {},
   "outputs": [],
   "source": [
    "df[\"Price\"].replace(to_replace=19873.000000, value=0.00, inplace=True)"
   ]
  },
  {
   "cell_type": "code",
   "execution_count": 22,
   "metadata": {
    "deletable": false,
    "editable": false,
    "nbgrader": {
     "cell_type": "code",
     "checksum": "bc3fda692bc84d097c37c741bb91fd62",
     "grade": true,
     "grade_id": "cell-27dd6cf1362ef116",
     "locked": true,
     "points": 1,
     "schema_version": 3,
     "solution": false,
     "task": false
    }
   },
   "outputs": [],
   "source": [
    "# Question 2 Grading Checks\n",
    "\n",
    "assert (df.Price < df.Price.quantile(0.0001)).sum() == 0, 'Check for very small values'\n",
    "assert (df.Price > df.Price.quantile(0.999)).sum() == 0, 'Check for very large values'"
   ]
  },
  {
   "cell_type": "markdown",
   "metadata": {
    "deletable": false,
    "editable": false,
    "nbgrader": {
     "cell_type": "markdown",
     "checksum": "64e8a9b7a3c9f000888e3216e0790b39",
     "grade": false,
     "grade_id": "cell-d67baf5602125531",
     "locked": true,
     "schema_version": 3,
     "solution": false,
     "task": false
    }
   },
   "source": [
    "#### Question 3\n",
    "\n",
    "After you've done the cleaning above, remove any column that has more than `500`\n",
    "missing values.\n",
    "\n",
    "Ensure you make the changes to the DataFrame assigned to the variable `df`."
   ]
  },
  {
   "cell_type": "code",
   "execution_count": 23,
   "metadata": {
    "deletable": false,
    "nbgrader": {
     "cell_type": "code",
     "checksum": "de9de88a8f8a83a87c903879a5edd9ff",
     "grade": false,
     "grade_id": "cell-599314d16da63332",
     "locked": false,
     "schema_version": 3,
     "solution": true,
     "task": false
    }
   },
   "outputs": [
    {
     "data": {
      "text/plain": [
       "Date                   0\n",
       "Order_Number           0\n",
       "Customer_ID           42\n",
       "Product_Name           0\n",
       "SKU                    0\n",
       "Price                  0\n",
       "Size                2132\n",
       "Quantity               0\n",
       "Product_Category       0\n",
       "Product_Line           0\n",
       "dtype: int64"
      ]
     },
     "execution_count": 23,
     "metadata": {},
     "output_type": "execute_result"
    }
   ],
   "source": [
    "# Your code here\n",
    "\n",
    "df.isnull().sum()"
   ]
  },
  {
   "cell_type": "code",
   "execution_count": 24,
   "metadata": {},
   "outputs": [],
   "source": [
    "df.drop([\"Size\"], axis=1, inplace=True)"
   ]
  },
  {
   "cell_type": "code",
   "execution_count": 25,
   "metadata": {},
   "outputs": [
    {
     "data": {
      "text/plain": [
       "Index(['Date', 'Order_Number', 'Customer_ID', 'Product_Name', 'SKU', 'Price',\n",
       "       'Quantity', 'Product_Category', 'Product_Line'],\n",
       "      dtype='object')"
      ]
     },
     "execution_count": 25,
     "metadata": {},
     "output_type": "execute_result"
    }
   ],
   "source": [
    "df.columns"
   ]
  },
  {
   "cell_type": "code",
   "execution_count": 26,
   "metadata": {
    "deletable": false,
    "editable": false,
    "nbgrader": {
     "cell_type": "code",
     "checksum": "ebd2fd03ccfcf64425602c4d9f4b7c0f",
     "grade": true,
     "grade_id": "cell-c24b230cb344ebd8",
     "locked": true,
     "points": 1,
     "schema_version": 3,
     "solution": false,
     "task": false
    }
   },
   "outputs": [],
   "source": [
    "# Question 3 Grading Checks\n",
    "\n",
    "assert len(df.columns) < 10, 'You should have dropped 1 or more columns (with more than 500 missing values)'"
   ]
  },
  {
   "cell_type": "markdown",
   "metadata": {
    "deletable": false,
    "editable": false,
    "nbgrader": {
     "cell_type": "markdown",
     "checksum": "faf02bc2e43d2e1ec0ffb6b5d0e371bf",
     "grade": false,
     "grade_id": "cell-7f2ec88ab51505e3",
     "locked": true,
     "schema_version": 3,
     "solution": false,
     "task": false
    }
   },
   "source": [
    "#### Question 4\n",
    "\n",
    "Address the other missing values. You can replace the values or remvove them,\n",
    "but whatever method you decide to clean the DataFrame, you should no longer have\n",
    "any missing values.\n",
    "\n",
    "Ensure you make the changes to the DataFrame assigned to the variable `df`."
   ]
  },
  {
   "cell_type": "code",
   "execution_count": 27,
   "metadata": {
    "deletable": false,
    "nbgrader": {
     "cell_type": "code",
     "checksum": "e74b56fead4f9c28d254234dd8f19c67",
     "grade": false,
     "grade_id": "cell-84c51bffa291e327",
     "locked": false,
     "schema_version": 3,
     "solution": true,
     "task": false
    }
   },
   "outputs": [
    {
     "data": {
      "text/plain": [
       "Date                 0\n",
       "Order_Number         0\n",
       "Customer_ID         42\n",
       "Product_Name         0\n",
       "SKU                  0\n",
       "Price                0\n",
       "Quantity             0\n",
       "Product_Category     0\n",
       "Product_Line         0\n",
       "dtype: int64"
      ]
     },
     "execution_count": 27,
     "metadata": {},
     "output_type": "execute_result"
    }
   ],
   "source": [
    "# Your code here\n",
    "\n",
    "df.isnull().sum()"
   ]
  },
  {
   "cell_type": "code",
   "execution_count": 28,
   "metadata": {},
   "outputs": [
    {
     "data": {
      "text/plain": [
       "0       476582ea-1bba-4289-8775-3fcd8074821c\n",
       "1       476582ea-1bba-4289-8775-3fcd8074821c\n",
       "2       476582ea-1bba-4289-8775-3fcd8074821c\n",
       "3       5929a0e9-95a7-4dbf-896e-c11d1988615e\n",
       "4       5929a0e9-95a7-4dbf-896e-c11d1988615e\n",
       "                        ...                 \n",
       "2898    468f40b3-59ca-47fd-9739-c7f19cf48f32\n",
       "2899    468f40b3-59ca-47fd-9739-c7f19cf48f32\n",
       "2900    468f40b3-59ca-47fd-9739-c7f19cf48f32\n",
       "2901    468f40b3-59ca-47fd-9739-c7f19cf48f32\n",
       "2902    f2a090b3-ec77-4018-939e-1a18d2b4f4ef\n",
       "Name: Customer_ID, Length: 2758, dtype: object"
      ]
     },
     "execution_count": 28,
     "metadata": {},
     "output_type": "execute_result"
    }
   ],
   "source": [
    "df.Customer_ID"
   ]
  },
  {
   "cell_type": "code",
   "execution_count": 29,
   "metadata": {},
   "outputs": [],
   "source": [
    "df[\"Customer_ID\"].fillna(value=\"Missing\", inplace=True)"
   ]
  },
  {
   "cell_type": "code",
   "execution_count": 30,
   "metadata": {},
   "outputs": [
    {
     "data": {
      "text/plain": [
       "Missing                                 42\n",
       "9661b347-470c-4a8b-8924-fda98c4e935c    18\n",
       "dfb40ee9-0eb3-4a77-b88d-2023611258c4    17\n",
       "ee6d3390-4969-43f2-8adf-3601877a2c9d    17\n",
       "b20bec48-9ebb-40c4-90e4-f71605a39363    17\n",
       "                                        ..\n",
       "bbb287af-24d9-4b13-8cfa-535bccc79afc     1\n",
       "7ae8c57f-f0e1-4519-8139-9a091e524290     1\n",
       "93ae4647-8d4a-4229-b261-168ae843236e     1\n",
       "b497596f-42ee-48dd-a004-a271573d1f41     1\n",
       "a5e495e0-5c57-4d47-9394-4844167d3c74     1\n",
       "Name: Customer_ID, Length: 632, dtype: int64"
      ]
     },
     "execution_count": 30,
     "metadata": {},
     "output_type": "execute_result"
    }
   ],
   "source": [
    "df[\"Customer_ID\"].value_counts()"
   ]
  },
  {
   "cell_type": "code",
   "execution_count": 31,
   "metadata": {},
   "outputs": [
    {
     "data": {
      "text/plain": [
       "Date                0\n",
       "Order_Number        0\n",
       "Customer_ID         0\n",
       "Product_Name        0\n",
       "SKU                 0\n",
       "Price               0\n",
       "Quantity            0\n",
       "Product_Category    0\n",
       "Product_Line        0\n",
       "dtype: int64"
      ]
     },
     "execution_count": 31,
     "metadata": {},
     "output_type": "execute_result"
    }
   ],
   "source": [
    "df.isnull().sum()"
   ]
  },
  {
   "cell_type": "code",
   "execution_count": 32,
   "metadata": {
    "deletable": false,
    "editable": false,
    "nbgrader": {
     "cell_type": "code",
     "checksum": "5226f66fd43296eed780f939157e4e5c",
     "grade": true,
     "grade_id": "cell-bd337afe4c50f08c",
     "locked": true,
     "points": 1,
     "schema_version": 3,
     "solution": false,
     "task": false
    }
   },
   "outputs": [],
   "source": [
    "# Question 4 Grading Checks\n",
    "\n",
    "assert df.Customer_ID.isna().sum() == 0, 'Did you address all the missing values?'"
   ]
  },
  {
   "cell_type": "markdown",
   "metadata": {
    "deletable": false,
    "editable": false,
    "nbgrader": {
     "cell_type": "markdown",
     "checksum": "47456969b851b079da18850cc50be339",
     "grade": false,
     "grade_id": "cell-e69c88f10bdec890",
     "locked": true,
     "schema_version": 3,
     "solution": false,
     "task": false
    }
   },
   "source": [
    "## Explore\n",
    "\n",
    "You will explore the data. It's important that you follow the directions as\n",
    "stated. Doing more or less than what is asked might lead to not getting full\n",
    "points for the question.\n",
    "\n",
    "You may use either exploratory statistics or exploratory visualizations to help\n",
    "answer these questions.\n",
    "\n",
    "------\n",
    "\n",
    "Note that the DataFrame loaded for this section (in the below cell) is different\n",
    "from the data you used in the [Scrub](#scrub) section.\n",
    "\n",
    "If while you're working on the scrubbing phase you need to reset the DataFrame,\n",
    "you can restart the kernel (in the toolbar: \"Kernel\" > \"Restart\")."
   ]
  },
  {
   "cell_type": "code",
   "execution_count": 33,
   "metadata": {
    "deletable": false,
    "editable": false,
    "nbgrader": {
     "cell_type": "code",
     "checksum": "9e15de84c906beb6b167fcc21adf44d4",
     "grade": false,
     "grade_id": "cell-430e3501c4e642e3",
     "locked": true,
     "schema_version": 3,
     "solution": false,
     "task": false
    }
   },
   "outputs": [],
   "source": [
    "df = pd.read_csv('transactions-pet_store-clean.csv')"
   ]
  },
  {
   "cell_type": "code",
   "execution_count": 34,
   "metadata": {},
   "outputs": [
    {
     "data": {
      "text/plain": [
       "array(['Feline Fix Mix', 'Scratchy Post', 'Reddy Beddy',\n",
       "       'Snoozer Essentails', 'Whole Chemistry Recipe', 'Cat Cave',\n",
       "       'Chewie Dental', 'Tug-a-Back', 'Chomp-a Plush', 'Snack-em Fish',\n",
       "       'Foozy Mouse', 'Snoozer Hammock', 'Fetch Blaster', 'Yum Fish-Dish',\n",
       "       'Purrfect Puree', 'New Dish', 'Purr Mix', 'Tuna Tasties',\n",
       "       'All Veggie Yummies', 'Ball and String', 'Kitty Climber'],\n",
       "      dtype=object)"
      ]
     },
     "execution_count": 34,
     "metadata": {},
     "output_type": "execute_result"
    }
   ],
   "source": [
    "df.Product_Name.unique()"
   ]
  },
  {
   "cell_type": "markdown",
   "metadata": {
    "deletable": false,
    "editable": false,
    "nbgrader": {
     "cell_type": "markdown",
     "checksum": "161a45a30a932ba37e27113ee72db10a",
     "grade": false,
     "grade_id": "cell-35a13dba9bbe2887",
     "locked": true,
     "schema_version": 3,
     "solution": false,
     "task": false
    }
   },
   "source": [
    "#### Question 5\n",
    "\n",
    "Create a `Subtotal` column by multiplying the `Price` and `Quantity` values. \n",
    "This represents how much was spent for a given transaction (row)."
   ]
  },
  {
   "cell_type": "code",
   "execution_count": 35,
   "metadata": {
    "deletable": false,
    "nbgrader": {
     "cell_type": "code",
     "checksum": "7991f2aed2427ad899e937bef23e4eef",
     "grade": false,
     "grade_id": "cell-ba84ed15371dabf0",
     "locked": false,
     "schema_version": 3,
     "solution": true,
     "task": false
    }
   },
   "outputs": [
    {
     "data": {
      "text/html": [
       "<div>\n",
       "<style scoped>\n",
       "    .dataframe tbody tr th:only-of-type {\n",
       "        vertical-align: middle;\n",
       "    }\n",
       "\n",
       "    .dataframe tbody tr th {\n",
       "        vertical-align: top;\n",
       "    }\n",
       "\n",
       "    .dataframe thead th {\n",
       "        text-align: right;\n",
       "    }\n",
       "</style>\n",
       "<table border=\"1\" class=\"dataframe\">\n",
       "  <thead>\n",
       "    <tr style=\"text-align: right;\">\n",
       "      <th></th>\n",
       "      <th>Date</th>\n",
       "      <th>Order_Number</th>\n",
       "      <th>Customer_ID</th>\n",
       "      <th>Product_Name</th>\n",
       "      <th>SKU</th>\n",
       "      <th>Price</th>\n",
       "      <th>Quantity</th>\n",
       "      <th>Product_Category</th>\n",
       "      <th>Product_Line</th>\n",
       "    </tr>\n",
       "  </thead>\n",
       "  <tbody>\n",
       "    <tr>\n",
       "      <th>0</th>\n",
       "      <td>5/22/2021</td>\n",
       "      <td>SXF-7309-1727-1334</td>\n",
       "      <td>476582ea-1bba-4289-8775-3fcd8074821c</td>\n",
       "      <td>Feline Fix Mix</td>\n",
       "      <td>RKAPY3I1TP</td>\n",
       "      <td>39.55</td>\n",
       "      <td>1</td>\n",
       "      <td>treat</td>\n",
       "      <td>cat</td>\n",
       "    </tr>\n",
       "    <tr>\n",
       "      <th>1</th>\n",
       "      <td>5/22/2021</td>\n",
       "      <td>SXF-7309-1727-1334</td>\n",
       "      <td>476582ea-1bba-4289-8775-3fcd8074821c</td>\n",
       "      <td>Scratchy Post</td>\n",
       "      <td>MPH6SCD7UT</td>\n",
       "      <td>26.95</td>\n",
       "      <td>3</td>\n",
       "      <td>toy</td>\n",
       "      <td>cat</td>\n",
       "    </tr>\n",
       "    <tr>\n",
       "      <th>2</th>\n",
       "      <td>5/22/2021</td>\n",
       "      <td>SXF-7309-1727-1334</td>\n",
       "      <td>476582ea-1bba-4289-8775-3fcd8074821c</td>\n",
       "      <td>Reddy Beddy</td>\n",
       "      <td>DJWE1V9LZK</td>\n",
       "      <td>23.07</td>\n",
       "      <td>3</td>\n",
       "      <td>bedding</td>\n",
       "      <td>dog</td>\n",
       "    </tr>\n",
       "    <tr>\n",
       "      <th>3</th>\n",
       "      <td>3/23/2020</td>\n",
       "      <td>DG7-5410-5845-1340</td>\n",
       "      <td>5929a0e9-95a7-4dbf-896e-c11d1988615e</td>\n",
       "      <td>Snoozer Essentails</td>\n",
       "      <td>GABWVMEL2R</td>\n",
       "      <td>28.04</td>\n",
       "      <td>3</td>\n",
       "      <td>bedding</td>\n",
       "      <td>dog</td>\n",
       "    </tr>\n",
       "    <tr>\n",
       "      <th>4</th>\n",
       "      <td>3/23/2020</td>\n",
       "      <td>DG7-5410-5845-1340</td>\n",
       "      <td>5929a0e9-95a7-4dbf-896e-c11d1988615e</td>\n",
       "      <td>Reddy Beddy</td>\n",
       "      <td>KDTMPSBZKZ</td>\n",
       "      <td>13.84</td>\n",
       "      <td>1</td>\n",
       "      <td>bedding</td>\n",
       "      <td>dog</td>\n",
       "    </tr>\n",
       "  </tbody>\n",
       "</table>\n",
       "</div>"
      ],
      "text/plain": [
       "        Date        Order_Number                           Customer_ID  \\\n",
       "0  5/22/2021  SXF-7309-1727-1334  476582ea-1bba-4289-8775-3fcd8074821c   \n",
       "1  5/22/2021  SXF-7309-1727-1334  476582ea-1bba-4289-8775-3fcd8074821c   \n",
       "2  5/22/2021  SXF-7309-1727-1334  476582ea-1bba-4289-8775-3fcd8074821c   \n",
       "3  3/23/2020  DG7-5410-5845-1340  5929a0e9-95a7-4dbf-896e-c11d1988615e   \n",
       "4  3/23/2020  DG7-5410-5845-1340  5929a0e9-95a7-4dbf-896e-c11d1988615e   \n",
       "\n",
       "         Product_Name         SKU  Price  Quantity Product_Category  \\\n",
       "0      Feline Fix Mix  RKAPY3I1TP  39.55         1            treat   \n",
       "1       Scratchy Post  MPH6SCD7UT  26.95         3              toy   \n",
       "2         Reddy Beddy  DJWE1V9LZK  23.07         3          bedding   \n",
       "3  Snoozer Essentails  GABWVMEL2R  28.04         3          bedding   \n",
       "4         Reddy Beddy  KDTMPSBZKZ  13.84         1          bedding   \n",
       "\n",
       "  Product_Line  \n",
       "0          cat  \n",
       "1          cat  \n",
       "2          dog  \n",
       "3          dog  \n",
       "4          dog  "
      ]
     },
     "execution_count": 35,
     "metadata": {},
     "output_type": "execute_result"
    }
   ],
   "source": [
    "# Your code here\n",
    "\n",
    "df.head()"
   ]
  },
  {
   "cell_type": "code",
   "execution_count": 36,
   "metadata": {},
   "outputs": [],
   "source": [
    "df[\"Subtotal\"] = df[\"Price\"] * df[\"Quantity\"]"
   ]
  },
  {
   "cell_type": "code",
   "execution_count": 37,
   "metadata": {},
   "outputs": [
    {
     "data": {
      "text/html": [
       "<div>\n",
       "<style scoped>\n",
       "    .dataframe tbody tr th:only-of-type {\n",
       "        vertical-align: middle;\n",
       "    }\n",
       "\n",
       "    .dataframe tbody tr th {\n",
       "        vertical-align: top;\n",
       "    }\n",
       "\n",
       "    .dataframe thead th {\n",
       "        text-align: right;\n",
       "    }\n",
       "</style>\n",
       "<table border=\"1\" class=\"dataframe\">\n",
       "  <thead>\n",
       "    <tr style=\"text-align: right;\">\n",
       "      <th></th>\n",
       "      <th>Date</th>\n",
       "      <th>Order_Number</th>\n",
       "      <th>Customer_ID</th>\n",
       "      <th>Product_Name</th>\n",
       "      <th>SKU</th>\n",
       "      <th>Price</th>\n",
       "      <th>Quantity</th>\n",
       "      <th>Product_Category</th>\n",
       "      <th>Product_Line</th>\n",
       "      <th>Subtotal</th>\n",
       "    </tr>\n",
       "  </thead>\n",
       "  <tbody>\n",
       "    <tr>\n",
       "      <th>0</th>\n",
       "      <td>5/22/2021</td>\n",
       "      <td>SXF-7309-1727-1334</td>\n",
       "      <td>476582ea-1bba-4289-8775-3fcd8074821c</td>\n",
       "      <td>Feline Fix Mix</td>\n",
       "      <td>RKAPY3I1TP</td>\n",
       "      <td>39.55</td>\n",
       "      <td>1</td>\n",
       "      <td>treat</td>\n",
       "      <td>cat</td>\n",
       "      <td>39.55</td>\n",
       "    </tr>\n",
       "    <tr>\n",
       "      <th>1</th>\n",
       "      <td>5/22/2021</td>\n",
       "      <td>SXF-7309-1727-1334</td>\n",
       "      <td>476582ea-1bba-4289-8775-3fcd8074821c</td>\n",
       "      <td>Scratchy Post</td>\n",
       "      <td>MPH6SCD7UT</td>\n",
       "      <td>26.95</td>\n",
       "      <td>3</td>\n",
       "      <td>toy</td>\n",
       "      <td>cat</td>\n",
       "      <td>80.85</td>\n",
       "    </tr>\n",
       "    <tr>\n",
       "      <th>2</th>\n",
       "      <td>5/22/2021</td>\n",
       "      <td>SXF-7309-1727-1334</td>\n",
       "      <td>476582ea-1bba-4289-8775-3fcd8074821c</td>\n",
       "      <td>Reddy Beddy</td>\n",
       "      <td>DJWE1V9LZK</td>\n",
       "      <td>23.07</td>\n",
       "      <td>3</td>\n",
       "      <td>bedding</td>\n",
       "      <td>dog</td>\n",
       "      <td>69.21</td>\n",
       "    </tr>\n",
       "    <tr>\n",
       "      <th>3</th>\n",
       "      <td>3/23/2020</td>\n",
       "      <td>DG7-5410-5845-1340</td>\n",
       "      <td>5929a0e9-95a7-4dbf-896e-c11d1988615e</td>\n",
       "      <td>Snoozer Essentails</td>\n",
       "      <td>GABWVMEL2R</td>\n",
       "      <td>28.04</td>\n",
       "      <td>3</td>\n",
       "      <td>bedding</td>\n",
       "      <td>dog</td>\n",
       "      <td>84.12</td>\n",
       "    </tr>\n",
       "    <tr>\n",
       "      <th>4</th>\n",
       "      <td>3/23/2020</td>\n",
       "      <td>DG7-5410-5845-1340</td>\n",
       "      <td>5929a0e9-95a7-4dbf-896e-c11d1988615e</td>\n",
       "      <td>Reddy Beddy</td>\n",
       "      <td>KDTMPSBZKZ</td>\n",
       "      <td>13.84</td>\n",
       "      <td>1</td>\n",
       "      <td>bedding</td>\n",
       "      <td>dog</td>\n",
       "      <td>13.84</td>\n",
       "    </tr>\n",
       "  </tbody>\n",
       "</table>\n",
       "</div>"
      ],
      "text/plain": [
       "        Date        Order_Number                           Customer_ID  \\\n",
       "0  5/22/2021  SXF-7309-1727-1334  476582ea-1bba-4289-8775-3fcd8074821c   \n",
       "1  5/22/2021  SXF-7309-1727-1334  476582ea-1bba-4289-8775-3fcd8074821c   \n",
       "2  5/22/2021  SXF-7309-1727-1334  476582ea-1bba-4289-8775-3fcd8074821c   \n",
       "3  3/23/2020  DG7-5410-5845-1340  5929a0e9-95a7-4dbf-896e-c11d1988615e   \n",
       "4  3/23/2020  DG7-5410-5845-1340  5929a0e9-95a7-4dbf-896e-c11d1988615e   \n",
       "\n",
       "         Product_Name         SKU  Price  Quantity Product_Category  \\\n",
       "0      Feline Fix Mix  RKAPY3I1TP  39.55         1            treat   \n",
       "1       Scratchy Post  MPH6SCD7UT  26.95         3              toy   \n",
       "2         Reddy Beddy  DJWE1V9LZK  23.07         3          bedding   \n",
       "3  Snoozer Essentails  GABWVMEL2R  28.04         3          bedding   \n",
       "4         Reddy Beddy  KDTMPSBZKZ  13.84         1          bedding   \n",
       "\n",
       "  Product_Line  Subtotal  \n",
       "0          cat     39.55  \n",
       "1          cat     80.85  \n",
       "2          dog     69.21  \n",
       "3          dog     84.12  \n",
       "4          dog     13.84  "
      ]
     },
     "execution_count": 37,
     "metadata": {},
     "output_type": "execute_result"
    }
   ],
   "source": [
    "df.head()"
   ]
  },
  {
   "cell_type": "code",
   "execution_count": 38,
   "metadata": {
    "deletable": false,
    "editable": false,
    "nbgrader": {
     "cell_type": "code",
     "checksum": "b1c0493a886a864e258ea7684a37fe89",
     "grade": true,
     "grade_id": "cell-f87e830cd82a4f1b",
     "locked": true,
     "points": 1,
     "schema_version": 3,
     "solution": false,
     "task": false
    }
   },
   "outputs": [],
   "source": [
    "# Question 5 Grading Checks\n",
    "\n",
    "assert 'Subtotal' in df.columns, ''"
   ]
  },
  {
   "cell_type": "markdown",
   "metadata": {
    "deletable": false,
    "editable": false,
    "nbgrader": {
     "cell_type": "markdown",
     "checksum": "13ec24d3b0985d68b497388715823080",
     "grade": false,
     "grade_id": "cell-d5dc270cfc2bddc0",
     "locked": true,
     "schema_version": 3,
     "solution": false,
     "task": false
    }
   },
   "source": [
    "#### Question 6\n",
    "\n",
    "Determine most common category (`Product_Category`) purchases (number of total\n",
    "items) for both `Product_Line` categories. Assign the (string) name of these\n",
    "categories to their respective variables `common_category_cat` & \n",
    "`common_category_dog`."
   ]
  },
  {
   "cell_type": "code",
   "execution_count": 39,
   "metadata": {
    "deletable": false,
    "nbgrader": {
     "cell_type": "code",
     "checksum": "dc1ca179ee57565430754d458463b7d5",
     "grade": false,
     "grade_id": "cell-ece8384bff124a9a",
     "locked": false,
     "schema_version": 3,
     "solution": true,
     "task": false
    }
   },
   "outputs": [
    {
     "data": {
      "text/html": [
       "<div>\n",
       "<style scoped>\n",
       "    .dataframe tbody tr th:only-of-type {\n",
       "        vertical-align: middle;\n",
       "    }\n",
       "\n",
       "    .dataframe tbody tr th {\n",
       "        vertical-align: top;\n",
       "    }\n",
       "\n",
       "    .dataframe thead th {\n",
       "        text-align: right;\n",
       "    }\n",
       "</style>\n",
       "<table border=\"1\" class=\"dataframe\">\n",
       "  <thead>\n",
       "    <tr style=\"text-align: right;\">\n",
       "      <th></th>\n",
       "      <th>Product_Category</th>\n",
       "      <th>Product_Line</th>\n",
       "      <th>Quantity</th>\n",
       "    </tr>\n",
       "  </thead>\n",
       "  <tbody>\n",
       "    <tr>\n",
       "      <th>0</th>\n",
       "      <td>treat</td>\n",
       "      <td>cat</td>\n",
       "      <td>1026</td>\n",
       "    </tr>\n",
       "    <tr>\n",
       "      <th>1</th>\n",
       "      <td>bedding</td>\n",
       "      <td>dog</td>\n",
       "      <td>953</td>\n",
       "    </tr>\n",
       "    <tr>\n",
       "      <th>2</th>\n",
       "      <td>toy</td>\n",
       "      <td>cat</td>\n",
       "      <td>851</td>\n",
       "    </tr>\n",
       "    <tr>\n",
       "      <th>3</th>\n",
       "      <td>toy</td>\n",
       "      <td>dog</td>\n",
       "      <td>662</td>\n",
       "    </tr>\n",
       "    <tr>\n",
       "      <th>4</th>\n",
       "      <td>bedding</td>\n",
       "      <td>cat</td>\n",
       "      <td>526</td>\n",
       "    </tr>\n",
       "    <tr>\n",
       "      <th>5</th>\n",
       "      <td>food</td>\n",
       "      <td>dog</td>\n",
       "      <td>505</td>\n",
       "    </tr>\n",
       "    <tr>\n",
       "      <th>6</th>\n",
       "      <td>treat</td>\n",
       "      <td>dog</td>\n",
       "      <td>453</td>\n",
       "    </tr>\n",
       "    <tr>\n",
       "      <th>7</th>\n",
       "      <td>food</td>\n",
       "      <td>cat</td>\n",
       "      <td>422</td>\n",
       "    </tr>\n",
       "  </tbody>\n",
       "</table>\n",
       "</div>"
      ],
      "text/plain": [
       "  Product_Category Product_Line  Quantity\n",
       "0            treat          cat      1026\n",
       "1          bedding          dog       953\n",
       "2              toy          cat       851\n",
       "3              toy          dog       662\n",
       "4          bedding          cat       526\n",
       "5             food          dog       505\n",
       "6            treat          dog       453\n",
       "7             food          cat       422"
      ]
     },
     "execution_count": 39,
     "metadata": {},
     "output_type": "execute_result"
    }
   ],
   "source": [
    "# Your code here\n",
    "\n",
    "common_category1 = pd.DataFrame(df.groupby([\"Product_Category\",\"Product_Line\"], as_index=False)[\"Quantity\"].sum().sort_values(by=\"Quantity\", ascending=False))\n",
    "common_category1.reset_index(inplace=True, drop=True)\n",
    "common_category1"
   ]
  },
  {
   "cell_type": "code",
   "execution_count": 40,
   "metadata": {},
   "outputs": [
    {
     "data": {
      "text/plain": [
       "'treat'"
      ]
     },
     "execution_count": 40,
     "metadata": {},
     "output_type": "execute_result"
    }
   ],
   "source": [
    "common_category_cat = common_category1[\"Product_Category\"].iloc[0]\n",
    "common_category_cat"
   ]
  },
  {
   "cell_type": "code",
   "execution_count": 41,
   "metadata": {},
   "outputs": [
    {
     "data": {
      "text/plain": [
       "str"
      ]
     },
     "execution_count": 41,
     "metadata": {},
     "output_type": "execute_result"
    }
   ],
   "source": [
    "type(common_category_cat)"
   ]
  },
  {
   "cell_type": "code",
   "execution_count": 42,
   "metadata": {},
   "outputs": [
    {
     "data": {
      "text/plain": [
       "'bedding'"
      ]
     },
     "execution_count": 42,
     "metadata": {},
     "output_type": "execute_result"
    }
   ],
   "source": [
    "common_category_dog = common_category1[\"Product_Category\"].iloc[1]\n",
    "common_category_dog"
   ]
  },
  {
   "cell_type": "code",
   "execution_count": 43,
   "metadata": {},
   "outputs": [
    {
     "data": {
      "text/plain": [
       "str"
      ]
     },
     "execution_count": 43,
     "metadata": {},
     "output_type": "execute_result"
    }
   ],
   "source": [
    "type(common_category_dog)"
   ]
  },
  {
   "cell_type": "code",
   "execution_count": 44,
   "metadata": {
    "deletable": false,
    "editable": false,
    "nbgrader": {
     "cell_type": "code",
     "checksum": "bf81eb09e460d830473840da35bf02fc",
     "grade": true,
     "grade_id": "cell-0e97f100c436e738",
     "locked": true,
     "points": 1,
     "schema_version": 3,
     "solution": false,
     "task": false
    }
   },
   "outputs": [],
   "source": [
    "# Question 6 Grading Checks\n",
    "\n",
    "assert isinstance(common_category_dog, str), 'Ensure you assign the name of the category (string) to the variable common_category_dog'\n",
    "assert isinstance(common_category_cat, str), 'Ensure you assign the name of the category (string) to the variable common_category_cat'"
   ]
  },
  {
   "cell_type": "markdown",
   "metadata": {
    "deletable": false,
    "editable": false,
    "nbgrader": {
     "cell_type": "markdown",
     "checksum": "800b4abf236eeb633dfa67d9c7992923",
     "grade": false,
     "grade_id": "cell-5c5b1b830a9dfffd",
     "locked": true,
     "schema_version": 3,
     "solution": false,
     "task": false
    }
   },
   "source": [
    "#### Question 7\n",
    "\n",
    "Determine which categories (`Product_Category`), by `Product_Line` have the\n",
    "***median*** highest `Price`.\n",
    "Assign the (string) name of these categories to their respective variables\n",
    "`priciest_category_cat` & `priciest_category_dog`."
   ]
  },
  {
   "cell_type": "code",
   "execution_count": 45,
   "metadata": {
    "deletable": false,
    "nbgrader": {
     "cell_type": "code",
     "checksum": "4eb2eab8b34c60ea5ae573cbbb8ccb9c",
     "grade": false,
     "grade_id": "cell-a6bc26b01022039a",
     "locked": false,
     "schema_version": 3,
     "solution": true,
     "task": false
    }
   },
   "outputs": [
    {
     "data": {
      "text/html": [
       "<div>\n",
       "<style scoped>\n",
       "    .dataframe tbody tr th:only-of-type {\n",
       "        vertical-align: middle;\n",
       "    }\n",
       "\n",
       "    .dataframe tbody tr th {\n",
       "        vertical-align: top;\n",
       "    }\n",
       "\n",
       "    .dataframe thead th {\n",
       "        text-align: right;\n",
       "    }\n",
       "</style>\n",
       "<table border=\"1\" class=\"dataframe\">\n",
       "  <thead>\n",
       "    <tr style=\"text-align: right;\">\n",
       "      <th></th>\n",
       "      <th>Product_Category</th>\n",
       "      <th>Product_Line</th>\n",
       "      <th>Price</th>\n",
       "    </tr>\n",
       "  </thead>\n",
       "  <tbody>\n",
       "    <tr>\n",
       "      <th>0</th>\n",
       "      <td>bedding</td>\n",
       "      <td>cat</td>\n",
       "      <td>29.66</td>\n",
       "    </tr>\n",
       "    <tr>\n",
       "      <th>1</th>\n",
       "      <td>toy</td>\n",
       "      <td>dog</td>\n",
       "      <td>29.47</td>\n",
       "    </tr>\n",
       "    <tr>\n",
       "      <th>2</th>\n",
       "      <td>bedding</td>\n",
       "      <td>dog</td>\n",
       "      <td>28.04</td>\n",
       "    </tr>\n",
       "    <tr>\n",
       "      <th>3</th>\n",
       "      <td>treat</td>\n",
       "      <td>dog</td>\n",
       "      <td>25.48</td>\n",
       "    </tr>\n",
       "    <tr>\n",
       "      <th>4</th>\n",
       "      <td>food</td>\n",
       "      <td>cat</td>\n",
       "      <td>24.53</td>\n",
       "    </tr>\n",
       "    <tr>\n",
       "      <th>5</th>\n",
       "      <td>treat</td>\n",
       "      <td>cat</td>\n",
       "      <td>19.96</td>\n",
       "    </tr>\n",
       "    <tr>\n",
       "      <th>6</th>\n",
       "      <td>food</td>\n",
       "      <td>dog</td>\n",
       "      <td>18.53</td>\n",
       "    </tr>\n",
       "    <tr>\n",
       "      <th>7</th>\n",
       "      <td>toy</td>\n",
       "      <td>cat</td>\n",
       "      <td>16.71</td>\n",
       "    </tr>\n",
       "  </tbody>\n",
       "</table>\n",
       "</div>"
      ],
      "text/plain": [
       "  Product_Category Product_Line  Price\n",
       "0          bedding          cat  29.66\n",
       "1              toy          dog  29.47\n",
       "2          bedding          dog  28.04\n",
       "3            treat          dog  25.48\n",
       "4             food          cat  24.53\n",
       "5            treat          cat  19.96\n",
       "6             food          dog  18.53\n",
       "7              toy          cat  16.71"
      ]
     },
     "execution_count": 45,
     "metadata": {},
     "output_type": "execute_result"
    }
   ],
   "source": [
    "# Your code here\n",
    "\n",
    "df2 = pd.DataFrame(df.groupby([\"Product_Category\",\"Product_Line\"], as_index=False)[\"Price\"].median().sort_values(by=\"Price\", ascending=False))\n",
    "\n",
    "df2.reset_index(inplace=True, drop=True)\n",
    "\n",
    "df2"
   ]
  },
  {
   "cell_type": "code",
   "execution_count": 46,
   "metadata": {},
   "outputs": [
    {
     "data": {
      "text/plain": [
       "'toy'"
      ]
     },
     "execution_count": 46,
     "metadata": {},
     "output_type": "execute_result"
    }
   ],
   "source": [
    "priciest_category_dog = df2[\"Product_Category\"].iloc[1]\n",
    "priciest_category_dog"
   ]
  },
  {
   "cell_type": "code",
   "execution_count": 47,
   "metadata": {},
   "outputs": [
    {
     "data": {
      "text/plain": [
       "'bedding'"
      ]
     },
     "execution_count": 47,
     "metadata": {},
     "output_type": "execute_result"
    }
   ],
   "source": [
    "priciest_category_cat = df2[\"Product_Category\"].iloc[0]\n",
    "priciest_category_cat"
   ]
  },
  {
   "cell_type": "code",
   "execution_count": 48,
   "metadata": {
    "deletable": false,
    "editable": false,
    "nbgrader": {
     "cell_type": "code",
     "checksum": "26124ddd0a0bcf33077f2a98fc4bbd1f",
     "grade": true,
     "grade_id": "cell-4a19e91f382c60ff",
     "locked": true,
     "points": 1,
     "schema_version": 3,
     "solution": false,
     "task": false
    }
   },
   "outputs": [],
   "source": [
    "# Question 7 Grading Checks\n",
    "\n",
    "assert isinstance(priciest_category_dog, str), 'Ensure you assign the name of the category (string) to the variable priciest_category_dog'\n",
    "assert isinstance(priciest_category_cat, str), 'Ensure you assign the name of the category (string) to the variable priciest_category_cat'"
   ]
  },
  {
   "cell_type": "markdown",
   "metadata": {
    "deletable": false,
    "editable": false,
    "nbgrader": {
     "cell_type": "markdown",
     "checksum": "713321e625f7490fa9bc25e3381f4b29",
     "grade": false,
     "grade_id": "cell-a305ebb05b5bab4f",
     "locked": true,
     "schema_version": 3,
     "solution": false,
     "task": false
    }
   },
   "source": [
    "## Modeling\n",
    "\n",
    "This is the point of the framework where we'd work on modeling with our data.\n",
    "However, in this activity, we're going to move straight to interpretting."
   ]
  },
  {
   "cell_type": "markdown",
   "metadata": {
    "deletable": false,
    "editable": false,
    "nbgrader": {
     "cell_type": "markdown",
     "checksum": "e71a3893dbab8f098ca17fa1fa6f6f2c",
     "grade": false,
     "grade_id": "cell-44e24612cdc015b6",
     "locked": true,
     "schema_version": 3,
     "solution": false,
     "task": false
    }
   },
   "source": [
    "## Interpret\n",
    "\n",
    "You will interpret the data based on what you found so far. It's important that\n",
    "you follow the directions as stated. Doing more or less than what is asked might\n",
    "lead to not getting full points for the question.\n",
    "\n",
    "\n",
    "------\n",
    "\n",
    "Note that the DataFrame loaded for this section (in the below cell) is the same\n",
    "as the data you used in the [Explore](#explore) section.\n",
    "\n",
    "If while you're working on the scrubbing phase you need to reset the DataFrame,\n",
    "you can restart the kernel (in the toolbar: \"Kernel\" > \"Restart\")."
   ]
  },
  {
   "cell_type": "markdown",
   "metadata": {
    "deletable": false,
    "editable": false,
    "nbgrader": {
     "cell_type": "markdown",
     "checksum": "ebb189745eb28c5bb1b71ad29ca0cf23",
     "grade": false,
     "grade_id": "cell-4ffa3b058477092e",
     "locked": true,
     "schema_version": 3,
     "solution": false,
     "task": false
    }
   },
   "source": [
    "#### Question 8\n",
    "\n",
    "You want to emphasize to your stakeholders that the total number of product\n",
    "categories sold differ between the two `Product_Line` categories (`'cat'` & \n",
    "`'dog'`).\n",
    "\n",
    "Create a **_horizontal_ bar plot** that has `Product_Category` on the y-axis and\n",
    "the total number of that category sold (using the `Quantity`) by each \n",
    "`Product_Line` category. Also **change the axis labels** to something meaningful\n",
    "and add a title.\n",
    "\n",
    "You will likely want to use Seaborn. Make sure you set the result to the\n",
    "variable `ax` like the following:\n",
    "```python\n",
    "ax = # code to create a bar plot\n",
    "```"
   ]
  },
  {
   "cell_type": "code",
   "execution_count": 49,
   "metadata": {
    "deletable": false,
    "nbgrader": {
     "cell_type": "code",
     "checksum": "f4109a9cc53215f0e6338d21151aa80e",
     "grade": false,
     "grade_id": "cell-d3c42515fea064ee",
     "locked": false,
     "schema_version": 3,
     "solution": true,
     "task": false
    }
   },
   "outputs": [
    {
     "data": {
      "image/png": "[encoded data removed]",
      "text/plain": [
       "<Figure size 720x360 with 1 Axes>"
      ]
     },
     "metadata": {
      "needs_background": "light"
     },
     "output_type": "display_data"
    }
   ],
   "source": [
    "# Your code here\n",
    "\n",
    "fig, ax = plt.subplots(figsize=(10, 5))\n",
    "\n",
    "sns.barplot(x=df.Quantity, y=df.Product_Category, data=df, errorbar=None, estimator=\"sum\")\n",
    "plt.title(\"Horizontal Bar Plot\", size=20)\n",
    "plt.ylabel(\"Product Category\")\n",
    "\n",
    "plt.tight_layout()\n",
    "plt.show()"
   ]
  },
  {
   "cell_type": "code",
   "execution_count": 50,
   "metadata": {
    "deletable": false,
    "editable": false,
    "nbgrader": {
     "cell_type": "code",
     "checksum": "fd2502c1ed2a12547195c5b328c7f225",
     "grade": true,
     "grade_id": "cell-60564269274dbcfe",
     "locked": true,
     "points": 1,
     "schema_version": 3,
     "solution": false,
     "task": false
    }
   },
   "outputs": [],
   "source": [
    "# Question 8 Grading Checks\n",
    "\n",
    "assert isinstance(ax, plt.Axes), 'Did you assign the plot result to the variable ax?'"
   ]
  },
  {
   "cell_type": "markdown",
   "metadata": {
    "deletable": false,
    "editable": false,
    "nbgrader": {
     "cell_type": "markdown",
     "checksum": "136ec14e73c267b72678817d80ab77f8",
     "grade": false,
     "grade_id": "cell-4d6cb4b73dce3c69",
     "locked": true,
     "schema_version": 3,
     "solution": false,
     "task": false
    }
   },
   "source": [
    "#### Question 9\n",
    "\n",
    "Based on the plot from [Question 8](#question-8), what would you conclude for\n",
    "your stakeholders about what products they should sell? What would be the\n",
    "considerations and/or caveats you'd communicate to your stakeholders?\n",
    "\n",
    "Write at least a couple sentences of your thoughts in a string assigned to the\n",
    "variable `answer_to_9`.\n",
    "\n",
    "The cell below should look something like this:\n",
    "```python\n",
    "answer_to_9 = '''\n",
    "I think that based on the visualization that ****.\n",
    "Therefore I would communicate with the stakeholders that ****\n",
    "'''\n",
    "```"
   ]
  },
  {
   "cell_type": "code",
   "execution_count": 51,
   "metadata": {
    "deletable": false,
    "nbgrader": {
     "cell_type": "code",
     "checksum": "91ce200f744e892e3a7cd5b46079b9cd",
     "grade": false,
     "grade_id": "cell-644027438221cdb6",
     "locked": false,
     "schema_version": 3,
     "solution": true,
     "task": false
    }
   },
   "outputs": [],
   "source": [
    "# Your code here\n",
    "answer_to_9 = '''\n",
    "\n",
    "From the bar graph, toy has a slightly more compared to the rest. They sell almost similar amounts****.\n",
    "\n",
    "I recommend diversified all product categories to reach out for more customers ****.\n",
    "\n",
    "'''"
   ]
  },
  {
   "cell_type": "code",
   "execution_count": 52,
   "metadata": {},
   "outputs": [
    {
     "data": {
      "text/plain": [
       "'\\n\\nFrom the bar graph, toy has a slightly more compared to the rest. They sell almost similar amounts****.\\n\\nI recommend diversified all product categories to reach out for more customers ****.\\n\\n'"
      ]
     },
     "execution_count": 52,
     "metadata": {},
     "output_type": "execute_result"
    }
   ],
   "source": [
    "answer_to_9"
   ]
  },
  {
   "cell_type": "code",
   "execution_count": 53,
   "metadata": {
    "deletable": false,
    "editable": false,
    "nbgrader": {
     "cell_type": "code",
     "checksum": "e74429949812630dd09d1d1d1f13a0ca",
     "grade": true,
     "grade_id": "cell-9c532b6a42bca727",
     "locked": true,
     "points": 1,
     "schema_version": 3,
     "solution": false,
     "task": false
    }
   },
   "outputs": [],
   "source": [
    "# Question 9 Grading Checks\n",
    "\n",
    "assert isinstance(answer_to_9, str), 'Make sure you create a string for your answer.'"
   ]
  },
  {
   "cell_type": "markdown",
   "metadata": {
    "deletable": false,
    "editable": false,
    "nbgrader": {
     "cell_type": "markdown",
     "checksum": "ee56826a96f7c142831051b0e71ab624",
     "grade": false,
     "grade_id": "cell-c539c031651736dd",
     "locked": true,
     "schema_version": 3,
     "solution": false,
     "task": false
    }
   },
   "source": [
    "#### Question 10\n",
    "\n",
    "The plot you created for [Question 8](#question-8) is good but could be modified\n",
    "to emphasize which products are important for the business.\n",
    "\n",
    "Create an explanatory visualization that emphasizes the insight you about the\n",
    "product category. This would be a visualization you'd share with the business\n",
    "stakeholders.\n",
    "\n",
    "Make sure you set the result to the variable `ax` like the following:\n",
    "```python\n",
    "ax = # code to create explanatory visualization\n",
    "```"
   ]
  },
  {
   "cell_type": "code",
   "execution_count": 54,
   "metadata": {
    "deletable": false,
    "nbgrader": {
     "cell_type": "code",
     "checksum": "3f9b6359ecf02114c44318f378921a63",
     "grade": false,
     "grade_id": "cell-6ad2fb66339caccc",
     "locked": false,
     "schema_version": 3,
     "solution": true,
     "task": false
    }
   },
   "outputs": [
    {
     "data": {
      "image/png": "[encoded data removed]",
      "text/plain": [
       "<Figure size 720x360 with 1 Axes>"
      ]
     },
     "metadata": {
      "needs_background": "light"
     },
     "output_type": "display_data"
    }
   ],
   "source": [
    "# Your code here\n",
    "\n",
    "fig, ax = plt.subplots(figsize=(10, 5))\n",
    "\n",
    "sns.barplot(y=df.Quantity, x=df.Product_Category, hue=df.Product_Line, data=df, errorbar=None)\n",
    "\n",
    "plt.title(\"Product Category by Product Line\", size=20)\n",
    "plt.tight_layout()\n",
    "plt.show()"
   ]
  },
  {
   "cell_type": "code",
   "execution_count": 55,
   "metadata": {},
   "outputs": [
    {
     "data": {
      "image/png": "[encoded data removed]",
      "text/plain": [
       "<Figure size 1080x360 with 1 Axes>"
      ]
     },
     "metadata": {
      "needs_background": "light"
     },
     "output_type": "display_data"
    }
   ],
   "source": [
    "# Your code here\n",
    "\n",
    "fig, ax = plt.subplots(figsize=(15, 5))\n",
    "\n",
    "sns.barplot(y=df.Quantity, x=df.Product_Name, hue=df.Product_Line, data=df, errorbar=None)\n",
    "\n",
    "plt.title(\"Product Name by Product Line\", size=20)\n",
    "\n",
    "plt.xticks(rotation=90)\n",
    "plt.tight_layout()\n",
    "plt.show()"
   ]
  },
  {
   "cell_type": "code",
   "execution_count": 56,
   "metadata": {
    "deletable": false,
    "editable": false,
    "nbgrader": {
     "cell_type": "code",
     "checksum": "3a95de18ac7c23e0a4ef176793942a0a",
     "grade": true,
     "grade_id": "cell-3517849ac5157f7e",
     "locked": true,
     "points": 1,
     "schema_version": 3,
     "solution": false,
     "task": false
    }
   },
   "outputs": [],
   "source": [
    "# Question 10 Grading Checks\n",
    "\n",
    "assert isinstance(ax, plt.Axes), 'Did you assign the plot result to the variable ax?'"
   ]
  },
  {
   "cell_type": "code",
   "execution_count": null,
   "metadata": {},
   "outputs": [],
   "source": []
  }
 ],
 "metadata": {
  "kernelspec": {
   "display_name": "Python 3 (ipykernel)",
   "language": "python",
   "name": "python3"
  },
  "language_info": {
   "codemirror_mode": {
    "name": "ipython",
    "version": 3
   },
   "file_extension": ".py",
   "mimetype": "text/x-python",
   "name": "python",
   "nbconvert_exporter": "python",
   "pygments_lexer": "ipython3",
   "version": "3.9.12"
  }
 },
 "nbformat": 4,
 "nbformat_minor": 2
}
