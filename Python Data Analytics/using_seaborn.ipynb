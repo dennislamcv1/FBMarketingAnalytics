{
 "cells": [
  {
   "cell_type": "markdown",
   "metadata": {
    "deletable": false,
    "editable": false,
    "nbgrader": {
     "cell_type": "markdown",
     "checksum": "7eef84c3e971c3c9e706444f2232982a",
     "grade": false,
     "grade_id": "cell-e05b50b24a708e2c",
     "locked": true,
     "schema_version": 3,
     "solution": false,
     "task": false
    }
   },
   "source": [
    "# Activity: Using Seaborn\n",
    "\n",
    "## Introduction\n",
    "\n",
    "In this activity you will practice using Seaborn to create visualizations.\n",
    "\n",
    "This activity will cover the following topics:\n",
    "- Creating a Seaborn box plot.\n",
    "- Creating a Seaborn violin plot.\n",
    "- Creating a Seaborn histogram.\n",
    "- Creating a Seaborn scatter plot."
   ]
  },
  {
   "cell_type": "code",
   "execution_count": 1,
   "metadata": {
    "deletable": false,
    "editable": false,
    "nbgrader": {
     "cell_type": "code",
     "checksum": "61291b4143c0a5b271b2855b1d3306ae",
     "grade": false,
     "grade_id": "cell-bd8e16095e10f4dc",
     "locked": true,
     "schema_version": 3,
     "solution": false,
     "task": false
    }
   },
   "outputs": [],
   "source": [
    "import pandas as pd\n",
    "import seaborn as sns\n",
    "import matplotlib.pyplot as plt\n",
    "\n",
    "# Data\n",
    "df = sns.load_dataset('iris')"
   ]
  },
  {
   "cell_type": "code",
   "execution_count": 2,
   "metadata": {},
   "outputs": [
    {
     "data": {
      "text/html": [
       "<div>\n",
       "<style scoped>\n",
       "    .dataframe tbody tr th:only-of-type {\n",
       "        vertical-align: middle;\n",
       "    }\n",
       "\n",
       "    .dataframe tbody tr th {\n",
       "        vertical-align: top;\n",
       "    }\n",
       "\n",
       "    .dataframe thead th {\n",
       "        text-align: right;\n",
       "    }\n",
       "</style>\n",
       "<table border=\"1\" class=\"dataframe\">\n",
       "  <thead>\n",
       "    <tr style=\"text-align: right;\">\n",
       "      <th></th>\n",
       "      <th>sepal_length</th>\n",
       "      <th>sepal_width</th>\n",
       "      <th>petal_length</th>\n",
       "      <th>petal_width</th>\n",
       "      <th>species</th>\n",
       "    </tr>\n",
       "  </thead>\n",
       "  <tbody>\n",
       "    <tr>\n",
       "      <th>0</th>\n",
       "      <td>5.1</td>\n",
       "      <td>3.5</td>\n",
       "      <td>1.4</td>\n",
       "      <td>0.2</td>\n",
       "      <td>setosa</td>\n",
       "    </tr>\n",
       "    <tr>\n",
       "      <th>1</th>\n",
       "      <td>4.9</td>\n",
       "      <td>3.0</td>\n",
       "      <td>1.4</td>\n",
       "      <td>0.2</td>\n",
       "      <td>setosa</td>\n",
       "    </tr>\n",
       "    <tr>\n",
       "      <th>2</th>\n",
       "      <td>4.7</td>\n",
       "      <td>3.2</td>\n",
       "      <td>1.3</td>\n",
       "      <td>0.2</td>\n",
       "      <td>setosa</td>\n",
       "    </tr>\n",
       "    <tr>\n",
       "      <th>3</th>\n",
       "      <td>4.6</td>\n",
       "      <td>3.1</td>\n",
       "      <td>1.5</td>\n",
       "      <td>0.2</td>\n",
       "      <td>setosa</td>\n",
       "    </tr>\n",
       "    <tr>\n",
       "      <th>4</th>\n",
       "      <td>5.0</td>\n",
       "      <td>3.6</td>\n",
       "      <td>1.4</td>\n",
       "      <td>0.2</td>\n",
       "      <td>setosa</td>\n",
       "    </tr>\n",
       "  </tbody>\n",
       "</table>\n",
       "</div>"
      ],
      "text/plain": [
       "   sepal_length  sepal_width  petal_length  petal_width species\n",
       "0           5.1          3.5           1.4          0.2  setosa\n",
       "1           4.9          3.0           1.4          0.2  setosa\n",
       "2           4.7          3.2           1.3          0.2  setosa\n",
       "3           4.6          3.1           1.5          0.2  setosa\n",
       "4           5.0          3.6           1.4          0.2  setosa"
      ]
     },
     "execution_count": 2,
     "metadata": {},
     "output_type": "execute_result"
    }
   ],
   "source": [
    "df.head()"
   ]
  },
  {
   "cell_type": "markdown",
   "metadata": {
    "deletable": false,
    "editable": false,
    "nbgrader": {
     "cell_type": "markdown",
     "checksum": "3f182b886ed8e1a2b82c8bb04c474e8c",
     "grade": false,
     "grade_id": "cell-39de37649b609544",
     "locked": true,
     "schema_version": 3,
     "solution": false,
     "task": false
    }
   },
   "source": [
    "#### Question 1\n",
    "\n",
    "Using Seaborn, create a horizontal box plot of the column `petal_width`.\n",
    "\n",
    "Set the result of the plot to the variable `ax`.\n",
    "Your code will look something like:\n",
    "```python\n",
    "ax = # code to create plot\n",
    "```"
   ]
  },
  {
   "cell_type": "code",
   "execution_count": 3,
   "metadata": {
    "deletable": false,
    "nbgrader": {
     "cell_type": "code",
     "checksum": "c67a3d9984bb7d5f8d3d474f4d7b24c7",
     "grade": false,
     "grade_id": "cell-5afa0c86230250de",
     "locked": false,
     "schema_version": 3,
     "solution": true,
     "task": false
    }
   },
   "outputs": [
    {
     "data": {
      "image/png": "[encoded data removed]",
      "text/plain": [
       "<Figure size 432x288 with 1 Axes>"
      ]
     },
     "metadata": {
      "needs_background": "light"
     },
     "output_type": "display_data"
    }
   ],
   "source": [
    "# Your code here\n",
    "\n",
    "fig, ax = plt.subplots()\n",
    "\n",
    "sns.boxplot(data=df, x=\"petal_width\")\n",
    "\n",
    "plt.show()"
   ]
  },
  {
   "cell_type": "code",
   "execution_count": 4,
   "metadata": {
    "deletable": false,
    "editable": false,
    "nbgrader": {
     "cell_type": "code",
     "checksum": "b0f0bb73d6efa28586e6815267c71da3",
     "grade": true,
     "grade_id": "cell-25a94d4b436d9c3f",
     "locked": true,
     "points": 1,
     "schema_version": 3,
     "solution": false,
     "task": false
    }
   },
   "outputs": [],
   "source": [
    "# Question 1 Grading Checks\n",
    "\n",
    "assert isinstance(ax, plt.Axes), 'Did you assign the plot result to the variable ax?'"
   ]
  },
  {
   "cell_type": "markdown",
   "metadata": {
    "deletable": false,
    "editable": false,
    "nbgrader": {
     "cell_type": "markdown",
     "checksum": "d5f3952dc7e3eac8b8c626d6d79acac2",
     "grade": false,
     "grade_id": "cell-d5bd1f134de206b4",
     "locked": true,
     "schema_version": 3,
     "solution": false,
     "task": false
    }
   },
   "source": [
    "#### Question 2\n",
    "\n",
    "In one visualization using Seaborn, create a *horizontal* box plot of the\n",
    "`petal_width` distribution for each `species`.\n",
    "\n",
    "Set the result of the plot to the variable `ax`.\n",
    "Your code will look something like:\n",
    "```python\n",
    "ax = # code to create plot\n",
    "```"
   ]
  },
  {
   "cell_type": "code",
   "execution_count": 5,
   "metadata": {
    "deletable": false,
    "nbgrader": {
     "cell_type": "code",
     "checksum": "2560617bfbef8d7597016097aa23a97a",
     "grade": false,
     "grade_id": "cell-2a006480374577a2",
     "locked": false,
     "schema_version": 3,
     "solution": true,
     "task": false
    }
   },
   "outputs": [
    {
     "data": {
      "image/png": "[encoded data removed]",
      "text/plain": [
       "<Figure size 432x288 with 1 Axes>"
      ]
     },
     "metadata": {
      "needs_background": "light"
     },
     "output_type": "display_data"
    }
   ],
   "source": [
    "# Your code here\n",
    "\n",
    "fig, ax = plt.subplots(1,1)\n",
    "\n",
    "sns.boxplot(data=df, x=\"petal_width\", y=\"species\", orient=\"h\")\n",
    "\n",
    "plt.show()"
   ]
  },
  {
   "cell_type": "code",
   "execution_count": 6,
   "metadata": {
    "deletable": false,
    "editable": false,
    "nbgrader": {
     "cell_type": "code",
     "checksum": "134de81bc32f215dd2c527e965a6fe72",
     "grade": true,
     "grade_id": "cell-6e42d455f0c86116",
     "locked": true,
     "points": 1,
     "schema_version": 3,
     "solution": false,
     "task": false
    }
   },
   "outputs": [],
   "source": [
    "# Question 2 Grading Checks\n",
    "\n",
    "assert isinstance(ax, plt.Axes), 'Did you assign the plot result to the variable ax?'"
   ]
  },
  {
   "cell_type": "markdown",
   "metadata": {
    "deletable": false,
    "editable": false,
    "nbgrader": {
     "cell_type": "markdown",
     "checksum": "0bc27a116cce764802aa75ba1b6fdfd0",
     "grade": false,
     "grade_id": "cell-0ef18349aed801e3",
     "locked": true,
     "schema_version": 3,
     "solution": false,
     "task": false
    }
   },
   "source": [
    "#### Question 3\n",
    "\n",
    "In one visualization using Seaborn, create a *vertical* violin plot of the\n",
    "`sepal_length` distribution for each `species`.\n",
    "\n",
    "Set the result of the plot to the variable `ax`.\n",
    "Your code will look something like:\n",
    "```python\n",
    "ax = # code to create plot\n",
    "```"
   ]
  },
  {
   "cell_type": "code",
   "execution_count": 7,
   "metadata": {
    "deletable": false,
    "nbgrader": {
     "cell_type": "code",
     "checksum": "77abf380b1b2fce549943dd382b92454",
     "grade": false,
     "grade_id": "cell-9e8832f0542e4583",
     "locked": false,
     "schema_version": 3,
     "solution": true,
     "task": false
    }
   },
   "outputs": [
    {
     "data": {
      "image/png": "[encoded data removed]",
      "text/plain": [
       "<Figure size 432x288 with 1 Axes>"
      ]
     },
     "metadata": {
      "needs_background": "light"
     },
     "output_type": "display_data"
    }
   ],
   "source": [
    "# Your code here\n",
    "fig, ax = plt.subplots()\n",
    "\n",
    "sns.violinplot(data=df, y=\"sepal_length\", x=\"species\", orient=\"v\")\n",
    "\n",
    "plt.show()"
   ]
  },
  {
   "cell_type": "code",
   "execution_count": 8,
   "metadata": {
    "deletable": false,
    "editable": false,
    "nbgrader": {
     "cell_type": "code",
     "checksum": "d1b9423285e55de430d0acb2bac65c66",
     "grade": true,
     "grade_id": "cell-569944080bb50545",
     "locked": true,
     "points": 1,
     "schema_version": 3,
     "solution": false,
     "task": false
    }
   },
   "outputs": [],
   "source": [
    "# Question 3 Grading Checks\n",
    "\n",
    "assert isinstance(ax, plt.Axes), 'Did you assign the plot result to the variable ax?'"
   ]
  },
  {
   "cell_type": "markdown",
   "metadata": {
    "deletable": false,
    "editable": false,
    "nbgrader": {
     "cell_type": "markdown",
     "checksum": "31a3a7709dbeea9e3f917e54fe5c28d4",
     "grade": false,
     "grade_id": "cell-a0a2bc08787c1544",
     "locked": true,
     "schema_version": 3,
     "solution": false,
     "task": false
    }
   },
   "source": [
    "#### Question 4\n",
    "\n",
    "Using Seaborn, create a *vertical* histogram of the\n",
    "`petal_length` distribution.\n",
    "\n",
    "Set the result of the plot to the variable `ax`.\n",
    "Your code will look something like:\n",
    "```python\n",
    "ax = # code to create plot\n",
    "```"
   ]
  },
  {
   "cell_type": "code",
   "execution_count": 9,
   "metadata": {
    "deletable": false,
    "nbgrader": {
     "cell_type": "code",
     "checksum": "6904dee3606928a4d196a3e2485a3a8d",
     "grade": false,
     "grade_id": "cell-74ac9ecc20b71e99",
     "locked": false,
     "schema_version": 3,
     "solution": true,
     "task": false
    }
   },
   "outputs": [
    {
     "data": {
      "image/png": "[encoded data removed]",
      "text/plain": [
       "<Figure size 432x288 with 1 Axes>"
      ]
     },
     "metadata": {
      "needs_background": "light"
     },
     "output_type": "display_data"
    }
   ],
   "source": [
    "# Your code here\n",
    "\n",
    "fig, ax = plt.subplots()\n",
    "\n",
    "sns.histplot(data=df, x=\"petal_length\")\n",
    "\n",
    "plt.show()"
   ]
  },
  {
   "cell_type": "code",
   "execution_count": 10,
   "metadata": {
    "deletable": false,
    "editable": false,
    "nbgrader": {
     "cell_type": "code",
     "checksum": "bf9488a91bda502a7258647b493862c2",
     "grade": true,
     "grade_id": "cell-569881f08205aca0",
     "locked": true,
     "points": 1,
     "schema_version": 3,
     "solution": false,
     "task": false
    }
   },
   "outputs": [],
   "source": [
    "# Question 4 Grading Checks\n",
    "\n",
    "assert isinstance(ax, plt.Axes), 'Did you assign the plot result to the variable ax?'"
   ]
  },
  {
   "cell_type": "markdown",
   "metadata": {
    "deletable": false,
    "editable": false,
    "nbgrader": {
     "cell_type": "markdown",
     "checksum": "bcb204ac23bab27098e8e3eff0829f18",
     "grade": false,
     "grade_id": "cell-dcd9914c6249d539",
     "locked": true,
     "schema_version": 3,
     "solution": false,
     "task": false
    }
   },
   "source": [
    "#### Question 5\n",
    "\n",
    "Using Seaborn, create a *horizontal* histogram of the\n",
    "`sepal_width` distribution with **20 bins**.\n",
    "\n",
    "Set the result of the plot to the variable `ax`.\n",
    "Your code will look something like:\n",
    "```python\n",
    "ax = # code to create plot\n",
    "```"
   ]
  },
  {
   "cell_type": "code",
   "execution_count": 11,
   "metadata": {
    "deletable": false,
    "nbgrader": {
     "cell_type": "code",
     "checksum": "88377299714430b2f20b5590c943303c",
     "grade": false,
     "grade_id": "cell-2860bebdd96a95b9",
     "locked": false,
     "schema_version": 3,
     "solution": true,
     "task": false
    }
   },
   "outputs": [
    {
     "data": {
      "image/png": "[encoded data removed]",
      "text/plain": [
       "<Figure size 432x288 with 1 Axes>"
      ]
     },
     "metadata": {
      "needs_background": "light"
     },
     "output_type": "display_data"
    }
   ],
   "source": [
    "# Your code here\n",
    "\n",
    "fig, ax = plt.subplots()\n",
    "\n",
    "sns.histplot(data=df, x=\"sepal_width\", bins=20)\n",
    "\n",
    "plt.show()"
   ]
  },
  {
   "cell_type": "code",
   "execution_count": 12,
   "metadata": {
    "deletable": false,
    "editable": false,
    "nbgrader": {
     "cell_type": "code",
     "checksum": "802f4288a376f0fb864aa6355f876c31",
     "grade": true,
     "grade_id": "cell-98af916d4d17f4a5",
     "locked": true,
     "points": 1,
     "schema_version": 3,
     "solution": false,
     "task": false
    }
   },
   "outputs": [],
   "source": [
    "# Question 5 Grading Checks\n",
    "\n",
    "assert isinstance(ax, plt.Axes), 'Did you assign the plot result to the variable ax?'"
   ]
  },
  {
   "cell_type": "markdown",
   "metadata": {
    "deletable": false,
    "editable": false,
    "nbgrader": {
     "cell_type": "markdown",
     "checksum": "ea7d26cce7a4d090d86b0509fc8ea689",
     "grade": false,
     "grade_id": "cell-93ee86aa312e849a",
     "locked": true,
     "schema_version": 3,
     "solution": false,
     "task": false
    }
   },
   "source": [
    "#### Question 6\n",
    "\n",
    "Using Seaborn, create a *vertical* histogram of the\n",
    "`petal_length` distribution with **bins ranging from 0 to 7**.\n",
    "\n",
    "Set the result of the plot to the variable `ax`.\n",
    "Your code will look something like:\n",
    "```python\n",
    "ax = # code to create plot\n",
    "```"
   ]
  },
  {
   "cell_type": "code",
   "execution_count": 13,
   "metadata": {
    "deletable": false,
    "nbgrader": {
     "cell_type": "code",
     "checksum": "3c2764dd39556e992d6e7cf64dfe56d6",
     "grade": false,
     "grade_id": "cell-cbf850e4d078f888",
     "locked": false,
     "schema_version": 3,
     "solution": true,
     "task": false
    }
   },
   "outputs": [
    {
     "data": {
      "image/png": "[encoded data removed]",
      "text/plain": [
       "<Figure size 432x288 with 1 Axes>"
      ]
     },
     "metadata": {
      "needs_background": "light"
     },
     "output_type": "display_data"
    }
   ],
   "source": [
    "# Your code here\n",
    "\n",
    "fig, ax = plt.subplots()\n",
    "\n",
    "sns.histplot(data=df, x=\"petal_length\", bins=range(8))\n",
    "\n",
    "plt.show()"
   ]
  },
  {
   "cell_type": "code",
   "execution_count": 14,
   "metadata": {
    "deletable": false,
    "editable": false,
    "nbgrader": {
     "cell_type": "code",
     "checksum": "197ea5d75cfb56e5c2850289451a7473",
     "grade": true,
     "grade_id": "cell-93ceb52d034a7e02",
     "locked": true,
     "points": 1,
     "schema_version": 3,
     "solution": false,
     "task": false
    }
   },
   "outputs": [],
   "source": [
    "# Question 6 Grading Checks\n",
    "\n",
    "assert isinstance(ax, plt.Axes), 'Did you assign the plot result to the variable ax?'"
   ]
  },
  {
   "cell_type": "markdown",
   "metadata": {
    "deletable": false,
    "editable": false,
    "nbgrader": {
     "cell_type": "markdown",
     "checksum": "c8978c1574cebfb0542a0a0b805117bc",
     "grade": false,
     "grade_id": "cell-6e0f0228d8ea2b70",
     "locked": true,
     "schema_version": 3,
     "solution": false,
     "task": false
    }
   },
   "source": [
    "#### Question 7\n",
    "\n",
    "Using Seaborn, create a scatterplot of the\n",
    "`petal_length` (x-axis) vs `petal_width` (y-axis).\n",
    "\n",
    "Set the result of the plot to the variable `ax`.\n",
    "Your code will look something like:\n",
    "```python\n",
    "ax = # code to create plot\n",
    "```"
   ]
  },
  {
   "cell_type": "code",
   "execution_count": 15,
   "metadata": {
    "deletable": false,
    "nbgrader": {
     "cell_type": "code",
     "checksum": "9438ad7510bf0414e4e7943af41b7aa0",
     "grade": false,
     "grade_id": "cell-9f6b0e7943cae1e3",
     "locked": false,
     "schema_version": 3,
     "solution": true,
     "task": false
    }
   },
   "outputs": [
    {
     "data": {
      "image/png": "[encoded data removed]",
      "text/plain": [
       "<Figure size 432x288 with 1 Axes>"
      ]
     },
     "metadata": {
      "needs_background": "light"
     },
     "output_type": "display_data"
    }
   ],
   "source": [
    "# Your code here\n",
    "\n",
    "fig, ax = plt.subplots()\n",
    "\n",
    "sns.scatterplot(data=df, x=\"petal_length\", y=\"petal_width\")\n",
    "\n",
    "plt.show()"
   ]
  },
  {
   "cell_type": "code",
   "execution_count": 16,
   "metadata": {
    "deletable": false,
    "editable": false,
    "nbgrader": {
     "cell_type": "code",
     "checksum": "f21558deb97d5f735744b06839cccb9d",
     "grade": true,
     "grade_id": "cell-8d7660caf1df7b2a",
     "locked": true,
     "points": 1,
     "schema_version": 3,
     "solution": false,
     "task": false
    }
   },
   "outputs": [],
   "source": [
    "# Question 7 Grading Checks\n",
    "\n",
    "assert isinstance(ax, plt.Axes), 'Did you assign the plot result to the variable ax?'"
   ]
  },
  {
   "cell_type": "markdown",
   "metadata": {
    "deletable": false,
    "editable": false,
    "nbgrader": {
     "cell_type": "markdown",
     "checksum": "f88ab98a598de1c57cd32349cc906c00",
     "grade": false,
     "grade_id": "cell-31904cce18a80d2a",
     "locked": true,
     "schema_version": 3,
     "solution": false,
     "task": false
    }
   },
   "source": [
    "#### Question 8\n",
    "\n",
    "Using Seaborn, create a scatterplot of the\n",
    "`sepal_length` (x-axis) vs `sepal_width` (y-axis) and change the color based on\n",
    "the `species` column.\n",
    "\n",
    "Set the result of the plot to the variable `ax`.\n",
    "Your code will look something like:\n",
    "```python\n",
    "ax = # code to create plot\n",
    "```\n"
   ]
  },
  {
   "cell_type": "code",
   "execution_count": 17,
   "metadata": {
    "deletable": false,
    "nbgrader": {
     "cell_type": "code",
     "checksum": "a4794d4a00706088e341ff8f7f2db661",
     "grade": false,
     "grade_id": "cell-f83fd284c69017df",
     "locked": false,
     "schema_version": 3,
     "solution": true,
     "task": false
    }
   },
   "outputs": [
    {
     "data": {
      "image/png": "[encoded data removed]",
      "text/plain": [
       "<Figure size 432x288 with 1 Axes>"
      ]
     },
     "metadata": {
      "needs_background": "light"
     },
     "output_type": "display_data"
    }
   ],
   "source": [
    "# Your code here\n",
    "\n",
    "fig, ax = plt.subplots()\n",
    "\n",
    "sns.scatterplot(data=df, x=\"sepal_length\", y=\"sepal_width\", hue=\"species\")\n",
    "\n",
    "plt.show()"
   ]
  },
  {
   "cell_type": "code",
   "execution_count": 18,
   "metadata": {
    "deletable": false,
    "editable": false,
    "nbgrader": {
     "cell_type": "code",
     "checksum": "dcd56af435e77931439043b0396edc8e",
     "grade": true,
     "grade_id": "cell-226804d2d95a6f00",
     "locked": true,
     "points": 1,
     "schema_version": 3,
     "solution": false,
     "task": false
    }
   },
   "outputs": [],
   "source": [
    "# Question 8 Grading Checks\n",
    "\n",
    "assert isinstance(ax, plt.Axes), 'Did you assign the plot result to the variable ax?'"
   ]
  },
  {
   "cell_type": "code",
   "execution_count": null,
   "metadata": {},
   "outputs": [],
   "source": []
  }
 ],
 "metadata": {
  "kernelspec": {
   "display_name": "Python 3",
   "language": "python",
   "name": "python3"
  },
  "language_info": {
   "codemirror_mode": {
    "name": "ipython",
    "version": 3
   },
   "file_extension": ".py",
   "mimetype": "text/x-python",
   "name": "python",
   "nbconvert_exporter": "python",
   "pygments_lexer": "ipython3",
   "version": "3.7.6"
  }
 },
 "nbformat": 4,
 "nbformat_minor": 2
}
