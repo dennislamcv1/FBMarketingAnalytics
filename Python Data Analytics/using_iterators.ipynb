{
 "cells": [
  {
   "cell_type": "markdown",
   "metadata": {
    "deletable": false,
    "editable": false,
    "nbgrader": {
     "cell_type": "markdown",
     "checksum": "c041117ca02ee271e89903484d01eb81",
     "grade": false,
     "grade_id": "cell-38a71f5e7f7c7ee7",
     "locked": true,
     "schema_version": 3,
     "solution": false,
     "task": false
    }
   },
   "source": [
    "# Activity: Using Iterators\n",
    "\n",
    "## Introduction\n",
    "\n",
    "In this activity you will practice writing `for` loops and using some built-in functions to iterate over lists and dictionaries.\n",
    "This activity contains:\n",
    "- `for` loops\n",
    "- `range()`\n",
    "- `values()`\n",
    "- `items()`\n",
    "- `keys()`"
   ]
  },
  {
   "cell_type": "markdown",
   "metadata": {
    "deletable": false,
    "editable": false,
    "nbgrader": {
     "cell_type": "markdown",
     "checksum": "2d830a3c52b38c449aeaccc0ebbfd26b",
     "grade": false,
     "grade_id": "cell-fc9be65a54d205e9",
     "locked": true,
     "schema_version": 3,
     "solution": false,
     "task": false
    }
   },
   "source": [
    "#### Question 1\n",
    "\n",
    "You're given a `list` of numbers from 1 through 10 and a variable called `total`. Write a `for` loop that sums all the numbers in the list and then prints the `total`.\n"
   ]
  },
  {
   "cell_type": "code",
   "execution_count": 1,
   "metadata": {
    "ExecuteTime": {
     "end_time": "2023-09-12T20:35:54.150960300Z",
     "start_time": "2023-09-12T20:35:54.118663800Z"
    },
    "deletable": false,
    "editable": false,
    "nbgrader": {
     "cell_type": "code",
     "checksum": "b7e05f4d4f317db519251d2946ed84c0",
     "grade": false,
     "grade_id": "cell-2dda8cf0d8e09ef9",
     "locked": true,
     "schema_version": 3,
     "solution": false,
     "task": false
    }
   },
   "outputs": [],
   "source": [
    "numbers = [1, 2, 3, 4, 5, 6, 7, 8, 9, 10]\n",
    "total = 0"
   ]
  },
  {
   "cell_type": "code",
   "execution_count": 2,
   "metadata": {
    "deletable": false,
    "nbgrader": {
     "cell_type": "code",
     "checksum": "659210d54b8ace267d333f73e10f7b44",
     "grade": false,
     "grade_id": "cell-bed85f309d313050",
     "locked": false,
     "schema_version": 3,
     "solution": true,
     "task": false
    }
   },
   "outputs": [
    {
     "name": "stdout",
     "output_type": "stream",
     "text": [
      "55\n"
     ]
    }
   ],
   "source": [
    "# Your code here\n",
    "\n",
    "for number in numbers:\n",
    "    total += number\n",
    "\n",
    "print(total)"
   ]
  },
  {
   "cell_type": "code",
   "execution_count": 3,
   "metadata": {
    "ExecuteTime": {
     "end_time": "2023-09-12T20:35:54.151465700Z",
     "start_time": "2023-09-12T20:35:54.124546700Z"
    },
    "deletable": false,
    "editable": false,
    "nbgrader": {
     "cell_type": "code",
     "checksum": "2d39fda8241353dd7c2632c5da2a0c3c",
     "grade": true,
     "grade_id": "cell-597af53664c994d5",
     "locked": true,
     "points": 1,
     "schema_version": 3,
     "solution": false,
     "task": false
    }
   },
   "outputs": [],
   "source": [
    "# Question 1 Grading Checks\n",
    "\n",
    "assert total > 0"
   ]
  },
  {
   "cell_type": "markdown",
   "metadata": {
    "deletable": false,
    "editable": false,
    "nbgrader": {
     "cell_type": "markdown",
     "checksum": "1f710294c26b1e7fb3f69ad0e2c7898b",
     "grade": false,
     "grade_id": "cell-61006ad7308c22f0",
     "locked": true,
     "schema_version": 3,
     "solution": false,
     "task": false
    }
   },
   "source": [
    "#### Question 2\n",
    "\n",
    "Write a `for` loop which uses the `range()` function to sum up the total of the first 100 numbers (1 through 100) and prints the `total`.\n"
   ]
  },
  {
   "cell_type": "code",
   "execution_count": 4,
   "metadata": {
    "ExecuteTime": {
     "end_time": "2023-09-12T20:35:54.151465700Z",
     "start_time": "2023-09-12T20:35:54.129505100Z"
    },
    "deletable": false,
    "editable": false,
    "nbgrader": {
     "cell_type": "code",
     "checksum": "af1dd9c297ed15fb60ae7d40825978fd",
     "grade": false,
     "grade_id": "cell-31a2355fbe2955f4",
     "locked": true,
     "schema_version": 3,
     "solution": false,
     "task": false
    }
   },
   "outputs": [],
   "source": [
    "total = 0"
   ]
  },
  {
   "cell_type": "code",
   "execution_count": 5,
   "metadata": {
    "deletable": false,
    "nbgrader": {
     "cell_type": "code",
     "checksum": "dcd01df09d21a76b1a12e7c2400b69e2",
     "grade": false,
     "grade_id": "cell-f7a55be450d84ab6",
     "locked": false,
     "schema_version": 3,
     "solution": true,
     "task": false
    }
   },
   "outputs": [
    {
     "name": "stdout",
     "output_type": "stream",
     "text": [
      "5050\n"
     ]
    }
   ],
   "source": [
    "# Your code here\n",
    "\n",
    "for number in range(1, 101):\n",
    "    total += number\n",
    "\n",
    "print(total)"
   ]
  },
  {
   "cell_type": "code",
   "execution_count": 6,
   "metadata": {
    "ExecuteTime": {
     "end_time": "2023-09-12T20:35:54.151465700Z",
     "start_time": "2023-09-12T20:35:54.133020100Z"
    },
    "deletable": false,
    "editable": false,
    "nbgrader": {
     "cell_type": "code",
     "checksum": "61f7ba87ce465c37c91ed237f1daf3a2",
     "grade": true,
     "grade_id": "cell-c747bcc5dc6a9e29",
     "locked": true,
     "points": 1,
     "schema_version": 3,
     "solution": false,
     "task": false
    }
   },
   "outputs": [],
   "source": [
    "# Question 2 Grading Checks\n",
    "\n",
    "assert total > 0, \"Double check your range\"\n",
    "assert total < 6000, \"Double check your range; did you reset total to 0 if you ran more than once?\"\n"
   ]
  },
  {
   "cell_type": "markdown",
   "metadata": {
    "deletable": false,
    "editable": false,
    "nbgrader": {
     "cell_type": "markdown",
     "checksum": "def8dc64af0172fea1fea28218066043",
     "grade": false,
     "grade_id": "cell-f443b45a54ae8d99",
     "locked": true,
     "schema_version": 3,
     "solution": false,
     "task": false
    }
   },
   "source": [
    "#### Question 3\n",
    "\n",
    "Write a `for` loop which uses the `range()` function to sum up the total of the (positive) **even** numbers _less than 100_ and prints the `total`."
   ]
  },
  {
   "cell_type": "code",
   "execution_count": 7,
   "metadata": {
    "ExecuteTime": {
     "end_time": "2023-09-12T20:35:54.151465700Z",
     "start_time": "2023-09-12T20:35:54.137724800Z"
    },
    "deletable": false,
    "editable": false,
    "nbgrader": {
     "cell_type": "code",
     "checksum": "6ada4c76cad1e5595d0dc28073c0a5ee",
     "grade": false,
     "grade_id": "cell-62c5140bd0316084",
     "locked": true,
     "schema_version": 3,
     "solution": false,
     "task": false
    }
   },
   "outputs": [],
   "source": [
    "total = 0"
   ]
  },
  {
   "cell_type": "code",
   "execution_count": 8,
   "metadata": {
    "deletable": false,
    "nbgrader": {
     "cell_type": "code",
     "checksum": "b2c69c8051c78b0fd1849fad02e1fd29",
     "grade": false,
     "grade_id": "cell-aee0a937e57bad33",
     "locked": false,
     "schema_version": 3,
     "solution": true,
     "task": false
    }
   },
   "outputs": [
    {
     "name": "stdout",
     "output_type": "stream",
     "text": [
      "2450\n"
     ]
    }
   ],
   "source": [
    "# Your code here\n",
    "\n",
    "for number in range(0, 100, 2):\n",
    "    total += number\n",
    "\n",
    "print(total)"
   ]
  },
  {
   "cell_type": "code",
   "execution_count": 9,
   "metadata": {
    "ExecuteTime": {
     "end_time": "2023-09-12T20:35:54.151465700Z",
     "start_time": "2023-09-12T20:35:54.140280200Z"
    },
    "deletable": false,
    "editable": false,
    "nbgrader": {
     "cell_type": "code",
     "checksum": "d61293f2e89a85aed6a322324ac810f0",
     "grade": true,
     "grade_id": "cell-76aa2fc7272212d2",
     "locked": true,
     "points": 1,
     "schema_version": 3,
     "solution": false,
     "task": false
    }
   },
   "outputs": [],
   "source": [
    "# Question 3 Grading Checks\n",
    "\n",
    "assert total > 0, \"Double check your range\"\n",
    "assert total < 2700, \"Double check your range; did you reset total to 0 if you ran more than once?\"\n"
   ]
  },
  {
   "cell_type": "markdown",
   "metadata": {
    "deletable": false,
    "editable": false,
    "nbgrader": {
     "cell_type": "markdown",
     "checksum": "8dc45c656dc86329f85b210216277c55",
     "grade": false,
     "grade_id": "cell-34068cd9d024374f",
     "locked": true,
     "schema_version": 3,
     "solution": false,
     "task": false
    }
   },
   "source": [
    "#### Question 4\n",
    "\n",
    "Using the given `dict` of `people`, write a `for` loop that prints the name of each person and their age, and also sums **all** their ages and assigns it to the variable `combined_ages`."
   ]
  },
  {
   "cell_type": "code",
   "execution_count": 10,
   "metadata": {
    "ExecuteTime": {
     "end_time": "2023-09-12T20:35:54.151465700Z",
     "start_time": "2023-09-12T20:35:54.144043500Z"
    },
    "deletable": false,
    "editable": false,
    "nbgrader": {
     "cell_type": "code",
     "checksum": "8d8dfbe72068d4c60a34a5115b5c047f",
     "grade": false,
     "grade_id": "cell-cb911424ca55171d",
     "locked": true,
     "schema_version": 3,
     "solution": false,
     "task": false
    }
   },
   "outputs": [],
   "source": [
    "people = {\n",
    "    \"John\": 32,\n",
    "    \"Rob\": 23,\n",
    "    \"Jane\": 27,\n",
    "    \"Sally\": 29,\n",
    "    \"Bob\": 35,\n",
    "}\n",
    "\n",
    "combined_ages = 0"
   ]
  },
  {
   "cell_type": "code",
   "execution_count": 11,
   "metadata": {
    "deletable": false,
    "nbgrader": {
     "cell_type": "code",
     "checksum": "9e42a5dc40f6f233dfb0964c77383fd1",
     "grade": false,
     "grade_id": "cell-bd0faea309531482",
     "locked": false,
     "schema_version": 3,
     "solution": true,
     "task": false
    }
   },
   "outputs": [
    {
     "name": "stdout",
     "output_type": "stream",
     "text": [
      "John is 32 years old.\n",
      "Rob is 23 years old.\n",
      "Jane is 27 years old.\n",
      "Sally is 29 years old.\n",
      "Bob is 35 years old.\n",
      "The combined ages of all people is 146.\n"
     ]
    }
   ],
   "source": [
    "# Your code here\n",
    "\n",
    "for name, age in people.items():\n",
    "    print(f\"{name} is {age} years old.\")\n",
    "    combined_ages += age\n",
    "\n",
    "print(f\"The combined ages of all people is {combined_ages}.\")"
   ]
  },
  {
   "cell_type": "code",
   "execution_count": 12,
   "metadata": {
    "ExecuteTime": {
     "end_time": "2023-09-12T20:35:54.155019500Z",
     "start_time": "2023-09-12T20:35:54.148308200Z"
    },
    "deletable": false,
    "editable": false,
    "nbgrader": {
     "cell_type": "code",
     "checksum": "bc90d290eda43a433b21f24dd0204c4f",
     "grade": true,
     "grade_id": "cell-c9225f7f44ebedb1",
     "locked": true,
     "points": 1,
     "schema_version": 3,
     "solution": false,
     "task": false
    }
   },
   "outputs": [],
   "source": [
    "# Question 4 Grading Checks\n",
    "\n",
    "assert combined_ages > 0"
   ]
  },
  {
   "cell_type": "markdown",
   "metadata": {
    "deletable": false,
    "editable": false,
    "nbgrader": {
     "cell_type": "markdown",
     "checksum": "926d575334f881411aabc86f69404ba7",
     "grade": false,
     "grade_id": "cell-751a6ba72b3b8f8a",
     "locked": true,
     "schema_version": 3,
     "solution": false,
     "task": false
    }
   },
   "source": [
    "#### Question 5\n",
    "\n",
    "Using the given `dict` of `star_wars_movies`, write a `for` loop that prints the name of each movie and adds the name of each movie to the `movies` `list`."
   ]
  },
  {
   "cell_type": "code",
   "execution_count": 13,
   "metadata": {
    "ExecuteTime": {
     "end_time": "2023-09-12T20:35:54.156533600Z",
     "start_time": "2023-09-12T20:35:54.154472600Z"
    },
    "deletable": false,
    "editable": false,
    "nbgrader": {
     "cell_type": "code",
     "checksum": "98774afd13172a532cbe2be40663a543",
     "grade": false,
     "grade_id": "cell-1ec749c5e157601e",
     "locked": true,
     "schema_version": 3,
     "solution": false,
     "task": false
    }
   },
   "outputs": [],
   "source": [
    "star_wars_movies = {\n",
    "    1: \"A New Hope\",\n",
    "    2: \"The Empire Strikes Back\",\n",
    "    3: \"Return of the Jedi\",\n",
    "    4: \"The Phantom Menace\",\n",
    "    5: \"Attack of the Clones\",\n",
    "    6: \"Revenge of the Sith\",\n",
    "    7: \"The Force Awakens\",\n",
    "    8: \"The Last Jedi\",\n",
    "    9: \"The Rise of Skywalker\",\n",
    "}\n",
    "movies = []"
   ]
  },
  {
   "cell_type": "code",
   "execution_count": 14,
   "metadata": {
    "deletable": false,
    "nbgrader": {
     "cell_type": "code",
     "checksum": "851a84bde6c65af45d8378d58f221090",
     "grade": false,
     "grade_id": "cell-6de077036ec83470",
     "locked": false,
     "schema_version": 3,
     "solution": true,
     "task": false
    }
   },
   "outputs": [
    {
     "name": "stdout",
     "output_type": "stream",
     "text": [
      "A New Hope\n",
      "The Empire Strikes Back\n",
      "Return of the Jedi\n",
      "The Phantom Menace\n",
      "Attack of the Clones\n",
      "Revenge of the Sith\n",
      "The Force Awakens\n",
      "The Last Jedi\n",
      "The Rise of Skywalker\n"
     ]
    }
   ],
   "source": [
    "# Your code here\n",
    "\n",
    "for episode, title in star_wars_movies.items():\n",
    "    print(title)\n",
    "    movies.append(title)"
   ]
  },
  {
   "cell_type": "code",
   "execution_count": 15,
   "metadata": {
    "ExecuteTime": {
     "end_time": "2023-09-12T20:35:54.160615300Z",
     "start_time": "2023-09-12T20:35:54.157531500Z"
    },
    "deletable": false,
    "editable": false,
    "nbgrader": {
     "cell_type": "code",
     "checksum": "7198947c9c21584985d361391eb87cd2",
     "grade": true,
     "grade_id": "cell-dbfdf9efeefb01cb",
     "locked": true,
     "points": 1,
     "schema_version": 3,
     "solution": false,
     "task": false
    }
   },
   "outputs": [],
   "source": [
    "# Question 5 Grading Checks\n",
    "\n",
    "assert len(movies) == 9, 'Did you include all the movie titles in the list?'\n",
    "assert isinstance(movies[-1], str), 'Did you add just the movie title to the list?'\n"
   ]
  },
  {
   "cell_type": "markdown",
   "metadata": {
    "deletable": false,
    "editable": false,
    "nbgrader": {
     "cell_type": "markdown",
     "checksum": "120d634c3a07306972cf9d2296e3c489",
     "grade": false,
     "grade_id": "cell-d5ebd91477ebb185",
     "locked": true,
     "schema_version": 3,
     "solution": false,
     "task": false
    }
   },
   "source": [
    "#### Question 6\n",
    "\n",
    "Using the given `dict` of `popular_coding_languages`, write a `for` loop that adds the name of the **3 highest rated** languages to the `top_languages` `list` and prints the `top_languages` `list`.\n"
   ]
  },
  {
   "cell_type": "code",
   "execution_count": 16,
   "metadata": {
    "ExecuteTime": {
     "end_time": "2023-09-12T20:35:54.165581400Z",
     "start_time": "2023-09-12T20:35:54.163127700Z"
    },
    "deletable": false,
    "editable": false,
    "nbgrader": {
     "cell_type": "code",
     "checksum": "c26d39566d4dc2c766551d39ffbf4ef2",
     "grade": false,
     "grade_id": "cell-e9b61035a11e2ab3",
     "locked": true,
     "schema_version": 3,
     "solution": false,
     "task": false
    }
   },
   "outputs": [],
   "source": [
    "popular_coding_languages = {\n",
    "    \"Python\": 8.2,\n",
    "    \"JavaScript\": 8.0,\n",
    "    \"Java\": 5.2,\n",
    "    \"C#\": 4.7,\n",
    "    \"PHP\": 2.7,\n",
    "    \"C++\": 2.0,\n",
    "    \"C\": 1.7,\n",
    "    \"Shell\": 1.4,\n",
    "    \"Go\": 1.4,\n",
    "    \"TypeScript\": 1.3,\n",
    "}\n",
    "top_languages = []"
   ]
  },
  {
   "cell_type": "code",
   "execution_count": 17,
   "metadata": {
    "deletable": false,
    "nbgrader": {
     "cell_type": "code",
     "checksum": "aad528e6eb32acac40361cd436488fbe",
     "grade": false,
     "grade_id": "cell-fbe3830531f32cd1",
     "locked": false,
     "schema_version": 3,
     "solution": true,
     "task": false
    }
   },
   "outputs": [
    {
     "name": "stdout",
     "output_type": "stream",
     "text": [
      "Python\n",
      "JavaScript\n",
      "Java\n",
      "The top 3 programming languages are Python, JavaScript, Java.\n"
     ]
    }
   ],
   "source": [
    "# Your code here\n",
    "for language, rating in sorted(popular_coding_languages.items(), key=lambda x: x[1], reverse=True)[:3]:\n",
    "    top_languages.append(language)\n",
    "    print(language)\n",
    "\n",
    "print(f\"The top 3 programming languages are {', '.join(top_languages)}.\")"
   ]
  },
  {
   "cell_type": "code",
   "execution_count": 18,
   "metadata": {
    "ExecuteTime": {
     "end_time": "2023-09-12T20:35:54.168949600Z",
     "start_time": "2023-09-12T20:35:54.166580600Z"
    },
    "deletable": false,
    "editable": false,
    "nbgrader": {
     "cell_type": "code",
     "checksum": "1b17c69d53f3f42322fdbc1557bb3eb7",
     "grade": true,
     "grade_id": "cell-70eb8bb525c91ac6",
     "locked": true,
     "points": 1,
     "schema_version": 3,
     "solution": false,
     "task": false
    }
   },
   "outputs": [],
   "source": [
    "# Question 6 Grading Checks\n",
    "\n",
    "assert len(top_languages) == 3\n"
   ]
  },
  {
   "cell_type": "code",
   "execution_count": null,
   "metadata": {},
   "outputs": [],
   "source": []
  }
 ],
 "metadata": {
  "kernelspec": {
   "display_name": "Python 3",
   "language": "python",
   "name": "python3"
  },
  "language_info": {
   "codemirror_mode": {
    "name": "ipython",
    "version": 3
   },
   "file_extension": ".py",
   "mimetype": "text/x-python",
   "name": "python",
   "nbconvert_exporter": "python",
   "pygments_lexer": "ipython3",
   "version": "3.7.6"
  }
 },
 "nbformat": 4,
 "nbformat_minor": 1
}
