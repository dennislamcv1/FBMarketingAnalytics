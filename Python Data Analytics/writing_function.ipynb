{
 "cells": [
  {
   "cell_type": "markdown",
   "metadata": {
    "deletable": false,
    "editable": false,
    "nbgrader": {
     "cell_type": "markdown",
     "checksum": "a2a3513309a0350442c79dc17fecbb0c",
     "grade": false,
     "grade_id": "cell-96d56e92b41b766c",
     "locked": true,
     "schema_version": 3,
     "solution": false,
     "task": false
    }
   },
   "source": [
    "# Activity: Writing Functions\n",
    "\n",
    "## Introduction\n",
    "\n",
    "In this activity, you will practice writing functions. You will be asked to write functions that:\n",
    "- Take in parameters\n",
    "- Return values\n",
    "- Print values\n",
    "- Use loops\n",
    "- Use conditional statements\n",
    "- Use lists\n",
    "- Use dictionaries\n",
    "- Use tuples\n",
    "\n",
    "All of the above topics have been covered in the previous lessons. If you are having trouble with any of these topics, please review the previous lessons before attempting this activity."
   ]
  },
  {
   "cell_type": "markdown",
   "metadata": {
    "deletable": false,
    "editable": false,
    "nbgrader": {
     "cell_type": "markdown",
     "checksum": "6d8e2d5d73293454ffab0ca32e22a726",
     "grade": false,
     "grade_id": "cell-055af4af86f2f9ef",
     "locked": true,
     "schema_version": 3,
     "solution": false,
     "task": false
    }
   },
   "source": [
    "#### Question 1\n",
    "\n",
    "Write a function called `greeting()` that should take in **one string parameter** and **prints** 'Hello there, `NAME`' where `NAME` is the parameter given.\n",
    "\n",
    "\n",
    "Example _printed_ output of `greeting('Victor')`:\n",
    "```python\n",
    "'Hello there, Victor'\n",
    "```"
   ]
  },
  {
   "cell_type": "code",
   "execution_count": 1,
   "metadata": {
    "ExecuteTime": {
     "end_time": "2023-09-12T20:42:06.474755900Z",
     "start_time": "2023-09-12T20:42:06.424134900Z"
    },
    "deletable": false,
    "nbgrader": {
     "cell_type": "code",
     "checksum": "388b3b65235ab085eb75e0385964c34e",
     "grade": false,
     "grade_id": "cell-5ceeb05c28c416f8",
     "locked": false,
     "schema_version": 3,
     "solution": true,
     "task": false
    }
   },
   "outputs": [],
   "source": [
    "# Complete the implementation of this function\n",
    "def greeting(name):\n",
    "    print(f'Hello there, {name}')\n",
    "\n"
   ]
  },
  {
   "cell_type": "code",
   "execution_count": 2,
   "metadata": {
    "ExecuteTime": {
     "end_time": "2023-09-12T20:42:06.475756600Z",
     "start_time": "2023-09-12T20:42:06.425140400Z"
    },
    "deletable": false,
    "editable": false,
    "nbgrader": {
     "cell_type": "code",
     "checksum": "35e5ba8f5f2153cd048b5e32a77749a0",
     "grade": true,
     "grade_id": "cell-aaf4f64480fa88e8",
     "locked": true,
     "points": 1,
     "schema_version": 3,
     "solution": false,
     "task": false
    }
   },
   "outputs": [
    {
     "name": "stdout",
     "output_type": "stream",
     "text": [
      "Hello there, Victor\n"
     ]
    }
   ],
   "source": [
    "# Question 1 Grading Checks\n",
    "\n",
    "assert greeting, \"Make sure you name your function 'greeting'.\"\n",
    "assert greeting('Victor') is None, \"Make sure your function doesn't return anything.\""
   ]
  },
  {
   "cell_type": "markdown",
   "metadata": {
    "deletable": false,
    "editable": false,
    "nbgrader": {
     "cell_type": "markdown",
     "checksum": "63bba8a57c019ebe3998c07948943d86",
     "grade": false,
     "grade_id": "cell-27375144b81cd657",
     "locked": true,
     "schema_version": 3,
     "solution": false,
     "task": false
    }
   },
   "source": [
    "#### Question 2\n",
    "\n",
    "Write a function called `square()` that takes in **one number parameter** and **returns** the squared value of that number.\n",
    "\n",
    "Example _returned_ output of `square(2)`:\n",
    "```python\n",
    "4\n",
    "```"
   ]
  },
  {
   "cell_type": "code",
   "execution_count": 3,
   "metadata": {
    "ExecuteTime": {
     "end_time": "2023-09-12T20:42:06.475756600Z",
     "start_time": "2023-09-12T20:42:06.430015500Z"
    },
    "deletable": false,
    "nbgrader": {
     "cell_type": "code",
     "checksum": "6584d9f843bc542a5bc7df5cbc8a99be",
     "grade": false,
     "grade_id": "cell-100ee93aeb9451fd",
     "locked": false,
     "schema_version": 3,
     "solution": true,
     "task": false
    }
   },
   "outputs": [],
   "source": [
    "# Complete the implementation of this function\n",
    "def square(num):\n",
    "    return num ** 2\n",
    "\n"
   ]
  },
  {
   "cell_type": "code",
   "execution_count": 4,
   "metadata": {
    "ExecuteTime": {
     "end_time": "2023-09-12T20:42:06.477755600Z",
     "start_time": "2023-09-12T20:42:06.433270Z"
    },
    "deletable": false,
    "editable": false,
    "nbgrader": {
     "cell_type": "code",
     "checksum": "92009c7e87f5c49e7128dfc6663b9ac3",
     "grade": true,
     "grade_id": "cell-344ea701437acbba",
     "locked": true,
     "points": 1,
     "schema_version": 3,
     "solution": false,
     "task": false
    }
   },
   "outputs": [],
   "source": [
    "# Question 2 Grading Checks\n",
    "\n",
    "assert square, \"Make sure you name your function 'square'.\"\n",
    "assert square(2) == 4, \"Make sure your function returns the correct value.\""
   ]
  },
  {
   "cell_type": "markdown",
   "metadata": {
    "deletable": false,
    "editable": false,
    "nbgrader": {
     "cell_type": "markdown",
     "checksum": "2f3c6c389f3ef4153dfcb0569a69964b",
     "grade": false,
     "grade_id": "cell-f9ce3e87b56929dc",
     "locked": true,
     "schema_version": 3,
     "solution": false,
     "task": false
    }
   },
   "source": [
    "#### Question 3\n",
    "\n",
    "Complete the implementation of the function `print_multiple()` that takes in **two parameters**, `string` and `num`, and **prints** `string` `num` times.\n",
    "\n",
    "Example _printed_ output of `print_multiple('hello', 3)`:\n",
    "\n",
    "```python\n",
    "'hello'\n",
    "'hello'\n",
    "'hello'\n",
    "```\n",
    "\n",
    "\n"
   ]
  },
  {
   "cell_type": "code",
   "execution_count": 5,
   "metadata": {
    "ExecuteTime": {
     "end_time": "2023-09-12T20:42:06.477755600Z",
     "start_time": "2023-09-12T20:42:06.437578200Z"
    },
    "deletable": false,
    "nbgrader": {
     "cell_type": "code",
     "checksum": "d86a7be5f190087f58c509c83debbd8f",
     "grade": false,
     "grade_id": "cell-4efcbaf7f6031e0b",
     "locked": false,
     "schema_version": 3,
     "solution": true,
     "task": false
    }
   },
   "outputs": [],
   "source": [
    "# Complete the implementation of this function\n",
    "def print_multiple(string, num):\n",
    "    for i in range(num):\n",
    "        print(string)\n",
    "\n"
   ]
  },
  {
   "cell_type": "code",
   "execution_count": 6,
   "metadata": {
    "ExecuteTime": {
     "end_time": "2023-09-12T20:42:06.485267400Z",
     "start_time": "2023-09-12T20:42:06.440566800Z"
    },
    "deletable": false,
    "editable": false,
    "nbgrader": {
     "cell_type": "code",
     "checksum": "e30f5ea2b6788bf20a32512d8f4e54c9",
     "grade": true,
     "grade_id": "cell-c2653be4db4e5954",
     "locked": true,
     "points": 1,
     "schema_version": 3,
     "solution": false,
     "task": false
    }
   },
   "outputs": [
    {
     "name": "stdout",
     "output_type": "stream",
     "text": [
      "hello\n",
      "hello\n",
      "hello\n"
     ]
    }
   ],
   "source": [
    "# Question 3 Grading Checks\n",
    "\n",
    "assert print_multiple, \"Make sure you name your function 'print_multiple'.\"\n",
    "assert print_multiple('hello', 3) is None, \"Make sure your function doesn't return anything.\""
   ]
  },
  {
   "cell_type": "markdown",
   "metadata": {
    "deletable": false,
    "editable": false,
    "nbgrader": {
     "cell_type": "markdown",
     "checksum": "b7753248efa2550e5d3d2fd7222f2a88",
     "grade": false,
     "grade_id": "cell-a705eac5b628e987",
     "locked": true,
     "schema_version": 3,
     "solution": false,
     "task": false
    }
   },
   "source": [
    "#### Question 4\n",
    "\n",
    "Write a function called `area_perimeter` that takes in **two number parameters**, `length` and `width`, and **returns a tuple** containing both the _area_ and _perimeter_ of a rectangle with the given `length` and `width`.\n",
    "\n",
    "Example _returned_ output of `area_perimeter(2, 3)`:\n",
    "```python\n",
    "(6, 10)\n",
    "```"
   ]
  },
  {
   "cell_type": "code",
   "execution_count": 7,
   "metadata": {
    "ExecuteTime": {
     "end_time": "2023-09-12T20:42:06.524431200Z",
     "start_time": "2023-09-12T20:42:06.449812800Z"
    },
    "deletable": false,
    "nbgrader": {
     "cell_type": "code",
     "checksum": "08b88fd5740c5173faf793e7bb2201b7",
     "grade": false,
     "grade_id": "cell-2216f0a1d7febac1",
     "locked": false,
     "schema_version": 3,
     "solution": true,
     "task": false
    }
   },
   "outputs": [],
   "source": [
    "# Complete the implementation of this function\n",
    "def area_perimeter(length, width):\n",
    "    area = length * width\n",
    "    perimeter = 2 * (length + width)\n",
    "    return (area, perimeter)\n"
   ]
  },
  {
   "cell_type": "code",
   "execution_count": 8,
   "metadata": {
    "ExecuteTime": {
     "end_time": "2023-09-12T20:42:06.525433800Z",
     "start_time": "2023-09-12T20:42:06.452558200Z"
    },
    "deletable": false,
    "editable": false,
    "nbgrader": {
     "cell_type": "code",
     "checksum": "c45802dfe96aab8e0bb435dc48a7967f",
     "grade": true,
     "grade_id": "cell-01e133b5fc8bd5e5",
     "locked": true,
     "points": 1,
     "schema_version": 3,
     "solution": false,
     "task": false
    }
   },
   "outputs": [],
   "source": [
    "# Question 4 Grading Checks\n",
    "\n",
    "assert area_perimeter, \"Make sure you name your function 'area_perimeter'.\"\n",
    "assert area_perimeter(2, 3) == (6, 10), \"Make sure your function returns the correct tuple.\"\n"
   ]
  },
  {
   "cell_type": "markdown",
   "metadata": {
    "deletable": false,
    "editable": false,
    "nbgrader": {
     "cell_type": "markdown",
     "checksum": "d3661199dd6dab72e245d38907ba26bd",
     "grade": false,
     "grade_id": "cell-3471a7554532df7c",
     "locked": true,
     "schema_version": 3,
     "solution": false,
     "task": false
    }
   },
   "source": [
    "#### Question 5\n",
    "\n",
    "Write a function called `dict_to_tuple_list()` that takes in **one dictionary parameter** where keys are the names of bond villans and the values are the movie they appeared. (See the defined `bond_villans` in the next cell).\n",
    "\n",
    "The function then **returns** a _list of tuples_ where each `tuple` contains the name of the villain and the movie they appeared in.\n",
    "\n",
    "Example of function:\n",
    "```python\n",
    "test_dictionary = {\n",
    "    'Dr. No': 'Dr. No',\n",
    "    'Mr. Big': 'Live and Let Die',\n",
    "}\n",
    "\n",
    "dict_to_tuple_list(test_dictionary)\n",
    "```\n",
    "\n",
    "_returned_ output:\n",
    "```python\n",
    "[\n",
    "    ('Dr. No', 'Dr. No'),\n",
    "    ('Mr. Big', 'Live and Let Die'),\n",
    "]\n",
    "```"
   ]
  },
  {
   "cell_type": "code",
   "execution_count": 9,
   "metadata": {
    "ExecuteTime": {
     "end_time": "2023-09-12T20:42:06.525433800Z",
     "start_time": "2023-09-12T20:42:06.456899500Z"
    },
    "deletable": false,
    "editable": false,
    "nbgrader": {
     "cell_type": "code",
     "checksum": "fd96bffe1a6d64752d64ca5494d4a6c8",
     "grade": false,
     "grade_id": "cell-9954f1be8181ad68",
     "locked": true,
     "schema_version": 3,
     "solution": false,
     "task": false
    }
   },
   "outputs": [],
   "source": [
    "bond_villains = {\n",
    "    'Dr. No': 'Dr. No',\n",
    "    'Auric Goldfinger': 'Goldfinger',\n",
    "    'Blofeld': 'You Only Live Twice',\n",
    "    'Mr. Big': 'Live and Let Die'\n",
    "}"
   ]
  },
  {
   "cell_type": "code",
   "execution_count": 10,
   "metadata": {
    "deletable": false,
    "nbgrader": {
     "cell_type": "code",
     "checksum": "6b2e3a13f0625a89adceb58efd669ba8",
     "grade": false,
     "grade_id": "cell-1cc9f0a1f37968e0",
     "locked": false,
     "schema_version": 3,
     "solution": true,
     "task": false
    }
   },
   "outputs": [],
   "source": [
    "# Complete the implementation of this function\n",
    "def dict_to_tuple_list(d):\n",
    "    return [(k, v) for k, v in d.items()]\n",
    "\n"
   ]
  },
  {
   "cell_type": "code",
   "execution_count": 11,
   "metadata": {
    "ExecuteTime": {
     "end_time": "2023-09-12T20:42:06.533942800Z",
     "start_time": "2023-09-12T20:42:06.459684200Z"
    },
    "deletable": false,
    "editable": false,
    "nbgrader": {
     "cell_type": "code",
     "checksum": "adf32ef3337fb92e1cc3bbae1cc78279",
     "grade": true,
     "grade_id": "cell-24253ee970555d9b",
     "locked": true,
     "points": 1,
     "schema_version": 3,
     "solution": false,
     "task": false
    }
   },
   "outputs": [],
   "source": [
    "# Question 5 Grading Checks\n",
    "\n",
    "assert dict_to_tuple_list, \"Make sure you name your function 'dict_to_tuple_list'.\""
   ]
  },
  {
   "cell_type": "markdown",
   "metadata": {
    "deletable": false,
    "editable": false,
    "nbgrader": {
     "cell_type": "markdown",
     "checksum": "f87572e617116465577fd33c35d837b8",
     "grade": false,
     "grade_id": "cell-98ca147db823727c",
     "locked": true,
     "schema_version": 3,
     "solution": false,
     "task": false
    }
   },
   "source": [
    "#### Question 6\n",
    "\n",
    "Write a function called `tuple_list_to_dict` that takes in **one list parameter** that's a list of tuples where each tuple contains the name of the villain and the movie they appeared in. (See the defined `bond_villans_list` in the next cell).\n",
    "\n",
    "The function then **returns** a _dictionary_ where the keys are the names of the villains and the values are the movies they appeared in.\n",
    "\n",
    "Example of function:\n",
    "```python\n",
    "test_list = [\n",
    "    ('Dr. No', 'Dr. No'),\n",
    "    ('Mr. Big', 'Live and Let Die')\n",
    "]\n",
    "\n",
    "tuple_list_to_dict(test_dictionary)\n",
    "```\n",
    "\n",
    "_returned_ output:\n",
    "```python\n",
    "{\n",
    "    'Dr. No': 'Dr. No',\n",
    "    'Mr. Big': 'Live and Let Die'\n",
    "}\n",
    "```\n"
   ]
  },
  {
   "cell_type": "code",
   "execution_count": 12,
   "metadata": {
    "ExecuteTime": {
     "end_time": "2023-09-12T20:42:06.533942800Z",
     "start_time": "2023-09-12T20:42:06.463943100Z"
    },
    "deletable": false,
    "editable": false,
    "nbgrader": {
     "cell_type": "code",
     "checksum": "c1c822f81c66af9c6edbc3228012d142",
     "grade": false,
     "grade_id": "cell-d613b8e047d2b056",
     "locked": true,
     "schema_version": 3,
     "solution": false,
     "task": false
    }
   },
   "outputs": [],
   "source": [
    "bond_villains_list = [\n",
    "    ('Dr. No', 'Dr. No'),\n",
    "    ('Auric Goldfinger', 'Goldfinger'),\n",
    "    ('Blofeld', 'You Only Live Twice'),\n",
    "    ('Mr. Big', 'Live and Let Die')\n",
    "]"
   ]
  },
  {
   "cell_type": "code",
   "execution_count": 13,
   "metadata": {
    "deletable": false,
    "nbgrader": {
     "cell_type": "code",
     "checksum": "f1fb1117e894247bbea0df2df85e74f7",
     "grade": false,
     "grade_id": "cell-d97414301dd87b76",
     "locked": false,
     "schema_version": 3,
     "solution": true,
     "task": false
    }
   },
   "outputs": [],
   "source": [
    "# Complete the implementation of this function\n",
    "def tuple_list_to_dict(l):\n",
    "    return {k: v for k, v in l}\n"
   ]
  },
  {
   "cell_type": "code",
   "execution_count": 15,
   "metadata": {},
   "outputs": [
    {
     "data": {
      "text/plain": [
       "{'Dr. No': 'Dr. No',\n",
       " 'Auric Goldfinger': 'Goldfinger',\n",
       " 'Blofeld': 'You Only Live Twice',\n",
       " 'Mr. Big': 'Live and Let Die'}"
      ]
     },
     "execution_count": 15,
     "metadata": {},
     "output_type": "execute_result"
    }
   ],
   "source": [
    "tuple_list_to_dict(bond_villains_list)"
   ]
  },
  {
   "cell_type": "code",
   "execution_count": 14,
   "metadata": {
    "ExecuteTime": {
     "end_time": "2023-09-12T20:42:06.534945600Z",
     "start_time": "2023-09-12T20:42:06.467229900Z"
    },
    "deletable": false,
    "editable": false,
    "nbgrader": {
     "cell_type": "code",
     "checksum": "adaa1e2012e2ea08ff4e7c882a733ea0",
     "grade": true,
     "grade_id": "cell-c53b57b32208d368",
     "locked": true,
     "points": 1,
     "schema_version": 3,
     "solution": false,
     "task": false
    }
   },
   "outputs": [],
   "source": [
    "# Question 6 Grading Checks\n",
    "\n",
    "assert tuple_list_to_dict, \"Make sure you name your function 'tuple_list_to_dict'.\""
   ]
  },
  {
   "cell_type": "code",
   "execution_count": null,
   "metadata": {},
   "outputs": [],
   "source": []
  }
 ],
 "metadata": {
  "kernelspec": {
   "display_name": "Python 3",
   "language": "python",
   "name": "python3"
  },
  "language_info": {
   "codemirror_mode": {
    "name": "ipython",
    "version": 3
   },
   "file_extension": ".py",
   "mimetype": "text/x-python",
   "name": "python",
   "nbconvert_exporter": "python",
   "pygments_lexer": "ipython3",
   "version": "3.7.6"
  }
 },
 "nbformat": 4,
 "nbformat_minor": 1
}
