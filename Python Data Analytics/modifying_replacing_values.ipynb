{
 "cells": [
  {
   "cell_type": "markdown",
   "metadata": {
    "deletable": false,
    "editable": false,
    "nbgrader": {
     "cell_type": "markdown",
     "checksum": "fdb588a2a764ac8908f5b40701dd8652",
     "grade": false,
     "grade_id": "cell-b5d99538578de87c",
     "locked": true,
     "schema_version": 3,
     "solution": false,
     "task": false
    }
   },
   "source": [
    "# Activity: Modifying & Replacing Values\n",
    "\n",
    "## Introduction\n",
    "\n",
    "In this activity you will practice modifying and replacing values in a DataFrame using the various method that Pandas has to offer.\n",
    "This activity will cover the following, not necessarily in this order:\n",
    "- Checking for anomalous values\n",
    "- Using `.isnumeric()`\n",
    "- Using `min()` and `max()` methods\n",
    "- Using `.loc[]` to replace values\n",
    "- Using `isnull()` and `notnull()` methods\n"
   ]
  },
  {
   "cell_type": "code",
   "execution_count": 1,
   "metadata": {
    "deletable": false,
    "editable": false,
    "nbgrader": {
     "cell_type": "code",
     "checksum": "ea06b8e62d14f9ea48910c2f74d68f07",
     "grade": false,
     "grade_id": "cell-5723eda3dce0acac",
     "locked": true,
     "schema_version": 3,
     "solution": false,
     "task": false
    }
   },
   "outputs": [],
   "source": [
    "import pandas as pd"
   ]
  },
  {
   "cell_type": "markdown",
   "metadata": {
    "deletable": false,
    "editable": false,
    "nbgrader": {
     "cell_type": "markdown",
     "checksum": "67943e5e23c4846bbdd60671b3abd5f3",
     "grade": false,
     "grade_id": "cell-30f6c462e1f12dd5",
     "locked": true,
     "schema_version": 3,
     "solution": false,
     "task": false
    }
   },
   "source": [
    "#### Question 1\n",
    "\n",
    "Create a `DataFrame` called `df` from the given CSV file `employee_data.csv`, and then create a mask called `valid_names` that checks the `Name` column for any non-numeric values.\n"
   ]
  },
  {
   "cell_type": "code",
   "execution_count": 2,
   "metadata": {
    "ExecuteTime": {
     "end_time": "2023-09-20T15:54:04.591541900Z",
     "start_time": "2023-09-20T15:54:04.560932600Z"
    },
    "deletable": false,
    "nbgrader": {
     "cell_type": "code",
     "checksum": "7266d8aed4fc295c19ce43968ba8114f",
     "grade": false,
     "grade_id": "cell-54818ff0f2ad6684",
     "locked": false,
     "schema_version": 3,
     "solution": true,
     "task": false
    }
   },
   "outputs": [
    {
     "data": {
      "text/html": [
       "<div>\n",
       "<style scoped>\n",
       "    .dataframe tbody tr th:only-of-type {\n",
       "        vertical-align: middle;\n",
       "    }\n",
       "\n",
       "    .dataframe tbody tr th {\n",
       "        vertical-align: top;\n",
       "    }\n",
       "\n",
       "    .dataframe thead th {\n",
       "        text-align: right;\n",
       "    }\n",
       "</style>\n",
       "<table border=\"1\" class=\"dataframe\">\n",
       "  <thead>\n",
       "    <tr style=\"text-align: right;\">\n",
       "      <th></th>\n",
       "      <th>Name</th>\n",
       "      <th>Years of Employment</th>\n",
       "      <th>Weeks of Vacation</th>\n",
       "      <th>Position</th>\n",
       "    </tr>\n",
       "  </thead>\n",
       "  <tbody>\n",
       "    <tr>\n",
       "      <th>0</th>\n",
       "      <td>Jennifer Jackson</td>\n",
       "      <td>9</td>\n",
       "      <td>4.0</td>\n",
       "      <td>Engineer</td>\n",
       "    </tr>\n",
       "    <tr>\n",
       "      <th>1</th>\n",
       "      <td>Michael Johnson</td>\n",
       "      <td>9</td>\n",
       "      <td>6.0</td>\n",
       "      <td>Analyst</td>\n",
       "    </tr>\n",
       "    <tr>\n",
       "      <th>2</th>\n",
       "      <td>Robert Lee</td>\n",
       "      <td>13</td>\n",
       "      <td>3.0</td>\n",
       "      <td>Engineer</td>\n",
       "    </tr>\n",
       "    <tr>\n",
       "      <th>3</th>\n",
       "      <td>Linda Jones</td>\n",
       "      <td>3</td>\n",
       "      <td>6.0</td>\n",
       "      <td>Manager</td>\n",
       "    </tr>\n",
       "    <tr>\n",
       "      <th>4</th>\n",
       "      <td>Karen Thomas</td>\n",
       "      <td>14</td>\n",
       "      <td>2.0</td>\n",
       "      <td>Intern</td>\n",
       "    </tr>\n",
       "    <tr>\n",
       "      <th>...</th>\n",
       "      <td>...</td>\n",
       "      <td>...</td>\n",
       "      <td>...</td>\n",
       "      <td>...</td>\n",
       "    </tr>\n",
       "    <tr>\n",
       "      <th>78</th>\n",
       "      <td>1</td>\n",
       "      <td>0</td>\n",
       "      <td>49.0</td>\n",
       "      <td>Unknown</td>\n",
       "    </tr>\n",
       "    <tr>\n",
       "      <th>79</th>\n",
       "      <td>1</td>\n",
       "      <td>0</td>\n",
       "      <td>47.0</td>\n",
       "      <td>Unknown</td>\n",
       "    </tr>\n",
       "    <tr>\n",
       "      <th>80</th>\n",
       "      <td>1</td>\n",
       "      <td>-5</td>\n",
       "      <td>46.0</td>\n",
       "      <td>Unknown</td>\n",
       "    </tr>\n",
       "    <tr>\n",
       "      <th>81</th>\n",
       "      <td>1</td>\n",
       "      <td>-4</td>\n",
       "      <td>52.0</td>\n",
       "      <td>Unknown</td>\n",
       "    </tr>\n",
       "    <tr>\n",
       "      <th>82</th>\n",
       "      <td>1</td>\n",
       "      <td>0</td>\n",
       "      <td>48.0</td>\n",
       "      <td>Unknown</td>\n",
       "    </tr>\n",
       "  </tbody>\n",
       "</table>\n",
       "<p>83 rows × 4 columns</p>\n",
       "</div>"
      ],
      "text/plain": [
       "                Name  Years of Employment  Weeks of Vacation  Position\n",
       "0   Jennifer Jackson                    9                4.0  Engineer\n",
       "1    Michael Johnson                    9                6.0   Analyst\n",
       "2         Robert Lee                   13                3.0  Engineer\n",
       "3        Linda Jones                    3                6.0   Manager\n",
       "4       Karen Thomas                   14                2.0    Intern\n",
       "..               ...                  ...                ...       ...\n",
       "78                 1                    0               49.0   Unknown\n",
       "79                 1                    0               47.0   Unknown\n",
       "80                 1                   -5               46.0   Unknown\n",
       "81                 1                   -4               52.0   Unknown\n",
       "82                 1                    0               48.0   Unknown\n",
       "\n",
       "[83 rows x 4 columns]"
      ]
     },
     "execution_count": 2,
     "metadata": {},
     "output_type": "execute_result"
    }
   ],
   "source": [
    "# Your code here\n",
    "\n",
    "df = pd.read_csv(\"employee_data.csv\")\n",
    "\n",
    "df"
   ]
  },
  {
   "cell_type": "code",
   "execution_count": 3,
   "metadata": {},
   "outputs": [
    {
     "data": {
      "text/plain": [
       "array(['Jennifer Jackson', 'Michael Johnson', 'Robert Lee', 'Linda Jones',\n",
       "       'Karen Thomas', 'Sarah Smith', 'David Moore', 'Emily Taylor',\n",
       "       'Mary Jones', 'Mary Anderson', 'Sarah Harris', 'Michael Wilson',\n",
       "       'John Lee', 'Jennifer Lee', 'Mary Davis', 'David Lee',\n",
       "       'Emily Wilson', 'Susan Jones', 'John Harris', 'Emily Smith',\n",
       "       'James Wilson', 'Karen Taylor', 'Sarah Jackson', 'Linda Taylor',\n",
       "       'Michael Lee', 'Jennifer Johnson', 'Robert Smith',\n",
       "       'Christopher Davis', 'William Jackson', 'Linda Johnson',\n",
       "       'William Johnson', 'James Brown', 'Christopher Harris',\n",
       "       'Jane Davis', 'Emily Miller', 'Sarah Lee', 'James Jackson',\n",
       "       'David Johnson', 'Jane Jackson', 'Michael Jones',\n",
       "       'Jennifer Harris', 'James Moore', 'Linda Jackson',\n",
       "       'Susan Anderson', 'Robert Taylor', 'Jane Jones', 'Emily Brown',\n",
       "       'Robert Wilson', 'Jane Thomas', 'Linda Thomas', 'Emily Jackson',\n",
       "       'Robert Jones', 'Michael Miller', 'Emily Johnson', 'Mary Smith',\n",
       "       'Jane Lee', 'William Lee', 'Karen Miller', 'Michael Taylor',\n",
       "       'David Taylor', 'Mary Wilson', 'John White', 'Emily White',\n",
       "       'Daniel Moore', '1'], dtype=object)"
      ]
     },
     "execution_count": 3,
     "metadata": {},
     "output_type": "execute_result"
    }
   ],
   "source": [
    "df.Name.unique()"
   ]
  },
  {
   "cell_type": "code",
   "execution_count": 4,
   "metadata": {},
   "outputs": [
    {
     "data": {
      "text/plain": [
       "0     False\n",
       "1     False\n",
       "2     False\n",
       "3     False\n",
       "4     False\n",
       "      ...  \n",
       "78     True\n",
       "79     True\n",
       "80     True\n",
       "81     True\n",
       "82     True\n",
       "Name: Name, Length: 83, dtype: bool"
      ]
     },
     "execution_count": 4,
     "metadata": {},
     "output_type": "execute_result"
    }
   ],
   "source": [
    "valid_names = df['Name'].str.isnumeric()\n",
    "valid_names"
   ]
  },
  {
   "cell_type": "code",
   "execution_count": 5,
   "metadata": {
    "ExecuteTime": {
     "end_time": "2023-09-20T15:54:04.592936400Z",
     "start_time": "2023-09-20T15:54:04.566451Z"
    },
    "deletable": false,
    "editable": false,
    "nbgrader": {
     "cell_type": "code",
     "checksum": "54ee816aa5199b76b8ce5f3912611faf",
     "grade": true,
     "grade_id": "cell-d0d7b7275b24537e",
     "locked": true,
     "points": 1,
     "schema_version": 3,
     "solution": false,
     "task": false
    }
   },
   "outputs": [],
   "source": [
    "# Question 1 Grading Checks\n",
    "\n",
    "assert isinstance(df, pd.DataFrame), 'Have you created a DataFrame named df?'\n",
    "assert isinstance(valid_names, pd.Series), 'Have you created a Series named valid_names?'\n"
   ]
  },
  {
   "cell_type": "markdown",
   "metadata": {
    "deletable": false,
    "editable": false,
    "nbgrader": {
     "cell_type": "markdown",
     "checksum": "328f4579d160475df8348e05524f0d00",
     "grade": false,
     "grade_id": "cell-69463c940b5b890c",
     "locked": true,
     "schema_version": 3,
     "solution": false,
     "task": false
    }
   },
   "source": [
    "#### Question 2\n",
    "\n",
    "Using the `valid_names` mask from the previous question, replace all values in the `Name` column that are numeric with the string `Unknown`.\n"
   ]
  },
  {
   "cell_type": "code",
   "execution_count": 6,
   "metadata": {
    "ExecuteTime": {
     "end_time": "2023-09-20T15:54:04.593943400Z",
     "start_time": "2023-09-20T15:54:04.569941800Z"
    },
    "deletable": false,
    "nbgrader": {
     "cell_type": "code",
     "checksum": "336a70737850b5eaaaaaeb969f77d3c0",
     "grade": false,
     "grade_id": "cell-bb2d85cef3a3f405",
     "locked": false,
     "schema_version": 3,
     "solution": true,
     "task": false
    }
   },
   "outputs": [],
   "source": [
    "# Your code here\n",
    "\n",
    "df.loc[~valid_names, 'Name'] = 'Unknown'"
   ]
  },
  {
   "cell_type": "code",
   "execution_count": 7,
   "metadata": {
    "ExecuteTime": {
     "end_time": "2023-09-20T15:54:04.595893700Z",
     "start_time": "2023-09-20T15:54:04.573319500Z"
    },
    "deletable": false,
    "editable": false,
    "nbgrader": {
     "cell_type": "code",
     "checksum": "f634028249c4b76a0f90165d6946e467",
     "grade": true,
     "grade_id": "cell-07a508da359356f2",
     "locked": true,
     "points": 1,
     "schema_version": 3,
     "solution": false,
     "task": false
    }
   },
   "outputs": [],
   "source": [
    "# Question 2 Grading Checks\n",
    "\n",
    "assert isinstance(df, pd.DataFrame), 'Have you created a DataFrame named df?'"
   ]
  },
  {
   "cell_type": "markdown",
   "metadata": {
    "deletable": false,
    "editable": false,
    "nbgrader": {
     "cell_type": "markdown",
     "checksum": "a4ff326c0f198f0c6dd3bf27db5f7634",
     "grade": false,
     "grade_id": "cell-5d000c51abedcfb8",
     "locked": true,
     "schema_version": 3,
     "solution": false,
     "task": false
    }
   },
   "source": [
    "#### Question 3\n",
    "\n",
    "Using the original `DataFrame` `df`, create a mask called `unknown_position` that checks the `Position` column for any values that are equal to the string `Unknown`. Then, replace all such values with `Engineer`.\n"
   ]
  },
  {
   "cell_type": "code",
   "execution_count": 8,
   "metadata": {
    "ExecuteTime": {
     "end_time": "2023-09-20T15:54:04.603293400Z",
     "start_time": "2023-09-20T15:54:04.576827900Z"
    },
    "deletable": false,
    "nbgrader": {
     "cell_type": "code",
     "checksum": "c053e34dd51754e5d8cbb6254c8c62c8",
     "grade": false,
     "grade_id": "cell-dc7dda5da9c72460",
     "locked": false,
     "schema_version": 3,
     "solution": true,
     "task": false
    }
   },
   "outputs": [
    {
     "data": {
      "text/plain": [
       "0     False\n",
       "1     False\n",
       "2     False\n",
       "3     False\n",
       "4     False\n",
       "      ...  \n",
       "78     True\n",
       "79     True\n",
       "80     True\n",
       "81     True\n",
       "82     True\n",
       "Name: Position, Length: 83, dtype: bool"
      ]
     },
     "execution_count": 8,
     "metadata": {},
     "output_type": "execute_result"
    }
   ],
   "source": [
    "# Your code here\n",
    "\n",
    "unknown_position = df['Position'] == 'Unknown'\n",
    "\n",
    "unknown_position"
   ]
  },
  {
   "cell_type": "code",
   "execution_count": 9,
   "metadata": {},
   "outputs": [],
   "source": [
    "df.loc[unknown_position, 'Position'] = 'Engineer'"
   ]
  },
  {
   "cell_type": "code",
   "execution_count": 10,
   "metadata": {
    "ExecuteTime": {
     "end_time": "2023-09-20T15:54:04.626590Z",
     "start_time": "2023-09-20T15:54:04.580137400Z"
    },
    "deletable": false,
    "editable": false,
    "nbgrader": {
     "cell_type": "code",
     "checksum": "2ec8aaff686431f29ad2db07dcffe3bc",
     "grade": true,
     "grade_id": "cell-c3b0c39d96db0b40",
     "locked": true,
     "points": 1,
     "schema_version": 3,
     "solution": false,
     "task": false
    }
   },
   "outputs": [],
   "source": [
    "# Question 3 Grading Checks\n",
    "\n",
    "assert isinstance(unknown_position, pd.Series), 'Have you created a Series named unknown_position?'\n"
   ]
  },
  {
   "cell_type": "markdown",
   "metadata": {
    "deletable": false,
    "editable": false,
    "nbgrader": {
     "cell_type": "markdown",
     "checksum": "822b0dc3c3650ed818f270c56621343a",
     "grade": false,
     "grade_id": "cell-219830db5bb9f8f6",
     "locked": true,
     "schema_version": 3,
     "solution": false,
     "task": false
    }
   },
   "source": [
    "#### Question 4\n",
    "\n",
    "Using the original `DataFrame` `df`, replace all values in the `Years of Employment` column that are negative with their absolute value. Then, check that the minimum value in the `Years of Employment` column is no longer negative and assign it to the variable `min_years_after`.\n"
   ]
  },
  {
   "cell_type": "code",
   "execution_count": 11,
   "metadata": {
    "ExecuteTime": {
     "end_time": "2023-09-20T15:54:04.626590Z",
     "start_time": "2023-09-20T15:54:04.585439Z"
    },
    "deletable": false,
    "nbgrader": {
     "cell_type": "code",
     "checksum": "201a46d3de2e9f851961bfef8c643ad8",
     "grade": false,
     "grade_id": "cell-2aaf3c2d0be2429f",
     "locked": false,
     "schema_version": 3,
     "solution": true,
     "task": false
    }
   },
   "outputs": [
    {
     "data": {
      "text/plain": [
       " 1     7\n",
       " 15    7\n",
       " 11    7\n",
       " 8     7\n",
       " 16    6\n",
       " 14    5\n",
       " 9     5\n",
       " 6     4\n",
       " 18    4\n",
       " 0     3\n",
       " 19    3\n",
       " 17    3\n",
       " 13    3\n",
       " 2     3\n",
       " 3     2\n",
       "-5     2\n",
       " 10    2\n",
       " 20    2\n",
       " 5     2\n",
       " 4     1\n",
       " 12    1\n",
       " 7     1\n",
       "-3     1\n",
       "-4     1\n",
       "-1     1\n",
       "Name: Years of Employment, dtype: int64"
      ]
     },
     "execution_count": 11,
     "metadata": {},
     "output_type": "execute_result"
    }
   ],
   "source": [
    "# Your code here\n",
    "df[\"Years of Employment\"].value_counts()"
   ]
  },
  {
   "cell_type": "code",
   "execution_count": 12,
   "metadata": {},
   "outputs": [],
   "source": [
    "df['Years of Employment'] = df['Years of Employment'].abs()"
   ]
  },
  {
   "cell_type": "code",
   "execution_count": 13,
   "metadata": {},
   "outputs": [
    {
     "data": {
      "text/plain": [
       "0"
      ]
     },
     "execution_count": 13,
     "metadata": {},
     "output_type": "execute_result"
    }
   ],
   "source": [
    "min_years_after = df['Years of Employment'].min()\n",
    "min_years_after"
   ]
  },
  {
   "cell_type": "code",
   "execution_count": 14,
   "metadata": {
    "ExecuteTime": {
     "end_time": "2023-09-20T15:54:04.626590Z",
     "start_time": "2023-09-20T15:54:04.587947500Z"
    },
    "deletable": false,
    "editable": false,
    "nbgrader": {
     "cell_type": "code",
     "checksum": "90094d4c1543da423eb1a09f6bfe481b",
     "grade": true,
     "grade_id": "cell-5c57f0ca5895ddba",
     "locked": true,
     "points": 1,
     "schema_version": 3,
     "solution": false,
     "task": false
    }
   },
   "outputs": [],
   "source": [
    "# Question 4 Grading Checks\n",
    "\n",
    "assert isinstance(df, pd.DataFrame), 'Have you created a DataFrame named df?'\n",
    "\n"
   ]
  },
  {
   "cell_type": "markdown",
   "metadata": {
    "deletable": false,
    "editable": false,
    "nbgrader": {
     "cell_type": "markdown",
     "checksum": "7c46f13e885e052d34abef4e15b264a4",
     "grade": false,
     "grade_id": "cell-0880d7d927881d24",
     "locked": true,
     "schema_version": 3,
     "solution": false,
     "task": false
    }
   },
   "source": [
    "#### Question 5\n",
    "\n",
    "Using the original `DataFrame` `df`, create a mask called `invalid_vacation` that checks the `Weeks of Vacation` column for any values that are null or missing. Then, use that mask to assign the value 0 to them.\n"
   ]
  },
  {
   "cell_type": "code",
   "execution_count": 15,
   "metadata": {
    "ExecuteTime": {
     "end_time": "2023-09-20T15:54:04.627590500Z",
     "start_time": "2023-09-20T15:54:04.591541900Z"
    },
    "deletable": false,
    "nbgrader": {
     "cell_type": "code",
     "checksum": "06cfa8fe216a069092545da936e58d43",
     "grade": false,
     "grade_id": "cell-706b6f3d12b04c59",
     "locked": false,
     "schema_version": 3,
     "solution": true,
     "task": false
    }
   },
   "outputs": [],
   "source": [
    "# Your code here\n",
    "\n",
    "invalid_vacation = df['Weeks of Vacation'].isnull()"
   ]
  },
  {
   "cell_type": "code",
   "execution_count": 16,
   "metadata": {},
   "outputs": [],
   "source": [
    "df.loc[invalid_vacation, 'Weeks of Vacation'] = 0"
   ]
  },
  {
   "cell_type": "code",
   "execution_count": 17,
   "metadata": {
    "ExecuteTime": {
     "end_time": "2023-09-20T15:54:04.627590500Z",
     "start_time": "2023-09-20T15:54:04.594942800Z"
    },
    "deletable": false,
    "editable": false,
    "nbgrader": {
     "cell_type": "code",
     "checksum": "37c2dca3f60d3b4c00b90587cc9709f8",
     "grade": true,
     "grade_id": "cell-929435fddda65a9d",
     "locked": true,
     "points": 1,
     "schema_version": 3,
     "solution": false,
     "task": false
    }
   },
   "outputs": [],
   "source": [
    "# Question 5 Grading Checks\n",
    "\n",
    "assert isinstance(invalid_vacation, pd.Series), 'Have you created a Series named invalid_vacation?'\n",
    "\n"
   ]
  },
  {
   "cell_type": "markdown",
   "metadata": {
    "deletable": false,
    "editable": false,
    "nbgrader": {
     "cell_type": "markdown",
     "checksum": "cd0e11bf79b7fd8344b6695cc3aa3991",
     "grade": false,
     "grade_id": "cell-32797a1a2a78e09a",
     "locked": true,
     "schema_version": 3,
     "solution": false,
     "task": false
    }
   },
   "source": [
    "#### Question 6\n",
    "\n",
    "Using the original `DataFrame` `df`, find the maximum value in the `Weeks of Vacation` column and assign it to the variable `max_vac_before`. Then, replace all values in the `Weeks of Vacation` column that are greater than 6 with 6.\n"
   ]
  },
  {
   "cell_type": "code",
   "execution_count": 18,
   "metadata": {
    "ExecuteTime": {
     "end_time": "2023-09-20T15:54:04.627590500Z",
     "start_time": "2023-09-20T15:54:04.597406900Z"
    },
    "deletable": false,
    "nbgrader": {
     "cell_type": "code",
     "checksum": "5c13a1c3028194854b95edb4923ecf5e",
     "grade": false,
     "grade_id": "cell-64d6b900fcab5c13",
     "locked": false,
     "schema_version": 3,
     "solution": true,
     "task": false
    }
   },
   "outputs": [],
   "source": [
    "# Your code here\n",
    "\n",
    "max_vac_before = df['Weeks of Vacation'].max()"
   ]
  },
  {
   "cell_type": "code",
   "execution_count": 19,
   "metadata": {},
   "outputs": [],
   "source": [
    "df.loc[df['Weeks of Vacation'] > 6, 'Weeks of Vacation'] = 6"
   ]
  },
  {
   "cell_type": "code",
   "execution_count": 20,
   "metadata": {
    "ExecuteTime": {
     "end_time": "2023-09-20T15:54:04.627590500Z",
     "start_time": "2023-09-20T15:54:04.602429800Z"
    },
    "deletable": false,
    "editable": false,
    "nbgrader": {
     "cell_type": "code",
     "checksum": "1a37a1213823898f612ba64c1713293b",
     "grade": true,
     "grade_id": "cell-368240192797d448",
     "locked": true,
     "points": 1,
     "schema_version": 3,
     "solution": false,
     "task": false
    }
   },
   "outputs": [],
   "source": [
    "# Question 6 Grading Checks\n",
    "\n",
    "assert isinstance(df, pd.DataFrame), 'Have you created a DataFrame named df?'\n",
    "\n"
   ]
  },
  {
   "cell_type": "code",
   "execution_count": null,
   "metadata": {},
   "outputs": [],
   "source": []
  }
 ],
 "metadata": {
  "kernelspec": {
   "display_name": "Python 3",
   "language": "python",
   "name": "python3"
  },
  "language_info": {
   "codemirror_mode": {
    "name": "ipython",
    "version": 3
   },
   "file_extension": ".py",
   "mimetype": "text/x-python",
   "name": "python",
   "nbconvert_exporter": "python",
   "pygments_lexer": "ipython3",
   "version": "3.7.6"
  }
 },
 "nbformat": 4,
 "nbformat_minor": 1
}
