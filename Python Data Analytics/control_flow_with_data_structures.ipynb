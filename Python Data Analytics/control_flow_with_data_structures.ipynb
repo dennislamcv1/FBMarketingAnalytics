{
 "cells": [
  {
   "cell_type": "markdown",
   "metadata": {
    "deletable": false,
    "editable": false,
    "nbgrader": {
     "cell_type": "markdown",
     "checksum": "f88d27b8a9a2e047777f879d9c39f026",
     "grade": false,
     "grade_id": "cell-fd2626fd075cd41a",
     "locked": true,
     "schema_version": 3,
     "solution": false,
     "task": false
    }
   },
   "source": [
    "# Activity: Control Flow with Data Structures\n",
    "\n",
    "## Introduction\n",
    "\n",
    "In this activity, you will practice using control flow with data structures.\n",
    "Control flow includes the following, and all or some of these may be used in this activity:\n",
    "- `if` statements\n",
    "- `for` loops\n",
    "- `break` statements\n"
   ]
  },
  {
   "cell_type": "markdown",
   "metadata": {
    "deletable": false,
    "editable": false,
    "nbgrader": {
     "cell_type": "markdown",
     "checksum": "378a5a3bf0f2cdc9ffcbb71894e611bd",
     "grade": false,
     "grade_id": "cell-b6f1b677aec63dd7",
     "locked": true,
     "schema_version": 3,
     "solution": false,
     "task": false
    }
   },
   "source": [
    "#### Question 1\n",
    "\n",
    "Use the created list `numbers` (which holds numbers from 1 to 10) to loop through `numbers`.\n",
    "In the loop, and add each number squared to the `squares` list."
   ]
  },
  {
   "cell_type": "code",
   "execution_count": 1,
   "metadata": {
    "ExecuteTime": {
     "end_time": "2023-09-12T20:36:08.500544600Z",
     "start_time": "2023-09-12T20:36:08.457925100Z"
    },
    "deletable": false,
    "nbgrader": {
     "cell_type": "code",
     "checksum": "a0ca722d586876dc37a3e41f67200796",
     "grade": false,
     "grade_id": "cell-451980dfd7340435",
     "locked": false,
     "schema_version": 3,
     "solution": true,
     "task": false
    }
   },
   "outputs": [],
   "source": [
    "# Your code here\n",
    "\n",
    "numbers = [1,2,3,4,5,6,7,8,9,10]\n",
    "\n",
    "squares = []\n",
    "for num in numbers:\n",
    "    squares.append(num ** 2)"
   ]
  },
  {
   "cell_type": "code",
   "execution_count": 2,
   "metadata": {
    "ExecuteTime": {
     "end_time": "2023-09-12T20:36:08.500544600Z",
     "start_time": "2023-09-12T20:36:08.464045400Z"
    },
    "deletable": false,
    "editable": false,
    "nbgrader": {
     "cell_type": "code",
     "checksum": "1ff134c3dc75de98eef5058665eea8a0",
     "grade": true,
     "grade_id": "cell-404dd8af35136e63",
     "locked": true,
     "points": 1,
     "schema_version": 3,
     "solution": false,
     "task": false
    }
   },
   "outputs": [],
   "source": [
    "# Question 1 Grading Checks\n",
    "\n",
    "assert len(squares) == 10, \"Double check the length your squares list.\""
   ]
  },
  {
   "cell_type": "markdown",
   "metadata": {
    "deletable": false,
    "editable": false,
    "nbgrader": {
     "cell_type": "markdown",
     "checksum": "99fd386435ffd493418974cb7c416292",
     "grade": false,
     "grade_id": "cell-4483cf841380e8a3",
     "locked": true,
     "schema_version": 3,
     "solution": false,
     "task": false
    }
   },
   "source": [
    "#### Question 2\n",
    "\n",
    "You are given the dictionary `students`, containing the names and their respective scores.\n",
    "\n",
    "Create a new **list** called `top_students` which will hold **tuples** containing the name and score of each student **if the student's score is _greater than 90_**.\n",
    "\n",
    "\n",
    "`top_students` will look similar to this:\n",
    "```python\n",
    "[('Alice', 95), ..., ('Emily', 100)]\n",
    "```"
   ]
  },
  {
   "cell_type": "code",
   "execution_count": 3,
   "metadata": {
    "ExecuteTime": {
     "end_time": "2023-09-12T20:36:08.501543800Z",
     "start_time": "2023-09-12T20:36:08.470361600Z"
    },
    "deletable": false,
    "editable": false,
    "nbgrader": {
     "cell_type": "code",
     "checksum": "059a4ce3655df3d9fc59732c93751620",
     "grade": false,
     "grade_id": "cell-808a12870e2f5a88",
     "locked": true,
     "schema_version": 3,
     "solution": false,
     "task": false
    }
   },
   "outputs": [],
   "source": [
    "students = {\n",
    "    'Alice': 95,\n",
    "    'Bob': 80,\n",
    "    'Charlie': 92,\n",
    "    'David': 70,\n",
    "    'Emily': 100\n",
    "}"
   ]
  },
  {
   "cell_type": "code",
   "execution_count": 4,
   "metadata": {
    "deletable": false,
    "nbgrader": {
     "cell_type": "code",
     "checksum": "6fd5f370d2ba6972de92db26a206edda",
     "grade": false,
     "grade_id": "cell-3b85f507bb917a41",
     "locked": false,
     "schema_version": 3,
     "solution": true,
     "task": false
    }
   },
   "outputs": [
    {
     "data": {
      "text/plain": [
       "[('Alice', 95), ('Charlie', 92), ('Emily', 100)]"
      ]
     },
     "execution_count": 4,
     "metadata": {},
     "output_type": "execute_result"
    }
   ],
   "source": [
    "# Your code here\n",
    "\n",
    "top_students = [(name, score) for name, score in students.items() if score > 90]\n",
    "top_students"
   ]
  },
  {
   "cell_type": "code",
   "execution_count": 5,
   "metadata": {
    "ExecuteTime": {
     "end_time": "2023-09-12T20:36:08.501543800Z",
     "start_time": "2023-09-12T20:36:08.473816300Z"
    },
    "deletable": false,
    "editable": false,
    "nbgrader": {
     "cell_type": "code",
     "checksum": "3ee7e8a2bb9b0d2fbe1b7216850f1ec1",
     "grade": true,
     "grade_id": "cell-dc908e4b76869453",
     "locked": true,
     "points": 1,
     "schema_version": 3,
     "solution": false,
     "task": false
    }
   },
   "outputs": [],
   "source": [
    "# Question 2 Grading Checks\n",
    "\n",
    "assert type(top_students) == list, \"Double check the type of your top_students variable.\""
   ]
  },
  {
   "cell_type": "markdown",
   "metadata": {
    "deletable": false,
    "editable": false,
    "nbgrader": {
     "cell_type": "markdown",
     "checksum": "4bff4abea530e43ed9a2edb3486d372f",
     "grade": false,
     "grade_id": "cell-132c74e34c7029a3",
     "locked": true,
     "schema_version": 3,
     "solution": false,
     "task": false
    }
   },
   "source": [
    "#### Question 3\n",
    "\n",
    "You are given a list `exotic_birds`, containing the name and lifespan of various exotic birds.\n",
    "\n",
    "Iterate through `exotic_birds` to create a dictionary called `higher_lifespans` that holds \n",
    "the name and lifespan of birds with a lifespan greater than 30 years.\n",
    "\n",
    "`higher_lifespan`'s **keys** will the bird's name and the **values** will the bird's lifespan."
   ]
  },
  {
   "cell_type": "code",
   "execution_count": 6,
   "metadata": {
    "ExecuteTime": {
     "end_time": "2023-09-12T20:36:08.501543800Z",
     "start_time": "2023-09-12T20:36:08.478616900Z"
    },
    "deletable": false,
    "editable": false,
    "nbgrader": {
     "cell_type": "code",
     "checksum": "2a2953d058e640079090c8455708e5c8",
     "grade": false,
     "grade_id": "cell-895ba783c80e8db3",
     "locked": true,
     "schema_version": 3,
     "solution": false,
     "task": false
    }
   },
   "outputs": [],
   "source": [
    "exotic_birds = [\n",
    "    (\"Hyacinth Macaw\", 70),\n",
    "    (\"African Grey Parrot\", 50),\n",
    "    (\"Scarlet Macaw\", 45),\n",
    "    (\"Cockatiel\", 20),\n",
    "    (\"Kakapo\", 75),\n",
    "    (\"Toucan\", 20),\n",
    "    (\"Moluccan Cockatoo\", 70),\n",
    "    (\"Lorikeet\", 25),\n",
    "    (\"Crowned Pigeon\", 25),\n",
    "    (\"Quetzal\", 15)\n",
    "]"
   ]
  },
  {
   "cell_type": "code",
   "execution_count": 7,
   "metadata": {
    "deletable": false,
    "nbgrader": {
     "cell_type": "code",
     "checksum": "1f2fe227958cf0b2f1d41fb79070dcc9",
     "grade": false,
     "grade_id": "cell-5358005192964434",
     "locked": false,
     "schema_version": 3,
     "solution": true,
     "task": false
    }
   },
   "outputs": [],
   "source": [
    "# Your code here\n",
    "\n",
    "higher_lifespans = {name: lifespan for name, lifespan in exotic_birds if lifespan > 30}"
   ]
  },
  {
   "cell_type": "code",
   "execution_count": 8,
   "metadata": {
    "ExecuteTime": {
     "end_time": "2023-09-12T20:36:08.501543800Z",
     "start_time": "2023-09-12T20:36:08.486135Z"
    },
    "deletable": false,
    "editable": false,
    "nbgrader": {
     "cell_type": "code",
     "checksum": "d7acfccab312b1777613db271dfde47b",
     "grade": true,
     "grade_id": "cell-175f68673bfd518c",
     "locked": true,
     "points": 1,
     "schema_version": 3,
     "solution": false,
     "task": false
    }
   },
   "outputs": [],
   "source": [
    "# Question 3 Grading Checks\n",
    "\n",
    "assert type(higher_lifespans) == dict, \"Make sure higher_lifespans is a dictionary.\"\n"
   ]
  },
  {
   "cell_type": "markdown",
   "metadata": {
    "deletable": false,
    "editable": false,
    "nbgrader": {
     "cell_type": "markdown",
     "checksum": "81f7a56ca7d6e39f82f68ea43dfb97d0",
     "grade": false,
     "grade_id": "cell-8e09164708a7dad8",
     "locked": true,
     "schema_version": 3,
     "solution": false,
     "task": false
    }
   },
   "source": [
    "#### Question 4\n",
    "\n",
    "You are given the list `numbers`.\n",
    "\n",
    "By iterating through the list, create **two lists** `even_numbers` and `odd_numbers` to contain all the even & odd numbers of the list respectively."
   ]
  },
  {
   "cell_type": "code",
   "execution_count": 9,
   "metadata": {
    "ExecuteTime": {
     "end_time": "2023-09-12T20:36:08.549193400Z",
     "start_time": "2023-09-12T20:36:08.492032600Z"
    },
    "deletable": false,
    "editable": false,
    "nbgrader": {
     "cell_type": "code",
     "checksum": "fedaa4b444e57ab7b68187f5533d4926",
     "grade": false,
     "grade_id": "cell-408d953e604dcf84",
     "locked": true,
     "schema_version": 3,
     "solution": false,
     "task": false
    }
   },
   "outputs": [],
   "source": [
    "numbers = [1, 2, 3, 4, 5, 6, 7, 8, 9, 10]"
   ]
  },
  {
   "cell_type": "code",
   "execution_count": 10,
   "metadata": {
    "deletable": false,
    "nbgrader": {
     "cell_type": "code",
     "checksum": "945e15c09bcc3d81b78b3041135b6a5b",
     "grade": false,
     "grade_id": "cell-a446bf04850bf677",
     "locked": false,
     "schema_version": 3,
     "solution": true,
     "task": false
    }
   },
   "outputs": [],
   "source": [
    "# Your code here\n",
    "\n",
    "even_numbers = []\n",
    "odd_numbers = []\n",
    "\n",
    "for num in numbers:\n",
    "    if num % 2 == 0:\n",
    "        even_numbers.append(num)\n",
    "    else:\n",
    "        odd_numbers.append(num)"
   ]
  },
  {
   "cell_type": "code",
   "execution_count": 11,
   "metadata": {
    "ExecuteTime": {
     "end_time": "2023-09-12T20:36:08.550196300Z",
     "start_time": "2023-09-12T20:36:08.494544400Z"
    },
    "deletable": false,
    "editable": false,
    "nbgrader": {
     "cell_type": "code",
     "checksum": "7931f8aa732d5c8b2942612bab8f662a",
     "grade": true,
     "grade_id": "cell-9013dfbc0e8de0bb",
     "locked": true,
     "points": 1,
     "schema_version": 3,
     "solution": false,
     "task": false
    }
   },
   "outputs": [],
   "source": [
    "# Question 4 Grading Checks\n",
    "\n",
    "assert type(even_numbers) == list, \"Double check the type of your even_numbers variable.\"\n",
    "assert type(odd_numbers) == list, \"Double check the type of your odd_numbers variable.\""
   ]
  },
  {
   "cell_type": "markdown",
   "metadata": {
    "deletable": false,
    "editable": false,
    "nbgrader": {
     "cell_type": "markdown",
     "checksum": "6e2b0c7296f0dac97455e62e65c762bd",
     "grade": false,
     "grade_id": "cell-764614c10cadd195",
     "locked": true,
     "schema_version": 3,
     "solution": false,
     "task": false
    }
   },
   "source": [
    "#### Question 5\n",
    "\n",
    "You are given the list `sales` that contains the total purchases for each day of the week for a retail store.\n",
    "\n",
    "Iterate through the list to create a variable `total_sales` that _accumulates_ the total sales of the week so far until the value of `total_sales` exceeds `1,000.00`. At that point, print ***\"We hit our sales goal!\"*** and stop iterating (`total_sales` will no longer be update)."
   ]
  },
  {
   "cell_type": "code",
   "execution_count": 12,
   "metadata": {
    "ExecuteTime": {
     "end_time": "2023-09-12T20:36:08.550196300Z",
     "start_time": "2023-09-12T20:36:08.505569500Z"
    },
    "deletable": false,
    "editable": false,
    "nbgrader": {
     "cell_type": "code",
     "checksum": "3f90e48c2bd15195c4cf243795041cee",
     "grade": false,
     "grade_id": "cell-db49f799196063d1",
     "locked": true,
     "schema_version": 3,
     "solution": false,
     "task": false
    }
   },
   "outputs": [],
   "source": [
    "sales = [100.00, 200.00, 300.00, 400.00, 150.00, 250.00, 350.00, 150.00, 100.00, 250.00]\n"
   ]
  },
  {
   "cell_type": "code",
   "execution_count": 13,
   "metadata": {
    "deletable": false,
    "nbgrader": {
     "cell_type": "code",
     "checksum": "49b7b3fbdf8a17a8b2c24c43c9e2e901",
     "grade": false,
     "grade_id": "cell-3ccba3572ec63f9b",
     "locked": false,
     "schema_version": 3,
     "solution": true,
     "task": false
    }
   },
   "outputs": [
    {
     "name": "stdout",
     "output_type": "stream",
     "text": [
      "We hit our sales goal!\n"
     ]
    }
   ],
   "source": [
    "# Your code here\n",
    "\n",
    "total_sales = 0\n",
    "\n",
    "for sale in sales:\n",
    "    total_sales += sale\n",
    "    if total_sales > 1000:\n",
    "        print(\"We hit our sales goal!\")\n",
    "        break"
   ]
  },
  {
   "cell_type": "code",
   "execution_count": 14,
   "metadata": {
    "ExecuteTime": {
     "end_time": "2023-09-12T20:36:08.550196300Z",
     "start_time": "2023-09-12T20:36:08.507565600Z"
    },
    "deletable": false,
    "editable": false,
    "nbgrader": {
     "cell_type": "code",
     "checksum": "a39e5f32a167a9c135e71682f7d4a990",
     "grade": true,
     "grade_id": "cell-e3e134dece0d5987",
     "locked": true,
     "points": 1,
     "schema_version": 3,
     "solution": false,
     "task": false
    }
   },
   "outputs": [],
   "source": [
    "# Question 5 Grading Checks\n",
    "\n",
    "assert type(total_sales) == float, \"Double check the type of your total_sales variable.\"\n",
    "assert total_sales < sum(sales), \"Did you stop iterating when total_sales reached over 1,000.00?\"\n"
   ]
  },
  {
   "cell_type": "code",
   "execution_count": null,
   "metadata": {},
   "outputs": [],
   "source": []
  }
 ],
 "metadata": {
  "kernelspec": {
   "display_name": "Python 3",
   "language": "python",
   "name": "python3"
  },
  "language_info": {
   "codemirror_mode": {
    "name": "ipython",
    "version": 3
   },
   "file_extension": ".py",
   "mimetype": "text/x-python",
   "name": "python",
   "nbconvert_exporter": "python",
   "pygments_lexer": "ipython3",
   "version": "3.7.6"
  }
 },
 "nbformat": 4,
 "nbformat_minor": 1
}
