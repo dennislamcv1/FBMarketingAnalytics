{
 "cells": [
  {
   "cell_type": "markdown",
   "metadata": {
    "deletable": false,
    "editable": false,
    "nbgrader": {
     "cell_type": "markdown",
     "checksum": "ee82c349fae64ff194dfc39f9fc52eb5",
     "grade": false,
     "grade_id": "cell-aa03a8db7dc8affd",
     "locked": true,
     "schema_version": 3,
     "solution": false,
     "task": false
    }
   },
   "source": [
    "# Activity: Using Booleans\n",
    "\n",
    "## Introduction\n",
    "\n",
    "In this activity, you will use booleans to complete the following questions.\n",
    "This activity includes:\n",
    "- Logical operators\n",
    "- Boolean expressions\n",
    "- Membership operators\n"
   ]
  },
  {
   "cell_type": "markdown",
   "metadata": {
    "deletable": false,
    "editable": false,
    "nbgrader": {
     "cell_type": "markdown",
     "checksum": "6a461eb1b1153b2415bd3804a6436201",
     "grade": false,
     "grade_id": "cell-d07aa5134ad9ace9",
     "locked": true,
     "schema_version": 3,
     "solution": false,
     "task": false
    }
   },
   "source": [
    "#### Question 1\n",
    "\n",
    "Negate the variable `can_drive` and assign the result to a new variable called `cannot_drive`.\n"
   ]
  },
  {
   "cell_type": "code",
   "execution_count": 1,
   "metadata": {
    "deletable": false,
    "editable": false,
    "nbgrader": {
     "cell_type": "code",
     "checksum": "1fe1bdf7f7c06ed6cba214330c9587de",
     "grade": false,
     "grade_id": "cell-85abf4db94841872",
     "locked": true,
     "schema_version": 3,
     "solution": false,
     "task": false
    }
   },
   "outputs": [],
   "source": [
    "can_drive = True"
   ]
  },
  {
   "cell_type": "code",
   "execution_count": 2,
   "metadata": {
    "deletable": false,
    "nbgrader": {
     "cell_type": "code",
     "checksum": "4982ea1a8439c25be3eca817564217a7",
     "grade": false,
     "grade_id": "cell-f1efd588c28f85e7",
     "locked": false,
     "schema_version": 3,
     "solution": true,
     "task": false
    }
   },
   "outputs": [],
   "source": [
    "# Your code here\n",
    "can_drive = True\n",
    "cannot_drive = not can_drive\n"
   ]
  },
  {
   "cell_type": "code",
   "execution_count": 3,
   "metadata": {
    "deletable": false,
    "editable": false,
    "nbgrader": {
     "cell_type": "code",
     "checksum": "6df4b71f7d109027d1f9a0a58936a80e",
     "grade": true,
     "grade_id": "cell-3e2c4b66749d726c",
     "locked": true,
     "points": 1,
     "schema_version": 3,
     "solution": false,
     "task": false
    }
   },
   "outputs": [],
   "source": [
    "# Question 1 Grading Checks\n",
    "\n",
    "assert isinstance(cannot_drive, bool), \"Make sure you are assigning a boolean value to cannot_drive\"\n"
   ]
  },
  {
   "cell_type": "markdown",
   "metadata": {
    "deletable": false,
    "editable": false,
    "nbgrader": {
     "cell_type": "markdown",
     "checksum": "c77f1c1d2bac3c99792e1f7d4da19f07",
     "grade": false,
     "grade_id": "cell-12287354d46478db",
     "locked": true,
     "schema_version": 3,
     "solution": false,
     "task": false
    }
   },
   "source": [
    "#### Question 2\n",
    "\n",
    "Check if the variable `age` is greater than or equal to 18 and less than or equal to 25. Assign the result to a variable called `is_age_valid`.\n"
   ]
  },
  {
   "cell_type": "code",
   "execution_count": 4,
   "metadata": {
    "deletable": false,
    "editable": false,
    "nbgrader": {
     "cell_type": "code",
     "checksum": "c9d06088aba46cf659926fd07f8dd1e5",
     "grade": false,
     "grade_id": "cell-39553cfc0490e543",
     "locked": true,
     "schema_version": 3,
     "solution": false,
     "task": false
    }
   },
   "outputs": [],
   "source": [
    "age = 20"
   ]
  },
  {
   "cell_type": "code",
   "execution_count": 5,
   "metadata": {
    "deletable": false,
    "nbgrader": {
     "cell_type": "code",
     "checksum": "41fe3a86f12d73a64ad73fab65d11eb2",
     "grade": false,
     "grade_id": "cell-ec4d89d103a07fc4",
     "locked": false,
     "schema_version": 3,
     "solution": true,
     "task": false
    }
   },
   "outputs": [],
   "source": [
    "# Your code here\n",
    "is_age_valid = 18 <= age <= 25"
   ]
  },
  {
   "cell_type": "code",
   "execution_count": 6,
   "metadata": {
    "deletable": false,
    "editable": false,
    "nbgrader": {
     "cell_type": "code",
     "checksum": "8d964875b89d0c0cde833d23962f0fb1",
     "grade": true,
     "grade_id": "cell-4ab58dea976d33ea",
     "locked": true,
     "points": 1,
     "schema_version": 3,
     "solution": false,
     "task": false
    }
   },
   "outputs": [],
   "source": [
    "# Question 2 Grading Checks\n",
    "\n",
    "assert isinstance(is_age_valid, bool), \"Make sure you are assigning a boolean value to is_age_valid\"\n"
   ]
  },
  {
   "cell_type": "markdown",
   "metadata": {
    "deletable": false,
    "editable": false,
    "nbgrader": {
     "cell_type": "markdown",
     "checksum": "f224b35e8bdd61095c4d968d302b375f",
     "grade": false,
     "grade_id": "cell-81075308d95014da",
     "locked": true,
     "schema_version": 3,
     "solution": false,
     "task": false
    }
   },
   "source": [
    "#### Question 3\n",
    "\n",
    "Check if the variable `name` is in the list `names`. Assign the result to a variable called `is_name_valid`.\n",
    "\n",
    "Note this means that `is_name_valid` will be **`True`** if `name` is **in** the list. Otherwise, `is_name_valid` will be assigned the value **`False`**.\n"
   ]
  },
  {
   "cell_type": "code",
   "execution_count": 7,
   "metadata": {
    "deletable": false,
    "editable": false,
    "nbgrader": {
     "cell_type": "code",
     "checksum": "19026398ac5f364faf1063819a5887dd",
     "grade": false,
     "grade_id": "cell-ebe1cc776906ef14",
     "locked": true,
     "schema_version": 3,
     "solution": false,
     "task": false
    }
   },
   "outputs": [],
   "source": [
    "name = \"John\"\n",
    "names = [\"John\", \"Jane\", \"Jack\"]"
   ]
  },
  {
   "cell_type": "code",
   "execution_count": 8,
   "metadata": {
    "deletable": false,
    "nbgrader": {
     "cell_type": "code",
     "checksum": "b28d645a11abe0f9cc5d89d66fe75212",
     "grade": false,
     "grade_id": "cell-293ce88b675d6d5e",
     "locked": false,
     "schema_version": 3,
     "solution": true,
     "task": false
    }
   },
   "outputs": [],
   "source": [
    "# Your code here\n",
    "\n",
    "is_name_valid = name in name"
   ]
  },
  {
   "cell_type": "code",
   "execution_count": 9,
   "metadata": {
    "deletable": false,
    "editable": false,
    "nbgrader": {
     "cell_type": "code",
     "checksum": "dd09425d9b6e6cba66a6ada12d9d6e36",
     "grade": true,
     "grade_id": "cell-5fd6417848f3ba30",
     "locked": true,
     "points": 1,
     "schema_version": 3,
     "solution": false,
     "task": false
    }
   },
   "outputs": [],
   "source": [
    "# Question 3 Grading Checks\n",
    "\n",
    "assert isinstance(is_name_valid, bool), \"Make sure you are assigning a boolean value to is_name_valid\"\n"
   ]
  },
  {
   "cell_type": "markdown",
   "metadata": {
    "deletable": false,
    "editable": false,
    "nbgrader": {
     "cell_type": "markdown",
     "checksum": "042a21154b194f81ee3f03ad524df5ff",
     "grade": false,
     "grade_id": "cell-ecfd51401301555a",
     "locked": true,
     "schema_version": 3,
     "solution": false,
     "task": false
    }
   },
   "source": [
    "#### Question 4\n",
    "\n",
    "Check if the variable `movie` is **NOT** in the list `movies` and assign the result to a variable called `not_in_movies`.\n",
    "\n",
    "Note this means that `not_in_movies` will be **`False`** if `movie` **is in** the list `movies`.\n",
    "If `movie` is **NOT** in the list, `not_in_movies` will be assigned the value **`True`**.\n"
   ]
  },
  {
   "cell_type": "code",
   "execution_count": 10,
   "metadata": {
    "deletable": false,
    "editable": false,
    "nbgrader": {
     "cell_type": "code",
     "checksum": "f6e4176c170fafc256a4f3173d6e12ad",
     "grade": false,
     "grade_id": "cell-a2b89fddb26de80f",
     "locked": true,
     "schema_version": 3,
     "solution": false,
     "task": false
    }
   },
   "outputs": [],
   "source": [
    "movie = \"Tarzan\"\n",
    "movies = [\"The Matrix\", \"Tangled\"]"
   ]
  },
  {
   "cell_type": "code",
   "execution_count": 11,
   "metadata": {
    "deletable": false,
    "nbgrader": {
     "cell_type": "code",
     "checksum": "d0c31cdad3032056b061e36250e6aa6e",
     "grade": false,
     "grade_id": "cell-2972bb6150b318f2",
     "locked": false,
     "schema_version": 3,
     "solution": true,
     "task": false
    }
   },
   "outputs": [],
   "source": [
    "# Your code here\n",
    "not_in_movies = movie not in movies\n"
   ]
  },
  {
   "cell_type": "code",
   "execution_count": 12,
   "metadata": {
    "deletable": false,
    "editable": false,
    "nbgrader": {
     "cell_type": "code",
     "checksum": "5c13f9fc5eb36492ae4b8fd8b2f6e64c",
     "grade": true,
     "grade_id": "cell-4810d9d6bf3c166a",
     "locked": true,
     "points": 1,
     "schema_version": 3,
     "solution": false,
     "task": false
    }
   },
   "outputs": [],
   "source": [
    "# Question 4 Grading Checks\n",
    "\n",
    "assert isinstance(not_in_movies, bool), \"Make sure you are assigning a boolean value to not_in_movies.\"\n"
   ]
  },
  {
   "cell_type": "markdown",
   "metadata": {
    "deletable": false,
    "editable": false,
    "nbgrader": {
     "cell_type": "markdown",
     "checksum": "0ea7c97112bcefd7b768375ab4f48d0d",
     "grade": false,
     "grade_id": "cell-663c33c0c3d0544c",
     "locked": true,
     "schema_version": 3,
     "solution": false,
     "task": false
    }
   },
   "source": [
    "#### Question 5\n",
    "\n",
    "Write a boolean expression that checks if the variable `whole_num` is not equal to `float_num`. Assign the result to a variable called `is_not_equal`.\n"
   ]
  },
  {
   "cell_type": "code",
   "execution_count": 13,
   "metadata": {
    "deletable": false,
    "editable": false,
    "nbgrader": {
     "cell_type": "code",
     "checksum": "c7f3a7cc3044d7a93036604490696610",
     "grade": false,
     "grade_id": "cell-4a1ab23953e9e8b6",
     "locked": true,
     "schema_version": 3,
     "solution": false,
     "task": false
    }
   },
   "outputs": [],
   "source": [
    "whole_num = 5\n",
    "float_num = 5.0"
   ]
  },
  {
   "cell_type": "code",
   "execution_count": 14,
   "metadata": {
    "deletable": false,
    "nbgrader": {
     "cell_type": "code",
     "checksum": "8090a90e7bdc41b18cee1efff6f17520",
     "grade": false,
     "grade_id": "cell-e7025779b7e6ca4e",
     "locked": false,
     "schema_version": 3,
     "solution": true,
     "task": false
    }
   },
   "outputs": [],
   "source": [
    "# Your code here\n",
    "\n",
    "is_not_equal = whole_num != float_num"
   ]
  },
  {
   "cell_type": "code",
   "execution_count": 15,
   "metadata": {
    "deletable": false,
    "editable": false,
    "nbgrader": {
     "cell_type": "code",
     "checksum": "71640f60c04de7412dd3084f3d3454e8",
     "grade": true,
     "grade_id": "cell-f2acd3be329f872b",
     "locked": true,
     "points": 1,
     "schema_version": 3,
     "solution": false,
     "task": false
    }
   },
   "outputs": [],
   "source": [
    "# Question 5 Grading Checks\n",
    "\n",
    "assert isinstance(is_not_equal, bool), \"Make sure you are assigning a boolean value to is_not_equal\"\n"
   ]
  },
  {
   "cell_type": "markdown",
   "metadata": {
    "deletable": false,
    "editable": false,
    "nbgrader": {
     "cell_type": "markdown",
     "checksum": "bb57bcfe8212b42cd448c050d5f097ce",
     "grade": false,
     "grade_id": "cell-db3eacb33239a0e3",
     "locked": true,
     "schema_version": 3,
     "solution": false,
     "task": false
    }
   },
   "source": [
    "#### Question 6\n",
    "\n",
    "Write a boolean expression that checks if the variable `num` is greater than or equal to 10 and less than or equal to 20. Assign the result to a variable called `is_valid`.\n"
   ]
  },
  {
   "cell_type": "code",
   "execution_count": 16,
   "metadata": {
    "deletable": false,
    "editable": false,
    "nbgrader": {
     "cell_type": "code",
     "checksum": "2bae026b5c52d191833dfbbed37e18fc",
     "grade": false,
     "grade_id": "cell-2d0c10fa82e6fb9c",
     "locked": true,
     "schema_version": 3,
     "solution": false,
     "task": false
    }
   },
   "outputs": [],
   "source": [
    "num = 15"
   ]
  },
  {
   "cell_type": "code",
   "execution_count": 17,
   "metadata": {
    "deletable": false,
    "nbgrader": {
     "cell_type": "code",
     "checksum": "1a5b6b137723c4978b6a5b91060c828d",
     "grade": false,
     "grade_id": "cell-4f9074c3ddc9723b",
     "locked": false,
     "schema_version": 3,
     "solution": true,
     "task": false
    }
   },
   "outputs": [],
   "source": [
    "# Your code here\n",
    "\n",
    "is_valid = 10 <= num <= 20"
   ]
  },
  {
   "cell_type": "code",
   "execution_count": 18,
   "metadata": {
    "deletable": false,
    "editable": false,
    "nbgrader": {
     "cell_type": "code",
     "checksum": "8e830396964ad3a9aca8141467b48a9e",
     "grade": true,
     "grade_id": "cell-f31c0477c4ca5897",
     "locked": true,
     "points": 0,
     "schema_version": 3,
     "solution": false,
     "task": false
    }
   },
   "outputs": [],
   "source": [
    "#### Question 6 Grading Checks\n",
    "\n",
    "assert isinstance(is_valid, bool), \"Make sure you are assigning a boolean value to is_valid\""
   ]
  },
  {
   "cell_type": "code",
   "execution_count": null,
   "metadata": {},
   "outputs": [],
   "source": []
  }
 ],
 "metadata": {
  "kernelspec": {
   "display_name": "Python 3",
   "language": "python",
   "name": "python3"
  },
  "language_info": {
   "codemirror_mode": {
    "name": "ipython",
    "version": 3
   },
   "file_extension": ".py",
   "mimetype": "text/x-python",
   "name": "python",
   "nbconvert_exporter": "python",
   "pygments_lexer": "ipython3",
   "version": "3.7.6"
  }
 },
 "nbformat": 4,
 "nbformat_minor": 1
}
