{
 "cells": [
  {
   "cell_type": "markdown",
   "metadata": {},
   "source": [
    "# Activity: Using Conditionals\n",
    "\n",
    "## Introduction\n",
    "\n",
    "In this activity, you will use conditionals to solve the following questions.\n",
    "This activity contains:\n",
    "- `if` statements\n",
    "- `if-else` statements\n",
    "- `if-elif-else` statements\n",
    "- Nested `if` statements\n",
    "- `if` statements with logical operators\n"
   ]
  },
  {
   "cell_type": "markdown",
   "metadata": {
    "deletable": false,
    "editable": false,
    "nbgrader": {
     "cell_type": "markdown",
     "checksum": "c6515abee78c488c4c970265d1d0c7c5",
     "grade": false,
     "grade_id": "cell-c7a87000c5dca512",
     "locked": true,
     "schema_version": 3,
     "solution": false,
     "task": false
    }
   },
   "source": [
    "#### Question 1\n",
    "\n",
    "Write an `if-else` statement that assigns the value `True` to the variable `is_even` if `number` is even or `False` if `number` is odd."
   ]
  },
  {
   "cell_type": "code",
   "execution_count": 1,
   "metadata": {
    "deletable": false,
    "editable": false,
    "nbgrader": {
     "cell_type": "code",
     "checksum": "6e0782e2101ccac1185f666728d6a9d3",
     "grade": false,
     "grade_id": "cell-81e1ef9e7c3cbb69",
     "locked": true,
     "schema_version": 3,
     "solution": false,
     "task": false
    }
   },
   "outputs": [],
   "source": [
    "number = 24\n",
    "is_even = False"
   ]
  },
  {
   "cell_type": "code",
   "execution_count": 2,
   "metadata": {
    "ExecuteTime": {
     "end_time": "2023-09-12T20:31:58.637325600Z",
     "start_time": "2023-09-12T20:31:58.602029800Z"
    },
    "deletable": false,
    "nbgrader": {
     "cell_type": "code",
     "checksum": "964d4fe0ec69581ad7e5d8ebda488a65",
     "grade": false,
     "grade_id": "cell-8d40892bb13719be",
     "locked": false,
     "schema_version": 3,
     "solution": true,
     "task": false
    }
   },
   "outputs": [],
   "source": [
    "# Your code here\n",
    "\n",
    "if number % 2 == 0:\n",
    "    is_even = True\n",
    "else:\n",
    "    is_even = False"
   ]
  },
  {
   "cell_type": "code",
   "execution_count": 3,
   "metadata": {
    "ExecuteTime": {
     "end_time": "2023-09-12T20:31:58.637325600Z",
     "start_time": "2023-09-12T20:31:58.605539Z"
    },
    "deletable": false,
    "editable": false,
    "nbgrader": {
     "cell_type": "code",
     "checksum": "2e13fe0adad814117fbfb1f688ef8a97",
     "grade": true,
     "grade_id": "cell-d99d403b48b1b9a9",
     "locked": true,
     "points": 1,
     "schema_version": 3,
     "solution": false,
     "task": false
    }
   },
   "outputs": [],
   "source": [
    "# Question 1 Grading Checks\n",
    "\n",
    "assert type(is_even) == bool"
   ]
  },
  {
   "cell_type": "markdown",
   "metadata": {
    "deletable": false,
    "editable": false,
    "nbgrader": {
     "cell_type": "markdown",
     "checksum": "c2d46cbde76284a21d9b369b32929346",
     "grade": false,
     "grade_id": "cell-68367bb53c9a5534",
     "locked": true,
     "schema_version": 3,
     "solution": false,
     "task": false
    }
   },
   "source": [
    "#### Question 2\n",
    "\n",
    "Write an `if` statement that will assign the value 0 to the variable `is_negative` if `another_number` is negative."
   ]
  },
  {
   "cell_type": "code",
   "execution_count": 4,
   "metadata": {
    "ExecuteTime": {
     "end_time": "2023-09-12T20:31:58.639332500Z",
     "start_time": "2023-09-12T20:31:58.609748400Z"
    },
    "deletable": false,
    "editable": false,
    "nbgrader": {
     "cell_type": "code",
     "checksum": "d1778e97cf82d8cdf7e985050f73fa3c",
     "grade": false,
     "grade_id": "cell-a8033fe1c199ca60",
     "locked": true,
     "schema_version": 3,
     "solution": false,
     "task": false
    }
   },
   "outputs": [],
   "source": [
    "another_number = -27\n",
    "is_negative = 1"
   ]
  },
  {
   "cell_type": "code",
   "execution_count": 5,
   "metadata": {
    "deletable": false,
    "nbgrader": {
     "cell_type": "code",
     "checksum": "232ed48c9ed24458552b5d68e979da0e",
     "grade": false,
     "grade_id": "cell-98ec20804d9c03d7",
     "locked": false,
     "schema_version": 3,
     "solution": true,
     "task": false
    }
   },
   "outputs": [],
   "source": [
    "# Your code here\n",
    "\n",
    "if another_number < 0:\n",
    "    is_negative = 0"
   ]
  },
  {
   "cell_type": "code",
   "execution_count": 6,
   "metadata": {
    "ExecuteTime": {
     "end_time": "2023-09-12T20:31:58.640331200Z",
     "start_time": "2023-09-12T20:31:58.612611Z"
    },
    "deletable": false,
    "editable": false,
    "nbgrader": {
     "cell_type": "code",
     "checksum": "bba4d8d83ca689318cf21588110e9977",
     "grade": true,
     "grade_id": "cell-76e229c364465aba",
     "locked": true,
     "points": 1,
     "schema_version": 3,
     "solution": false,
     "task": false
    }
   },
   "outputs": [],
   "source": [
    "# Question 2 Grading Checks\n",
    "\n",
    "assert type(another_number) == int"
   ]
  },
  {
   "cell_type": "markdown",
   "metadata": {
    "deletable": false,
    "editable": false,
    "nbgrader": {
     "cell_type": "markdown",
     "checksum": "6500a8daf5b7d4790f529274f7180046",
     "grade": false,
     "grade_id": "cell-d029356aea2a6d44",
     "locked": true,
     "schema_version": 3,
     "solution": false,
     "task": false
    }
   },
   "source": [
    "#### Question 3\n",
    "\n",
    "Write an `if-elif-else` statement that assigns the string `\"positive\"` to the variable `sign` if the `integer_number` is positive, `\"negative\"` if `integer_number` is negative, or `\"zero\"` if `integer_number` is 0."
   ]
  },
  {
   "cell_type": "code",
   "execution_count": 7,
   "metadata": {
    "ExecuteTime": {
     "end_time": "2023-09-12T20:31:58.640331200Z",
     "start_time": "2023-09-12T20:31:58.616639500Z"
    },
    "deletable": false,
    "editable": false,
    "nbgrader": {
     "cell_type": "code",
     "checksum": "f13c56b624711cb0615d20aecf764eda",
     "grade": false,
     "grade_id": "cell-c886e5053fa67155",
     "locked": true,
     "schema_version": 3,
     "solution": false,
     "task": false
    }
   },
   "outputs": [],
   "source": [
    "integer_number = 0\n",
    "sign = ''"
   ]
  },
  {
   "cell_type": "code",
   "execution_count": 8,
   "metadata": {
    "deletable": false,
    "nbgrader": {
     "cell_type": "code",
     "checksum": "32dd075d39ba649fdbfa87a82415d9c8",
     "grade": false,
     "grade_id": "cell-4c1a2ee95c7312e4",
     "locked": false,
     "schema_version": 3,
     "solution": true,
     "task": false
    }
   },
   "outputs": [],
   "source": [
    "# Your code here\n",
    "\n",
    "if integer_number > 0:\n",
    "    sign = 'positive'\n",
    "elif integer_number < 0:\n",
    "    sign = 'negative'\n",
    "else:\n",
    "    sign = 'zero'"
   ]
  },
  {
   "cell_type": "code",
   "execution_count": 9,
   "metadata": {
    "ExecuteTime": {
     "end_time": "2023-09-12T20:31:58.646571900Z",
     "start_time": "2023-09-12T20:31:58.619075700Z"
    },
    "deletable": false,
    "editable": false,
    "nbgrader": {
     "cell_type": "code",
     "checksum": "fe6c813ae38442565a09577379ad0c28",
     "grade": true,
     "grade_id": "cell-3a2dc83f6248a011",
     "locked": true,
     "points": 1,
     "schema_version": 3,
     "solution": false,
     "task": false
    }
   },
   "outputs": [],
   "source": [
    "# Question 3 Grading Checks\n",
    "\n",
    "assert type(sign) == str\n",
    "assert len(sign) > 0\n"
   ]
  },
  {
   "cell_type": "markdown",
   "metadata": {
    "deletable": false,
    "editable": false,
    "nbgrader": {
     "cell_type": "markdown",
     "checksum": "37fad14a2ec57f0a746e21f92ac4262f",
     "grade": false,
     "grade_id": "cell-02b952919cea724c",
     "locked": true,
     "schema_version": 3,
     "solution": false,
     "task": false
    }
   },
   "source": [
    "#### Question 4\n",
    "\n",
    "You are given a `dict` called `person` with a person's name and an age.\n",
    "\n",
    "Write a nested `if` statement that first checks if the person is old enough to vote, and assigns the value `True` to the variable `can_vote` if they are older than 17.\n",
    "\n",
    "Then, check if they are 21 or older and assigns the value `True` to the `can_rent_car` variable.\n",
    "\n",
    "Finally, print the `can_vote` and `can_rent_car` variables.\n"
   ]
  },
  {
   "cell_type": "code",
   "execution_count": 10,
   "metadata": {
    "ExecuteTime": {
     "end_time": "2023-09-12T20:31:58.647391900Z",
     "start_time": "2023-09-12T20:31:58.622796200Z"
    },
    "deletable": false,
    "editable": false,
    "nbgrader": {
     "cell_type": "code",
     "checksum": "bf9f845faedbbd63d26205e780752578",
     "grade": false,
     "grade_id": "cell-cdcc58748b6612b2",
     "locked": true,
     "schema_version": 3,
     "solution": false,
     "task": false
    }
   },
   "outputs": [],
   "source": [
    "person = {\n",
    "    \"name\": \"James Dean\",\n",
    "    \"age\": 19,\n",
    "}\n",
    "can_vote = False\n",
    "can_rent_car = False"
   ]
  },
  {
   "cell_type": "code",
   "execution_count": 11,
   "metadata": {
    "deletable": false,
    "nbgrader": {
     "cell_type": "code",
     "checksum": "1c903a0060652b39506eaf61020cecad",
     "grade": false,
     "grade_id": "cell-233cad696fe6145b",
     "locked": false,
     "schema_version": 3,
     "solution": true,
     "task": false
    }
   },
   "outputs": [
    {
     "name": "stdout",
     "output_type": "stream",
     "text": [
      "Can vote: True\n",
      "Can rent car: False\n"
     ]
    }
   ],
   "source": [
    "# Your code here\n",
    "\n",
    "if person[\"age\"] > 17:\n",
    "    can_vote = True\n",
    "    if person[\"age\"] >= 21:\n",
    "        can_rent_car = True\n",
    "\n",
    "print(\"Can vote:\", can_vote)\n",
    "print(\"Can rent car:\", can_rent_car)"
   ]
  },
  {
   "cell_type": "code",
   "execution_count": 12,
   "metadata": {
    "ExecuteTime": {
     "end_time": "2023-09-12T20:31:58.669549400Z",
     "start_time": "2023-09-12T20:31:58.626311800Z"
    },
    "deletable": false,
    "editable": false,
    "nbgrader": {
     "cell_type": "code",
     "checksum": "02fbf6d136d61e706b1dacf467aeb170",
     "grade": true,
     "grade_id": "cell-552f00c9c8a389d6",
     "locked": true,
     "points": 1,
     "schema_version": 3,
     "solution": false,
     "task": false
    }
   },
   "outputs": [],
   "source": [
    "# Question 4 Grading Checks\n",
    "\n",
    "assert type(can_vote) == bool\n",
    "assert type(can_rent_car) == bool\n"
   ]
  },
  {
   "cell_type": "markdown",
   "metadata": {
    "deletable": false,
    "editable": false,
    "nbgrader": {
     "cell_type": "markdown",
     "checksum": "2da454c6f724ecc0ec02e514c384393a",
     "grade": false,
     "grade_id": "cell-46cdf2eaa5c0a1a6",
     "locked": true,
     "schema_version": 3,
     "solution": false,
     "task": false
    }
   },
   "source": [
    "#### Question 5\n",
    "\n",
    "Using the `and` operator and/or the `or` operator, write an `if` statement that assigns the value `True` to the variable `can_watch_movie` if the person is older than 13 and younger than 18, or if the person is older than 65.\n"
   ]
  },
  {
   "cell_type": "code",
   "execution_count": 13,
   "metadata": {
    "ExecuteTime": {
     "end_time": "2023-09-12T20:31:58.669549400Z",
     "start_time": "2023-09-12T20:31:58.631515900Z"
    },
    "deletable": false,
    "editable": false,
    "nbgrader": {
     "cell_type": "code",
     "checksum": "6a024dd787760c29b55ac9e970058f53",
     "grade": false,
     "grade_id": "cell-ddbdaa28617d52cd",
     "locked": true,
     "schema_version": 3,
     "solution": false,
     "task": false
    }
   },
   "outputs": [],
   "source": [
    "person = {\n",
    "    \"name\": \"Sheila Knight\",\n",
    "    \"age\": 86,\n",
    "}\n",
    "\n",
    "can_watch_movie = False"
   ]
  },
  {
   "cell_type": "code",
   "execution_count": 14,
   "metadata": {
    "deletable": false,
    "nbgrader": {
     "cell_type": "code",
     "checksum": "5e361d10083c0c8b58d3f7509c097569",
     "grade": false,
     "grade_id": "cell-cc339b34e9b3cdb2",
     "locked": false,
     "schema_version": 3,
     "solution": true,
     "task": false
    }
   },
   "outputs": [],
   "source": [
    "# Your code here\n",
    "\n",
    "if (person[\"age\"] > 13 and person[\"age\"] < 18) or person[\"age\"] > 65:\n",
    "    can_watch_movie = True"
   ]
  },
  {
   "cell_type": "code",
   "execution_count": 15,
   "metadata": {
    "ExecuteTime": {
     "end_time": "2023-09-12T20:31:58.670548900Z",
     "start_time": "2023-09-12T20:31:58.634681700Z"
    },
    "deletable": false,
    "editable": false,
    "nbgrader": {
     "cell_type": "code",
     "checksum": "f6a17902e9a3e8153b6be1251e41a5e7",
     "grade": true,
     "grade_id": "cell-da1e05d80203127f",
     "locked": true,
     "points": 1,
     "schema_version": 3,
     "solution": false,
     "task": false
    }
   },
   "outputs": [],
   "source": [
    "# Question 5 Grading Checks\n",
    "\n",
    "assert type(can_watch_movie) == bool"
   ]
  },
  {
   "cell_type": "markdown",
   "metadata": {
    "deletable": false,
    "editable": false,
    "nbgrader": {
     "cell_type": "markdown",
     "checksum": "a949c8cc3a51038ed42ab0bcda1e6341",
     "grade": false,
     "grade_id": "cell-0256d791e0572a5d",
     "locked": true,
     "schema_version": 3,
     "solution": false,
     "task": false
    }
   },
   "source": [
    "#### Question 6\n",
    "\n",
    "Using the given dictionary `bird`, write a conditional statement of your choosing (`if`, `if-else`, `if-elif-else`, or nested `if` statements) that uses the properties of `bird` to assign the correct value to the `bird_type` variable, then print `bird_type`.\n",
    "\n",
    "Here are possible bird types and their properties:\n",
    "- cardinal: red, small, can fly, cannot swim\n",
    "- ostrich: black, large, cannot fly, can swim\n",
    "- purple martin: purple, small, can fly, can swim\n",
    "- penguin: black, medium, cannot fly, can swim\n",
    "- canary: yellow, small, can fly, cannot swim\n",
    "- crow: black, small, can fly, cannot swim\n",
    "- mallard: green, medium, can fly, can swim\n",
    "- toucan: orange, medium, can fly, cannot swim\n",
    "- unknown"
   ]
  },
  {
   "cell_type": "code",
   "execution_count": 16,
   "metadata": {
    "ExecuteTime": {
     "end_time": "2023-09-12T20:31:58.670548900Z",
     "start_time": "2023-09-12T20:31:58.641332400Z"
    },
    "deletable": false,
    "editable": false,
    "nbgrader": {
     "cell_type": "code",
     "checksum": "286aa6d68a4a4e1e921de9bd7888c564",
     "grade": false,
     "grade_id": "cell-6aa9aa4097ab1e98",
     "locked": true,
     "schema_version": 3,
     "solution": false,
     "task": false
    }
   },
   "outputs": [],
   "source": [
    "bird_colors = [\"red\", \"blue\", \"yellow\", \"green\", \"purple\", \"orange\", \"black\"]\n",
    "bird_sizes = [\"small\", \"medium\", \"large\"]\n",
    "bird_can_fly = [True, False]\n",
    "bird_can_swim = [True, False]\n",
    "\n",
    "bird = {\n",
    "    'color': 'yellow',\n",
    "    'size': 'small',\n",
    "    'can_fly': True,\n",
    "    'can_swim': False,\n",
    "}\n",
    "\n",
    "bird_type = \"\""
   ]
  },
  {
   "cell_type": "code",
   "execution_count": 17,
   "metadata": {
    "deletable": false,
    "nbgrader": {
     "cell_type": "code",
     "checksum": "316e9c962588b9a44629a7ac4ce1a7ab",
     "grade": false,
     "grade_id": "cell-34ba91286fdac8af",
     "locked": false,
     "schema_version": 3,
     "solution": true,
     "task": false
    }
   },
   "outputs": [
    {
     "name": "stdout",
     "output_type": "stream",
     "text": [
      "canary\n"
     ]
    }
   ],
   "source": [
    "# Your code here\n",
    "\n",
    "if bird[\"color\"] == \"red\" and bird[\"size\"] == \"small\" and bird[\"can_fly\"] and not bird[\"can_swim\"]:\n",
    "    bird_type = \"cardinal\"\n",
    "elif bird[\"color\"] == \"black\" and bird[\"size\"] == \"large\" and not bird[\"can_fly\"] and bird[\"can_swim\"]:\n",
    "    bird_type = \"ostrich\"\n",
    "elif bird[\"color\"] == \"purple\" and bird[\"size\"] == \"small\" and bird[\"can_fly\"] and bird[\"can_swim\"]:\n",
    "    bird_type = \"purple martin\"\n",
    "elif bird[\"color\"] == \"black\" and bird[\"size\"] == \"medium\" and not bird[\"can_fly\"] and bird[\"can_swim\"]:\n",
    "    bird_type = \"penguin\"\n",
    "elif bird[\"color\"] == \"yellow\" and bird[\"size\"] == \"small\" and bird[\"can_fly\"] and not bird[\"can_swim\"]:\n",
    "    bird_type = \"canary\"\n",
    "elif bird[\"color\"] == \"black\" and bird[\"size\"] == \"small\" and bird[\"can_fly\"] and not bird[\"can_swim\"]:\n",
    "    bird_type = \"crow\"\n",
    "elif bird[\"color\"] == \"green\" and bird[\"size\"] == \"medium\" and bird[\"can_fly\"] and bird[\"can_swim\"]:\n",
    "    bird_type = \"mallard\"\n",
    "elif bird[\"color\"] == \"orange\" and bird[\"size\"] == \"medium\" and bird[\"can_fly\"] and not bird[\"can_swim\"]:\n",
    "    bird_type = \"toucan\"\n",
    "\n",
    "print(bird_type)"
   ]
  },
  {
   "cell_type": "code",
   "execution_count": 18,
   "metadata": {
    "ExecuteTime": {
     "end_time": "2023-09-12T20:31:58.670548900Z",
     "start_time": "2023-09-12T20:31:58.644060400Z"
    },
    "deletable": false,
    "editable": false,
    "nbgrader": {
     "cell_type": "code",
     "checksum": "21a81c042237921db9494a1545b80456",
     "grade": true,
     "grade_id": "cell-68f3bc05d8c4071f",
     "locked": true,
     "points": 0,
     "schema_version": 3,
     "solution": false,
     "task": false
    }
   },
   "outputs": [],
   "source": [
    "# Question 6 Grading Checks\n",
    "\n",
    "assert type(bird_type) == str\n",
    "assert len(bird_type) > 0\n"
   ]
  },
  {
   "cell_type": "code",
   "execution_count": null,
   "metadata": {},
   "outputs": [],
   "source": []
  }
 ],
 "metadata": {
  "kernelspec": {
   "display_name": "Python 3",
   "language": "python",
   "name": "python3"
  },
  "language_info": {
   "codemirror_mode": {
    "name": "ipython",
    "version": 3
   },
   "file_extension": ".py",
   "mimetype": "text/x-python",
   "name": "python",
   "nbconvert_exporter": "python",
   "pygments_lexer": "ipython3",
   "version": "3.7.6"
  }
 },
 "nbformat": 4,
 "nbformat_minor": 1
}
