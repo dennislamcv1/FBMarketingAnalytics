{
 "cells": [
  {
   "cell_type": "markdown",
   "metadata": {
    "deletable": false,
    "editable": false,
    "nbgrader": {
     "cell_type": "markdown",
     "checksum": "7d7623fa57b9ed23448f14d31dc29ee0",
     "grade": false,
     "grade_id": "cell-140c498f762d5743",
     "locked": true,
     "schema_version": 3,
     "solution": false,
     "task": false
    }
   },
   "source": [
    "# Activity: Using Dictionaries\n",
    "\n",
    "## Introduction\n",
    "\n",
    "In this activity you will practice the following:\n",
    "- Creating dictionaries\n",
    "- Accessing values in a dictionary\n",
    "- Adding key-value pairs to a dictionary\n",
    "- Modifying values in a dictionary\n",
    "- Dictionary methods\n"
   ]
  },
  {
   "cell_type": "markdown",
   "metadata": {
    "deletable": false,
    "editable": false,
    "nbgrader": {
     "cell_type": "markdown",
     "checksum": "c696a6167068d5ad10529f193151181b",
     "grade": false,
     "grade_id": "cell-6e94adb1e346f09d",
     "locked": true,
     "schema_version": 3,
     "solution": false,
     "task": false
    }
   },
   "source": [
    "#### Question 1\n",
    "\n",
    "Create a dictionary called `student` which contains the following:\n",
    "- name: derrick\n",
    "- age: 17\n",
    "- math_grade: 90\n",
    "\n",
    "> Note: Make sure the keys and values match (such as spelling)"
   ]
  },
  {
   "cell_type": "code",
   "execution_count": 1,
   "metadata": {
    "deletable": false,
    "nbgrader": {
     "cell_type": "code",
     "checksum": "c31a63d878df31b482f8de7f9f410934",
     "grade": false,
     "grade_id": "cell-f2663b732b65da27",
     "locked": false,
     "schema_version": 3,
     "solution": true,
     "task": false
    }
   },
   "outputs": [],
   "source": [
    "# Your code here\n",
    "\n",
    "student = {\n",
    "    \"name\": \"derrick\",\n",
    "    \"age\": 17,\n",
    "    \"math_grade\": 90\n",
    "}\n"
   ]
  },
  {
   "cell_type": "code",
   "execution_count": 2,
   "metadata": {
    "deletable": false,
    "editable": false,
    "nbgrader": {
     "cell_type": "code",
     "checksum": "17f72eb72760143930cec7153c52301a",
     "grade": true,
     "grade_id": "cell-1c32794963a228b2",
     "locked": true,
     "points": 1,
     "schema_version": 3,
     "solution": false,
     "task": false
    }
   },
   "outputs": [],
   "source": [
    "# Question 1 Grading Checks\n",
    "\n",
    "assert isinstance(student, dict), 'Have you created a dictionary called student?'\n",
    "assert len(student) == 3, 'Have you added the correct number of key-value pairs to the dictionary?'\n"
   ]
  },
  {
   "cell_type": "markdown",
   "metadata": {
    "deletable": false,
    "editable": false,
    "nbgrader": {
     "cell_type": "markdown",
     "checksum": "ff53825b09ff605d9cf894c832378ecd",
     "grade": false,
     "grade_id": "cell-e54c8de2a02f1510",
     "locked": true,
     "schema_version": 3,
     "solution": false,
     "task": false
    }
   },
   "source": [
    "#### Question 2\n",
    "\n",
    "Access the value of the `math_grade` key in the `student` dictionary you created in Question 1 and assign it to a variable called `grade`.\n"
   ]
  },
  {
   "cell_type": "code",
   "execution_count": 3,
   "metadata": {
    "deletable": false,
    "nbgrader": {
     "cell_type": "code",
     "checksum": "dcf26d160e76d8403dd77fbc249f6cde",
     "grade": false,
     "grade_id": "cell-eb29541abd47c277",
     "locked": false,
     "schema_version": 3,
     "solution": true,
     "task": false
    }
   },
   "outputs": [],
   "source": [
    "# Your code here\n",
    "\n",
    "grade = student[\"math_grade\"]\n"
   ]
  },
  {
   "cell_type": "code",
   "execution_count": 4,
   "metadata": {
    "deletable": false,
    "editable": false,
    "nbgrader": {
     "cell_type": "code",
     "checksum": "d801ba4c60897fff2294fa37113363f9",
     "grade": true,
     "grade_id": "cell-4a3c1c086515c6ee",
     "locked": true,
     "points": 1,
     "schema_version": 3,
     "solution": false,
     "task": false
    }
   },
   "outputs": [],
   "source": [
    "# Question 2 Grading Checks\n",
    "\n",
    "assert isinstance(grade, int), 'Have you accessed the value of the math_grade key in the student dictionary?'\n"
   ]
  },
  {
   "cell_type": "markdown",
   "metadata": {
    "deletable": false,
    "editable": false,
    "nbgrader": {
     "cell_type": "markdown",
     "checksum": "7ed3caf99791db34737cd9a70f29a687",
     "grade": false,
     "grade_id": "cell-367b4ab838c1f070",
     "locked": true,
     "schema_version": 3,
     "solution": false,
     "task": false
    }
   },
   "source": [
    "#### Question 3\n",
    "\n",
    "Add a new key-value pair to the `student` dictionary you created in Question 1. The new key should be `english_grade` and the value should be `85`.\n"
   ]
  },
  {
   "cell_type": "code",
   "execution_count": 5,
   "metadata": {
    "deletable": false,
    "nbgrader": {
     "cell_type": "code",
     "checksum": "c430d330877af4894337abefc83eb347",
     "grade": false,
     "grade_id": "cell-c1b0b1f08800416d",
     "locked": false,
     "schema_version": 3,
     "solution": true,
     "task": false
    }
   },
   "outputs": [],
   "source": [
    "# Your code here\n",
    "\n",
    "student[\"english_grade\"] = 85\n"
   ]
  },
  {
   "cell_type": "code",
   "execution_count": 6,
   "metadata": {
    "deletable": false,
    "editable": false,
    "nbgrader": {
     "cell_type": "code",
     "checksum": "46bac437bd106c8a8558a3f92b63fa3f",
     "grade": true,
     "grade_id": "cell-8fb6c1ea22c4b357",
     "locked": true,
     "points": 1,
     "schema_version": 3,
     "solution": false,
     "task": false
    }
   },
   "outputs": [],
   "source": [
    "# Question 3 Grading Checks\n",
    "\n",
    "assert len(student) == 4, 'Have you added the correct number of key-value pairs to the dictionary?'\n"
   ]
  },
  {
   "cell_type": "markdown",
   "metadata": {
    "deletable": false,
    "editable": false,
    "nbgrader": {
     "cell_type": "markdown",
     "checksum": "fd1a8a859a4e3faebfb432acec5f3157",
     "grade": false,
     "grade_id": "cell-39ac646ba64374ea",
     "locked": true,
     "schema_version": 3,
     "solution": false,
     "task": false
    }
   },
   "source": [
    "#### Question 4\n",
    "\n",
    "Modify the value of the `english_grade` key in the `student` dictionary you created in Question 1 to be `90`.\n"
   ]
  },
  {
   "cell_type": "code",
   "execution_count": 7,
   "metadata": {
    "deletable": false,
    "nbgrader": {
     "cell_type": "code",
     "checksum": "8262e10a362c5b01fa87de218de7c429",
     "grade": false,
     "grade_id": "cell-e4ac806bdcad6c21",
     "locked": false,
     "schema_version": 3,
     "solution": true,
     "task": false
    }
   },
   "outputs": [],
   "source": [
    "# Your code here\n",
    "\n",
    "student[\"english_grade\"] = 90\n"
   ]
  },
  {
   "cell_type": "code",
   "execution_count": 8,
   "metadata": {
    "deletable": false,
    "editable": false,
    "nbgrader": {
     "cell_type": "code",
     "checksum": "eaaeba98a6ba9ec3961481e6d49acd88",
     "grade": true,
     "grade_id": "cell-83e07315196266d5",
     "locked": true,
     "points": 1,
     "schema_version": 3,
     "solution": false,
     "task": false
    }
   },
   "outputs": [],
   "source": [
    "# Question 4 Grading Checks\n",
    "\n",
    "assert len(student) == 4, 'Have you added the correct number of key-value pairs to the dictionary?'\n"
   ]
  },
  {
   "cell_type": "markdown",
   "metadata": {
    "deletable": false,
    "editable": false,
    "nbgrader": {
     "cell_type": "markdown",
     "checksum": "2f8acccde42fa54b9d3cf5324d2356f1",
     "grade": false,
     "grade_id": "cell-352b074180df48b0",
     "locked": true,
     "schema_version": 3,
     "solution": false,
     "task": false
    }
   },
   "source": [
    "#### Question 5\n",
    "\n",
    "Using the given dictionary `top_student`, store all the values in the dictionary in a variable called `top_student_grades`.\n"
   ]
  },
  {
   "cell_type": "code",
   "execution_count": 9,
   "metadata": {
    "deletable": false,
    "editable": false,
    "nbgrader": {
     "cell_type": "code",
     "checksum": "d5f76a2469c22fde4cd6a1e193718682",
     "grade": false,
     "grade_id": "cell-7c0de7e5be749595",
     "locked": true,
     "schema_version": 3,
     "solution": false,
     "task": false
    }
   },
   "outputs": [],
   "source": [
    "top_student = {\n",
    "    \"math_grade\": 95,\n",
    "    \"english_grade\": 98,\n",
    "    \"history_grade\": 90,\n",
    "    \"science_grade\": 93,\n",
    "    \"art_grade\": 92,\n",
    "    \"music_grade\": 96\n",
    "}"
   ]
  },
  {
   "cell_type": "code",
   "execution_count": 10,
   "metadata": {
    "deletable": false,
    "nbgrader": {
     "cell_type": "code",
     "checksum": "ed1d10703d8518e89367b51522222b14",
     "grade": false,
     "grade_id": "cell-9385357ef3f923e9",
     "locked": false,
     "schema_version": 3,
     "solution": true,
     "task": false
    }
   },
   "outputs": [],
   "source": [
    "# Your code here\n",
    "\n",
    "top_student_grades = list(top_student.values())\n"
   ]
  },
  {
   "cell_type": "code",
   "execution_count": 11,
   "metadata": {
    "deletable": false,
    "editable": false,
    "nbgrader": {
     "cell_type": "code",
     "checksum": "5b59cb5fce1d6b402aad02d289012926",
     "grade": true,
     "grade_id": "cell-6e019848e1555855",
     "locked": true,
     "points": 1,
     "schema_version": 3,
     "solution": false,
     "task": false
    }
   },
   "outputs": [],
   "source": [
    "# Question 5 Grading Checks\n",
    "\n",
    "assert len(top_student_grades) == len(top_student), 'Have you created top_student_grades from the dictionary?'\n"
   ]
  },
  {
   "cell_type": "markdown",
   "metadata": {
    "deletable": false,
    "editable": false,
    "nbgrader": {
     "cell_type": "markdown",
     "checksum": "748c6804958a9e17c5cbce4ba7c8a097",
     "grade": false,
     "grade_id": "cell-d9c89d448de74a73",
     "locked": true,
     "schema_version": 3,
     "solution": false,
     "task": false
    }
   },
   "source": [
    "#### Question 6\n",
    "\n",
    "Using the given dictionary `top_student` from Question 5, store all the keys in the dictionary in a variable called `top_student_subjects`.\n"
   ]
  },
  {
   "cell_type": "code",
   "execution_count": 12,
   "metadata": {
    "deletable": false,
    "nbgrader": {
     "cell_type": "code",
     "checksum": "4a39f6774896ba0b8d963daaa295f147",
     "grade": false,
     "grade_id": "cell-3a646b4d1ce21982",
     "locked": false,
     "schema_version": 3,
     "solution": true,
     "task": false
    }
   },
   "outputs": [],
   "source": [
    "# Your code here\n",
    "\n",
    "top_student_subjects = list(top_student.keys())\n"
   ]
  },
  {
   "cell_type": "code",
   "execution_count": 13,
   "metadata": {
    "deletable": false,
    "editable": false,
    "nbgrader": {
     "cell_type": "code",
     "checksum": "616dc586019bec80477ba4d315c2747d",
     "grade": true,
     "grade_id": "cell-fd30e26df6dd8c06",
     "locked": true,
     "points": 1,
     "schema_version": 3,
     "solution": false,
     "task": false
    }
   },
   "outputs": [],
   "source": [
    "# Question 6 Grading Checks\n",
    "\n",
    "assert len(top_student_subjects) == len(top_student), 'Have you created top_student_subjects from the dictionary?'\n"
   ]
  },
  {
   "cell_type": "markdown",
   "metadata": {
    "deletable": false,
    "editable": false,
    "nbgrader": {
     "cell_type": "markdown",
     "checksum": "a8e5d73eb147715922b263c524a54c8f",
     "grade": false,
     "grade_id": "cell-c65489a1ad67578e",
     "locked": true,
     "schema_version": 3,
     "solution": false,
     "task": false
    }
   },
   "source": [
    "#### Question 7\n",
    "\n",
    "Using the given dictionary `top_student` from Question 5, store all the key-value pairs in the dictionary in a variable called `top_student_items`.\n"
   ]
  },
  {
   "cell_type": "code",
   "execution_count": 14,
   "metadata": {
    "deletable": false,
    "nbgrader": {
     "cell_type": "code",
     "checksum": "001da58aaec492115b0ec26448868602",
     "grade": false,
     "grade_id": "cell-0f701edfb3110476",
     "locked": false,
     "schema_version": 3,
     "solution": true,
     "task": false
    }
   },
   "outputs": [],
   "source": [
    "# Your code here\n",
    "\n",
    "top_student_items = list(top_student.items())\n"
   ]
  },
  {
   "cell_type": "code",
   "execution_count": 15,
   "metadata": {
    "deletable": false,
    "editable": false,
    "nbgrader": {
     "cell_type": "code",
     "checksum": "f13e952cba158074cf3091311e7de476",
     "grade": true,
     "grade_id": "cell-4ef1798a88c7a5e9",
     "locked": true,
     "points": 1,
     "schema_version": 3,
     "solution": false,
     "task": false
    }
   },
   "outputs": [],
   "source": [
    "# Question 7 Grading Checks\n",
    "\n",
    "assert len(top_student_items) == len(top_student), 'Have you created top_student_items from the dictionary?'\n"
   ]
  },
  {
   "cell_type": "code",
   "execution_count": null,
   "metadata": {},
   "outputs": [],
   "source": []
  }
 ],
 "metadata": {
  "kernelspec": {
   "display_name": "Python 3",
   "language": "python",
   "name": "python3"
  },
  "language_info": {
   "codemirror_mode": {
    "name": "ipython",
    "version": 3
   },
   "file_extension": ".py",
   "mimetype": "text/x-python",
   "name": "python",
   "nbconvert_exporter": "python",
   "pygments_lexer": "ipython3",
   "version": "3.7.6"
  }
 },
 "nbformat": 4,
 "nbformat_minor": 1
}
