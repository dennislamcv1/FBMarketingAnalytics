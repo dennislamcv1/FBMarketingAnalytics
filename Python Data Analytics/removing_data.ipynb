{
 "cells": [
  {
   "cell_type": "markdown",
   "metadata": {
    "deletable": false,
    "editable": false,
    "nbgrader": {
     "cell_type": "markdown",
     "checksum": "046bf6c4c63a3e868cc844e0ad3b98ac",
     "grade": false,
     "grade_id": "cell-c897c1a7cd5aefd8",
     "locked": true,
     "schema_version": 3,
     "solution": false,
     "task": false
    }
   },
   "source": [
    "# Activity: Removing Data\n",
    "\n",
    "## Introduction\n",
    "\n",
    "In this activity you will practice using Pandas functionality to check for and remove any unwanted data from a dataset.\n",
    "This activity will cover the following topics:\n",
    "- Removing columns from a DataFrame\n",
    "- Removing rows from a DataFrame\n",
    "- Removing rows based on a condition\n",
    "- Checking for duplicate data\n"
   ]
  },
  {
   "cell_type": "code",
   "execution_count": 1,
   "metadata": {},
   "outputs": [],
   "source": [
    "import pandas as pd"
   ]
  },
  {
   "cell_type": "markdown",
   "metadata": {
    "deletable": false,
    "editable": false,
    "nbgrader": {
     "cell_type": "markdown",
     "checksum": "0e85b5c0cdf8bebec8cb57e74538dce7",
     "grade": false,
     "grade_id": "cell-49a4006ac1053063",
     "locked": true,
     "schema_version": 3,
     "solution": false,
     "task": false
    }
   },
   "source": [
    "#### Question 1\n",
    "\n",
    "Create a `DataFrame` called `df` from the given CSV file `exotic_plants_data.csv`, then drop the column `Type` and assign the result to a new `DataFrame` called `df_no_type`.\n"
   ]
  },
  {
   "cell_type": "code",
   "execution_count": 2,
   "metadata": {
    "deletable": false,
    "nbgrader": {
     "cell_type": "code",
     "checksum": "717c06172691e55d1b6c207402a77179",
     "grade": false,
     "grade_id": "cell-7838a2aa507bed91",
     "locked": false,
     "schema_version": 3,
     "solution": true,
     "task": false
    }
   },
   "outputs": [],
   "source": [
    "# Your code here\n",
    "df = pd.read_csv(\"exotic_plants_data.csv\")\n",
    "\n",
    "df_no_type = df.drop([\"Type\"], axis=1)"
   ]
  },
  {
   "cell_type": "code",
   "execution_count": 3,
   "metadata": {},
   "outputs": [
    {
     "data": {
      "text/html": [
       "<div>\n",
       "<style scoped>\n",
       "    .dataframe tbody tr th:only-of-type {\n",
       "        vertical-align: middle;\n",
       "    }\n",
       "\n",
       "    .dataframe tbody tr th {\n",
       "        vertical-align: top;\n",
       "    }\n",
       "\n",
       "    .dataframe thead th {\n",
       "        text-align: right;\n",
       "    }\n",
       "</style>\n",
       "<table border=\"1\" class=\"dataframe\">\n",
       "  <thead>\n",
       "    <tr style=\"text-align: right;\">\n",
       "      <th></th>\n",
       "      <th>Plant Name</th>\n",
       "      <th>Origin</th>\n",
       "      <th>Height (cm)</th>\n",
       "    </tr>\n",
       "  </thead>\n",
       "  <tbody>\n",
       "    <tr>\n",
       "      <th>0</th>\n",
       "      <td>Orchid</td>\n",
       "      <td>Tropical</td>\n",
       "      <td>30</td>\n",
       "    </tr>\n",
       "    <tr>\n",
       "      <th>1</th>\n",
       "      <td>Fern</td>\n",
       "      <td>Tropical</td>\n",
       "      <td>40</td>\n",
       "    </tr>\n",
       "    <tr>\n",
       "      <th>2</th>\n",
       "      <td>Bamboo</td>\n",
       "      <td>Asia</td>\n",
       "      <td>600</td>\n",
       "    </tr>\n",
       "    <tr>\n",
       "      <th>3</th>\n",
       "      <td>Cactus</td>\n",
       "      <td>America</td>\n",
       "      <td>60</td>\n",
       "    </tr>\n",
       "    <tr>\n",
       "      <th>4</th>\n",
       "      <td>Bird of Paradise</td>\n",
       "      <td>Africa</td>\n",
       "      <td>150</td>\n",
       "    </tr>\n",
       "    <tr>\n",
       "      <th>...</th>\n",
       "      <td>...</td>\n",
       "      <td>...</td>\n",
       "      <td>...</td>\n",
       "    </tr>\n",
       "    <tr>\n",
       "      <th>71</th>\n",
       "      <td>Ficus</td>\n",
       "      <td>Asia</td>\n",
       "      <td>200</td>\n",
       "    </tr>\n",
       "    <tr>\n",
       "      <th>72</th>\n",
       "      <td>Columbine</td>\n",
       "      <td>North America</td>\n",
       "      <td>30</td>\n",
       "    </tr>\n",
       "    <tr>\n",
       "      <th>73</th>\n",
       "      <td>Jasmine</td>\n",
       "      <td>Asia</td>\n",
       "      <td>90</td>\n",
       "    </tr>\n",
       "    <tr>\n",
       "      <th>74</th>\n",
       "      <td>Fuchsia</td>\n",
       "      <td>Central and South America</td>\n",
       "      <td>40</td>\n",
       "    </tr>\n",
       "    <tr>\n",
       "      <th>75</th>\n",
       "      <td>Amaranth</td>\n",
       "      <td>Various</td>\n",
       "      <td>80</td>\n",
       "    </tr>\n",
       "  </tbody>\n",
       "</table>\n",
       "<p>76 rows × 3 columns</p>\n",
       "</div>"
      ],
      "text/plain": [
       "          Plant Name                     Origin  Height (cm)\n",
       "0             Orchid                   Tropical           30\n",
       "1               Fern                   Tropical           40\n",
       "2             Bamboo                       Asia          600\n",
       "3             Cactus                    America           60\n",
       "4   Bird of Paradise                     Africa          150\n",
       "..               ...                        ...          ...\n",
       "71             Ficus                       Asia          200\n",
       "72         Columbine              North America           30\n",
       "73           Jasmine                       Asia           90\n",
       "74           Fuchsia  Central and South America           40\n",
       "75          Amaranth                    Various           80\n",
       "\n",
       "[76 rows x 3 columns]"
      ]
     },
     "execution_count": 3,
     "metadata": {},
     "output_type": "execute_result"
    }
   ],
   "source": [
    "df_no_type"
   ]
  },
  {
   "cell_type": "code",
   "execution_count": 4,
   "metadata": {
    "deletable": false,
    "editable": false,
    "nbgrader": {
     "cell_type": "code",
     "checksum": "19d5910e1104166f3284aa954ce76d18",
     "grade": true,
     "grade_id": "cell-d33a95f8eacee595",
     "locked": true,
     "points": 0,
     "schema_version": 3,
     "solution": false,
     "task": false
    }
   },
   "outputs": [],
   "source": [
    "# Question 1 Grading Checks\n",
    "\n",
    "assert isinstance(df, pd.DataFrame), 'Have you created a DataFrame named df?'\n",
    "assert isinstance(df_no_type, pd.DataFrame), 'Have you created a DataFrame named df_no_type?'\n"
   ]
  },
  {
   "cell_type": "markdown",
   "metadata": {
    "deletable": false,
    "editable": false,
    "nbgrader": {
     "cell_type": "markdown",
     "checksum": "27acf2f6e9463c870f0d0b8eac90b8b0",
     "grade": false,
     "grade_id": "cell-707f771b16684e25",
     "locked": true,
     "schema_version": 3,
     "solution": false,
     "task": false
    }
   },
   "source": [
    "#### Question 2\n",
    "\n",
    "Remove rows at index 57 and 61 from the `df` DataFrame and assign the result to a new `DataFrame` called `df_dropped_indices`.\n"
   ]
  },
  {
   "cell_type": "code",
   "execution_count": 5,
   "metadata": {
    "deletable": false,
    "nbgrader": {
     "cell_type": "code",
     "checksum": "9dba7ec633fda314bf9e1f45cb0643c3",
     "grade": false,
     "grade_id": "cell-bd486aaf2deeeced",
     "locked": false,
     "schema_version": 3,
     "solution": true,
     "task": false
    }
   },
   "outputs": [
    {
     "data": {
      "text/html": [
       "<div>\n",
       "<style scoped>\n",
       "    .dataframe tbody tr th:only-of-type {\n",
       "        vertical-align: middle;\n",
       "    }\n",
       "\n",
       "    .dataframe tbody tr th {\n",
       "        vertical-align: top;\n",
       "    }\n",
       "\n",
       "    .dataframe thead th {\n",
       "        text-align: right;\n",
       "    }\n",
       "</style>\n",
       "<table border=\"1\" class=\"dataframe\">\n",
       "  <thead>\n",
       "    <tr style=\"text-align: right;\">\n",
       "      <th></th>\n",
       "      <th>Plant Name</th>\n",
       "      <th>Type</th>\n",
       "      <th>Origin</th>\n",
       "      <th>Height (cm)</th>\n",
       "    </tr>\n",
       "  </thead>\n",
       "  <tbody>\n",
       "    <tr>\n",
       "      <th>0</th>\n",
       "      <td>Orchid</td>\n",
       "      <td>Ornamental</td>\n",
       "      <td>Tropical</td>\n",
       "      <td>30</td>\n",
       "    </tr>\n",
       "    <tr>\n",
       "      <th>1</th>\n",
       "      <td>Fern</td>\n",
       "      <td>Ground Cover</td>\n",
       "      <td>Tropical</td>\n",
       "      <td>40</td>\n",
       "    </tr>\n",
       "    <tr>\n",
       "      <th>2</th>\n",
       "      <td>Bamboo</td>\n",
       "      <td>Grass</td>\n",
       "      <td>Asia</td>\n",
       "      <td>600</td>\n",
       "    </tr>\n",
       "    <tr>\n",
       "      <th>3</th>\n",
       "      <td>Cactus</td>\n",
       "      <td>Succulent</td>\n",
       "      <td>America</td>\n",
       "      <td>60</td>\n",
       "    </tr>\n",
       "    <tr>\n",
       "      <th>4</th>\n",
       "      <td>Bird of Paradise</td>\n",
       "      <td>Ornamental</td>\n",
       "      <td>Africa</td>\n",
       "      <td>150</td>\n",
       "    </tr>\n",
       "    <tr>\n",
       "      <th>...</th>\n",
       "      <td>...</td>\n",
       "      <td>...</td>\n",
       "      <td>...</td>\n",
       "      <td>...</td>\n",
       "    </tr>\n",
       "    <tr>\n",
       "      <th>71</th>\n",
       "      <td>Ficus</td>\n",
       "      <td>Tree</td>\n",
       "      <td>Asia</td>\n",
       "      <td>200</td>\n",
       "    </tr>\n",
       "    <tr>\n",
       "      <th>72</th>\n",
       "      <td>Columbine</td>\n",
       "      <td>Flower</td>\n",
       "      <td>North America</td>\n",
       "      <td>30</td>\n",
       "    </tr>\n",
       "    <tr>\n",
       "      <th>73</th>\n",
       "      <td>Jasmine</td>\n",
       "      <td>Shrub</td>\n",
       "      <td>Asia</td>\n",
       "      <td>90</td>\n",
       "    </tr>\n",
       "    <tr>\n",
       "      <th>74</th>\n",
       "      <td>Fuchsia</td>\n",
       "      <td>Flower</td>\n",
       "      <td>Central and South America</td>\n",
       "      <td>40</td>\n",
       "    </tr>\n",
       "    <tr>\n",
       "      <th>75</th>\n",
       "      <td>Amaranth</td>\n",
       "      <td>Flower</td>\n",
       "      <td>Various</td>\n",
       "      <td>80</td>\n",
       "    </tr>\n",
       "  </tbody>\n",
       "</table>\n",
       "<p>74 rows × 4 columns</p>\n",
       "</div>"
      ],
      "text/plain": [
       "          Plant Name          Type                     Origin  Height (cm)\n",
       "0             Orchid    Ornamental                   Tropical           30\n",
       "1               Fern  Ground Cover                   Tropical           40\n",
       "2             Bamboo         Grass                       Asia          600\n",
       "3             Cactus     Succulent                    America           60\n",
       "4   Bird of Paradise    Ornamental                     Africa          150\n",
       "..               ...           ...                        ...          ...\n",
       "71             Ficus          Tree                       Asia          200\n",
       "72         Columbine        Flower              North America           30\n",
       "73           Jasmine         Shrub                       Asia           90\n",
       "74           Fuchsia        Flower  Central and South America           40\n",
       "75          Amaranth        Flower                    Various           80\n",
       "\n",
       "[74 rows x 4 columns]"
      ]
     },
     "execution_count": 5,
     "metadata": {},
     "output_type": "execute_result"
    }
   ],
   "source": [
    "# Your code here\n",
    "\n",
    "df_dropped_indices = df.drop([57, 61])\n",
    "\n",
    "df_dropped_indices"
   ]
  },
  {
   "cell_type": "code",
   "execution_count": 6,
   "metadata": {
    "deletable": false,
    "editable": false,
    "nbgrader": {
     "cell_type": "code",
     "checksum": "841e9f44a3a61f630dfb2bcb1a422d0d",
     "grade": true,
     "grade_id": "cell-8baeca28d54cbd24",
     "locked": true,
     "points": 0,
     "schema_version": 3,
     "solution": false,
     "task": false
    }
   },
   "outputs": [],
   "source": [
    "# Question 2 Grading Checks\n",
    "\n",
    "assert isinstance(df_dropped_indices, pd.DataFrame), 'Have you created a DataFrame named df_dropped_indices?'\n"
   ]
  },
  {
   "cell_type": "markdown",
   "metadata": {
    "deletable": false,
    "editable": false,
    "nbgrader": {
     "cell_type": "markdown",
     "checksum": "1654fe60f0f48718f8bf987949096d0f",
     "grade": false,
     "grade_id": "cell-5d799d0122db2f71",
     "locked": true,
     "schema_version": 3,
     "solution": false,
     "task": false
    }
   },
   "source": [
    "#### Question 3\n",
    "\n",
    "Remove rows where the `Origin` column is equal to `Africa` from the `df` DataFrame and store the result in a new `DataFrame` called `df_no_african_plants`.\n"
   ]
  },
  {
   "cell_type": "code",
   "execution_count": 7,
   "metadata": {
    "deletable": false,
    "nbgrader": {
     "cell_type": "code",
     "checksum": "1dd4b83889cb24a42c5f35ffa6bbdbd1",
     "grade": false,
     "grade_id": "cell-f828ddb5f3edb844",
     "locked": false,
     "schema_version": 3,
     "solution": true,
     "task": false
    }
   },
   "outputs": [],
   "source": [
    "# Your code here\n",
    "\n",
    "df_no_african_plants = df[df['Origin'] != 'Africa']"
   ]
  },
  {
   "cell_type": "code",
   "execution_count": 8,
   "metadata": {
    "deletable": false,
    "editable": false,
    "nbgrader": {
     "cell_type": "code",
     "checksum": "f820603e8ab3365b628f2e4c7e6056d0",
     "grade": true,
     "grade_id": "cell-8dfb4c3309424ebf",
     "locked": true,
     "points": 0,
     "schema_version": 3,
     "solution": false,
     "task": false
    }
   },
   "outputs": [],
   "source": [
    "# Question 3 Grading Checks\n",
    "\n",
    "assert isinstance(df_no_african_plants, pd.DataFrame), 'Have you created a DataFrame named df_no_african_plants?'\n"
   ]
  },
  {
   "cell_type": "markdown",
   "metadata": {
    "deletable": false,
    "editable": false,
    "nbgrader": {
     "cell_type": "markdown",
     "checksum": "da7d498b38a2f35da35b2b28d2d2ca78",
     "grade": false,
     "grade_id": "cell-d690ea2189a423ff",
     "locked": true,
     "schema_version": 3,
     "solution": false,
     "task": false
    }
   },
   "source": [
    "#### Question 4\n",
    "\n",
    "Check the `df` `DataFrame` for any duplicate rows and assign the result to a new `DataFrame` called `df_duplicates`.\n"
   ]
  },
  {
   "cell_type": "code",
   "execution_count": 9,
   "metadata": {
    "deletable": false,
    "nbgrader": {
     "cell_type": "code",
     "checksum": "cb002d02152e98768953da1971aa3a8c",
     "grade": false,
     "grade_id": "cell-7b6a5c8b96ad6339",
     "locked": false,
     "schema_version": 3,
     "solution": true,
     "task": false
    }
   },
   "outputs": [
    {
     "data": {
      "text/html": [
       "<div>\n",
       "<style scoped>\n",
       "    .dataframe tbody tr th:only-of-type {\n",
       "        vertical-align: middle;\n",
       "    }\n",
       "\n",
       "    .dataframe tbody tr th {\n",
       "        vertical-align: top;\n",
       "    }\n",
       "\n",
       "    .dataframe thead th {\n",
       "        text-align: right;\n",
       "    }\n",
       "</style>\n",
       "<table border=\"1\" class=\"dataframe\">\n",
       "  <thead>\n",
       "    <tr style=\"text-align: right;\">\n",
       "      <th></th>\n",
       "      <th>Plant Name</th>\n",
       "      <th>Type</th>\n",
       "      <th>Origin</th>\n",
       "      <th>Height (cm)</th>\n",
       "    </tr>\n",
       "  </thead>\n",
       "  <tbody>\n",
       "    <tr>\n",
       "      <th>6</th>\n",
       "      <td>Cactus</td>\n",
       "      <td>Succulent</td>\n",
       "      <td>America</td>\n",
       "      <td>60</td>\n",
       "    </tr>\n",
       "    <tr>\n",
       "      <th>30</th>\n",
       "      <td>Rafflesia</td>\n",
       "      <td>Flower</td>\n",
       "      <td>Southeast Asia</td>\n",
       "      <td>20</td>\n",
       "    </tr>\n",
       "    <tr>\n",
       "      <th>47</th>\n",
       "      <td>Kangaroo Paw</td>\n",
       "      <td>Flower</td>\n",
       "      <td>Australia</td>\n",
       "      <td>60</td>\n",
       "    </tr>\n",
       "    <tr>\n",
       "      <th>48</th>\n",
       "      <td>Bougainvillea</td>\n",
       "      <td>Shrub</td>\n",
       "      <td>South America</td>\n",
       "      <td>400</td>\n",
       "    </tr>\n",
       "    <tr>\n",
       "      <th>49</th>\n",
       "      <td>Bird of Paradise</td>\n",
       "      <td>Ornamental</td>\n",
       "      <td>Africa</td>\n",
       "      <td>150</td>\n",
       "    </tr>\n",
       "    <tr>\n",
       "      <th>50</th>\n",
       "      <td>Venus Flytrap</td>\n",
       "      <td>Carnivorous</td>\n",
       "      <td>North America</td>\n",
       "      <td>15</td>\n",
       "    </tr>\n",
       "    <tr>\n",
       "      <th>51</th>\n",
       "      <td>Rose</td>\n",
       "      <td>Flower</td>\n",
       "      <td>Asia</td>\n",
       "      <td>60</td>\n",
       "    </tr>\n",
       "  </tbody>\n",
       "</table>\n",
       "</div>"
      ],
      "text/plain": [
       "          Plant Name         Type          Origin  Height (cm)\n",
       "6             Cactus    Succulent         America           60\n",
       "30         Rafflesia       Flower  Southeast Asia           20\n",
       "47      Kangaroo Paw       Flower       Australia           60\n",
       "48     Bougainvillea        Shrub   South America          400\n",
       "49  Bird of Paradise   Ornamental          Africa          150\n",
       "50     Venus Flytrap  Carnivorous   North America           15\n",
       "51              Rose       Flower            Asia           60"
      ]
     },
     "execution_count": 9,
     "metadata": {},
     "output_type": "execute_result"
    }
   ],
   "source": [
    "# Your code here\n",
    "\n",
    "df_duplicates = df[df.duplicated()]\n",
    "\n",
    "df_duplicates"
   ]
  },
  {
   "cell_type": "code",
   "execution_count": 10,
   "metadata": {
    "deletable": false,
    "editable": false,
    "nbgrader": {
     "cell_type": "code",
     "checksum": "c8fe294a17a5968400ca2e82ef039144",
     "grade": true,
     "grade_id": "cell-f4c7192e7cf1edb7",
     "locked": true,
     "points": 0,
     "schema_version": 3,
     "solution": false,
     "task": false
    }
   },
   "outputs": [],
   "source": [
    "# Question 4 Grading Checks\n",
    "\n",
    "assert isinstance(df_duplicates, pd.DataFrame), 'Have you created a DataFrame named df_duplicates?'\n"
   ]
  },
  {
   "cell_type": "markdown",
   "metadata": {
    "deletable": false,
    "editable": false,
    "nbgrader": {
     "cell_type": "markdown",
     "checksum": "679adc46bed100c23da241b87ff93560",
     "grade": false,
     "grade_id": "cell-cad11f7f3de8340a",
     "locked": true,
     "schema_version": 3,
     "solution": false,
     "task": false
    }
   },
   "source": [
    "#### Question 5\n",
    "\n",
    "Check the `df` `DataFrame` for any duplicate rows based on the `Plant Name` and `Type` columns and assign the result to a new `DataFrame` called `df_plant_type_duplicates`.\n"
   ]
  },
  {
   "cell_type": "code",
   "execution_count": 11,
   "metadata": {
    "deletable": false,
    "nbgrader": {
     "cell_type": "code",
     "checksum": "418db1b83dff29078db6f01f006f79da",
     "grade": false,
     "grade_id": "cell-9d19b3ba080d2ccd",
     "locked": false,
     "schema_version": 3,
     "solution": true,
     "task": false
    }
   },
   "outputs": [
    {
     "data": {
      "text/html": [
       "<div>\n",
       "<style scoped>\n",
       "    .dataframe tbody tr th:only-of-type {\n",
       "        vertical-align: middle;\n",
       "    }\n",
       "\n",
       "    .dataframe tbody tr th {\n",
       "        vertical-align: top;\n",
       "    }\n",
       "\n",
       "    .dataframe thead th {\n",
       "        text-align: right;\n",
       "    }\n",
       "</style>\n",
       "<table border=\"1\" class=\"dataframe\">\n",
       "  <thead>\n",
       "    <tr style=\"text-align: right;\">\n",
       "      <th></th>\n",
       "      <th>Plant Name</th>\n",
       "      <th>Type</th>\n",
       "      <th>Origin</th>\n",
       "      <th>Height (cm)</th>\n",
       "    </tr>\n",
       "  </thead>\n",
       "  <tbody>\n",
       "    <tr>\n",
       "      <th>6</th>\n",
       "      <td>Cactus</td>\n",
       "      <td>Succulent</td>\n",
       "      <td>America</td>\n",
       "      <td>60</td>\n",
       "    </tr>\n",
       "    <tr>\n",
       "      <th>22</th>\n",
       "      <td>Bamboo</td>\n",
       "      <td>Grass</td>\n",
       "      <td>Asia</td>\n",
       "      <td>500</td>\n",
       "    </tr>\n",
       "    <tr>\n",
       "      <th>30</th>\n",
       "      <td>Rafflesia</td>\n",
       "      <td>Flower</td>\n",
       "      <td>Southeast Asia</td>\n",
       "      <td>20</td>\n",
       "    </tr>\n",
       "    <tr>\n",
       "      <th>47</th>\n",
       "      <td>Kangaroo Paw</td>\n",
       "      <td>Flower</td>\n",
       "      <td>Australia</td>\n",
       "      <td>60</td>\n",
       "    </tr>\n",
       "    <tr>\n",
       "      <th>48</th>\n",
       "      <td>Bougainvillea</td>\n",
       "      <td>Shrub</td>\n",
       "      <td>South America</td>\n",
       "      <td>400</td>\n",
       "    </tr>\n",
       "    <tr>\n",
       "      <th>49</th>\n",
       "      <td>Bird of Paradise</td>\n",
       "      <td>Ornamental</td>\n",
       "      <td>Africa</td>\n",
       "      <td>150</td>\n",
       "    </tr>\n",
       "    <tr>\n",
       "      <th>50</th>\n",
       "      <td>Venus Flytrap</td>\n",
       "      <td>Carnivorous</td>\n",
       "      <td>North America</td>\n",
       "      <td>15</td>\n",
       "    </tr>\n",
       "    <tr>\n",
       "      <th>51</th>\n",
       "      <td>Rose</td>\n",
       "      <td>Flower</td>\n",
       "      <td>Asia</td>\n",
       "      <td>60</td>\n",
       "    </tr>\n",
       "    <tr>\n",
       "      <th>53</th>\n",
       "      <td>Tulip</td>\n",
       "      <td>Flower</td>\n",
       "      <td>Europe</td>\n",
       "      <td>30</td>\n",
       "    </tr>\n",
       "    <tr>\n",
       "      <th>55</th>\n",
       "      <td>Sunflower</td>\n",
       "      <td>Flower</td>\n",
       "      <td>North America</td>\n",
       "      <td>180</td>\n",
       "    </tr>\n",
       "    <tr>\n",
       "      <th>60</th>\n",
       "      <td>Cactus</td>\n",
       "      <td>Succulent</td>\n",
       "      <td>Americas</td>\n",
       "      <td>30</td>\n",
       "    </tr>\n",
       "    <tr>\n",
       "      <th>62</th>\n",
       "      <td>Bamboo</td>\n",
       "      <td>Grass</td>\n",
       "      <td>Asia</td>\n",
       "      <td>900</td>\n",
       "    </tr>\n",
       "    <tr>\n",
       "      <th>67</th>\n",
       "      <td>Aloe Vera</td>\n",
       "      <td>Succulent</td>\n",
       "      <td>Africa</td>\n",
       "      <td>30</td>\n",
       "    </tr>\n",
       "    <tr>\n",
       "      <th>73</th>\n",
       "      <td>Jasmine</td>\n",
       "      <td>Shrub</td>\n",
       "      <td>Asia</td>\n",
       "      <td>90</td>\n",
       "    </tr>\n",
       "  </tbody>\n",
       "</table>\n",
       "</div>"
      ],
      "text/plain": [
       "          Plant Name         Type          Origin  Height (cm)\n",
       "6             Cactus    Succulent         America           60\n",
       "22            Bamboo        Grass            Asia          500\n",
       "30         Rafflesia       Flower  Southeast Asia           20\n",
       "47      Kangaroo Paw       Flower       Australia           60\n",
       "48     Bougainvillea        Shrub   South America          400\n",
       "49  Bird of Paradise   Ornamental          Africa          150\n",
       "50     Venus Flytrap  Carnivorous   North America           15\n",
       "51              Rose       Flower            Asia           60\n",
       "53             Tulip       Flower          Europe           30\n",
       "55         Sunflower       Flower   North America          180\n",
       "60            Cactus    Succulent        Americas           30\n",
       "62            Bamboo        Grass            Asia          900\n",
       "67         Aloe Vera    Succulent          Africa           30\n",
       "73           Jasmine        Shrub            Asia           90"
      ]
     },
     "execution_count": 11,
     "metadata": {},
     "output_type": "execute_result"
    }
   ],
   "source": [
    "# Your code here\n",
    "\n",
    "df_plant_type_duplicates = df[df.duplicated(subset=['Plant Name', 'Type'])]\n",
    "\n",
    "df_plant_type_duplicates"
   ]
  },
  {
   "cell_type": "code",
   "execution_count": 12,
   "metadata": {
    "deletable": false,
    "editable": false,
    "nbgrader": {
     "cell_type": "code",
     "checksum": "1c01732883db9c1d3cc6d01a796de8d6",
     "grade": true,
     "grade_id": "cell-283a08bfd5ea5aa3",
     "locked": true,
     "points": 0,
     "schema_version": 3,
     "solution": false,
     "task": false
    }
   },
   "outputs": [],
   "source": [
    "# Question 5 Grading Checks\n",
    "\n",
    "assert isinstance(df_plant_type_duplicates, pd.DataFrame), 'Have you created a DataFrame named df_duplicates?'\n"
   ]
  },
  {
   "cell_type": "markdown",
   "metadata": {
    "deletable": false,
    "editable": false,
    "nbgrader": {
     "cell_type": "markdown",
     "checksum": "901af68ee5dd90305d864b1266d4f57c",
     "grade": false,
     "grade_id": "cell-c2e8e5078f003db8",
     "locked": true,
     "schema_version": 3,
     "solution": false,
     "task": false
    }
   },
   "source": [
    "#### Question 6\n",
    "\n",
    "Create a mask called `clean_mask` that will clean up any duplicates in the `df` DataFrame that have the same `Plant Name` and `Origin` and only keep the most up-to-date duplicate entry.\n"
   ]
  },
  {
   "cell_type": "code",
   "execution_count": 13,
   "metadata": {
    "deletable": false,
    "nbgrader": {
     "cell_type": "code",
     "checksum": "832eebe20a6a02fc7336a2da6c6d5909",
     "grade": false,
     "grade_id": "cell-aabacd4b7b4fe4d5",
     "locked": false,
     "schema_version": 3,
     "solution": true,
     "task": false
    }
   },
   "outputs": [],
   "source": [
    "# Your code here\n",
    "\n",
    "clean_mask = df.duplicated(subset=['Plant Name', 'Origin'], keep='last')\n",
    "\n",
    "df_cleaned = df[~clean_mask]"
   ]
  },
  {
   "cell_type": "code",
   "execution_count": 14,
   "metadata": {
    "deletable": false,
    "editable": false,
    "nbgrader": {
     "cell_type": "code",
     "checksum": "423d6ff3d176c0ed5bbe16293f3c09d1",
     "grade": true,
     "grade_id": "cell-c76aceb0a752dcf4",
     "locked": true,
     "points": 0,
     "schema_version": 3,
     "solution": false,
     "task": false
    }
   },
   "outputs": [],
   "source": [
    "# Question 6 Grading Checks\n",
    "\n",
    "assert isinstance(clean_mask, pd.Series), 'Have you created a Series named clean_mask?'\n"
   ]
  },
  {
   "cell_type": "code",
   "execution_count": null,
   "metadata": {},
   "outputs": [],
   "source": []
  }
 ],
 "metadata": {
  "kernelspec": {
   "display_name": "Python 3",
   "language": "python",
   "name": "python3"
  },
  "language_info": {
   "codemirror_mode": {
    "name": "ipython",
    "version": 3
   },
   "file_extension": ".py",
   "mimetype": "text/x-python",
   "name": "python",
   "nbconvert_exporter": "python",
   "pygments_lexer": "ipython3",
   "version": "3.7.6"
  }
 },
 "nbformat": 4,
 "nbformat_minor": 1
}
