{
 "cells": [
  {
   "cell_type": "markdown",
   "metadata": {
    "deletable": false,
    "editable": false,
    "nbgrader": {
     "cell_type": "markdown",
     "checksum": "c8f26c24701b9145c263b73c0778f50d",
     "grade": false,
     "grade_id": "cell-c46abbddde4b435b",
     "locked": true,
     "schema_version": 3,
     "solution": false,
     "task": false
    }
   },
   "source": [
    "# Activity: Selective Subsets\n",
    "\n",
    "## Introduction\n",
    "\n",
    "In this activity you will practice selecting subsets of data from a DataFrame using Pandas.\n",
    "This activity will cover the following topics:\n",
    "- Creating masks\n",
    "- Negating masks\n",
    "- Masks with slicing\n",
    "- Null value masks\n"
   ]
  },
  {
   "cell_type": "code",
   "execution_count": 1,
   "metadata": {
    "deletable": false,
    "editable": false,
    "nbgrader": {
     "cell_type": "code",
     "checksum": "53293d92c5fa7fd71197875c8b964101",
     "grade": false,
     "grade_id": "cell-3585b5ce4cfd66f0",
     "locked": true,
     "schema_version": 3,
     "solution": false,
     "task": false
    }
   },
   "outputs": [],
   "source": [
    "import pandas as pd"
   ]
  },
  {
   "cell_type": "markdown",
   "metadata": {
    "deletable": false,
    "editable": false,
    "nbgrader": {
     "cell_type": "markdown",
     "checksum": "2649bfbf0f65970a842f9fdde48b5af2",
     "grade": false,
     "grade_id": "cell-5c68a4aaa6237e43",
     "locked": true,
     "schema_version": 3,
     "solution": false,
     "task": false
    }
   },
   "source": [
    "#### Question 1\n",
    "\n",
    "Create a `DataFrame` called `df` from the given CSV file `movie_data.csv`, and then create a mask called `before_millennium` to select all movies that were released before 2000.\n"
   ]
  },
  {
   "cell_type": "code",
   "execution_count": 2,
   "metadata": {
    "deletable": false,
    "nbgrader": {
     "cell_type": "code",
     "checksum": "d7c1a6179ebd3fcfc7e562658cfbc56d",
     "grade": false,
     "grade_id": "cell-a6f12fe677fa8ce6",
     "locked": false,
     "schema_version": 3,
     "solution": true,
     "task": false
    }
   },
   "outputs": [
    {
     "data": {
      "text/html": [
       "<div>\n",
       "<style scoped>\n",
       "    .dataframe tbody tr th:only-of-type {\n",
       "        vertical-align: middle;\n",
       "    }\n",
       "\n",
       "    .dataframe tbody tr th {\n",
       "        vertical-align: top;\n",
       "    }\n",
       "\n",
       "    .dataframe thead th {\n",
       "        text-align: right;\n",
       "    }\n",
       "</style>\n",
       "<table border=\"1\" class=\"dataframe\">\n",
       "  <thead>\n",
       "    <tr style=\"text-align: right;\">\n",
       "      <th></th>\n",
       "      <th>Title</th>\n",
       "      <th>Year Released</th>\n",
       "      <th>Rating</th>\n",
       "      <th>Box Office ($M)</th>\n",
       "    </tr>\n",
       "  </thead>\n",
       "  <tbody>\n",
       "    <tr>\n",
       "      <th>0</th>\n",
       "      <td>The Shawshank Redemption</td>\n",
       "      <td>1994</td>\n",
       "      <td>9.3</td>\n",
       "      <td>58.3</td>\n",
       "    </tr>\n",
       "    <tr>\n",
       "      <th>1</th>\n",
       "      <td>The Godfather</td>\n",
       "      <td>1972</td>\n",
       "      <td>9.2</td>\n",
       "      <td>246.1</td>\n",
       "    </tr>\n",
       "    <tr>\n",
       "      <th>2</th>\n",
       "      <td>The Dark Knight</td>\n",
       "      <td>2008</td>\n",
       "      <td>9.0</td>\n",
       "      <td>1005.0</td>\n",
       "    </tr>\n",
       "    <tr>\n",
       "      <th>3</th>\n",
       "      <td>Pulp Fiction</td>\n",
       "      <td>1994</td>\n",
       "      <td>8.9</td>\n",
       "      <td>213.9</td>\n",
       "    </tr>\n",
       "    <tr>\n",
       "      <th>4</th>\n",
       "      <td>Schindler's List</td>\n",
       "      <td>1993</td>\n",
       "      <td>8.9</td>\n",
       "      <td>321.3</td>\n",
       "    </tr>\n",
       "    <tr>\n",
       "      <th>...</th>\n",
       "      <td>...</td>\n",
       "      <td>...</td>\n",
       "      <td>...</td>\n",
       "      <td>...</td>\n",
       "    </tr>\n",
       "    <tr>\n",
       "      <th>70</th>\n",
       "      <td>Andhadhun</td>\n",
       "      <td>2018</td>\n",
       "      <td>8.3</td>\n",
       "      <td>48.0</td>\n",
       "    </tr>\n",
       "    <tr>\n",
       "      <th>71</th>\n",
       "      <td>Gully Boy</td>\n",
       "      <td>2019</td>\n",
       "      <td>8.1</td>\n",
       "      <td>62.0</td>\n",
       "    </tr>\n",
       "    <tr>\n",
       "      <th>72</th>\n",
       "      <td>Dil Chahta Hai</td>\n",
       "      <td>2001</td>\n",
       "      <td>8.1</td>\n",
       "      <td>13.0</td>\n",
       "    </tr>\n",
       "    <tr>\n",
       "      <th>73</th>\n",
       "      <td>Dil To Pagal Hai</td>\n",
       "      <td>1997</td>\n",
       "      <td>7.1</td>\n",
       "      <td>11.0</td>\n",
       "    </tr>\n",
       "    <tr>\n",
       "      <th>74</th>\n",
       "      <td>Om Shanti Om</td>\n",
       "      <td>2007</td>\n",
       "      <td>6.7</td>\n",
       "      <td>23.0</td>\n",
       "    </tr>\n",
       "  </tbody>\n",
       "</table>\n",
       "<p>75 rows × 4 columns</p>\n",
       "</div>"
      ],
      "text/plain": [
       "                       Title  Year Released  Rating  Box Office ($M)\n",
       "0   The Shawshank Redemption           1994     9.3             58.3\n",
       "1              The Godfather           1972     9.2            246.1\n",
       "2            The Dark Knight           2008     9.0           1005.0\n",
       "3               Pulp Fiction           1994     8.9            213.9\n",
       "4           Schindler's List           1993     8.9            321.3\n",
       "..                       ...            ...     ...              ...\n",
       "70                 Andhadhun           2018     8.3             48.0\n",
       "71                 Gully Boy           2019     8.1             62.0\n",
       "72            Dil Chahta Hai           2001     8.1             13.0\n",
       "73          Dil To Pagal Hai           1997     7.1             11.0\n",
       "74              Om Shanti Om           2007     6.7             23.0\n",
       "\n",
       "[75 rows x 4 columns]"
      ]
     },
     "execution_count": 2,
     "metadata": {},
     "output_type": "execute_result"
    }
   ],
   "source": [
    "# Your code here\n",
    "import numpy as np\n",
    "\n",
    "df = pd.read_csv(\"movie_data.csv\")\n",
    "\n",
    "df"
   ]
  },
  {
   "cell_type": "code",
   "execution_count": 3,
   "metadata": {},
   "outputs": [
    {
     "name": "stdout",
     "output_type": "stream",
     "text": [
      "<class 'pandas.core.frame.DataFrame'>\n",
      "RangeIndex: 75 entries, 0 to 74\n",
      "Data columns (total 4 columns):\n",
      " #   Column           Non-Null Count  Dtype  \n",
      "---  ------           --------------  -----  \n",
      " 0   Title            75 non-null     object \n",
      " 1   Year Released    75 non-null     int64  \n",
      " 2   Rating           74 non-null     float64\n",
      " 3   Box Office ($M)  75 non-null     float64\n",
      "dtypes: float64(2), int64(1), object(1)\n",
      "memory usage: 2.5+ KB\n"
     ]
    }
   ],
   "source": [
    "df.info()"
   ]
  },
  {
   "cell_type": "code",
   "execution_count": 4,
   "metadata": {},
   "outputs": [
    {
     "data": {
      "text/plain": [
       "Title              0\n",
       "Year Released      0\n",
       "Rating             1\n",
       "Box Office ($M)    0\n",
       "dtype: int64"
      ]
     },
     "execution_count": 4,
     "metadata": {},
     "output_type": "execute_result"
    }
   ],
   "source": [
    "df.isnull().sum()"
   ]
  },
  {
   "cell_type": "code",
   "execution_count": 5,
   "metadata": {
    "deletable": false,
    "editable": false,
    "nbgrader": {
     "cell_type": "code",
     "checksum": "eb7b28aeefc6e5150dcbb9525a7b2bcf",
     "grade": true,
     "grade_id": "cell-27f3c343b5407f03",
     "locked": true,
     "points": 1,
     "schema_version": 3,
     "solution": false,
     "task": false
    }
   },
   "outputs": [],
   "source": [
    "# Question 1 Grading Checks\n",
    "\n",
    "assert isinstance(df, pd.DataFrame), 'Did you create a DataFrame called df?'\n"
   ]
  },
  {
   "cell_type": "markdown",
   "metadata": {
    "deletable": false,
    "editable": false,
    "nbgrader": {
     "cell_type": "markdown",
     "checksum": "6fdc5759469b27467fcf6d5fe44bda3a",
     "grade": false,
     "grade_id": "cell-e9c9760a1a462a90",
     "locked": true,
     "schema_version": 3,
     "solution": false,
     "task": false
    }
   },
   "source": [
    "#### Question 2\n",
    "\n",
    "Using the `before_millennium` mask from Question 1, assign the titles of every movie that was released on or after 2000 to a `Series` called `newer_titles`.\n"
   ]
  },
  {
   "cell_type": "code",
   "execution_count": 6,
   "metadata": {
    "deletable": false,
    "nbgrader": {
     "cell_type": "code",
     "checksum": "66566a3f73639a1d85598cc0cbc7e792",
     "grade": false,
     "grade_id": "cell-987183d3b2c55e8b",
     "locked": false,
     "schema_version": 3,
     "solution": true,
     "task": false
    }
   },
   "outputs": [
    {
     "data": {
      "text/html": [
       "<div>\n",
       "<style scoped>\n",
       "    .dataframe tbody tr th:only-of-type {\n",
       "        vertical-align: middle;\n",
       "    }\n",
       "\n",
       "    .dataframe tbody tr th {\n",
       "        vertical-align: top;\n",
       "    }\n",
       "\n",
       "    .dataframe thead th {\n",
       "        text-align: right;\n",
       "    }\n",
       "</style>\n",
       "<table border=\"1\" class=\"dataframe\">\n",
       "  <thead>\n",
       "    <tr style=\"text-align: right;\">\n",
       "      <th></th>\n",
       "      <th>Title</th>\n",
       "      <th>Year Released</th>\n",
       "      <th>Rating</th>\n",
       "      <th>Box Office ($M)</th>\n",
       "    </tr>\n",
       "  </thead>\n",
       "  <tbody>\n",
       "    <tr>\n",
       "      <th>2</th>\n",
       "      <td>The Dark Knight</td>\n",
       "      <td>2008</td>\n",
       "      <td>9.0</td>\n",
       "      <td>1005.0</td>\n",
       "    </tr>\n",
       "    <tr>\n",
       "      <th>7</th>\n",
       "      <td>Inception</td>\n",
       "      <td>2010</td>\n",
       "      <td>8.8</td>\n",
       "      <td>829.9</td>\n",
       "    </tr>\n",
       "    <tr>\n",
       "      <th>9</th>\n",
       "      <td>The Lord of the Rings: The Fellowship of the Ring</td>\n",
       "      <td>2001</td>\n",
       "      <td>8.8</td>\n",
       "      <td>871.5</td>\n",
       "    </tr>\n",
       "    <tr>\n",
       "      <th>11</th>\n",
       "      <td>Gladiator</td>\n",
       "      <td>2000</td>\n",
       "      <td>8.5</td>\n",
       "      <td>457.6</td>\n",
       "    </tr>\n",
       "    <tr>\n",
       "      <th>14</th>\n",
       "      <td>The Lord of the Rings: The Two Towers</td>\n",
       "      <td>2002</td>\n",
       "      <td>8.7</td>\n",
       "      <td>947.1</td>\n",
       "    </tr>\n",
       "  </tbody>\n",
       "</table>\n",
       "</div>"
      ],
      "text/plain": [
       "                                                Title  Year Released  Rating  \\\n",
       "2                                     The Dark Knight           2008     9.0   \n",
       "7                                           Inception           2010     8.8   \n",
       "9   The Lord of the Rings: The Fellowship of the Ring           2001     8.8   \n",
       "11                                          Gladiator           2000     8.5   \n",
       "14              The Lord of the Rings: The Two Towers           2002     8.7   \n",
       "\n",
       "    Box Office ($M)  \n",
       "2            1005.0  \n",
       "7             829.9  \n",
       "9             871.5  \n",
       "11            457.6  \n",
       "14            947.1  "
      ]
     },
     "execution_count": 6,
     "metadata": {},
     "output_type": "execute_result"
    }
   ],
   "source": [
    "# Your code here\n",
    "\n",
    "before_millennium = df[df[\"Year Released\"] >= 2000]\n",
    "before_millennium.head()"
   ]
  },
  {
   "cell_type": "code",
   "execution_count": 7,
   "metadata": {},
   "outputs": [
    {
     "data": {
      "text/plain": [
       "2                                       The Dark Knight\n",
       "7                                             Inception\n",
       "9     The Lord of the Rings: The Fellowship of the Ring\n",
       "11                                            Gladiator\n",
       "14                The Lord of the Rings: The Two Towers\n",
       "15                                         The Departed\n",
       "19        The Lord of the Rings: The Return of the King\n",
       "20                                          The Pianist\n",
       "22                                               Avatar\n",
       "23                                 Inglourious Basterds\n",
       "24                                         The Revenant\n",
       "25                                     Django Unchained\n",
       "26                                   The Social Network\n",
       "27                                         Interstellar\n",
       "28                             The Grand Budapest Hotel\n",
       "29                                              Dunkirk\n",
       "30                                     A Beautiful Mind\n",
       "33                                   The Shape of Water\n",
       "34                                     12 Years a Slave\n",
       "35                                              Gravity\n",
       "36                                           La La Land\n",
       "37                                    Blade Runner 2049\n",
       "38                                         The Irishman\n",
       "39                                             Parasite\n",
       "40                                     The Great Gatsby\n",
       "42                                      The Incredibles\n",
       "43                Eternal Sunshine of the Spotless Mind\n",
       "44                               No Country for Old Men\n",
       "46                                         Finding Nemo\n",
       "47                                         The Avengers\n",
       "48                                          The Martian\n",
       "49                                        Black Panther\n",
       "50                                             3 Idiots\n",
       "51                                                   PK\n",
       "52                                               Dangal\n",
       "53                             Baahubali: The Beginning\n",
       "54                          Baahubali 2: The Conclusion\n",
       "55                                    Bajrangi Bhaijaan\n",
       "56                                               Sultan\n",
       "57                             Kabhi Khushi Kabhie Gham\n",
       "58                                      My Name Is Khan\n",
       "59                                      Chennai Express\n",
       "62                               Kabhi Alvida Naa Kehna\n",
       "63                                            Padmaavat\n",
       "65                                         Koi Mil Gaya\n",
       "66                                               Krrish\n",
       "67                                               Lagaan\n",
       "70                                            Andhadhun\n",
       "71                                            Gully Boy\n",
       "72                                       Dil Chahta Hai\n",
       "74                                         Om Shanti Om\n",
       "Name: Title, dtype: object"
      ]
     },
     "execution_count": 7,
     "metadata": {},
     "output_type": "execute_result"
    }
   ],
   "source": [
    "newer_titles = pd.Series(before_millennium.Title)\n",
    "\n",
    "newer_titles"
   ]
  },
  {
   "cell_type": "code",
   "execution_count": 8,
   "metadata": {
    "deletable": false,
    "editable": false,
    "nbgrader": {
     "cell_type": "code",
     "checksum": "6a7533477ecdcabcdc77e4b4bf2df9c1",
     "grade": true,
     "grade_id": "cell-b17975a589e59519",
     "locked": true,
     "points": 1,
     "schema_version": 3,
     "solution": false,
     "task": false
    }
   },
   "outputs": [],
   "source": [
    "# Question 2 Grading Checks\n",
    "\n",
    "assert isinstance(newer_titles, pd.Series), 'Did you create a Series called newer_titles?'\n"
   ]
  },
  {
   "cell_type": "markdown",
   "metadata": {
    "deletable": false,
    "editable": false,
    "nbgrader": {
     "cell_type": "markdown",
     "checksum": "c133b3de433da4e76a59cf5de61672df",
     "grade": false,
     "grade_id": "cell-80ef257859b1c42e",
     "locked": true,
     "schema_version": 3,
     "solution": false,
     "task": false
    }
   },
   "source": [
    "#### Question 3\n",
    "\n",
    "Create a mask to select movies with a `Rating` of `8.9` or higher and a `Box Office ($M)` value higher than `1000.0`. Assign the resulting `Series` to a variable called `popular_movies`.\n"
   ]
  },
  {
   "cell_type": "code",
   "execution_count": 9,
   "metadata": {
    "deletable": false,
    "nbgrader": {
     "cell_type": "code",
     "checksum": "2bda9d05328bf9cc8aecd70c152ded35",
     "grade": false,
     "grade_id": "cell-111be265649b0c86",
     "locked": false,
     "schema_version": 3,
     "solution": true,
     "task": false
    }
   },
   "outputs": [
    {
     "data": {
      "text/html": [
       "<div>\n",
       "<style scoped>\n",
       "    .dataframe tbody tr th:only-of-type {\n",
       "        vertical-align: middle;\n",
       "    }\n",
       "\n",
       "    .dataframe tbody tr th {\n",
       "        vertical-align: top;\n",
       "    }\n",
       "\n",
       "    .dataframe thead th {\n",
       "        text-align: right;\n",
       "    }\n",
       "</style>\n",
       "<table border=\"1\" class=\"dataframe\">\n",
       "  <thead>\n",
       "    <tr style=\"text-align: right;\">\n",
       "      <th></th>\n",
       "      <th>Title</th>\n",
       "      <th>Year Released</th>\n",
       "      <th>Rating</th>\n",
       "      <th>Box Office ($M)</th>\n",
       "    </tr>\n",
       "  </thead>\n",
       "  <tbody>\n",
       "    <tr>\n",
       "      <th>2</th>\n",
       "      <td>The Dark Knight</td>\n",
       "      <td>2008</td>\n",
       "      <td>9.0</td>\n",
       "      <td>1005.0</td>\n",
       "    </tr>\n",
       "    <tr>\n",
       "      <th>19</th>\n",
       "      <td>The Lord of the Rings: The Return of the King</td>\n",
       "      <td>2003</td>\n",
       "      <td>8.9</td>\n",
       "      <td>1142.0</td>\n",
       "    </tr>\n",
       "  </tbody>\n",
       "</table>\n",
       "</div>"
      ],
      "text/plain": [
       "                                            Title  Year Released  Rating  \\\n",
       "2                                 The Dark Knight           2008     9.0   \n",
       "19  The Lord of the Rings: The Return of the King           2003     8.9   \n",
       "\n",
       "    Box Office ($M)  \n",
       "2            1005.0  \n",
       "19           1142.0  "
      ]
     },
     "execution_count": 9,
     "metadata": {},
     "output_type": "execute_result"
    }
   ],
   "source": [
    "# Your code here\n",
    "\n",
    "mask = df[(df.Rating >=8.9) & (df[\"Box Office ($M)\"] > 1000.00)]\n",
    "mask"
   ]
  },
  {
   "cell_type": "code",
   "execution_count": 10,
   "metadata": {},
   "outputs": [
    {
     "data": {
      "text/plain": [
       "2                                   The Dark Knight\n",
       "19    The Lord of the Rings: The Return of the King\n",
       "Name: Title, dtype: object"
      ]
     },
     "execution_count": 10,
     "metadata": {},
     "output_type": "execute_result"
    }
   ],
   "source": [
    "popular_movies = pd.Series(mask.Title)\n",
    "popular_movies"
   ]
  },
  {
   "cell_type": "code",
   "execution_count": 11,
   "metadata": {
    "deletable": false,
    "editable": false,
    "nbgrader": {
     "cell_type": "code",
     "checksum": "e387467826073513d3bc40c81b798dd4",
     "grade": true,
     "grade_id": "cell-ef8f436794d566aa",
     "locked": true,
     "points": 1,
     "schema_version": 3,
     "solution": false,
     "task": false
    }
   },
   "outputs": [],
   "source": [
    "# Question 3 Grading Checks\n",
    "\n",
    "assert isinstance(popular_movies, pd.Series), 'Did you create a Series called popular_movies?'\n"
   ]
  },
  {
   "cell_type": "markdown",
   "metadata": {
    "deletable": false,
    "editable": false,
    "nbgrader": {
     "cell_type": "markdown",
     "checksum": "3e8a275d999905de5874c1fda6e58cbe",
     "grade": false,
     "grade_id": "cell-fb067d28f4fff52e",
     "locked": true,
     "schema_version": 3,
     "solution": false,
     "task": false
    }
   },
   "source": [
    "#### Question 4\n",
    "\n",
    "Create a mask to select movies with a null value for `Box Office ($M)` or `Rating`. Assign the resulting `Series` to a variable called `missing_info`.\n"
   ]
  },
  {
   "cell_type": "code",
   "execution_count": 12,
   "metadata": {},
   "outputs": [
    {
     "data": {
      "text/plain": [
       "8.1    11\n",
       "8.0     8\n",
       "8.6     6\n",
       "8.5     5\n",
       "8.8     4\n",
       "7.7     3\n",
       "8.3     3\n",
       "8.9     3\n",
       "7.8     3\n",
       "8.4     3\n",
       "8.2     3\n",
       "7.3     2\n",
       "7.1     2\n",
       "8.7     2\n",
       "7.9     2\n",
       "6.0     2\n",
       "7.0     2\n",
       "7.6     2\n",
       "9.0     2\n",
       "7.4     1\n",
       "6.3     1\n",
       "7.2     1\n",
       "9.2     1\n",
       "9.3     1\n",
       "NaN     1\n",
       "6.7     1\n",
       "Name: Rating, dtype: int64"
      ]
     },
     "execution_count": 12,
     "metadata": {},
     "output_type": "execute_result"
    }
   ],
   "source": [
    "df.Rating.value_counts(dropna=False)"
   ]
  },
  {
   "cell_type": "code",
   "execution_count": 13,
   "metadata": {
    "deletable": false,
    "nbgrader": {
     "cell_type": "code",
     "checksum": "95353ca6ca5c3c0c7600c963855ad217",
     "grade": false,
     "grade_id": "cell-8ba8ad7caf991116",
     "locked": false,
     "schema_version": 3,
     "solution": true,
     "task": false
    }
   },
   "outputs": [
    {
     "data": {
      "text/html": [
       "<div>\n",
       "<style scoped>\n",
       "    .dataframe tbody tr th:only-of-type {\n",
       "        vertical-align: middle;\n",
       "    }\n",
       "\n",
       "    .dataframe tbody tr th {\n",
       "        vertical-align: top;\n",
       "    }\n",
       "\n",
       "    .dataframe thead th {\n",
       "        text-align: right;\n",
       "    }\n",
       "</style>\n",
       "<table border=\"1\" class=\"dataframe\">\n",
       "  <thead>\n",
       "    <tr style=\"text-align: right;\">\n",
       "      <th></th>\n",
       "      <th>Title</th>\n",
       "      <th>Year Released</th>\n",
       "      <th>Rating</th>\n",
       "      <th>Box Office ($M)</th>\n",
       "    </tr>\n",
       "  </thead>\n",
       "  <tbody>\n",
       "    <tr>\n",
       "      <th>34</th>\n",
       "      <td>12 Years a Slave</td>\n",
       "      <td>2013</td>\n",
       "      <td>NaN</td>\n",
       "      <td>187.7</td>\n",
       "    </tr>\n",
       "  </tbody>\n",
       "</table>\n",
       "</div>"
      ],
      "text/plain": [
       "               Title  Year Released  Rating  Box Office ($M)\n",
       "34  12 Years a Slave           2013     NaN            187.7"
      ]
     },
     "execution_count": 13,
     "metadata": {},
     "output_type": "execute_result"
    }
   ],
   "source": [
    "# Your code here\n",
    "\n",
    "mask2 = df[(df['Box Office ($M)'].isnull()) | (df['Rating'].isnull())]\n",
    "\n",
    "mask2"
   ]
  },
  {
   "cell_type": "code",
   "execution_count": 14,
   "metadata": {},
   "outputs": [
    {
     "data": {
      "text/plain": [
       "34    12 Years a Slave\n",
       "Name: Title, dtype: object"
      ]
     },
     "execution_count": 14,
     "metadata": {},
     "output_type": "execute_result"
    }
   ],
   "source": [
    "missing_info = pd.Series(mask2.Title)\n",
    "missing_info"
   ]
  },
  {
   "cell_type": "code",
   "execution_count": 15,
   "metadata": {
    "deletable": false,
    "editable": false,
    "nbgrader": {
     "cell_type": "code",
     "checksum": "1b0e539e268e7822c93019e06f4cc68d",
     "grade": true,
     "grade_id": "cell-116b0c6af8728013",
     "locked": true,
     "points": 1,
     "schema_version": 3,
     "solution": false,
     "task": false
    }
   },
   "outputs": [],
   "source": [
    "# Question 4 Grading Checks\n",
    "\n",
    "assert isinstance(missing_info, pd.Series), 'Did you create a Series called missing_info?'\n"
   ]
  },
  {
   "cell_type": "markdown",
   "metadata": {
    "deletable": false,
    "editable": false,
    "nbgrader": {
     "cell_type": "markdown",
     "checksum": "a92be1c4f318ad71a4680e8b915784e1",
     "grade": false,
     "grade_id": "cell-34305c0101ce5b60",
     "locked": true,
     "schema_version": 3,
     "solution": false,
     "task": false
    }
   },
   "source": [
    "#### Question 5\n",
    "\n",
    "Create a mask to select movies with a `Year Released` on or after 1990 and before 2000. Assign the resulting `Series` to a variable called `nineties_movies`.\n"
   ]
  },
  {
   "cell_type": "code",
   "execution_count": 16,
   "metadata": {
    "deletable": false,
    "nbgrader": {
     "cell_type": "code",
     "checksum": "38624412acdb912ef96c69da2b648eb7",
     "grade": false,
     "grade_id": "cell-df55f5c9ad83c843",
     "locked": false,
     "schema_version": 3,
     "solution": true,
     "task": false
    }
   },
   "outputs": [
    {
     "data": {
      "text/plain": [
       "0        The Shawshank Redemption\n",
       "3                    Pulp Fiction\n",
       "4                Schindler's List\n",
       "5                      Fight Club\n",
       "6                    Forrest Gump\n",
       "8                      The Matrix\n",
       "10       The Silence of the Lambs\n",
       "12                 The Green Mile\n",
       "16             The Usual Suspects\n",
       "17            Saving Private Ryan\n",
       "18                          Se7en\n",
       "21                        Titanic\n",
       "31        The Godfather: Part III\n",
       "32               The Big Lebowski\n",
       "41                  Jurassic Park\n",
       "45                  The Lion King\n",
       "60    Dilwale Dulhania Le Jayenge\n",
       "61             Kuch Kuch Hota Hai\n",
       "64                       Baazigar\n",
       "73               Dil To Pagal Hai\n",
       "Name: Title, dtype: object"
      ]
     },
     "execution_count": 16,
     "metadata": {},
     "output_type": "execute_result"
    }
   ],
   "source": [
    "# Your code here\n",
    "\n",
    "nineties_movies = df[(df['Year Released'] >= 1990) & (df['Year Released'] < 2000)]\n",
    "\n",
    "nineties_movies = pd.Series(nineties_movies.Title)\n",
    "\n",
    "nineties_movies"
   ]
  },
  {
   "cell_type": "code",
   "execution_count": 17,
   "metadata": {
    "deletable": false,
    "editable": false,
    "nbgrader": {
     "cell_type": "code",
     "checksum": "666f530b3cd0e063c45a363873db8be1",
     "grade": true,
     "grade_id": "cell-e5d74e9f20827ca2",
     "locked": true,
     "points": 1,
     "schema_version": 3,
     "solution": false,
     "task": false
    }
   },
   "outputs": [],
   "source": [
    "# Question 5 Grading Checks\n",
    "\n",
    "assert isinstance(nineties_movies, pd.Series), 'Did you create a Series called The nineties_movies mask it not quite correct?'\n"
   ]
  },
  {
   "cell_type": "markdown",
   "metadata": {
    "deletable": false,
    "editable": false,
    "nbgrader": {
     "cell_type": "markdown",
     "checksum": "f37c27d2f497365059d0f1e776274fd9",
     "grade": false,
     "grade_id": "cell-04f5e247d217363a",
     "locked": true,
     "schema_version": 3,
     "solution": false,
     "task": false
    }
   },
   "source": [
    "#### Question 6\n",
    "\n",
    "Create a mask to select movies with a `Year Released` before 1980 or after 2010. Assign the resulting `Series` to a variable called `other_movies`.\n"
   ]
  },
  {
   "cell_type": "code",
   "execution_count": 18,
   "metadata": {
    "deletable": false,
    "nbgrader": {
     "cell_type": "code",
     "checksum": "d213a5fe7eafd40b4b0f42d798c1b873",
     "grade": false,
     "grade_id": "cell-08af0bb5cdfbe5b5",
     "locked": false,
     "schema_version": 3,
     "solution": true,
     "task": false
    }
   },
   "outputs": [
    {
     "data": {
      "text/plain": [
       "1                   The Godfather\n",
       "13         The Godfather: Part II\n",
       "24                   The Revenant\n",
       "25               Django Unchained\n",
       "27                   Interstellar\n",
       "28       The Grand Budapest Hotel\n",
       "29                        Dunkirk\n",
       "33             The Shape of Water\n",
       "34               12 Years a Slave\n",
       "35                        Gravity\n",
       "36                     La La Land\n",
       "37              Blade Runner 2049\n",
       "38                   The Irishman\n",
       "39                       Parasite\n",
       "40               The Great Gatsby\n",
       "47                   The Avengers\n",
       "48                    The Martian\n",
       "49                  Black Panther\n",
       "51                             PK\n",
       "52                         Dangal\n",
       "53       Baahubali: The Beginning\n",
       "54    Baahubali 2: The Conclusion\n",
       "55              Bajrangi Bhaijaan\n",
       "56                         Sultan\n",
       "59                Chennai Express\n",
       "63                      Padmaavat\n",
       "68                         Sholay\n",
       "69                Mera Naam Joker\n",
       "70                      Andhadhun\n",
       "71                      Gully Boy\n",
       "Name: Title, dtype: object"
      ]
     },
     "execution_count": 18,
     "metadata": {},
     "output_type": "execute_result"
    }
   ],
   "source": [
    "# Your code here\n",
    "\n",
    "other_movies = df[(df['Year Released'] < 1980) | (df['Year Released'] > 2010)]\n",
    "\n",
    "other_movies = pd.Series(other_movies.Title)\n",
    "\n",
    "other_movies"
   ]
  },
  {
   "cell_type": "code",
   "execution_count": 19,
   "metadata": {
    "deletable": false,
    "editable": false,
    "nbgrader": {
     "cell_type": "code",
     "checksum": "1f86fd362009539fc89f59122007b016",
     "grade": true,
     "grade_id": "cell-18b1874a69cf9a52",
     "locked": true,
     "points": 1,
     "schema_version": 3,
     "solution": false,
     "task": false
    }
   },
   "outputs": [],
   "source": [
    "# Question 6 Grading Checks\n",
    "\n",
    "assert isinstance(other_movies, pd.Series), 'Did you create a Series called other_movies?'\n"
   ]
  }
 ],
 "metadata": {
  "kernelspec": {
   "display_name": "Python 3",
   "language": "python",
   "name": "python3"
  },
  "language_info": {
   "codemirror_mode": {
    "name": "ipython",
    "version": 3
   },
   "file_extension": ".py",
   "mimetype": "text/x-python",
   "name": "python",
   "nbconvert_exporter": "python",
   "pygments_lexer": "ipython3",
   "version": "3.7.6"
  }
 },
 "nbformat": 4,
 "nbformat_minor": 1
}
