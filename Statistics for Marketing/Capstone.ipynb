{
 "cells": [
  {
   "cell_type": "markdown",
   "metadata": {},
   "source": [
    "# Capstone Project"
   ]
  },
  {
   "cell_type": "markdown",
   "metadata": {},
   "source": [
    "***"
   ]
  },
  {
   "cell_type": "markdown",
   "metadata": {},
   "source": [
    "## Import Libraries"
   ]
  },
  {
   "cell_type": "code",
   "execution_count": 1,
   "metadata": {},
   "outputs": [
    {
     "data": {
      "application/javascript": [
       "IPython.notebook.set_autosave_interval(60000)"
      ]
     },
     "metadata": {},
     "output_type": "display_data"
    },
    {
     "name": "stdout",
     "output_type": "stream",
     "text": [
      "Autosaving every 60 seconds\n"
     ]
    }
   ],
   "source": [
    "import numpy as np\n",
    "from numpy import count_nonzero\n",
    "from numpy import median\n",
    "from numpy import mean\n",
    "import pandas as pd\n",
    "import matplotlib.pyplot as plt\n",
    "import seaborn as sns\n",
    "import plotly.express as px\n",
    "import random\n",
    "\n",
    "import statsmodels.api as sm\n",
    "import statsmodels.formula.api as smf\n",
    "from statsmodels.formula.api import ols\n",
    "\n",
    "import datetime\n",
    "from datetime import datetime, timedelta\n",
    "\n",
    "\n",
    "import scipy.stats\n",
    "\n",
    "%matplotlib inline\n",
    "#sets the default autosave frequency in seconds\n",
    "%autosave 60 \n",
    "sns.set_style('dark')\n",
    "sns.set(font_scale=1.2)\n",
    "\n",
    "plt.rc('axes', titlesize=9)\n",
    "plt.rc('axes', labelsize=14)\n",
    "plt.rc('xtick', labelsize=12)\n",
    "plt.rc('ytick', labelsize=12)\n",
    "\n",
    "import warnings\n",
    "warnings.filterwarnings('ignore')\n",
    "\n",
    "from sklearn.linear_model import LinearRegression\n",
    "from sklearn.model_selection import train_test_split\n",
    "from sklearn.metrics import mean_squared_error, r2_score\n",
    "\n",
    "# Use Feature-Engine library\n",
    "import feature_engine\n",
    "#import feature_engine.missing_data_imputers as mdi\n",
    "#from feature_engine.outlier_removers import Winsorizer\n",
    "#from feature_engine import categorical_encoders as ce\n",
    "from feature_engine.discretisation import EqualWidthDiscretiser, EqualFrequencyDiscretiser, DecisionTreeDiscretiser\n",
    "#from feature_engine.encoding import OrdinalEncoder\n",
    "\n",
    "pd.set_option('display.max_columns',None)\n",
    "#pd.set_option('display.max_rows',None)\n",
    "pd.set_option('display.width', 1000)\n",
    "pd.set_option('display.float_format','{:.2f}'.format)\n",
    "\n",
    "random.seed(0)\n",
    "np.random.seed(0)\n",
    "np.set_printoptions(suppress=True)"
   ]
  },
  {
   "cell_type": "markdown",
   "metadata": {},
   "source": [
    "## Week 1: Getting to Know the Data"
   ]
  },
  {
   "cell_type": "markdown",
   "metadata": {},
   "source": [
    "## Exploratory Data Analysis"
   ]
  },
  {
   "cell_type": "code",
   "execution_count": 2,
   "metadata": {},
   "outputs": [],
   "source": [
    "df = pd.read_csv(\"ad.csv\", parse_dates=[\"Date\"])"
   ]
  },
  {
   "cell_type": "code",
   "execution_count": 3,
   "metadata": {},
   "outputs": [
    {
     "data": {
      "text/html": [
       "<div>\n",
       "<style scoped>\n",
       "    .dataframe tbody tr th:only-of-type {\n",
       "        vertical-align: middle;\n",
       "    }\n",
       "\n",
       "    .dataframe tbody tr th {\n",
       "        vertical-align: top;\n",
       "    }\n",
       "\n",
       "    .dataframe thead th {\n",
       "        text-align: right;\n",
       "    }\n",
       "</style>\n",
       "<table border=\"1\" class=\"dataframe\">\n",
       "  <thead>\n",
       "    <tr style=\"text-align: right;\">\n",
       "      <th></th>\n",
       "      <th>Date</th>\n",
       "      <th>FacebookAdCampaign</th>\n",
       "      <th>FacebookAdViews</th>\n",
       "      <th>FacebookAdClicks</th>\n",
       "      <th>FacebookAdConversions</th>\n",
       "      <th>CostperFacebookAd</th>\n",
       "      <th>FacebookClickThroughRate</th>\n",
       "      <th>FacebookConversionRate</th>\n",
       "      <th>FacebookCostperClick</th>\n",
       "      <th>AdwareAdCampaign</th>\n",
       "      <th>AdwareAdViews</th>\n",
       "      <th>AdwareAdClicks</th>\n",
       "      <th>AdwareAdConversions</th>\n",
       "      <th>CostperAdwareAd</th>\n",
       "      <th>AdwareClickThroughRate</th>\n",
       "      <th>AdwareConversionRate</th>\n",
       "      <th>AdwareCostperClick</th>\n",
       "    </tr>\n",
       "  </thead>\n",
       "  <tbody>\n",
       "    <tr>\n",
       "      <th>0</th>\n",
       "      <td>2019-01-01</td>\n",
       "      <td>FB_Jan19</td>\n",
       "      <td>2116</td>\n",
       "      <td>18</td>\n",
       "      <td>8</td>\n",
       "      <td>126</td>\n",
       "      <td>0.01</td>\n",
       "      <td>0.43</td>\n",
       "      <td>7.14</td>\n",
       "      <td>AW_Jan19</td>\n",
       "      <td>4984</td>\n",
       "      <td>59</td>\n",
       "      <td>5</td>\n",
       "      <td>194</td>\n",
       "      <td>0.01</td>\n",
       "      <td>0.08</td>\n",
       "      <td>3.30</td>\n",
       "    </tr>\n",
       "    <tr>\n",
       "      <th>1</th>\n",
       "      <td>2019-01-02</td>\n",
       "      <td>FB_Jan19</td>\n",
       "      <td>3106</td>\n",
       "      <td>36</td>\n",
       "      <td>12</td>\n",
       "      <td>104</td>\n",
       "      <td>0.01</td>\n",
       "      <td>0.34</td>\n",
       "      <td>2.91</td>\n",
       "      <td>AW_Jan19</td>\n",
       "      <td>4022</td>\n",
       "      <td>71</td>\n",
       "      <td>6</td>\n",
       "      <td>75</td>\n",
       "      <td>0.02</td>\n",
       "      <td>0.08</td>\n",
       "      <td>1.05</td>\n",
       "    </tr>\n",
       "    <tr>\n",
       "      <th>2</th>\n",
       "      <td>2019-01-03</td>\n",
       "      <td>FB_Jan19</td>\n",
       "      <td>3105</td>\n",
       "      <td>26</td>\n",
       "      <td>8</td>\n",
       "      <td>102</td>\n",
       "      <td>0.01</td>\n",
       "      <td>0.31</td>\n",
       "      <td>3.89</td>\n",
       "      <td>AW_Jan19</td>\n",
       "      <td>3863</td>\n",
       "      <td>44</td>\n",
       "      <td>4</td>\n",
       "      <td>141</td>\n",
       "      <td>0.01</td>\n",
       "      <td>0.10</td>\n",
       "      <td>3.23</td>\n",
       "    </tr>\n",
       "    <tr>\n",
       "      <th>3</th>\n",
       "      <td>2019-01-04</td>\n",
       "      <td>FB_Jan19</td>\n",
       "      <td>1107</td>\n",
       "      <td>27</td>\n",
       "      <td>9</td>\n",
       "      <td>71</td>\n",
       "      <td>0.02</td>\n",
       "      <td>0.35</td>\n",
       "      <td>2.62</td>\n",
       "      <td>AW_Jan19</td>\n",
       "      <td>3911</td>\n",
       "      <td>49</td>\n",
       "      <td>5</td>\n",
       "      <td>141</td>\n",
       "      <td>0.01</td>\n",
       "      <td>0.11</td>\n",
       "      <td>2.86</td>\n",
       "    </tr>\n",
       "    <tr>\n",
       "      <th>4</th>\n",
       "      <td>2019-01-05</td>\n",
       "      <td>FB_Jan19</td>\n",
       "      <td>1317</td>\n",
       "      <td>15</td>\n",
       "      <td>7</td>\n",
       "      <td>78</td>\n",
       "      <td>0.01</td>\n",
       "      <td>0.48</td>\n",
       "      <td>5.38</td>\n",
       "      <td>AW_Jan19</td>\n",
       "      <td>4070</td>\n",
       "      <td>55</td>\n",
       "      <td>7</td>\n",
       "      <td>133</td>\n",
       "      <td>0.01</td>\n",
       "      <td>0.12</td>\n",
       "      <td>2.40</td>\n",
       "    </tr>\n",
       "    <tr>\n",
       "      <th>...</th>\n",
       "      <td>...</td>\n",
       "      <td>...</td>\n",
       "      <td>...</td>\n",
       "      <td>...</td>\n",
       "      <td>...</td>\n",
       "      <td>...</td>\n",
       "      <td>...</td>\n",
       "      <td>...</td>\n",
       "      <td>...</td>\n",
       "      <td>...</td>\n",
       "      <td>...</td>\n",
       "      <td>...</td>\n",
       "      <td>...</td>\n",
       "      <td>...</td>\n",
       "      <td>...</td>\n",
       "      <td>...</td>\n",
       "      <td>...</td>\n",
       "    </tr>\n",
       "    <tr>\n",
       "      <th>360</th>\n",
       "      <td>2019-12-27</td>\n",
       "      <td>FB_Dec19</td>\n",
       "      <td>3240</td>\n",
       "      <td>51</td>\n",
       "      <td>13</td>\n",
       "      <td>63</td>\n",
       "      <td>0.02</td>\n",
       "      <td>0.26</td>\n",
       "      <td>1.24</td>\n",
       "      <td>AW_Dec19</td>\n",
       "      <td>5332</td>\n",
       "      <td>72</td>\n",
       "      <td>9</td>\n",
       "      <td>76</td>\n",
       "      <td>0.01</td>\n",
       "      <td>0.12</td>\n",
       "      <td>1.06</td>\n",
       "    </tr>\n",
       "    <tr>\n",
       "      <th>361</th>\n",
       "      <td>2019-12-28</td>\n",
       "      <td>FB_Dec19</td>\n",
       "      <td>1510</td>\n",
       "      <td>69</td>\n",
       "      <td>18</td>\n",
       "      <td>97</td>\n",
       "      <td>0.05</td>\n",
       "      <td>0.26</td>\n",
       "      <td>1.42</td>\n",
       "      <td>AW_Dec19</td>\n",
       "      <td>3887</td>\n",
       "      <td>49</td>\n",
       "      <td>6</td>\n",
       "      <td>121</td>\n",
       "      <td>0.01</td>\n",
       "      <td>0.13</td>\n",
       "      <td>2.46</td>\n",
       "    </tr>\n",
       "    <tr>\n",
       "      <th>362</th>\n",
       "      <td>2019-12-29</td>\n",
       "      <td>FB_Dec19</td>\n",
       "      <td>2918</td>\n",
       "      <td>44</td>\n",
       "      <td>13</td>\n",
       "      <td>49</td>\n",
       "      <td>0.01</td>\n",
       "      <td>0.29</td>\n",
       "      <td>1.11</td>\n",
       "      <td>AW_Dec19</td>\n",
       "      <td>5327</td>\n",
       "      <td>62</td>\n",
       "      <td>6</td>\n",
       "      <td>128</td>\n",
       "      <td>0.01</td>\n",
       "      <td>0.10</td>\n",
       "      <td>2.08</td>\n",
       "    </tr>\n",
       "    <tr>\n",
       "      <th>363</th>\n",
       "      <td>2019-12-30</td>\n",
       "      <td>FB_Dec19</td>\n",
       "      <td>2212</td>\n",
       "      <td>37</td>\n",
       "      <td>8</td>\n",
       "      <td>102</td>\n",
       "      <td>0.02</td>\n",
       "      <td>0.23</td>\n",
       "      <td>2.75</td>\n",
       "      <td>AW_Dec19</td>\n",
       "      <td>4020</td>\n",
       "      <td>71</td>\n",
       "      <td>6</td>\n",
       "      <td>119</td>\n",
       "      <td>0.02</td>\n",
       "      <td>0.08</td>\n",
       "      <td>1.68</td>\n",
       "    </tr>\n",
       "    <tr>\n",
       "      <th>364</th>\n",
       "      <td>2019-12-31</td>\n",
       "      <td>FB_Dec19</td>\n",
       "      <td>1470</td>\n",
       "      <td>60</td>\n",
       "      <td>17</td>\n",
       "      <td>99</td>\n",
       "      <td>0.04</td>\n",
       "      <td>0.28</td>\n",
       "      <td>1.65</td>\n",
       "      <td>AW_Dec19</td>\n",
       "      <td>4592</td>\n",
       "      <td>47</td>\n",
       "      <td>6</td>\n",
       "      <td>86</td>\n",
       "      <td>0.01</td>\n",
       "      <td>0.14</td>\n",
       "      <td>1.85</td>\n",
       "    </tr>\n",
       "  </tbody>\n",
       "</table>\n",
       "<p>365 rows × 17 columns</p>\n",
       "</div>"
      ],
      "text/plain": [
       "          Date FacebookAdCampaign  FacebookAdViews  FacebookAdClicks  FacebookAdConversions  CostperFacebookAd  FacebookClickThroughRate  FacebookConversionRate  FacebookCostperClick AdwareAdCampaign  AdwareAdViews  AdwareAdClicks  AdwareAdConversions  CostperAdwareAd  AdwareClickThroughRate  AdwareConversionRate  AdwareCostperClick\n",
       "0   2019-01-01           FB_Jan19             2116                18                      8                126                      0.01                    0.43                  7.14         AW_Jan19           4984              59                    5              194                    0.01                  0.08                3.30\n",
       "1   2019-01-02           FB_Jan19             3106                36                     12                104                      0.01                    0.34                  2.91         AW_Jan19           4022              71                    6               75                    0.02                  0.08                1.05\n",
       "2   2019-01-03           FB_Jan19             3105                26                      8                102                      0.01                    0.31                  3.89         AW_Jan19           3863              44                    4              141                    0.01                  0.10                3.23\n",
       "3   2019-01-04           FB_Jan19             1107                27                      9                 71                      0.02                    0.35                  2.62         AW_Jan19           3911              49                    5              141                    0.01                  0.11                2.86\n",
       "4   2019-01-05           FB_Jan19             1317                15                      7                 78                      0.01                    0.48                  5.38         AW_Jan19           4070              55                    7              133                    0.01                  0.12                2.40\n",
       "..         ...                ...              ...               ...                    ...                ...                       ...                     ...                   ...              ...            ...             ...                  ...              ...                     ...                   ...                 ...\n",
       "360 2019-12-27           FB_Dec19             3240                51                     13                 63                      0.02                    0.26                  1.24         AW_Dec19           5332              72                    9               76                    0.01                  0.12                1.06\n",
       "361 2019-12-28           FB_Dec19             1510                69                     18                 97                      0.05                    0.26                  1.42         AW_Dec19           3887              49                    6              121                    0.01                  0.13                2.46\n",
       "362 2019-12-29           FB_Dec19             2918                44                     13                 49                      0.01                    0.29                  1.11         AW_Dec19           5327              62                    6              128                    0.01                  0.10                2.08\n",
       "363 2019-12-30           FB_Dec19             2212                37                      8                102                      0.02                    0.23                  2.75         AW_Dec19           4020              71                    6              119                    0.02                  0.08                1.68\n",
       "364 2019-12-31           FB_Dec19             1470                60                     17                 99                      0.04                    0.28                  1.65         AW_Dec19           4592              47                    6               86                    0.01                  0.14                1.85\n",
       "\n",
       "[365 rows x 17 columns]"
      ]
     },
     "execution_count": 3,
     "metadata": {},
     "output_type": "execute_result"
    }
   ],
   "source": [
    "df"
   ]
  },
  {
   "cell_type": "code",
   "execution_count": 4,
   "metadata": {},
   "outputs": [
    {
     "name": "stdout",
     "output_type": "stream",
     "text": [
      "<class 'pandas.core.frame.DataFrame'>\n",
      "RangeIndex: 365 entries, 0 to 364\n",
      "Data columns (total 17 columns):\n",
      " #   Column                    Non-Null Count  Dtype         \n",
      "---  ------                    --------------  -----         \n",
      " 0   Date                      365 non-null    datetime64[ns]\n",
      " 1   FacebookAdCampaign        365 non-null    object        \n",
      " 2   FacebookAdViews           365 non-null    int64         \n",
      " 3   FacebookAdClicks          365 non-null    int64         \n",
      " 4   FacebookAdConversions     365 non-null    int64         \n",
      " 5   CostperFacebookAd         365 non-null    int64         \n",
      " 6   FacebookClickThroughRate  365 non-null    float64       \n",
      " 7   FacebookConversionRate    365 non-null    float64       \n",
      " 8   FacebookCostperClick      365 non-null    float64       \n",
      " 9   AdwareAdCampaign          365 non-null    object        \n",
      " 10  AdwareAdViews             365 non-null    int64         \n",
      " 11  AdwareAdClicks            365 non-null    int64         \n",
      " 12  AdwareAdConversions       365 non-null    int64         \n",
      " 13  CostperAdwareAd           365 non-null    int64         \n",
      " 14  AdwareClickThroughRate    365 non-null    float64       \n",
      " 15  AdwareConversionRate      365 non-null    float64       \n",
      " 16  AdwareCostperClick        365 non-null    float64       \n",
      "dtypes: datetime64[ns](1), float64(6), int64(8), object(2)\n",
      "memory usage: 48.6+ KB\n"
     ]
    }
   ],
   "source": [
    "df.info()"
   ]
  },
  {
   "cell_type": "code",
   "execution_count": 5,
   "metadata": {},
   "outputs": [
    {
     "data": {
      "text/html": [
       "<div>\n",
       "<style scoped>\n",
       "    .dataframe tbody tr th:only-of-type {\n",
       "        vertical-align: middle;\n",
       "    }\n",
       "\n",
       "    .dataframe tbody tr th {\n",
       "        vertical-align: top;\n",
       "    }\n",
       "\n",
       "    .dataframe thead th {\n",
       "        text-align: right;\n",
       "    }\n",
       "</style>\n",
       "<table border=\"1\" class=\"dataframe\">\n",
       "  <thead>\n",
       "    <tr style=\"text-align: right;\">\n",
       "      <th></th>\n",
       "      <th>FacebookAdViews</th>\n",
       "      <th>FacebookAdClicks</th>\n",
       "      <th>FacebookAdConversions</th>\n",
       "      <th>CostperFacebookAd</th>\n",
       "      <th>FacebookClickThroughRate</th>\n",
       "      <th>FacebookConversionRate</th>\n",
       "      <th>FacebookCostperClick</th>\n",
       "      <th>AdwareAdViews</th>\n",
       "      <th>AdwareAdClicks</th>\n",
       "      <th>AdwareAdConversions</th>\n",
       "      <th>CostperAdwareAd</th>\n",
       "      <th>AdwareClickThroughRate</th>\n",
       "      <th>AdwareConversionRate</th>\n",
       "      <th>AdwareCostperClick</th>\n",
       "    </tr>\n",
       "  </thead>\n",
       "  <tbody>\n",
       "    <tr>\n",
       "      <th>count</th>\n",
       "      <td>365.00</td>\n",
       "      <td>365.00</td>\n",
       "      <td>365.00</td>\n",
       "      <td>365.00</td>\n",
       "      <td>365.00</td>\n",
       "      <td>365.00</td>\n",
       "      <td>365.00</td>\n",
       "      <td>365.00</td>\n",
       "      <td>365.00</td>\n",
       "      <td>365.00</td>\n",
       "      <td>365.00</td>\n",
       "      <td>365.00</td>\n",
       "      <td>365.00</td>\n",
       "      <td>365.00</td>\n",
       "    </tr>\n",
       "    <tr>\n",
       "      <th>mean</th>\n",
       "      <td>2179.69</td>\n",
       "      <td>44.05</td>\n",
       "      <td>11.74</td>\n",
       "      <td>87.78</td>\n",
       "      <td>0.02</td>\n",
       "      <td>0.27</td>\n",
       "      <td>2.19</td>\n",
       "      <td>4717.20</td>\n",
       "      <td>60.38</td>\n",
       "      <td>5.98</td>\n",
       "      <td>134.98</td>\n",
       "      <td>0.01</td>\n",
       "      <td>0.10</td>\n",
       "      <td>2.38</td>\n",
       "    </tr>\n",
       "    <tr>\n",
       "      <th>std</th>\n",
       "      <td>618.07</td>\n",
       "      <td>12.14</td>\n",
       "      <td>2.92</td>\n",
       "      <td>28.26</td>\n",
       "      <td>0.01</td>\n",
       "      <td>0.04</td>\n",
       "      <td>1.04</td>\n",
       "      <td>561.11</td>\n",
       "      <td>14.37</td>\n",
       "      <td>1.63</td>\n",
       "      <td>32.34</td>\n",
       "      <td>0.00</td>\n",
       "      <td>0.03</td>\n",
       "      <td>0.86</td>\n",
       "    </tr>\n",
       "    <tr>\n",
       "      <th>min</th>\n",
       "      <td>1050.00</td>\n",
       "      <td>15.00</td>\n",
       "      <td>5.00</td>\n",
       "      <td>34.00</td>\n",
       "      <td>0.01</td>\n",
       "      <td>0.21</td>\n",
       "      <td>0.61</td>\n",
       "      <td>3714.00</td>\n",
       "      <td>31.00</td>\n",
       "      <td>3.00</td>\n",
       "      <td>73.00</td>\n",
       "      <td>0.01</td>\n",
       "      <td>0.06</td>\n",
       "      <td>0.85</td>\n",
       "    </tr>\n",
       "    <tr>\n",
       "      <th>25%</th>\n",
       "      <td>1656.00</td>\n",
       "      <td>35.00</td>\n",
       "      <td>10.00</td>\n",
       "      <td>63.00</td>\n",
       "      <td>0.01</td>\n",
       "      <td>0.24</td>\n",
       "      <td>1.41</td>\n",
       "      <td>4247.00</td>\n",
       "      <td>49.00</td>\n",
       "      <td>5.00</td>\n",
       "      <td>110.00</td>\n",
       "      <td>0.01</td>\n",
       "      <td>0.08</td>\n",
       "      <td>1.76</td>\n",
       "    </tr>\n",
       "    <tr>\n",
       "      <th>50%</th>\n",
       "      <td>2202.00</td>\n",
       "      <td>43.00</td>\n",
       "      <td>12.00</td>\n",
       "      <td>88.00</td>\n",
       "      <td>0.02</td>\n",
       "      <td>0.27</td>\n",
       "      <td>2.02</td>\n",
       "      <td>4711.00</td>\n",
       "      <td>60.00</td>\n",
       "      <td>6.00</td>\n",
       "      <td>135.00</td>\n",
       "      <td>0.01</td>\n",
       "      <td>0.10</td>\n",
       "      <td>2.29</td>\n",
       "    </tr>\n",
       "    <tr>\n",
       "      <th>75%</th>\n",
       "      <td>2717.00</td>\n",
       "      <td>54.00</td>\n",
       "      <td>13.00</td>\n",
       "      <td>111.00</td>\n",
       "      <td>0.03</td>\n",
       "      <td>0.29</td>\n",
       "      <td>2.76</td>\n",
       "      <td>5190.00</td>\n",
       "      <td>73.00</td>\n",
       "      <td>7.00</td>\n",
       "      <td>162.00</td>\n",
       "      <td>0.02</td>\n",
       "      <td>0.12</td>\n",
       "      <td>2.81</td>\n",
       "    </tr>\n",
       "    <tr>\n",
       "      <th>max</th>\n",
       "      <td>3320.00</td>\n",
       "      <td>73.00</td>\n",
       "      <td>19.00</td>\n",
       "      <td>144.00</td>\n",
       "      <td>0.05</td>\n",
       "      <td>0.48</td>\n",
       "      <td>7.14</td>\n",
       "      <td>5760.00</td>\n",
       "      <td>89.00</td>\n",
       "      <td>9.00</td>\n",
       "      <td>197.00</td>\n",
       "      <td>0.02</td>\n",
       "      <td>0.20</td>\n",
       "      <td>5.65</td>\n",
       "    </tr>\n",
       "  </tbody>\n",
       "</table>\n",
       "</div>"
      ],
      "text/plain": [
       "       FacebookAdViews  FacebookAdClicks  FacebookAdConversions  CostperFacebookAd  FacebookClickThroughRate  FacebookConversionRate  FacebookCostperClick  AdwareAdViews  AdwareAdClicks  AdwareAdConversions  CostperAdwareAd  AdwareClickThroughRate  AdwareConversionRate  AdwareCostperClick\n",
       "count           365.00            365.00                 365.00             365.00                    365.00                  365.00                365.00         365.00          365.00               365.00           365.00                  365.00                365.00              365.00\n",
       "mean           2179.69             44.05                  11.74              87.78                      0.02                    0.27                  2.19        4717.20           60.38                 5.98           134.98                    0.01                  0.10                2.38\n",
       "std             618.07             12.14                   2.92              28.26                      0.01                    0.04                  1.04         561.11           14.37                 1.63            32.34                    0.00                  0.03                0.86\n",
       "min            1050.00             15.00                   5.00              34.00                      0.01                    0.21                  0.61        3714.00           31.00                 3.00            73.00                    0.01                  0.06                0.85\n",
       "25%            1656.00             35.00                  10.00              63.00                      0.01                    0.24                  1.41        4247.00           49.00                 5.00           110.00                    0.01                  0.08                1.76\n",
       "50%            2202.00             43.00                  12.00              88.00                      0.02                    0.27                  2.02        4711.00           60.00                 6.00           135.00                    0.01                  0.10                2.29\n",
       "75%            2717.00             54.00                  13.00             111.00                      0.03                    0.29                  2.76        5190.00           73.00                 7.00           162.00                    0.02                  0.12                2.81\n",
       "max            3320.00             73.00                  19.00             144.00                      0.05                    0.48                  7.14        5760.00           89.00                 9.00           197.00                    0.02                  0.20                5.65"
      ]
     },
     "execution_count": 5,
     "metadata": {},
     "output_type": "execute_result"
    }
   ],
   "source": [
    "df.describe()"
   ]
  },
  {
   "cell_type": "code",
   "execution_count": 6,
   "metadata": {},
   "outputs": [
    {
     "data": {
      "text/plain": [
       "Index(['Date', 'FacebookAdCampaign', 'FacebookAdViews', 'FacebookAdClicks', 'FacebookAdConversions', 'CostperFacebookAd', 'FacebookClickThroughRate', 'FacebookConversionRate', 'FacebookCostperClick', 'AdwareAdCampaign', 'AdwareAdViews', 'AdwareAdClicks', 'AdwareAdConversions', 'CostperAdwareAd', 'AdwareClickThroughRate', 'AdwareConversionRate', 'AdwareCostperClick'], dtype='object')"
      ]
     },
     "execution_count": 6,
     "metadata": {},
     "output_type": "execute_result"
    }
   ],
   "source": [
    "df.columns"
   ]
  },
  {
   "cell_type": "markdown",
   "metadata": {},
   "source": [
    "### 1. Calculate Measures of Central Tendency\n",
    "\n",
    "Note: for your Capstone Week 1 assignment, you are doing these calculations for “AdWords Ad Clicks” and “AdWords Ad Conversions.”"
   ]
  },
  {
   "cell_type": "code",
   "execution_count": 7,
   "metadata": {},
   "outputs": [
    {
     "data": {
      "text/plain": [
       "count   365.00\n",
       "mean     60.38\n",
       "std      14.37\n",
       "min      31.00\n",
       "25%      49.00\n",
       "50%      60.00\n",
       "75%      73.00\n",
       "max      89.00\n",
       "Name: AdwareAdClicks, dtype: float64"
      ]
     },
     "execution_count": 7,
     "metadata": {},
     "output_type": "execute_result"
    }
   ],
   "source": [
    "df['AdwareAdClicks'].describe(include='all')"
   ]
  },
  {
   "cell_type": "code",
   "execution_count": 8,
   "metadata": {},
   "outputs": [
    {
     "data": {
      "text/plain": [
       "0    78\n",
       "dtype: int64"
      ]
     },
     "execution_count": 8,
     "metadata": {},
     "output_type": "execute_result"
    }
   ],
   "source": [
    "df['AdwareAdClicks'].mode()"
   ]
  },
  {
   "cell_type": "code",
   "execution_count": 9,
   "metadata": {},
   "outputs": [
    {
     "data": {
      "text/plain": [
       "count   365.00\n",
       "mean      5.98\n",
       "std       1.63\n",
       "min       3.00\n",
       "25%       5.00\n",
       "50%       6.00\n",
       "75%       7.00\n",
       "max       9.00\n",
       "Name: AdwareAdConversions, dtype: float64"
      ]
     },
     "execution_count": 9,
     "metadata": {},
     "output_type": "execute_result"
    }
   ],
   "source": [
    "df['AdwareAdConversions'].describe()"
   ]
  },
  {
   "cell_type": "code",
   "execution_count": 10,
   "metadata": {},
   "outputs": [
    {
     "data": {
      "text/plain": [
       "0    5\n",
       "dtype: int64"
      ]
     },
     "execution_count": 10,
     "metadata": {},
     "output_type": "execute_result"
    }
   ],
   "source": [
    "df['AdwareAdConversions'].mode()"
   ]
  },
  {
   "cell_type": "markdown",
   "metadata": {},
   "source": [
    "### 2. Calculate the Standard Deviations"
   ]
  },
  {
   "cell_type": "markdown",
   "metadata": {},
   "source": [
    "### 3. Create a Frequency Table for Conversions; Analyze the Correlation between Clicks and Conversions"
   ]
  },
  {
   "cell_type": "code",
   "execution_count": 11,
   "metadata": {},
   "outputs": [
    {
     "data": {
      "text/plain": [
       "Index(['Date', 'FacebookAdCampaign', 'FacebookAdViews', 'FacebookAdClicks', 'FacebookAdConversions', 'CostperFacebookAd', 'FacebookClickThroughRate', 'FacebookConversionRate', 'FacebookCostperClick', 'AdwareAdCampaign', 'AdwareAdViews', 'AdwareAdClicks', 'AdwareAdConversions', 'CostperAdwareAd', 'AdwareClickThroughRate', 'AdwareConversionRate', 'AdwareCostperClick'], dtype='object')"
      ]
     },
     "execution_count": 11,
     "metadata": {},
     "output_type": "execute_result"
    }
   ],
   "source": [
    "df.columns"
   ]
  },
  {
   "cell_type": "code",
   "execution_count": 12,
   "metadata": {},
   "outputs": [
    {
     "data": {
      "text/plain": [
       "3    22\n",
       "4    50\n",
       "5    84\n",
       "6    62\n",
       "7    75\n",
       "8    48\n",
       "9    24\n",
       "Name: AdwareAdConversions, dtype: int64"
      ]
     },
     "execution_count": 12,
     "metadata": {},
     "output_type": "execute_result"
    }
   ],
   "source": [
    "df[\"AdwareAdConversions\"].value_counts(sort=False)"
   ]
  },
  {
   "cell_type": "code",
   "execution_count": 13,
   "metadata": {},
   "outputs": [],
   "source": [
    "my_tab = pd.crosstab(index=df[\"AdwareAdConversions\"], columns=[\"Count\"])"
   ]
  },
  {
   "cell_type": "code",
   "execution_count": 14,
   "metadata": {},
   "outputs": [
    {
     "data": {
      "text/html": [
       "<div>\n",
       "<style scoped>\n",
       "    .dataframe tbody tr th:only-of-type {\n",
       "        vertical-align: middle;\n",
       "    }\n",
       "\n",
       "    .dataframe tbody tr th {\n",
       "        vertical-align: top;\n",
       "    }\n",
       "\n",
       "    .dataframe thead th {\n",
       "        text-align: right;\n",
       "    }\n",
       "</style>\n",
       "<table border=\"1\" class=\"dataframe\">\n",
       "  <thead>\n",
       "    <tr style=\"text-align: right;\">\n",
       "      <th>col_0</th>\n",
       "      <th>Count</th>\n",
       "    </tr>\n",
       "    <tr>\n",
       "      <th>AdwareAdConversions</th>\n",
       "      <th></th>\n",
       "    </tr>\n",
       "  </thead>\n",
       "  <tbody>\n",
       "    <tr>\n",
       "      <th>3</th>\n",
       "      <td>22</td>\n",
       "    </tr>\n",
       "    <tr>\n",
       "      <th>4</th>\n",
       "      <td>50</td>\n",
       "    </tr>\n",
       "    <tr>\n",
       "      <th>5</th>\n",
       "      <td>84</td>\n",
       "    </tr>\n",
       "    <tr>\n",
       "      <th>6</th>\n",
       "      <td>62</td>\n",
       "    </tr>\n",
       "    <tr>\n",
       "      <th>7</th>\n",
       "      <td>75</td>\n",
       "    </tr>\n",
       "    <tr>\n",
       "      <th>8</th>\n",
       "      <td>48</td>\n",
       "    </tr>\n",
       "    <tr>\n",
       "      <th>9</th>\n",
       "      <td>24</td>\n",
       "    </tr>\n",
       "  </tbody>\n",
       "</table>\n",
       "</div>"
      ],
      "text/plain": [
       "col_0                Count\n",
       "AdwareAdConversions       \n",
       "3                       22\n",
       "4                       50\n",
       "5                       84\n",
       "6                       62\n",
       "7                       75\n",
       "8                       48\n",
       "9                       24"
      ]
     },
     "execution_count": 14,
     "metadata": {},
     "output_type": "execute_result"
    }
   ],
   "source": [
    "my_tab"
   ]
  },
  {
   "cell_type": "code",
   "execution_count": 15,
   "metadata": {},
   "outputs": [],
   "source": [
    "my_tab.reset_index(inplace=True)"
   ]
  },
  {
   "cell_type": "code",
   "execution_count": 16,
   "metadata": {},
   "outputs": [
    {
     "data": {
      "text/html": [
       "<div>\n",
       "<style scoped>\n",
       "    .dataframe tbody tr th:only-of-type {\n",
       "        vertical-align: middle;\n",
       "    }\n",
       "\n",
       "    .dataframe tbody tr th {\n",
       "        vertical-align: top;\n",
       "    }\n",
       "\n",
       "    .dataframe thead th {\n",
       "        text-align: right;\n",
       "    }\n",
       "</style>\n",
       "<table border=\"1\" class=\"dataframe\">\n",
       "  <thead>\n",
       "    <tr style=\"text-align: right;\">\n",
       "      <th>col_0</th>\n",
       "      <th>AdwareAdConversions</th>\n",
       "      <th>Count</th>\n",
       "    </tr>\n",
       "  </thead>\n",
       "  <tbody>\n",
       "    <tr>\n",
       "      <th>0</th>\n",
       "      <td>3</td>\n",
       "      <td>22</td>\n",
       "    </tr>\n",
       "    <tr>\n",
       "      <th>1</th>\n",
       "      <td>4</td>\n",
       "      <td>50</td>\n",
       "    </tr>\n",
       "    <tr>\n",
       "      <th>2</th>\n",
       "      <td>5</td>\n",
       "      <td>84</td>\n",
       "    </tr>\n",
       "    <tr>\n",
       "      <th>3</th>\n",
       "      <td>6</td>\n",
       "      <td>62</td>\n",
       "    </tr>\n",
       "    <tr>\n",
       "      <th>4</th>\n",
       "      <td>7</td>\n",
       "      <td>75</td>\n",
       "    </tr>\n",
       "    <tr>\n",
       "      <th>5</th>\n",
       "      <td>8</td>\n",
       "      <td>48</td>\n",
       "    </tr>\n",
       "    <tr>\n",
       "      <th>6</th>\n",
       "      <td>9</td>\n",
       "      <td>24</td>\n",
       "    </tr>\n",
       "  </tbody>\n",
       "</table>\n",
       "</div>"
      ],
      "text/plain": [
       "col_0  AdwareAdConversions  Count\n",
       "0                        3     22\n",
       "1                        4     50\n",
       "2                        5     84\n",
       "3                        6     62\n",
       "4                        7     75\n",
       "5                        8     48\n",
       "6                        9     24"
      ]
     },
     "execution_count": 16,
     "metadata": {},
     "output_type": "execute_result"
    }
   ],
   "source": [
    "my_tab"
   ]
  },
  {
   "cell_type": "code",
   "execution_count": 17,
   "metadata": {},
   "outputs": [],
   "source": [
    "# create a list of our conditions\n",
    "conditions = [\n",
    "    (df['AdwareAdConversions'] < 6),\n",
    "    (df['AdwareAdConversions'] >= 6) & (df['AdwareAdConversions'] <= 10),\n",
    "    (df['AdwareAdConversions'] > 10) & (df['AdwareAdConversions'] <= 15),\n",
    "    (df['AdwareAdConversions'] > 15)\n",
    "    ]"
   ]
  },
  {
   "cell_type": "code",
   "execution_count": 18,
   "metadata": {},
   "outputs": [],
   "source": [
    "values = ['1 to 5', '6 to 10', '11 to 15', '16+']"
   ]
  },
  {
   "cell_type": "code",
   "execution_count": 19,
   "metadata": {},
   "outputs": [],
   "source": [
    "# create a new column and use np.select to assign values to it using our lists as arguments\n",
    "df['Number of Occurances'] = np.select(conditions, values)"
   ]
  },
  {
   "cell_type": "code",
   "execution_count": 20,
   "metadata": {},
   "outputs": [
    {
     "data": {
      "text/html": [
       "<div>\n",
       "<style scoped>\n",
       "    .dataframe tbody tr th:only-of-type {\n",
       "        vertical-align: middle;\n",
       "    }\n",
       "\n",
       "    .dataframe tbody tr th {\n",
       "        vertical-align: top;\n",
       "    }\n",
       "\n",
       "    .dataframe thead th {\n",
       "        text-align: right;\n",
       "    }\n",
       "</style>\n",
       "<table border=\"1\" class=\"dataframe\">\n",
       "  <thead>\n",
       "    <tr style=\"text-align: right;\">\n",
       "      <th></th>\n",
       "      <th>Date</th>\n",
       "      <th>FacebookAdCampaign</th>\n",
       "      <th>FacebookAdViews</th>\n",
       "      <th>FacebookAdClicks</th>\n",
       "      <th>FacebookAdConversions</th>\n",
       "      <th>CostperFacebookAd</th>\n",
       "      <th>FacebookClickThroughRate</th>\n",
       "      <th>FacebookConversionRate</th>\n",
       "      <th>FacebookCostperClick</th>\n",
       "      <th>AdwareAdCampaign</th>\n",
       "      <th>AdwareAdViews</th>\n",
       "      <th>AdwareAdClicks</th>\n",
       "      <th>AdwareAdConversions</th>\n",
       "      <th>CostperAdwareAd</th>\n",
       "      <th>AdwareClickThroughRate</th>\n",
       "      <th>AdwareConversionRate</th>\n",
       "      <th>AdwareCostperClick</th>\n",
       "      <th>Number of Occurances</th>\n",
       "    </tr>\n",
       "  </thead>\n",
       "  <tbody>\n",
       "    <tr>\n",
       "      <th>0</th>\n",
       "      <td>2019-01-01</td>\n",
       "      <td>FB_Jan19</td>\n",
       "      <td>2116</td>\n",
       "      <td>18</td>\n",
       "      <td>8</td>\n",
       "      <td>126</td>\n",
       "      <td>0.01</td>\n",
       "      <td>0.43</td>\n",
       "      <td>7.14</td>\n",
       "      <td>AW_Jan19</td>\n",
       "      <td>4984</td>\n",
       "      <td>59</td>\n",
       "      <td>5</td>\n",
       "      <td>194</td>\n",
       "      <td>0.01</td>\n",
       "      <td>0.08</td>\n",
       "      <td>3.30</td>\n",
       "      <td>1 to 5</td>\n",
       "    </tr>\n",
       "    <tr>\n",
       "      <th>1</th>\n",
       "      <td>2019-01-02</td>\n",
       "      <td>FB_Jan19</td>\n",
       "      <td>3106</td>\n",
       "      <td>36</td>\n",
       "      <td>12</td>\n",
       "      <td>104</td>\n",
       "      <td>0.01</td>\n",
       "      <td>0.34</td>\n",
       "      <td>2.91</td>\n",
       "      <td>AW_Jan19</td>\n",
       "      <td>4022</td>\n",
       "      <td>71</td>\n",
       "      <td>6</td>\n",
       "      <td>75</td>\n",
       "      <td>0.02</td>\n",
       "      <td>0.08</td>\n",
       "      <td>1.05</td>\n",
       "      <td>6 to 10</td>\n",
       "    </tr>\n",
       "    <tr>\n",
       "      <th>2</th>\n",
       "      <td>2019-01-03</td>\n",
       "      <td>FB_Jan19</td>\n",
       "      <td>3105</td>\n",
       "      <td>26</td>\n",
       "      <td>8</td>\n",
       "      <td>102</td>\n",
       "      <td>0.01</td>\n",
       "      <td>0.31</td>\n",
       "      <td>3.89</td>\n",
       "      <td>AW_Jan19</td>\n",
       "      <td>3863</td>\n",
       "      <td>44</td>\n",
       "      <td>4</td>\n",
       "      <td>141</td>\n",
       "      <td>0.01</td>\n",
       "      <td>0.10</td>\n",
       "      <td>3.23</td>\n",
       "      <td>1 to 5</td>\n",
       "    </tr>\n",
       "    <tr>\n",
       "      <th>3</th>\n",
       "      <td>2019-01-04</td>\n",
       "      <td>FB_Jan19</td>\n",
       "      <td>1107</td>\n",
       "      <td>27</td>\n",
       "      <td>9</td>\n",
       "      <td>71</td>\n",
       "      <td>0.02</td>\n",
       "      <td>0.35</td>\n",
       "      <td>2.62</td>\n",
       "      <td>AW_Jan19</td>\n",
       "      <td>3911</td>\n",
       "      <td>49</td>\n",
       "      <td>5</td>\n",
       "      <td>141</td>\n",
       "      <td>0.01</td>\n",
       "      <td>0.11</td>\n",
       "      <td>2.86</td>\n",
       "      <td>1 to 5</td>\n",
       "    </tr>\n",
       "    <tr>\n",
       "      <th>4</th>\n",
       "      <td>2019-01-05</td>\n",
       "      <td>FB_Jan19</td>\n",
       "      <td>1317</td>\n",
       "      <td>15</td>\n",
       "      <td>7</td>\n",
       "      <td>78</td>\n",
       "      <td>0.01</td>\n",
       "      <td>0.48</td>\n",
       "      <td>5.38</td>\n",
       "      <td>AW_Jan19</td>\n",
       "      <td>4070</td>\n",
       "      <td>55</td>\n",
       "      <td>7</td>\n",
       "      <td>133</td>\n",
       "      <td>0.01</td>\n",
       "      <td>0.12</td>\n",
       "      <td>2.40</td>\n",
       "      <td>6 to 10</td>\n",
       "    </tr>\n",
       "    <tr>\n",
       "      <th>...</th>\n",
       "      <td>...</td>\n",
       "      <td>...</td>\n",
       "      <td>...</td>\n",
       "      <td>...</td>\n",
       "      <td>...</td>\n",
       "      <td>...</td>\n",
       "      <td>...</td>\n",
       "      <td>...</td>\n",
       "      <td>...</td>\n",
       "      <td>...</td>\n",
       "      <td>...</td>\n",
       "      <td>...</td>\n",
       "      <td>...</td>\n",
       "      <td>...</td>\n",
       "      <td>...</td>\n",
       "      <td>...</td>\n",
       "      <td>...</td>\n",
       "      <td>...</td>\n",
       "    </tr>\n",
       "    <tr>\n",
       "      <th>360</th>\n",
       "      <td>2019-12-27</td>\n",
       "      <td>FB_Dec19</td>\n",
       "      <td>3240</td>\n",
       "      <td>51</td>\n",
       "      <td>13</td>\n",
       "      <td>63</td>\n",
       "      <td>0.02</td>\n",
       "      <td>0.26</td>\n",
       "      <td>1.24</td>\n",
       "      <td>AW_Dec19</td>\n",
       "      <td>5332</td>\n",
       "      <td>72</td>\n",
       "      <td>9</td>\n",
       "      <td>76</td>\n",
       "      <td>0.01</td>\n",
       "      <td>0.12</td>\n",
       "      <td>1.06</td>\n",
       "      <td>6 to 10</td>\n",
       "    </tr>\n",
       "    <tr>\n",
       "      <th>361</th>\n",
       "      <td>2019-12-28</td>\n",
       "      <td>FB_Dec19</td>\n",
       "      <td>1510</td>\n",
       "      <td>69</td>\n",
       "      <td>18</td>\n",
       "      <td>97</td>\n",
       "      <td>0.05</td>\n",
       "      <td>0.26</td>\n",
       "      <td>1.42</td>\n",
       "      <td>AW_Dec19</td>\n",
       "      <td>3887</td>\n",
       "      <td>49</td>\n",
       "      <td>6</td>\n",
       "      <td>121</td>\n",
       "      <td>0.01</td>\n",
       "      <td>0.13</td>\n",
       "      <td>2.46</td>\n",
       "      <td>6 to 10</td>\n",
       "    </tr>\n",
       "    <tr>\n",
       "      <th>362</th>\n",
       "      <td>2019-12-29</td>\n",
       "      <td>FB_Dec19</td>\n",
       "      <td>2918</td>\n",
       "      <td>44</td>\n",
       "      <td>13</td>\n",
       "      <td>49</td>\n",
       "      <td>0.01</td>\n",
       "      <td>0.29</td>\n",
       "      <td>1.11</td>\n",
       "      <td>AW_Dec19</td>\n",
       "      <td>5327</td>\n",
       "      <td>62</td>\n",
       "      <td>6</td>\n",
       "      <td>128</td>\n",
       "      <td>0.01</td>\n",
       "      <td>0.10</td>\n",
       "      <td>2.08</td>\n",
       "      <td>6 to 10</td>\n",
       "    </tr>\n",
       "    <tr>\n",
       "      <th>363</th>\n",
       "      <td>2019-12-30</td>\n",
       "      <td>FB_Dec19</td>\n",
       "      <td>2212</td>\n",
       "      <td>37</td>\n",
       "      <td>8</td>\n",
       "      <td>102</td>\n",
       "      <td>0.02</td>\n",
       "      <td>0.23</td>\n",
       "      <td>2.75</td>\n",
       "      <td>AW_Dec19</td>\n",
       "      <td>4020</td>\n",
       "      <td>71</td>\n",
       "      <td>6</td>\n",
       "      <td>119</td>\n",
       "      <td>0.02</td>\n",
       "      <td>0.08</td>\n",
       "      <td>1.68</td>\n",
       "      <td>6 to 10</td>\n",
       "    </tr>\n",
       "    <tr>\n",
       "      <th>364</th>\n",
       "      <td>2019-12-31</td>\n",
       "      <td>FB_Dec19</td>\n",
       "      <td>1470</td>\n",
       "      <td>60</td>\n",
       "      <td>17</td>\n",
       "      <td>99</td>\n",
       "      <td>0.04</td>\n",
       "      <td>0.28</td>\n",
       "      <td>1.65</td>\n",
       "      <td>AW_Dec19</td>\n",
       "      <td>4592</td>\n",
       "      <td>47</td>\n",
       "      <td>6</td>\n",
       "      <td>86</td>\n",
       "      <td>0.01</td>\n",
       "      <td>0.14</td>\n",
       "      <td>1.85</td>\n",
       "      <td>6 to 10</td>\n",
       "    </tr>\n",
       "  </tbody>\n",
       "</table>\n",
       "<p>365 rows × 18 columns</p>\n",
       "</div>"
      ],
      "text/plain": [
       "          Date FacebookAdCampaign  FacebookAdViews  FacebookAdClicks  FacebookAdConversions  CostperFacebookAd  FacebookClickThroughRate  FacebookConversionRate  FacebookCostperClick AdwareAdCampaign  AdwareAdViews  AdwareAdClicks  AdwareAdConversions  CostperAdwareAd  AdwareClickThroughRate  AdwareConversionRate  AdwareCostperClick Number of Occurances\n",
       "0   2019-01-01           FB_Jan19             2116                18                      8                126                      0.01                    0.43                  7.14         AW_Jan19           4984              59                    5              194                    0.01                  0.08                3.30               1 to 5\n",
       "1   2019-01-02           FB_Jan19             3106                36                     12                104                      0.01                    0.34                  2.91         AW_Jan19           4022              71                    6               75                    0.02                  0.08                1.05              6 to 10\n",
       "2   2019-01-03           FB_Jan19             3105                26                      8                102                      0.01                    0.31                  3.89         AW_Jan19           3863              44                    4              141                    0.01                  0.10                3.23               1 to 5\n",
       "3   2019-01-04           FB_Jan19             1107                27                      9                 71                      0.02                    0.35                  2.62         AW_Jan19           3911              49                    5              141                    0.01                  0.11                2.86               1 to 5\n",
       "4   2019-01-05           FB_Jan19             1317                15                      7                 78                      0.01                    0.48                  5.38         AW_Jan19           4070              55                    7              133                    0.01                  0.12                2.40              6 to 10\n",
       "..         ...                ...              ...               ...                    ...                ...                       ...                     ...                   ...              ...            ...             ...                  ...              ...                     ...                   ...                 ...                  ...\n",
       "360 2019-12-27           FB_Dec19             3240                51                     13                 63                      0.02                    0.26                  1.24         AW_Dec19           5332              72                    9               76                    0.01                  0.12                1.06              6 to 10\n",
       "361 2019-12-28           FB_Dec19             1510                69                     18                 97                      0.05                    0.26                  1.42         AW_Dec19           3887              49                    6              121                    0.01                  0.13                2.46              6 to 10\n",
       "362 2019-12-29           FB_Dec19             2918                44                     13                 49                      0.01                    0.29                  1.11         AW_Dec19           5327              62                    6              128                    0.01                  0.10                2.08              6 to 10\n",
       "363 2019-12-30           FB_Dec19             2212                37                      8                102                      0.02                    0.23                  2.75         AW_Dec19           4020              71                    6              119                    0.02                  0.08                1.68              6 to 10\n",
       "364 2019-12-31           FB_Dec19             1470                60                     17                 99                      0.04                    0.28                  1.65         AW_Dec19           4592              47                    6               86                    0.01                  0.14                1.85              6 to 10\n",
       "\n",
       "[365 rows x 18 columns]"
      ]
     },
     "execution_count": 20,
     "metadata": {},
     "output_type": "execute_result"
    }
   ],
   "source": [
    "df"
   ]
  },
  {
   "cell_type": "code",
   "execution_count": 21,
   "metadata": {},
   "outputs": [
    {
     "data": {
      "text/plain": [
       "Number of Occurances\n",
       "1 to 5      686\n",
       "6 to 10    1497\n",
       "Name: AdwareAdConversions, dtype: int64"
      ]
     },
     "execution_count": 21,
     "metadata": {},
     "output_type": "execute_result"
    }
   ],
   "source": [
    "df.groupby([\"Number of Occurances\"])[\"AdwareAdConversions\"].sum()"
   ]
  },
  {
   "cell_type": "code",
   "execution_count": 22,
   "metadata": {},
   "outputs": [
    {
     "data": {
      "image/png": "[encoded data removed]",
      "text/plain": [
       "<Figure size 432x288 with 1 Axes>"
      ]
     },
     "metadata": {},
     "output_type": "display_data"
    }
   ],
   "source": [
    "sns.scatterplot(y=df.AdwareAdClicks, x=df.AdwareAdConversions, data=df)\n",
    "plt.show()"
   ]
  },
  {
   "cell_type": "markdown",
   "metadata": {},
   "source": [
    "### Correlation"
   ]
  },
  {
   "cell_type": "code",
   "execution_count": 23,
   "metadata": {},
   "outputs": [
    {
     "data": {
      "text/html": [
       "<div>\n",
       "<style scoped>\n",
       "    .dataframe tbody tr th:only-of-type {\n",
       "        vertical-align: middle;\n",
       "    }\n",
       "\n",
       "    .dataframe tbody tr th {\n",
       "        vertical-align: top;\n",
       "    }\n",
       "\n",
       "    .dataframe thead th {\n",
       "        text-align: right;\n",
       "    }\n",
       "</style>\n",
       "<table border=\"1\" class=\"dataframe\">\n",
       "  <thead>\n",
       "    <tr style=\"text-align: right;\">\n",
       "      <th></th>\n",
       "      <th>AdwareAdConversions</th>\n",
       "      <th>AdwareAdClicks</th>\n",
       "    </tr>\n",
       "  </thead>\n",
       "  <tbody>\n",
       "    <tr>\n",
       "      <th>AdwareAdConversions</th>\n",
       "      <td>1.00</td>\n",
       "      <td>0.45</td>\n",
       "    </tr>\n",
       "    <tr>\n",
       "      <th>AdwareAdClicks</th>\n",
       "      <td>0.45</td>\n",
       "      <td>1.00</td>\n",
       "    </tr>\n",
       "  </tbody>\n",
       "</table>\n",
       "</div>"
      ],
      "text/plain": [
       "                     AdwareAdConversions  AdwareAdClicks\n",
       "AdwareAdConversions                 1.00            0.45\n",
       "AdwareAdClicks                      0.45            1.00"
      ]
     },
     "execution_count": 23,
     "metadata": {},
     "output_type": "execute_result"
    }
   ],
   "source": [
    "df[[\"AdwareAdConversions\",\"AdwareAdClicks\"]].corr()"
   ]
  },
  {
   "cell_type": "markdown",
   "metadata": {},
   "source": [
    "## Capstone Week 2: Understanding Your Data Samples"
   ]
  },
  {
   "cell_type": "markdown",
   "metadata": {},
   "source": [
    "### 1. Create Histograms for ‘Clicks’ and ‘Conversions’ Data"
   ]
  },
  {
   "cell_type": "markdown",
   "metadata": {},
   "source": [
    "For your Capstone Week 2 assignment create histograms for AdWords Ad Clicks and AdWords Ad Conversions, then determine whether they fall under a normal distribution curve"
   ]
  },
  {
   "cell_type": "code",
   "execution_count": 24,
   "metadata": {},
   "outputs": [
    {
     "data": {
      "text/plain": [
       "Index(['Date', 'FacebookAdCampaign', 'FacebookAdViews', 'FacebookAdClicks', 'FacebookAdConversions', 'CostperFacebookAd', 'FacebookClickThroughRate', 'FacebookConversionRate', 'FacebookCostperClick', 'AdwareAdCampaign', 'AdwareAdViews', 'AdwareAdClicks', 'AdwareAdConversions', 'CostperAdwareAd', 'AdwareClickThroughRate', 'AdwareConversionRate', 'AdwareCostperClick', 'Number of Occurances'], dtype='object')"
      ]
     },
     "execution_count": 24,
     "metadata": {},
     "output_type": "execute_result"
    }
   ],
   "source": [
    "df.columns"
   ]
  },
  {
   "cell_type": "code",
   "execution_count": 25,
   "metadata": {},
   "outputs": [
    {
     "data": {
      "image/png": "[encoded data removed]",
      "text/plain": [
       "<Figure size 1440x360 with 1 Axes>"
      ]
     },
     "metadata": {},
     "output_type": "display_data"
    }
   ],
   "source": [
    "df['AdwareAdClicks'].hist(bins=10, figsize=(20,5))\n",
    "plt.suptitle('AdwareAdClicks Histogram', x=0.5, y=1.02, ha='center', fontsize=20)\n",
    "plt.tight_layout()\n",
    "plt.show()"
   ]
  },
  {
   "cell_type": "code",
   "execution_count": 26,
   "metadata": {},
   "outputs": [
    {
     "data": {
      "image/png": "[encoded data removed]",
      "text/plain": [
       "<Figure size 1440x360 with 1 Axes>"
      ]
     },
     "metadata": {},
     "output_type": "display_data"
    }
   ],
   "source": [
    "df['AdwareAdConversions'].hist(bins=2, figsize=(20,5))\n",
    "plt.suptitle('AdwareAdConversions Histogram', x=0.5, y=1.02, ha='center', fontsize=20)\n",
    "plt.tight_layout()\n",
    "plt.show()"
   ]
  },
  {
   "cell_type": "markdown",
   "metadata": {},
   "source": [
    "### 2. Determine What Variable Types You’re Working With"
   ]
  },
  {
   "cell_type": "markdown",
   "metadata": {},
   "source": [
    "| Variable          | Variable types                                                                           |\n",
    "|----------------|---------------------------------------------------------------------------------------|\n",
    "| AdWords Ad Views | Quantitative-Continuous\t|\n",
    "| AdWords Ad Clicks |\tQuantitative-Continuous |\n",
    "| Cost per AdWords Ad |\tQuantitative-Continuous |\n",
    "| AdWords Click-Through Rate |\tQuantitative-Continuous |\n",
    "| AdWords Conversion Rate |\tQuantitative-Continuous |\n",
    "| AdWords Cost per Click |\tQuantitative-Continuous |"
   ]
  },
  {
   "cell_type": "markdown",
   "metadata": {},
   "source": [
    "## Capstone Week 3: Testing Your Hypothesis"
   ]
  },
  {
   "cell_type": "markdown",
   "metadata": {},
   "source": [
    "The first task we want you to address this week is to write a hypothesis statement that answers this evaluation question."
   ]
  },
  {
   "cell_type": "code",
   "execution_count": 27,
   "metadata": {},
   "outputs": [
    {
     "data": {
      "text/html": [
       "<div>\n",
       "<style scoped>\n",
       "    .dataframe tbody tr th:only-of-type {\n",
       "        vertical-align: middle;\n",
       "    }\n",
       "\n",
       "    .dataframe tbody tr th {\n",
       "        vertical-align: top;\n",
       "    }\n",
       "\n",
       "    .dataframe thead th {\n",
       "        text-align: right;\n",
       "    }\n",
       "</style>\n",
       "<table border=\"1\" class=\"dataframe\">\n",
       "  <thead>\n",
       "    <tr style=\"text-align: right;\">\n",
       "      <th></th>\n",
       "      <th>Date</th>\n",
       "      <th>FacebookAdCampaign</th>\n",
       "      <th>FacebookAdViews</th>\n",
       "      <th>FacebookAdClicks</th>\n",
       "      <th>FacebookAdConversions</th>\n",
       "      <th>CostperFacebookAd</th>\n",
       "      <th>FacebookClickThroughRate</th>\n",
       "      <th>FacebookConversionRate</th>\n",
       "      <th>FacebookCostperClick</th>\n",
       "      <th>AdwareAdCampaign</th>\n",
       "      <th>AdwareAdViews</th>\n",
       "      <th>AdwareAdClicks</th>\n",
       "      <th>AdwareAdConversions</th>\n",
       "      <th>CostperAdwareAd</th>\n",
       "      <th>AdwareClickThroughRate</th>\n",
       "      <th>AdwareConversionRate</th>\n",
       "      <th>AdwareCostperClick</th>\n",
       "      <th>Number of Occurances</th>\n",
       "    </tr>\n",
       "  </thead>\n",
       "  <tbody>\n",
       "    <tr>\n",
       "      <th>0</th>\n",
       "      <td>2019-01-01</td>\n",
       "      <td>FB_Jan19</td>\n",
       "      <td>2116</td>\n",
       "      <td>18</td>\n",
       "      <td>8</td>\n",
       "      <td>126</td>\n",
       "      <td>0.01</td>\n",
       "      <td>0.43</td>\n",
       "      <td>7.14</td>\n",
       "      <td>AW_Jan19</td>\n",
       "      <td>4984</td>\n",
       "      <td>59</td>\n",
       "      <td>5</td>\n",
       "      <td>194</td>\n",
       "      <td>0.01</td>\n",
       "      <td>0.08</td>\n",
       "      <td>3.30</td>\n",
       "      <td>1 to 5</td>\n",
       "    </tr>\n",
       "    <tr>\n",
       "      <th>1</th>\n",
       "      <td>2019-01-02</td>\n",
       "      <td>FB_Jan19</td>\n",
       "      <td>3106</td>\n",
       "      <td>36</td>\n",
       "      <td>12</td>\n",
       "      <td>104</td>\n",
       "      <td>0.01</td>\n",
       "      <td>0.34</td>\n",
       "      <td>2.91</td>\n",
       "      <td>AW_Jan19</td>\n",
       "      <td>4022</td>\n",
       "      <td>71</td>\n",
       "      <td>6</td>\n",
       "      <td>75</td>\n",
       "      <td>0.02</td>\n",
       "      <td>0.08</td>\n",
       "      <td>1.05</td>\n",
       "      <td>6 to 10</td>\n",
       "    </tr>\n",
       "    <tr>\n",
       "      <th>2</th>\n",
       "      <td>2019-01-03</td>\n",
       "      <td>FB_Jan19</td>\n",
       "      <td>3105</td>\n",
       "      <td>26</td>\n",
       "      <td>8</td>\n",
       "      <td>102</td>\n",
       "      <td>0.01</td>\n",
       "      <td>0.31</td>\n",
       "      <td>3.89</td>\n",
       "      <td>AW_Jan19</td>\n",
       "      <td>3863</td>\n",
       "      <td>44</td>\n",
       "      <td>4</td>\n",
       "      <td>141</td>\n",
       "      <td>0.01</td>\n",
       "      <td>0.10</td>\n",
       "      <td>3.23</td>\n",
       "      <td>1 to 5</td>\n",
       "    </tr>\n",
       "    <tr>\n",
       "      <th>3</th>\n",
       "      <td>2019-01-04</td>\n",
       "      <td>FB_Jan19</td>\n",
       "      <td>1107</td>\n",
       "      <td>27</td>\n",
       "      <td>9</td>\n",
       "      <td>71</td>\n",
       "      <td>0.02</td>\n",
       "      <td>0.35</td>\n",
       "      <td>2.62</td>\n",
       "      <td>AW_Jan19</td>\n",
       "      <td>3911</td>\n",
       "      <td>49</td>\n",
       "      <td>5</td>\n",
       "      <td>141</td>\n",
       "      <td>0.01</td>\n",
       "      <td>0.11</td>\n",
       "      <td>2.86</td>\n",
       "      <td>1 to 5</td>\n",
       "    </tr>\n",
       "    <tr>\n",
       "      <th>4</th>\n",
       "      <td>2019-01-05</td>\n",
       "      <td>FB_Jan19</td>\n",
       "      <td>1317</td>\n",
       "      <td>15</td>\n",
       "      <td>7</td>\n",
       "      <td>78</td>\n",
       "      <td>0.01</td>\n",
       "      <td>0.48</td>\n",
       "      <td>5.38</td>\n",
       "      <td>AW_Jan19</td>\n",
       "      <td>4070</td>\n",
       "      <td>55</td>\n",
       "      <td>7</td>\n",
       "      <td>133</td>\n",
       "      <td>0.01</td>\n",
       "      <td>0.12</td>\n",
       "      <td>2.40</td>\n",
       "      <td>6 to 10</td>\n",
       "    </tr>\n",
       "  </tbody>\n",
       "</table>\n",
       "</div>"
      ],
      "text/plain": [
       "        Date FacebookAdCampaign  FacebookAdViews  FacebookAdClicks  FacebookAdConversions  CostperFacebookAd  FacebookClickThroughRate  FacebookConversionRate  FacebookCostperClick AdwareAdCampaign  AdwareAdViews  AdwareAdClicks  AdwareAdConversions  CostperAdwareAd  AdwareClickThroughRate  AdwareConversionRate  AdwareCostperClick Number of Occurances\n",
       "0 2019-01-01           FB_Jan19             2116                18                      8                126                      0.01                    0.43                  7.14         AW_Jan19           4984              59                    5              194                    0.01                  0.08                3.30               1 to 5\n",
       "1 2019-01-02           FB_Jan19             3106                36                     12                104                      0.01                    0.34                  2.91         AW_Jan19           4022              71                    6               75                    0.02                  0.08                1.05              6 to 10\n",
       "2 2019-01-03           FB_Jan19             3105                26                      8                102                      0.01                    0.31                  3.89         AW_Jan19           3863              44                    4              141                    0.01                  0.10                3.23               1 to 5\n",
       "3 2019-01-04           FB_Jan19             1107                27                      9                 71                      0.02                    0.35                  2.62         AW_Jan19           3911              49                    5              141                    0.01                  0.11                2.86               1 to 5\n",
       "4 2019-01-05           FB_Jan19             1317                15                      7                 78                      0.01                    0.48                  5.38         AW_Jan19           4070              55                    7              133                    0.01                  0.12                2.40              6 to 10"
      ]
     },
     "execution_count": 27,
     "metadata": {},
     "output_type": "execute_result"
    }
   ],
   "source": [
    "df.head()"
   ]
  },
  {
   "cell_type": "markdown",
   "metadata": {},
   "source": [
    "**H0 = Is the number of conversions in Facebook greater than AdWareAd when more advertising is done there?**"
   ]
  },
  {
   "cell_type": "markdown",
   "metadata": {},
   "source": [
    "### 2. Determine Your Independent and Dependent Variables"
   ]
  },
  {
   "cell_type": "markdown",
   "metadata": {},
   "source": [
    "Dependent Variables: Facebook Ad Conversions\n",
    "\n",
    "Independant Variables: Cost per Facebook Ad"
   ]
  },
  {
   "cell_type": "markdown",
   "metadata": {},
   "source": [
    "a​. Calculate the mean values for the “Facebook Ad Conversions” and “AdWords Ad Conversions” data you were given in your Capstone Dataset"
   ]
  },
  {
   "cell_type": "code",
   "execution_count": 28,
   "metadata": {},
   "outputs": [
    {
     "data": {
      "text/plain": [
       "11.742465753424657"
      ]
     },
     "execution_count": 28,
     "metadata": {},
     "output_type": "execute_result"
    }
   ],
   "source": [
    "df[\"FacebookAdConversions\"].mean()"
   ]
  },
  {
   "cell_type": "code",
   "execution_count": 29,
   "metadata": {},
   "outputs": [
    {
     "data": {
      "text/plain": [
       "5.980821917808219"
      ]
     },
     "execution_count": 29,
     "metadata": {},
     "output_type": "execute_result"
    }
   ],
   "source": [
    "df[\"AdwareAdConversions\"].mean()"
   ]
  },
  {
   "cell_type": "markdown",
   "metadata": {},
   "source": [
    "b. Next, you need to determine whether this overall difference is a statistically significant difference. You learned to do this by comparing the p-value for your data to some given Alpha value (𝛂)."
   ]
  },
  {
   "cell_type": "markdown",
   "metadata": {},
   "source": [
    "## T-Test"
   ]
  },
  {
   "cell_type": "markdown",
   "metadata": {},
   "source": [
    "### Two Samples T-Test"
   ]
  },
  {
   "cell_type": "code",
   "execution_count": 30,
   "metadata": {},
   "outputs": [],
   "source": [
    "t, p = scipy.stats.ttest_ind(a=df.FacebookAdConversions,b=df.AdwareAdConversions, equal_var = False)"
   ]
  },
  {
   "cell_type": "code",
   "execution_count": 31,
   "metadata": {},
   "outputs": [
    {
     "name": "stdout",
     "output_type": "stream",
     "text": [
      "T-test value is:  32.88402060758184\n",
      "p-value value is:  9.348918164530467e-134\n"
     ]
    }
   ],
   "source": [
    "print(\"T-test value is: \",t)\n",
    "print(\"p-value value is: \",p)"
   ]
  },
  {
   "cell_type": "markdown",
   "metadata": {},
   "source": [
    "c. Given what you’ve discovered about whether there’s a statistically significant difference in the data, what does this tell you about whether to accept the null hypothesis or the alternative hypothesis?"
   ]
  },
  {
   "cell_type": "markdown",
   "metadata": {},
   "source": [
    "**Since the p-value calculated is less than 0.05, H0 is rejected, and H1 is accepted**"
   ]
  },
  {
   "cell_type": "markdown",
   "metadata": {},
   "source": [
    "d. Finally, putting it all together: What’s your conclusion about your main hypothesis? Is there a difference, and is it what your hypothesis predicted?"
   ]
  },
  {
   "cell_type": "markdown",
   "metadata": {},
   "source": [
    "**There is a statistical difference between Facebook and AdAware Ad Conversions.**"
   ]
  },
  {
   "cell_type": "markdown",
   "metadata": {},
   "source": [
    "## Capstone Week 4: Show Me the Model"
   ]
  },
  {
   "cell_type": "markdown",
   "metadata": {},
   "source": [
    "### 1. Choosing a Model"
   ]
  },
  {
   "cell_type": "code",
   "execution_count": 32,
   "metadata": {},
   "outputs": [
    {
     "data": {
      "text/html": [
       "<div>\n",
       "<style scoped>\n",
       "    .dataframe tbody tr th:only-of-type {\n",
       "        vertical-align: middle;\n",
       "    }\n",
       "\n",
       "    .dataframe tbody tr th {\n",
       "        vertical-align: top;\n",
       "    }\n",
       "\n",
       "    .dataframe thead th {\n",
       "        text-align: right;\n",
       "    }\n",
       "</style>\n",
       "<table border=\"1\" class=\"dataframe\">\n",
       "  <thead>\n",
       "    <tr style=\"text-align: right;\">\n",
       "      <th></th>\n",
       "      <th>Date</th>\n",
       "      <th>FacebookAdCampaign</th>\n",
       "      <th>FacebookAdViews</th>\n",
       "      <th>FacebookAdClicks</th>\n",
       "      <th>FacebookAdConversions</th>\n",
       "      <th>CostperFacebookAd</th>\n",
       "      <th>FacebookClickThroughRate</th>\n",
       "      <th>FacebookConversionRate</th>\n",
       "      <th>FacebookCostperClick</th>\n",
       "      <th>AdwareAdCampaign</th>\n",
       "      <th>AdwareAdViews</th>\n",
       "      <th>AdwareAdClicks</th>\n",
       "      <th>AdwareAdConversions</th>\n",
       "      <th>CostperAdwareAd</th>\n",
       "      <th>AdwareClickThroughRate</th>\n",
       "      <th>AdwareConversionRate</th>\n",
       "      <th>AdwareCostperClick</th>\n",
       "      <th>Number of Occurances</th>\n",
       "    </tr>\n",
       "  </thead>\n",
       "  <tbody>\n",
       "    <tr>\n",
       "      <th>0</th>\n",
       "      <td>2019-01-01</td>\n",
       "      <td>FB_Jan19</td>\n",
       "      <td>2116</td>\n",
       "      <td>18</td>\n",
       "      <td>8</td>\n",
       "      <td>126</td>\n",
       "      <td>0.01</td>\n",
       "      <td>0.43</td>\n",
       "      <td>7.14</td>\n",
       "      <td>AW_Jan19</td>\n",
       "      <td>4984</td>\n",
       "      <td>59</td>\n",
       "      <td>5</td>\n",
       "      <td>194</td>\n",
       "      <td>0.01</td>\n",
       "      <td>0.08</td>\n",
       "      <td>3.30</td>\n",
       "      <td>1 to 5</td>\n",
       "    </tr>\n",
       "    <tr>\n",
       "      <th>1</th>\n",
       "      <td>2019-01-02</td>\n",
       "      <td>FB_Jan19</td>\n",
       "      <td>3106</td>\n",
       "      <td>36</td>\n",
       "      <td>12</td>\n",
       "      <td>104</td>\n",
       "      <td>0.01</td>\n",
       "      <td>0.34</td>\n",
       "      <td>2.91</td>\n",
       "      <td>AW_Jan19</td>\n",
       "      <td>4022</td>\n",
       "      <td>71</td>\n",
       "      <td>6</td>\n",
       "      <td>75</td>\n",
       "      <td>0.02</td>\n",
       "      <td>0.08</td>\n",
       "      <td>1.05</td>\n",
       "      <td>6 to 10</td>\n",
       "    </tr>\n",
       "    <tr>\n",
       "      <th>2</th>\n",
       "      <td>2019-01-03</td>\n",
       "      <td>FB_Jan19</td>\n",
       "      <td>3105</td>\n",
       "      <td>26</td>\n",
       "      <td>8</td>\n",
       "      <td>102</td>\n",
       "      <td>0.01</td>\n",
       "      <td>0.31</td>\n",
       "      <td>3.89</td>\n",
       "      <td>AW_Jan19</td>\n",
       "      <td>3863</td>\n",
       "      <td>44</td>\n",
       "      <td>4</td>\n",
       "      <td>141</td>\n",
       "      <td>0.01</td>\n",
       "      <td>0.10</td>\n",
       "      <td>3.23</td>\n",
       "      <td>1 to 5</td>\n",
       "    </tr>\n",
       "    <tr>\n",
       "      <th>3</th>\n",
       "      <td>2019-01-04</td>\n",
       "      <td>FB_Jan19</td>\n",
       "      <td>1107</td>\n",
       "      <td>27</td>\n",
       "      <td>9</td>\n",
       "      <td>71</td>\n",
       "      <td>0.02</td>\n",
       "      <td>0.35</td>\n",
       "      <td>2.62</td>\n",
       "      <td>AW_Jan19</td>\n",
       "      <td>3911</td>\n",
       "      <td>49</td>\n",
       "      <td>5</td>\n",
       "      <td>141</td>\n",
       "      <td>0.01</td>\n",
       "      <td>0.11</td>\n",
       "      <td>2.86</td>\n",
       "      <td>1 to 5</td>\n",
       "    </tr>\n",
       "    <tr>\n",
       "      <th>4</th>\n",
       "      <td>2019-01-05</td>\n",
       "      <td>FB_Jan19</td>\n",
       "      <td>1317</td>\n",
       "      <td>15</td>\n",
       "      <td>7</td>\n",
       "      <td>78</td>\n",
       "      <td>0.01</td>\n",
       "      <td>0.48</td>\n",
       "      <td>5.38</td>\n",
       "      <td>AW_Jan19</td>\n",
       "      <td>4070</td>\n",
       "      <td>55</td>\n",
       "      <td>7</td>\n",
       "      <td>133</td>\n",
       "      <td>0.01</td>\n",
       "      <td>0.12</td>\n",
       "      <td>2.40</td>\n",
       "      <td>6 to 10</td>\n",
       "    </tr>\n",
       "  </tbody>\n",
       "</table>\n",
       "</div>"
      ],
      "text/plain": [
       "        Date FacebookAdCampaign  FacebookAdViews  FacebookAdClicks  FacebookAdConversions  CostperFacebookAd  FacebookClickThroughRate  FacebookConversionRate  FacebookCostperClick AdwareAdCampaign  AdwareAdViews  AdwareAdClicks  AdwareAdConversions  CostperAdwareAd  AdwareClickThroughRate  AdwareConversionRate  AdwareCostperClick Number of Occurances\n",
       "0 2019-01-01           FB_Jan19             2116                18                      8                126                      0.01                    0.43                  7.14         AW_Jan19           4984              59                    5              194                    0.01                  0.08                3.30               1 to 5\n",
       "1 2019-01-02           FB_Jan19             3106                36                     12                104                      0.01                    0.34                  2.91         AW_Jan19           4022              71                    6               75                    0.02                  0.08                1.05              6 to 10\n",
       "2 2019-01-03           FB_Jan19             3105                26                      8                102                      0.01                    0.31                  3.89         AW_Jan19           3863              44                    4              141                    0.01                  0.10                3.23               1 to 5\n",
       "3 2019-01-04           FB_Jan19             1107                27                      9                 71                      0.02                    0.35                  2.62         AW_Jan19           3911              49                    5              141                    0.01                  0.11                2.86               1 to 5\n",
       "4 2019-01-05           FB_Jan19             1317                15                      7                 78                      0.01                    0.48                  5.38         AW_Jan19           4070              55                    7              133                    0.01                  0.12                2.40              6 to 10"
      ]
     },
     "execution_count": 32,
     "metadata": {},
     "output_type": "execute_result"
    }
   ],
   "source": [
    "df.head()"
   ]
  },
  {
   "cell_type": "markdown",
   "metadata": {},
   "source": [
    "**Simple Linear Regression is chosen due to one independant and one dependant variable**"
   ]
  },
  {
   "cell_type": "code",
   "execution_count": 33,
   "metadata": {},
   "outputs": [
    {
     "data": {
      "image/png": "[encoded data removed]",
      "text/plain": [
       "<Figure size 432x288 with 1 Axes>"
      ]
     },
     "metadata": {},
     "output_type": "display_data"
    }
   ],
   "source": [
    "df[\"FacebookAdClicks\"].hist()\n",
    "plt.show()"
   ]
  },
  {
   "cell_type": "code",
   "execution_count": 34,
   "metadata": {},
   "outputs": [
    {
     "data": {
      "image/png": "[encoded data removed]",
      "text/plain": [
       "<Figure size 432x288 with 1 Axes>"
      ]
     },
     "metadata": {},
     "output_type": "display_data"
    }
   ],
   "source": [
    "df[\"FacebookAdConversions\"].hist()\n",
    "plt.show()"
   ]
  },
  {
   "cell_type": "markdown",
   "metadata": {},
   "source": [
    "## Data Preprocessing"
   ]
  },
  {
   "cell_type": "markdown",
   "metadata": {},
   "source": [
    "### Treat Missing Values"
   ]
  },
  {
   "cell_type": "code",
   "execution_count": 35,
   "metadata": {},
   "outputs": [
    {
     "data": {
      "text/plain": [
       "Date                        0\n",
       "FacebookAdCampaign          0\n",
       "FacebookAdViews             0\n",
       "FacebookAdClicks            0\n",
       "FacebookAdConversions       0\n",
       "CostperFacebookAd           0\n",
       "FacebookClickThroughRate    0\n",
       "FacebookConversionRate      0\n",
       "FacebookCostperClick        0\n",
       "AdwareAdCampaign            0\n",
       "AdwareAdViews               0\n",
       "AdwareAdClicks              0\n",
       "AdwareAdConversions         0\n",
       "CostperAdwareAd             0\n",
       "AdwareClickThroughRate      0\n",
       "AdwareConversionRate        0\n",
       "AdwareCostperClick          0\n",
       "Number of Occurances        0\n",
       "dtype: int64"
      ]
     },
     "execution_count": 35,
     "metadata": {},
     "output_type": "execute_result"
    }
   ],
   "source": [
    "df.isnull().sum()"
   ]
  },
  {
   "cell_type": "markdown",
   "metadata": {},
   "source": [
    "## Regression Analysis"
   ]
  },
  {
   "cell_type": "markdown",
   "metadata": {},
   "source": [
    "### Linear Regression"
   ]
  },
  {
   "cell_type": "code",
   "execution_count": 36,
   "metadata": {},
   "outputs": [
    {
     "data": {
      "text/plain": [
       "Index(['Date', 'FacebookAdCampaign', 'FacebookAdViews', 'FacebookAdClicks', 'FacebookAdConversions', 'CostperFacebookAd', 'FacebookClickThroughRate', 'FacebookConversionRate', 'FacebookCostperClick', 'AdwareAdCampaign', 'AdwareAdViews', 'AdwareAdClicks', 'AdwareAdConversions', 'CostperAdwareAd', 'AdwareClickThroughRate', 'AdwareConversionRate', 'AdwareCostperClick', 'Number of Occurances'], dtype='object')"
      ]
     },
     "execution_count": 36,
     "metadata": {},
     "output_type": "execute_result"
    }
   ],
   "source": [
    "df.columns"
   ]
  },
  {
   "cell_type": "code",
   "execution_count": 37,
   "metadata": {},
   "outputs": [],
   "source": [
    "y = df['FacebookAdConversions']\n",
    "X = df['FacebookAdClicks']"
   ]
  },
  {
   "cell_type": "code",
   "execution_count": 38,
   "metadata": {},
   "outputs": [],
   "source": [
    "X = sm.add_constant(X)"
   ]
  },
  {
   "cell_type": "code",
   "execution_count": 39,
   "metadata": {},
   "outputs": [],
   "source": [
    "model = sm.OLS(y,X).fit()"
   ]
  },
  {
   "cell_type": "code",
   "execution_count": 40,
   "metadata": {},
   "outputs": [
    {
     "data": {
      "text/html": [
       "<table class=\"simpletable\">\n",
       "<caption>OLS Regression Results</caption>\n",
       "<tr>\n",
       "  <th>Dep. Variable:</th>    <td>FacebookAdConversions</td> <th>  R-squared:         </th> <td>   0.763</td> \n",
       "</tr>\n",
       "<tr>\n",
       "  <th>Model:</th>                     <td>OLS</td>          <th>  Adj. R-squared:    </th> <td>   0.763</td> \n",
       "</tr>\n",
       "<tr>\n",
       "  <th>Method:</th>               <td>Least Squares</td>     <th>  F-statistic:       </th> <td>   1172.</td> \n",
       "</tr>\n",
       "<tr>\n",
       "  <th>Date:</th>               <td>Fri, 19 Nov 2021</td>    <th>  Prob (F-statistic):</th> <td>1.09e-115</td>\n",
       "</tr>\n",
       "<tr>\n",
       "  <th>Time:</th>                   <td>07:58:47</td>        <th>  Log-Likelihood:    </th> <td> -646.02</td> \n",
       "</tr>\n",
       "<tr>\n",
       "  <th>No. Observations:</th>        <td>   365</td>         <th>  AIC:               </th> <td>   1296.</td> \n",
       "</tr>\n",
       "<tr>\n",
       "  <th>Df Residuals:</th>            <td>   363</td>         <th>  BIC:               </th> <td>   1304.</td> \n",
       "</tr>\n",
       "<tr>\n",
       "  <th>Df Model:</th>                <td>     1</td>         <th>                     </th>     <td> </td>    \n",
       "</tr>\n",
       "<tr>\n",
       "  <th>Covariance Type:</th>        <td>nonrobust</td>       <th>                     </th>     <td> </td>    \n",
       "</tr>\n",
       "</table>\n",
       "<table class=\"simpletable\">\n",
       "<tr>\n",
       "          <td></td>            <th>coef</th>     <th>std err</th>      <th>t</th>      <th>P>|t|</th>  <th>[0.025</th>    <th>0.975]</th>  \n",
       "</tr>\n",
       "<tr>\n",
       "  <th>const</th>            <td>    2.4700</td> <td>    0.281</td> <td>    8.792</td> <td> 0.000</td> <td>    1.918</td> <td>    3.023</td>\n",
       "</tr>\n",
       "<tr>\n",
       "  <th>FacebookAdClicks</th> <td>    0.2105</td> <td>    0.006</td> <td>   34.231</td> <td> 0.000</td> <td>    0.198</td> <td>    0.223</td>\n",
       "</tr>\n",
       "</table>\n",
       "<table class=\"simpletable\">\n",
       "<tr>\n",
       "  <th>Omnibus:</th>       <td>156.204</td> <th>  Durbin-Watson:     </th> <td>   1.970</td>\n",
       "</tr>\n",
       "<tr>\n",
       "  <th>Prob(Omnibus):</th> <td> 0.000</td>  <th>  Jarque-Bera (JB):  </th> <td>  20.421</td>\n",
       "</tr>\n",
       "<tr>\n",
       "  <th>Skew:</th>          <td> 0.063</td>  <th>  Prob(JB):          </th> <td>3.68e-05</td>\n",
       "</tr>\n",
       "<tr>\n",
       "  <th>Kurtosis:</th>      <td> 1.848</td>  <th>  Cond. No.          </th> <td>    172.</td>\n",
       "</tr>\n",
       "</table><br/><br/>Notes:<br/>[1] Standard Errors assume that the covariance matrix of the errors is correctly specified."
      ],
      "text/plain": [
       "<class 'statsmodels.iolib.summary.Summary'>\n",
       "\"\"\"\n",
       "                              OLS Regression Results                             \n",
       "=================================================================================\n",
       "Dep. Variable:     FacebookAdConversions   R-squared:                       0.763\n",
       "Model:                               OLS   Adj. R-squared:                  0.763\n",
       "Method:                    Least Squares   F-statistic:                     1172.\n",
       "Date:                   Fri, 19 Nov 2021   Prob (F-statistic):          1.09e-115\n",
       "Time:                           07:58:47   Log-Likelihood:                -646.02\n",
       "No. Observations:                    365   AIC:                             1296.\n",
       "Df Residuals:                        363   BIC:                             1304.\n",
       "Df Model:                              1                                         \n",
       "Covariance Type:               nonrobust                                         \n",
       "====================================================================================\n",
       "                       coef    std err          t      P>|t|      [0.025      0.975]\n",
       "------------------------------------------------------------------------------------\n",
       "const                2.4700      0.281      8.792      0.000       1.918       3.023\n",
       "FacebookAdClicks     0.2105      0.006     34.231      0.000       0.198       0.223\n",
       "==============================================================================\n",
       "Omnibus:                      156.204   Durbin-Watson:                   1.970\n",
       "Prob(Omnibus):                  0.000   Jarque-Bera (JB):               20.421\n",
       "Skew:                           0.063   Prob(JB):                     3.68e-05\n",
       "Kurtosis:                       1.848   Cond. No.                         172.\n",
       "==============================================================================\n",
       "\n",
       "Notes:\n",
       "[1] Standard Errors assume that the covariance matrix of the errors is correctly specified.\n",
       "\"\"\""
      ]
     },
     "execution_count": 40,
     "metadata": {},
     "output_type": "execute_result"
    }
   ],
   "source": [
    "model.summary()"
   ]
  },
  {
   "cell_type": "code",
   "execution_count": 41,
   "metadata": {},
   "outputs": [],
   "source": [
    "prediction = model.predict(X)"
   ]
  },
  {
   "cell_type": "code",
   "execution_count": 42,
   "metadata": {},
   "outputs": [
    {
     "data": {
      "text/plain": [
       "0      6.26\n",
       "1     10.05\n",
       "2      7.94\n",
       "3      8.15\n",
       "4      5.63\n",
       "       ... \n",
       "360   13.21\n",
       "361   16.99\n",
       "362   11.73\n",
       "363   10.26\n",
       "364   15.10\n",
       "Length: 365, dtype: float64"
      ]
     },
     "execution_count": 42,
     "metadata": {},
     "output_type": "execute_result"
    }
   ],
   "source": [
    "prediction"
   ]
  },
  {
   "cell_type": "markdown",
   "metadata": {},
   "source": [
    "### Residual Plots"
   ]
  },
  {
   "cell_type": "code",
   "execution_count": 43,
   "metadata": {},
   "outputs": [
    {
     "data": {
      "image/png": "[encoded data removed]",
      "text/plain": [
       "<Figure size 864x576 with 4 Axes>"
      ]
     },
     "metadata": {},
     "output_type": "display_data"
    }
   ],
   "source": [
    "fig = plt.figure(figsize=(12,8))\n",
    "fig = sm.graphics.plot_regress_exog(model, 'FacebookAdClicks', fig=fig)"
   ]
  },
  {
   "cell_type": "markdown",
   "metadata": {},
   "source": [
    "## Simple Linear Regression"
   ]
  },
  {
   "cell_type": "code",
   "execution_count": 44,
   "metadata": {},
   "outputs": [
    {
     "data": {
      "text/html": [
       "<div>\n",
       "<style scoped>\n",
       "    .dataframe tbody tr th:only-of-type {\n",
       "        vertical-align: middle;\n",
       "    }\n",
       "\n",
       "    .dataframe tbody tr th {\n",
       "        vertical-align: top;\n",
       "    }\n",
       "\n",
       "    .dataframe thead th {\n",
       "        text-align: right;\n",
       "    }\n",
       "</style>\n",
       "<table border=\"1\" class=\"dataframe\">\n",
       "  <thead>\n",
       "    <tr style=\"text-align: right;\">\n",
       "      <th></th>\n",
       "      <th>Date</th>\n",
       "      <th>FacebookAdCampaign</th>\n",
       "      <th>FacebookAdViews</th>\n",
       "      <th>FacebookAdClicks</th>\n",
       "      <th>FacebookAdConversions</th>\n",
       "      <th>CostperFacebookAd</th>\n",
       "      <th>FacebookClickThroughRate</th>\n",
       "      <th>FacebookConversionRate</th>\n",
       "      <th>FacebookCostperClick</th>\n",
       "      <th>AdwareAdCampaign</th>\n",
       "      <th>AdwareAdViews</th>\n",
       "      <th>AdwareAdClicks</th>\n",
       "      <th>AdwareAdConversions</th>\n",
       "      <th>CostperAdwareAd</th>\n",
       "      <th>AdwareClickThroughRate</th>\n",
       "      <th>AdwareConversionRate</th>\n",
       "      <th>AdwareCostperClick</th>\n",
       "      <th>Number of Occurances</th>\n",
       "    </tr>\n",
       "  </thead>\n",
       "  <tbody>\n",
       "    <tr>\n",
       "      <th>0</th>\n",
       "      <td>2019-01-01</td>\n",
       "      <td>FB_Jan19</td>\n",
       "      <td>2116</td>\n",
       "      <td>18</td>\n",
       "      <td>8</td>\n",
       "      <td>126</td>\n",
       "      <td>0.01</td>\n",
       "      <td>0.43</td>\n",
       "      <td>7.14</td>\n",
       "      <td>AW_Jan19</td>\n",
       "      <td>4984</td>\n",
       "      <td>59</td>\n",
       "      <td>5</td>\n",
       "      <td>194</td>\n",
       "      <td>0.01</td>\n",
       "      <td>0.08</td>\n",
       "      <td>3.30</td>\n",
       "      <td>1 to 5</td>\n",
       "    </tr>\n",
       "    <tr>\n",
       "      <th>1</th>\n",
       "      <td>2019-01-02</td>\n",
       "      <td>FB_Jan19</td>\n",
       "      <td>3106</td>\n",
       "      <td>36</td>\n",
       "      <td>12</td>\n",
       "      <td>104</td>\n",
       "      <td>0.01</td>\n",
       "      <td>0.34</td>\n",
       "      <td>2.91</td>\n",
       "      <td>AW_Jan19</td>\n",
       "      <td>4022</td>\n",
       "      <td>71</td>\n",
       "      <td>6</td>\n",
       "      <td>75</td>\n",
       "      <td>0.02</td>\n",
       "      <td>0.08</td>\n",
       "      <td>1.05</td>\n",
       "      <td>6 to 10</td>\n",
       "    </tr>\n",
       "    <tr>\n",
       "      <th>2</th>\n",
       "      <td>2019-01-03</td>\n",
       "      <td>FB_Jan19</td>\n",
       "      <td>3105</td>\n",
       "      <td>26</td>\n",
       "      <td>8</td>\n",
       "      <td>102</td>\n",
       "      <td>0.01</td>\n",
       "      <td>0.31</td>\n",
       "      <td>3.89</td>\n",
       "      <td>AW_Jan19</td>\n",
       "      <td>3863</td>\n",
       "      <td>44</td>\n",
       "      <td>4</td>\n",
       "      <td>141</td>\n",
       "      <td>0.01</td>\n",
       "      <td>0.10</td>\n",
       "      <td>3.23</td>\n",
       "      <td>1 to 5</td>\n",
       "    </tr>\n",
       "    <tr>\n",
       "      <th>3</th>\n",
       "      <td>2019-01-04</td>\n",
       "      <td>FB_Jan19</td>\n",
       "      <td>1107</td>\n",
       "      <td>27</td>\n",
       "      <td>9</td>\n",
       "      <td>71</td>\n",
       "      <td>0.02</td>\n",
       "      <td>0.35</td>\n",
       "      <td>2.62</td>\n",
       "      <td>AW_Jan19</td>\n",
       "      <td>3911</td>\n",
       "      <td>49</td>\n",
       "      <td>5</td>\n",
       "      <td>141</td>\n",
       "      <td>0.01</td>\n",
       "      <td>0.11</td>\n",
       "      <td>2.86</td>\n",
       "      <td>1 to 5</td>\n",
       "    </tr>\n",
       "    <tr>\n",
       "      <th>4</th>\n",
       "      <td>2019-01-05</td>\n",
       "      <td>FB_Jan19</td>\n",
       "      <td>1317</td>\n",
       "      <td>15</td>\n",
       "      <td>7</td>\n",
       "      <td>78</td>\n",
       "      <td>0.01</td>\n",
       "      <td>0.48</td>\n",
       "      <td>5.38</td>\n",
       "      <td>AW_Jan19</td>\n",
       "      <td>4070</td>\n",
       "      <td>55</td>\n",
       "      <td>7</td>\n",
       "      <td>133</td>\n",
       "      <td>0.01</td>\n",
       "      <td>0.12</td>\n",
       "      <td>2.40</td>\n",
       "      <td>6 to 10</td>\n",
       "    </tr>\n",
       "    <tr>\n",
       "      <th>...</th>\n",
       "      <td>...</td>\n",
       "      <td>...</td>\n",
       "      <td>...</td>\n",
       "      <td>...</td>\n",
       "      <td>...</td>\n",
       "      <td>...</td>\n",
       "      <td>...</td>\n",
       "      <td>...</td>\n",
       "      <td>...</td>\n",
       "      <td>...</td>\n",
       "      <td>...</td>\n",
       "      <td>...</td>\n",
       "      <td>...</td>\n",
       "      <td>...</td>\n",
       "      <td>...</td>\n",
       "      <td>...</td>\n",
       "      <td>...</td>\n",
       "      <td>...</td>\n",
       "    </tr>\n",
       "    <tr>\n",
       "      <th>360</th>\n",
       "      <td>2019-12-27</td>\n",
       "      <td>FB_Dec19</td>\n",
       "      <td>3240</td>\n",
       "      <td>51</td>\n",
       "      <td>13</td>\n",
       "      <td>63</td>\n",
       "      <td>0.02</td>\n",
       "      <td>0.26</td>\n",
       "      <td>1.24</td>\n",
       "      <td>AW_Dec19</td>\n",
       "      <td>5332</td>\n",
       "      <td>72</td>\n",
       "      <td>9</td>\n",
       "      <td>76</td>\n",
       "      <td>0.01</td>\n",
       "      <td>0.12</td>\n",
       "      <td>1.06</td>\n",
       "      <td>6 to 10</td>\n",
       "    </tr>\n",
       "    <tr>\n",
       "      <th>361</th>\n",
       "      <td>2019-12-28</td>\n",
       "      <td>FB_Dec19</td>\n",
       "      <td>1510</td>\n",
       "      <td>69</td>\n",
       "      <td>18</td>\n",
       "      <td>97</td>\n",
       "      <td>0.05</td>\n",
       "      <td>0.26</td>\n",
       "      <td>1.42</td>\n",
       "      <td>AW_Dec19</td>\n",
       "      <td>3887</td>\n",
       "      <td>49</td>\n",
       "      <td>6</td>\n",
       "      <td>121</td>\n",
       "      <td>0.01</td>\n",
       "      <td>0.13</td>\n",
       "      <td>2.46</td>\n",
       "      <td>6 to 10</td>\n",
       "    </tr>\n",
       "    <tr>\n",
       "      <th>362</th>\n",
       "      <td>2019-12-29</td>\n",
       "      <td>FB_Dec19</td>\n",
       "      <td>2918</td>\n",
       "      <td>44</td>\n",
       "      <td>13</td>\n",
       "      <td>49</td>\n",
       "      <td>0.01</td>\n",
       "      <td>0.29</td>\n",
       "      <td>1.11</td>\n",
       "      <td>AW_Dec19</td>\n",
       "      <td>5327</td>\n",
       "      <td>62</td>\n",
       "      <td>6</td>\n",
       "      <td>128</td>\n",
       "      <td>0.01</td>\n",
       "      <td>0.10</td>\n",
       "      <td>2.08</td>\n",
       "      <td>6 to 10</td>\n",
       "    </tr>\n",
       "    <tr>\n",
       "      <th>363</th>\n",
       "      <td>2019-12-30</td>\n",
       "      <td>FB_Dec19</td>\n",
       "      <td>2212</td>\n",
       "      <td>37</td>\n",
       "      <td>8</td>\n",
       "      <td>102</td>\n",
       "      <td>0.02</td>\n",
       "      <td>0.23</td>\n",
       "      <td>2.75</td>\n",
       "      <td>AW_Dec19</td>\n",
       "      <td>4020</td>\n",
       "      <td>71</td>\n",
       "      <td>6</td>\n",
       "      <td>119</td>\n",
       "      <td>0.02</td>\n",
       "      <td>0.08</td>\n",
       "      <td>1.68</td>\n",
       "      <td>6 to 10</td>\n",
       "    </tr>\n",
       "    <tr>\n",
       "      <th>364</th>\n",
       "      <td>2019-12-31</td>\n",
       "      <td>FB_Dec19</td>\n",
       "      <td>1470</td>\n",
       "      <td>60</td>\n",
       "      <td>17</td>\n",
       "      <td>99</td>\n",
       "      <td>0.04</td>\n",
       "      <td>0.28</td>\n",
       "      <td>1.65</td>\n",
       "      <td>AW_Dec19</td>\n",
       "      <td>4592</td>\n",
       "      <td>47</td>\n",
       "      <td>6</td>\n",
       "      <td>86</td>\n",
       "      <td>0.01</td>\n",
       "      <td>0.14</td>\n",
       "      <td>1.85</td>\n",
       "      <td>6 to 10</td>\n",
       "    </tr>\n",
       "  </tbody>\n",
       "</table>\n",
       "<p>365 rows × 18 columns</p>\n",
       "</div>"
      ],
      "text/plain": [
       "          Date FacebookAdCampaign  FacebookAdViews  FacebookAdClicks  FacebookAdConversions  CostperFacebookAd  FacebookClickThroughRate  FacebookConversionRate  FacebookCostperClick AdwareAdCampaign  AdwareAdViews  AdwareAdClicks  AdwareAdConversions  CostperAdwareAd  AdwareClickThroughRate  AdwareConversionRate  AdwareCostperClick Number of Occurances\n",
       "0   2019-01-01           FB_Jan19             2116                18                      8                126                      0.01                    0.43                  7.14         AW_Jan19           4984              59                    5              194                    0.01                  0.08                3.30               1 to 5\n",
       "1   2019-01-02           FB_Jan19             3106                36                     12                104                      0.01                    0.34                  2.91         AW_Jan19           4022              71                    6               75                    0.02                  0.08                1.05              6 to 10\n",
       "2   2019-01-03           FB_Jan19             3105                26                      8                102                      0.01                    0.31                  3.89         AW_Jan19           3863              44                    4              141                    0.01                  0.10                3.23               1 to 5\n",
       "3   2019-01-04           FB_Jan19             1107                27                      9                 71                      0.02                    0.35                  2.62         AW_Jan19           3911              49                    5              141                    0.01                  0.11                2.86               1 to 5\n",
       "4   2019-01-05           FB_Jan19             1317                15                      7                 78                      0.01                    0.48                  5.38         AW_Jan19           4070              55                    7              133                    0.01                  0.12                2.40              6 to 10\n",
       "..         ...                ...              ...               ...                    ...                ...                       ...                     ...                   ...              ...            ...             ...                  ...              ...                     ...                   ...                 ...                  ...\n",
       "360 2019-12-27           FB_Dec19             3240                51                     13                 63                      0.02                    0.26                  1.24         AW_Dec19           5332              72                    9               76                    0.01                  0.12                1.06              6 to 10\n",
       "361 2019-12-28           FB_Dec19             1510                69                     18                 97                      0.05                    0.26                  1.42         AW_Dec19           3887              49                    6              121                    0.01                  0.13                2.46              6 to 10\n",
       "362 2019-12-29           FB_Dec19             2918                44                     13                 49                      0.01                    0.29                  1.11         AW_Dec19           5327              62                    6              128                    0.01                  0.10                2.08              6 to 10\n",
       "363 2019-12-30           FB_Dec19             2212                37                      8                102                      0.02                    0.23                  2.75         AW_Dec19           4020              71                    6              119                    0.02                  0.08                1.68              6 to 10\n",
       "364 2019-12-31           FB_Dec19             1470                60                     17                 99                      0.04                    0.28                  1.65         AW_Dec19           4592              47                    6               86                    0.01                  0.14                1.85              6 to 10\n",
       "\n",
       "[365 rows x 18 columns]"
      ]
     },
     "execution_count": 44,
     "metadata": {},
     "output_type": "execute_result"
    }
   ],
   "source": [
    "df"
   ]
  },
  {
   "cell_type": "code",
   "execution_count": 45,
   "metadata": {},
   "outputs": [],
   "source": [
    "y = df[['FacebookAdConversions']]\n",
    "X = df[['FacebookAdClicks']]"
   ]
  },
  {
   "cell_type": "code",
   "execution_count": 46,
   "metadata": {},
   "outputs": [],
   "source": [
    "X_train, X_test, y_train, y_test = train_test_split(X.values, y.values, test_size=0.2, random_state=0)"
   ]
  },
  {
   "cell_type": "code",
   "execution_count": 47,
   "metadata": {},
   "outputs": [
    {
     "data": {
      "text/plain": [
       "((292, 1), (73, 1), (292, 1), (73, 1))"
      ]
     },
     "execution_count": 47,
     "metadata": {},
     "output_type": "execute_result"
    }
   ],
   "source": [
    "X_train.shape, X_test.shape, y_train.shape, y_test.shape"
   ]
  },
  {
   "cell_type": "code",
   "execution_count": 48,
   "metadata": {},
   "outputs": [],
   "source": [
    "lrmodel = LinearRegression()"
   ]
  },
  {
   "cell_type": "code",
   "execution_count": 49,
   "metadata": {},
   "outputs": [
    {
     "data": {
      "text/plain": [
       "LinearRegression()"
      ]
     },
     "execution_count": 49,
     "metadata": {},
     "output_type": "execute_result"
    }
   ],
   "source": [
    "lrmodel.fit(X_train,y_train)"
   ]
  },
  {
   "cell_type": "code",
   "execution_count": 50,
   "metadata": {},
   "outputs": [],
   "source": [
    "y_pred = lrmodel.predict(X_test)"
   ]
  },
  {
   "cell_type": "code",
   "execution_count": 51,
   "metadata": {},
   "outputs": [
    {
     "data": {
      "text/plain": [
       "array([[14.57927624],\n",
       "       [14.17301443],\n",
       "       [11.32918178],\n",
       "       [11.93857449],\n",
       "       [10.31352726]])"
      ]
     },
     "execution_count": 51,
     "metadata": {},
     "output_type": "execute_result"
    }
   ],
   "source": [
    "y_pred[:5]"
   ]
  },
  {
   "cell_type": "code",
   "execution_count": 52,
   "metadata": {},
   "outputs": [
    {
     "data": {
      "text/plain": [
       "2.154474491489892"
      ]
     },
     "execution_count": 52,
     "metadata": {},
     "output_type": "execute_result"
    }
   ],
   "source": [
    "mse = mean_squared_error(y_test,y_pred)\n",
    "mse"
   ]
  },
  {
   "cell_type": "code",
   "execution_count": 53,
   "metadata": {},
   "outputs": [
    {
     "data": {
      "text/plain": [
       "1.4678128257682899"
      ]
     },
     "execution_count": 53,
     "metadata": {},
     "output_type": "execute_result"
    }
   ],
   "source": [
    "rmse = np.sqrt(mse)\n",
    "rmse"
   ]
  },
  {
   "cell_type": "code",
   "execution_count": 54,
   "metadata": {},
   "outputs": [
    {
     "data": {
      "text/plain": [
       "0.7827917332258194"
      ]
     },
     "execution_count": 54,
     "metadata": {},
     "output_type": "execute_result"
    }
   ],
   "source": [
    "r2score = r2_score(y_test,y_pred)\n",
    "r2score"
   ]
  },
  {
   "cell_type": "code",
   "execution_count": 55,
   "metadata": {},
   "outputs": [
    {
     "data": {
      "image/png": "[encoded data removed]",
      "text/plain": [
       "<Figure size 720x576 with 1 Axes>"
      ]
     },
     "metadata": {},
     "output_type": "display_data"
    }
   ],
   "source": [
    "fig, ax = plt.subplots(figsize=(10,8))\n",
    "sns.regplot(x=y_test, y=y_pred, ax=ax)\n",
    "plt.title(\"Regression Plot\", fontsize=20)\n",
    "plt.ylabel(\"Predicted\")\n",
    "plt.xlabel(\"Actual\")\n",
    "plt.show()"
   ]
  },
  {
   "cell_type": "code",
   "execution_count": 56,
   "metadata": {},
   "outputs": [
    {
     "data": {
      "image/png": "[encoded data removed]",
      "text/plain": [
       "<Figure size 720x576 with 1 Axes>"
      ]
     },
     "metadata": {},
     "output_type": "display_data"
    }
   ],
   "source": [
    "fig, ax = plt.subplots(figsize=(10,8))\n",
    "sns.regplot(x=\"FacebookAdClicks\", y=\"FacebookAdConversions\", data=df)\n",
    "plt.title(\"Regression Plot\", size=20)\n",
    "plt.show()"
   ]
  },
  {
   "cell_type": "markdown",
   "metadata": {},
   "source": [
    "Using your chart, state what your model shows to be the expected number of Facebook Ad Conversions for a day of 50 Facebook Clicks"
   ]
  },
  {
   "cell_type": "markdown",
   "metadata": {},
   "source": [
    "**13**"
   ]
  },
  {
   "cell_type": "markdown",
   "metadata": {},
   "source": [
    "#### Python code done by Dennis Lam"
   ]
  },
  {
   "cell_type": "code",
   "execution_count": null,
   "metadata": {},
   "outputs": [],
   "source": []
  }
 ],
 "metadata": {
  "kernelspec": {
   "display_name": "Python 3",
   "language": "python",
   "name": "python3"
  },
  "language_info": {
   "codemirror_mode": {
    "name": "ipython",
    "version": 3
   },
   "file_extension": ".py",
   "mimetype": "text/x-python",
   "name": "python",
   "nbconvert_exporter": "python",
   "pygments_lexer": "ipython3",
   "version": "3.8.8"
  }
 },
 "nbformat": 4,
 "nbformat_minor": 4
}
