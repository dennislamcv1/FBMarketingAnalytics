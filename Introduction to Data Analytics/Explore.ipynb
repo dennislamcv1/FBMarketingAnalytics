{
 "cells": [
  {
   "cell_type": "markdown",
   "metadata": {
    "deletable": false,
    "editable": false,
    "nbgrader": {
     "cell_type": "markdown",
     "checksum": "5017bc807a74032c3485d06e37fb2b22",
     "grade": false,
     "grade_id": "cell-8ffd98ff51da8dd5",
     "locked": true,
     "schema_version": 3,
     "solution": false,
     "task": false
    }
   },
   "source": [
    "# Part III: Explore\n",
    "\n",
    "![alt text](data/inu_neko_logo_small.png \"Inu + Neko\")\n",
    "\n",
    "Hello! We are Inu + Neku and we are a Dog & Cat services and supplies store located in New York City. We just started our e-commerce business and need your help analyzing our data!"
   ]
  },
  {
   "cell_type": "markdown",
   "metadata": {
    "deletable": false,
    "editable": false,
    "nbgrader": {
     "cell_type": "markdown",
     "checksum": "b7d79e28b99e73c12c777a31721b638a",
     "grade": false,
     "grade_id": "cell-843890ae04b6d8b8",
     "locked": true,
     "schema_version": 3,
     "solution": false,
     "task": false
    }
   },
   "source": [
    "## Description\n",
    "\n",
    "We need to make sure the data is clean before starting your analysis. As a reminder, we should check for:\n",
    "\n",
    "- Duplicate records\n",
    "- Consistent formatting\n",
    "- Missing values\n",
    "- Obviously wrong values\n",
    "\n",
    "> **NOTE:** You can check if your answer is at least close to the correct/expected answer with the check functions (`q1_check()`, `q2_check()`, ...). These functions will check your answer and give you some feedback. However, your answer might be _incorrect_ even if the check functions says you're \"close\" to the expected answer."
   ]
  },
  {
   "cell_type": "code",
   "execution_count": 1,
   "metadata": {
    "deletable": false,
    "editable": false,
    "nbgrader": {
     "cell_type": "code",
     "checksum": "d16cb700998d92f0d9884047d3652f3b",
     "grade": false,
     "grade_id": "cell-beb161b036c44177",
     "locked": true,
     "schema_version": 3,
     "solution": false,
     "task": false
    }
   },
   "outputs": [],
   "source": [
    "import pandas as pd\n",
    "import numpy as np\n",
    "\n",
    "\n",
    "from checker.binder import binder; binder.bind(globals())\n",
    "from intro_data_analytics.check_practice_explore import *"
   ]
  },
  {
   "cell_type": "code",
   "execution_count": 2,
   "metadata": {
    "deletable": false,
    "nbgrader": {
     "cell_type": "code",
     "checksum": "6cea42d8305a102ac6bd31d89f9c55be",
     "grade": false,
     "grade_id": "cell-1316036195ef2947",
     "locked": true,
     "schema_version": 3,
     "solution": false,
     "task": false
    }
   },
   "outputs": [
    {
     "data": {
      "text/html": [
       "<div>\n",
       "<style scoped>\n",
       "    .dataframe tbody tr th:only-of-type {\n",
       "        vertical-align: middle;\n",
       "    }\n",
       "\n",
       "    .dataframe tbody tr th {\n",
       "        vertical-align: top;\n",
       "    }\n",
       "\n",
       "    .dataframe thead th {\n",
       "        text-align: right;\n",
       "    }\n",
       "</style>\n",
       "<table border=\"1\" class=\"dataframe\">\n",
       "  <thead>\n",
       "    <tr style=\"text-align: right;\">\n",
       "      <th></th>\n",
       "      <th>trans_id</th>\n",
       "      <th>prod_upc</th>\n",
       "      <th>cust_id</th>\n",
       "      <th>trans_timestamp</th>\n",
       "      <th>trans_year</th>\n",
       "      <th>trans_month</th>\n",
       "      <th>trans_day</th>\n",
       "      <th>trans_hour</th>\n",
       "      <th>trans_quantity</th>\n",
       "      <th>cust_age</th>\n",
       "      <th>cust_state</th>\n",
       "      <th>prod_price</th>\n",
       "      <th>prod_title</th>\n",
       "      <th>prod_category</th>\n",
       "      <th>prod_animal_type</th>\n",
       "      <th>total_sales</th>\n",
       "    </tr>\n",
       "  </thead>\n",
       "  <tbody>\n",
       "    <tr>\n",
       "      <th>0</th>\n",
       "      <td>10311803</td>\n",
       "      <td>704772572943</td>\n",
       "      <td>1010865</td>\n",
       "      <td>2021-05-04 14:20:00.426577</td>\n",
       "      <td>2021</td>\n",
       "      <td>5</td>\n",
       "      <td>4</td>\n",
       "      <td>4</td>\n",
       "      <td>1</td>\n",
       "      <td>21</td>\n",
       "      <td>Pennsylvania</td>\n",
       "      <td>35.98</td>\n",
       "      <td>Scratchy Post</td>\n",
       "      <td>toy</td>\n",
       "      <td>cat</td>\n",
       "      <td>35.98</td>\n",
       "    </tr>\n",
       "    <tr>\n",
       "      <th>1</th>\n",
       "      <td>10300426</td>\n",
       "      <td>441530839394</td>\n",
       "      <td>1001150</td>\n",
       "      <td>2021-01-19 10:03:15.598881</td>\n",
       "      <td>2021</td>\n",
       "      <td>1</td>\n",
       "      <td>19</td>\n",
       "      <td>19</td>\n",
       "      <td>2</td>\n",
       "      <td>21</td>\n",
       "      <td>Oregon</td>\n",
       "      <td>28.45</td>\n",
       "      <td>Ball and String</td>\n",
       "      <td>toy</td>\n",
       "      <td>cat</td>\n",
       "      <td>56.90</td>\n",
       "    </tr>\n",
       "    <tr>\n",
       "      <th>2</th>\n",
       "      <td>10311471</td>\n",
       "      <td>969568933713</td>\n",
       "      <td>1010603</td>\n",
       "      <td>2021-05-02 09:41:06.068295</td>\n",
       "      <td>2021</td>\n",
       "      <td>5</td>\n",
       "      <td>2</td>\n",
       "      <td>2</td>\n",
       "      <td>1</td>\n",
       "      <td>44</td>\n",
       "      <td>Texas</td>\n",
       "      <td>32.99</td>\n",
       "      <td>Foozy Mouse</td>\n",
       "      <td>toy</td>\n",
       "      <td>cat</td>\n",
       "      <td>32.99</td>\n",
       "    </tr>\n",
       "    <tr>\n",
       "      <th>3</th>\n",
       "      <td>10306506</td>\n",
       "      <td>100469015054</td>\n",
       "      <td>1006616</td>\n",
       "      <td>2021-04-03 08:22:05.599849</td>\n",
       "      <td>2021</td>\n",
       "      <td>4</td>\n",
       "      <td>3</td>\n",
       "      <td>3</td>\n",
       "      <td>2</td>\n",
       "      <td>25</td>\n",
       "      <td>New Jersey</td>\n",
       "      <td>18.95</td>\n",
       "      <td>Tuna Tasties</td>\n",
       "      <td>treat</td>\n",
       "      <td>cat</td>\n",
       "      <td>37.90</td>\n",
       "    </tr>\n",
       "    <tr>\n",
       "      <th>4</th>\n",
       "      <td>10308646</td>\n",
       "      <td>521244155990</td>\n",
       "      <td>1008375</td>\n",
       "      <td>2021-04-17 09:44:51.009960</td>\n",
       "      <td>2021</td>\n",
       "      <td>4</td>\n",
       "      <td>17</td>\n",
       "      <td>17</td>\n",
       "      <td>1</td>\n",
       "      <td>30</td>\n",
       "      <td>New Jersey</td>\n",
       "      <td>54.95</td>\n",
       "      <td>Reddy Beddy</td>\n",
       "      <td>bedding</td>\n",
       "      <td>dog</td>\n",
       "      <td>54.95</td>\n",
       "    </tr>\n",
       "    <tr>\n",
       "      <th>...</th>\n",
       "      <td>...</td>\n",
       "      <td>...</td>\n",
       "      <td>...</td>\n",
       "      <td>...</td>\n",
       "      <td>...</td>\n",
       "      <td>...</td>\n",
       "      <td>...</td>\n",
       "      <td>...</td>\n",
       "      <td>...</td>\n",
       "      <td>...</td>\n",
       "      <td>...</td>\n",
       "      <td>...</td>\n",
       "      <td>...</td>\n",
       "      <td>...</td>\n",
       "      <td>...</td>\n",
       "      <td>...</td>\n",
       "    </tr>\n",
       "    <tr>\n",
       "      <th>23751</th>\n",
       "      <td>10305783</td>\n",
       "      <td>832878954342</td>\n",
       "      <td>1006011</td>\n",
       "      <td>2021-03-29 10:48:52.680900</td>\n",
       "      <td>2021</td>\n",
       "      <td>3</td>\n",
       "      <td>29</td>\n",
       "      <td>29</td>\n",
       "      <td>1</td>\n",
       "      <td>40</td>\n",
       "      <td>New York</td>\n",
       "      <td>45.99</td>\n",
       "      <td>Snoozer Hammock</td>\n",
       "      <td>bedding</td>\n",
       "      <td>cat</td>\n",
       "      <td>45.99</td>\n",
       "    </tr>\n",
       "    <tr>\n",
       "      <th>23752</th>\n",
       "      <td>10317151</td>\n",
       "      <td>441530839394</td>\n",
       "      <td>1014854</td>\n",
       "      <td>2021-05-27 12:15:18.931957</td>\n",
       "      <td>2021</td>\n",
       "      <td>5</td>\n",
       "      <td>27</td>\n",
       "      <td>27</td>\n",
       "      <td>1</td>\n",
       "      <td>21</td>\n",
       "      <td>New Mexico</td>\n",
       "      <td>28.45</td>\n",
       "      <td>Ball and String</td>\n",
       "      <td>toy</td>\n",
       "      <td>cat</td>\n",
       "      <td>28.45</td>\n",
       "    </tr>\n",
       "    <tr>\n",
       "      <th>23753</th>\n",
       "      <td>10302720</td>\n",
       "      <td>733426809698</td>\n",
       "      <td>1003380</td>\n",
       "      <td>2021-02-28 10:13:34.969109</td>\n",
       "      <td>2021</td>\n",
       "      <td>2</td>\n",
       "      <td>28</td>\n",
       "      <td>28</td>\n",
       "      <td>1</td>\n",
       "      <td>26</td>\n",
       "      <td>Michigan</td>\n",
       "      <td>18.95</td>\n",
       "      <td>Yum Fish-Dish</td>\n",
       "      <td>food</td>\n",
       "      <td>cat</td>\n",
       "      <td>18.95</td>\n",
       "    </tr>\n",
       "    <tr>\n",
       "      <th>23754</th>\n",
       "      <td>10314978</td>\n",
       "      <td>733426809698</td>\n",
       "      <td>1013297</td>\n",
       "      <td>2021-05-18 10:51:44.007914</td>\n",
       "      <td>2021</td>\n",
       "      <td>5</td>\n",
       "      <td>18</td>\n",
       "      <td>18</td>\n",
       "      <td>1</td>\n",
       "      <td>29</td>\n",
       "      <td>Pennsylvania</td>\n",
       "      <td>18.95</td>\n",
       "      <td>Yum Fish-Dish</td>\n",
       "      <td>food</td>\n",
       "      <td>cat</td>\n",
       "      <td>18.95</td>\n",
       "    </tr>\n",
       "    <tr>\n",
       "      <th>23755</th>\n",
       "      <td>10316727</td>\n",
       "      <td>469757173540</td>\n",
       "      <td>1014548</td>\n",
       "      <td>2021-05-25 11:54:05.656762</td>\n",
       "      <td>2021</td>\n",
       "      <td>5</td>\n",
       "      <td>25</td>\n",
       "      <td>25</td>\n",
       "      <td>4</td>\n",
       "      <td>31</td>\n",
       "      <td>Nevada</td>\n",
       "      <td>35.99</td>\n",
       "      <td>Kitty Climber</td>\n",
       "      <td>toy</td>\n",
       "      <td>cat</td>\n",
       "      <td>143.96</td>\n",
       "    </tr>\n",
       "  </tbody>\n",
       "</table>\n",
       "<p>23756 rows × 16 columns</p>\n",
       "</div>"
      ],
      "text/plain": [
       "       trans_id      prod_upc  cust_id            trans_timestamp  trans_year  \\\n",
       "0      10311803  704772572943  1010865 2021-05-04 14:20:00.426577        2021   \n",
       "1      10300426  441530839394  1001150 2021-01-19 10:03:15.598881        2021   \n",
       "2      10311471  969568933713  1010603 2021-05-02 09:41:06.068295        2021   \n",
       "3      10306506  100469015054  1006616 2021-04-03 08:22:05.599849        2021   \n",
       "4      10308646  521244155990  1008375 2021-04-17 09:44:51.009960        2021   \n",
       "...         ...           ...      ...                        ...         ...   \n",
       "23751  10305783  832878954342  1006011 2021-03-29 10:48:52.680900        2021   \n",
       "23752  10317151  441530839394  1014854 2021-05-27 12:15:18.931957        2021   \n",
       "23753  10302720  733426809698  1003380 2021-02-28 10:13:34.969109        2021   \n",
       "23754  10314978  733426809698  1013297 2021-05-18 10:51:44.007914        2021   \n",
       "23755  10316727  469757173540  1014548 2021-05-25 11:54:05.656762        2021   \n",
       "\n",
       "       trans_month  trans_day  trans_hour  trans_quantity  cust_age  \\\n",
       "0                5          4           4               1        21   \n",
       "1                1         19          19               2        21   \n",
       "2                5          2           2               1        44   \n",
       "3                4          3           3               2        25   \n",
       "4                4         17          17               1        30   \n",
       "...            ...        ...         ...             ...       ...   \n",
       "23751            3         29          29               1        40   \n",
       "23752            5         27          27               1        21   \n",
       "23753            2         28          28               1        26   \n",
       "23754            5         18          18               1        29   \n",
       "23755            5         25          25               4        31   \n",
       "\n",
       "         cust_state  prod_price       prod_title prod_category  \\\n",
       "0      Pennsylvania       35.98    Scratchy Post           toy   \n",
       "1            Oregon       28.45  Ball and String           toy   \n",
       "2             Texas       32.99      Foozy Mouse           toy   \n",
       "3        New Jersey       18.95     Tuna Tasties         treat   \n",
       "4        New Jersey       54.95      Reddy Beddy       bedding   \n",
       "...             ...         ...              ...           ...   \n",
       "23751      New York       45.99  Snoozer Hammock       bedding   \n",
       "23752    New Mexico       28.45  Ball and String           toy   \n",
       "23753      Michigan       18.95    Yum Fish-Dish          food   \n",
       "23754  Pennsylvania       18.95    Yum Fish-Dish          food   \n",
       "23755        Nevada       35.99    Kitty Climber           toy   \n",
       "\n",
       "      prod_animal_type  total_sales  \n",
       "0                  cat        35.98  \n",
       "1                  cat        56.90  \n",
       "2                  cat        32.99  \n",
       "3                  cat        37.90  \n",
       "4                  dog        54.95  \n",
       "...                ...          ...  \n",
       "23751              cat        45.99  \n",
       "23752              cat        28.45  \n",
       "23753              cat        18.95  \n",
       "23754              cat        18.95  \n",
       "23755              cat       143.96  \n",
       "\n",
       "[23756 rows x 16 columns]"
      ]
     },
     "execution_count": 2,
     "metadata": {},
     "output_type": "execute_result"
    }
   ],
   "source": [
    "df_cleaned = pd.read_csv('data/inu_neko_orderline_cleaned.csv', parse_dates=[\"trans_timestamp\"])\n",
    "df_cleaned"
   ]
  },
  {
   "cell_type": "code",
   "execution_count": 3,
   "metadata": {
    "deletable": false,
    "editable": false,
    "nbgrader": {
     "cell_type": "code",
     "checksum": "8e1377c8abf545c005cd78319345cb60",
     "grade": false,
     "grade_id": "cell-1f7c217b9f5dc484",
     "locked": true,
     "schema_version": 3,
     "solution": false,
     "task": false
    }
   },
   "outputs": [
    {
     "name": "stdout",
     "output_type": "stream",
     "text": [
      "<class 'pandas.core.frame.DataFrame'>\n",
      "RangeIndex: 23756 entries, 0 to 23755\n",
      "Data columns (total 16 columns):\n",
      " #   Column            Non-Null Count  Dtype         \n",
      "---  ------            --------------  -----         \n",
      " 0   trans_id          23756 non-null  int64         \n",
      " 1   prod_upc          23756 non-null  int64         \n",
      " 2   cust_id           23756 non-null  int64         \n",
      " 3   trans_timestamp   23756 non-null  datetime64[ns]\n",
      " 4   trans_year        23756 non-null  int64         \n",
      " 5   trans_month       23756 non-null  int64         \n",
      " 6   trans_day         23756 non-null  int64         \n",
      " 7   trans_hour        23756 non-null  int64         \n",
      " 8   trans_quantity    23756 non-null  int64         \n",
      " 9   cust_age          23756 non-null  int64         \n",
      " 10  cust_state        23756 non-null  object        \n",
      " 11  prod_price        23756 non-null  float64       \n",
      " 12  prod_title        23756 non-null  object        \n",
      " 13  prod_category     23756 non-null  object        \n",
      " 14  prod_animal_type  23756 non-null  object        \n",
      " 15  total_sales       23756 non-null  float64       \n",
      "dtypes: datetime64[ns](1), float64(2), int64(9), object(4)\n",
      "memory usage: 2.9+ MB\n"
     ]
    }
   ],
   "source": [
    "df_cleaned.info()"
   ]
  },
  {
   "cell_type": "markdown",
   "metadata": {
    "deletable": false,
    "editable": false,
    "nbgrader": {
     "cell_type": "markdown",
     "checksum": "1aac8941682150799dafa2841164e72a",
     "grade": false,
     "grade_id": "cell-5b21e0995de9f072",
     "locked": true,
     "schema_version": 3,
     "solution": false,
     "task": false
    }
   },
   "source": [
    "#### Question 1: Number of Orders\n",
    "\n",
    "How many transactions are there?"
   ]
  },
  {
   "cell_type": "code",
   "execution_count": 4,
   "metadata": {},
   "outputs": [
    {
     "data": {
      "text/plain": [
       "17416"
      ]
     },
     "execution_count": 4,
     "metadata": {},
     "output_type": "execute_result"
    }
   ],
   "source": [
    "df_cleaned.trans_id.value_counts().count()"
   ]
  },
  {
   "cell_type": "code",
   "execution_count": 5,
   "metadata": {
    "deletable": false,
    "nbgrader": {
     "cell_type": "code",
     "checksum": "1e49d3c5cac3d037448048d7c6db0253",
     "grade": false,
     "grade_id": "cell-976c898e7f2b44c4",
     "locked": false,
     "schema_version": 3,
     "solution": true,
     "task": false
    }
   },
   "outputs": [],
   "source": [
    "# your code here\n",
    "\n",
    "num_trans = df_cleaned.trans_id.value_counts().count()"
   ]
  },
  {
   "cell_type": "code",
   "execution_count": 6,
   "metadata": {
    "deletable": false,
    "editable": false,
    "nbgrader": {
     "cell_type": "code",
     "checksum": "2bb1ddbba2425359aef42c01f99802d6",
     "grade": true,
     "grade_id": "cell-25ca64f53b142f34",
     "locked": true,
     "points": 4,
     "schema_version": 3,
     "solution": false,
     "task": false
    }
   },
   "outputs": [
    {
     "name": "stdout",
     "output_type": "stream",
     "text": [
      "\u001b[92mYour answer `17416` for the `num_trans` variable looks about right!\n",
      "Note that doesn't mean it's correct though, just that your answer is at least **close** to the correct answer. It's possible your answer isn't correct, although it's close! \u001b[0m\n"
     ]
    }
   ],
   "source": [
    "# Q1 Test Cases\n",
    "check_q1()\n"
   ]
  },
  {
   "cell_type": "markdown",
   "metadata": {
    "deletable": false,
    "editable": false,
    "nbgrader": {
     "cell_type": "markdown",
     "checksum": "dbbcb9e840f3b9c342c881a835e5f0c1",
     "grade": false,
     "grade_id": "cell-0a31f9747863940e",
     "locked": true,
     "schema_version": 3,
     "solution": false,
     "task": false
    }
   },
   "source": [
    "#### Question 2: Alpha and Omega I\n",
    "What was the month and day of the first sale? Store as a tuple in that order and assign the tuple to the variable `first_date`."
   ]
  },
  {
   "cell_type": "code",
   "execution_count": 7,
   "metadata": {},
   "outputs": [
    {
     "data": {
      "text/plain": [
       "trans_id                              10311803\n",
       "prod_upc                          704772572943\n",
       "cust_id                                1010865\n",
       "trans_timestamp     2021-05-04 14:20:00.426577\n",
       "trans_year                                2021\n",
       "trans_month                                  5\n",
       "trans_day                                    4\n",
       "trans_hour                                   4\n",
       "trans_quantity                               1\n",
       "cust_age                                    21\n",
       "cust_state                        Pennsylvania\n",
       "prod_price                               35.98\n",
       "prod_title                       Scratchy Post\n",
       "prod_category                              toy\n",
       "prod_animal_type                           cat\n",
       "total_sales                              35.98\n",
       "Name: 0, dtype: object"
      ]
     },
     "execution_count": 7,
     "metadata": {},
     "output_type": "execute_result"
    }
   ],
   "source": [
    "df_cleaned.loc[0]"
   ]
  },
  {
   "cell_type": "code",
   "execution_count": 8,
   "metadata": {
    "deletable": false,
    "nbgrader": {
     "cell_type": "code",
     "checksum": "8a71800126e46e93b74701632148768f",
     "grade": false,
     "grade_id": "cell-bd2b89a8035a9ab8",
     "locked": false,
     "schema_version": 3,
     "solution": true,
     "task": false
    }
   },
   "outputs": [],
   "source": [
    "# your code here\n",
    "\n",
    "first_date = (df_cleaned.trans_month.loc[0], df_cleaned.trans_day.loc[0])"
   ]
  },
  {
   "cell_type": "code",
   "execution_count": 9,
   "metadata": {},
   "outputs": [
    {
     "data": {
      "text/plain": [
       "(5, 4)"
      ]
     },
     "execution_count": 9,
     "metadata": {},
     "output_type": "execute_result"
    }
   ],
   "source": [
    "first_date"
   ]
  },
  {
   "cell_type": "code",
   "execution_count": 10,
   "metadata": {
    "deletable": false,
    "editable": false,
    "nbgrader": {
     "cell_type": "code",
     "checksum": "ec9d1f104cd4d0dfc5f3084bece10717",
     "grade": true,
     "grade_id": "cell-8a2534037c10eb71",
     "locked": true,
     "points": 4,
     "schema_version": 3,
     "solution": false,
     "task": false
    }
   },
   "outputs": [
    {
     "name": "stdout",
     "output_type": "stream",
     "text": [
      "\u001b[92mYour answer `(5, 4)` for `first_date` variable looks about right!\n",
      "Note that doesn't mean it's correct though, just that your answer is at least **close** to the correct answer. It's possible your answer isn't correct, although it's close! \u001b[0m\n"
     ]
    }
   ],
   "source": [
    "# Q2 Test Cases\n",
    "check_q2()\n"
   ]
  },
  {
   "cell_type": "markdown",
   "metadata": {
    "deletable": false,
    "editable": false,
    "nbgrader": {
     "cell_type": "markdown",
     "checksum": "d5331e475d8ab74da24d0ac3b0240606",
     "grade": false,
     "grade_id": "cell-d0395f0fe97ea8c1",
     "locked": true,
     "schema_version": 3,
     "solution": false,
     "task": false
    }
   },
   "source": [
    "#### Question 3: Alpha and Omega II\n",
    "What was the month and day of the last sale? Store as a tuple in that order and assign the tuple to the variable `last_date`."
   ]
  },
  {
   "cell_type": "code",
   "execution_count": 11,
   "metadata": {},
   "outputs": [
    {
     "data": {
      "text/plain": [
       "trans_id                              10316727\n",
       "prod_upc                          469757173540\n",
       "cust_id                                1014548\n",
       "trans_timestamp     2021-05-25 11:54:05.656762\n",
       "trans_year                                2021\n",
       "trans_month                                  5\n",
       "trans_day                                   25\n",
       "trans_hour                                  25\n",
       "trans_quantity                               4\n",
       "cust_age                                    31\n",
       "cust_state                              Nevada\n",
       "prod_price                               35.99\n",
       "prod_title                       Kitty Climber\n",
       "prod_category                              toy\n",
       "prod_animal_type                           cat\n",
       "total_sales                             143.96\n",
       "Name: 23755, dtype: object"
      ]
     },
     "execution_count": 11,
     "metadata": {},
     "output_type": "execute_result"
    }
   ],
   "source": [
    "df_cleaned.loc[23755]"
   ]
  },
  {
   "cell_type": "code",
   "execution_count": 12,
   "metadata": {
    "deletable": false,
    "nbgrader": {
     "cell_type": "code",
     "checksum": "5d90ab248efee42d93d2491d9644b0ed",
     "grade": false,
     "grade_id": "cell-a6304e08d438b5d0",
     "locked": false,
     "schema_version": 3,
     "solution": true,
     "task": false
    }
   },
   "outputs": [],
   "source": [
    "# your code here\n",
    "\n",
    "last_date = (df_cleaned.trans_month.loc[23755], df_cleaned.trans_day.loc[23755])"
   ]
  },
  {
   "cell_type": "code",
   "execution_count": 13,
   "metadata": {
    "deletable": false,
    "editable": false,
    "nbgrader": {
     "cell_type": "code",
     "checksum": "da0e39d0d2869ec7bccdc888371ccd8f",
     "grade": true,
     "grade_id": "cell-5ef9e6fb442b7a99",
     "locked": true,
     "points": 4,
     "schema_version": 3,
     "solution": false,
     "task": false
    }
   },
   "outputs": [
    {
     "name": "stdout",
     "output_type": "stream",
     "text": [
      "\u001b[92mYour answer `(5, 25)` for `last_date` variable looks about right!\n",
      "Note that doesn't mean it's correct though, just that your answer is at least **close** to the correct answer. It's possible your answer isn't correct, although it's close! \u001b[0m\n"
     ]
    }
   ],
   "source": [
    "# Q3 Test Cases\n",
    "check_q3()\n"
   ]
  },
  {
   "cell_type": "markdown",
   "metadata": {
    "deletable": false,
    "editable": false,
    "nbgrader": {
     "cell_type": "markdown",
     "checksum": "2fdfb3d2f058f2d45689c7a3c23e1768",
     "grade": false,
     "grade_id": "cell-38fa66cb1c9a3d31",
     "locked": true,
     "schema_version": 3,
     "solution": false,
     "task": false
    }
   },
   "source": [
    "#### Question 4: Cats vs Dogs\n",
    "\n",
    "Which animal product type is most popular?"
   ]
  },
  {
   "cell_type": "code",
   "execution_count": 14,
   "metadata": {},
   "outputs": [
    {
     "data": {
      "text/plain": [
       "cat    13660\n",
       "dog    10096\n",
       "Name: prod_animal_type, dtype: int64"
      ]
     },
     "execution_count": 14,
     "metadata": {},
     "output_type": "execute_result"
    }
   ],
   "source": [
    "df_cleaned.prod_animal_type.value_counts()"
   ]
  },
  {
   "cell_type": "code",
   "execution_count": 15,
   "metadata": {},
   "outputs": [
    {
     "data": {
      "text/html": [
       "<div>\n",
       "<style scoped>\n",
       "    .dataframe tbody tr th:only-of-type {\n",
       "        vertical-align: middle;\n",
       "    }\n",
       "\n",
       "    .dataframe tbody tr th {\n",
       "        vertical-align: top;\n",
       "    }\n",
       "\n",
       "    .dataframe thead th {\n",
       "        text-align: right;\n",
       "    }\n",
       "</style>\n",
       "<table border=\"1\" class=\"dataframe\">\n",
       "  <thead>\n",
       "    <tr style=\"text-align: right;\">\n",
       "      <th></th>\n",
       "      <th>prod_animal_type</th>\n",
       "    </tr>\n",
       "  </thead>\n",
       "  <tbody>\n",
       "    <tr>\n",
       "      <th>cat</th>\n",
       "      <td>13660</td>\n",
       "    </tr>\n",
       "    <tr>\n",
       "      <th>dog</th>\n",
       "      <td>10096</td>\n",
       "    </tr>\n",
       "  </tbody>\n",
       "</table>\n",
       "</div>"
      ],
      "text/plain": [
       "     prod_animal_type\n",
       "cat             13660\n",
       "dog             10096"
      ]
     },
     "execution_count": 15,
     "metadata": {},
     "output_type": "execute_result"
    }
   ],
   "source": [
    "df2 = pd.DataFrame(df_cleaned.prod_animal_type.value_counts())\n",
    "df2"
   ]
  },
  {
   "cell_type": "code",
   "execution_count": 16,
   "metadata": {
    "deletable": false,
    "nbgrader": {
     "cell_type": "code",
     "checksum": "0cd9ca757a5a1966d1b5b2b92369fe9b",
     "grade": false,
     "grade_id": "cell-10183753169be5e8",
     "locked": false,
     "schema_version": 3,
     "solution": true,
     "task": false
    }
   },
   "outputs": [],
   "source": [
    "# your code here\n",
    "\n",
    "most_pop = df2.index[0]"
   ]
  },
  {
   "cell_type": "code",
   "execution_count": 17,
   "metadata": {},
   "outputs": [
    {
     "data": {
      "text/plain": [
       "'cat'"
      ]
     },
     "execution_count": 17,
     "metadata": {},
     "output_type": "execute_result"
    }
   ],
   "source": [
    "most_pop"
   ]
  },
  {
   "cell_type": "code",
   "execution_count": 18,
   "metadata": {
    "deletable": false,
    "editable": false,
    "nbgrader": {
     "cell_type": "code",
     "checksum": "8aa559b0ab871210a9d3b33ffd389d63",
     "grade": true,
     "grade_id": "cell-996a95ebb5eec26f",
     "locked": true,
     "points": 4,
     "schema_version": 3,
     "solution": false,
     "task": false
    }
   },
   "outputs": [
    {
     "name": "stdout",
     "output_type": "stream",
     "text": [
      "\u001b[92mYour answer `cat` for the `most_pop` variable looks about right!\n",
      "Note that doesn't mean it's correct though, just that your answer is at least **close** to the correct answer. It's possible your answer isn't correct, although it's close! \u001b[0m\n"
     ]
    }
   ],
   "source": [
    "# Q4 Test Cases\n",
    "check_q4()\n"
   ]
  },
  {
   "cell_type": "markdown",
   "metadata": {
    "deletable": false,
    "editable": false,
    "nbgrader": {
     "cell_type": "markdown",
     "checksum": "f8f1268778dcc9eaaa89a102cc7e5e4a",
     "grade": false,
     "grade_id": "cell-b81c4a8a616a491e",
     "locked": true,
     "schema_version": 3,
     "solution": false,
     "task": false
    }
   },
   "source": [
    "#### Question 5: More Money More Problems I\n",
    "\n",
    "What was the total dollar amount made in the month of January? Store this in the variable `jan_rev`."
   ]
  },
  {
   "cell_type": "code",
   "execution_count": 19,
   "metadata": {},
   "outputs": [
    {
     "data": {
      "text/html": [
       "<div>\n",
       "<style scoped>\n",
       "    .dataframe tbody tr th:only-of-type {\n",
       "        vertical-align: middle;\n",
       "    }\n",
       "\n",
       "    .dataframe tbody tr th {\n",
       "        vertical-align: top;\n",
       "    }\n",
       "\n",
       "    .dataframe thead th {\n",
       "        text-align: right;\n",
       "    }\n",
       "</style>\n",
       "<table border=\"1\" class=\"dataframe\">\n",
       "  <thead>\n",
       "    <tr style=\"text-align: right;\">\n",
       "      <th></th>\n",
       "      <th>trans_id</th>\n",
       "      <th>prod_upc</th>\n",
       "      <th>cust_id</th>\n",
       "      <th>trans_timestamp</th>\n",
       "      <th>trans_year</th>\n",
       "      <th>trans_month</th>\n",
       "      <th>trans_day</th>\n",
       "      <th>trans_hour</th>\n",
       "      <th>trans_quantity</th>\n",
       "      <th>cust_age</th>\n",
       "      <th>cust_state</th>\n",
       "      <th>prod_price</th>\n",
       "      <th>prod_title</th>\n",
       "      <th>prod_category</th>\n",
       "      <th>prod_animal_type</th>\n",
       "      <th>total_sales</th>\n",
       "    </tr>\n",
       "  </thead>\n",
       "  <tbody>\n",
       "    <tr>\n",
       "      <th>1</th>\n",
       "      <td>10300426</td>\n",
       "      <td>441530839394</td>\n",
       "      <td>1001150</td>\n",
       "      <td>2021-01-19 10:03:15.598881</td>\n",
       "      <td>2021</td>\n",
       "      <td>1</td>\n",
       "      <td>19</td>\n",
       "      <td>19</td>\n",
       "      <td>2</td>\n",
       "      <td>21</td>\n",
       "      <td>Oregon</td>\n",
       "      <td>28.45</td>\n",
       "      <td>Ball and String</td>\n",
       "      <td>toy</td>\n",
       "      <td>cat</td>\n",
       "      <td>56.90</td>\n",
       "    </tr>\n",
       "    <tr>\n",
       "      <th>34</th>\n",
       "      <td>10300269</td>\n",
       "      <td>344538897332</td>\n",
       "      <td>1001179</td>\n",
       "      <td>2021-01-13 08:25:40.635465</td>\n",
       "      <td>2021</td>\n",
       "      <td>1</td>\n",
       "      <td>13</td>\n",
       "      <td>13</td>\n",
       "      <td>2</td>\n",
       "      <td>20</td>\n",
       "      <td>North Carolina</td>\n",
       "      <td>19.99</td>\n",
       "      <td>Feline Fix Mix</td>\n",
       "      <td>treat</td>\n",
       "      <td>cat</td>\n",
       "      <td>39.98</td>\n",
       "    </tr>\n",
       "    <tr>\n",
       "      <th>36</th>\n",
       "      <td>10300213</td>\n",
       "      <td>845773115334</td>\n",
       "      <td>1001128</td>\n",
       "      <td>2021-01-08 10:30:08.064197</td>\n",
       "      <td>2021</td>\n",
       "      <td>1</td>\n",
       "      <td>8</td>\n",
       "      <td>8</td>\n",
       "      <td>1</td>\n",
       "      <td>31</td>\n",
       "      <td>New York</td>\n",
       "      <td>12.99</td>\n",
       "      <td>Purr Mix</td>\n",
       "      <td>food</td>\n",
       "      <td>cat</td>\n",
       "      <td>12.99</td>\n",
       "    </tr>\n",
       "    <tr>\n",
       "      <th>37</th>\n",
       "      <td>10300803</td>\n",
       "      <td>845773115334</td>\n",
       "      <td>1001665</td>\n",
       "      <td>2021-01-28 06:23:29.537982</td>\n",
       "      <td>2021</td>\n",
       "      <td>1</td>\n",
       "      <td>28</td>\n",
       "      <td>28</td>\n",
       "      <td>1</td>\n",
       "      <td>29</td>\n",
       "      <td>Idaho</td>\n",
       "      <td>12.99</td>\n",
       "      <td>Purr Mix</td>\n",
       "      <td>food</td>\n",
       "      <td>cat</td>\n",
       "      <td>12.99</td>\n",
       "    </tr>\n",
       "    <tr>\n",
       "      <th>79</th>\n",
       "      <td>10300720</td>\n",
       "      <td>969568933713</td>\n",
       "      <td>1001521</td>\n",
       "      <td>2021-01-26 11:41:53.077390</td>\n",
       "      <td>2021</td>\n",
       "      <td>1</td>\n",
       "      <td>26</td>\n",
       "      <td>26</td>\n",
       "      <td>4</td>\n",
       "      <td>40</td>\n",
       "      <td>New Jersey</td>\n",
       "      <td>32.99</td>\n",
       "      <td>Foozy Mouse</td>\n",
       "      <td>toy</td>\n",
       "      <td>cat</td>\n",
       "      <td>131.96</td>\n",
       "    </tr>\n",
       "    <tr>\n",
       "      <th>...</th>\n",
       "      <td>...</td>\n",
       "      <td>...</td>\n",
       "      <td>...</td>\n",
       "      <td>...</td>\n",
       "      <td>...</td>\n",
       "      <td>...</td>\n",
       "      <td>...</td>\n",
       "      <td>...</td>\n",
       "      <td>...</td>\n",
       "      <td>...</td>\n",
       "      <td>...</td>\n",
       "      <td>...</td>\n",
       "      <td>...</td>\n",
       "      <td>...</td>\n",
       "      <td>...</td>\n",
       "      <td>...</td>\n",
       "    </tr>\n",
       "    <tr>\n",
       "      <th>23646</th>\n",
       "      <td>10300866</td>\n",
       "      <td>904582148679</td>\n",
       "      <td>1001723</td>\n",
       "      <td>2021-01-29 10:09:43.347188</td>\n",
       "      <td>2021</td>\n",
       "      <td>1</td>\n",
       "      <td>29</td>\n",
       "      <td>29</td>\n",
       "      <td>1</td>\n",
       "      <td>40</td>\n",
       "      <td>New Jersey</td>\n",
       "      <td>12.97</td>\n",
       "      <td>Whole Chemistry Recipe</td>\n",
       "      <td>food</td>\n",
       "      <td>dog</td>\n",
       "      <td>12.97</td>\n",
       "    </tr>\n",
       "    <tr>\n",
       "      <th>23661</th>\n",
       "      <td>10300840</td>\n",
       "      <td>140160459467</td>\n",
       "      <td>1001698</td>\n",
       "      <td>2021-01-29 14:19:43.033245</td>\n",
       "      <td>2021</td>\n",
       "      <td>1</td>\n",
       "      <td>29</td>\n",
       "      <td>29</td>\n",
       "      <td>3</td>\n",
       "      <td>24</td>\n",
       "      <td>Connecticut</td>\n",
       "      <td>48.95</td>\n",
       "      <td>Snoozer Essentails</td>\n",
       "      <td>bedding</td>\n",
       "      <td>dog</td>\n",
       "      <td>146.85</td>\n",
       "    </tr>\n",
       "    <tr>\n",
       "      <th>23675</th>\n",
       "      <td>10300387</td>\n",
       "      <td>344934101144</td>\n",
       "      <td>1001289</td>\n",
       "      <td>2021-01-17 08:26:37.366229</td>\n",
       "      <td>2021</td>\n",
       "      <td>1</td>\n",
       "      <td>17</td>\n",
       "      <td>17</td>\n",
       "      <td>1</td>\n",
       "      <td>26</td>\n",
       "      <td>California</td>\n",
       "      <td>24.95</td>\n",
       "      <td>Fetch Blaster</td>\n",
       "      <td>toy</td>\n",
       "      <td>dog</td>\n",
       "      <td>24.95</td>\n",
       "    </tr>\n",
       "    <tr>\n",
       "      <th>23738</th>\n",
       "      <td>10300717</td>\n",
       "      <td>344934101144</td>\n",
       "      <td>1001592</td>\n",
       "      <td>2021-01-26 10:05:05.511948</td>\n",
       "      <td>2021</td>\n",
       "      <td>1</td>\n",
       "      <td>26</td>\n",
       "      <td>26</td>\n",
       "      <td>1</td>\n",
       "      <td>34</td>\n",
       "      <td>New Mexico</td>\n",
       "      <td>24.95</td>\n",
       "      <td>Fetch Blaster</td>\n",
       "      <td>toy</td>\n",
       "      <td>dog</td>\n",
       "      <td>24.95</td>\n",
       "    </tr>\n",
       "    <tr>\n",
       "      <th>23743</th>\n",
       "      <td>10300372</td>\n",
       "      <td>374613020864</td>\n",
       "      <td>1001190</td>\n",
       "      <td>2021-01-16 12:14:16.939405</td>\n",
       "      <td>2021</td>\n",
       "      <td>1</td>\n",
       "      <td>16</td>\n",
       "      <td>16</td>\n",
       "      <td>2</td>\n",
       "      <td>21</td>\n",
       "      <td>Ohio</td>\n",
       "      <td>10.97</td>\n",
       "      <td>Chewie Dental</td>\n",
       "      <td>treat</td>\n",
       "      <td>dog</td>\n",
       "      <td>21.94</td>\n",
       "    </tr>\n",
       "  </tbody>\n",
       "</table>\n",
       "<p>1206 rows × 16 columns</p>\n",
       "</div>"
      ],
      "text/plain": [
       "       trans_id      prod_upc  cust_id            trans_timestamp  trans_year  \\\n",
       "1      10300426  441530839394  1001150 2021-01-19 10:03:15.598881        2021   \n",
       "34     10300269  344538897332  1001179 2021-01-13 08:25:40.635465        2021   \n",
       "36     10300213  845773115334  1001128 2021-01-08 10:30:08.064197        2021   \n",
       "37     10300803  845773115334  1001665 2021-01-28 06:23:29.537982        2021   \n",
       "79     10300720  969568933713  1001521 2021-01-26 11:41:53.077390        2021   \n",
       "...         ...           ...      ...                        ...         ...   \n",
       "23646  10300866  904582148679  1001723 2021-01-29 10:09:43.347188        2021   \n",
       "23661  10300840  140160459467  1001698 2021-01-29 14:19:43.033245        2021   \n",
       "23675  10300387  344934101144  1001289 2021-01-17 08:26:37.366229        2021   \n",
       "23738  10300717  344934101144  1001592 2021-01-26 10:05:05.511948        2021   \n",
       "23743  10300372  374613020864  1001190 2021-01-16 12:14:16.939405        2021   \n",
       "\n",
       "       trans_month  trans_day  trans_hour  trans_quantity  cust_age  \\\n",
       "1                1         19          19               2        21   \n",
       "34               1         13          13               2        20   \n",
       "36               1          8           8               1        31   \n",
       "37               1         28          28               1        29   \n",
       "79               1         26          26               4        40   \n",
       "...            ...        ...         ...             ...       ...   \n",
       "23646            1         29          29               1        40   \n",
       "23661            1         29          29               3        24   \n",
       "23675            1         17          17               1        26   \n",
       "23738            1         26          26               1        34   \n",
       "23743            1         16          16               2        21   \n",
       "\n",
       "           cust_state  prod_price              prod_title prod_category  \\\n",
       "1              Oregon       28.45         Ball and String           toy   \n",
       "34     North Carolina       19.99          Feline Fix Mix         treat   \n",
       "36           New York       12.99                Purr Mix          food   \n",
       "37              Idaho       12.99                Purr Mix          food   \n",
       "79         New Jersey       32.99             Foozy Mouse           toy   \n",
       "...               ...         ...                     ...           ...   \n",
       "23646      New Jersey       12.97  Whole Chemistry Recipe          food   \n",
       "23661     Connecticut       48.95      Snoozer Essentails       bedding   \n",
       "23675      California       24.95           Fetch Blaster           toy   \n",
       "23738      New Mexico       24.95           Fetch Blaster           toy   \n",
       "23743            Ohio       10.97           Chewie Dental         treat   \n",
       "\n",
       "      prod_animal_type  total_sales  \n",
       "1                  cat        56.90  \n",
       "34                 cat        39.98  \n",
       "36                 cat        12.99  \n",
       "37                 cat        12.99  \n",
       "79                 cat       131.96  \n",
       "...                ...          ...  \n",
       "23646              dog        12.97  \n",
       "23661              dog       146.85  \n",
       "23675              dog        24.95  \n",
       "23738              dog        24.95  \n",
       "23743              dog        21.94  \n",
       "\n",
       "[1206 rows x 16 columns]"
      ]
     },
     "execution_count": 19,
     "metadata": {},
     "output_type": "execute_result"
    }
   ],
   "source": [
    "df3 = df_cleaned[df_cleaned.trans_month == 1]\n",
    "df3"
   ]
  },
  {
   "cell_type": "code",
   "execution_count": 20,
   "metadata": {
    "deletable": false,
    "nbgrader": {
     "cell_type": "code",
     "checksum": "9220262fb20238c54559bcc2261cb8fe",
     "grade": false,
     "grade_id": "cell-c51d5edcf4fe931c",
     "locked": false,
     "schema_version": 3,
     "solution": true,
     "task": false
    }
   },
   "outputs": [
    {
     "data": {
      "text/plain": [
       "51739.73999999999"
      ]
     },
     "execution_count": 20,
     "metadata": {},
     "output_type": "execute_result"
    }
   ],
   "source": [
    "# your code here\n",
    "\n",
    "jan_rev = df3[\"total_sales\"].sum()\n",
    "\n",
    "jan_rev"
   ]
  },
  {
   "cell_type": "code",
   "execution_count": 21,
   "metadata": {
    "deletable": false,
    "editable": false,
    "nbgrader": {
     "cell_type": "code",
     "checksum": "6caf0a0dfe5ac9a514143fb24dff6649",
     "grade": true,
     "grade_id": "cell-9a89e109181bc6b0",
     "locked": true,
     "points": 4,
     "schema_version": 3,
     "solution": false,
     "task": false
    }
   },
   "outputs": [
    {
     "name": "stdout",
     "output_type": "stream",
     "text": [
      "\u001b[92mYour answer `51739.73999999999` for the `jan_rev` variable looks about right!\n",
      "Note that doesn't mean it's correct though, just that your answer is at least **close** to the correct answer. It's possible your answer isn't correct, although it's close! \u001b[0m\n"
     ]
    }
   ],
   "source": [
    "# Q5 Test Cases\n",
    "check_q5()\n"
   ]
  },
  {
   "cell_type": "markdown",
   "metadata": {
    "deletable": false,
    "editable": false,
    "nbgrader": {
     "cell_type": "markdown",
     "checksum": "822817b931b79e30509e79c06e42f7b5",
     "grade": false,
     "grade_id": "cell-0205547589da160c",
     "locked": true,
     "schema_version": 3,
     "solution": false,
     "task": false
    }
   },
   "source": [
    "#### Question 6: More Money More Problems II\n",
    "\n",
    "What was the total dollar amount made in the month of May? Store this in the variable `may_rev`."
   ]
  },
  {
   "cell_type": "code",
   "execution_count": 22,
   "metadata": {},
   "outputs": [
    {
     "data": {
      "text/html": [
       "<div>\n",
       "<style scoped>\n",
       "    .dataframe tbody tr th:only-of-type {\n",
       "        vertical-align: middle;\n",
       "    }\n",
       "\n",
       "    .dataframe tbody tr th {\n",
       "        vertical-align: top;\n",
       "    }\n",
       "\n",
       "    .dataframe thead th {\n",
       "        text-align: right;\n",
       "    }\n",
       "</style>\n",
       "<table border=\"1\" class=\"dataframe\">\n",
       "  <thead>\n",
       "    <tr style=\"text-align: right;\">\n",
       "      <th></th>\n",
       "      <th>trans_id</th>\n",
       "      <th>prod_upc</th>\n",
       "      <th>cust_id</th>\n",
       "      <th>trans_timestamp</th>\n",
       "      <th>trans_year</th>\n",
       "      <th>trans_month</th>\n",
       "      <th>trans_day</th>\n",
       "      <th>trans_hour</th>\n",
       "      <th>trans_quantity</th>\n",
       "      <th>cust_age</th>\n",
       "      <th>cust_state</th>\n",
       "      <th>prod_price</th>\n",
       "      <th>prod_title</th>\n",
       "      <th>prod_category</th>\n",
       "      <th>prod_animal_type</th>\n",
       "      <th>total_sales</th>\n",
       "    </tr>\n",
       "  </thead>\n",
       "  <tbody>\n",
       "    <tr>\n",
       "      <th>0</th>\n",
       "      <td>10311803</td>\n",
       "      <td>704772572943</td>\n",
       "      <td>1010865</td>\n",
       "      <td>2021-05-04 14:20:00.426577</td>\n",
       "      <td>2021</td>\n",
       "      <td>5</td>\n",
       "      <td>4</td>\n",
       "      <td>4</td>\n",
       "      <td>1</td>\n",
       "      <td>21</td>\n",
       "      <td>Pennsylvania</td>\n",
       "      <td>35.98</td>\n",
       "      <td>Scratchy Post</td>\n",
       "      <td>toy</td>\n",
       "      <td>cat</td>\n",
       "      <td>35.98</td>\n",
       "    </tr>\n",
       "    <tr>\n",
       "      <th>2</th>\n",
       "      <td>10311471</td>\n",
       "      <td>969568933713</td>\n",
       "      <td>1010603</td>\n",
       "      <td>2021-05-02 09:41:06.068295</td>\n",
       "      <td>2021</td>\n",
       "      <td>5</td>\n",
       "      <td>2</td>\n",
       "      <td>2</td>\n",
       "      <td>1</td>\n",
       "      <td>44</td>\n",
       "      <td>Texas</td>\n",
       "      <td>32.99</td>\n",
       "      <td>Foozy Mouse</td>\n",
       "      <td>toy</td>\n",
       "      <td>cat</td>\n",
       "      <td>32.99</td>\n",
       "    </tr>\n",
       "    <tr>\n",
       "      <th>7</th>\n",
       "      <td>10315454</td>\n",
       "      <td>483326155497</td>\n",
       "      <td>1013644</td>\n",
       "      <td>2021-05-20 12:13:35.082788</td>\n",
       "      <td>2021</td>\n",
       "      <td>5</td>\n",
       "      <td>20</td>\n",
       "      <td>20</td>\n",
       "      <td>2</td>\n",
       "      <td>42</td>\n",
       "      <td>California</td>\n",
       "      <td>10.99</td>\n",
       "      <td>The New Bone</td>\n",
       "      <td>food</td>\n",
       "      <td>dog</td>\n",
       "      <td>21.98</td>\n",
       "    </tr>\n",
       "    <tr>\n",
       "      <th>12</th>\n",
       "      <td>10317084</td>\n",
       "      <td>733426809698</td>\n",
       "      <td>1014811</td>\n",
       "      <td>2021-05-27 09:19:44.655972</td>\n",
       "      <td>2021</td>\n",
       "      <td>5</td>\n",
       "      <td>27</td>\n",
       "      <td>27</td>\n",
       "      <td>1</td>\n",
       "      <td>25</td>\n",
       "      <td>New Jersey</td>\n",
       "      <td>18.95</td>\n",
       "      <td>Yum Fish-Dish</td>\n",
       "      <td>food</td>\n",
       "      <td>cat</td>\n",
       "      <td>18.95</td>\n",
       "    </tr>\n",
       "    <tr>\n",
       "      <th>14</th>\n",
       "      <td>10315210</td>\n",
       "      <td>733426809698</td>\n",
       "      <td>1013468</td>\n",
       "      <td>2021-05-19 10:05:29.322772</td>\n",
       "      <td>2021</td>\n",
       "      <td>5</td>\n",
       "      <td>19</td>\n",
       "      <td>19</td>\n",
       "      <td>1</td>\n",
       "      <td>25</td>\n",
       "      <td>New York</td>\n",
       "      <td>18.95</td>\n",
       "      <td>Yum Fish-Dish</td>\n",
       "      <td>food</td>\n",
       "      <td>cat</td>\n",
       "      <td>18.95</td>\n",
       "    </tr>\n",
       "    <tr>\n",
       "      <th>...</th>\n",
       "      <td>...</td>\n",
       "      <td>...</td>\n",
       "      <td>...</td>\n",
       "      <td>...</td>\n",
       "      <td>...</td>\n",
       "      <td>...</td>\n",
       "      <td>...</td>\n",
       "      <td>...</td>\n",
       "      <td>...</td>\n",
       "      <td>...</td>\n",
       "      <td>...</td>\n",
       "      <td>...</td>\n",
       "      <td>...</td>\n",
       "      <td>...</td>\n",
       "      <td>...</td>\n",
       "      <td>...</td>\n",
       "    </tr>\n",
       "    <tr>\n",
       "      <th>23748</th>\n",
       "      <td>10314147</td>\n",
       "      <td>733426809698</td>\n",
       "      <td>1012675</td>\n",
       "      <td>2021-05-15 12:06:05.808038</td>\n",
       "      <td>2021</td>\n",
       "      <td>5</td>\n",
       "      <td>15</td>\n",
       "      <td>15</td>\n",
       "      <td>1</td>\n",
       "      <td>21</td>\n",
       "      <td>Ohio</td>\n",
       "      <td>18.95</td>\n",
       "      <td>Yum Fish-Dish</td>\n",
       "      <td>food</td>\n",
       "      <td>cat</td>\n",
       "      <td>18.95</td>\n",
       "    </tr>\n",
       "    <tr>\n",
       "      <th>23750</th>\n",
       "      <td>10315238</td>\n",
       "      <td>704772572943</td>\n",
       "      <td>1013490</td>\n",
       "      <td>2021-05-19 09:13:51.713197</td>\n",
       "      <td>2021</td>\n",
       "      <td>5</td>\n",
       "      <td>19</td>\n",
       "      <td>19</td>\n",
       "      <td>1</td>\n",
       "      <td>54</td>\n",
       "      <td>California</td>\n",
       "      <td>35.98</td>\n",
       "      <td>Scratchy Post</td>\n",
       "      <td>toy</td>\n",
       "      <td>cat</td>\n",
       "      <td>35.98</td>\n",
       "    </tr>\n",
       "    <tr>\n",
       "      <th>23752</th>\n",
       "      <td>10317151</td>\n",
       "      <td>441530839394</td>\n",
       "      <td>1014854</td>\n",
       "      <td>2021-05-27 12:15:18.931957</td>\n",
       "      <td>2021</td>\n",
       "      <td>5</td>\n",
       "      <td>27</td>\n",
       "      <td>27</td>\n",
       "      <td>1</td>\n",
       "      <td>21</td>\n",
       "      <td>New Mexico</td>\n",
       "      <td>28.45</td>\n",
       "      <td>Ball and String</td>\n",
       "      <td>toy</td>\n",
       "      <td>cat</td>\n",
       "      <td>28.45</td>\n",
       "    </tr>\n",
       "    <tr>\n",
       "      <th>23754</th>\n",
       "      <td>10314978</td>\n",
       "      <td>733426809698</td>\n",
       "      <td>1013297</td>\n",
       "      <td>2021-05-18 10:51:44.007914</td>\n",
       "      <td>2021</td>\n",
       "      <td>5</td>\n",
       "      <td>18</td>\n",
       "      <td>18</td>\n",
       "      <td>1</td>\n",
       "      <td>29</td>\n",
       "      <td>Pennsylvania</td>\n",
       "      <td>18.95</td>\n",
       "      <td>Yum Fish-Dish</td>\n",
       "      <td>food</td>\n",
       "      <td>cat</td>\n",
       "      <td>18.95</td>\n",
       "    </tr>\n",
       "    <tr>\n",
       "      <th>23755</th>\n",
       "      <td>10316727</td>\n",
       "      <td>469757173540</td>\n",
       "      <td>1014548</td>\n",
       "      <td>2021-05-25 11:54:05.656762</td>\n",
       "      <td>2021</td>\n",
       "      <td>5</td>\n",
       "      <td>25</td>\n",
       "      <td>25</td>\n",
       "      <td>4</td>\n",
       "      <td>31</td>\n",
       "      <td>Nevada</td>\n",
       "      <td>35.99</td>\n",
       "      <td>Kitty Climber</td>\n",
       "      <td>toy</td>\n",
       "      <td>cat</td>\n",
       "      <td>143.96</td>\n",
       "    </tr>\n",
       "  </tbody>\n",
       "</table>\n",
       "<p>8647 rows × 16 columns</p>\n",
       "</div>"
      ],
      "text/plain": [
       "       trans_id      prod_upc  cust_id            trans_timestamp  trans_year  \\\n",
       "0      10311803  704772572943  1010865 2021-05-04 14:20:00.426577        2021   \n",
       "2      10311471  969568933713  1010603 2021-05-02 09:41:06.068295        2021   \n",
       "7      10315454  483326155497  1013644 2021-05-20 12:13:35.082788        2021   \n",
       "12     10317084  733426809698  1014811 2021-05-27 09:19:44.655972        2021   \n",
       "14     10315210  733426809698  1013468 2021-05-19 10:05:29.322772        2021   \n",
       "...         ...           ...      ...                        ...         ...   \n",
       "23748  10314147  733426809698  1012675 2021-05-15 12:06:05.808038        2021   \n",
       "23750  10315238  704772572943  1013490 2021-05-19 09:13:51.713197        2021   \n",
       "23752  10317151  441530839394  1014854 2021-05-27 12:15:18.931957        2021   \n",
       "23754  10314978  733426809698  1013297 2021-05-18 10:51:44.007914        2021   \n",
       "23755  10316727  469757173540  1014548 2021-05-25 11:54:05.656762        2021   \n",
       "\n",
       "       trans_month  trans_day  trans_hour  trans_quantity  cust_age  \\\n",
       "0                5          4           4               1        21   \n",
       "2                5          2           2               1        44   \n",
       "7                5         20          20               2        42   \n",
       "12               5         27          27               1        25   \n",
       "14               5         19          19               1        25   \n",
       "...            ...        ...         ...             ...       ...   \n",
       "23748            5         15          15               1        21   \n",
       "23750            5         19          19               1        54   \n",
       "23752            5         27          27               1        21   \n",
       "23754            5         18          18               1        29   \n",
       "23755            5         25          25               4        31   \n",
       "\n",
       "         cust_state  prod_price       prod_title prod_category  \\\n",
       "0      Pennsylvania       35.98    Scratchy Post           toy   \n",
       "2             Texas       32.99      Foozy Mouse           toy   \n",
       "7        California       10.99     The New Bone          food   \n",
       "12       New Jersey       18.95    Yum Fish-Dish          food   \n",
       "14         New York       18.95    Yum Fish-Dish          food   \n",
       "...             ...         ...              ...           ...   \n",
       "23748          Ohio       18.95    Yum Fish-Dish          food   \n",
       "23750    California       35.98    Scratchy Post           toy   \n",
       "23752    New Mexico       28.45  Ball and String           toy   \n",
       "23754  Pennsylvania       18.95    Yum Fish-Dish          food   \n",
       "23755        Nevada       35.99    Kitty Climber           toy   \n",
       "\n",
       "      prod_animal_type  total_sales  \n",
       "0                  cat        35.98  \n",
       "2                  cat        32.99  \n",
       "7                  dog        21.98  \n",
       "12                 cat        18.95  \n",
       "14                 cat        18.95  \n",
       "...                ...          ...  \n",
       "23748              cat        18.95  \n",
       "23750              cat        35.98  \n",
       "23752              cat        28.45  \n",
       "23754              cat        18.95  \n",
       "23755              cat       143.96  \n",
       "\n",
       "[8647 rows x 16 columns]"
      ]
     },
     "execution_count": 22,
     "metadata": {},
     "output_type": "execute_result"
    }
   ],
   "source": [
    "df4 = df_cleaned[df_cleaned.trans_month == 5]\n",
    "df4"
   ]
  },
  {
   "cell_type": "code",
   "execution_count": 23,
   "metadata": {
    "deletable": false,
    "nbgrader": {
     "cell_type": "code",
     "checksum": "cfad7deca49b2b37948df067c64f2e00",
     "grade": false,
     "grade_id": "cell-0f1521ee38985bdd",
     "locked": false,
     "schema_version": 3,
     "solution": true,
     "task": false
    }
   },
   "outputs": [
    {
     "data": {
      "text/plain": [
       "370507.59"
      ]
     },
     "execution_count": 23,
     "metadata": {},
     "output_type": "execute_result"
    }
   ],
   "source": [
    "# your code here\n",
    "\n",
    "may_rev = df4[\"total_sales\"].sum()\n",
    "\n",
    "may_rev"
   ]
  },
  {
   "cell_type": "code",
   "execution_count": 24,
   "metadata": {
    "deletable": false,
    "editable": false,
    "nbgrader": {
     "cell_type": "code",
     "checksum": "9e5c350bacdb6a1059d5738f7749501f",
     "grade": true,
     "grade_id": "cell-5ac7a212f71fe758",
     "locked": true,
     "points": 4,
     "schema_version": 3,
     "solution": false,
     "task": false
    }
   },
   "outputs": [
    {
     "name": "stdout",
     "output_type": "stream",
     "text": [
      "\u001b[92mYour answer `370507.59` for the `may_rev` variable looks about right!\n",
      "Note that doesn't mean it's correct though, just that your answer is at least **close** to the correct answer. It's possible your answer isn't correct, although it's close! \u001b[0m\n"
     ]
    }
   ],
   "source": [
    "# Q6 Test Cases\n",
    "check_q6()\n"
   ]
  },
  {
   "cell_type": "markdown",
   "metadata": {
    "deletable": false,
    "editable": false,
    "nbgrader": {
     "cell_type": "markdown",
     "checksum": "a6644bd2e3d854d604d0f1794e630905",
     "grade": false,
     "grade_id": "cell-b428aa728b3bae2b",
     "locked": true,
     "schema_version": 3,
     "solution": false,
     "task": false
    }
   },
   "source": [
    "#### Question 7: Transaction Size\n",
    "\n",
    "What is the average number of items bought in each transaction? Sore this in the variable `avg_num_items`."
   ]
  },
  {
   "cell_type": "code",
   "execution_count": 25,
   "metadata": {},
   "outputs": [
    {
     "data": {
      "text/plain": [
       "17416"
      ]
     },
     "execution_count": 25,
     "metadata": {},
     "output_type": "execute_result"
    }
   ],
   "source": [
    "num_trans"
   ]
  },
  {
   "cell_type": "code",
   "execution_count": 26,
   "metadata": {},
   "outputs": [
    {
     "data": {
      "text/plain": [
       "32777"
      ]
     },
     "execution_count": 26,
     "metadata": {},
     "output_type": "execute_result"
    }
   ],
   "source": [
    "df_cleaned.trans_quantity.sum()"
   ]
  },
  {
   "cell_type": "code",
   "execution_count": 27,
   "metadata": {
    "deletable": false,
    "nbgrader": {
     "cell_type": "code",
     "checksum": "6d735cea5b5d75e522b9deb40990c6c5",
     "grade": false,
     "grade_id": "cell-aeccee5f203a3f64",
     "locked": false,
     "schema_version": 3,
     "solution": true,
     "task": false
    }
   },
   "outputs": [
    {
     "data": {
      "text/plain": [
       "1.8820050528249885"
      ]
     },
     "execution_count": 27,
     "metadata": {},
     "output_type": "execute_result"
    }
   ],
   "source": [
    "# your code here\n",
    "\n",
    "avg_num_items = df_cleaned.trans_quantity.sum() / num_trans\n",
    "\n",
    "avg_num_items"
   ]
  },
  {
   "cell_type": "code",
   "execution_count": 28,
   "metadata": {
    "deletable": false,
    "editable": false,
    "nbgrader": {
     "cell_type": "code",
     "checksum": "ace3d886a0b500a140a950943faee152",
     "grade": true,
     "grade_id": "cell-9107bb862558578a",
     "locked": true,
     "points": 4,
     "schema_version": 3,
     "solution": false,
     "task": false
    }
   },
   "outputs": [
    {
     "name": "stdout",
     "output_type": "stream",
     "text": [
      "\u001b[92mYour answer `1.8820050528249885` for the `avg_num_items` variable looks about right!\n",
      "Note that doesn't mean it's correct though, just that your answer is at least **close** to the correct answer. It's possible your answer isn't correct, although it's close! \u001b[0m\n"
     ]
    }
   ],
   "source": [
    "# Q7 Test Cases\n",
    "check_q7()\n"
   ]
  },
  {
   "cell_type": "markdown",
   "metadata": {
    "deletable": false,
    "editable": false,
    "nbgrader": {
     "cell_type": "markdown",
     "checksum": "b3aed85121f261dd1dbf51da71047120",
     "grade": false,
     "grade_id": "cell-510e9f8b6f0680cf",
     "locked": true,
     "schema_version": 3,
     "solution": false,
     "task": false
    }
   },
   "source": [
    "#### Question 8: Best Products I\n",
    "\n",
    "What are the top ten product titles by the total number of items sold for that product? Display in descending order. Store in variable `top_num_sales`."
   ]
  },
  {
   "cell_type": "code",
   "execution_count": 29,
   "metadata": {},
   "outputs": [
    {
     "data": {
      "text/plain": [
       "prod_title\n",
       "Reddy Beddy               4220\n",
       "Yum Fish-Dish             2613\n",
       "Feline Fix Mix            2116\n",
       "Kitty Climber             2063\n",
       "Tuna Tasties              1926\n",
       "Chewie Dental             1550\n",
       "Cat Cave                  1549\n",
       "Purrfect Puree            1528\n",
       "Whole Chemistry Recipe    1502\n",
       "Snoozer Hammock           1431\n",
       "Name: trans_quantity, dtype: int64"
      ]
     },
     "execution_count": 29,
     "metadata": {},
     "output_type": "execute_result"
    }
   ],
   "source": [
    "df_cleaned.groupby([\"prod_title\"])[\"trans_quantity\"].sum().nlargest(10)"
   ]
  },
  {
   "cell_type": "code",
   "execution_count": 30,
   "metadata": {},
   "outputs": [
    {
     "data": {
      "text/plain": [
       "prod_title\n",
       "Reddy Beddy               4220\n",
       "Yum Fish-Dish             2613\n",
       "Feline Fix Mix            2116\n",
       "Kitty Climber             2063\n",
       "Tuna Tasties              1926\n",
       "Chewie Dental             1550\n",
       "Cat Cave                  1549\n",
       "Purrfect Puree            1528\n",
       "Whole Chemistry Recipe    1502\n",
       "Snoozer Hammock           1431\n",
       "Name: trans_quantity, dtype: int64"
      ]
     },
     "execution_count": 30,
     "metadata": {},
     "output_type": "execute_result"
    }
   ],
   "source": [
    "df5 = df_cleaned.groupby([\"prod_title\"])[\"trans_quantity\"].sum().nlargest(10)\n",
    "\n",
    "df5"
   ]
  },
  {
   "cell_type": "code",
   "execution_count": 31,
   "metadata": {},
   "outputs": [
    {
     "data": {
      "text/plain": [
       "Index(['Reddy Beddy', 'Yum Fish-Dish', 'Feline Fix Mix', 'Kitty Climber',\n",
       "       'Tuna Tasties', 'Chewie Dental', 'Cat Cave', 'Purrfect Puree',\n",
       "       'Whole Chemistry Recipe', 'Snoozer Hammock'],\n",
       "      dtype='object', name='prod_title')"
      ]
     },
     "execution_count": 31,
     "metadata": {},
     "output_type": "execute_result"
    }
   ],
   "source": [
    "df5.index"
   ]
  },
  {
   "cell_type": "code",
   "execution_count": 32,
   "metadata": {
    "deletable": false,
    "nbgrader": {
     "cell_type": "code",
     "checksum": "d40ca2d91b3e4cb57c835ffbb869c6ea",
     "grade": false,
     "grade_id": "cell-6ebd3fdb04804030",
     "locked": false,
     "schema_version": 3,
     "solution": true,
     "task": false
    }
   },
   "outputs": [
    {
     "data": {
      "text/plain": [
       "Index(['Reddy Beddy', 'Yum Fish-Dish', 'Feline Fix Mix', 'Kitty Climber',\n",
       "       'Tuna Tasties', 'Chewie Dental', 'Cat Cave', 'Purrfect Puree',\n",
       "       'Whole Chemistry Recipe', 'Snoozer Hammock'],\n",
       "      dtype='object', name='prod_title')"
      ]
     },
     "execution_count": 32,
     "metadata": {},
     "output_type": "execute_result"
    }
   ],
   "source": [
    "# your code here\n",
    "\n",
    "top_num_sales = df5.index\n",
    "\n",
    "top_num_sales"
   ]
  },
  {
   "cell_type": "code",
   "execution_count": 33,
   "metadata": {
    "deletable": false,
    "editable": false,
    "nbgrader": {
     "cell_type": "code",
     "checksum": "b5f5d11d4e41283559c6a2086d6802cd",
     "grade": true,
     "grade_id": "cell-5cd99f7a3013a125",
     "locked": true,
     "points": 4,
     "schema_version": 3,
     "solution": false,
     "task": false
    }
   },
   "outputs": [
    {
     "name": "stdout",
     "output_type": "stream",
     "text": [
      "\u001b[92mYour answer for the `top_num_sales` variable looks about right!\n",
      "Note that doesn't mean it's correct though, just that your answer is at least **close** to the correct answer. It's possible your answer isn't correct, although it's close! \u001b[0m\n"
     ]
    }
   ],
   "source": [
    "# Q8 Test Cases\n",
    "check_q8()\n"
   ]
  },
  {
   "cell_type": "markdown",
   "metadata": {
    "deletable": false,
    "editable": false,
    "nbgrader": {
     "cell_type": "markdown",
     "checksum": "2663e149b4ad9dc2feb65e12a0c3fafe",
     "grade": false,
     "grade_id": "cell-2d2d9e58a275f46a",
     "locked": true,
     "schema_version": 3,
     "solution": false,
     "task": false
    }
   },
   "source": [
    "#### Question 9: Best Products II\n",
    "\n",
    "What are the top ten product titles by total dollar amount made? Display in descending order. Store in variable `top_tot_sales`."
   ]
  },
  {
   "cell_type": "code",
   "execution_count": 34,
   "metadata": {},
   "outputs": [
    {
     "data": {
      "text/plain": [
       "prod_title\n",
       "Reddy Beddy           261218.04\n",
       "Cat Cave              113061.51\n",
       "Kitty Climber          74247.37\n",
       "Snoozer Hammock        65811.69\n",
       "Snoozer Essentails     61236.45\n",
       "Yum Fish-Dish          49516.35\n",
       "Feline Fix Mix         42298.84\n",
       "Scratchy Post          40873.28\n",
       "Foozy Mouse            38763.25\n",
       "Tuna Tasties           36497.70\n",
       "Name: total_sales, dtype: float64"
      ]
     },
     "execution_count": 34,
     "metadata": {},
     "output_type": "execute_result"
    }
   ],
   "source": [
    "df_cleaned.groupby([\"prod_title\"])[\"total_sales\"].sum().nlargest(10)"
   ]
  },
  {
   "cell_type": "code",
   "execution_count": 35,
   "metadata": {},
   "outputs": [
    {
     "data": {
      "text/plain": [
       "prod_title\n",
       "Reddy Beddy           261218.04\n",
       "Cat Cave              113061.51\n",
       "Kitty Climber          74247.37\n",
       "Snoozer Hammock        65811.69\n",
       "Snoozer Essentails     61236.45\n",
       "Yum Fish-Dish          49516.35\n",
       "Feline Fix Mix         42298.84\n",
       "Scratchy Post          40873.28\n",
       "Foozy Mouse            38763.25\n",
       "Tuna Tasties           36497.70\n",
       "Name: total_sales, dtype: float64"
      ]
     },
     "execution_count": 35,
     "metadata": {},
     "output_type": "execute_result"
    }
   ],
   "source": [
    "df6 = df_cleaned.groupby([\"prod_title\"])[\"total_sales\"].sum().nlargest(10)\n",
    "df6"
   ]
  },
  {
   "cell_type": "code",
   "execution_count": 36,
   "metadata": {
    "deletable": false,
    "nbgrader": {
     "cell_type": "code",
     "checksum": "8b1da5d09de0ebc65b8edef47ad4d102",
     "grade": false,
     "grade_id": "cell-18c6a06ec971a5d9",
     "locked": false,
     "schema_version": 3,
     "solution": true,
     "task": false
    }
   },
   "outputs": [
    {
     "data": {
      "text/plain": [
       "Index(['Reddy Beddy', 'Cat Cave', 'Kitty Climber', 'Snoozer Hammock',\n",
       "       'Snoozer Essentails', 'Yum Fish-Dish', 'Feline Fix Mix',\n",
       "       'Scratchy Post', 'Foozy Mouse', 'Tuna Tasties'],\n",
       "      dtype='object', name='prod_title')"
      ]
     },
     "execution_count": 36,
     "metadata": {},
     "output_type": "execute_result"
    }
   ],
   "source": [
    "# your code here\n",
    "\n",
    "top_tot_sales = df6.index\n",
    "top_tot_sales"
   ]
  },
  {
   "cell_type": "code",
   "execution_count": 37,
   "metadata": {
    "deletable": false,
    "editable": false,
    "nbgrader": {
     "cell_type": "code",
     "checksum": "b0b4e415e4c0d01e8c6682e005b64940",
     "grade": true,
     "grade_id": "cell-9a381e47ff024ad4",
     "locked": true,
     "points": 4,
     "schema_version": 3,
     "solution": false,
     "task": false
    }
   },
   "outputs": [
    {
     "name": "stdout",
     "output_type": "stream",
     "text": [
      "\u001b[92mYour answer for the `top_tot_sales` variable looks about right!\n",
      "Note that doesn't mean it's correct though, just that your answer is at least **close** to the correct answer. It's possible your answer isn't correct, although it's close! \u001b[0m\n"
     ]
    }
   ],
   "source": [
    "# Q9 Test Cases\n",
    "check_q9()\n"
   ]
  },
  {
   "cell_type": "markdown",
   "metadata": {
    "deletable": false,
    "editable": false,
    "nbgrader": {
     "cell_type": "markdown",
     "checksum": "6babd904d5868a596700e49218b392f0",
     "grade": false,
     "grade_id": "cell-3589d6f6028b7289",
     "locked": true,
     "schema_version": 3,
     "solution": false,
     "task": false
    }
   },
   "source": [
    "#### Question 10: Bonus\n",
    "\n",
    "What is the proportion of returning customers? Store as variable `prop_returning`."
   ]
  },
  {
   "cell_type": "code",
   "execution_count": 38,
   "metadata": {},
   "outputs": [
    {
     "data": {
      "text/plain": [
       "1005241    12\n",
       "1007511    12\n",
       "1001480    10\n",
       "1011390     9\n",
       "1001168     9\n",
       "           ..\n",
       "1012375     1\n",
       "1014422     1\n",
       "1010324     1\n",
       "1004179     1\n",
       "1001481     1\n",
       "Name: cust_id, Length: 14096, dtype: int64"
      ]
     },
     "execution_count": 38,
     "metadata": {},
     "output_type": "execute_result"
    }
   ],
   "source": [
    "df_cleaned.cust_id.value_counts()"
   ]
  },
  {
   "cell_type": "code",
   "execution_count": 39,
   "metadata": {},
   "outputs": [
    {
     "data": {
      "text/plain": [
       "1005241     True\n",
       "1007511     True\n",
       "1001480     True\n",
       "1011390     True\n",
       "1001168     True\n",
       "           ...  \n",
       "1012375    False\n",
       "1014422    False\n",
       "1010324    False\n",
       "1004179    False\n",
       "1001481    False\n",
       "Name: cust_id, Length: 14096, dtype: bool"
      ]
     },
     "execution_count": 39,
     "metadata": {},
     "output_type": "execute_result"
    }
   ],
   "source": [
    "df_cleaned.cust_id.value_counts() > 1"
   ]
  },
  {
   "cell_type": "code",
   "execution_count": 40,
   "metadata": {},
   "outputs": [
    {
     "data": {
      "text/plain": [
       "5804"
      ]
     },
     "execution_count": 40,
     "metadata": {},
     "output_type": "execute_result"
    }
   ],
   "source": [
    "(df_cleaned.cust_id.value_counts() > 1).sum()"
   ]
  },
  {
   "cell_type": "code",
   "execution_count": 41,
   "metadata": {},
   "outputs": [
    {
     "data": {
      "text/plain": [
       "14096"
      ]
     },
     "execution_count": 41,
     "metadata": {},
     "output_type": "execute_result"
    }
   ],
   "source": [
    "df_cleaned.cust_id.nunique()"
   ]
  },
  {
   "cell_type": "code",
   "execution_count": 42,
   "metadata": {},
   "outputs": [
    {
     "data": {
      "text/plain": [
       "cust_id\n",
       "1001012    1\n",
       "1001013    1\n",
       "1001014    3\n",
       "1001015    4\n",
       "1001016    1\n",
       "          ..\n",
       "1015150    1\n",
       "1015151    1\n",
       "1015152    1\n",
       "1015153    2\n",
       "1015154    3\n",
       "Name: total_sales, Length: 14096, dtype: int64"
      ]
     },
     "execution_count": 42,
     "metadata": {},
     "output_type": "execute_result"
    }
   ],
   "source": [
    "df_cleaned.groupby([\"cust_id\"])[\"total_sales\"].count()"
   ]
  },
  {
   "cell_type": "code",
   "execution_count": 43,
   "metadata": {},
   "outputs": [
    {
     "data": {
      "text/html": [
       "<div>\n",
       "<style scoped>\n",
       "    .dataframe tbody tr th:only-of-type {\n",
       "        vertical-align: middle;\n",
       "    }\n",
       "\n",
       "    .dataframe tbody tr th {\n",
       "        vertical-align: top;\n",
       "    }\n",
       "\n",
       "    .dataframe thead th {\n",
       "        text-align: right;\n",
       "    }\n",
       "</style>\n",
       "<table border=\"1\" class=\"dataframe\">\n",
       "  <thead>\n",
       "    <tr style=\"text-align: right;\">\n",
       "      <th></th>\n",
       "      <th>total_sales</th>\n",
       "    </tr>\n",
       "    <tr>\n",
       "      <th>cust_id</th>\n",
       "      <th></th>\n",
       "    </tr>\n",
       "  </thead>\n",
       "  <tbody>\n",
       "    <tr>\n",
       "      <th>1001012</th>\n",
       "      <td>1</td>\n",
       "    </tr>\n",
       "    <tr>\n",
       "      <th>1001013</th>\n",
       "      <td>1</td>\n",
       "    </tr>\n",
       "    <tr>\n",
       "      <th>1001014</th>\n",
       "      <td>3</td>\n",
       "    </tr>\n",
       "    <tr>\n",
       "      <th>1001015</th>\n",
       "      <td>4</td>\n",
       "    </tr>\n",
       "    <tr>\n",
       "      <th>1001016</th>\n",
       "      <td>1</td>\n",
       "    </tr>\n",
       "    <tr>\n",
       "      <th>...</th>\n",
       "      <td>...</td>\n",
       "    </tr>\n",
       "    <tr>\n",
       "      <th>1015150</th>\n",
       "      <td>1</td>\n",
       "    </tr>\n",
       "    <tr>\n",
       "      <th>1015151</th>\n",
       "      <td>1</td>\n",
       "    </tr>\n",
       "    <tr>\n",
       "      <th>1015152</th>\n",
       "      <td>1</td>\n",
       "    </tr>\n",
       "    <tr>\n",
       "      <th>1015153</th>\n",
       "      <td>2</td>\n",
       "    </tr>\n",
       "    <tr>\n",
       "      <th>1015154</th>\n",
       "      <td>3</td>\n",
       "    </tr>\n",
       "  </tbody>\n",
       "</table>\n",
       "<p>14096 rows × 1 columns</p>\n",
       "</div>"
      ],
      "text/plain": [
       "         total_sales\n",
       "cust_id             \n",
       "1001012            1\n",
       "1001013            1\n",
       "1001014            3\n",
       "1001015            4\n",
       "1001016            1\n",
       "...              ...\n",
       "1015150            1\n",
       "1015151            1\n",
       "1015152            1\n",
       "1015153            2\n",
       "1015154            3\n",
       "\n",
       "[14096 rows x 1 columns]"
      ]
     },
     "execution_count": 43,
     "metadata": {},
     "output_type": "execute_result"
    }
   ],
   "source": [
    "df7 = pd.DataFrame(df_cleaned.groupby([\"cust_id\"])[\"total_sales\"].count())\n",
    "\n",
    "df7"
   ]
  },
  {
   "cell_type": "code",
   "execution_count": 44,
   "metadata": {},
   "outputs": [
    {
     "data": {
      "text/html": [
       "<div>\n",
       "<style scoped>\n",
       "    .dataframe tbody tr th:only-of-type {\n",
       "        vertical-align: middle;\n",
       "    }\n",
       "\n",
       "    .dataframe tbody tr th {\n",
       "        vertical-align: top;\n",
       "    }\n",
       "\n",
       "    .dataframe thead th {\n",
       "        text-align: right;\n",
       "    }\n",
       "</style>\n",
       "<table border=\"1\" class=\"dataframe\">\n",
       "  <thead>\n",
       "    <tr style=\"text-align: right;\">\n",
       "      <th></th>\n",
       "      <th>total_sales</th>\n",
       "    </tr>\n",
       "    <tr>\n",
       "      <th>cust_id</th>\n",
       "      <th></th>\n",
       "    </tr>\n",
       "  </thead>\n",
       "  <tbody>\n",
       "    <tr>\n",
       "      <th>1001014</th>\n",
       "      <td>3</td>\n",
       "    </tr>\n",
       "    <tr>\n",
       "      <th>1001015</th>\n",
       "      <td>4</td>\n",
       "    </tr>\n",
       "    <tr>\n",
       "      <th>1001017</th>\n",
       "      <td>2</td>\n",
       "    </tr>\n",
       "    <tr>\n",
       "      <th>1001019</th>\n",
       "      <td>2</td>\n",
       "    </tr>\n",
       "    <tr>\n",
       "      <th>1001021</th>\n",
       "      <td>5</td>\n",
       "    </tr>\n",
       "    <tr>\n",
       "      <th>...</th>\n",
       "      <td>...</td>\n",
       "    </tr>\n",
       "    <tr>\n",
       "      <th>1015139</th>\n",
       "      <td>2</td>\n",
       "    </tr>\n",
       "    <tr>\n",
       "      <th>1015140</th>\n",
       "      <td>2</td>\n",
       "    </tr>\n",
       "    <tr>\n",
       "      <th>1015146</th>\n",
       "      <td>2</td>\n",
       "    </tr>\n",
       "    <tr>\n",
       "      <th>1015153</th>\n",
       "      <td>2</td>\n",
       "    </tr>\n",
       "    <tr>\n",
       "      <th>1015154</th>\n",
       "      <td>3</td>\n",
       "    </tr>\n",
       "  </tbody>\n",
       "</table>\n",
       "<p>5804 rows × 1 columns</p>\n",
       "</div>"
      ],
      "text/plain": [
       "         total_sales\n",
       "cust_id             \n",
       "1001014            3\n",
       "1001015            4\n",
       "1001017            2\n",
       "1001019            2\n",
       "1001021            5\n",
       "...              ...\n",
       "1015139            2\n",
       "1015140            2\n",
       "1015146            2\n",
       "1015153            2\n",
       "1015154            3\n",
       "\n",
       "[5804 rows x 1 columns]"
      ]
     },
     "execution_count": 44,
     "metadata": {},
     "output_type": "execute_result"
    }
   ],
   "source": [
    "df8 = df7[df7.total_sales != 1]\n",
    "\n",
    "df8"
   ]
  },
  {
   "cell_type": "code",
   "execution_count": 45,
   "metadata": {
    "deletable": false,
    "nbgrader": {
     "cell_type": "code",
     "checksum": "a7790e810581fab55b1ee90f12a4f01b",
     "grade": false,
     "grade_id": "cell-59c5307f420fe231",
     "locked": false,
     "schema_version": 3,
     "solution": true,
     "task": false
    }
   },
   "outputs": [
    {
     "data": {
      "text/plain": [
       "41.17"
      ]
     },
     "execution_count": 45,
     "metadata": {},
     "output_type": "execute_result"
    }
   ],
   "source": [
    "# your code here\n",
    "\n",
    "prop_returning = round((5804/14096) * 100, 2)\n",
    "\n",
    "prop_returning"
   ]
  },
  {
   "cell_type": "code",
   "execution_count": 46,
   "metadata": {
    "deletable": false,
    "editable": false,
    "nbgrader": {
     "cell_type": "code",
     "checksum": "e963efe28c40268902a7c20c6cbd5132",
     "grade": true,
     "grade_id": "cell-84d62b95c61208f4",
     "locked": true,
     "points": 0,
     "schema_version": 3,
     "solution": false,
     "task": false
    }
   },
   "outputs": [
    {
     "name": "stdout",
     "output_type": "stream",
     "text": [
      "\u001b[91mYour answer `41.17` for the `prop_returning` isn't quite right.\n",
      "You might want to check the order of your answer.\n",
      "Take a closer look at your code to see what you can change.\u001b[0m\n"
     ]
    }
   ],
   "source": [
    "# Q10 Test Cases\n",
    "check_q10()\n"
   ]
  },
  {
   "cell_type": "code",
   "execution_count": null,
   "metadata": {},
   "outputs": [],
   "source": []
  }
 ],
 "metadata": {
  "celltoolbar": "Edit Metadata",
  "kernelspec": {
   "display_name": "Python 3",
   "language": "python",
   "name": "python3"
  },
  "language_info": {
   "codemirror_mode": {
    "name": "ipython",
    "version": 3
   },
   "file_extension": ".py",
   "mimetype": "text/x-python",
   "name": "python",
   "nbconvert_exporter": "python",
   "pygments_lexer": "ipython3",
   "version": "3.7.6"
  }
 },
 "nbformat": 4,
 "nbformat_minor": 5
}
