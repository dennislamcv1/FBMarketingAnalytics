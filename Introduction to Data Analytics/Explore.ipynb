{
 "cells": [
  {
   "cell_type": "markdown",
   "id": "0030c010",
   "metadata": {
    "deletable": false,
    "editable": false,
    "nbgrader": {
     "cell_type": "markdown",
     "checksum": "5017bc807a74032c3485d06e37fb2b22",
     "grade": false,
     "grade_id": "cell-8ffd98ff51da8dd5",
     "locked": true,
     "schema_version": 3,
     "solution": false,
     "task": false
    }
   },
   "source": [
    "# Part III: Explore\n",
    "\n",
    "![alt text](data/inu_neko_logo_small.png \"Inu + Neko\")\n",
    "\n",
    "Hello! We are Inu + Neku and we are a Dog & Cat services and supplies store located in New York City. We just started our e-commerce business and need your help analyzing our data!"
   ]
  },
  {
   "cell_type": "markdown",
   "id": "631c0429",
   "metadata": {
    "deletable": false,
    "editable": false,
    "nbgrader": {
     "cell_type": "markdown",
     "checksum": "1fff0aa4d6f4a2ad814dea7c8e000ef1",
     "grade": false,
     "grade_id": "cell-843890ae04b6d8b8",
     "locked": true,
     "schema_version": 3,
     "solution": false,
     "task": false
    }
   },
   "source": [
    "## Description\n",
    "\n",
    "We need to make sure the data is clean before starting your analysis. As a reminder, we should check for:\n",
    "\n",
    "- Duplicate records\n",
    "- Consistent formatting\n",
    "- Missing values\n",
    "- Obviously wrong values"
   ]
  },
  {
   "cell_type": "code",
   "execution_count": 1,
   "id": "c0c5f243",
   "metadata": {
    "deletable": false,
    "editable": false,
    "nbgrader": {
     "cell_type": "code",
     "checksum": "1c728db7e7325023b209a35450ad83b0",
     "grade": false,
     "grade_id": "cell-beb161b036c44177",
     "locked": true,
     "schema_version": 3,
     "solution": false,
     "task": false
    }
   },
   "outputs": [],
   "source": [
    "import pandas as pd\n",
    "import numpy as np\n",
    "import matplotlib.pyplot as plt"
   ]
  },
  {
   "cell_type": "code",
   "execution_count": 2,
   "id": "75caabdf",
   "metadata": {
    "deletable": false,
    "editable": false,
    "nbgrader": {
     "cell_type": "code",
     "checksum": "c35b523c67b34a1ab0c7e70b08b8c537",
     "grade": false,
     "grade_id": "cell-1316036195ef2947",
     "locked": true,
     "schema_version": 3,
     "solution": false,
     "task": false
    }
   },
   "outputs": [
    {
     "data": {
      "text/html": [
       "<div>\n",
       "<style scoped>\n",
       "    .dataframe tbody tr th:only-of-type {\n",
       "        vertical-align: middle;\n",
       "    }\n",
       "\n",
       "    .dataframe tbody tr th {\n",
       "        vertical-align: top;\n",
       "    }\n",
       "\n",
       "    .dataframe thead th {\n",
       "        text-align: right;\n",
       "    }\n",
       "</style>\n",
       "<table border=\"1\" class=\"dataframe\">\n",
       "  <thead>\n",
       "    <tr style=\"text-align: right;\">\n",
       "      <th></th>\n",
       "      <th>trans_id</th>\n",
       "      <th>prod_upc</th>\n",
       "      <th>cust_id</th>\n",
       "      <th>trans_timestamp</th>\n",
       "      <th>trans_year</th>\n",
       "      <th>trans_month</th>\n",
       "      <th>trans_day</th>\n",
       "      <th>trans_hour</th>\n",
       "      <th>trans_quantity</th>\n",
       "      <th>cust_age</th>\n",
       "      <th>cust_state</th>\n",
       "      <th>prod_price</th>\n",
       "      <th>prod_title</th>\n",
       "      <th>prod_category</th>\n",
       "      <th>prod_animal_type</th>\n",
       "      <th>total_sales</th>\n",
       "    </tr>\n",
       "  </thead>\n",
       "  <tbody>\n",
       "    <tr>\n",
       "      <th>0</th>\n",
       "      <td>10300097</td>\n",
       "      <td>719638485153</td>\n",
       "      <td>1001019</td>\n",
       "      <td>2021-01-01 07:35:21.439873</td>\n",
       "      <td>2021</td>\n",
       "      <td>1</td>\n",
       "      <td>1</td>\n",
       "      <td>1</td>\n",
       "      <td>1</td>\n",
       "      <td>20</td>\n",
       "      <td>New York</td>\n",
       "      <td>72.99</td>\n",
       "      <td>Cat Cave</td>\n",
       "      <td>bedding</td>\n",
       "      <td>cat</td>\n",
       "      <td>72.99</td>\n",
       "    </tr>\n",
       "    <tr>\n",
       "      <th>1</th>\n",
       "      <td>10300093</td>\n",
       "      <td>73201504044</td>\n",
       "      <td>1001015</td>\n",
       "      <td>2021-01-01 09:33:37.499660</td>\n",
       "      <td>2021</td>\n",
       "      <td>1</td>\n",
       "      <td>1</td>\n",
       "      <td>1</td>\n",
       "      <td>1</td>\n",
       "      <td>34</td>\n",
       "      <td>New York</td>\n",
       "      <td>18.95</td>\n",
       "      <td>Purrfect Puree</td>\n",
       "      <td>treat</td>\n",
       "      <td>cat</td>\n",
       "      <td>18.95</td>\n",
       "    </tr>\n",
       "    <tr>\n",
       "      <th>2</th>\n",
       "      <td>10300093</td>\n",
       "      <td>719638485153</td>\n",
       "      <td>1001015</td>\n",
       "      <td>2021-01-01 09:33:37.499660</td>\n",
       "      <td>2021</td>\n",
       "      <td>1</td>\n",
       "      <td>1</td>\n",
       "      <td>1</td>\n",
       "      <td>1</td>\n",
       "      <td>34</td>\n",
       "      <td>New York</td>\n",
       "      <td>72.99</td>\n",
       "      <td>Cat Cave</td>\n",
       "      <td>bedding</td>\n",
       "      <td>cat</td>\n",
       "      <td>72.99</td>\n",
       "    </tr>\n",
       "    <tr>\n",
       "      <th>3</th>\n",
       "      <td>10300093</td>\n",
       "      <td>441530839394</td>\n",
       "      <td>1001015</td>\n",
       "      <td>2021-01-01 09:33:37.499660</td>\n",
       "      <td>2021</td>\n",
       "      <td>1</td>\n",
       "      <td>1</td>\n",
       "      <td>1</td>\n",
       "      <td>2</td>\n",
       "      <td>34</td>\n",
       "      <td>New York</td>\n",
       "      <td>28.45</td>\n",
       "      <td>Ball and String</td>\n",
       "      <td>toy</td>\n",
       "      <td>cat</td>\n",
       "      <td>56.90</td>\n",
       "    </tr>\n",
       "    <tr>\n",
       "      <th>4</th>\n",
       "      <td>10300093</td>\n",
       "      <td>733426809698</td>\n",
       "      <td>1001015</td>\n",
       "      <td>2021-01-01 09:33:37.499660</td>\n",
       "      <td>2021</td>\n",
       "      <td>1</td>\n",
       "      <td>1</td>\n",
       "      <td>1</td>\n",
       "      <td>1</td>\n",
       "      <td>34</td>\n",
       "      <td>New York</td>\n",
       "      <td>18.95</td>\n",
       "      <td>Yum Fish-Dish</td>\n",
       "      <td>food</td>\n",
       "      <td>cat</td>\n",
       "      <td>18.95</td>\n",
       "    </tr>\n",
       "    <tr>\n",
       "      <th>...</th>\n",
       "      <td>...</td>\n",
       "      <td>...</td>\n",
       "      <td>...</td>\n",
       "      <td>...</td>\n",
       "      <td>...</td>\n",
       "      <td>...</td>\n",
       "      <td>...</td>\n",
       "      <td>...</td>\n",
       "      <td>...</td>\n",
       "      <td>...</td>\n",
       "      <td>...</td>\n",
       "      <td>...</td>\n",
       "      <td>...</td>\n",
       "      <td>...</td>\n",
       "      <td>...</td>\n",
       "      <td>...</td>\n",
       "    </tr>\n",
       "    <tr>\n",
       "      <th>38218</th>\n",
       "      <td>10327860</td>\n",
       "      <td>287663658863</td>\n",
       "      <td>1022098</td>\n",
       "      <td>2021-06-30 15:37:12.821020</td>\n",
       "      <td>2021</td>\n",
       "      <td>6</td>\n",
       "      <td>30</td>\n",
       "      <td>30</td>\n",
       "      <td>1</td>\n",
       "      <td>25</td>\n",
       "      <td>New York</td>\n",
       "      <td>9.95</td>\n",
       "      <td>All Veggie Yummies</td>\n",
       "      <td>treat</td>\n",
       "      <td>dog</td>\n",
       "      <td>9.95</td>\n",
       "    </tr>\n",
       "    <tr>\n",
       "      <th>38219</th>\n",
       "      <td>10327960</td>\n",
       "      <td>140160459467</td>\n",
       "      <td>1022157</td>\n",
       "      <td>2021-06-30 15:45:09.872732</td>\n",
       "      <td>2021</td>\n",
       "      <td>6</td>\n",
       "      <td>30</td>\n",
       "      <td>30</td>\n",
       "      <td>2</td>\n",
       "      <td>31</td>\n",
       "      <td>Pennsylvania</td>\n",
       "      <td>48.95</td>\n",
       "      <td>Snoozer Essentails</td>\n",
       "      <td>bedding</td>\n",
       "      <td>dog</td>\n",
       "      <td>97.90</td>\n",
       "    </tr>\n",
       "    <tr>\n",
       "      <th>38220</th>\n",
       "      <td>10328009</td>\n",
       "      <td>425361189561</td>\n",
       "      <td>1022189</td>\n",
       "      <td>2021-06-30 15:57:44.295104</td>\n",
       "      <td>2021</td>\n",
       "      <td>6</td>\n",
       "      <td>30</td>\n",
       "      <td>30</td>\n",
       "      <td>2</td>\n",
       "      <td>53</td>\n",
       "      <td>New Jersey</td>\n",
       "      <td>15.99</td>\n",
       "      <td>Snack-em Fish</td>\n",
       "      <td>treat</td>\n",
       "      <td>cat</td>\n",
       "      <td>31.98</td>\n",
       "    </tr>\n",
       "    <tr>\n",
       "      <th>38221</th>\n",
       "      <td>10328089</td>\n",
       "      <td>733426809698</td>\n",
       "      <td>1022236</td>\n",
       "      <td>2021-06-30 15:59:29.801593</td>\n",
       "      <td>2021</td>\n",
       "      <td>6</td>\n",
       "      <td>30</td>\n",
       "      <td>30</td>\n",
       "      <td>1</td>\n",
       "      <td>23</td>\n",
       "      <td>Tennessee</td>\n",
       "      <td>18.95</td>\n",
       "      <td>Yum Fish-Dish</td>\n",
       "      <td>food</td>\n",
       "      <td>cat</td>\n",
       "      <td>18.95</td>\n",
       "    </tr>\n",
       "    <tr>\n",
       "      <th>38222</th>\n",
       "      <td>10328109</td>\n",
       "      <td>717036112695</td>\n",
       "      <td>1011924</td>\n",
       "      <td>2021-06-30 17:30:52.205912</td>\n",
       "      <td>2021</td>\n",
       "      <td>6</td>\n",
       "      <td>30</td>\n",
       "      <td>30</td>\n",
       "      <td>1</td>\n",
       "      <td>24</td>\n",
       "      <td>Pennsylvania</td>\n",
       "      <td>60.99</td>\n",
       "      <td>Reddy Beddy</td>\n",
       "      <td>bedding</td>\n",
       "      <td>dog</td>\n",
       "      <td>60.99</td>\n",
       "    </tr>\n",
       "  </tbody>\n",
       "</table>\n",
       "<p>38223 rows × 16 columns</p>\n",
       "</div>"
      ],
      "text/plain": [
       "       trans_id      prod_upc  cust_id             trans_timestamp  \\\n",
       "0      10300097  719638485153  1001019  2021-01-01 07:35:21.439873   \n",
       "1      10300093   73201504044  1001015  2021-01-01 09:33:37.499660   \n",
       "2      10300093  719638485153  1001015  2021-01-01 09:33:37.499660   \n",
       "3      10300093  441530839394  1001015  2021-01-01 09:33:37.499660   \n",
       "4      10300093  733426809698  1001015  2021-01-01 09:33:37.499660   \n",
       "...         ...           ...      ...                         ...   \n",
       "38218  10327860  287663658863  1022098  2021-06-30 15:37:12.821020   \n",
       "38219  10327960  140160459467  1022157  2021-06-30 15:45:09.872732   \n",
       "38220  10328009  425361189561  1022189  2021-06-30 15:57:44.295104   \n",
       "38221  10328089  733426809698  1022236  2021-06-30 15:59:29.801593   \n",
       "38222  10328109  717036112695  1011924  2021-06-30 17:30:52.205912   \n",
       "\n",
       "       trans_year  trans_month  trans_day  trans_hour  trans_quantity  \\\n",
       "0            2021            1          1           1               1   \n",
       "1            2021            1          1           1               1   \n",
       "2            2021            1          1           1               1   \n",
       "3            2021            1          1           1               2   \n",
       "4            2021            1          1           1               1   \n",
       "...           ...          ...        ...         ...             ...   \n",
       "38218        2021            6         30          30               1   \n",
       "38219        2021            6         30          30               2   \n",
       "38220        2021            6         30          30               2   \n",
       "38221        2021            6         30          30               1   \n",
       "38222        2021            6         30          30               1   \n",
       "\n",
       "       cust_age    cust_state  prod_price          prod_title prod_category  \\\n",
       "0            20      New York       72.99            Cat Cave       bedding   \n",
       "1            34      New York       18.95      Purrfect Puree         treat   \n",
       "2            34      New York       72.99            Cat Cave       bedding   \n",
       "3            34      New York       28.45     Ball and String           toy   \n",
       "4            34      New York       18.95       Yum Fish-Dish          food   \n",
       "...         ...           ...         ...                 ...           ...   \n",
       "38218        25      New York        9.95  All Veggie Yummies         treat   \n",
       "38219        31  Pennsylvania       48.95  Snoozer Essentails       bedding   \n",
       "38220        53    New Jersey       15.99       Snack-em Fish         treat   \n",
       "38221        23     Tennessee       18.95       Yum Fish-Dish          food   \n",
       "38222        24  Pennsylvania       60.99         Reddy Beddy       bedding   \n",
       "\n",
       "      prod_animal_type  total_sales  \n",
       "0                  cat        72.99  \n",
       "1                  cat        18.95  \n",
       "2                  cat        72.99  \n",
       "3                  cat        56.90  \n",
       "4                  cat        18.95  \n",
       "...                ...          ...  \n",
       "38218              dog         9.95  \n",
       "38219              dog        97.90  \n",
       "38220              cat        31.98  \n",
       "38221              cat        18.95  \n",
       "38222              dog        60.99  \n",
       "\n",
       "[38223 rows x 16 columns]"
      ]
     },
     "execution_count": 2,
     "metadata": {},
     "output_type": "execute_result"
    }
   ],
   "source": [
    "df_cleaned = pd.read_csv('data/inu_neko_orderline_clean.csv')\n",
    "df_cleaned"
   ]
  },
  {
   "cell_type": "code",
   "execution_count": 3,
   "id": "c9200e62",
   "metadata": {
    "deletable": false,
    "editable": false,
    "nbgrader": {
     "cell_type": "code",
     "checksum": "8e1377c8abf545c005cd78319345cb60",
     "grade": false,
     "grade_id": "cell-1f7c217b9f5dc484",
     "locked": true,
     "schema_version": 3,
     "solution": false,
     "task": false
    }
   },
   "outputs": [
    {
     "name": "stdout",
     "output_type": "stream",
     "text": [
      "<class 'pandas.core.frame.DataFrame'>\n",
      "RangeIndex: 38223 entries, 0 to 38222\n",
      "Data columns (total 16 columns):\n",
      " #   Column            Non-Null Count  Dtype  \n",
      "---  ------            --------------  -----  \n",
      " 0   trans_id          38223 non-null  int64  \n",
      " 1   prod_upc          38223 non-null  int64  \n",
      " 2   cust_id           38223 non-null  int64  \n",
      " 3   trans_timestamp   38223 non-null  object \n",
      " 4   trans_year        38223 non-null  int64  \n",
      " 5   trans_month       38223 non-null  int64  \n",
      " 6   trans_day         38223 non-null  int64  \n",
      " 7   trans_hour        38223 non-null  int64  \n",
      " 8   trans_quantity    38223 non-null  int64  \n",
      " 9   cust_age          38223 non-null  int64  \n",
      " 10  cust_state        38223 non-null  object \n",
      " 11  prod_price        38223 non-null  float64\n",
      " 12  prod_title        38223 non-null  object \n",
      " 13  prod_category     38223 non-null  object \n",
      " 14  prod_animal_type  38223 non-null  object \n",
      " 15  total_sales       38223 non-null  float64\n",
      "dtypes: float64(2), int64(9), object(5)\n",
      "memory usage: 4.7+ MB\n"
     ]
    }
   ],
   "source": [
    "df_cleaned.info()"
   ]
  },
  {
   "cell_type": "markdown",
   "id": "3b5feea8",
   "metadata": {
    "deletable": false,
    "editable": false,
    "nbgrader": {
     "cell_type": "markdown",
     "checksum": "1aac8941682150799dafa2841164e72a",
     "grade": false,
     "grade_id": "cell-5b21e0995de9f072",
     "locked": true,
     "schema_version": 3,
     "solution": false,
     "task": false
    }
   },
   "source": [
    "#### Question 1: Number of Orders\n",
    "\n",
    "How many transactions are there?"
   ]
  },
  {
   "cell_type": "code",
   "execution_count": 4,
   "id": "387a289c",
   "metadata": {
    "deletable": false,
    "nbgrader": {
     "cell_type": "code",
     "checksum": "6e6939ea34583ee0b4dcebc23b38115b",
     "grade": false,
     "grade_id": "cell-976c898e7f2b44c4",
     "locked": false,
     "schema_version": 3,
     "solution": true,
     "task": false
    }
   },
   "outputs": [
    {
     "data": {
      "text/plain": [
       "38223"
      ]
     },
     "execution_count": 4,
     "metadata": {},
     "output_type": "execute_result"
    }
   ],
   "source": [
    "# your code here\n",
    "\n",
    "num_trans = len(df_cleaned)\n",
    "num_trans"
   ]
  },
  {
   "cell_type": "code",
   "execution_count": 5,
   "id": "7cf98383",
   "metadata": {
    "deletable": false,
    "editable": false,
    "nbgrader": {
     "cell_type": "code",
     "checksum": "1520be993b3e6d6a207b9a70fb4aa509",
     "grade": true,
     "grade_id": "cell-25ca64f53b142f34",
     "locked": true,
     "points": 4,
     "schema_version": 3,
     "solution": false,
     "task": false
    }
   },
   "outputs": [],
   "source": [
    "# Q1 Test Cases\n",
    "assert 39000 > num_trans > 25000"
   ]
  },
  {
   "cell_type": "markdown",
   "id": "93b6766f",
   "metadata": {
    "deletable": false,
    "editable": false,
    "nbgrader": {
     "cell_type": "markdown",
     "checksum": "dbbcb9e840f3b9c342c881a835e5f0c1",
     "grade": false,
     "grade_id": "cell-0a31f9747863940e",
     "locked": true,
     "schema_version": 3,
     "solution": false,
     "task": false
    }
   },
   "source": [
    "#### Question 2: Alpha and Omega I\n",
    "What was the month and day of the first sale? Store as a tuple in that order and assign the tuple to the variable `first_date`."
   ]
  },
  {
   "cell_type": "code",
   "execution_count": 6,
   "id": "7967203b",
   "metadata": {
    "deletable": false,
    "nbgrader": {
     "cell_type": "code",
     "checksum": "2cbc94a0dd0b75250dacdc1b2f1a6780",
     "grade": false,
     "grade_id": "cell-bd2b89a8035a9ab8",
     "locked": false,
     "schema_version": 3,
     "solution": true,
     "task": false
    }
   },
   "outputs": [
    {
     "data": {
      "text/plain": [
       "(1, 1)"
      ]
     },
     "execution_count": 6,
     "metadata": {},
     "output_type": "execute_result"
    }
   ],
   "source": [
    "# your code here\n",
    "mth = df_cleaned.loc[0][\"trans_month\"]\n",
    "day = df_cleaned.loc[0][\"trans_day\"]\n",
    "first_date = (mth,day)\n",
    "first_date"
   ]
  },
  {
   "cell_type": "code",
   "execution_count": 7,
   "id": "8b5513c3",
   "metadata": {},
   "outputs": [
    {
     "data": {
      "text/plain": [
       "2"
      ]
     },
     "execution_count": 7,
     "metadata": {},
     "output_type": "execute_result"
    }
   ],
   "source": [
    "len(first_date)"
   ]
  },
  {
   "cell_type": "code",
   "execution_count": 8,
   "id": "8fdaceb9",
   "metadata": {},
   "outputs": [
    {
     "data": {
      "text/plain": [
       "True"
      ]
     },
     "execution_count": 8,
     "metadata": {},
     "output_type": "execute_result"
    }
   ],
   "source": [
    "str(first_date[0]).isnumeric() "
   ]
  },
  {
   "cell_type": "code",
   "execution_count": 9,
   "id": "f41037c0",
   "metadata": {},
   "outputs": [
    {
     "data": {
      "text/plain": [
       "True"
      ]
     },
     "execution_count": 9,
     "metadata": {},
     "output_type": "execute_result"
    }
   ],
   "source": [
    "str(first_date[1]).isnumeric()"
   ]
  },
  {
   "cell_type": "code",
   "execution_count": 10,
   "id": "791572e1",
   "metadata": {
    "deletable": false,
    "editable": false,
    "nbgrader": {
     "cell_type": "code",
     "checksum": "55cc41c61fb318c5b4152d5a5acc75fa",
     "grade": true,
     "grade_id": "cell-8a2534037c10eb71",
     "locked": true,
     "points": 4,
     "schema_version": 3,
     "solution": false,
     "task": false
    }
   },
   "outputs": [],
   "source": [
    "# Q2 Test Cases\n",
    "assert len(first_date) == 2\n",
    "assert str(first_date[0]).isnumeric() \n",
    "assert str(first_date[1]).isnumeric() "
   ]
  },
  {
   "cell_type": "markdown",
   "id": "9d741325",
   "metadata": {
    "deletable": false,
    "editable": false,
    "nbgrader": {
     "cell_type": "markdown",
     "checksum": "d5331e475d8ab74da24d0ac3b0240606",
     "grade": false,
     "grade_id": "cell-d0395f0fe97ea8c1",
     "locked": true,
     "schema_version": 3,
     "solution": false,
     "task": false
    }
   },
   "source": [
    "#### Question 3: Alpha and Omega II\n",
    "What was the month and day of the last sale? Store as a tuple in that order and assign the tuple to the variable `last_date`."
   ]
  },
  {
   "cell_type": "code",
   "execution_count": 11,
   "id": "995fbf3b",
   "metadata": {
    "deletable": false,
    "nbgrader": {
     "cell_type": "code",
     "checksum": "3e631d3af156d2db0d86a0f09f9fec4c",
     "grade": false,
     "grade_id": "cell-a6304e08d438b5d0",
     "locked": false,
     "schema_version": 3,
     "solution": true,
     "task": false
    }
   },
   "outputs": [
    {
     "data": {
      "text/plain": [
       "(6, 30)"
      ]
     },
     "execution_count": 11,
     "metadata": {},
     "output_type": "execute_result"
    }
   ],
   "source": [
    "# your code here\n",
    "mth = df_cleaned.loc[38222][\"trans_month\"]\n",
    "day = df_cleaned.loc[38222][\"trans_day\"]\n",
    "last_date = (mth,day)\n",
    "last_date"
   ]
  },
  {
   "cell_type": "code",
   "execution_count": 12,
   "id": "6f5f8809",
   "metadata": {},
   "outputs": [
    {
     "data": {
      "text/plain": [
       "2"
      ]
     },
     "execution_count": 12,
     "metadata": {},
     "output_type": "execute_result"
    }
   ],
   "source": [
    "len(last_date)"
   ]
  },
  {
   "cell_type": "code",
   "execution_count": 13,
   "id": "14504e92",
   "metadata": {},
   "outputs": [
    {
     "data": {
      "text/plain": [
       "True"
      ]
     },
     "execution_count": 13,
     "metadata": {},
     "output_type": "execute_result"
    }
   ],
   "source": [
    "str(last_date[0]).isnumeric() "
   ]
  },
  {
   "cell_type": "code",
   "execution_count": 14,
   "id": "8918fa68",
   "metadata": {},
   "outputs": [
    {
     "data": {
      "text/plain": [
       "True"
      ]
     },
     "execution_count": 14,
     "metadata": {},
     "output_type": "execute_result"
    }
   ],
   "source": [
    "str(last_date[1]).isnumeric()"
   ]
  },
  {
   "cell_type": "code",
   "execution_count": 15,
   "id": "e95174be",
   "metadata": {
    "deletable": false,
    "editable": false,
    "nbgrader": {
     "cell_type": "code",
     "checksum": "9266bc839b43d28b8403d09f11c53344",
     "grade": true,
     "grade_id": "cell-5ef9e6fb442b7a99",
     "locked": true,
     "points": 4,
     "schema_version": 3,
     "solution": false,
     "task": false
    }
   },
   "outputs": [],
   "source": [
    "# Q3 Test Cases\n",
    "assert len(last_date) == 2\n",
    "assert str(last_date[0]).isnumeric() \n",
    "assert str(last_date[1]).isnumeric() "
   ]
  },
  {
   "cell_type": "markdown",
   "id": "d4aa8220",
   "metadata": {
    "deletable": false,
    "editable": false,
    "nbgrader": {
     "cell_type": "markdown",
     "checksum": "2fdfb3d2f058f2d45689c7a3c23e1768",
     "grade": false,
     "grade_id": "cell-38fa66cb1c9a3d31",
     "locked": true,
     "schema_version": 3,
     "solution": false,
     "task": false
    }
   },
   "source": [
    "#### Question 4: Cats vs Dogs\n",
    "\n",
    "Which animal product type is most popular?"
   ]
  },
  {
   "cell_type": "code",
   "execution_count": 16,
   "id": "2ae5ee35",
   "metadata": {
    "deletable": false,
    "nbgrader": {
     "cell_type": "code",
     "checksum": "54c0767222aae643369d079d6f5bdd74",
     "grade": false,
     "grade_id": "cell-10183753169be5e8",
     "locked": false,
     "schema_version": 3,
     "solution": true,
     "task": false
    }
   },
   "outputs": [],
   "source": [
    "# your code here\n",
    "df_cleaned.prod_animal_type.value_counts()\n",
    "names = df_cleaned.prod_animal_type.value_counts().keys()\n",
    "most_pop = names[0]"
   ]
  },
  {
   "cell_type": "code",
   "execution_count": 17,
   "id": "d35ed90b",
   "metadata": {},
   "outputs": [
    {
     "data": {
      "text/plain": [
       "'cat'"
      ]
     },
     "execution_count": 17,
     "metadata": {},
     "output_type": "execute_result"
    }
   ],
   "source": [
    "most_pop"
   ]
  },
  {
   "cell_type": "code",
   "execution_count": 18,
   "id": "4edc258c",
   "metadata": {},
   "outputs": [
    {
     "data": {
      "text/plain": [
       "str"
      ]
     },
     "execution_count": 18,
     "metadata": {},
     "output_type": "execute_result"
    }
   ],
   "source": [
    "type(most_pop)"
   ]
  },
  {
   "cell_type": "code",
   "execution_count": 19,
   "id": "d50d526e",
   "metadata": {},
   "outputs": [
    {
     "data": {
      "text/plain": [
       "True"
      ]
     },
     "execution_count": 19,
     "metadata": {},
     "output_type": "execute_result"
    }
   ],
   "source": [
    "most_pop in ['cat', 'dog']"
   ]
  },
  {
   "cell_type": "code",
   "execution_count": 20,
   "id": "bc0ea975",
   "metadata": {
    "deletable": false,
    "editable": false,
    "nbgrader": {
     "cell_type": "code",
     "checksum": "0cd3a4bcaa0ac41caa90f6b54794f42c",
     "grade": true,
     "grade_id": "cell-996a95ebb5eec26f",
     "locked": true,
     "points": 4,
     "schema_version": 3,
     "solution": false,
     "task": false
    }
   },
   "outputs": [],
   "source": [
    "# Q4 Test Cases\n",
    "assert type(most_pop) == str\n",
    "assert most_pop in ['cat', 'dog']"
   ]
  },
  {
   "cell_type": "markdown",
   "id": "2fc8803d",
   "metadata": {
    "deletable": false,
    "editable": false,
    "nbgrader": {
     "cell_type": "markdown",
     "checksum": "f8f1268778dcc9eaaa89a102cc7e5e4a",
     "grade": false,
     "grade_id": "cell-b81c4a8a616a491e",
     "locked": true,
     "schema_version": 3,
     "solution": false,
     "task": false
    }
   },
   "source": [
    "#### Question 5: More Money More Problems I\n",
    "\n",
    "What was the total dollar amount made in the month of January? Store this in the variable `jan_rev`."
   ]
  },
  {
   "cell_type": "code",
   "execution_count": 21,
   "id": "d4b2ee54",
   "metadata": {
    "deletable": false,
    "nbgrader": {
     "cell_type": "code",
     "checksum": "564db128ab0e0222df214afb500d4b1c",
     "grade": false,
     "grade_id": "cell-c51d5edcf4fe931c",
     "locked": false,
     "schema_version": 3,
     "solution": true,
     "task": false
    }
   },
   "outputs": [
    {
     "data": {
      "text/plain": [
       "6    13256\n",
       "5     9858\n",
       "4     6884\n",
       "3     4645\n",
       "2     2374\n",
       "1     1206\n",
       "Name: trans_month, dtype: int64"
      ]
     },
     "execution_count": 21,
     "metadata": {},
     "output_type": "execute_result"
    }
   ],
   "source": [
    "# your code here\n",
    "df_cleaned[\"trans_month\"].value_counts()"
   ]
  },
  {
   "cell_type": "code",
   "execution_count": 22,
   "id": "fc71c433",
   "metadata": {},
   "outputs": [],
   "source": [
    "sales_jan = df_cleaned[df_cleaned[\"trans_month\"] == 1]"
   ]
  },
  {
   "cell_type": "code",
   "execution_count": 23,
   "id": "523ce109",
   "metadata": {},
   "outputs": [
    {
     "data": {
      "text/html": [
       "<div>\n",
       "<style scoped>\n",
       "    .dataframe tbody tr th:only-of-type {\n",
       "        vertical-align: middle;\n",
       "    }\n",
       "\n",
       "    .dataframe tbody tr th {\n",
       "        vertical-align: top;\n",
       "    }\n",
       "\n",
       "    .dataframe thead th {\n",
       "        text-align: right;\n",
       "    }\n",
       "</style>\n",
       "<table border=\"1\" class=\"dataframe\">\n",
       "  <thead>\n",
       "    <tr style=\"text-align: right;\">\n",
       "      <th></th>\n",
       "      <th>trans_id</th>\n",
       "      <th>prod_upc</th>\n",
       "      <th>cust_id</th>\n",
       "      <th>trans_timestamp</th>\n",
       "      <th>trans_year</th>\n",
       "      <th>trans_month</th>\n",
       "      <th>trans_day</th>\n",
       "      <th>trans_hour</th>\n",
       "      <th>trans_quantity</th>\n",
       "      <th>cust_age</th>\n",
       "      <th>cust_state</th>\n",
       "      <th>prod_price</th>\n",
       "      <th>prod_title</th>\n",
       "      <th>prod_category</th>\n",
       "      <th>prod_animal_type</th>\n",
       "      <th>total_sales</th>\n",
       "    </tr>\n",
       "  </thead>\n",
       "  <tbody>\n",
       "    <tr>\n",
       "      <th>0</th>\n",
       "      <td>10300097</td>\n",
       "      <td>719638485153</td>\n",
       "      <td>1001019</td>\n",
       "      <td>2021-01-01 07:35:21.439873</td>\n",
       "      <td>2021</td>\n",
       "      <td>1</td>\n",
       "      <td>1</td>\n",
       "      <td>1</td>\n",
       "      <td>1</td>\n",
       "      <td>20</td>\n",
       "      <td>New York</td>\n",
       "      <td>72.99</td>\n",
       "      <td>Cat Cave</td>\n",
       "      <td>bedding</td>\n",
       "      <td>cat</td>\n",
       "      <td>72.99</td>\n",
       "    </tr>\n",
       "    <tr>\n",
       "      <th>1</th>\n",
       "      <td>10300093</td>\n",
       "      <td>73201504044</td>\n",
       "      <td>1001015</td>\n",
       "      <td>2021-01-01 09:33:37.499660</td>\n",
       "      <td>2021</td>\n",
       "      <td>1</td>\n",
       "      <td>1</td>\n",
       "      <td>1</td>\n",
       "      <td>1</td>\n",
       "      <td>34</td>\n",
       "      <td>New York</td>\n",
       "      <td>18.95</td>\n",
       "      <td>Purrfect Puree</td>\n",
       "      <td>treat</td>\n",
       "      <td>cat</td>\n",
       "      <td>18.95</td>\n",
       "    </tr>\n",
       "    <tr>\n",
       "      <th>2</th>\n",
       "      <td>10300093</td>\n",
       "      <td>719638485153</td>\n",
       "      <td>1001015</td>\n",
       "      <td>2021-01-01 09:33:37.499660</td>\n",
       "      <td>2021</td>\n",
       "      <td>1</td>\n",
       "      <td>1</td>\n",
       "      <td>1</td>\n",
       "      <td>1</td>\n",
       "      <td>34</td>\n",
       "      <td>New York</td>\n",
       "      <td>72.99</td>\n",
       "      <td>Cat Cave</td>\n",
       "      <td>bedding</td>\n",
       "      <td>cat</td>\n",
       "      <td>72.99</td>\n",
       "    </tr>\n",
       "    <tr>\n",
       "      <th>3</th>\n",
       "      <td>10300093</td>\n",
       "      <td>441530839394</td>\n",
       "      <td>1001015</td>\n",
       "      <td>2021-01-01 09:33:37.499660</td>\n",
       "      <td>2021</td>\n",
       "      <td>1</td>\n",
       "      <td>1</td>\n",
       "      <td>1</td>\n",
       "      <td>2</td>\n",
       "      <td>34</td>\n",
       "      <td>New York</td>\n",
       "      <td>28.45</td>\n",
       "      <td>Ball and String</td>\n",
       "      <td>toy</td>\n",
       "      <td>cat</td>\n",
       "      <td>56.90</td>\n",
       "    </tr>\n",
       "    <tr>\n",
       "      <th>4</th>\n",
       "      <td>10300093</td>\n",
       "      <td>733426809698</td>\n",
       "      <td>1001015</td>\n",
       "      <td>2021-01-01 09:33:37.499660</td>\n",
       "      <td>2021</td>\n",
       "      <td>1</td>\n",
       "      <td>1</td>\n",
       "      <td>1</td>\n",
       "      <td>1</td>\n",
       "      <td>34</td>\n",
       "      <td>New York</td>\n",
       "      <td>18.95</td>\n",
       "      <td>Yum Fish-Dish</td>\n",
       "      <td>food</td>\n",
       "      <td>cat</td>\n",
       "      <td>18.95</td>\n",
       "    </tr>\n",
       "    <tr>\n",
       "      <th>...</th>\n",
       "      <td>...</td>\n",
       "      <td>...</td>\n",
       "      <td>...</td>\n",
       "      <td>...</td>\n",
       "      <td>...</td>\n",
       "      <td>...</td>\n",
       "      <td>...</td>\n",
       "      <td>...</td>\n",
       "      <td>...</td>\n",
       "      <td>...</td>\n",
       "      <td>...</td>\n",
       "      <td>...</td>\n",
       "      <td>...</td>\n",
       "      <td>...</td>\n",
       "      <td>...</td>\n",
       "      <td>...</td>\n",
       "    </tr>\n",
       "    <tr>\n",
       "      <th>1201</th>\n",
       "      <td>10300964</td>\n",
       "      <td>100469015054</td>\n",
       "      <td>1001812</td>\n",
       "      <td>2021-01-31 13:38:49.942487</td>\n",
       "      <td>2021</td>\n",
       "      <td>1</td>\n",
       "      <td>31</td>\n",
       "      <td>31</td>\n",
       "      <td>1</td>\n",
       "      <td>24</td>\n",
       "      <td>Tennessee</td>\n",
       "      <td>18.95</td>\n",
       "      <td>Tuna Tasties</td>\n",
       "      <td>treat</td>\n",
       "      <td>cat</td>\n",
       "      <td>18.95</td>\n",
       "    </tr>\n",
       "    <tr>\n",
       "      <th>1202</th>\n",
       "      <td>10300948</td>\n",
       "      <td>287663658863</td>\n",
       "      <td>1001798</td>\n",
       "      <td>2021-01-31 13:52:06.681110</td>\n",
       "      <td>2021</td>\n",
       "      <td>1</td>\n",
       "      <td>31</td>\n",
       "      <td>31</td>\n",
       "      <td>1</td>\n",
       "      <td>29</td>\n",
       "      <td>Pennsylvania</td>\n",
       "      <td>9.95</td>\n",
       "      <td>All Veggie Yummies</td>\n",
       "      <td>treat</td>\n",
       "      <td>dog</td>\n",
       "      <td>9.95</td>\n",
       "    </tr>\n",
       "    <tr>\n",
       "      <th>1203</th>\n",
       "      <td>10300961</td>\n",
       "      <td>717036112695</td>\n",
       "      <td>1001809</td>\n",
       "      <td>2021-01-31 14:12:53.346135</td>\n",
       "      <td>2021</td>\n",
       "      <td>1</td>\n",
       "      <td>31</td>\n",
       "      <td>31</td>\n",
       "      <td>1</td>\n",
       "      <td>38</td>\n",
       "      <td>Pennsylvania</td>\n",
       "      <td>60.99</td>\n",
       "      <td>Reddy Beddy</td>\n",
       "      <td>bedding</td>\n",
       "      <td>dog</td>\n",
       "      <td>60.99</td>\n",
       "    </tr>\n",
       "    <tr>\n",
       "      <th>1204</th>\n",
       "      <td>10300961</td>\n",
       "      <td>575410882303</td>\n",
       "      <td>1001809</td>\n",
       "      <td>2021-01-31 14:12:53.346135</td>\n",
       "      <td>2021</td>\n",
       "      <td>1</td>\n",
       "      <td>31</td>\n",
       "      <td>31</td>\n",
       "      <td>1</td>\n",
       "      <td>38</td>\n",
       "      <td>Pennsylvania</td>\n",
       "      <td>21.95</td>\n",
       "      <td>Chomp-a Plush</td>\n",
       "      <td>toy</td>\n",
       "      <td>dog</td>\n",
       "      <td>21.95</td>\n",
       "    </tr>\n",
       "    <tr>\n",
       "      <th>1205</th>\n",
       "      <td>10300949</td>\n",
       "      <td>733426809698</td>\n",
       "      <td>1001106</td>\n",
       "      <td>2021-01-31 14:59:05.269588</td>\n",
       "      <td>2021</td>\n",
       "      <td>1</td>\n",
       "      <td>31</td>\n",
       "      <td>31</td>\n",
       "      <td>1</td>\n",
       "      <td>28</td>\n",
       "      <td>New York</td>\n",
       "      <td>18.95</td>\n",
       "      <td>Yum Fish-Dish</td>\n",
       "      <td>food</td>\n",
       "      <td>cat</td>\n",
       "      <td>18.95</td>\n",
       "    </tr>\n",
       "  </tbody>\n",
       "</table>\n",
       "<p>1206 rows × 16 columns</p>\n",
       "</div>"
      ],
      "text/plain": [
       "      trans_id      prod_upc  cust_id             trans_timestamp  trans_year  \\\n",
       "0     10300097  719638485153  1001019  2021-01-01 07:35:21.439873        2021   \n",
       "1     10300093   73201504044  1001015  2021-01-01 09:33:37.499660        2021   \n",
       "2     10300093  719638485153  1001015  2021-01-01 09:33:37.499660        2021   \n",
       "3     10300093  441530839394  1001015  2021-01-01 09:33:37.499660        2021   \n",
       "4     10300093  733426809698  1001015  2021-01-01 09:33:37.499660        2021   \n",
       "...        ...           ...      ...                         ...         ...   \n",
       "1201  10300964  100469015054  1001812  2021-01-31 13:38:49.942487        2021   \n",
       "1202  10300948  287663658863  1001798  2021-01-31 13:52:06.681110        2021   \n",
       "1203  10300961  717036112695  1001809  2021-01-31 14:12:53.346135        2021   \n",
       "1204  10300961  575410882303  1001809  2021-01-31 14:12:53.346135        2021   \n",
       "1205  10300949  733426809698  1001106  2021-01-31 14:59:05.269588        2021   \n",
       "\n",
       "      trans_month  trans_day  trans_hour  trans_quantity  cust_age  \\\n",
       "0               1          1           1               1        20   \n",
       "1               1          1           1               1        34   \n",
       "2               1          1           1               1        34   \n",
       "3               1          1           1               2        34   \n",
       "4               1          1           1               1        34   \n",
       "...           ...        ...         ...             ...       ...   \n",
       "1201            1         31          31               1        24   \n",
       "1202            1         31          31               1        29   \n",
       "1203            1         31          31               1        38   \n",
       "1204            1         31          31               1        38   \n",
       "1205            1         31          31               1        28   \n",
       "\n",
       "        cust_state  prod_price          prod_title prod_category  \\\n",
       "0         New York       72.99            Cat Cave       bedding   \n",
       "1         New York       18.95      Purrfect Puree         treat   \n",
       "2         New York       72.99            Cat Cave       bedding   \n",
       "3         New York       28.45     Ball and String           toy   \n",
       "4         New York       18.95       Yum Fish-Dish          food   \n",
       "...            ...         ...                 ...           ...   \n",
       "1201     Tennessee       18.95        Tuna Tasties         treat   \n",
       "1202  Pennsylvania        9.95  All Veggie Yummies         treat   \n",
       "1203  Pennsylvania       60.99         Reddy Beddy       bedding   \n",
       "1204  Pennsylvania       21.95       Chomp-a Plush           toy   \n",
       "1205      New York       18.95       Yum Fish-Dish          food   \n",
       "\n",
       "     prod_animal_type  total_sales  \n",
       "0                 cat        72.99  \n",
       "1                 cat        18.95  \n",
       "2                 cat        72.99  \n",
       "3                 cat        56.90  \n",
       "4                 cat        18.95  \n",
       "...               ...          ...  \n",
       "1201              cat        18.95  \n",
       "1202              dog         9.95  \n",
       "1203              dog        60.99  \n",
       "1204              dog        21.95  \n",
       "1205              cat        18.95  \n",
       "\n",
       "[1206 rows x 16 columns]"
      ]
     },
     "execution_count": 23,
     "metadata": {},
     "output_type": "execute_result"
    }
   ],
   "source": [
    "sales_jan"
   ]
  },
  {
   "cell_type": "code",
   "execution_count": 24,
   "id": "f1079f2b",
   "metadata": {},
   "outputs": [],
   "source": [
    "jan_rev = sales_jan[\"total_sales\"].sum()"
   ]
  },
  {
   "cell_type": "code",
   "execution_count": 25,
   "id": "b7442f61",
   "metadata": {},
   "outputs": [
    {
     "data": {
      "text/plain": [
       "51739.740000000005"
      ]
     },
     "execution_count": 25,
     "metadata": {},
     "output_type": "execute_result"
    }
   ],
   "source": [
    "jan_rev"
   ]
  },
  {
   "cell_type": "code",
   "execution_count": 26,
   "id": "1f85e179",
   "metadata": {
    "deletable": false,
    "editable": false,
    "nbgrader": {
     "cell_type": "code",
     "checksum": "2fd22165629a3ba80952beb46c8b0bc8",
     "grade": true,
     "grade_id": "cell-9a89e109181bc6b0",
     "locked": true,
     "points": 4,
     "schema_version": 3,
     "solution": false,
     "task": false
    }
   },
   "outputs": [],
   "source": [
    "# Q5 Test Cases\n",
    "assert  40000 <= jan_rev <= 60000"
   ]
  },
  {
   "cell_type": "markdown",
   "id": "90eeb17f",
   "metadata": {
    "deletable": false,
    "editable": false,
    "nbgrader": {
     "cell_type": "markdown",
     "checksum": "26e906b64afb4603c949c112c0ae2795",
     "grade": false,
     "grade_id": "cell-0205547589da160c",
     "locked": true,
     "schema_version": 3,
     "solution": false,
     "task": false
    }
   },
   "source": [
    "#### Question 6: More Money More Problems II\n",
    "\n",
    "What was the total dollar amount made in the month of January? Store this in the variable `june_rev`."
   ]
  },
  {
   "cell_type": "code",
   "execution_count": 27,
   "id": "a75e8063",
   "metadata": {
    "deletable": false,
    "nbgrader": {
     "cell_type": "code",
     "checksum": "c953c5ef9d927511d981329faa6e487e",
     "grade": false,
     "grade_id": "cell-0f1521ee38985bdd",
     "locked": false,
     "schema_version": 3,
     "solution": true,
     "task": false
    }
   },
   "outputs": [],
   "source": [
    "# your code here\n",
    "sales_june = df_cleaned[df_cleaned[\"trans_month\"] == 6]"
   ]
  },
  {
   "cell_type": "code",
   "execution_count": 28,
   "id": "59c85b27",
   "metadata": {},
   "outputs": [
    {
     "data": {
      "text/html": [
       "<div>\n",
       "<style scoped>\n",
       "    .dataframe tbody tr th:only-of-type {\n",
       "        vertical-align: middle;\n",
       "    }\n",
       "\n",
       "    .dataframe tbody tr th {\n",
       "        vertical-align: top;\n",
       "    }\n",
       "\n",
       "    .dataframe thead th {\n",
       "        text-align: right;\n",
       "    }\n",
       "</style>\n",
       "<table border=\"1\" class=\"dataframe\">\n",
       "  <thead>\n",
       "    <tr style=\"text-align: right;\">\n",
       "      <th></th>\n",
       "      <th>trans_id</th>\n",
       "      <th>prod_upc</th>\n",
       "      <th>cust_id</th>\n",
       "      <th>trans_timestamp</th>\n",
       "      <th>trans_year</th>\n",
       "      <th>trans_month</th>\n",
       "      <th>trans_day</th>\n",
       "      <th>trans_hour</th>\n",
       "      <th>trans_quantity</th>\n",
       "      <th>cust_age</th>\n",
       "      <th>cust_state</th>\n",
       "      <th>prod_price</th>\n",
       "      <th>prod_title</th>\n",
       "      <th>prod_category</th>\n",
       "      <th>prod_animal_type</th>\n",
       "      <th>total_sales</th>\n",
       "    </tr>\n",
       "  </thead>\n",
       "  <tbody>\n",
       "    <tr>\n",
       "      <th>24967</th>\n",
       "      <td>10318591</td>\n",
       "      <td>733426809698</td>\n",
       "      <td>1015889</td>\n",
       "      <td>2021-06-01 05:32:36.564058</td>\n",
       "      <td>2021</td>\n",
       "      <td>6</td>\n",
       "      <td>1</td>\n",
       "      <td>1</td>\n",
       "      <td>1</td>\n",
       "      <td>25</td>\n",
       "      <td>Virginia</td>\n",
       "      <td>18.95</td>\n",
       "      <td>Yum Fish-Dish</td>\n",
       "      <td>food</td>\n",
       "      <td>cat</td>\n",
       "      <td>18.95</td>\n",
       "    </tr>\n",
       "    <tr>\n",
       "      <th>24968</th>\n",
       "      <td>10318416</td>\n",
       "      <td>719638485153</td>\n",
       "      <td>1012671</td>\n",
       "      <td>2021-06-01 06:39:02.110506</td>\n",
       "      <td>2021</td>\n",
       "      <td>6</td>\n",
       "      <td>1</td>\n",
       "      <td>1</td>\n",
       "      <td>1</td>\n",
       "      <td>36</td>\n",
       "      <td>New York</td>\n",
       "      <td>72.99</td>\n",
       "      <td>Cat Cave</td>\n",
       "      <td>bedding</td>\n",
       "      <td>cat</td>\n",
       "      <td>72.99</td>\n",
       "    </tr>\n",
       "    <tr>\n",
       "      <th>24969</th>\n",
       "      <td>10318416</td>\n",
       "      <td>287663658863</td>\n",
       "      <td>1012671</td>\n",
       "      <td>2021-06-01 06:39:02.110506</td>\n",
       "      <td>2021</td>\n",
       "      <td>6</td>\n",
       "      <td>1</td>\n",
       "      <td>1</td>\n",
       "      <td>1</td>\n",
       "      <td>36</td>\n",
       "      <td>New York</td>\n",
       "      <td>9.95</td>\n",
       "      <td>All Veggie Yummies</td>\n",
       "      <td>treat</td>\n",
       "      <td>dog</td>\n",
       "      <td>9.95</td>\n",
       "    </tr>\n",
       "    <tr>\n",
       "      <th>24970</th>\n",
       "      <td>10318568</td>\n",
       "      <td>344538897332</td>\n",
       "      <td>1015876</td>\n",
       "      <td>2021-06-01 06:40:46.147412</td>\n",
       "      <td>2021</td>\n",
       "      <td>6</td>\n",
       "      <td>1</td>\n",
       "      <td>1</td>\n",
       "      <td>1</td>\n",
       "      <td>31</td>\n",
       "      <td>Texas</td>\n",
       "      <td>19.99</td>\n",
       "      <td>Feline Fix Mix</td>\n",
       "      <td>treat</td>\n",
       "      <td>cat</td>\n",
       "      <td>19.99</td>\n",
       "    </tr>\n",
       "    <tr>\n",
       "      <th>24971</th>\n",
       "      <td>10318568</td>\n",
       "      <td>832878954342</td>\n",
       "      <td>1015876</td>\n",
       "      <td>2021-06-01 06:40:46.147412</td>\n",
       "      <td>2021</td>\n",
       "      <td>6</td>\n",
       "      <td>1</td>\n",
       "      <td>1</td>\n",
       "      <td>1</td>\n",
       "      <td>31</td>\n",
       "      <td>Texas</td>\n",
       "      <td>45.99</td>\n",
       "      <td>Snoozer Hammock</td>\n",
       "      <td>bedding</td>\n",
       "      <td>cat</td>\n",
       "      <td>45.99</td>\n",
       "    </tr>\n",
       "    <tr>\n",
       "      <th>...</th>\n",
       "      <td>...</td>\n",
       "      <td>...</td>\n",
       "      <td>...</td>\n",
       "      <td>...</td>\n",
       "      <td>...</td>\n",
       "      <td>...</td>\n",
       "      <td>...</td>\n",
       "      <td>...</td>\n",
       "      <td>...</td>\n",
       "      <td>...</td>\n",
       "      <td>...</td>\n",
       "      <td>...</td>\n",
       "      <td>...</td>\n",
       "      <td>...</td>\n",
       "      <td>...</td>\n",
       "      <td>...</td>\n",
       "    </tr>\n",
       "    <tr>\n",
       "      <th>38218</th>\n",
       "      <td>10327860</td>\n",
       "      <td>287663658863</td>\n",
       "      <td>1022098</td>\n",
       "      <td>2021-06-30 15:37:12.821020</td>\n",
       "      <td>2021</td>\n",
       "      <td>6</td>\n",
       "      <td>30</td>\n",
       "      <td>30</td>\n",
       "      <td>1</td>\n",
       "      <td>25</td>\n",
       "      <td>New York</td>\n",
       "      <td>9.95</td>\n",
       "      <td>All Veggie Yummies</td>\n",
       "      <td>treat</td>\n",
       "      <td>dog</td>\n",
       "      <td>9.95</td>\n",
       "    </tr>\n",
       "    <tr>\n",
       "      <th>38219</th>\n",
       "      <td>10327960</td>\n",
       "      <td>140160459467</td>\n",
       "      <td>1022157</td>\n",
       "      <td>2021-06-30 15:45:09.872732</td>\n",
       "      <td>2021</td>\n",
       "      <td>6</td>\n",
       "      <td>30</td>\n",
       "      <td>30</td>\n",
       "      <td>2</td>\n",
       "      <td>31</td>\n",
       "      <td>Pennsylvania</td>\n",
       "      <td>48.95</td>\n",
       "      <td>Snoozer Essentails</td>\n",
       "      <td>bedding</td>\n",
       "      <td>dog</td>\n",
       "      <td>97.90</td>\n",
       "    </tr>\n",
       "    <tr>\n",
       "      <th>38220</th>\n",
       "      <td>10328009</td>\n",
       "      <td>425361189561</td>\n",
       "      <td>1022189</td>\n",
       "      <td>2021-06-30 15:57:44.295104</td>\n",
       "      <td>2021</td>\n",
       "      <td>6</td>\n",
       "      <td>30</td>\n",
       "      <td>30</td>\n",
       "      <td>2</td>\n",
       "      <td>53</td>\n",
       "      <td>New Jersey</td>\n",
       "      <td>15.99</td>\n",
       "      <td>Snack-em Fish</td>\n",
       "      <td>treat</td>\n",
       "      <td>cat</td>\n",
       "      <td>31.98</td>\n",
       "    </tr>\n",
       "    <tr>\n",
       "      <th>38221</th>\n",
       "      <td>10328089</td>\n",
       "      <td>733426809698</td>\n",
       "      <td>1022236</td>\n",
       "      <td>2021-06-30 15:59:29.801593</td>\n",
       "      <td>2021</td>\n",
       "      <td>6</td>\n",
       "      <td>30</td>\n",
       "      <td>30</td>\n",
       "      <td>1</td>\n",
       "      <td>23</td>\n",
       "      <td>Tennessee</td>\n",
       "      <td>18.95</td>\n",
       "      <td>Yum Fish-Dish</td>\n",
       "      <td>food</td>\n",
       "      <td>cat</td>\n",
       "      <td>18.95</td>\n",
       "    </tr>\n",
       "    <tr>\n",
       "      <th>38222</th>\n",
       "      <td>10328109</td>\n",
       "      <td>717036112695</td>\n",
       "      <td>1011924</td>\n",
       "      <td>2021-06-30 17:30:52.205912</td>\n",
       "      <td>2021</td>\n",
       "      <td>6</td>\n",
       "      <td>30</td>\n",
       "      <td>30</td>\n",
       "      <td>1</td>\n",
       "      <td>24</td>\n",
       "      <td>Pennsylvania</td>\n",
       "      <td>60.99</td>\n",
       "      <td>Reddy Beddy</td>\n",
       "      <td>bedding</td>\n",
       "      <td>dog</td>\n",
       "      <td>60.99</td>\n",
       "    </tr>\n",
       "  </tbody>\n",
       "</table>\n",
       "<p>13256 rows × 16 columns</p>\n",
       "</div>"
      ],
      "text/plain": [
       "       trans_id      prod_upc  cust_id             trans_timestamp  \\\n",
       "24967  10318591  733426809698  1015889  2021-06-01 05:32:36.564058   \n",
       "24968  10318416  719638485153  1012671  2021-06-01 06:39:02.110506   \n",
       "24969  10318416  287663658863  1012671  2021-06-01 06:39:02.110506   \n",
       "24970  10318568  344538897332  1015876  2021-06-01 06:40:46.147412   \n",
       "24971  10318568  832878954342  1015876  2021-06-01 06:40:46.147412   \n",
       "...         ...           ...      ...                         ...   \n",
       "38218  10327860  287663658863  1022098  2021-06-30 15:37:12.821020   \n",
       "38219  10327960  140160459467  1022157  2021-06-30 15:45:09.872732   \n",
       "38220  10328009  425361189561  1022189  2021-06-30 15:57:44.295104   \n",
       "38221  10328089  733426809698  1022236  2021-06-30 15:59:29.801593   \n",
       "38222  10328109  717036112695  1011924  2021-06-30 17:30:52.205912   \n",
       "\n",
       "       trans_year  trans_month  trans_day  trans_hour  trans_quantity  \\\n",
       "24967        2021            6          1           1               1   \n",
       "24968        2021            6          1           1               1   \n",
       "24969        2021            6          1           1               1   \n",
       "24970        2021            6          1           1               1   \n",
       "24971        2021            6          1           1               1   \n",
       "...           ...          ...        ...         ...             ...   \n",
       "38218        2021            6         30          30               1   \n",
       "38219        2021            6         30          30               2   \n",
       "38220        2021            6         30          30               2   \n",
       "38221        2021            6         30          30               1   \n",
       "38222        2021            6         30          30               1   \n",
       "\n",
       "       cust_age    cust_state  prod_price          prod_title prod_category  \\\n",
       "24967        25      Virginia       18.95       Yum Fish-Dish          food   \n",
       "24968        36      New York       72.99            Cat Cave       bedding   \n",
       "24969        36      New York        9.95  All Veggie Yummies         treat   \n",
       "24970        31         Texas       19.99      Feline Fix Mix         treat   \n",
       "24971        31         Texas       45.99     Snoozer Hammock       bedding   \n",
       "...         ...           ...         ...                 ...           ...   \n",
       "38218        25      New York        9.95  All Veggie Yummies         treat   \n",
       "38219        31  Pennsylvania       48.95  Snoozer Essentails       bedding   \n",
       "38220        53    New Jersey       15.99       Snack-em Fish         treat   \n",
       "38221        23     Tennessee       18.95       Yum Fish-Dish          food   \n",
       "38222        24  Pennsylvania       60.99         Reddy Beddy       bedding   \n",
       "\n",
       "      prod_animal_type  total_sales  \n",
       "24967              cat        18.95  \n",
       "24968              cat        72.99  \n",
       "24969              dog         9.95  \n",
       "24970              cat        19.99  \n",
       "24971              cat        45.99  \n",
       "...                ...          ...  \n",
       "38218              dog         9.95  \n",
       "38219              dog        97.90  \n",
       "38220              cat        31.98  \n",
       "38221              cat        18.95  \n",
       "38222              dog        60.99  \n",
       "\n",
       "[13256 rows x 16 columns]"
      ]
     },
     "execution_count": 28,
     "metadata": {},
     "output_type": "execute_result"
    }
   ],
   "source": [
    "sales_june"
   ]
  },
  {
   "cell_type": "code",
   "execution_count": 29,
   "id": "6f860bc0",
   "metadata": {},
   "outputs": [],
   "source": [
    "june_rev = sales_june[\"total_sales\"].sum()"
   ]
  },
  {
   "cell_type": "code",
   "execution_count": 30,
   "id": "2cca748f",
   "metadata": {},
   "outputs": [
    {
     "data": {
      "text/plain": [
       "548822.73"
      ]
     },
     "execution_count": 30,
     "metadata": {},
     "output_type": "execute_result"
    }
   ],
   "source": [
    "june_rev"
   ]
  },
  {
   "cell_type": "code",
   "execution_count": 31,
   "id": "75eb9ce1",
   "metadata": {
    "deletable": false,
    "editable": false,
    "nbgrader": {
     "cell_type": "code",
     "checksum": "469a7c951ae1db2dd7905cb01bd4352e",
     "grade": true,
     "grade_id": "cell-5ac7a212f71fe758",
     "locked": true,
     "points": 4,
     "schema_version": 3,
     "solution": false,
     "task": false
    }
   },
   "outputs": [],
   "source": [
    "# Q6 Test Cases\n",
    "assert  500000 <= june_rev <= 600000"
   ]
  },
  {
   "cell_type": "markdown",
   "id": "e31153b9",
   "metadata": {
    "deletable": false,
    "editable": false,
    "nbgrader": {
     "cell_type": "markdown",
     "checksum": "a6644bd2e3d854d604d0f1794e630905",
     "grade": false,
     "grade_id": "cell-b428aa728b3bae2b",
     "locked": true,
     "schema_version": 3,
     "solution": false,
     "task": false
    }
   },
   "source": [
    "#### Question 7: Transaction Size\n",
    "\n",
    "What is the average number of items bought in each transaction? Sore this in the variable `avg_num_items`."
   ]
  },
  {
   "cell_type": "code",
   "execution_count": 32,
   "id": "13d59290",
   "metadata": {
    "deletable": false,
    "nbgrader": {
     "cell_type": "code",
     "checksum": "70c97b1c7f4166f295589f8f5bb4e94c",
     "grade": false,
     "grade_id": "cell-aeccee5f203a3f64",
     "locked": false,
     "schema_version": 3,
     "solution": true,
     "task": false
    }
   },
   "outputs": [],
   "source": [
    "# your code here\n",
    "\n",
    "avg_num_items = df_cleaned['trans_quantity'].sum()/df_cleaned['trans_id'].drop_duplicates().count()"
   ]
  },
  {
   "cell_type": "code",
   "execution_count": 33,
   "id": "dcaa6642",
   "metadata": {},
   "outputs": [
    {
     "data": {
      "text/plain": [
       "1.8745628434801227"
      ]
     },
     "execution_count": 33,
     "metadata": {},
     "output_type": "execute_result"
    }
   ],
   "source": [
    "avg_num_items"
   ]
  },
  {
   "cell_type": "code",
   "execution_count": 34,
   "id": "9d7bef4b",
   "metadata": {
    "deletable": false,
    "editable": false,
    "nbgrader": {
     "cell_type": "code",
     "checksum": "f5ee0341b7b3499e8a7a92dc2aa311f4",
     "grade": true,
     "grade_id": "cell-9107bb862558578a",
     "locked": true,
     "points": 4,
     "schema_version": 3,
     "solution": false,
     "task": false
    }
   },
   "outputs": [],
   "source": [
    "# Q7 Test Cases\n",
    "assert  0 <= avg_num_items <= 3"
   ]
  },
  {
   "cell_type": "markdown",
   "id": "3812e7de",
   "metadata": {
    "deletable": false,
    "editable": false,
    "nbgrader": {
     "cell_type": "markdown",
     "checksum": "8c9e7fdab578424beb850bc1152a530e",
     "grade": false,
     "grade_id": "cell-510e9f8b6f0680cf",
     "locked": true,
     "schema_version": 3,
     "solution": false,
     "task": false
    }
   },
   "source": [
    "#### Question 8: Best Products I\n",
    "\n",
    "What are the top ten product titles by the number of sales? Display in descending order. Store in variable `top_num_sales`."
   ]
  },
  {
   "cell_type": "code",
   "execution_count": 35,
   "id": "58577958",
   "metadata": {
    "deletable": false,
    "nbgrader": {
     "cell_type": "code",
     "checksum": "67af0b78555e323fa80437e2d7722706",
     "grade": false,
     "grade_id": "cell-6ebd3fdb04804030",
     "locked": false,
     "schema_version": 3,
     "solution": true,
     "task": false
    }
   },
   "outputs": [
    {
     "data": {
      "text/plain": [
       "prod_title\n",
       "Reddy Beddy               6583\n",
       "Yum Fish-Dish             4298\n",
       "Kitty Climber             3329\n",
       "Feline Fix Mix            3262\n",
       "Tuna Tasties              3102\n",
       "Chewie Dental             2579\n",
       "Purrfect Puree            2453\n",
       "Whole Chemistry Recipe    2410\n",
       "Cat Cave                  2408\n",
       "Snoozer Hammock           2311\n",
       "Name: trans_quantity, dtype: int64"
      ]
     },
     "execution_count": 35,
     "metadata": {},
     "output_type": "execute_result"
    }
   ],
   "source": [
    "# your code here\n",
    "\n",
    "df_cleaned.groupby([\"prod_title\"])[\"trans_quantity\"].sum().sort_values(ascending=False).head(10)"
   ]
  },
  {
   "cell_type": "code",
   "execution_count": 36,
   "id": "830d9b49",
   "metadata": {},
   "outputs": [
    {
     "data": {
      "text/plain": [
       "Reddy Beddy               4734\n",
       "Yum Fish-Dish             3086\n",
       "Kitty Climber             2438\n",
       "Feline Fix Mix            2412\n",
       "Tuna Tasties              2276\n",
       "Chewie Dental             1911\n",
       "Purrfect Puree            1795\n",
       "Cat Cave                  1762\n",
       "Whole Chemistry Recipe    1747\n",
       "All Veggie Yummies        1702\n",
       "Name: prod_title, dtype: int64"
      ]
     },
     "execution_count": 36,
     "metadata": {},
     "output_type": "execute_result"
    }
   ],
   "source": [
    "df_cleaned['prod_title'].value_counts().head(10)"
   ]
  },
  {
   "cell_type": "code",
   "execution_count": 37,
   "id": "b8934a04",
   "metadata": {},
   "outputs": [
    {
     "data": {
      "text/plain": [
       "Reddy Beddy               4734\n",
       "Yum Fish-Dish             3086\n",
       "Kitty Climber             2438\n",
       "Feline Fix Mix            2412\n",
       "Tuna Tasties              2276\n",
       "Chewie Dental             1911\n",
       "Purrfect Puree            1795\n",
       "Cat Cave                  1762\n",
       "Whole Chemistry Recipe    1747\n",
       "All Veggie Yummies        1702\n",
       "Name: prod_title, dtype: int64"
      ]
     },
     "execution_count": 37,
     "metadata": {},
     "output_type": "execute_result"
    }
   ],
   "source": [
    "top_num_sales = top_num_sales=df_cleaned['prod_title'].value_counts().head(10)\n",
    "top_num_sales"
   ]
  },
  {
   "cell_type": "code",
   "execution_count": 38,
   "id": "8ff8b785",
   "metadata": {},
   "outputs": [
    {
     "data": {
      "text/plain": [
       "10"
      ]
     },
     "execution_count": 38,
     "metadata": {},
     "output_type": "execute_result"
    }
   ],
   "source": [
    "len(top_num_sales)"
   ]
  },
  {
   "cell_type": "code",
   "execution_count": 39,
   "id": "e2dd253c",
   "metadata": {
    "deletable": false,
    "editable": false,
    "nbgrader": {
     "cell_type": "code",
     "checksum": "eb4036a21119e117ac536aa5be94ac2b",
     "grade": true,
     "grade_id": "cell-5cd99f7a3013a125",
     "locked": true,
     "points": 4,
     "schema_version": 3,
     "solution": false,
     "task": false
    }
   },
   "outputs": [],
   "source": [
    "# Q8 Test Cases\n",
    "assert len(top_num_sales) == 10"
   ]
  },
  {
   "cell_type": "markdown",
   "id": "3fbcefc6",
   "metadata": {
    "deletable": false,
    "editable": false,
    "nbgrader": {
     "cell_type": "markdown",
     "checksum": "2663e149b4ad9dc2feb65e12a0c3fafe",
     "grade": false,
     "grade_id": "cell-2d2d9e58a275f46a",
     "locked": true,
     "schema_version": 3,
     "solution": false,
     "task": false
    }
   },
   "source": [
    "#### Question 9: Best Products II\n",
    "\n",
    "What are the top ten product titles by total dollar amount made? Display in descending order. Store in variable `top_tot_sales`."
   ]
  },
  {
   "cell_type": "code",
   "execution_count": 40,
   "id": "f67d9b07",
   "metadata": {},
   "outputs": [
    {
     "data": {
      "text/plain": [
       "11           Reddy Beddy\n",
       "2               Cat Cave\n",
       "8          Kitty Climber\n",
       "15       Snoozer Hammock\n",
       "14    Snoozer Essentails\n",
       "20         Yum Fish-Dish\n",
       "12         Scratchy Post\n",
       "5         Feline Fix Mix\n",
       "7            Foozy Mouse\n",
       "18          Tuna Tasties\n",
       "Name: prod_title, dtype: object"
      ]
     },
     "execution_count": 40,
     "metadata": {},
     "output_type": "execute_result"
    }
   ],
   "source": [
    "top_num_sales = df_cleaned.groupby('prod_title').agg('total_sales').sum().reset_index()\n",
    "top_tot_sales =top_num_sales.sort_values(\"total_sales\",ascending=False).head(10)\n",
    "top_tot_sales=top_tot_sales[\"prod_title\"]\n",
    "top_tot_sales"
   ]
  },
  {
   "cell_type": "code",
   "execution_count": 41,
   "id": "e8ddf253",
   "metadata": {
    "deletable": false,
    "nbgrader": {
     "cell_type": "code",
     "checksum": "ae56ab7add7bf8c2e2afcaceea6415a4",
     "grade": false,
     "grade_id": "cell-18c6a06ec971a5d9",
     "locked": false,
     "schema_version": 3,
     "solution": true,
     "task": false
    }
   },
   "outputs": [
    {
     "data": {
      "text/plain": [
       "prod_title\n",
       "Reddy Beddy           408023.09\n",
       "Cat Cave              175759.92\n",
       "Kitty Climber         119810.71\n",
       "Snoozer Hammock       106282.89\n",
       "Snoozer Essentails    100739.10\n",
       "Yum Fish-Dish          81447.10\n",
       "Scratchy Post          65951.34\n",
       "Feline Fix Mix         65207.38\n",
       "Foozy Mouse            61460.37\n",
       "Tuna Tasties           58782.90\n",
       "Name: total_sales, dtype: float64"
      ]
     },
     "execution_count": 41,
     "metadata": {},
     "output_type": "execute_result"
    }
   ],
   "source": [
    "# your code here\n",
    "\n",
    "df_cleaned.groupby([\"prod_title\"])[\"total_sales\"].sum().sort_values(ascending=False).head(10)"
   ]
  },
  {
   "cell_type": "code",
   "execution_count": 42,
   "id": "756d5529",
   "metadata": {},
   "outputs": [
    {
     "data": {
      "text/plain": [
       "prod_title\n",
       "Reddy Beddy           408023.09\n",
       "Cat Cave              175759.92\n",
       "Kitty Climber         119810.71\n",
       "Snoozer Hammock       106282.89\n",
       "Snoozer Essentails    100739.10\n",
       "Yum Fish-Dish          81447.10\n",
       "Scratchy Post          65951.34\n",
       "Feline Fix Mix         65207.38\n",
       "Foozy Mouse            61460.37\n",
       "Tuna Tasties           58782.90\n",
       "Name: total_sales, dtype: float64"
      ]
     },
     "execution_count": 42,
     "metadata": {},
     "output_type": "execute_result"
    }
   ],
   "source": [
    "top_tot_sales = df_cleaned.groupby([\"prod_title\"])[\"total_sales\"].sum().sort_values(ascending=False).head(10)\n",
    "top_tot_sales"
   ]
  },
  {
   "cell_type": "code",
   "execution_count": 43,
   "id": "8a2fab1c",
   "metadata": {},
   "outputs": [
    {
     "data": {
      "text/plain": [
       "10"
      ]
     },
     "execution_count": 43,
     "metadata": {},
     "output_type": "execute_result"
    }
   ],
   "source": [
    "len(top_tot_sales)"
   ]
  },
  {
   "cell_type": "code",
   "execution_count": 44,
   "id": "b4f768c0",
   "metadata": {
    "deletable": false,
    "editable": false,
    "nbgrader": {
     "cell_type": "code",
     "checksum": "f65da43e8dc9fcfde7c53f885ca76a0a",
     "grade": true,
     "grade_id": "cell-9a381e47ff024ad4",
     "locked": true,
     "points": 4,
     "schema_version": 3,
     "solution": false,
     "task": false
    }
   },
   "outputs": [],
   "source": [
    "# Q9 Test Cases\n",
    "assert len(top_tot_sales) == 10"
   ]
  },
  {
   "cell_type": "markdown",
   "id": "ec4edc34",
   "metadata": {
    "deletable": false,
    "editable": false,
    "nbgrader": {
     "cell_type": "markdown",
     "checksum": "6babd904d5868a596700e49218b392f0",
     "grade": false,
     "grade_id": "cell-3589d6f6028b7289",
     "locked": true,
     "schema_version": 3,
     "solution": false,
     "task": false
    }
   },
   "source": [
    "#### Question 10: Bonus\n",
    "\n",
    "What is the proportion of returning customers? Store as variable `prop_returning`."
   ]
  },
  {
   "cell_type": "code",
   "execution_count": 45,
   "id": "9b9b021e",
   "metadata": {
    "deletable": false,
    "nbgrader": {
     "cell_type": "code",
     "checksum": "74bbb75d42848778c109dab6103791c7",
     "grade": false,
     "grade_id": "cell-59c5307f420fe231",
     "locked": false,
     "schema_version": 3,
     "solution": true,
     "task": false
    }
   },
   "outputs": [
    {
     "data": {
      "text/plain": [
       "cust_id\n",
       "1001012    3\n",
       "1001013    1\n",
       "1001014    3\n",
       "1001015    4\n",
       "1001016    2\n",
       "          ..\n",
       "1022248    1\n",
       "1022249    1\n",
       "1022250    1\n",
       "1022251    1\n",
       "1022252    2\n",
       "Name: trans_id, Length: 21241, dtype: int64"
      ]
     },
     "execution_count": 45,
     "metadata": {},
     "output_type": "execute_result"
    }
   ],
   "source": [
    "# your code here\n",
    "\n",
    "df_cleaned.groupby(\"cust_id\")[\"trans_id\"].count()"
   ]
  },
  {
   "cell_type": "code",
   "execution_count": 46,
   "id": "1e4174db",
   "metadata": {},
   "outputs": [
    {
     "data": {
      "text/html": [
       "<div>\n",
       "<style scoped>\n",
       "    .dataframe tbody tr th:only-of-type {\n",
       "        vertical-align: middle;\n",
       "    }\n",
       "\n",
       "    .dataframe tbody tr th {\n",
       "        vertical-align: top;\n",
       "    }\n",
       "\n",
       "    .dataframe thead th {\n",
       "        text-align: right;\n",
       "    }\n",
       "</style>\n",
       "<table border=\"1\" class=\"dataframe\">\n",
       "  <thead>\n",
       "    <tr style=\"text-align: right;\">\n",
       "      <th></th>\n",
       "      <th>trans_id</th>\n",
       "    </tr>\n",
       "    <tr>\n",
       "      <th>cust_id</th>\n",
       "      <th></th>\n",
       "    </tr>\n",
       "  </thead>\n",
       "  <tbody>\n",
       "    <tr>\n",
       "      <th>1001012</th>\n",
       "      <td>3</td>\n",
       "    </tr>\n",
       "    <tr>\n",
       "      <th>1001013</th>\n",
       "      <td>1</td>\n",
       "    </tr>\n",
       "    <tr>\n",
       "      <th>1001014</th>\n",
       "      <td>3</td>\n",
       "    </tr>\n",
       "    <tr>\n",
       "      <th>1001015</th>\n",
       "      <td>4</td>\n",
       "    </tr>\n",
       "    <tr>\n",
       "      <th>1001016</th>\n",
       "      <td>2</td>\n",
       "    </tr>\n",
       "    <tr>\n",
       "      <th>...</th>\n",
       "      <td>...</td>\n",
       "    </tr>\n",
       "    <tr>\n",
       "      <th>1022248</th>\n",
       "      <td>1</td>\n",
       "    </tr>\n",
       "    <tr>\n",
       "      <th>1022249</th>\n",
       "      <td>1</td>\n",
       "    </tr>\n",
       "    <tr>\n",
       "      <th>1022250</th>\n",
       "      <td>1</td>\n",
       "    </tr>\n",
       "    <tr>\n",
       "      <th>1022251</th>\n",
       "      <td>1</td>\n",
       "    </tr>\n",
       "    <tr>\n",
       "      <th>1022252</th>\n",
       "      <td>2</td>\n",
       "    </tr>\n",
       "  </tbody>\n",
       "</table>\n",
       "<p>21241 rows × 1 columns</p>\n",
       "</div>"
      ],
      "text/plain": [
       "         trans_id\n",
       "cust_id          \n",
       "1001012         3\n",
       "1001013         1\n",
       "1001014         3\n",
       "1001015         4\n",
       "1001016         2\n",
       "...           ...\n",
       "1022248         1\n",
       "1022249         1\n",
       "1022250         1\n",
       "1022251         1\n",
       "1022252         2\n",
       "\n",
       "[21241 rows x 1 columns]"
      ]
     },
     "execution_count": 46,
     "metadata": {},
     "output_type": "execute_result"
    }
   ],
   "source": [
    "df2 = pd.DataFrame(df_cleaned.groupby(\"cust_id\")[\"trans_id\"].count())\n",
    "df2"
   ]
  },
  {
   "cell_type": "code",
   "execution_count": 47,
   "id": "62661fc9",
   "metadata": {},
   "outputs": [
    {
     "data": {
      "text/plain": [
       "9606"
      ]
     },
     "execution_count": 47,
     "metadata": {},
     "output_type": "execute_result"
    }
   ],
   "source": [
    "returncustomers = (df2[\"trans_id\"] > 1).sum()\n",
    "returncustomers"
   ]
  },
  {
   "cell_type": "code",
   "execution_count": 48,
   "id": "909d677f",
   "metadata": {},
   "outputs": [
    {
     "data": {
      "text/plain": [
       "11635"
      ]
     },
     "execution_count": 48,
     "metadata": {},
     "output_type": "execute_result"
    }
   ],
   "source": [
    "onetimecustomers = (df2[\"trans_id\"] == 1).sum()\n",
    "onetimecustomers"
   ]
  },
  {
   "cell_type": "code",
   "execution_count": 49,
   "id": "5c1e6320",
   "metadata": {},
   "outputs": [
    {
     "data": {
      "text/plain": [
       "21241"
      ]
     },
     "execution_count": 49,
     "metadata": {},
     "output_type": "execute_result"
    }
   ],
   "source": [
    "len(df2)"
   ]
  },
  {
   "cell_type": "code",
   "execution_count": 50,
   "id": "b93b0ff1",
   "metadata": {},
   "outputs": [],
   "source": [
    "prop_returning = returncustomers / len(df2)"
   ]
  },
  {
   "cell_type": "code",
   "execution_count": 51,
   "id": "e4ad6ce1",
   "metadata": {},
   "outputs": [
    {
     "data": {
      "text/plain": [
       "True"
      ]
     },
     "execution_count": 51,
     "metadata": {},
     "output_type": "execute_result"
    }
   ],
   "source": [
    "0 <= prop_returning <= 1"
   ]
  },
  {
   "cell_type": "code",
   "execution_count": 52,
   "id": "0438bb1e",
   "metadata": {
    "deletable": false,
    "editable": false,
    "nbgrader": {
     "cell_type": "code",
     "checksum": "c64f73a0677c7a129cf221b3815e9883",
     "grade": true,
     "grade_id": "cell-84d62b95c61208f4",
     "locked": true,
     "points": 0,
     "schema_version": 3,
     "solution": false,
     "task": false
    }
   },
   "outputs": [],
   "source": [
    "# Q10 Test Cases\n",
    "assert 0 <= prop_returning <= 1"
   ]
  },
  {
   "cell_type": "code",
   "execution_count": null,
   "id": "f0ac28d3",
   "metadata": {},
   "outputs": [],
   "source": []
  }
 ],
 "metadata": {
  "kernelspec": {
   "display_name": "Python 3 (ipykernel)",
   "language": "python",
   "name": "python3"
  },
  "language_info": {
   "codemirror_mode": {
    "name": "ipython",
    "version": 3
   },
   "file_extension": ".py",
   "mimetype": "text/x-python",
   "name": "python",
   "nbconvert_exporter": "python",
   "pygments_lexer": "ipython3",
   "version": "3.9.7"
  }
 },
 "nbformat": 4,
 "nbformat_minor": 5
}
