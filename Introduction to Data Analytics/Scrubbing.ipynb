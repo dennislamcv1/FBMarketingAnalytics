{
 "cells": [
  {
   "cell_type": "markdown",
   "id": "35f208f6",
   "metadata": {
    "deletable": false,
    "editable": false,
    "nbgrader": {
     "cell_type": "markdown",
     "checksum": "04d6c5632345d2da14bad91b1c078302",
     "grade": false,
     "grade_id": "cell-b034ee2b9cebbaef",
     "locked": true,
     "schema_version": 3,
     "solution": false,
     "task": false
    }
   },
   "source": [
    "# Part II: Scrubbing\n",
    "\n",
    "![alt text](data/inu_neko_logo_small.png \"Inu + Neko\")\n",
    "\n",
    "Hello! We are Inu + Neku and we are a Dog & Cat services and supplies store located in New York City. We just started our e-commerce business and need your help analyzing our data!"
   ]
  },
  {
   "cell_type": "markdown",
   "id": "257fa09f",
   "metadata": {
    "deletable": false,
    "editable": false,
    "nbgrader": {
     "cell_type": "markdown",
     "checksum": "135f302e860b9bc15d97b32803431de7",
     "grade": false,
     "grade_id": "cell-3b8737ec9bf174d8",
     "locked": true,
     "schema_version": 3,
     "solution": false,
     "task": false
    }
   },
   "source": [
    "## Description\n",
    "\n",
    "We need to make sure the data is clean before starting your analysis. As a reminder, we should check for:\n",
    "\n",
    "- Duplicate records\n",
    "- Consistent formatting\n",
    "- Missing values\n",
    "- Obviously wrong values"
   ]
  },
  {
   "cell_type": "code",
   "execution_count": null,
   "id": "8b2015b9",
   "metadata": {
    "deletable": false,
    "editable": false,
    "nbgrader": {
     "cell_type": "code",
     "checksum": "9023736ad847986d26251beaaba9c777",
     "grade": false,
     "grade_id": "cell-9455c9ab40f4416d",
     "locked": true,
     "schema_version": 3,
     "solution": false,
     "task": false
    }
   },
   "outputs": [],
   "source": [
    "import pandas as pd\n",
    "import numpy as np\n",
    "import matplotlib.pyplot as plt"
   ]
  },
  {
   "cell_type": "code",
   "execution_count": null,
   "id": "f957983d",
   "metadata": {
    "deletable": false,
    "editable": false,
    "nbgrader": {
     "cell_type": "code",
     "checksum": "a1172407278e80f84e184348d0787d0a",
     "grade": false,
     "grade_id": "cell-75e1c391d6106f8f",
     "locked": true,
     "schema_version": 3,
     "solution": false,
     "task": false
    }
   },
   "outputs": [],
   "source": [
    "df = pd.read_csv('data/inu_neko_orderline.csv')\n",
    "df"
   ]
  },
  {
   "cell_type": "code",
   "execution_count": null,
   "id": "bb36810d",
   "metadata": {
    "deletable": false,
    "editable": false,
    "nbgrader": {
     "cell_type": "code",
     "checksum": "29754e3ea5dbe2b4a8d472a82e2daa84",
     "grade": false,
     "grade_id": "cell-37394d3f1737c200",
     "locked": true,
     "schema_version": 3,
     "solution": false,
     "task": false
    }
   },
   "outputs": [],
   "source": [
    "df.info()"
   ]
  },
  {
   "cell_type": "markdown",
   "id": "6b811741",
   "metadata": {
    "deletable": false,
    "editable": false,
    "nbgrader": {
     "cell_type": "markdown",
     "checksum": "611353ba7ca7a2059faaff8fa97abaad",
     "grade": false,
     "grade_id": "cell-1b8f0a6c49831ae3",
     "locked": true,
     "schema_version": 3,
     "solution": false,
     "task": false
    }
   },
   "source": [
    "#### Question 1: Duplicate Records\n",
    "\n",
    "How many duplicate transaction records are there? Do not count the first occurence as a duplicate. Assign your answer to the variable `dup_rows`."
   ]
  },
  {
   "cell_type": "code",
   "execution_count": null,
   "id": "489d9f44",
   "metadata": {
    "deletable": false,
    "nbgrader": {
     "cell_type": "code",
     "checksum": "2d1a343fa98f51656585f010097de554",
     "grade": false,
     "grade_id": "cell-098e0ee8e6444df1",
     "locked": false,
     "schema_version": 3,
     "solution": true,
     "task": false
    }
   },
   "outputs": [],
   "source": [
    "# your code here\n",
    "\n",
    "dup_rows"
   ]
  },
  {
   "cell_type": "code",
   "execution_count": null,
   "id": "ac04f055",
   "metadata": {
    "deletable": false,
    "editable": false,
    "nbgrader": {
     "cell_type": "code",
     "checksum": "bc2a56dff7e4013913f72600eacbb3c5",
     "grade": true,
     "grade_id": "cell-1b3c442ab9478645",
     "locked": true,
     "points": 2,
     "schema_version": 3,
     "solution": false,
     "task": false
    }
   },
   "outputs": [],
   "source": [
    "# Q1 Test Cases\n",
    "assert 500 >= dup_rows >= 300"
   ]
  },
  {
   "cell_type": "markdown",
   "id": "95a50eb0",
   "metadata": {
    "deletable": false,
    "editable": false,
    "nbgrader": {
     "cell_type": "markdown",
     "checksum": "671d1becdb7658771b11543f8c3382f8",
     "grade": false,
     "grade_id": "cell-80dc151bf9143b77",
     "locked": true,
     "schema_version": 3,
     "solution": false,
     "task": false
    }
   },
   "source": [
    "#### Question 2: Drop Duplicate Records\n",
    "\n",
    "Drop the duplicated records and assign the output `DataFrame` to a new variable called `df_cleaned`. Use this from now on."
   ]
  },
  {
   "cell_type": "code",
   "execution_count": null,
   "id": "4842dbf9",
   "metadata": {
    "deletable": false,
    "nbgrader": {
     "cell_type": "code",
     "checksum": "a235db135a026f84d029e18cb6da7d65",
     "grade": false,
     "grade_id": "cell-3672260cd0ca48a1",
     "locked": false,
     "schema_version": 3,
     "solution": true,
     "task": false
    }
   },
   "outputs": [],
   "source": [
    "# your code here\n",
    "\n",
    "df_cleaned.head()"
   ]
  },
  {
   "cell_type": "code",
   "execution_count": null,
   "id": "e3b206ac",
   "metadata": {
    "deletable": false,
    "editable": false,
    "nbgrader": {
     "cell_type": "code",
     "checksum": "a3086d0179e35e8b1482a7c91764f7b3",
     "grade": true,
     "grade_id": "cell-918643d81e7a8519",
     "locked": true,
     "points": 2,
     "schema_version": 3,
     "solution": false,
     "task": false
    }
   },
   "outputs": [],
   "source": [
    "# Q2 Test Cases\n",
    "assert 39000 >= len(df_cleaned) >= 38000"
   ]
  },
  {
   "cell_type": "markdown",
   "id": "b434d4d7",
   "metadata": {
    "deletable": false,
    "editable": false,
    "nbgrader": {
     "cell_type": "markdown",
     "checksum": "84f373800970154fb0a32dd4a6bd5b60",
     "grade": false,
     "grade_id": "cell-21cfa7a2e15a8a84",
     "locked": true,
     "schema_version": 3,
     "solution": false,
     "task": false
    }
   },
   "source": [
    "#### Question 3: Consistent Formatting\n",
    "\n",
    "Fix the inconsistencies in the column `cust_state`."
   ]
  },
  {
   "cell_type": "code",
   "execution_count": null,
   "id": "eafb328a",
   "metadata": {
    "deletable": false,
    "nbgrader": {
     "cell_type": "code",
     "checksum": "af75a5cc28dcc7c03cf3b506de8bb903",
     "grade": false,
     "grade_id": "cell-294723711137757b",
     "locked": false,
     "schema_version": 3,
     "solution": true,
     "task": false
    }
   },
   "outputs": [],
   "source": [
    "# your code here\n",
    "\n",
    "df_cleaned.head()"
   ]
  },
  {
   "cell_type": "code",
   "execution_count": null,
   "id": "41cf3c25",
   "metadata": {
    "deletable": false,
    "editable": false,
    "nbgrader": {
     "cell_type": "code",
     "checksum": "f7b0e4f4c39e1a1277f2f1a7e83b1a95",
     "grade": true,
     "grade_id": "cell-cde65480600ea092",
     "locked": true,
     "points": 4,
     "schema_version": 3,
     "solution": false,
     "task": false
    }
   },
   "outputs": [],
   "source": [
    "# Q3 Test Cases\n",
    "assert 55 > df_cleaned['cust_state'].nunique() > 45"
   ]
  },
  {
   "cell_type": "markdown",
   "id": "def42fe4",
   "metadata": {
    "deletable": false,
    "editable": false,
    "nbgrader": {
     "cell_type": "markdown",
     "checksum": "36ac9091f67df0088b78794eaf988c66",
     "grade": false,
     "grade_id": "cell-dc15c72b575447a9",
     "locked": true,
     "schema_version": 3,
     "solution": false,
     "task": false
    }
   },
   "source": [
    "#### Question 4: Fistful of Dollars I\n",
    "\n",
    "Validate the prices in `prod_price`. Remove any rows that are obviously wrong."
   ]
  },
  {
   "cell_type": "code",
   "execution_count": null,
   "id": "8caa1d92",
   "metadata": {
    "deletable": false,
    "nbgrader": {
     "cell_type": "code",
     "checksum": "ad4750e06ee8d1e6ca22444e3050dc41",
     "grade": false,
     "grade_id": "cell-7aca7aae23c61ceb",
     "locked": false,
     "schema_version": 3,
     "solution": true,
     "task": false
    }
   },
   "outputs": [],
   "source": [
    "# your code here\n",
    "\n",
    "df_cleaned.head()"
   ]
  },
  {
   "cell_type": "code",
   "execution_count": null,
   "id": "8d1b48bf",
   "metadata": {
    "deletable": false,
    "editable": false,
    "nbgrader": {
     "cell_type": "code",
     "checksum": "10e7687491987837cbbcfde87b9740ab",
     "grade": true,
     "grade_id": "cell-2fb81eaac500d459",
     "locked": true,
     "points": 4,
     "schema_version": 3,
     "solution": false,
     "task": false
    }
   },
   "outputs": [],
   "source": [
    "# Q6 Test Cases\n",
    "assert df_cleaned['prod_price'].max() < 500\n",
    "assert df_cleaned['prod_price'].min() > 0"
   ]
  },
  {
   "cell_type": "markdown",
   "id": "823f411c",
   "metadata": {
    "deletable": false,
    "editable": false,
    "nbgrader": {
     "cell_type": "markdown",
     "checksum": "5e04c7f6a75ff49d87d4ecd38df70ae0",
     "grade": false,
     "grade_id": "cell-55f0930fc2d706bd",
     "locked": true,
     "schema_version": 3,
     "solution": false,
     "task": false
    }
   },
   "source": [
    "#### Question 5: Fistful of Dollars II\n",
    "\n",
    "Correct the values in the `total_sales` column. Use `prod_price` and `trans_quantity`."
   ]
  },
  {
   "cell_type": "code",
   "execution_count": null,
   "id": "756d93ba",
   "metadata": {
    "deletable": false,
    "nbgrader": {
     "cell_type": "code",
     "checksum": "c2b8492ac8b0943c15225e9a1c5993a5",
     "grade": false,
     "grade_id": "cell-c976d5d940db9862",
     "locked": false,
     "schema_version": 3,
     "solution": true,
     "task": false
    }
   },
   "outputs": [],
   "source": [
    "# your code here\n"
   ]
  },
  {
   "cell_type": "code",
   "execution_count": null,
   "id": "48c098c2",
   "metadata": {
    "deletable": false,
    "editable": false,
    "nbgrader": {
     "cell_type": "code",
     "checksum": "983a8d01d4dcfc8e5c1c974b80a45d0e",
     "grade": true,
     "grade_id": "cell-3e6f21431145cbc5",
     "locked": true,
     "points": 4,
     "schema_version": 3,
     "solution": false,
     "task": false
    }
   },
   "outputs": [],
   "source": [
    "# Q5 Test Cases\n",
    "assert df_cleaned['total_sales'].dtype == float\n",
    "assert np.all(df_cleaned['total_sales'] > 0)"
   ]
  },
  {
   "cell_type": "markdown",
   "id": "c75d9ec5",
   "metadata": {
    "deletable": false,
    "editable": false,
    "nbgrader": {
     "cell_type": "markdown",
     "checksum": "4523ce218734f3b97e162487ad4406de",
     "grade": false,
     "grade_id": "cell-a4455f8d01f03f80",
     "locked": true,
     "schema_version": 3,
     "solution": false,
     "task": false
    }
   },
   "source": [
    "#### Question 6: Missing Values I\n",
    "\n",
    "How many missing values are there?"
   ]
  },
  {
   "cell_type": "code",
   "execution_count": null,
   "id": "0c016cfd",
   "metadata": {
    "deletable": false,
    "nbgrader": {
     "cell_type": "code",
     "checksum": "de9342f98ee14eaf594d2898180290ca",
     "grade": false,
     "grade_id": "cell-c1b6d55be1c36350",
     "locked": false,
     "schema_version": 3,
     "solution": true,
     "task": false
    }
   },
   "outputs": [],
   "source": [
    "# your code here\n",
    "\n",
    "num_nans"
   ]
  },
  {
   "cell_type": "code",
   "execution_count": null,
   "id": "0995aabb",
   "metadata": {
    "deletable": false,
    "editable": false,
    "nbgrader": {
     "cell_type": "code",
     "checksum": "69ff1dee63f7a5a5e7b0c8f202a5122e",
     "grade": true,
     "grade_id": "cell-4f7ee5da10bd6b84",
     "locked": true,
     "points": 4,
     "schema_version": 3,
     "solution": false,
     "task": false
    }
   },
   "outputs": [],
   "source": [
    "# Q6 Test Cases\n",
    "assert 40000 > num_nans > 20000"
   ]
  },
  {
   "cell_type": "markdown",
   "id": "1304ec87",
   "metadata": {
    "deletable": false,
    "editable": false,
    "nbgrader": {
     "cell_type": "markdown",
     "checksum": "027d3a183d28984145a6ed085781609a",
     "grade": false,
     "grade_id": "cell-fd10f79a2046cac8",
     "locked": true,
     "schema_version": 3,
     "solution": false,
     "task": false
    }
   },
   "source": [
    "#### Question 7: Missing Values II\n",
    "\n",
    "Drop any columns with missing values."
   ]
  },
  {
   "cell_type": "code",
   "execution_count": null,
   "id": "ac4ad4cb",
   "metadata": {
    "deletable": false,
    "nbgrader": {
     "cell_type": "code",
     "checksum": "ad976657d252633e70f600a35e1e6084",
     "grade": false,
     "grade_id": "cell-6cbc4895cc6ed0e2",
     "locked": false,
     "schema_version": 3,
     "solution": true,
     "task": false
    }
   },
   "outputs": [],
   "source": [
    "# your code here\n",
    "\n",
    "df_cleaned.head()"
   ]
  },
  {
   "cell_type": "code",
   "execution_count": null,
   "id": "478f64c6",
   "metadata": {
    "deletable": false,
    "editable": false,
    "nbgrader": {
     "cell_type": "code",
     "checksum": "32a305629131e5515731faaad7994044",
     "grade": true,
     "grade_id": "cell-97e3efb04b5340cb",
     "locked": true,
     "points": 4,
     "schema_version": 3,
     "solution": false,
     "task": false
    }
   },
   "outputs": [],
   "source": [
    "# Q7 Test Cases"
   ]
  }
 ],
 "metadata": {
  "kernelspec": {
   "display_name": "Python 3 (ipykernel)",
   "language": "python",
   "name": "python3"
  },
  "language_info": {
   "codemirror_mode": {
    "name": "ipython",
    "version": 3
   },
   "file_extension": ".py",
   "mimetype": "text/x-python",
   "name": "python",
   "nbconvert_exporter": "python",
   "pygments_lexer": "ipython3",
   "version": "3.9.7"
  }
 },
 "nbformat": 4,
 "nbformat_minor": 5
}
