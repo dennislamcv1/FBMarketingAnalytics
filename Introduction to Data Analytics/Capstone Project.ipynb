{
 "cells": [
  {
   "cell_type": "markdown",
   "metadata": {},
   "source": [
    "## Capstone Project"
   ]
  },
  {
   "cell_type": "markdown",
   "metadata": {},
   "source": [
    "***"
   ]
  },
  {
   "cell_type": "markdown",
   "metadata": {},
   "source": [
    "## Project Description"
   ]
  },
  {
   "cell_type": "markdown",
   "metadata": {},
   "source": [
    "Inu + Neko is a company you’ve seen a lot in this course. As a reminder, they are a pet supply and services company that just started an e-commerce business. You have been asked to help them analyze their data to help them make better decisions in the future. \n",
    "\n",
    "Inu + Neko had a lot of success with a marketing campaign and is seeing a lot of growth. The company wants to know how these new incoming customers differ from their past customers. Are there different items they should stock more of? Are there other things they should consider?"
   ]
  },
  {
   "cell_type": "markdown",
   "metadata": {},
   "source": [
    "## Data Dictionary"
   ]
  },
  {
   "cell_type": "markdown",
   "metadata": {},
   "source": [
    "| Field          | Description                                                                           |\n",
    "|----------------|---------------------------------------------------------------------------------------|\n",
    "| |\t|\n",
    "| |\t|\n",
    "| |\t|\n",
    "| |\t|\n",
    "| |\t|\n",
    "| |\t|\n",
    "| |\t|\n",
    "| |\t|\n",
    "| |\t|\n",
    "| |\t|\n",
    "| |\t|\n",
    "| |\t|\n",
    "| |\t|\n",
    "| |\t|\n",
    "| |\t|\n",
    "| |\t|\n",
    "| |\t|\n",
    "| |\t|"
   ]
  },
  {
   "cell_type": "markdown",
   "metadata": {},
   "source": [
    "## Summary"
   ]
  },
  {
   "cell_type": "markdown",
   "metadata": {},
   "source": [
    "## Recommendation for Action"
   ]
  },
  {
   "cell_type": "markdown",
   "metadata": {},
   "source": [
    "## Import Libraries"
   ]
  },
  {
   "cell_type": "code",
   "execution_count": 1,
   "metadata": {},
   "outputs": [
    {
     "data": {
      "application/javascript": [
       "IPython.notebook.set_autosave_interval(60000)"
      ]
     },
     "metadata": {},
     "output_type": "display_data"
    },
    {
     "name": "stdout",
     "output_type": "stream",
     "text": [
      "Autosaving every 60 seconds\n"
     ]
    }
   ],
   "source": [
    "import numpy as np\n",
    "import pandas as pd\n",
    "import matplotlib.pyplot as plt\n",
    "import seaborn as sns\n",
    "import plotly.express as px\n",
    "import random\n",
    "\n",
    "import statsmodels.api as sm\n",
    "import statsmodels.formula.api as smf\n",
    "from statsmodels.formula.api import ols\n",
    "\n",
    "import datetime\n",
    "from datetime import datetime, timedelta\n",
    "\n",
    "import scipy.stats\n",
    "\n",
    "%matplotlib inline\n",
    "#sets the default autosave frequency in seconds\n",
    "%autosave 60 \n",
    "sns.set_style('dark')\n",
    "sns.set(font_scale=1.2)\n",
    "\n",
    "plt.rc('axes', titlesize=9)\n",
    "plt.rc('axes', labelsize=14)\n",
    "plt.rc('xtick', labelsize=12)\n",
    "plt.rc('ytick', labelsize=12)\n",
    "\n",
    "import warnings\n",
    "warnings.filterwarnings('ignore')\n",
    "\n",
    "# Use Feature-Engine library\n",
    "#import feature_engine\n",
    "#import feature_engine.missing_data_imputers as mdi\n",
    "#from feature_engine.outlier_removers import Winsorizer\n",
    "#from feature_engine import categorical_encoders as ce\n",
    "#from feature_engine.discretisation import EqualWidthDiscretiser, EqualFrequencyDiscretiser, DecisionTreeDiscretiser\n",
    "#from feature_engine.encoding import OrdinalEncoder\n",
    "\n",
    "pd.set_option('display.max_columns',None)\n",
    "#pd.set_option('display.max_rows',None)\n",
    "pd.set_option('display.width', 1000)\n",
    "pd.set_option('display.float_format','{:.2f}'.format)\n",
    "\n",
    "random.seed(0)\n",
    "np.random.seed(0)\n",
    "np.set_printoptions(suppress=True)"
   ]
  },
  {
   "cell_type": "markdown",
   "metadata": {},
   "source": [
    "## Exploratory Data Analysis"
   ]
  },
  {
   "cell_type": "code",
   "execution_count": 2,
   "metadata": {},
   "outputs": [],
   "source": [
    "df = pd.read_csv(\"inu_neko_orderline_clean.csv\")"
   ]
  },
  {
   "cell_type": "code",
   "execution_count": 3,
   "metadata": {},
   "outputs": [
    {
     "data": {
      "text/html": [
       "<div>\n",
       "<style scoped>\n",
       "    .dataframe tbody tr th:only-of-type {\n",
       "        vertical-align: middle;\n",
       "    }\n",
       "\n",
       "    .dataframe tbody tr th {\n",
       "        vertical-align: top;\n",
       "    }\n",
       "\n",
       "    .dataframe thead th {\n",
       "        text-align: right;\n",
       "    }\n",
       "</style>\n",
       "<table border=\"1\" class=\"dataframe\">\n",
       "  <thead>\n",
       "    <tr style=\"text-align: right;\">\n",
       "      <th></th>\n",
       "      <th>trans_id</th>\n",
       "      <th>prod_upc</th>\n",
       "      <th>cust_id</th>\n",
       "      <th>trans_timestamp</th>\n",
       "      <th>trans_year</th>\n",
       "      <th>trans_month</th>\n",
       "      <th>trans_day</th>\n",
       "      <th>trans_hour</th>\n",
       "      <th>trans_quantity</th>\n",
       "      <th>cust_age</th>\n",
       "      <th>cust_state</th>\n",
       "      <th>prod_price</th>\n",
       "      <th>prod_title</th>\n",
       "      <th>prod_category</th>\n",
       "      <th>prod_animal_type</th>\n",
       "      <th>total_sales</th>\n",
       "    </tr>\n",
       "  </thead>\n",
       "  <tbody>\n",
       "    <tr>\n",
       "      <th>0</th>\n",
       "      <td>10300097</td>\n",
       "      <td>719638485153</td>\n",
       "      <td>1001019</td>\n",
       "      <td>35:21.4</td>\n",
       "      <td>2021</td>\n",
       "      <td>1</td>\n",
       "      <td>1</td>\n",
       "      <td>1</td>\n",
       "      <td>1</td>\n",
       "      <td>20</td>\n",
       "      <td>New York</td>\n",
       "      <td>72.99</td>\n",
       "      <td>Cat Cave</td>\n",
       "      <td>bedding</td>\n",
       "      <td>cat</td>\n",
       "      <td>72.99</td>\n",
       "    </tr>\n",
       "    <tr>\n",
       "      <th>1</th>\n",
       "      <td>10300093</td>\n",
       "      <td>73201504044</td>\n",
       "      <td>1001015</td>\n",
       "      <td>33:37.5</td>\n",
       "      <td>2021</td>\n",
       "      <td>1</td>\n",
       "      <td>1</td>\n",
       "      <td>1</td>\n",
       "      <td>1</td>\n",
       "      <td>34</td>\n",
       "      <td>New York</td>\n",
       "      <td>18.95</td>\n",
       "      <td>Purrfect Puree</td>\n",
       "      <td>treat</td>\n",
       "      <td>cat</td>\n",
       "      <td>18.95</td>\n",
       "    </tr>\n",
       "    <tr>\n",
       "      <th>2</th>\n",
       "      <td>10300093</td>\n",
       "      <td>719638485153</td>\n",
       "      <td>1001015</td>\n",
       "      <td>33:37.5</td>\n",
       "      <td>2021</td>\n",
       "      <td>1</td>\n",
       "      <td>1</td>\n",
       "      <td>1</td>\n",
       "      <td>1</td>\n",
       "      <td>34</td>\n",
       "      <td>New York</td>\n",
       "      <td>72.99</td>\n",
       "      <td>Cat Cave</td>\n",
       "      <td>bedding</td>\n",
       "      <td>cat</td>\n",
       "      <td>72.99</td>\n",
       "    </tr>\n",
       "    <tr>\n",
       "      <th>3</th>\n",
       "      <td>10300093</td>\n",
       "      <td>441530839394</td>\n",
       "      <td>1001015</td>\n",
       "      <td>33:37.5</td>\n",
       "      <td>2021</td>\n",
       "      <td>1</td>\n",
       "      <td>1</td>\n",
       "      <td>1</td>\n",
       "      <td>2</td>\n",
       "      <td>34</td>\n",
       "      <td>New York</td>\n",
       "      <td>28.45</td>\n",
       "      <td>Ball and String</td>\n",
       "      <td>toy</td>\n",
       "      <td>cat</td>\n",
       "      <td>56.90</td>\n",
       "    </tr>\n",
       "    <tr>\n",
       "      <th>4</th>\n",
       "      <td>10300093</td>\n",
       "      <td>733426809698</td>\n",
       "      <td>1001015</td>\n",
       "      <td>33:37.5</td>\n",
       "      <td>2021</td>\n",
       "      <td>1</td>\n",
       "      <td>1</td>\n",
       "      <td>1</td>\n",
       "      <td>1</td>\n",
       "      <td>34</td>\n",
       "      <td>New York</td>\n",
       "      <td>18.95</td>\n",
       "      <td>Yum Fish-Dish</td>\n",
       "      <td>food</td>\n",
       "      <td>cat</td>\n",
       "      <td>18.95</td>\n",
       "    </tr>\n",
       "    <tr>\n",
       "      <th>...</th>\n",
       "      <td>...</td>\n",
       "      <td>...</td>\n",
       "      <td>...</td>\n",
       "      <td>...</td>\n",
       "      <td>...</td>\n",
       "      <td>...</td>\n",
       "      <td>...</td>\n",
       "      <td>...</td>\n",
       "      <td>...</td>\n",
       "      <td>...</td>\n",
       "      <td>...</td>\n",
       "      <td>...</td>\n",
       "      <td>...</td>\n",
       "      <td>...</td>\n",
       "      <td>...</td>\n",
       "      <td>...</td>\n",
       "    </tr>\n",
       "    <tr>\n",
       "      <th>38218</th>\n",
       "      <td>10327860</td>\n",
       "      <td>287663658863</td>\n",
       "      <td>1022098</td>\n",
       "      <td>37:12.8</td>\n",
       "      <td>2021</td>\n",
       "      <td>6</td>\n",
       "      <td>30</td>\n",
       "      <td>30</td>\n",
       "      <td>1</td>\n",
       "      <td>25</td>\n",
       "      <td>New York</td>\n",
       "      <td>9.95</td>\n",
       "      <td>All Veggie Yummies</td>\n",
       "      <td>treat</td>\n",
       "      <td>dog</td>\n",
       "      <td>9.95</td>\n",
       "    </tr>\n",
       "    <tr>\n",
       "      <th>38219</th>\n",
       "      <td>10327960</td>\n",
       "      <td>140160459467</td>\n",
       "      <td>1022157</td>\n",
       "      <td>45:09.9</td>\n",
       "      <td>2021</td>\n",
       "      <td>6</td>\n",
       "      <td>30</td>\n",
       "      <td>30</td>\n",
       "      <td>2</td>\n",
       "      <td>31</td>\n",
       "      <td>Pennsylvania</td>\n",
       "      <td>48.95</td>\n",
       "      <td>Snoozer Essentails</td>\n",
       "      <td>bedding</td>\n",
       "      <td>dog</td>\n",
       "      <td>97.90</td>\n",
       "    </tr>\n",
       "    <tr>\n",
       "      <th>38220</th>\n",
       "      <td>10328009</td>\n",
       "      <td>425361189561</td>\n",
       "      <td>1022189</td>\n",
       "      <td>57:44.3</td>\n",
       "      <td>2021</td>\n",
       "      <td>6</td>\n",
       "      <td>30</td>\n",
       "      <td>30</td>\n",
       "      <td>2</td>\n",
       "      <td>53</td>\n",
       "      <td>New Jersey</td>\n",
       "      <td>15.99</td>\n",
       "      <td>Snack-em Fish</td>\n",
       "      <td>treat</td>\n",
       "      <td>cat</td>\n",
       "      <td>31.98</td>\n",
       "    </tr>\n",
       "    <tr>\n",
       "      <th>38221</th>\n",
       "      <td>10328089</td>\n",
       "      <td>733426809698</td>\n",
       "      <td>1022236</td>\n",
       "      <td>59:29.8</td>\n",
       "      <td>2021</td>\n",
       "      <td>6</td>\n",
       "      <td>30</td>\n",
       "      <td>30</td>\n",
       "      <td>1</td>\n",
       "      <td>23</td>\n",
       "      <td>Tennessee</td>\n",
       "      <td>18.95</td>\n",
       "      <td>Yum Fish-Dish</td>\n",
       "      <td>food</td>\n",
       "      <td>cat</td>\n",
       "      <td>18.95</td>\n",
       "    </tr>\n",
       "    <tr>\n",
       "      <th>38222</th>\n",
       "      <td>10328109</td>\n",
       "      <td>717036112695</td>\n",
       "      <td>1011924</td>\n",
       "      <td>30:52.2</td>\n",
       "      <td>2021</td>\n",
       "      <td>6</td>\n",
       "      <td>30</td>\n",
       "      <td>30</td>\n",
       "      <td>1</td>\n",
       "      <td>24</td>\n",
       "      <td>Pennsylvania</td>\n",
       "      <td>60.99</td>\n",
       "      <td>Reddy Beddy</td>\n",
       "      <td>bedding</td>\n",
       "      <td>dog</td>\n",
       "      <td>60.99</td>\n",
       "    </tr>\n",
       "  </tbody>\n",
       "</table>\n",
       "<p>38223 rows × 16 columns</p>\n",
       "</div>"
      ],
      "text/plain": [
       "       trans_id      prod_upc  cust_id trans_timestamp  trans_year  trans_month  trans_day  trans_hour  trans_quantity  cust_age    cust_state  prod_price          prod_title prod_category prod_animal_type  total_sales\n",
       "0      10300097  719638485153  1001019         35:21.4        2021            1          1           1               1        20      New York       72.99            Cat Cave       bedding              cat        72.99\n",
       "1      10300093   73201504044  1001015         33:37.5        2021            1          1           1               1        34      New York       18.95      Purrfect Puree         treat              cat        18.95\n",
       "2      10300093  719638485153  1001015         33:37.5        2021            1          1           1               1        34      New York       72.99            Cat Cave       bedding              cat        72.99\n",
       "3      10300093  441530839394  1001015         33:37.5        2021            1          1           1               2        34      New York       28.45     Ball and String           toy              cat        56.90\n",
       "4      10300093  733426809698  1001015         33:37.5        2021            1          1           1               1        34      New York       18.95       Yum Fish-Dish          food              cat        18.95\n",
       "...         ...           ...      ...             ...         ...          ...        ...         ...             ...       ...           ...         ...                 ...           ...              ...          ...\n",
       "38218  10327860  287663658863  1022098         37:12.8        2021            6         30          30               1        25      New York        9.95  All Veggie Yummies         treat              dog         9.95\n",
       "38219  10327960  140160459467  1022157         45:09.9        2021            6         30          30               2        31  Pennsylvania       48.95  Snoozer Essentails       bedding              dog        97.90\n",
       "38220  10328009  425361189561  1022189         57:44.3        2021            6         30          30               2        53    New Jersey       15.99       Snack-em Fish         treat              cat        31.98\n",
       "38221  10328089  733426809698  1022236         59:29.8        2021            6         30          30               1        23     Tennessee       18.95       Yum Fish-Dish          food              cat        18.95\n",
       "38222  10328109  717036112695  1011924         30:52.2        2021            6         30          30               1        24  Pennsylvania       60.99         Reddy Beddy       bedding              dog        60.99\n",
       "\n",
       "[38223 rows x 16 columns]"
      ]
     },
     "execution_count": 3,
     "metadata": {},
     "output_type": "execute_result"
    }
   ],
   "source": [
    "df"
   ]
  },
  {
   "cell_type": "code",
   "execution_count": 4,
   "metadata": {},
   "outputs": [
    {
     "name": "stdout",
     "output_type": "stream",
     "text": [
      "<class 'pandas.core.frame.DataFrame'>\n",
      "RangeIndex: 38223 entries, 0 to 38222\n",
      "Data columns (total 16 columns):\n",
      " #   Column            Non-Null Count  Dtype  \n",
      "---  ------            --------------  -----  \n",
      " 0   trans_id          38223 non-null  int64  \n",
      " 1   prod_upc          38223 non-null  int64  \n",
      " 2   cust_id           38223 non-null  int64  \n",
      " 3   trans_timestamp   38223 non-null  object \n",
      " 4   trans_year        38223 non-null  int64  \n",
      " 5   trans_month       38223 non-null  int64  \n",
      " 6   trans_day         38223 non-null  int64  \n",
      " 7   trans_hour        38223 non-null  int64  \n",
      " 8   trans_quantity    38223 non-null  int64  \n",
      " 9   cust_age          38223 non-null  int64  \n",
      " 10  cust_state        38223 non-null  object \n",
      " 11  prod_price        38223 non-null  float64\n",
      " 12  prod_title        38223 non-null  object \n",
      " 13  prod_category     38223 non-null  object \n",
      " 14  prod_animal_type  38223 non-null  object \n",
      " 15  total_sales       38223 non-null  float64\n",
      "dtypes: float64(2), int64(9), object(5)\n",
      "memory usage: 4.7+ MB\n"
     ]
    }
   ],
   "source": [
    "df.info()"
   ]
  },
  {
   "cell_type": "code",
   "execution_count": 5,
   "metadata": {},
   "outputs": [
    {
     "data": {
      "text/html": [
       "<div>\n",
       "<style scoped>\n",
       "    .dataframe tbody tr th:only-of-type {\n",
       "        vertical-align: middle;\n",
       "    }\n",
       "\n",
       "    .dataframe tbody tr th {\n",
       "        vertical-align: top;\n",
       "    }\n",
       "\n",
       "    .dataframe thead th {\n",
       "        text-align: right;\n",
       "    }\n",
       "</style>\n",
       "<table border=\"1\" class=\"dataframe\">\n",
       "  <thead>\n",
       "    <tr style=\"text-align: right;\">\n",
       "      <th></th>\n",
       "      <th>trans_id</th>\n",
       "      <th>prod_upc</th>\n",
       "      <th>cust_id</th>\n",
       "      <th>trans_timestamp</th>\n",
       "      <th>trans_year</th>\n",
       "      <th>trans_month</th>\n",
       "      <th>trans_day</th>\n",
       "      <th>trans_hour</th>\n",
       "      <th>trans_quantity</th>\n",
       "      <th>cust_age</th>\n",
       "      <th>cust_state</th>\n",
       "      <th>prod_price</th>\n",
       "      <th>prod_title</th>\n",
       "      <th>prod_category</th>\n",
       "      <th>prod_animal_type</th>\n",
       "      <th>total_sales</th>\n",
       "    </tr>\n",
       "  </thead>\n",
       "  <tbody>\n",
       "    <tr>\n",
       "      <th>count</th>\n",
       "      <td>38223.00</td>\n",
       "      <td>38223.00</td>\n",
       "      <td>38223.00</td>\n",
       "      <td>38223</td>\n",
       "      <td>38223.00</td>\n",
       "      <td>38223.00</td>\n",
       "      <td>38223.00</td>\n",
       "      <td>38223.00</td>\n",
       "      <td>38223.00</td>\n",
       "      <td>38223.00</td>\n",
       "      <td>38223</td>\n",
       "      <td>38223.00</td>\n",
       "      <td>38223</td>\n",
       "      <td>38223</td>\n",
       "      <td>38223</td>\n",
       "      <td>38223.00</td>\n",
       "    </tr>\n",
       "    <tr>\n",
       "      <th>unique</th>\n",
       "      <td>NaN</td>\n",
       "      <td>NaN</td>\n",
       "      <td>NaN</td>\n",
       "      <td>19316</td>\n",
       "      <td>NaN</td>\n",
       "      <td>NaN</td>\n",
       "      <td>NaN</td>\n",
       "      <td>NaN</td>\n",
       "      <td>NaN</td>\n",
       "      <td>NaN</td>\n",
       "      <td>51</td>\n",
       "      <td>NaN</td>\n",
       "      <td>21</td>\n",
       "      <td>4</td>\n",
       "      <td>2</td>\n",
       "      <td>NaN</td>\n",
       "    </tr>\n",
       "    <tr>\n",
       "      <th>top</th>\n",
       "      <td>NaN</td>\n",
       "      <td>NaN</td>\n",
       "      <td>NaN</td>\n",
       "      <td>03:54.0</td>\n",
       "      <td>NaN</td>\n",
       "      <td>NaN</td>\n",
       "      <td>NaN</td>\n",
       "      <td>NaN</td>\n",
       "      <td>NaN</td>\n",
       "      <td>NaN</td>\n",
       "      <td>New York</td>\n",
       "      <td>NaN</td>\n",
       "      <td>Reddy Beddy</td>\n",
       "      <td>treat</td>\n",
       "      <td>cat</td>\n",
       "      <td>NaN</td>\n",
       "    </tr>\n",
       "    <tr>\n",
       "      <th>freq</th>\n",
       "      <td>NaN</td>\n",
       "      <td>NaN</td>\n",
       "      <td>NaN</td>\n",
       "      <td>11</td>\n",
       "      <td>NaN</td>\n",
       "      <td>NaN</td>\n",
       "      <td>NaN</td>\n",
       "      <td>NaN</td>\n",
       "      <td>NaN</td>\n",
       "      <td>NaN</td>\n",
       "      <td>10486</td>\n",
       "      <td>NaN</td>\n",
       "      <td>4734</td>\n",
       "      <td>11246</td>\n",
       "      <td>21944</td>\n",
       "      <td>NaN</td>\n",
       "    </tr>\n",
       "    <tr>\n",
       "      <th>mean</th>\n",
       "      <td>10314072.68</td>\n",
       "      <td>500428851627.90</td>\n",
       "      <td>1010657.01</td>\n",
       "      <td>NaN</td>\n",
       "      <td>2021.00</td>\n",
       "      <td>4.61</td>\n",
       "      <td>16.62</td>\n",
       "      <td>16.62</td>\n",
       "      <td>1.37</td>\n",
       "      <td>30.06</td>\n",
       "      <td>NaN</td>\n",
       "      <td>30.54</td>\n",
       "      <td>NaN</td>\n",
       "      <td>NaN</td>\n",
       "      <td>NaN</td>\n",
       "      <td>42.11</td>\n",
       "    </tr>\n",
       "    <tr>\n",
       "      <th>std</th>\n",
       "      <td>8076.08</td>\n",
       "      <td>258627113053.05</td>\n",
       "      <td>6117.27</td>\n",
       "      <td>NaN</td>\n",
       "      <td>0.00</td>\n",
       "      <td>1.39</td>\n",
       "      <td>8.72</td>\n",
       "      <td>8.72</td>\n",
       "      <td>0.71</td>\n",
       "      <td>6.96</td>\n",
       "      <td>NaN</td>\n",
       "      <td>18.73</td>\n",
       "      <td>NaN</td>\n",
       "      <td>NaN</td>\n",
       "      <td>NaN</td>\n",
       "      <td>36.61</td>\n",
       "    </tr>\n",
       "    <tr>\n",
       "      <th>min</th>\n",
       "      <td>10300091.00</td>\n",
       "      <td>73201504044.00</td>\n",
       "      <td>1001012.00</td>\n",
       "      <td>NaN</td>\n",
       "      <td>2021.00</td>\n",
       "      <td>1.00</td>\n",
       "      <td>1.00</td>\n",
       "      <td>1.00</td>\n",
       "      <td>1.00</td>\n",
       "      <td>18.00</td>\n",
       "      <td>NaN</td>\n",
       "      <td>9.95</td>\n",
       "      <td>NaN</td>\n",
       "      <td>NaN</td>\n",
       "      <td>NaN</td>\n",
       "      <td>9.95</td>\n",
       "    </tr>\n",
       "    <tr>\n",
       "      <th>25%</th>\n",
       "      <td>10307072.50</td>\n",
       "      <td>344538897332.00</td>\n",
       "      <td>1005253.50</td>\n",
       "      <td>NaN</td>\n",
       "      <td>2021.00</td>\n",
       "      <td>4.00</td>\n",
       "      <td>9.00</td>\n",
       "      <td>9.00</td>\n",
       "      <td>1.00</td>\n",
       "      <td>25.00</td>\n",
       "      <td>NaN</td>\n",
       "      <td>18.95</td>\n",
       "      <td>NaN</td>\n",
       "      <td>NaN</td>\n",
       "      <td>NaN</td>\n",
       "      <td>18.95</td>\n",
       "    </tr>\n",
       "    <tr>\n",
       "      <th>50%</th>\n",
       "      <td>10314074.00</td>\n",
       "      <td>469757173540.00</td>\n",
       "      <td>1010222.00</td>\n",
       "      <td>NaN</td>\n",
       "      <td>2021.00</td>\n",
       "      <td>5.00</td>\n",
       "      <td>17.00</td>\n",
       "      <td>17.00</td>\n",
       "      <td>1.00</td>\n",
       "      <td>29.00</td>\n",
       "      <td>NaN</td>\n",
       "      <td>21.95</td>\n",
       "      <td>NaN</td>\n",
       "      <td>NaN</td>\n",
       "      <td>NaN</td>\n",
       "      <td>32.91</td>\n",
       "    </tr>\n",
       "    <tr>\n",
       "      <th>75%</th>\n",
       "      <td>10321058.50</td>\n",
       "      <td>719638485153.00</td>\n",
       "      <td>1015805.50</td>\n",
       "      <td>NaN</td>\n",
       "      <td>2021.00</td>\n",
       "      <td>6.00</td>\n",
       "      <td>24.00</td>\n",
       "      <td>24.00</td>\n",
       "      <td>2.00</td>\n",
       "      <td>34.00</td>\n",
       "      <td>NaN</td>\n",
       "      <td>45.99</td>\n",
       "      <td>NaN</td>\n",
       "      <td>NaN</td>\n",
       "      <td>NaN</td>\n",
       "      <td>54.95</td>\n",
       "    </tr>\n",
       "    <tr>\n",
       "      <th>max</th>\n",
       "      <td>10328112.00</td>\n",
       "      <td>969568933713.00</td>\n",
       "      <td>1022252.00</td>\n",
       "      <td>NaN</td>\n",
       "      <td>2021.00</td>\n",
       "      <td>6.00</td>\n",
       "      <td>31.00</td>\n",
       "      <td>31.00</td>\n",
       "      <td>8.00</td>\n",
       "      <td>79.00</td>\n",
       "      <td>NaN</td>\n",
       "      <td>72.99</td>\n",
       "      <td>NaN</td>\n",
       "      <td>NaN</td>\n",
       "      <td>NaN</td>\n",
       "      <td>510.93</td>\n",
       "    </tr>\n",
       "  </tbody>\n",
       "</table>\n",
       "</div>"
      ],
      "text/plain": [
       "          trans_id        prod_upc    cust_id trans_timestamp  trans_year  trans_month  trans_day  trans_hour  trans_quantity  cust_age cust_state  prod_price   prod_title prod_category prod_animal_type  total_sales\n",
       "count     38223.00        38223.00   38223.00           38223    38223.00     38223.00   38223.00    38223.00        38223.00  38223.00      38223    38223.00        38223         38223            38223     38223.00\n",
       "unique         NaN             NaN        NaN           19316         NaN          NaN        NaN         NaN             NaN       NaN         51         NaN           21             4                2          NaN\n",
       "top            NaN             NaN        NaN         03:54.0         NaN          NaN        NaN         NaN             NaN       NaN   New York         NaN  Reddy Beddy         treat              cat          NaN\n",
       "freq           NaN             NaN        NaN              11         NaN          NaN        NaN         NaN             NaN       NaN      10486         NaN         4734         11246            21944          NaN\n",
       "mean   10314072.68 500428851627.90 1010657.01             NaN     2021.00         4.61      16.62       16.62            1.37     30.06        NaN       30.54          NaN           NaN              NaN        42.11\n",
       "std        8076.08 258627113053.05    6117.27             NaN        0.00         1.39       8.72        8.72            0.71      6.96        NaN       18.73          NaN           NaN              NaN        36.61\n",
       "min    10300091.00  73201504044.00 1001012.00             NaN     2021.00         1.00       1.00        1.00            1.00     18.00        NaN        9.95          NaN           NaN              NaN         9.95\n",
       "25%    10307072.50 344538897332.00 1005253.50             NaN     2021.00         4.00       9.00        9.00            1.00     25.00        NaN       18.95          NaN           NaN              NaN        18.95\n",
       "50%    10314074.00 469757173540.00 1010222.00             NaN     2021.00         5.00      17.00       17.00            1.00     29.00        NaN       21.95          NaN           NaN              NaN        32.91\n",
       "75%    10321058.50 719638485153.00 1015805.50             NaN     2021.00         6.00      24.00       24.00            2.00     34.00        NaN       45.99          NaN           NaN              NaN        54.95\n",
       "max    10328112.00 969568933713.00 1022252.00             NaN     2021.00         6.00      31.00       31.00            8.00     79.00        NaN       72.99          NaN           NaN              NaN       510.93"
      ]
     },
     "execution_count": 5,
     "metadata": {},
     "output_type": "execute_result"
    }
   ],
   "source": [
    "df.describe(include='all')"
   ]
  },
  {
   "cell_type": "code",
   "execution_count": 6,
   "metadata": {},
   "outputs": [
    {
     "data": {
      "text/plain": [
       "Index(['trans_id', 'prod_upc', 'cust_id', 'trans_timestamp', 'trans_year', 'trans_month', 'trans_day', 'trans_hour', 'trans_quantity', 'cust_age', 'cust_state', 'prod_price', 'prod_title', 'prod_category', 'prod_animal_type', 'total_sales'], dtype='object')"
      ]
     },
     "execution_count": 6,
     "metadata": {},
     "output_type": "execute_result"
    }
   ],
   "source": [
    "df.columns"
   ]
  },
  {
   "cell_type": "markdown",
   "metadata": {},
   "source": [
    "### Type Change"
   ]
  },
  {
   "cell_type": "code",
   "execution_count": 7,
   "metadata": {},
   "outputs": [
    {
     "name": "stdout",
     "output_type": "stream",
     "text": [
      "<class 'pandas.core.frame.DataFrame'>\n",
      "RangeIndex: 38223 entries, 0 to 38222\n",
      "Data columns (total 16 columns):\n",
      " #   Column            Non-Null Count  Dtype  \n",
      "---  ------            --------------  -----  \n",
      " 0   trans_id          38223 non-null  int64  \n",
      " 1   prod_upc          38223 non-null  int64  \n",
      " 2   cust_id           38223 non-null  int64  \n",
      " 3   trans_timestamp   38223 non-null  object \n",
      " 4   trans_year        38223 non-null  int64  \n",
      " 5   trans_month       38223 non-null  int64  \n",
      " 6   trans_day         38223 non-null  int64  \n",
      " 7   trans_hour        38223 non-null  int64  \n",
      " 8   trans_quantity    38223 non-null  int64  \n",
      " 9   cust_age          38223 non-null  int64  \n",
      " 10  cust_state        38223 non-null  object \n",
      " 11  prod_price        38223 non-null  float64\n",
      " 12  prod_title        38223 non-null  object \n",
      " 13  prod_category     38223 non-null  object \n",
      " 14  prod_animal_type  38223 non-null  object \n",
      " 15  total_sales       38223 non-null  float64\n",
      "dtypes: float64(2), int64(9), object(5)\n",
      "memory usage: 4.7+ MB\n"
     ]
    }
   ],
   "source": [
    "df.info()"
   ]
  },
  {
   "cell_type": "code",
   "execution_count": 8,
   "metadata": {},
   "outputs": [],
   "source": [
    "df[\"trans_id\"] = df[\"trans_id\"].astype('category')"
   ]
  },
  {
   "cell_type": "code",
   "execution_count": 9,
   "metadata": {},
   "outputs": [],
   "source": [
    "df[\"prod_upc\"] = df[\"prod_upc\"].astype('category')"
   ]
  },
  {
   "cell_type": "code",
   "execution_count": 10,
   "metadata": {},
   "outputs": [],
   "source": [
    "df[\"cust_id\"] = df[\"cust_id\"].astype('category')"
   ]
  },
  {
   "cell_type": "code",
   "execution_count": 13,
   "metadata": {},
   "outputs": [
    {
     "name": "stdout",
     "output_type": "stream",
     "text": [
      "<class 'pandas.core.frame.DataFrame'>\n",
      "RangeIndex: 38223 entries, 0 to 38222\n",
      "Data columns (total 16 columns):\n",
      " #   Column            Non-Null Count  Dtype   \n",
      "---  ------            --------------  -----   \n",
      " 0   trans_id          38223 non-null  category\n",
      " 1   prod_upc          38223 non-null  category\n",
      " 2   cust_id           38223 non-null  category\n",
      " 3   trans_timestamp   38223 non-null  object  \n",
      " 4   trans_year        38223 non-null  int64   \n",
      " 5   trans_month       38223 non-null  int64   \n",
      " 6   trans_day         38223 non-null  int64   \n",
      " 7   trans_hour        38223 non-null  int64   \n",
      " 8   trans_quantity    38223 non-null  int64   \n",
      " 9   cust_age          38223 non-null  int64   \n",
      " 10  cust_state        38223 non-null  object  \n",
      " 11  prod_price        38223 non-null  float64 \n",
      " 12  prod_title        38223 non-null  object  \n",
      " 13  prod_category     38223 non-null  object  \n",
      " 14  prod_animal_type  38223 non-null  object  \n",
      " 15  total_sales       38223 non-null  float64 \n",
      "dtypes: category(3), float64(2), int64(6), object(5)\n",
      "memory usage: 5.9+ MB\n"
     ]
    }
   ],
   "source": [
    "df.info()"
   ]
  },
  {
   "cell_type": "code",
   "execution_count": 14,
   "metadata": {},
   "outputs": [
    {
     "data": {
      "text/html": [
       "<div>\n",
       "<style scoped>\n",
       "    .dataframe tbody tr th:only-of-type {\n",
       "        vertical-align: middle;\n",
       "    }\n",
       "\n",
       "    .dataframe tbody tr th {\n",
       "        vertical-align: top;\n",
       "    }\n",
       "\n",
       "    .dataframe thead th {\n",
       "        text-align: right;\n",
       "    }\n",
       "</style>\n",
       "<table border=\"1\" class=\"dataframe\">\n",
       "  <thead>\n",
       "    <tr style=\"text-align: right;\">\n",
       "      <th></th>\n",
       "      <th>trans_id</th>\n",
       "      <th>prod_upc</th>\n",
       "      <th>cust_id</th>\n",
       "      <th>trans_timestamp</th>\n",
       "      <th>trans_year</th>\n",
       "      <th>trans_month</th>\n",
       "      <th>trans_day</th>\n",
       "      <th>trans_hour</th>\n",
       "      <th>trans_quantity</th>\n",
       "      <th>cust_age</th>\n",
       "      <th>cust_state</th>\n",
       "      <th>prod_price</th>\n",
       "      <th>prod_title</th>\n",
       "      <th>prod_category</th>\n",
       "      <th>prod_animal_type</th>\n",
       "      <th>total_sales</th>\n",
       "    </tr>\n",
       "  </thead>\n",
       "  <tbody>\n",
       "    <tr>\n",
       "      <th>count</th>\n",
       "      <td>38223.00</td>\n",
       "      <td>38223.00</td>\n",
       "      <td>38223.00</td>\n",
       "      <td>38223</td>\n",
       "      <td>38223.00</td>\n",
       "      <td>38223.00</td>\n",
       "      <td>38223.00</td>\n",
       "      <td>38223.00</td>\n",
       "      <td>38223.00</td>\n",
       "      <td>38223.00</td>\n",
       "      <td>38223</td>\n",
       "      <td>38223.00</td>\n",
       "      <td>38223</td>\n",
       "      <td>38223</td>\n",
       "      <td>38223</td>\n",
       "      <td>38223.00</td>\n",
       "    </tr>\n",
       "    <tr>\n",
       "      <th>unique</th>\n",
       "      <td>28022.00</td>\n",
       "      <td>23.00</td>\n",
       "      <td>21241.00</td>\n",
       "      <td>19316</td>\n",
       "      <td>NaN</td>\n",
       "      <td>NaN</td>\n",
       "      <td>NaN</td>\n",
       "      <td>NaN</td>\n",
       "      <td>NaN</td>\n",
       "      <td>NaN</td>\n",
       "      <td>51</td>\n",
       "      <td>NaN</td>\n",
       "      <td>21</td>\n",
       "      <td>4</td>\n",
       "      <td>2</td>\n",
       "      <td>NaN</td>\n",
       "    </tr>\n",
       "    <tr>\n",
       "      <th>top</th>\n",
       "      <td>10322343.00</td>\n",
       "      <td>733426809698.00</td>\n",
       "      <td>1005241.00</td>\n",
       "      <td>03:54.0</td>\n",
       "      <td>NaN</td>\n",
       "      <td>NaN</td>\n",
       "      <td>NaN</td>\n",
       "      <td>NaN</td>\n",
       "      <td>NaN</td>\n",
       "      <td>NaN</td>\n",
       "      <td>New York</td>\n",
       "      <td>NaN</td>\n",
       "      <td>Reddy Beddy</td>\n",
       "      <td>treat</td>\n",
       "      <td>cat</td>\n",
       "      <td>NaN</td>\n",
       "    </tr>\n",
       "    <tr>\n",
       "      <th>freq</th>\n",
       "      <td>7.00</td>\n",
       "      <td>3086.00</td>\n",
       "      <td>12.00</td>\n",
       "      <td>11</td>\n",
       "      <td>NaN</td>\n",
       "      <td>NaN</td>\n",
       "      <td>NaN</td>\n",
       "      <td>NaN</td>\n",
       "      <td>NaN</td>\n",
       "      <td>NaN</td>\n",
       "      <td>10486</td>\n",
       "      <td>NaN</td>\n",
       "      <td>4734</td>\n",
       "      <td>11246</td>\n",
       "      <td>21944</td>\n",
       "      <td>NaN</td>\n",
       "    </tr>\n",
       "    <tr>\n",
       "      <th>mean</th>\n",
       "      <td>NaN</td>\n",
       "      <td>NaN</td>\n",
       "      <td>NaN</td>\n",
       "      <td>NaN</td>\n",
       "      <td>2021.00</td>\n",
       "      <td>4.61</td>\n",
       "      <td>16.62</td>\n",
       "      <td>16.62</td>\n",
       "      <td>1.37</td>\n",
       "      <td>30.06</td>\n",
       "      <td>NaN</td>\n",
       "      <td>30.54</td>\n",
       "      <td>NaN</td>\n",
       "      <td>NaN</td>\n",
       "      <td>NaN</td>\n",
       "      <td>42.11</td>\n",
       "    </tr>\n",
       "    <tr>\n",
       "      <th>std</th>\n",
       "      <td>NaN</td>\n",
       "      <td>NaN</td>\n",
       "      <td>NaN</td>\n",
       "      <td>NaN</td>\n",
       "      <td>0.00</td>\n",
       "      <td>1.39</td>\n",
       "      <td>8.72</td>\n",
       "      <td>8.72</td>\n",
       "      <td>0.71</td>\n",
       "      <td>6.96</td>\n",
       "      <td>NaN</td>\n",
       "      <td>18.73</td>\n",
       "      <td>NaN</td>\n",
       "      <td>NaN</td>\n",
       "      <td>NaN</td>\n",
       "      <td>36.61</td>\n",
       "    </tr>\n",
       "    <tr>\n",
       "      <th>min</th>\n",
       "      <td>NaN</td>\n",
       "      <td>NaN</td>\n",
       "      <td>NaN</td>\n",
       "      <td>NaN</td>\n",
       "      <td>2021.00</td>\n",
       "      <td>1.00</td>\n",
       "      <td>1.00</td>\n",
       "      <td>1.00</td>\n",
       "      <td>1.00</td>\n",
       "      <td>18.00</td>\n",
       "      <td>NaN</td>\n",
       "      <td>9.95</td>\n",
       "      <td>NaN</td>\n",
       "      <td>NaN</td>\n",
       "      <td>NaN</td>\n",
       "      <td>9.95</td>\n",
       "    </tr>\n",
       "    <tr>\n",
       "      <th>25%</th>\n",
       "      <td>NaN</td>\n",
       "      <td>NaN</td>\n",
       "      <td>NaN</td>\n",
       "      <td>NaN</td>\n",
       "      <td>2021.00</td>\n",
       "      <td>4.00</td>\n",
       "      <td>9.00</td>\n",
       "      <td>9.00</td>\n",
       "      <td>1.00</td>\n",
       "      <td>25.00</td>\n",
       "      <td>NaN</td>\n",
       "      <td>18.95</td>\n",
       "      <td>NaN</td>\n",
       "      <td>NaN</td>\n",
       "      <td>NaN</td>\n",
       "      <td>18.95</td>\n",
       "    </tr>\n",
       "    <tr>\n",
       "      <th>50%</th>\n",
       "      <td>NaN</td>\n",
       "      <td>NaN</td>\n",
       "      <td>NaN</td>\n",
       "      <td>NaN</td>\n",
       "      <td>2021.00</td>\n",
       "      <td>5.00</td>\n",
       "      <td>17.00</td>\n",
       "      <td>17.00</td>\n",
       "      <td>1.00</td>\n",
       "      <td>29.00</td>\n",
       "      <td>NaN</td>\n",
       "      <td>21.95</td>\n",
       "      <td>NaN</td>\n",
       "      <td>NaN</td>\n",
       "      <td>NaN</td>\n",
       "      <td>32.91</td>\n",
       "    </tr>\n",
       "    <tr>\n",
       "      <th>75%</th>\n",
       "      <td>NaN</td>\n",
       "      <td>NaN</td>\n",
       "      <td>NaN</td>\n",
       "      <td>NaN</td>\n",
       "      <td>2021.00</td>\n",
       "      <td>6.00</td>\n",
       "      <td>24.00</td>\n",
       "      <td>24.00</td>\n",
       "      <td>2.00</td>\n",
       "      <td>34.00</td>\n",
       "      <td>NaN</td>\n",
       "      <td>45.99</td>\n",
       "      <td>NaN</td>\n",
       "      <td>NaN</td>\n",
       "      <td>NaN</td>\n",
       "      <td>54.95</td>\n",
       "    </tr>\n",
       "    <tr>\n",
       "      <th>max</th>\n",
       "      <td>NaN</td>\n",
       "      <td>NaN</td>\n",
       "      <td>NaN</td>\n",
       "      <td>NaN</td>\n",
       "      <td>2021.00</td>\n",
       "      <td>6.00</td>\n",
       "      <td>31.00</td>\n",
       "      <td>31.00</td>\n",
       "      <td>8.00</td>\n",
       "      <td>79.00</td>\n",
       "      <td>NaN</td>\n",
       "      <td>72.99</td>\n",
       "      <td>NaN</td>\n",
       "      <td>NaN</td>\n",
       "      <td>NaN</td>\n",
       "      <td>510.93</td>\n",
       "    </tr>\n",
       "  </tbody>\n",
       "</table>\n",
       "</div>"
      ],
      "text/plain": [
       "          trans_id        prod_upc    cust_id trans_timestamp  trans_year  trans_month  trans_day  trans_hour  trans_quantity  cust_age cust_state  prod_price   prod_title prod_category prod_animal_type  total_sales\n",
       "count     38223.00        38223.00   38223.00           38223    38223.00     38223.00   38223.00    38223.00        38223.00  38223.00      38223    38223.00        38223         38223            38223     38223.00\n",
       "unique    28022.00           23.00   21241.00           19316         NaN          NaN        NaN         NaN             NaN       NaN         51         NaN           21             4                2          NaN\n",
       "top    10322343.00 733426809698.00 1005241.00         03:54.0         NaN          NaN        NaN         NaN             NaN       NaN   New York         NaN  Reddy Beddy         treat              cat          NaN\n",
       "freq          7.00         3086.00      12.00              11         NaN          NaN        NaN         NaN             NaN       NaN      10486         NaN         4734         11246            21944          NaN\n",
       "mean           NaN             NaN        NaN             NaN     2021.00         4.61      16.62       16.62            1.37     30.06        NaN       30.54          NaN           NaN              NaN        42.11\n",
       "std            NaN             NaN        NaN             NaN        0.00         1.39       8.72        8.72            0.71      6.96        NaN       18.73          NaN           NaN              NaN        36.61\n",
       "min            NaN             NaN        NaN             NaN     2021.00         1.00       1.00        1.00            1.00     18.00        NaN        9.95          NaN           NaN              NaN         9.95\n",
       "25%            NaN             NaN        NaN             NaN     2021.00         4.00       9.00        9.00            1.00     25.00        NaN       18.95          NaN           NaN              NaN        18.95\n",
       "50%            NaN             NaN        NaN             NaN     2021.00         5.00      17.00       17.00            1.00     29.00        NaN       21.95          NaN           NaN              NaN        32.91\n",
       "75%            NaN             NaN        NaN             NaN     2021.00         6.00      24.00       24.00            2.00     34.00        NaN       45.99          NaN           NaN              NaN        54.95\n",
       "max            NaN             NaN        NaN             NaN     2021.00         6.00      31.00       31.00            8.00     79.00        NaN       72.99          NaN           NaN              NaN       510.93"
      ]
     },
     "execution_count": 14,
     "metadata": {},
     "output_type": "execute_result"
    }
   ],
   "source": [
    "df.describe(include='all')"
   ]
  },
  {
   "cell_type": "markdown",
   "metadata": {},
   "source": [
    "### Groupby Function"
   ]
  },
  {
   "cell_type": "code",
   "execution_count": 19,
   "metadata": {},
   "outputs": [
    {
     "data": {
      "text/plain": [
       "trans_id\n",
       "10300091    24.95\n",
       "10300092    35.99\n",
       "10300093   167.79\n",
       "10300094    10.97\n",
       "10300095    18.95\n",
       "Name: total_sales, dtype: float64"
      ]
     },
     "execution_count": 19,
     "metadata": {},
     "output_type": "execute_result"
    }
   ],
   "source": [
    "df.groupby([\"trans_id\"])[\"total_sales\"].sum().head()"
   ]
  },
  {
   "cell_type": "code",
   "execution_count": 22,
   "metadata": {},
   "outputs": [],
   "source": [
    "d1 = pd.DataFrame(df.groupby([\"trans_id\"])[\"total_sales\"].sum())"
   ]
  },
  {
   "cell_type": "code",
   "execution_count": 24,
   "metadata": {},
   "outputs": [
    {
     "data": {
      "text/html": [
       "<div>\n",
       "<style scoped>\n",
       "    .dataframe tbody tr th:only-of-type {\n",
       "        vertical-align: middle;\n",
       "    }\n",
       "\n",
       "    .dataframe tbody tr th {\n",
       "        vertical-align: top;\n",
       "    }\n",
       "\n",
       "    .dataframe thead th {\n",
       "        text-align: right;\n",
       "    }\n",
       "</style>\n",
       "<table border=\"1\" class=\"dataframe\">\n",
       "  <thead>\n",
       "    <tr style=\"text-align: right;\">\n",
       "      <th></th>\n",
       "      <th>total_sales</th>\n",
       "    </tr>\n",
       "    <tr>\n",
       "      <th>trans_id</th>\n",
       "      <th></th>\n",
       "    </tr>\n",
       "  </thead>\n",
       "  <tbody>\n",
       "    <tr>\n",
       "      <th>10303291</th>\n",
       "      <td>9.95</td>\n",
       "    </tr>\n",
       "    <tr>\n",
       "      <th>10315621</th>\n",
       "      <td>9.95</td>\n",
       "    </tr>\n",
       "    <tr>\n",
       "      <th>10325437</th>\n",
       "      <td>9.95</td>\n",
       "    </tr>\n",
       "    <tr>\n",
       "      <th>10318145</th>\n",
       "      <td>9.95</td>\n",
       "    </tr>\n",
       "    <tr>\n",
       "      <th>10305120</th>\n",
       "      <td>9.95</td>\n",
       "    </tr>\n",
       "    <tr>\n",
       "      <th>...</th>\n",
       "      <td>...</td>\n",
       "    </tr>\n",
       "    <tr>\n",
       "      <th>10323074</th>\n",
       "      <td>532.88</td>\n",
       "    </tr>\n",
       "    <tr>\n",
       "      <th>10314572</th>\n",
       "      <td>549.69</td>\n",
       "    </tr>\n",
       "    <tr>\n",
       "      <th>10316275</th>\n",
       "      <td>553.90</td>\n",
       "    </tr>\n",
       "    <tr>\n",
       "      <th>10315143</th>\n",
       "      <td>559.71</td>\n",
       "    </tr>\n",
       "    <tr>\n",
       "      <th>10322343</th>\n",
       "      <td>644.86</td>\n",
       "    </tr>\n",
       "  </tbody>\n",
       "</table>\n",
       "<p>28022 rows × 1 columns</p>\n",
       "</div>"
      ],
      "text/plain": [
       "          total_sales\n",
       "trans_id             \n",
       "10303291         9.95\n",
       "10315621         9.95\n",
       "10325437         9.95\n",
       "10318145         9.95\n",
       "10305120         9.95\n",
       "...               ...\n",
       "10323074       532.88\n",
       "10314572       549.69\n",
       "10316275       553.90\n",
       "10315143       559.71\n",
       "10322343       644.86\n",
       "\n",
       "[28022 rows x 1 columns]"
      ]
     },
     "execution_count": 24,
     "metadata": {},
     "output_type": "execute_result"
    }
   ],
   "source": [
    "d1.sort_values(by=\"total_sales\")"
   ]
  },
  {
   "cell_type": "code",
   "execution_count": 32,
   "metadata": {},
   "outputs": [
    {
     "data": {
      "image/png": "[encoded data removed]",
      "text/plain": [
       "<Figure size 1800x360 with 1 Axes>"
      ]
     },
     "metadata": {},
     "output_type": "display_data"
    }
   ],
   "source": [
    "d1.plot(figsize=(25,5))\n",
    "plt.show()"
   ]
  },
  {
   "cell_type": "code",
   "execution_count": 20,
   "metadata": {},
   "outputs": [
    {
     "data": {
      "text/plain": [
       "prod_upc\n",
       "73201504044     46484.35\n",
       "100469015054    58782.90\n",
       "140160459467   100739.10\n",
       "242313721729   209848.20\n",
       "287663658863    22845.20\n",
       "Name: total_sales, dtype: float64"
      ]
     },
     "execution_count": 20,
     "metadata": {},
     "output_type": "execute_result"
    }
   ],
   "source": [
    "df.groupby([\"prod_upc\"])[\"total_sales\"].sum().head()"
   ]
  },
  {
   "cell_type": "code",
   "execution_count": 25,
   "metadata": {},
   "outputs": [],
   "source": [
    "d2 = pd.DataFrame(df.groupby([\"prod_upc\"])[\"total_sales\"].sum())"
   ]
  },
  {
   "cell_type": "code",
   "execution_count": 26,
   "metadata": {},
   "outputs": [
    {
     "data": {
      "text/html": [
       "<div>\n",
       "<style scoped>\n",
       "    .dataframe tbody tr th:only-of-type {\n",
       "        vertical-align: middle;\n",
       "    }\n",
       "\n",
       "    .dataframe tbody tr th {\n",
       "        vertical-align: top;\n",
       "    }\n",
       "\n",
       "    .dataframe thead th {\n",
       "        text-align: right;\n",
       "    }\n",
       "</style>\n",
       "<table border=\"1\" class=\"dataframe\">\n",
       "  <thead>\n",
       "    <tr style=\"text-align: right;\">\n",
       "      <th></th>\n",
       "      <th>total_sales</th>\n",
       "    </tr>\n",
       "    <tr>\n",
       "      <th>prod_upc</th>\n",
       "      <th></th>\n",
       "    </tr>\n",
       "  </thead>\n",
       "  <tbody>\n",
       "    <tr>\n",
       "      <th>483326155497</th>\n",
       "      <td>13561.66</td>\n",
       "    </tr>\n",
       "    <tr>\n",
       "      <th>287663658863</th>\n",
       "      <td>22845.20</td>\n",
       "    </tr>\n",
       "    <tr>\n",
       "      <th>845773115334</th>\n",
       "      <td>24369.24</td>\n",
       "    </tr>\n",
       "    <tr>\n",
       "      <th>425361189561</th>\n",
       "      <td>25344.15</td>\n",
       "    </tr>\n",
       "    <tr>\n",
       "      <th>621046126170</th>\n",
       "      <td>26484.48</td>\n",
       "    </tr>\n",
       "    <tr>\n",
       "      <th>374613020864</th>\n",
       "      <td>28291.63</td>\n",
       "    </tr>\n",
       "    <tr>\n",
       "      <th>904582148679</th>\n",
       "      <td>31257.70</td>\n",
       "    </tr>\n",
       "    <tr>\n",
       "      <th>575410882303</th>\n",
       "      <td>46402.30</td>\n",
       "    </tr>\n",
       "    <tr>\n",
       "      <th>73201504044</th>\n",
       "      <td>46484.35</td>\n",
       "    </tr>\n",
       "    <tr>\n",
       "      <th>344934101144</th>\n",
       "      <td>47355.10</td>\n",
       "    </tr>\n",
       "    <tr>\n",
       "      <th>441530839394</th>\n",
       "      <td>53628.25</td>\n",
       "    </tr>\n",
       "    <tr>\n",
       "      <th>100469015054</th>\n",
       "      <td>58782.90</td>\n",
       "    </tr>\n",
       "    <tr>\n",
       "      <th>969568933713</th>\n",
       "      <td>61460.37</td>\n",
       "    </tr>\n",
       "    <tr>\n",
       "      <th>344538897332</th>\n",
       "      <td>65207.38</td>\n",
       "    </tr>\n",
       "    <tr>\n",
       "      <th>704772572943</th>\n",
       "      <td>65951.34</td>\n",
       "    </tr>\n",
       "    <tr>\n",
       "      <th>733426809698</th>\n",
       "      <td>81447.10</td>\n",
       "    </tr>\n",
       "    <tr>\n",
       "      <th>521244155990</th>\n",
       "      <td>85282.40</td>\n",
       "    </tr>\n",
       "    <tr>\n",
       "      <th>140160459467</th>\n",
       "      <td>100739.10</td>\n",
       "    </tr>\n",
       "    <tr>\n",
       "      <th>832878954342</th>\n",
       "      <td>106282.89</td>\n",
       "    </tr>\n",
       "    <tr>\n",
       "      <th>717036112695</th>\n",
       "      <td>112892.49</td>\n",
       "    </tr>\n",
       "    <tr>\n",
       "      <th>469757173540</th>\n",
       "      <td>119810.71</td>\n",
       "    </tr>\n",
       "    <tr>\n",
       "      <th>719638485153</th>\n",
       "      <td>175759.92</td>\n",
       "    </tr>\n",
       "    <tr>\n",
       "      <th>242313721729</th>\n",
       "      <td>209848.20</td>\n",
       "    </tr>\n",
       "  </tbody>\n",
       "</table>\n",
       "</div>"
      ],
      "text/plain": [
       "              total_sales\n",
       "prod_upc                 \n",
       "483326155497     13561.66\n",
       "287663658863     22845.20\n",
       "845773115334     24369.24\n",
       "425361189561     25344.15\n",
       "621046126170     26484.48\n",
       "374613020864     28291.63\n",
       "904582148679     31257.70\n",
       "575410882303     46402.30\n",
       "73201504044      46484.35\n",
       "344934101144     47355.10\n",
       "441530839394     53628.25\n",
       "100469015054     58782.90\n",
       "969568933713     61460.37\n",
       "344538897332     65207.38\n",
       "704772572943     65951.34\n",
       "733426809698     81447.10\n",
       "521244155990     85282.40\n",
       "140160459467    100739.10\n",
       "832878954342    106282.89\n",
       "717036112695    112892.49\n",
       "469757173540    119810.71\n",
       "719638485153    175759.92\n",
       "242313721729    209848.20"
      ]
     },
     "execution_count": 26,
     "metadata": {},
     "output_type": "execute_result"
    }
   ],
   "source": [
    "d2.sort_values(by=\"total_sales\")"
   ]
  },
  {
   "cell_type": "code",
   "execution_count": 33,
   "metadata": {},
   "outputs": [
    {
     "data": {
      "image/png": "[encoded data removed]",
      "text/plain": [
       "<Figure size 1800x360 with 1 Axes>"
      ]
     },
     "metadata": {},
     "output_type": "display_data"
    }
   ],
   "source": [
    "d2.plot(figsize=(25,5))\n",
    "plt.show()"
   ]
  },
  {
   "cell_type": "code",
   "execution_count": 21,
   "metadata": {},
   "outputs": [
    {
     "data": {
      "text/plain": [
       "cust_id\n",
       "1001012    72.80\n",
       "1001013    60.99\n",
       "1001014    71.95\n",
       "1001015   167.79\n",
       "1001016    70.94\n",
       "Name: total_sales, dtype: float64"
      ]
     },
     "execution_count": 21,
     "metadata": {},
     "output_type": "execute_result"
    }
   ],
   "source": [
    "df.groupby([\"cust_id\"])[\"total_sales\"].sum().head()"
   ]
  },
  {
   "cell_type": "code",
   "execution_count": 27,
   "metadata": {},
   "outputs": [],
   "source": [
    "d3 = pd.DataFrame(df.groupby([\"cust_id\"])[\"total_sales\"].sum())"
   ]
  },
  {
   "cell_type": "code",
   "execution_count": 28,
   "metadata": {},
   "outputs": [
    {
     "data": {
      "text/html": [
       "<div>\n",
       "<style scoped>\n",
       "    .dataframe tbody tr th:only-of-type {\n",
       "        vertical-align: middle;\n",
       "    }\n",
       "\n",
       "    .dataframe tbody tr th {\n",
       "        vertical-align: top;\n",
       "    }\n",
       "\n",
       "    .dataframe thead th {\n",
       "        text-align: right;\n",
       "    }\n",
       "</style>\n",
       "<table border=\"1\" class=\"dataframe\">\n",
       "  <thead>\n",
       "    <tr style=\"text-align: right;\">\n",
       "      <th></th>\n",
       "      <th>total_sales</th>\n",
       "    </tr>\n",
       "    <tr>\n",
       "      <th>cust_id</th>\n",
       "      <th></th>\n",
       "    </tr>\n",
       "  </thead>\n",
       "  <tbody>\n",
       "    <tr>\n",
       "      <th>1012206</th>\n",
       "      <td>9.95</td>\n",
       "    </tr>\n",
       "    <tr>\n",
       "      <th>1018773</th>\n",
       "      <td>9.95</td>\n",
       "    </tr>\n",
       "    <tr>\n",
       "      <th>1015854</th>\n",
       "      <td>9.95</td>\n",
       "    </tr>\n",
       "    <tr>\n",
       "      <th>1018781</th>\n",
       "      <td>9.95</td>\n",
       "    </tr>\n",
       "    <tr>\n",
       "      <th>1018784</th>\n",
       "      <td>9.95</td>\n",
       "    </tr>\n",
       "    <tr>\n",
       "      <th>...</th>\n",
       "      <td>...</td>\n",
       "    </tr>\n",
       "    <tr>\n",
       "      <th>1007595</th>\n",
       "      <td>611.65</td>\n",
       "    </tr>\n",
       "    <tr>\n",
       "      <th>1007511</th>\n",
       "      <td>638.53</td>\n",
       "    </tr>\n",
       "    <tr>\n",
       "      <th>1018521</th>\n",
       "      <td>644.86</td>\n",
       "    </tr>\n",
       "    <tr>\n",
       "      <th>1004249</th>\n",
       "      <td>684.82</td>\n",
       "    </tr>\n",
       "    <tr>\n",
       "      <th>1001155</th>\n",
       "      <td>698.65</td>\n",
       "    </tr>\n",
       "  </tbody>\n",
       "</table>\n",
       "<p>21241 rows × 1 columns</p>\n",
       "</div>"
      ],
      "text/plain": [
       "         total_sales\n",
       "cust_id             \n",
       "1012206         9.95\n",
       "1018773         9.95\n",
       "1015854         9.95\n",
       "1018781         9.95\n",
       "1018784         9.95\n",
       "...              ...\n",
       "1007595       611.65\n",
       "1007511       638.53\n",
       "1018521       644.86\n",
       "1004249       684.82\n",
       "1001155       698.65\n",
       "\n",
       "[21241 rows x 1 columns]"
      ]
     },
     "execution_count": 28,
     "metadata": {},
     "output_type": "execute_result"
    }
   ],
   "source": [
    "d3.sort_values(by=\"total_sales\")"
   ]
  },
  {
   "cell_type": "code",
   "execution_count": 34,
   "metadata": {},
   "outputs": [
    {
     "data": {
      "image/png": "[encoded data removed]",
      "text/plain": [
       "<Figure size 1800x360 with 1 Axes>"
      ]
     },
     "metadata": {},
     "output_type": "display_data"
    }
   ],
   "source": [
    "d3.plot(figsize=(25,5))\n",
    "plt.show()"
   ]
  },
  {
   "cell_type": "code",
   "execution_count": 37,
   "metadata": {},
   "outputs": [
    {
     "data": {
      "text/plain": [
       "trans_month\n",
       "1    51739.74\n",
       "2    98762.99\n",
       "3   198858.15\n",
       "4   291358.04\n",
       "5   419947.21\n",
       "6   548822.73\n",
       "Name: total_sales, dtype: float64"
      ]
     },
     "execution_count": 37,
     "metadata": {},
     "output_type": "execute_result"
    }
   ],
   "source": [
    "df.groupby([\"trans_month\"])[\"total_sales\"].sum()"
   ]
  },
  {
   "cell_type": "code",
   "execution_count": 45,
   "metadata": {},
   "outputs": [],
   "source": [
    "d4 = pd.DataFrame(df.groupby([\"trans_month\"])[\"total_sales\"].sum())"
   ]
  },
  {
   "cell_type": "code",
   "execution_count": 46,
   "metadata": {},
   "outputs": [
    {
     "data": {
      "text/html": [
       "<div>\n",
       "<style scoped>\n",
       "    .dataframe tbody tr th:only-of-type {\n",
       "        vertical-align: middle;\n",
       "    }\n",
       "\n",
       "    .dataframe tbody tr th {\n",
       "        vertical-align: top;\n",
       "    }\n",
       "\n",
       "    .dataframe thead th {\n",
       "        text-align: right;\n",
       "    }\n",
       "</style>\n",
       "<table border=\"1\" class=\"dataframe\">\n",
       "  <thead>\n",
       "    <tr style=\"text-align: right;\">\n",
       "      <th></th>\n",
       "      <th>total_sales</th>\n",
       "    </tr>\n",
       "    <tr>\n",
       "      <th>trans_month</th>\n",
       "      <th></th>\n",
       "    </tr>\n",
       "  </thead>\n",
       "  <tbody>\n",
       "    <tr>\n",
       "      <th>1</th>\n",
       "      <td>51739.74</td>\n",
       "    </tr>\n",
       "    <tr>\n",
       "      <th>2</th>\n",
       "      <td>98762.99</td>\n",
       "    </tr>\n",
       "    <tr>\n",
       "      <th>3</th>\n",
       "      <td>198858.15</td>\n",
       "    </tr>\n",
       "    <tr>\n",
       "      <th>4</th>\n",
       "      <td>291358.04</td>\n",
       "    </tr>\n",
       "    <tr>\n",
       "      <th>5</th>\n",
       "      <td>419947.21</td>\n",
       "    </tr>\n",
       "    <tr>\n",
       "      <th>6</th>\n",
       "      <td>548822.73</td>\n",
       "    </tr>\n",
       "  </tbody>\n",
       "</table>\n",
       "</div>"
      ],
      "text/plain": [
       "             total_sales\n",
       "trans_month             \n",
       "1               51739.74\n",
       "2               98762.99\n",
       "3              198858.15\n",
       "4              291358.04\n",
       "5              419947.21\n",
       "6              548822.73"
      ]
     },
     "execution_count": 46,
     "metadata": {},
     "output_type": "execute_result"
    }
   ],
   "source": [
    "d4.sort_values(by=\"total_sales\")"
   ]
  },
  {
   "cell_type": "code",
   "execution_count": 56,
   "metadata": {},
   "outputs": [
    {
     "data": {
      "image/png": "[encoded data removed]",
      "text/plain": [
       "<Figure size 1800x360 with 1 Axes>"
      ]
     },
     "metadata": {},
     "output_type": "display_data"
    }
   ],
   "source": [
    "d4.plot(figsize=(25,5), kind='bar')\n",
    "plt.show()"
   ]
  },
  {
   "cell_type": "code",
   "execution_count": 39,
   "metadata": {},
   "outputs": [
    {
     "data": {
      "text/plain": [
       "trans_day\n",
       "1   40491.06\n",
       "2   46046.35\n",
       "3   45560.36\n",
       "4   43896.20\n",
       "5   47416.98\n",
       "Name: total_sales, dtype: float64"
      ]
     },
     "execution_count": 39,
     "metadata": {},
     "output_type": "execute_result"
    }
   ],
   "source": [
    "df.groupby([\"trans_day\"])[\"total_sales\"].sum().head()"
   ]
  },
  {
   "cell_type": "code",
   "execution_count": 48,
   "metadata": {},
   "outputs": [],
   "source": [
    "d5 = pd.DataFrame(df.groupby([\"trans_day\"])[\"total_sales\"].sum())"
   ]
  },
  {
   "cell_type": "code",
   "execution_count": 57,
   "metadata": {},
   "outputs": [
    {
     "data": {
      "text/html": [
       "<div>\n",
       "<style scoped>\n",
       "    .dataframe tbody tr th:only-of-type {\n",
       "        vertical-align: middle;\n",
       "    }\n",
       "\n",
       "    .dataframe tbody tr th {\n",
       "        vertical-align: top;\n",
       "    }\n",
       "\n",
       "    .dataframe thead th {\n",
       "        text-align: right;\n",
       "    }\n",
       "</style>\n",
       "<table border=\"1\" class=\"dataframe\">\n",
       "  <thead>\n",
       "    <tr style=\"text-align: right;\">\n",
       "      <th></th>\n",
       "      <th>total_sales</th>\n",
       "    </tr>\n",
       "    <tr>\n",
       "      <th>trans_day</th>\n",
       "      <th></th>\n",
       "    </tr>\n",
       "  </thead>\n",
       "  <tbody>\n",
       "    <tr>\n",
       "      <th>31</th>\n",
       "      <td>27025.04</td>\n",
       "    </tr>\n",
       "    <tr>\n",
       "      <th>1</th>\n",
       "      <td>40491.06</td>\n",
       "    </tr>\n",
       "    <tr>\n",
       "      <th>4</th>\n",
       "      <td>43896.20</td>\n",
       "    </tr>\n",
       "    <tr>\n",
       "      <th>6</th>\n",
       "      <td>45266.21</td>\n",
       "    </tr>\n",
       "    <tr>\n",
       "      <th>3</th>\n",
       "      <td>45560.36</td>\n",
       "    </tr>\n",
       "  </tbody>\n",
       "</table>\n",
       "</div>"
      ],
      "text/plain": [
       "           total_sales\n",
       "trans_day             \n",
       "31            27025.04\n",
       "1             40491.06\n",
       "4             43896.20\n",
       "6             45266.21\n",
       "3             45560.36"
      ]
     },
     "execution_count": 57,
     "metadata": {},
     "output_type": "execute_result"
    }
   ],
   "source": [
    "d5.sort_values(by=\"total_sales\").head()"
   ]
  },
  {
   "cell_type": "code",
   "execution_count": 55,
   "metadata": {},
   "outputs": [
    {
     "data": {
      "image/png": "[encoded data removed]",
      "text/plain": [
       "<Figure size 1800x360 with 1 Axes>"
      ]
     },
     "metadata": {},
     "output_type": "display_data"
    }
   ],
   "source": [
    "d5.plot(figsize=(25,5), kind='bar')\n",
    "plt.show()"
   ]
  },
  {
   "cell_type": "code",
   "execution_count": 41,
   "metadata": {},
   "outputs": [
    {
     "data": {
      "text/plain": [
       "cust_state\n",
       "Alabama      11678.81\n",
       "Alaska        1046.99\n",
       "Arizona      18864.32\n",
       "Arkansas      6722.01\n",
       "California   87512.89\n",
       "Name: total_sales, dtype: float64"
      ]
     },
     "execution_count": 41,
     "metadata": {},
     "output_type": "execute_result"
    }
   ],
   "source": [
    "df.groupby([\"cust_state\"])[\"total_sales\"].sum().head()"
   ]
  },
  {
   "cell_type": "code",
   "execution_count": 51,
   "metadata": {},
   "outputs": [],
   "source": [
    "d6 = pd.DataFrame(df.groupby([\"cust_state\"])[\"total_sales\"].sum())"
   ]
  },
  {
   "cell_type": "code",
   "execution_count": 60,
   "metadata": {},
   "outputs": [
    {
     "data": {
      "text/html": [
       "<div>\n",
       "<style scoped>\n",
       "    .dataframe tbody tr th:only-of-type {\n",
       "        vertical-align: middle;\n",
       "    }\n",
       "\n",
       "    .dataframe tbody tr th {\n",
       "        vertical-align: top;\n",
       "    }\n",
       "\n",
       "    .dataframe thead th {\n",
       "        text-align: right;\n",
       "    }\n",
       "</style>\n",
       "<table border=\"1\" class=\"dataframe\">\n",
       "  <thead>\n",
       "    <tr style=\"text-align: right;\">\n",
       "      <th></th>\n",
       "      <th>total_sales</th>\n",
       "    </tr>\n",
       "    <tr>\n",
       "      <th>cust_state</th>\n",
       "      <th></th>\n",
       "    </tr>\n",
       "  </thead>\n",
       "  <tbody>\n",
       "    <tr>\n",
       "      <th>Alaska</th>\n",
       "      <td>1046.99</td>\n",
       "    </tr>\n",
       "    <tr>\n",
       "      <th>Wyoming</th>\n",
       "      <td>1256.50</td>\n",
       "    </tr>\n",
       "    <tr>\n",
       "      <th>South Dakota</th>\n",
       "      <td>1362.68</td>\n",
       "    </tr>\n",
       "    <tr>\n",
       "      <th>North Dakota</th>\n",
       "      <td>1466.88</td>\n",
       "    </tr>\n",
       "    <tr>\n",
       "      <th>Vermont</th>\n",
       "      <td>1645.95</td>\n",
       "    </tr>\n",
       "  </tbody>\n",
       "</table>\n",
       "</div>"
      ],
      "text/plain": [
       "              total_sales\n",
       "cust_state               \n",
       "Alaska            1046.99\n",
       "Wyoming           1256.50\n",
       "South Dakota      1362.68\n",
       "North Dakota      1466.88\n",
       "Vermont           1645.95"
      ]
     },
     "execution_count": 60,
     "metadata": {},
     "output_type": "execute_result"
    }
   ],
   "source": [
    "d6.sort_values(by=\"total_sales\").head()"
   ]
  },
  {
   "cell_type": "code",
   "execution_count": 54,
   "metadata": {},
   "outputs": [
    {
     "data": {
      "image/png": "[encoded data removed]",
      "text/plain": [
       "<Figure size 1800x360 with 1 Axes>"
      ]
     },
     "metadata": {},
     "output_type": "display_data"
    }
   ],
   "source": [
    "d6.plot(figsize=(25,5), kind='bar')\n",
    "plt.show()"
   ]
  },
  {
   "cell_type": "code",
   "execution_count": 42,
   "metadata": {},
   "outputs": [
    {
     "data": {
      "text/plain": [
       "prod_title\n",
       "All Veggie Yummies    22845.20\n",
       "Ball and String       53628.25\n",
       "Cat Cave             175759.92\n",
       "Chewie Dental         28291.63\n",
       "Chomp-a Plush         46402.30\n",
       "Name: total_sales, dtype: float64"
      ]
     },
     "execution_count": 42,
     "metadata": {},
     "output_type": "execute_result"
    }
   ],
   "source": [
    "df.groupby([\"prod_title\"])[\"total_sales\"].sum().head()"
   ]
  },
  {
   "cell_type": "code",
   "execution_count": 61,
   "metadata": {},
   "outputs": [],
   "source": [
    "d7 = pd.DataFrame(df.groupby([\"prod_title\"])[\"total_sales\"].sum())"
   ]
  },
  {
   "cell_type": "code",
   "execution_count": 62,
   "metadata": {},
   "outputs": [
    {
     "data": {
      "text/html": [
       "<div>\n",
       "<style scoped>\n",
       "    .dataframe tbody tr th:only-of-type {\n",
       "        vertical-align: middle;\n",
       "    }\n",
       "\n",
       "    .dataframe tbody tr th {\n",
       "        vertical-align: top;\n",
       "    }\n",
       "\n",
       "    .dataframe thead th {\n",
       "        text-align: right;\n",
       "    }\n",
       "</style>\n",
       "<table border=\"1\" class=\"dataframe\">\n",
       "  <thead>\n",
       "    <tr style=\"text-align: right;\">\n",
       "      <th></th>\n",
       "      <th>total_sales</th>\n",
       "    </tr>\n",
       "    <tr>\n",
       "      <th>prod_title</th>\n",
       "      <th></th>\n",
       "    </tr>\n",
       "  </thead>\n",
       "  <tbody>\n",
       "    <tr>\n",
       "      <th>The New Bone</th>\n",
       "      <td>13561.66</td>\n",
       "    </tr>\n",
       "    <tr>\n",
       "      <th>All Veggie Yummies</th>\n",
       "      <td>22845.20</td>\n",
       "    </tr>\n",
       "    <tr>\n",
       "      <th>Purr Mix</th>\n",
       "      <td>24369.24</td>\n",
       "    </tr>\n",
       "    <tr>\n",
       "      <th>Snack-em Fish</th>\n",
       "      <td>25344.15</td>\n",
       "    </tr>\n",
       "    <tr>\n",
       "      <th>Tug-a-Back</th>\n",
       "      <td>26484.48</td>\n",
       "    </tr>\n",
       "    <tr>\n",
       "      <th>Chewie Dental</th>\n",
       "      <td>28291.63</td>\n",
       "    </tr>\n",
       "    <tr>\n",
       "      <th>Whole Chemistry Recipe</th>\n",
       "      <td>31257.70</td>\n",
       "    </tr>\n",
       "    <tr>\n",
       "      <th>Chomp-a Plush</th>\n",
       "      <td>46402.30</td>\n",
       "    </tr>\n",
       "    <tr>\n",
       "      <th>Purrfect Puree</th>\n",
       "      <td>46484.35</td>\n",
       "    </tr>\n",
       "    <tr>\n",
       "      <th>Fetch Blaster</th>\n",
       "      <td>47355.10</td>\n",
       "    </tr>\n",
       "    <tr>\n",
       "      <th>Ball and String</th>\n",
       "      <td>53628.25</td>\n",
       "    </tr>\n",
       "    <tr>\n",
       "      <th>Tuna Tasties</th>\n",
       "      <td>58782.90</td>\n",
       "    </tr>\n",
       "    <tr>\n",
       "      <th>Foozy Mouse</th>\n",
       "      <td>61460.37</td>\n",
       "    </tr>\n",
       "    <tr>\n",
       "      <th>Feline Fix Mix</th>\n",
       "      <td>65207.38</td>\n",
       "    </tr>\n",
       "    <tr>\n",
       "      <th>Scratchy Post</th>\n",
       "      <td>65951.34</td>\n",
       "    </tr>\n",
       "    <tr>\n",
       "      <th>Yum Fish-Dish</th>\n",
       "      <td>81447.10</td>\n",
       "    </tr>\n",
       "    <tr>\n",
       "      <th>Snoozer Essentails</th>\n",
       "      <td>100739.10</td>\n",
       "    </tr>\n",
       "    <tr>\n",
       "      <th>Snoozer Hammock</th>\n",
       "      <td>106282.89</td>\n",
       "    </tr>\n",
       "    <tr>\n",
       "      <th>Kitty Climber</th>\n",
       "      <td>119810.71</td>\n",
       "    </tr>\n",
       "    <tr>\n",
       "      <th>Cat Cave</th>\n",
       "      <td>175759.92</td>\n",
       "    </tr>\n",
       "    <tr>\n",
       "      <th>Reddy Beddy</th>\n",
       "      <td>408023.09</td>\n",
       "    </tr>\n",
       "  </tbody>\n",
       "</table>\n",
       "</div>"
      ],
      "text/plain": [
       "                        total_sales\n",
       "prod_title                         \n",
       "The New Bone               13561.66\n",
       "All Veggie Yummies         22845.20\n",
       "Purr Mix                   24369.24\n",
       "Snack-em Fish              25344.15\n",
       "Tug-a-Back                 26484.48\n",
       "Chewie Dental              28291.63\n",
       "Whole Chemistry Recipe     31257.70\n",
       "Chomp-a Plush              46402.30\n",
       "Purrfect Puree             46484.35\n",
       "Fetch Blaster              47355.10\n",
       "Ball and String            53628.25\n",
       "Tuna Tasties               58782.90\n",
       "Foozy Mouse                61460.37\n",
       "Feline Fix Mix             65207.38\n",
       "Scratchy Post              65951.34\n",
       "Yum Fish-Dish              81447.10\n",
       "Snoozer Essentails        100739.10\n",
       "Snoozer Hammock           106282.89\n",
       "Kitty Climber             119810.71\n",
       "Cat Cave                  175759.92\n",
       "Reddy Beddy               408023.09"
      ]
     },
     "execution_count": 62,
     "metadata": {},
     "output_type": "execute_result"
    }
   ],
   "source": [
    "d7.sort_values(by=\"total_sales\")"
   ]
  },
  {
   "cell_type": "code",
   "execution_count": 63,
   "metadata": {},
   "outputs": [
    {
     "data": {
      "image/png": "[encoded data removed]",
      "text/plain": [
       "<Figure size 1800x360 with 1 Axes>"
      ]
     },
     "metadata": {},
     "output_type": "display_data"
    }
   ],
   "source": [
    "d7.plot(figsize=(25,5), kind='bar')\n",
    "plt.show()"
   ]
  },
  {
   "cell_type": "code",
   "execution_count": 43,
   "metadata": {},
   "outputs": [
    {
     "data": {
      "text/plain": [
       "prod_category\n",
       "bedding   790805.00\n",
       "food      150635.70\n",
       "toy       421092.55\n",
       "treat     246955.61\n",
       "Name: total_sales, dtype: float64"
      ]
     },
     "execution_count": 43,
     "metadata": {},
     "output_type": "execute_result"
    }
   ],
   "source": [
    "df.groupby([\"prod_category\"])[\"total_sales\"].sum().head()"
   ]
  },
  {
   "cell_type": "code",
   "execution_count": 64,
   "metadata": {},
   "outputs": [],
   "source": [
    "d8 = pd.DataFrame(df.groupby([\"prod_category\"])[\"total_sales\"].sum())"
   ]
  },
  {
   "cell_type": "code",
   "execution_count": 65,
   "metadata": {},
   "outputs": [
    {
     "data": {
      "text/html": [
       "<div>\n",
       "<style scoped>\n",
       "    .dataframe tbody tr th:only-of-type {\n",
       "        vertical-align: middle;\n",
       "    }\n",
       "\n",
       "    .dataframe tbody tr th {\n",
       "        vertical-align: top;\n",
       "    }\n",
       "\n",
       "    .dataframe thead th {\n",
       "        text-align: right;\n",
       "    }\n",
       "</style>\n",
       "<table border=\"1\" class=\"dataframe\">\n",
       "  <thead>\n",
       "    <tr style=\"text-align: right;\">\n",
       "      <th></th>\n",
       "      <th>total_sales</th>\n",
       "    </tr>\n",
       "    <tr>\n",
       "      <th>prod_category</th>\n",
       "      <th></th>\n",
       "    </tr>\n",
       "  </thead>\n",
       "  <tbody>\n",
       "    <tr>\n",
       "      <th>food</th>\n",
       "      <td>150635.70</td>\n",
       "    </tr>\n",
       "    <tr>\n",
       "      <th>treat</th>\n",
       "      <td>246955.61</td>\n",
       "    </tr>\n",
       "    <tr>\n",
       "      <th>toy</th>\n",
       "      <td>421092.55</td>\n",
       "    </tr>\n",
       "    <tr>\n",
       "      <th>bedding</th>\n",
       "      <td>790805.00</td>\n",
       "    </tr>\n",
       "  </tbody>\n",
       "</table>\n",
       "</div>"
      ],
      "text/plain": [
       "               total_sales\n",
       "prod_category             \n",
       "food             150635.70\n",
       "treat            246955.61\n",
       "toy              421092.55\n",
       "bedding          790805.00"
      ]
     },
     "execution_count": 65,
     "metadata": {},
     "output_type": "execute_result"
    }
   ],
   "source": [
    "d8.sort_values(by=\"total_sales\")"
   ]
  },
  {
   "cell_type": "code",
   "execution_count": 66,
   "metadata": {},
   "outputs": [
    {
     "data": {
      "image/png": "[encoded data removed]",
      "text/plain": [
       "<Figure size 1800x360 with 1 Axes>"
      ]
     },
     "metadata": {},
     "output_type": "display_data"
    }
   ],
   "source": [
    "d8.plot(figsize=(25,5), kind=\"bar\")\n",
    "plt.show()"
   ]
  },
  {
   "cell_type": "code",
   "execution_count": 67,
   "metadata": {},
   "outputs": [
    {
     "data": {
      "text/plain": [
       "prod_animal_type\n",
       "cat   884528.60\n",
       "dog   724960.26\n",
       "Name: total_sales, dtype: float64"
      ]
     },
     "execution_count": 67,
     "metadata": {},
     "output_type": "execute_result"
    }
   ],
   "source": [
    "df.groupby([\"prod_animal_type\"])[\"total_sales\"].sum().head()"
   ]
  },
  {
   "cell_type": "code",
   "execution_count": 68,
   "metadata": {},
   "outputs": [],
   "source": [
    "d9 = pd.DataFrame(df.groupby([\"prod_animal_type\"])[\"total_sales\"].sum())"
   ]
  },
  {
   "cell_type": "code",
   "execution_count": 69,
   "metadata": {},
   "outputs": [
    {
     "data": {
      "text/html": [
       "<div>\n",
       "<style scoped>\n",
       "    .dataframe tbody tr th:only-of-type {\n",
       "        vertical-align: middle;\n",
       "    }\n",
       "\n",
       "    .dataframe tbody tr th {\n",
       "        vertical-align: top;\n",
       "    }\n",
       "\n",
       "    .dataframe thead th {\n",
       "        text-align: right;\n",
       "    }\n",
       "</style>\n",
       "<table border=\"1\" class=\"dataframe\">\n",
       "  <thead>\n",
       "    <tr style=\"text-align: right;\">\n",
       "      <th></th>\n",
       "      <th>total_sales</th>\n",
       "    </tr>\n",
       "    <tr>\n",
       "      <th>prod_animal_type</th>\n",
       "      <th></th>\n",
       "    </tr>\n",
       "  </thead>\n",
       "  <tbody>\n",
       "    <tr>\n",
       "      <th>dog</th>\n",
       "      <td>724960.26</td>\n",
       "    </tr>\n",
       "    <tr>\n",
       "      <th>cat</th>\n",
       "      <td>884528.60</td>\n",
       "    </tr>\n",
       "  </tbody>\n",
       "</table>\n",
       "</div>"
      ],
      "text/plain": [
       "                  total_sales\n",
       "prod_animal_type             \n",
       "dog                 724960.26\n",
       "cat                 884528.60"
      ]
     },
     "execution_count": 69,
     "metadata": {},
     "output_type": "execute_result"
    }
   ],
   "source": [
    "d9.sort_values(by=\"total_sales\")"
   ]
  },
  {
   "cell_type": "code",
   "execution_count": 70,
   "metadata": {},
   "outputs": [
    {
     "data": {
      "image/png": "[encoded data removed]",
      "text/plain": [
       "<Figure size 1800x360 with 1 Axes>"
      ]
     },
     "metadata": {},
     "output_type": "display_data"
    }
   ],
   "source": [
    "d9.plot(figsize=(25,5), kind='bar')\n",
    "plt.show()"
   ]
  },
  {
   "cell_type": "markdown",
   "metadata": {},
   "source": [
    "## Data Visualization"
   ]
  },
  {
   "cell_type": "markdown",
   "metadata": {},
   "source": [
    "### Univariate Data Exploration"
   ]
  },
  {
   "cell_type": "code",
   "execution_count": 71,
   "metadata": {},
   "outputs": [
    {
     "data": {
      "image/png": "[encoded data removed]",
      "text/plain": [
       "<Figure size 1440x720 with 9 Axes>"
      ]
     },
     "metadata": {},
     "output_type": "display_data"
    }
   ],
   "source": [
    "df.hist(bins=50, figsize=(20,10))\n",
    "plt.suptitle('Histogram Feature Distribution', x=0.5, y=1.02, ha='center', fontsize=20)\n",
    "plt.tight_layout()\n",
    "plt.show()"
   ]
  },
  {
   "cell_type": "code",
   "execution_count": 73,
   "metadata": {},
   "outputs": [
    {
     "data": {
      "image/png": "[encoded data removed]",
      "text/plain": [
       "<Figure size 1440x360 with 1 Axes>"
      ]
     },
     "metadata": {},
     "output_type": "display_data"
    }
   ],
   "source": [
    "df.boxplot(figsize=(20,5))\n",
    "plt.suptitle('BoxPlots Feature Distribution', x=0.5, y=1.02, ha='center', fontsize=20)\n",
    "plt.tight_layout()\n",
    "plt.show()"
   ]
  },
  {
   "cell_type": "code",
   "execution_count": null,
   "metadata": {},
   "outputs": [],
   "source": [
    "fig, ax = plt.subplots(1,2, sharex=False, figsize=(16,5))\n",
    "fig.suptitle('Main Title')\n",
    "\n",
    "\n",
    "\n",
    "sns.countplot(x=\"education\", data=df, hue=df.income, ax=ax[0])\n",
    "ax[0].set_title('Title of the first chart')\n",
    "ax[0].tick_params('x', labelrotation=45)\n",
    "\n",
    "sns.countplot(x=\"sex\", data=df, hue=df.income, ax=ax[1])\n",
    "ax[1].set_title('Title of the second chart')\n",
    "\n",
    "plt.show()"
   ]
  },
  {
   "cell_type": "code",
   "execution_count": null,
   "metadata": {},
   "outputs": [],
   "source": [
    "#Plot 2 by 2 subplots\n",
    "\n",
    "fig, ((ax1, ax2), (ax3, ax4)) = plt.subplots(2,2, sharex=False, figsize=(20,20))\n",
    "fig.suptitle('Main Title', y=0.5)\n",
    "\n",
    "sns.countplot(x=\"Satisfaction rating\", data=df, ax=ax1)\n",
    "ax1.set_title('Title of the first chart', size=20)\n",
    "#ax1.tick_params('x', labelrotation=45)\n",
    "\n",
    "\n",
    "sns.countplot(x=\"Topic\", data=df, ax=ax2)\n",
    "ax2.set_title('Title of the second chart', size=20)\n",
    "#ax2.tick_params('x', labelrotation=45)\n",
    "\n",
    "sns.countplot(x=\"Answered (Y/N)\", data=df, ax=ax3)\n",
    "ax3.set_title('Title of the third chart', size=20)\n",
    "#ax3.tick_params('x', labelrotation=45)\n",
    "\n",
    "\n",
    "sns.countplot(x=\"Resolved\", data=df, ax=ax4)\n",
    "ax4.set_title('Title of the fourth chart', size=20)\n",
    "#ax4.tick_params('x', labelrotation=45)\n",
    "\n",
    "\n",
    "plt.show()"
   ]
  },
  {
   "cell_type": "code",
   "execution_count": null,
   "metadata": {},
   "outputs": [],
   "source": [
    "fig = plt.figure(figsize=(20,40))\n",
    "\n",
    "plt.subplot(7,2,1)\n",
    "plt.title(\"\", size=20)\n",
    "sns.countplot()\n",
    "\n",
    "plt.subplot(7,2,2)\n",
    "plt.title(\"\", size=20)\n",
    "sns.countplot()\n",
    "\n",
    "plt.subplot(7,2,3)\n",
    "plt.title(\"\", size=20)\n",
    "sns.countplot()\n",
    "\n",
    "plt.subplot(7,2,4)\n",
    "plt.title(\"\", size=20)\n",
    "sns.countplot()\n",
    "\n",
    "plt.subplot(7,2,5)\n",
    "plt.title(\"\", size=20)\n",
    "sns.barplot()\n",
    "\n",
    "plt.subplot(7,2,6)\n",
    "plt.title(\"\", size=20)\n",
    "sns.barplot()\n",
    "\n",
    "plt.subplot(7,2,7)\n",
    "plt.title(\"\", size=20)\n",
    "sns.barplot()\n",
    "\n",
    "plt.subplot(7,2,8)\n",
    "plt.title(\"\", size=20)\n",
    "sns.barplot()\n",
    "\n",
    "plt.subplot(7,2,9)\n",
    "plt.title(\"\", size=20)\n",
    "sns.scatterplot()\n",
    "\n",
    "plt.subplot(7,2,10)\n",
    "plt.title(\"\", size=20)\n",
    "sns.scatterplot()\n",
    "\n",
    "plt.subplot(7,2,11)\n",
    "plt.title(\"\", size=20)\n",
    "sns.scatterplot()\n",
    "\n",
    "plt.subplot(7,2,12)\n",
    "plt.title(\"\", size=20)\n",
    "sns.scatterplot()\n",
    "\n",
    "plt.subplot(7,2,13)\n",
    "plt.title(\"\", size=20)\n",
    "sns.relplot()\n",
    "\n",
    "plt.subplot(7,2,14)\n",
    "plt.title(\"\", size=20)\n",
    "sns.relplot()\n",
    "\n",
    "plt.tight_layout()\n",
    "plt.show()"
   ]
  },
  {
   "cell_type": "code",
   "execution_count": null,
   "metadata": {},
   "outputs": [],
   "source": [
    "plt.figure(figsize=(20,20))\n",
    "\n",
    "\n",
    "g = sns.catplot(x='gender', hue = 'tenure', row = 'division',\n",
    "            kind='count', data=ratings_df,\n",
    "            height = 3, aspect = 1)\n",
    "\n",
    "g.set_xlabels(\"\")\n",
    "g.set_ylabels(\"\")\n",
    "#g = (g.set_axis_labels(\"Tip\",\"Total bill(USD)\").set(xlim=(0,10),ylim=(0,100)\n",
    "\n",
    "\n",
    "g.set(xlim=(0,None))\n",
    "g.set_xticklabels(rotation=90)\n",
    "\n",
    "plt.suptitle('', x=0.5, y=1.02, ha='center', fontsize=20)\n",
    "\n",
    "plt.show()"
   ]
  },
  {
   "cell_type": "code",
   "execution_count": null,
   "metadata": {},
   "outputs": [],
   "source": [
    "plt.figure(figsize=(20,20))\n",
    "\n",
    "sns.catplot(x=\"calories\", y=\"restaurant\",\n",
    "\n",
    "                hue=\"is_salad\", ci=None,\n",
    "\n",
    "                data=df_calories, color=None, linewidth=3, showfliers = False,\n",
    "\n",
    "                orient=\"h\", height=20, aspect=1, palette=None,\n",
    "\n",
    "                kind=\"box\", dodge=True)\n",
    "\n",
    "plt.xlabel(\"\", size=20)\n",
    "plt.ylabel(\"\", size=20)\n",
    "plt.suptitle('', x=0.5, y=1.02, ha='center', fontsize=20)\n",
    "plt.show()"
   ]
  },
  {
   "cell_type": "code",
   "execution_count": null,
   "metadata": {},
   "outputs": [],
   "source": [
    "plt.figure(figsize=(20,20))\n",
    "\n",
    "sns.relplot(x=\"age\", y=\"eval\", hue=\"gender\",\n",
    "            row=\"tenure\",\n",
    "            data=ratings_df, height = 3, aspect = 2)\n",
    "\n",
    "plt.xlabel(\"\", size=20)\n",
    "plt.ylabel(\"\", size=20)\n",
    "plt.suptitle('', x=0.5, y=1.02, ha='center', fontsize=20)\n",
    "plt.show()"
   ]
  },
  {
   "cell_type": "markdown",
   "metadata": {},
   "source": [
    "### Time-Series Analysis"
   ]
  },
  {
   "cell_type": "code",
   "execution_count": null,
   "metadata": {},
   "outputs": [],
   "source": [
    "timeseries = df[['date','extraction','month', 'day']]"
   ]
  },
  {
   "cell_type": "code",
   "execution_count": null,
   "metadata": {},
   "outputs": [],
   "source": [
    "timeseries"
   ]
  },
  {
   "cell_type": "code",
   "execution_count": null,
   "metadata": {},
   "outputs": [],
   "source": [
    "timeseries.info()"
   ]
  },
  {
   "cell_type": "code",
   "execution_count": null,
   "metadata": {},
   "outputs": [],
   "source": [
    "fig = plt.figure(figsize=(30,10))\n",
    "sns.lineplot(x=df.date,y=df.amount,data=df, estimator=None)\n",
    "plt.title(\"\", fontsize=20)\n",
    "plt.xlabel(\"\", fontsize=20)\n",
    "plt.ylabel(\"\", fontsize=20)\n",
    "plt.legend(['',''])\n",
    "plt.show()"
   ]
  },
  {
   "cell_type": "code",
   "execution_count": null,
   "metadata": {},
   "outputs": [],
   "source": [
    "fig = plt.figure(figsize=(30,10))\n",
    "sns.lineplot(x=df.month,y=df.amount,data=df, estimator=None)\n",
    "plt.title(\"\", fontsize=20)\n",
    "plt.xlabel(\"\", fontsize=20)\n",
    "plt.ylabel(\"\", fontsize=20)\n",
    "plt.legend(['',''])\n",
    "plt.show()"
   ]
  },
  {
   "cell_type": "code",
   "execution_count": null,
   "metadata": {},
   "outputs": [],
   "source": [
    "fig = plt.figure(figsize=(30,10))\n",
    "sns.lineplot(x=df.month,y=df.amount,data=df, estimator=None)\n",
    "plt.title(\"\", fontsize=20)\n",
    "plt.xlabel(\"\", fontsize=20)\n",
    "plt.ylabel(\"\", fontsize=20)\n",
    "plt.legend(['',''])\n",
    "plt.show()"
   ]
  },
  {
   "cell_type": "markdown",
   "metadata": {},
   "source": [
    "### Pairplots"
   ]
  },
  {
   "cell_type": "code",
   "execution_count": null,
   "metadata": {},
   "outputs": [],
   "source": [
    "plt.figure(figsize=(20,20))\n",
    "plt.suptitle('Pairplots of features', x=0.5, y=1.02, ha='center', fontsize=20)\n",
    "sns.pairplot(df.sample(500))\n",
    "plt.show()"
   ]
  },
  {
   "cell_type": "markdown",
   "metadata": {},
   "source": [
    "### Bivariate Data Exploration"
   ]
  },
  {
   "cell_type": "code",
   "execution_count": null,
   "metadata": {},
   "outputs": [],
   "source": [
    "sns.jointplot(x='', y='',data=df, kind='scatter')\n",
    "\n",
    "sns.jointplot(x='', y='',data=df, kind='scatter')\n",
    "\n",
    "sns.jointplot(x='', y='',data=df, kind='scatter')\n",
    "\n",
    "sns.jointplot(x='', y='',data=df, kind='scatter')\n",
    "\n",
    "sns.jointplot(x='', y='',data=df, kind='kde')\n",
    "\n",
    "sns.jointplot(x='', y='',data=df, kind='kde')\n",
    "\n",
    "sns.jointplot(x='', y='',data=df, kind='hex')\n",
    "\n",
    "sns.jointplot(x='', y='',data=df, kind='hex')\n",
    "\n",
    "sns.jointplot(x='', y='',data=df, kind='reg',scatter_kws={'color':'k'},line_kws={'color':'red'})\n",
    "\n",
    "sns.jointplot(x='', y='',data=df, kind='reg',scatter_kws={'color':'k'},line_kws={'color':'red'})\n",
    "\n",
    "sns.lmplot(x='num_items', y='total_value', data=df, scatter_kws={'s': 1, 'alpha': 0.1}, height=5, aspect=1,\n",
    "           line_kws={'lw': 2, 'color': 'red'})\n",
    "\n",
    "sns.lmplot(x='num_items', y='total_value', data=df, scatter_kws={'s': 1, 'alpha': 0.1}, height=5, aspect=1,\n",
    "           line_kws={'lw': 2, 'color': 'red'})\n",
    "\n",
    "plt.tight_layout()\n",
    "plt.show()"
   ]
  },
  {
   "cell_type": "markdown",
   "metadata": {},
   "source": [
    "### Regression plot"
   ]
  },
  {
   "cell_type": "code",
   "execution_count": null,
   "metadata": {},
   "outputs": [],
   "source": [
    "line_color = {'color': 'red'}\n",
    "fig , ax = plt.subplots(2,2, figsize=(20,20))\n",
    "\n",
    "#Feature\n",
    "\n",
    "ax1 = sns.regplot(x=X_test.bmi, y=lr_pred, line_kws=line_color, ax=ax[0,0])\n",
    "ax1.set_xlabel(\"x\")\n",
    "ax1.set_ylabel(\"y\")\n",
    "ax1.set_title(\"Plot 1\", size=15)\n",
    "\n",
    "#Feature\n",
    "\n",
    "ax2 = sns.regplot(x=X_test.s5, y=lr_pred, line_kws=line_color, ax=ax[0,1])\n",
    "ax2.set_xlabel(\"x\")\n",
    "ax2.set_ylabel(\"y\")\n",
    "ax2.set_title(\"Plot 2\", size=15)\n",
    "\n",
    "#Feature\n",
    "\n",
    "ax3 = sns.regplot(x=X_test.bp, y=lr_pred, line_kws=line_color, ax=ax[1,0])\n",
    "ax3.set_xlabel(\"x\")\n",
    "ax3.set_ylabel(\"y\")\n",
    "ax3.set_title(\"Plot 3\", size=15)\n",
    "\n",
    "#Feature\n",
    "\n",
    "ax4 = sns.regplot(x=X_test.s4, y=lr_pred, line_kws=line_color, ax=ax[1,1])\n",
    "ax4.set_xlabel(\"x\")\n",
    "ax4.set_ylabel(\"y\")\n",
    "ax1.set_title(\"Plot 4\", size=15)\n",
    "\n",
    "plt.show()"
   ]
  },
  {
   "cell_type": "markdown",
   "metadata": {},
   "source": [
    "### FacetGrid"
   ]
  },
  {
   "cell_type": "code",
   "execution_count": null,
   "metadata": {},
   "outputs": [],
   "source": [
    "g = sns.FacetGrid(data=df, col=\"column_name\", height=3, aspect=1)\n",
    "g.map(plt.scatter, \"numeric\", \"numeric\")\n",
    "g.add_legend()\n",
    "plt.show()"
   ]
  },
  {
   "cell_type": "markdown",
   "metadata": {},
   "source": [
    "### Geospatial Analysis"
   ]
  },
  {
   "cell_type": "code",
   "execution_count": null,
   "metadata": {},
   "outputs": [],
   "source": [
    "mapping = usa_stores[['City','Latitude','Longtitude','Sentiment','Revenue']]\n",
    "mapping"
   ]
  },
  {
   "cell_type": "code",
   "execution_count": null,
   "metadata": {},
   "outputs": [],
   "source": [
    "m = folium.Map(location=[37.090240,-95.712891], zoom_start=5)\n",
    "m"
   ]
  },
  {
   "cell_type": "code",
   "execution_count": null,
   "metadata": {},
   "outputs": [],
   "source": [
    "map_df = pd.DataFrame(mapping.groupby([\"City\",\"Latitude\",\"Longtitude\"]).mean())\n",
    "map_df"
   ]
  },
  {
   "cell_type": "code",
   "execution_count": null,
   "metadata": {},
   "outputs": [],
   "source": [
    "folium.Marker(location=[33.76,-84.42], popup=\"Atlanta\", tooltip=\"Sentiment=83.69, Revenue=292.57\").add_to(m)\n",
    "folium.Marker(location=[36.23,-115.27], popup=\"Las Vegas\", tooltip=\"Sentiment=83.72, Revenue=187.40\").add_to(m)\n",
    "folium.Marker(location=[34.11,-118.41], popup=\"Los Angeles\", tooltip=\"Sentiment=83.75, Revenue=255.95\").add_to(m)\n",
    "folium.Marker(location=[40.69,-73.92], popup=\"New York\", tooltip=\"Sentiment=83.71, Revenue=328.38\").add_to(m)\n",
    "folium.Marker(location=[32.83,-117.12], popup=\"San Diego\", tooltip=\"Sentiment=83.70, Revenue=272.93\").add_to(m)\n",
    "\n",
    "m"
   ]
  },
  {
   "cell_type": "code",
   "execution_count": null,
   "metadata": {},
   "outputs": [],
   "source": [
    "m.save(\"filename.html\")"
   ]
  },
  {
   "cell_type": "code",
   "execution_count": null,
   "metadata": {},
   "outputs": [],
   "source": []
  },
  {
   "cell_type": "code",
   "execution_count": null,
   "metadata": {},
   "outputs": [],
   "source": [
    "state_geo = f\"malaysia.geojson\""
   ]
  },
  {
   "cell_type": "code",
   "execution_count": null,
   "metadata": {},
   "outputs": [],
   "source": [
    "map2 = folium.Map(location=[4.210484,108.975766], zoom_start=6)"
   ]
  },
  {
   "cell_type": "markdown",
   "metadata": {},
   "source": [
    "And now to create a `Choropleth` map, we will use the *choropleth* method with the following main parameters:\n",
    "\n",
    "1.  `geo_data`, which is the GeoJSON file.\n",
    "2.  `data`, which is the dataframe containing the data.\n",
    "3.  `columns`, which represents the columns in the dataframe that will be used to create the `Choropleth` map.\n",
    "4.  `key_on`, which is the key or variable in the GeoJSON file that contains the name of the variable of interest. To determine that, you will need to open the GeoJSON file using any text editor and note the name of the key or variable that contains the name of the countries, since the countries are our variable of interest. In this case, **name** is the key in the GeoJSON file that contains the name of the countries. Note that this key is case_sensitive, so you need to pass exactly as it exists in the GeoJSON file."
   ]
  },
  {
   "cell_type": "code",
   "execution_count": null,
   "metadata": {},
   "outputs": [],
   "source": [
    "folium.Choropleth(geo_data=state_geo, name=\"choropleth\").add_to(map2)"
   ]
  },
  {
   "cell_type": "markdown",
   "metadata": {},
   "source": [
    "### Correlation"
   ]
  },
  {
   "cell_type": "code",
   "execution_count": null,
   "metadata": {},
   "outputs": [],
   "source": [
    "df.corr()"
   ]
  },
  {
   "cell_type": "code",
   "execution_count": null,
   "metadata": {},
   "outputs": [],
   "source": [
    "df.corr()[\"target\"].sort_values()"
   ]
  },
  {
   "cell_type": "code",
   "execution_count": null,
   "metadata": {},
   "outputs": [],
   "source": [
    "plt.figure(figsize=(16,9))\n",
    "sns.heatmap(df.corr(),cmap=\"coolwarm\",annot=True,fmt='.2f',linewidths=2)\n",
    "plt.title(\"\", fontsize=20)\n",
    "plt.show()"
   ]
  },
  {
   "cell_type": "markdown",
   "metadata": {},
   "source": [
    "## Hypothesis Testing"
   ]
  },
  {
   "cell_type": "markdown",
   "metadata": {},
   "source": [
    "The goal of hypothesis testing is to answer the question, “Given a sample and an apparent effect, what is the probability of seeing such an effect by chance?” The first step is to quantify the size of the apparent effect by choosing a test statistic (t-test, ANOVA, etc). The next step is to define a null hypothesis, which is a model of the system based on the assumption that the apparent effect is not real. Then compute the p-value, which is the probability of the null hypothesis being true, and finally interpret the result of the p-value, if the value is low, the effect is said to be statistically significant, which means that the null hypothesis may not be accurate."
   ]
  },
  {
   "cell_type": "markdown",
   "metadata": {},
   "source": [
    "### T-Test"
   ]
  },
  {
   "cell_type": "markdown",
   "metadata": {},
   "source": [
    "We will be using the t-test for independent samples. For the independent t-test, the following assumptions must be met.\n",
    "\n",
    "-   One independent, categorical variable with two levels or group\n",
    "-   One dependent continuous variable\n",
    "-   Independence of the observations. Each subject should belong to only one group. There is no relationship between the observations in each group.\n",
    "-   The dependent variable must follow a normal distribution\n",
    "-   Assumption of homogeneity of variance\n"
   ]
  },
  {
   "cell_type": "markdown",
   "metadata": {},
   "source": [
    "State the hypothesis\n",
    "\n",
    "-   $H_0: µ\\_1 = µ\\_2$ (\"there is no difference in evaluation scores between male and females\")\n",
    "-   $H_1: µ\\_1 ≠ µ\\_2$ (\"there is a difference in evaluation scores between male and females\")\n"
   ]
  },
  {
   "cell_type": "markdown",
   "metadata": {},
   "source": [
    "### Levene's Test"
   ]
  },
  {
   "cell_type": "code",
   "execution_count": null,
   "metadata": {},
   "outputs": [],
   "source": [
    "scipy.stats.levene(ratings_df[ratings_df['gender'] == 'female']['eval'],\n",
    "                   ratings_df[ratings_df['gender'] == 'male']['eval'], center='mean')"
   ]
  },
  {
   "cell_type": "markdown",
   "metadata": {},
   "source": [
    "## T-Test"
   ]
  },
  {
   "cell_type": "markdown",
   "metadata": {},
   "source": [
    "### One Sample T-Test"
   ]
  },
  {
   "cell_type": "code",
   "execution_count": null,
   "metadata": {},
   "outputs": [],
   "source": [
    "t, p = scipy.stats.ttest_1samp(a=df.dose, popmean=1.166667)"
   ]
  },
  {
   "cell_type": "code",
   "execution_count": null,
   "metadata": {},
   "outputs": [],
   "source": [
    "print(\"T-test value is: \", t)\n",
    "print(\"p-value value is: \", p)"
   ]
  },
  {
   "cell_type": "markdown",
   "metadata": {},
   "source": [
    "### Two Samples T-Test"
   ]
  },
  {
   "cell_type": "code",
   "execution_count": null,
   "metadata": {},
   "outputs": [],
   "source": [
    "t, p = scipy.stats.ttest_ind(a=df.len,b=df.dose, equal_var = True/False)"
   ]
  },
  {
   "cell_type": "code",
   "execution_count": null,
   "metadata": {},
   "outputs": [],
   "source": [
    "print(\"T-test value is: \",t)\n",
    "print(\"p-value value is: \",p)"
   ]
  },
  {
   "cell_type": "markdown",
   "metadata": {},
   "source": [
    "### ANOVA"
   ]
  },
  {
   "cell_type": "markdown",
   "metadata": {},
   "source": [
    "First, we group the data into cateries as the one-way ANOVA can't work with continuous variable - using the example from the video, we will create a new column for this newly assigned group our categories will be teachers that are:\n",
    "\n",
    "-   40 years and younger\n",
    "-   between 40 and 57 years\n",
    "-   57 years and older\n"
   ]
  },
  {
   "cell_type": "markdown",
   "metadata": {},
   "source": [
    "State the hypothesis\n",
    "\n",
    "-   $H_0: µ\\_1 = µ\\_2 = µ\\_3$ (the three population means are equal)\n",
    "-   $H_1:$ At least one of the means differ\n"
   ]
  },
  {
   "cell_type": "markdown",
   "metadata": {},
   "source": [
    "### One Way ANOVA"
   ]
  },
  {
   "cell_type": "code",
   "execution_count": null,
   "metadata": {},
   "outputs": [],
   "source": [
    "mod = ols('len~supp', data=df).fit()"
   ]
  },
  {
   "cell_type": "code",
   "execution_count": null,
   "metadata": {},
   "outputs": [],
   "source": [
    "aov_table = sm.stats.anova_lm(mod,typ=2)"
   ]
  },
  {
   "cell_type": "code",
   "execution_count": null,
   "metadata": {},
   "outputs": [],
   "source": [
    "aov_table"
   ]
  },
  {
   "cell_type": "code",
   "execution_count": null,
   "metadata": {},
   "outputs": [],
   "source": [
    "f_statistic, p_value = scipy.stats.f_oneway(forty_lower, forty_fiftyseven, fiftyseven_older)\n",
    "print(\"F_Statistic: {0}, P-Value: {1}\".format(f_statistic,p_value))"
   ]
  },
  {
   "cell_type": "markdown",
   "metadata": {},
   "source": [
    "### Two-way ANOVA"
   ]
  },
  {
   "cell_type": "code",
   "execution_count": null,
   "metadata": {},
   "outputs": [],
   "source": [
    "mod1 = ols('len~supp+dose', data=df).fit()"
   ]
  },
  {
   "cell_type": "code",
   "execution_count": null,
   "metadata": {},
   "outputs": [],
   "source": [
    "aov1 = sm.stats.anova_lm(mod1,typ=2)"
   ]
  },
  {
   "cell_type": "code",
   "execution_count": null,
   "metadata": {},
   "outputs": [],
   "source": [
    "aov1"
   ]
  },
  {
   "cell_type": "markdown",
   "metadata": {},
   "source": [
    "### Chi-square"
   ]
  },
  {
   "cell_type": "markdown",
   "metadata": {},
   "source": [
    "State the hypothesis:\n",
    "\n",
    "-   $H_0:$ The proportion of teachers who are tenured is independent of gender\n",
    "-   $H_1:$ The proportion of teachers who are tenured is associated with gender"
   ]
  },
  {
   "cell_type": "code",
   "execution_count": null,
   "metadata": {},
   "outputs": [],
   "source": [
    "#Create a Cross-tab table\n",
    "\n",
    "cont_table  = pd.crosstab(ratings_df['tenure'], ratings_df['gender'])\n",
    "cont_table"
   ]
  },
  {
   "cell_type": "code",
   "execution_count": null,
   "metadata": {},
   "outputs": [],
   "source": [
    "scipy.stats.chi2_contingency(cont_table, correction = True)"
   ]
  },
  {
   "cell_type": "code",
   "execution_count": null,
   "metadata": {},
   "outputs": [],
   "source": [
    "chi_square = scipy.stats.chi2_contingency(cont_table, correction = True)"
   ]
  },
  {
   "cell_type": "code",
   "execution_count": null,
   "metadata": {},
   "outputs": [],
   "source": [
    "print(f\"Chi score is\", chi_square[0])"
   ]
  },
  {
   "cell_type": "code",
   "execution_count": null,
   "metadata": {},
   "outputs": [],
   "source": [
    "print(\"P-value is\", chi_square[1])"
   ]
  },
  {
   "cell_type": "code",
   "execution_count": null,
   "metadata": {},
   "outputs": [],
   "source": [
    "print(\"Degrees of freedom is\", chi_square[2])"
   ]
  },
  {
   "cell_type": "markdown",
   "metadata": {},
   "source": [
    "### Correlation"
   ]
  },
  {
   "cell_type": "markdown",
   "metadata": {},
   "source": [
    "State the hypothesis:\n",
    "\n",
    "-   $H_0:$ Teaching evaluation score is not correlated with beauty score\n",
    "-   $H_1:$ Teaching evaluation score is correlated with beauty score\n"
   ]
  },
  {
   "cell_type": "code",
   "execution_count": null,
   "metadata": {},
   "outputs": [],
   "source": [
    "pearson_correlation = scipy.stats.pearsonr(ratings_df['beauty'], ratings_df['eval'])"
   ]
  },
  {
   "cell_type": "code",
   "execution_count": null,
   "metadata": {},
   "outputs": [],
   "source": [
    "print(\"Pearson's correlation coefficient is\", pearson_correlation[0])"
   ]
  },
  {
   "cell_type": "code",
   "execution_count": null,
   "metadata": {},
   "outputs": [],
   "source": [
    "print(\"P-value is\", pearson_correlation[1])"
   ]
  },
  {
   "cell_type": "markdown",
   "metadata": {},
   "source": [
    "## Data Preprocessing"
   ]
  },
  {
   "cell_type": "markdown",
   "metadata": {},
   "source": [
    "### Feature Engineering"
   ]
  },
  {
   "cell_type": "code",
   "execution_count": null,
   "metadata": {},
   "outputs": [],
   "source": []
  },
  {
   "cell_type": "code",
   "execution_count": null,
   "metadata": {},
   "outputs": [],
   "source": []
  },
  {
   "cell_type": "markdown",
   "metadata": {},
   "source": [
    "### Equal Width Discretization"
   ]
  },
  {
   "cell_type": "code",
   "execution_count": null,
   "metadata": {},
   "outputs": [],
   "source": [
    "df[\"demoscorecat\"] = df[\"polityscore\"] #Make a copy"
   ]
  },
  {
   "cell_type": "code",
   "execution_count": null,
   "metadata": {},
   "outputs": [],
   "source": [
    "disc = EqualWidthDiscretiser(bins=4, variables=['demoscorecat'], return_object=True)"
   ]
  },
  {
   "cell_type": "code",
   "execution_count": null,
   "metadata": {},
   "outputs": [],
   "source": [
    "disc"
   ]
  },
  {
   "cell_type": "code",
   "execution_count": null,
   "metadata": {},
   "outputs": [],
   "source": [
    "disc.fit(df)"
   ]
  },
  {
   "cell_type": "code",
   "execution_count": null,
   "metadata": {},
   "outputs": [],
   "source": [
    "disc.binner_dict_"
   ]
  },
  {
   "cell_type": "code",
   "execution_count": null,
   "metadata": {},
   "outputs": [],
   "source": [
    "df2 = disc.fit_transform(df)\n",
    "df2.head()"
   ]
  },
  {
   "cell_type": "code",
   "execution_count": null,
   "metadata": {},
   "outputs": [],
   "source": [
    "df2[\"demoscorecat\"].value_counts().plot.bar()\n",
    "plt.show()"
   ]
  },
  {
   "cell_type": "markdown",
   "metadata": {},
   "source": [
    "### Equal Frequency Discretizer"
   ]
  },
  {
   "cell_type": "code",
   "execution_count": null,
   "metadata": {},
   "outputs": [],
   "source": [
    "df2[\"co2cat\"] = df2[\"co2emissions\"] #Make a copy"
   ]
  },
  {
   "cell_type": "code",
   "execution_count": null,
   "metadata": {},
   "outputs": [],
   "source": [
    "disc = EqualFrequencyDiscretiser(q=5, variables=['co2cat'])"
   ]
  },
  {
   "cell_type": "code",
   "execution_count": null,
   "metadata": {},
   "outputs": [],
   "source": [
    "disc.fit(df2)"
   ]
  },
  {
   "cell_type": "code",
   "execution_count": null,
   "metadata": {},
   "outputs": [],
   "source": [
    "disc.binner_dict_"
   ]
  },
  {
   "cell_type": "code",
   "execution_count": null,
   "metadata": {},
   "outputs": [],
   "source": [
    "df3 = disc.transform(df2)\n",
    "df3.head()"
   ]
  },
  {
   "cell_type": "code",
   "execution_count": null,
   "metadata": {},
   "outputs": [],
   "source": [
    "df3[\"co2cat\"].value_counts().plot.bar()\n",
    "plt.show()"
   ]
  },
  {
   "cell_type": "markdown",
   "metadata": {},
   "source": [
    "### Discretisation + OrdinalEncoder"
   ]
  },
  {
   "cell_type": "code",
   "execution_count": null,
   "metadata": {},
   "outputs": [],
   "source": [
    "### Choose which columns to be discretized first\n",
    "df3[\"incomecat\"] = df3[\"incomeperperson\"] #Make a copy\n",
    "df3[\"alccat\"] = df3[\"alcconsumption\"] #Make a copy"
   ]
  },
  {
   "cell_type": "code",
   "execution_count": null,
   "metadata": {},
   "outputs": [],
   "source": [
    "df3.head()"
   ]
  },
  {
   "cell_type": "code",
   "execution_count": null,
   "metadata": {},
   "outputs": [],
   "source": [
    "# to encode variables we need them returned as objects for feature-engine\n",
    "disc = EqualFrequencyDiscretiser(q=5, variables=['incomecat','alccat'], return_object=True)"
   ]
  },
  {
   "cell_type": "code",
   "execution_count": null,
   "metadata": {},
   "outputs": [],
   "source": [
    "df4 = disc.fit_transform(df3)\n",
    "df4.head()"
   ]
  },
  {
   "cell_type": "code",
   "execution_count": null,
   "metadata": {},
   "outputs": [],
   "source": [
    "df4[\"incomecat\"].value_counts().plot.bar()\n",
    "df4[\"alccat\"].value_counts().plot.bar()\n",
    "plt.show()"
   ]
  },
  {
   "cell_type": "code",
   "execution_count": null,
   "metadata": {},
   "outputs": [],
   "source": [
    "# Set y = target variable, and x = independant variables (both must be objects)"
   ]
  },
  {
   "cell_type": "code",
   "execution_count": null,
   "metadata": {},
   "outputs": [],
   "source": [
    "df5 = df4[['demoscorecat','incomecat', 'alccat']]\n",
    "df5.head()"
   ]
  },
  {
   "cell_type": "code",
   "execution_count": null,
   "metadata": {},
   "outputs": [],
   "source": [
    "df5.dtypes"
   ]
  },
  {
   "cell_type": "code",
   "execution_count": null,
   "metadata": {},
   "outputs": [],
   "source": [
    "df5.groupby('incomecat')['demoscorecat'].mean().plot()\n",
    "plt.show()"
   ]
  },
  {
   "cell_type": "code",
   "execution_count": null,
   "metadata": {},
   "outputs": [],
   "source": [
    "df5.groupby('alccat')['demoscorecat'].mean().plot()\n",
    "plt.show()"
   ]
  },
  {
   "cell_type": "code",
   "execution_count": null,
   "metadata": {},
   "outputs": [],
   "source": [
    "enc = OrdinalEncoder(encoding_method = 'ordered')"
   ]
  },
  {
   "cell_type": "code",
   "execution_count": null,
   "metadata": {},
   "outputs": [],
   "source": [
    "X = df5[['incomecat', 'alccat']]"
   ]
  },
  {
   "cell_type": "code",
   "execution_count": null,
   "metadata": {},
   "outputs": [],
   "source": [
    "y = df5['demoscorecat']"
   ]
  },
  {
   "cell_type": "code",
   "execution_count": null,
   "metadata": {},
   "outputs": [],
   "source": [
    "enc.fit(X, y)"
   ]
  },
  {
   "cell_type": "code",
   "execution_count": null,
   "metadata": {},
   "outputs": [],
   "source": [
    "X_transform = enc.transform(X)"
   ]
  },
  {
   "cell_type": "code",
   "execution_count": null,
   "metadata": {},
   "outputs": [],
   "source": [
    "enc.encoder_dict_"
   ]
  },
  {
   "cell_type": "code",
   "execution_count": null,
   "metadata": {},
   "outputs": [],
   "source": [
    "X_transform  # Transformed for monotonic relationship"
   ]
  },
  {
   "cell_type": "code",
   "execution_count": null,
   "metadata": {},
   "outputs": [],
   "source": [
    "pd.concat([X_transform, y], axis=1)"
   ]
  },
  {
   "cell_type": "code",
   "execution_count": null,
   "metadata": {},
   "outputs": [],
   "source": [
    "pd.concat([X_transform, y], axis=1).groupby('incomecat')['demoscorecat'].mean().plot()\n",
    "plt.show()"
   ]
  },
  {
   "cell_type": "markdown",
   "metadata": {},
   "source": [
    "### Discretisation with Decision Trees"
   ]
  },
  {
   "cell_type": "code",
   "execution_count": null,
   "metadata": {},
   "outputs": [],
   "source": [
    "df4['electricat'] = df4['relectricperperson'] #Make a copy"
   ]
  },
  {
   "cell_type": "code",
   "execution_count": null,
   "metadata": {},
   "outputs": [],
   "source": [
    "df4.head()"
   ]
  },
  {
   "cell_type": "code",
   "execution_count": null,
   "metadata": {},
   "outputs": [],
   "source": [
    "# Let y = demoscorecat, and x = electricat, breastcancerper100th\n",
    "\n",
    "df6 = df4[['breastcancerper100th','electricat','demoscorecat']]\n",
    "df6.head()"
   ]
  },
  {
   "cell_type": "code",
   "execution_count": null,
   "metadata": {},
   "outputs": [],
   "source": [
    "X = df6[['breastcancerper100th','electricat']]\n",
    "y = df6['demoscorecat']"
   ]
  },
  {
   "cell_type": "code",
   "execution_count": null,
   "metadata": {},
   "outputs": [],
   "source": [
    "# set up the decision tree discretiser indicating:\n",
    "# cross-validation number (cv)\n",
    "# how to evaluate model performance (scoring)\n",
    "# the variables we want to discretise (variables)\n",
    "# whether it is a target for regression or classification\n",
    "# and the grid with the parameters we want to test\n",
    "\n",
    "treeDisc = DecisionTreeDiscretiser(cv=5, scoring='accuracy', variables=['electricat'], regression=False,\n",
    "                                  param_grid={'max_depth':[1,2,3], 'min_samples_leaf':[2,4,6]})"
   ]
  },
  {
   "cell_type": "code",
   "execution_count": null,
   "metadata": {},
   "outputs": [],
   "source": [
    "treeDisc.fit(X,y)"
   ]
  },
  {
   "cell_type": "code",
   "execution_count": null,
   "metadata": {},
   "outputs": [],
   "source": [
    "treeDisc.binner_dict_['electricat'].best_params_"
   ]
  },
  {
   "cell_type": "code",
   "execution_count": null,
   "metadata": {},
   "outputs": [],
   "source": [
    "treeDisc.scores_dict_['electricat']"
   ]
  },
  {
   "cell_type": "code",
   "execution_count": null,
   "metadata": {},
   "outputs": [],
   "source": [
    "X_transform = treeDisc.transform(X) #Only electricat column"
   ]
  },
  {
   "cell_type": "code",
   "execution_count": null,
   "metadata": {},
   "outputs": [],
   "source": [
    "X_transform"
   ]
  },
  {
   "cell_type": "code",
   "execution_count": null,
   "metadata": {},
   "outputs": [],
   "source": [
    "X_transform.electricat.unique()"
   ]
  },
  {
   "cell_type": "code",
   "execution_count": null,
   "metadata": {},
   "outputs": [],
   "source": [
    "# monotonic relationship with target: train set\n",
    "\n",
    "pd.concat([X_transform, y],axis=1)"
   ]
  },
  {
   "cell_type": "markdown",
   "metadata": {},
   "source": [
    "### Drop unwanted features"
   ]
  },
  {
   "cell_type": "code",
   "execution_count": null,
   "metadata": {},
   "outputs": [],
   "source": [
    "df.columns"
   ]
  },
  {
   "cell_type": "code",
   "execution_count": null,
   "metadata": {},
   "outputs": [],
   "source": [
    "df.drop()"
   ]
  },
  {
   "cell_type": "markdown",
   "metadata": {},
   "source": [
    "### Treat Missing Values"
   ]
  },
  {
   "cell_type": "code",
   "execution_count": null,
   "metadata": {},
   "outputs": [],
   "source": [
    "df.isnull().sum()"
   ]
  },
  {
   "cell_type": "code",
   "execution_count": null,
   "metadata": {},
   "outputs": [],
   "source": [
    "df[''] = df[''].replace(np.nan,df.mean())"
   ]
  },
  {
   "cell_type": "code",
   "execution_count": null,
   "metadata": {},
   "outputs": [],
   "source": [
    "#imputer = mdi.MeanMedianImputer(imputation_method='median',variables=None)"
   ]
  },
  {
   "cell_type": "code",
   "execution_count": null,
   "metadata": {},
   "outputs": [],
   "source": [
    "#imputer.fit(df)"
   ]
  },
  {
   "cell_type": "code",
   "execution_count": null,
   "metadata": {},
   "outputs": [],
   "source": [
    "#df = imputer.transform(df)"
   ]
  },
  {
   "cell_type": "code",
   "execution_count": null,
   "metadata": {},
   "outputs": [],
   "source": [
    "df.isnull().sum()"
   ]
  },
  {
   "cell_type": "markdown",
   "metadata": {},
   "source": [
    "### Replacing values"
   ]
  },
  {
   "cell_type": "code",
   "execution_count": null,
   "metadata": {},
   "outputs": [],
   "source": [
    "df.replace()"
   ]
  },
  {
   "cell_type": "code",
   "execution_count": null,
   "metadata": {},
   "outputs": [],
   "source": []
  },
  {
   "cell_type": "markdown",
   "metadata": {},
   "source": [
    "### Rounding Values"
   ]
  },
  {
   "cell_type": "code",
   "execution_count": null,
   "metadata": {},
   "outputs": [],
   "source": [
    "###pandas.DataFrame.round\n",
    "df[['internetuserate']] = df[['internetuserate']].round(decimals=0)"
   ]
  },
  {
   "cell_type": "code",
   "execution_count": null,
   "metadata": {},
   "outputs": [],
   "source": []
  },
  {
   "cell_type": "markdown",
   "metadata": {},
   "source": [
    "### Treat Duplicate Values"
   ]
  },
  {
   "cell_type": "code",
   "execution_count": null,
   "metadata": {},
   "outputs": [],
   "source": [
    "df.duplicated(keep='first').sum()"
   ]
  },
  {
   "cell_type": "code",
   "execution_count": null,
   "metadata": {},
   "outputs": [],
   "source": [
    "df[df.duplicated(keep=False)] #Check duplicate values"
   ]
  },
  {
   "cell_type": "code",
   "execution_count": null,
   "metadata": {},
   "outputs": [],
   "source": [
    "df.drop_duplicates(ignore_index=True, inplace=True)"
   ]
  },
  {
   "cell_type": "code",
   "execution_count": null,
   "metadata": {},
   "outputs": [],
   "source": []
  },
  {
   "cell_type": "markdown",
   "metadata": {},
   "source": [
    "### Treat Outliers"
   ]
  },
  {
   "cell_type": "code",
   "execution_count": null,
   "metadata": {},
   "outputs": [],
   "source": [
    "df.columns"
   ]
  },
  {
   "cell_type": "code",
   "execution_count": null,
   "metadata": {},
   "outputs": [],
   "source": [
    "df.describe()"
   ]
  },
  {
   "cell_type": "code",
   "execution_count": null,
   "metadata": {},
   "outputs": [],
   "source": [
    "#windsorizer = Winsorizer(distribution='skewed',tail='both',fold=1.5, variables=[])"
   ]
  },
  {
   "cell_type": "code",
   "execution_count": null,
   "metadata": {},
   "outputs": [],
   "source": [
    "#windsorizer.fit(df)"
   ]
  },
  {
   "cell_type": "code",
   "execution_count": null,
   "metadata": {},
   "outputs": [],
   "source": [
    "#df2 = windsorizer.transform(df)"
   ]
  },
  {
   "cell_type": "code",
   "execution_count": null,
   "metadata": {},
   "outputs": [],
   "source": [
    "#df2"
   ]
  },
  {
   "cell_type": "code",
   "execution_count": null,
   "metadata": {},
   "outputs": [],
   "source": [
    "#df2.describe()"
   ]
  },
  {
   "cell_type": "code",
   "execution_count": null,
   "metadata": {},
   "outputs": [],
   "source": [
    "#windsorizer.left_tail_caps_"
   ]
  },
  {
   "cell_type": "code",
   "execution_count": null,
   "metadata": {},
   "outputs": [],
   "source": [
    "#windsorizer.right_tail_caps_"
   ]
  },
  {
   "cell_type": "markdown",
   "metadata": {},
   "source": [
    "### One-hot encoding"
   ]
  },
  {
   "cell_type": "code",
   "execution_count": null,
   "metadata": {},
   "outputs": [],
   "source": [
    "df.info()"
   ]
  },
  {
   "cell_type": "code",
   "execution_count": null,
   "metadata": {},
   "outputs": [],
   "source": [
    "df[\"has_gas\"] = pd.get_dummies(data=df[\"has_gas\"],drop_first=True)"
   ]
  },
  {
   "cell_type": "code",
   "execution_count": null,
   "metadata": {},
   "outputs": [],
   "source": []
  },
  {
   "cell_type": "markdown",
   "metadata": {},
   "source": [
    "### Save to CSV"
   ]
  },
  {
   "cell_type": "code",
   "execution_count": null,
   "metadata": {},
   "outputs": [],
   "source": [
    "df.to_csv(\"filename.csv\", index=False)"
   ]
  },
  {
   "cell_type": "markdown",
   "metadata": {},
   "source": [
    "## Regression Analysis"
   ]
  },
  {
   "cell_type": "markdown",
   "metadata": {},
   "source": [
    "### Linear Regression"
   ]
  },
  {
   "cell_type": "code",
   "execution_count": null,
   "metadata": {},
   "outputs": [],
   "source": [
    "df.columns"
   ]
  },
  {
   "cell_type": "code",
   "execution_count": null,
   "metadata": {},
   "outputs": [],
   "source": [
    "y = df['ExpirationMonth']\n",
    "X = df['NumStores']"
   ]
  },
  {
   "cell_type": "code",
   "execution_count": null,
   "metadata": {},
   "outputs": [],
   "source": [
    "X = sm.add_constant(X)"
   ]
  },
  {
   "cell_type": "code",
   "execution_count": null,
   "metadata": {},
   "outputs": [],
   "source": [
    "model = sm.OLS(y,X).fit()"
   ]
  },
  {
   "cell_type": "code",
   "execution_count": null,
   "metadata": {},
   "outputs": [],
   "source": [
    "model.summary()"
   ]
  },
  {
   "cell_type": "code",
   "execution_count": null,
   "metadata": {},
   "outputs": [],
   "source": [
    "prediction = model.predict(x)"
   ]
  },
  {
   "cell_type": "code",
   "execution_count": null,
   "metadata": {},
   "outputs": [],
   "source": []
  },
  {
   "cell_type": "code",
   "execution_count": null,
   "metadata": {},
   "outputs": [],
   "source": [
    "linreg = smf.ols(formula='Lottery ~ Literacy + Wealth + Region', data=df).fit()"
   ]
  },
  {
   "cell_type": "code",
   "execution_count": null,
   "metadata": {},
   "outputs": [],
   "source": []
  },
  {
   "cell_type": "markdown",
   "metadata": {},
   "source": [
    "### Residual Plots"
   ]
  },
  {
   "cell_type": "code",
   "execution_count": null,
   "metadata": {},
   "outputs": [],
   "source": [
    "fig = plt.figure(figsize=(12,8))\n",
    "fig = sm.graphics.plot_regress_exog(model, 'x_variables', fig=fig)"
   ]
  },
  {
   "cell_type": "markdown",
   "metadata": {},
   "source": [
    "### Logistic Regression"
   ]
  },
  {
   "cell_type": "code",
   "execution_count": null,
   "metadata": {},
   "outputs": [],
   "source": [
    "y = df['ExpirationMonth']\n",
    "X = df['NumStores']"
   ]
  },
  {
   "cell_type": "code",
   "execution_count": null,
   "metadata": {},
   "outputs": [],
   "source": [
    "X = sm.add_constant(X)"
   ]
  },
  {
   "cell_type": "code",
   "execution_count": null,
   "metadata": {},
   "outputs": [],
   "source": [
    "model = sm.Logit(y, X).fit()"
   ]
  },
  {
   "cell_type": "code",
   "execution_count": null,
   "metadata": {},
   "outputs": [],
   "source": [
    "model.summary()"
   ]
  },
  {
   "cell_type": "code",
   "execution_count": null,
   "metadata": {},
   "outputs": [],
   "source": [
    "logitfit = smf.logit(formula = 'DF ~ Debt_Service_Coverage + cash_security_to_curLiab + TNW', data = hgc).fit()"
   ]
  },
  {
   "cell_type": "code",
   "execution_count": null,
   "metadata": {},
   "outputs": [],
   "source": [
    "logitfit = smf.logit(formula = 'DF ~ TNW + C(seg2)', data = hgcdev).fit()"
   ]
  },
  {
   "cell_type": "markdown",
   "metadata": {},
   "source": [
    "#### Python code done by Dennis Lam"
   ]
  },
  {
   "cell_type": "code",
   "execution_count": null,
   "metadata": {},
   "outputs": [],
   "source": []
  }
 ],
 "metadata": {
  "kernelspec": {
   "display_name": "Python 3",
   "language": "python",
   "name": "python3"
  },
  "language_info": {
   "codemirror_mode": {
    "name": "ipython",
    "version": 3
   },
   "file_extension": ".py",
   "mimetype": "text/x-python",
   "name": "python",
   "nbconvert_exporter": "python",
   "pygments_lexer": "ipython3",
   "version": "3.8.8"
  }
 },
 "nbformat": 4,
 "nbformat_minor": 4
}
